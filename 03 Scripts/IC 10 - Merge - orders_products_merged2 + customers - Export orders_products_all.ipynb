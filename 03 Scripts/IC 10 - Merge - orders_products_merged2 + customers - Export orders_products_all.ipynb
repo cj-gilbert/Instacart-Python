{
 "cells": [
  {
   "cell_type": "markdown",
   "id": "93fc0611",
   "metadata": {},
   "source": [
    "# Table of contents\n",
    "\n",
    "0.1 Importing Libraries\n",
    "\n",
    "0.2 Importing Data\n",
    "\n",
    "0.3 Exploring Original Dfs\n",
    "\n",
    "0.4 Merge\n",
    "\n",
    "0.5 Checking Merge\n",
    "\n",
    "0.6 Removing Merge Flag\n",
    "\n",
    "0.7 Exporting Merge"
   ]
  },
  {
   "cell_type": "markdown",
   "id": "cc8dcbd1",
   "metadata": {},
   "source": [
    "### 0.1 Importing Libraries"
   ]
  },
  {
   "cell_type": "code",
   "execution_count": 1,
   "id": "9709810d",
   "metadata": {},
   "outputs": [],
   "source": [
    "# Import libraries\n",
    "import pandas as pd\n",
    "import numpy as np\n",
    "import os"
   ]
  },
  {
   "cell_type": "markdown",
   "id": "b5b185b2",
   "metadata": {},
   "source": [
    "### 0.2 Importing Data"
   ]
  },
  {
   "cell_type": "code",
   "execution_count": 2,
   "id": "6e7f5881",
   "metadata": {},
   "outputs": [],
   "source": [
    "# Identify the file pathway to data files\n",
    "path = r'C:\\Users\\CJ\\Documents\\_CJ-Stuff\\Career Foundry\\Data Immersion\\Ach 4 - Python\\2023-03 Instacart Basket Analysis'"
   ]
  },
  {
   "cell_type": "code",
   "execution_count": 3,
   "id": "f8ca6a0b",
   "metadata": {
    "scrolled": true
   },
   "outputs": [],
   "source": [
    "# Import data from 'customers_clean.pkl'\n",
    "cust = pd.read_pickle(os.path.join(path, '02 Data', 'Prepared Data', 'customers_clean.pkl'))"
   ]
  },
  {
   "cell_type": "code",
   "execution_count": 4,
   "id": "fa1b63cc",
   "metadata": {},
   "outputs": [],
   "source": [
    "# Import data from 'orders_products_merged_4.pkl'\n",
    "orders = pd.read_pickle(os.path.join(path, '02 Data', 'Prepared Data', 'orders_products_merged2.pkl'))"
   ]
  },
  {
   "cell_type": "markdown",
   "id": "a5bc9d6c",
   "metadata": {},
   "source": [
    "### 0.3 Exploring Original Dfs"
   ]
  },
  {
   "cell_type": "code",
   "execution_count": 5,
   "id": "41f99131",
   "metadata": {
    "scrolled": true
   },
   "outputs": [
    {
     "data": {
      "text/plain": [
       "(206209, 8)"
      ]
     },
     "execution_count": 5,
     "metadata": {},
     "output_type": "execute_result"
    }
   ],
   "source": [
    "cust.shape"
   ]
  },
  {
   "cell_type": "code",
   "execution_count": 6,
   "id": "8d384e35",
   "metadata": {},
   "outputs": [
    {
     "data": {
      "text/plain": [
       "(32434489, 26)"
      ]
     },
     "execution_count": 6,
     "metadata": {},
     "output_type": "execute_result"
    }
   ],
   "source": [
    "orders.shape"
   ]
  },
  {
   "cell_type": "markdown",
   "id": "514c3fc2",
   "metadata": {},
   "source": [
    "The merged df should have 32,434,489 rows and 34 columns\n",
    "(8 + 26 + 1 merge flag - 1 key overlap)"
   ]
  },
  {
   "cell_type": "code",
   "execution_count": 7,
   "id": "f0f5df72",
   "metadata": {
    "scrolled": true
   },
   "outputs": [
    {
     "data": {
      "text/html": [
       "<div>\n",
       "<style scoped>\n",
       "    .dataframe tbody tr th:only-of-type {\n",
       "        vertical-align: middle;\n",
       "    }\n",
       "\n",
       "    .dataframe tbody tr th {\n",
       "        vertical-align: top;\n",
       "    }\n",
       "\n",
       "    .dataframe thead th {\n",
       "        text-align: right;\n",
       "    }\n",
       "</style>\n",
       "<table border=\"1\" class=\"dataframe\">\n",
       "  <thead>\n",
       "    <tr style=\"text-align: right;\">\n",
       "      <th></th>\n",
       "      <th>user_id</th>\n",
       "      <th>gender</th>\n",
       "      <th>state</th>\n",
       "      <th>age</th>\n",
       "      <th>date_joined</th>\n",
       "      <th>n_dependants</th>\n",
       "      <th>fam_status</th>\n",
       "      <th>income</th>\n",
       "    </tr>\n",
       "  </thead>\n",
       "  <tbody>\n",
       "    <tr>\n",
       "      <th>0</th>\n",
       "      <td>26711</td>\n",
       "      <td>Female</td>\n",
       "      <td>Missouri</td>\n",
       "      <td>48</td>\n",
       "      <td>2017-01-01</td>\n",
       "      <td>3</td>\n",
       "      <td>married</td>\n",
       "      <td>165665</td>\n",
       "    </tr>\n",
       "    <tr>\n",
       "      <th>1</th>\n",
       "      <td>33890</td>\n",
       "      <td>Female</td>\n",
       "      <td>New Mexico</td>\n",
       "      <td>36</td>\n",
       "      <td>2017-01-01</td>\n",
       "      <td>0</td>\n",
       "      <td>single</td>\n",
       "      <td>59285</td>\n",
       "    </tr>\n",
       "    <tr>\n",
       "      <th>2</th>\n",
       "      <td>65803</td>\n",
       "      <td>Male</td>\n",
       "      <td>Idaho</td>\n",
       "      <td>35</td>\n",
       "      <td>2017-01-01</td>\n",
       "      <td>2</td>\n",
       "      <td>married</td>\n",
       "      <td>99568</td>\n",
       "    </tr>\n",
       "    <tr>\n",
       "      <th>3</th>\n",
       "      <td>125935</td>\n",
       "      <td>Female</td>\n",
       "      <td>Iowa</td>\n",
       "      <td>40</td>\n",
       "      <td>2017-01-01</td>\n",
       "      <td>0</td>\n",
       "      <td>single</td>\n",
       "      <td>42049</td>\n",
       "    </tr>\n",
       "    <tr>\n",
       "      <th>4</th>\n",
       "      <td>130797</td>\n",
       "      <td>Female</td>\n",
       "      <td>Maryland</td>\n",
       "      <td>26</td>\n",
       "      <td>2017-01-01</td>\n",
       "      <td>1</td>\n",
       "      <td>married</td>\n",
       "      <td>40374</td>\n",
       "    </tr>\n",
       "  </tbody>\n",
       "</table>\n",
       "</div>"
      ],
      "text/plain": [
       "   user_id  gender       state  age date_joined  n_dependants fam_status  \\\n",
       "0    26711  Female    Missouri   48  2017-01-01             3    married   \n",
       "1    33890  Female  New Mexico   36  2017-01-01             0     single   \n",
       "2    65803    Male       Idaho   35  2017-01-01             2    married   \n",
       "3   125935  Female        Iowa   40  2017-01-01             0     single   \n",
       "4   130797  Female    Maryland   26  2017-01-01             1    married   \n",
       "\n",
       "   income  \n",
       "0  165665  \n",
       "1   59285  \n",
       "2   99568  \n",
       "3   42049  \n",
       "4   40374  "
      ]
     },
     "execution_count": 7,
     "metadata": {},
     "output_type": "execute_result"
    }
   ],
   "source": [
    "cust.head()"
   ]
  },
  {
   "cell_type": "code",
   "execution_count": 8,
   "id": "46a2dc8d",
   "metadata": {},
   "outputs": [
    {
     "data": {
      "text/html": [
       "<div>\n",
       "<style scoped>\n",
       "    .dataframe tbody tr th:only-of-type {\n",
       "        vertical-align: middle;\n",
       "    }\n",
       "\n",
       "    .dataframe tbody tr th {\n",
       "        vertical-align: top;\n",
       "    }\n",
       "\n",
       "    .dataframe thead th {\n",
       "        text-align: right;\n",
       "    }\n",
       "</style>\n",
       "<table border=\"1\" class=\"dataframe\">\n",
       "  <thead>\n",
       "    <tr style=\"text-align: right;\">\n",
       "      <th></th>\n",
       "      <th>order_id</th>\n",
       "      <th>user_id</th>\n",
       "      <th>order_number</th>\n",
       "      <th>order_day_of_week</th>\n",
       "      <th>order_hour_of_day</th>\n",
       "      <th>days_since_prior_order</th>\n",
       "      <th>first_order_of_new_customer</th>\n",
       "      <th>product_id</th>\n",
       "      <th>add_to_cart_order</th>\n",
       "      <th>reordered</th>\n",
       "      <th>...</th>\n",
       "      <th>price_range</th>\n",
       "      <th>busiest_day</th>\n",
       "      <th>busiest_days</th>\n",
       "      <th>busiest_period_of_day</th>\n",
       "      <th>max_order</th>\n",
       "      <th>loyalty_flag</th>\n",
       "      <th>mean_spending</th>\n",
       "      <th>spender_type</th>\n",
       "      <th>median_days_since_ordering</th>\n",
       "      <th>frequent_shopper</th>\n",
       "    </tr>\n",
       "  </thead>\n",
       "  <tbody>\n",
       "    <tr>\n",
       "      <th>0</th>\n",
       "      <td>2539329</td>\n",
       "      <td>1</td>\n",
       "      <td>1</td>\n",
       "      <td>2</td>\n",
       "      <td>8</td>\n",
       "      <td>NaN</td>\n",
       "      <td>True</td>\n",
       "      <td>196</td>\n",
       "      <td>1</td>\n",
       "      <td>0</td>\n",
       "      <td>...</td>\n",
       "      <td>Mid-range product</td>\n",
       "      <td>Regularly busy</td>\n",
       "      <td>Regularly busy days</td>\n",
       "      <td>Average orders</td>\n",
       "      <td>10</td>\n",
       "      <td>New customer</td>\n",
       "      <td>6.367797</td>\n",
       "      <td>Low spender</td>\n",
       "      <td>20.0</td>\n",
       "      <td>Regular customer</td>\n",
       "    </tr>\n",
       "    <tr>\n",
       "      <th>1</th>\n",
       "      <td>2539329</td>\n",
       "      <td>1</td>\n",
       "      <td>1</td>\n",
       "      <td>2</td>\n",
       "      <td>8</td>\n",
       "      <td>NaN</td>\n",
       "      <td>True</td>\n",
       "      <td>14084</td>\n",
       "      <td>2</td>\n",
       "      <td>0</td>\n",
       "      <td>...</td>\n",
       "      <td>Mid-range product</td>\n",
       "      <td>Regularly busy</td>\n",
       "      <td>Regularly busy days</td>\n",
       "      <td>Average orders</td>\n",
       "      <td>10</td>\n",
       "      <td>New customer</td>\n",
       "      <td>6.367797</td>\n",
       "      <td>Low spender</td>\n",
       "      <td>20.0</td>\n",
       "      <td>Regular customer</td>\n",
       "    </tr>\n",
       "    <tr>\n",
       "      <th>2</th>\n",
       "      <td>2539329</td>\n",
       "      <td>1</td>\n",
       "      <td>1</td>\n",
       "      <td>2</td>\n",
       "      <td>8</td>\n",
       "      <td>NaN</td>\n",
       "      <td>True</td>\n",
       "      <td>12427</td>\n",
       "      <td>3</td>\n",
       "      <td>0</td>\n",
       "      <td>...</td>\n",
       "      <td>Low-range product</td>\n",
       "      <td>Regularly busy</td>\n",
       "      <td>Regularly busy days</td>\n",
       "      <td>Average orders</td>\n",
       "      <td>10</td>\n",
       "      <td>New customer</td>\n",
       "      <td>6.367797</td>\n",
       "      <td>Low spender</td>\n",
       "      <td>20.0</td>\n",
       "      <td>Regular customer</td>\n",
       "    </tr>\n",
       "    <tr>\n",
       "      <th>3</th>\n",
       "      <td>2539329</td>\n",
       "      <td>1</td>\n",
       "      <td>1</td>\n",
       "      <td>2</td>\n",
       "      <td>8</td>\n",
       "      <td>NaN</td>\n",
       "      <td>True</td>\n",
       "      <td>26088</td>\n",
       "      <td>4</td>\n",
       "      <td>0</td>\n",
       "      <td>...</td>\n",
       "      <td>Low-range product</td>\n",
       "      <td>Regularly busy</td>\n",
       "      <td>Regularly busy days</td>\n",
       "      <td>Average orders</td>\n",
       "      <td>10</td>\n",
       "      <td>New customer</td>\n",
       "      <td>6.367797</td>\n",
       "      <td>Low spender</td>\n",
       "      <td>20.0</td>\n",
       "      <td>Regular customer</td>\n",
       "    </tr>\n",
       "    <tr>\n",
       "      <th>4</th>\n",
       "      <td>2539329</td>\n",
       "      <td>1</td>\n",
       "      <td>1</td>\n",
       "      <td>2</td>\n",
       "      <td>8</td>\n",
       "      <td>NaN</td>\n",
       "      <td>True</td>\n",
       "      <td>26405</td>\n",
       "      <td>5</td>\n",
       "      <td>0</td>\n",
       "      <td>...</td>\n",
       "      <td>Low-range product</td>\n",
       "      <td>Regularly busy</td>\n",
       "      <td>Regularly busy days</td>\n",
       "      <td>Average orders</td>\n",
       "      <td>10</td>\n",
       "      <td>New customer</td>\n",
       "      <td>6.367797</td>\n",
       "      <td>Low spender</td>\n",
       "      <td>20.0</td>\n",
       "      <td>Regular customer</td>\n",
       "    </tr>\n",
       "  </tbody>\n",
       "</table>\n",
       "<p>5 rows × 26 columns</p>\n",
       "</div>"
      ],
      "text/plain": [
       "   order_id  user_id  order_number  order_day_of_week  order_hour_of_day  \\\n",
       "0   2539329        1             1                  2                  8   \n",
       "1   2539329        1             1                  2                  8   \n",
       "2   2539329        1             1                  2                  8   \n",
       "3   2539329        1             1                  2                  8   \n",
       "4   2539329        1             1                  2                  8   \n",
       "\n",
       "   days_since_prior_order  first_order_of_new_customer  product_id  \\\n",
       "0                     NaN                         True         196   \n",
       "1                     NaN                         True       14084   \n",
       "2                     NaN                         True       12427   \n",
       "3                     NaN                         True       26088   \n",
       "4                     NaN                         True       26405   \n",
       "\n",
       "   add_to_cart_order  reordered  ...        price_range     busiest_day  \\\n",
       "0                  1          0  ...  Mid-range product  Regularly busy   \n",
       "1                  2          0  ...  Mid-range product  Regularly busy   \n",
       "2                  3          0  ...  Low-range product  Regularly busy   \n",
       "3                  4          0  ...  Low-range product  Regularly busy   \n",
       "4                  5          0  ...  Low-range product  Regularly busy   \n",
       "\n",
       "          busiest_days  busiest_period_of_day  max_order  loyalty_flag  \\\n",
       "0  Regularly busy days         Average orders         10  New customer   \n",
       "1  Regularly busy days         Average orders         10  New customer   \n",
       "2  Regularly busy days         Average orders         10  New customer   \n",
       "3  Regularly busy days         Average orders         10  New customer   \n",
       "4  Regularly busy days         Average orders         10  New customer   \n",
       "\n",
       "  mean_spending spender_type median_days_since_ordering  frequent_shopper  \n",
       "0      6.367797  Low spender                       20.0  Regular customer  \n",
       "1      6.367797  Low spender                       20.0  Regular customer  \n",
       "2      6.367797  Low spender                       20.0  Regular customer  \n",
       "3      6.367797  Low spender                       20.0  Regular customer  \n",
       "4      6.367797  Low spender                       20.0  Regular customer  \n",
       "\n",
       "[5 rows x 26 columns]"
      ]
     },
     "execution_count": 8,
     "metadata": {},
     "output_type": "execute_result"
    }
   ],
   "source": [
    "orders.head()"
   ]
  },
  {
   "cell_type": "code",
   "execution_count": 9,
   "id": "ca700be9",
   "metadata": {
    "scrolled": false
   },
   "outputs": [
    {
     "name": "stdout",
     "output_type": "stream",
     "text": [
      "<class 'pandas.core.frame.DataFrame'>\n",
      "RangeIndex: 206209 entries, 0 to 206208\n",
      "Data columns (total 8 columns):\n",
      " #   Column        Non-Null Count   Dtype         \n",
      "---  ------        --------------   -----         \n",
      " 0   user_id       206209 non-null  int64         \n",
      " 1   gender        206209 non-null  category      \n",
      " 2   state         206209 non-null  category      \n",
      " 3   age           206209 non-null  int16         \n",
      " 4   date_joined   206209 non-null  datetime64[ns]\n",
      " 5   n_dependants  206209 non-null  int8          \n",
      " 6   fam_status    206209 non-null  category      \n",
      " 7   income        206209 non-null  int64         \n",
      "dtypes: category(3), datetime64[ns](1), int16(1), int64(2), int8(1)\n",
      "memory usage: 5.9 MB\n"
     ]
    }
   ],
   "source": [
    "cust.info()"
   ]
  },
  {
   "cell_type": "code",
   "execution_count": 10,
   "id": "0ed87d4a",
   "metadata": {},
   "outputs": [
    {
     "name": "stdout",
     "output_type": "stream",
     "text": [
      "<class 'pandas.core.frame.DataFrame'>\n",
      "Int64Index: 32434489 entries, 0 to 32434488\n",
      "Data columns (total 26 columns):\n",
      " #   Column                       Dtype   \n",
      "---  ------                       -----   \n",
      " 0   order_id                     int64   \n",
      " 1   user_id                      int64   \n",
      " 2   order_number                 int16   \n",
      " 3   order_day_of_week            int8    \n",
      " 4   order_hour_of_day            int8    \n",
      " 5   days_since_prior_order       float16 \n",
      " 6   first_order_of_new_customer  bool    \n",
      " 7   product_id                   int32   \n",
      " 8   add_to_cart_order            int16   \n",
      " 9   reordered                    int8    \n",
      " 10  product_name                 object  \n",
      " 11  aisle_id                     float16 \n",
      " 12  department_id                float16 \n",
      " 13  price                        float32 \n",
      " 14  product_info_available       bool    \n",
      " 15  price_available              bool    \n",
      " 16  price_range                  category\n",
      " 17  busiest_day                  category\n",
      " 18  busiest_days                 category\n",
      " 19  busiest_period_of_day        category\n",
      " 20  max_order                    int16   \n",
      " 21  loyalty_flag                 category\n",
      " 22  mean_spending                float32 \n",
      " 23  spender_type                 category\n",
      " 24  median_days_since_ordering   float16 \n",
      " 25  frequent_shopper             category\n",
      "dtypes: bool(3), category(7), float16(4), float32(2), int16(3), int32(1), int64(2), int8(3), object(1)\n",
      "memory usage: 2.1+ GB\n"
     ]
    }
   ],
   "source": [
    "orders.info()"
   ]
  },
  {
   "cell_type": "markdown",
   "id": "635d1edb",
   "metadata": {},
   "source": [
    "The merge should be on user_id"
   ]
  },
  {
   "cell_type": "code",
   "execution_count": 11,
   "id": "07fafae6",
   "metadata": {},
   "outputs": [
    {
     "data": {
      "text/plain": [
       "user_id         0\n",
       "gender          0\n",
       "state           0\n",
       "age             0\n",
       "date_joined     0\n",
       "n_dependants    0\n",
       "fam_status      0\n",
       "income          0\n",
       "dtype: int64"
      ]
     },
     "execution_count": 11,
     "metadata": {},
     "output_type": "execute_result"
    }
   ],
   "source": [
    "cust.isnull().sum()"
   ]
  },
  {
   "cell_type": "code",
   "execution_count": 12,
   "id": "06ffbbfb",
   "metadata": {},
   "outputs": [
    {
     "data": {
      "text/plain": [
       "order_id                             0\n",
       "user_id                              0\n",
       "order_number                         0\n",
       "order_day_of_week                    0\n",
       "order_hour_of_day                    0\n",
       "days_since_prior_order         2078068\n",
       "first_order_of_new_customer          0\n",
       "product_id                           0\n",
       "add_to_cart_order                    0\n",
       "reordered                            0\n",
       "product_name                     30770\n",
       "aisle_id                         30770\n",
       "department_id                    30770\n",
       "price                            35897\n",
       "product_info_available               0\n",
       "price_available                      0\n",
       "price_range                      35897\n",
       "busiest_day                          0\n",
       "busiest_days                         0\n",
       "busiest_period_of_day                0\n",
       "max_order                            0\n",
       "loyalty_flag                         0\n",
       "mean_spending                        0\n",
       "spender_type                         0\n",
       "median_days_since_ordering           0\n",
       "frequent_shopper                     0\n",
       "dtype: int64"
      ]
     },
     "execution_count": 12,
     "metadata": {},
     "output_type": "execute_result"
    }
   ],
   "source": [
    "orders.isnull().sum()"
   ]
  },
  {
   "cell_type": "code",
   "execution_count": 13,
   "id": "50a9c234",
   "metadata": {
    "scrolled": true
   },
   "outputs": [
    {
     "data": {
      "text/plain": [
       "False    30356421\n",
       "True      2078068\n",
       "Name: first_order_of_new_customer, dtype: int64"
      ]
     },
     "execution_count": 13,
     "metadata": {},
     "output_type": "execute_result"
    }
   ],
   "source": [
    "orders['first_order_of_new_customer'].value_counts()"
   ]
  },
  {
   "cell_type": "code",
   "execution_count": 14,
   "id": "ab7ff032",
   "metadata": {},
   "outputs": [
    {
     "data": {
      "text/plain": [
       "True     32403719\n",
       "False       30770\n",
       "Name: product_info_available, dtype: int64"
      ]
     },
     "execution_count": 14,
     "metadata": {},
     "output_type": "execute_result"
    }
   ],
   "source": [
    "orders['product_info_available'].value_counts()"
   ]
  },
  {
   "cell_type": "code",
   "execution_count": 15,
   "id": "5783cb3c",
   "metadata": {},
   "outputs": [
    {
     "data": {
      "text/plain": [
       "True     32398592\n",
       "False       35897\n",
       "Name: price_available, dtype: int64"
      ]
     },
     "execution_count": 15,
     "metadata": {},
     "output_type": "execute_result"
    }
   ],
   "source": [
    "orders['price_available'].value_counts()"
   ]
  },
  {
   "cell_type": "markdown",
   "id": "8b4f7235",
   "metadata": {},
   "source": [
    "Each of the fields with null/NaN values have appropriate, corresponding flags."
   ]
  },
  {
   "cell_type": "markdown",
   "id": "5a03ee8d",
   "metadata": {},
   "source": [
    "### 0.4 Merge"
   ]
  },
  {
   "cell_type": "code",
   "execution_count": 16,
   "id": "46ec495a",
   "metadata": {},
   "outputs": [],
   "source": [
    "# An exploratory outer merge confirmed that an inner merge \n",
    "# could also be used to capture all records.\n",
    "order_products_all = orders.merge(cust, on = ['user_id'], how = 'inner', indicator= True)"
   ]
  },
  {
   "cell_type": "markdown",
   "id": "24645f4e",
   "metadata": {},
   "source": [
    "### 0.5 Checking Merge"
   ]
  },
  {
   "cell_type": "code",
   "execution_count": 17,
   "id": "6f231d2c",
   "metadata": {
    "scrolled": true
   },
   "outputs": [
    {
     "data": {
      "text/plain": [
       "both          32434489\n",
       "left_only            0\n",
       "right_only           0\n",
       "Name: _merge, dtype: int64"
      ]
     },
     "execution_count": 17,
     "metadata": {},
     "output_type": "execute_result"
    }
   ],
   "source": [
    "#Checking for whether there are any rows that don't have a match\n",
    "order_products_all['_merge'].value_counts()"
   ]
  },
  {
   "cell_type": "code",
   "execution_count": 18,
   "id": "feb120f0",
   "metadata": {
    "scrolled": true
   },
   "outputs": [
    {
     "data": {
      "text/plain": [
       "(32434489, 34)"
      ]
     },
     "execution_count": 18,
     "metadata": {},
     "output_type": "execute_result"
    }
   ],
   "source": [
    "order_products_all.shape"
   ]
  },
  {
   "cell_type": "markdown",
   "id": "03f46b6e",
   "metadata": {},
   "source": [
    "Since the number of rows matches the rows in the orders df\n",
    "AND the total number of columns =\n",
    "(columns in orders df + the columns in customers + merge flag - 1 key column)\n",
    "this merge can be considered successful."
   ]
  },
  {
   "cell_type": "code",
   "execution_count": 19,
   "id": "652a2783",
   "metadata": {},
   "outputs": [
    {
     "data": {
      "text/html": [
       "<div>\n",
       "<style scoped>\n",
       "    .dataframe tbody tr th:only-of-type {\n",
       "        vertical-align: middle;\n",
       "    }\n",
       "\n",
       "    .dataframe tbody tr th {\n",
       "        vertical-align: top;\n",
       "    }\n",
       "\n",
       "    .dataframe thead th {\n",
       "        text-align: right;\n",
       "    }\n",
       "</style>\n",
       "<table border=\"1\" class=\"dataframe\">\n",
       "  <thead>\n",
       "    <tr style=\"text-align: right;\">\n",
       "      <th></th>\n",
       "      <th>order_id</th>\n",
       "      <th>user_id</th>\n",
       "      <th>order_number</th>\n",
       "      <th>order_day_of_week</th>\n",
       "      <th>order_hour_of_day</th>\n",
       "      <th>days_since_prior_order</th>\n",
       "      <th>first_order_of_new_customer</th>\n",
       "      <th>product_id</th>\n",
       "      <th>add_to_cart_order</th>\n",
       "      <th>reordered</th>\n",
       "      <th>...</th>\n",
       "      <th>median_days_since_ordering</th>\n",
       "      <th>frequent_shopper</th>\n",
       "      <th>gender</th>\n",
       "      <th>state</th>\n",
       "      <th>age</th>\n",
       "      <th>date_joined</th>\n",
       "      <th>n_dependants</th>\n",
       "      <th>fam_status</th>\n",
       "      <th>income</th>\n",
       "      <th>_merge</th>\n",
       "    </tr>\n",
       "  </thead>\n",
       "  <tbody>\n",
       "    <tr>\n",
       "      <th>0</th>\n",
       "      <td>2539329</td>\n",
       "      <td>1</td>\n",
       "      <td>1</td>\n",
       "      <td>2</td>\n",
       "      <td>8</td>\n",
       "      <td>NaN</td>\n",
       "      <td>True</td>\n",
       "      <td>196</td>\n",
       "      <td>1</td>\n",
       "      <td>0</td>\n",
       "      <td>...</td>\n",
       "      <td>20.0</td>\n",
       "      <td>Regular customer</td>\n",
       "      <td>Female</td>\n",
       "      <td>Alabama</td>\n",
       "      <td>31</td>\n",
       "      <td>2019-02-17</td>\n",
       "      <td>3</td>\n",
       "      <td>married</td>\n",
       "      <td>40423</td>\n",
       "      <td>both</td>\n",
       "    </tr>\n",
       "    <tr>\n",
       "      <th>1</th>\n",
       "      <td>2539329</td>\n",
       "      <td>1</td>\n",
       "      <td>1</td>\n",
       "      <td>2</td>\n",
       "      <td>8</td>\n",
       "      <td>NaN</td>\n",
       "      <td>True</td>\n",
       "      <td>14084</td>\n",
       "      <td>2</td>\n",
       "      <td>0</td>\n",
       "      <td>...</td>\n",
       "      <td>20.0</td>\n",
       "      <td>Regular customer</td>\n",
       "      <td>Female</td>\n",
       "      <td>Alabama</td>\n",
       "      <td>31</td>\n",
       "      <td>2019-02-17</td>\n",
       "      <td>3</td>\n",
       "      <td>married</td>\n",
       "      <td>40423</td>\n",
       "      <td>both</td>\n",
       "    </tr>\n",
       "    <tr>\n",
       "      <th>2</th>\n",
       "      <td>2539329</td>\n",
       "      <td>1</td>\n",
       "      <td>1</td>\n",
       "      <td>2</td>\n",
       "      <td>8</td>\n",
       "      <td>NaN</td>\n",
       "      <td>True</td>\n",
       "      <td>12427</td>\n",
       "      <td>3</td>\n",
       "      <td>0</td>\n",
       "      <td>...</td>\n",
       "      <td>20.0</td>\n",
       "      <td>Regular customer</td>\n",
       "      <td>Female</td>\n",
       "      <td>Alabama</td>\n",
       "      <td>31</td>\n",
       "      <td>2019-02-17</td>\n",
       "      <td>3</td>\n",
       "      <td>married</td>\n",
       "      <td>40423</td>\n",
       "      <td>both</td>\n",
       "    </tr>\n",
       "    <tr>\n",
       "      <th>3</th>\n",
       "      <td>2539329</td>\n",
       "      <td>1</td>\n",
       "      <td>1</td>\n",
       "      <td>2</td>\n",
       "      <td>8</td>\n",
       "      <td>NaN</td>\n",
       "      <td>True</td>\n",
       "      <td>26088</td>\n",
       "      <td>4</td>\n",
       "      <td>0</td>\n",
       "      <td>...</td>\n",
       "      <td>20.0</td>\n",
       "      <td>Regular customer</td>\n",
       "      <td>Female</td>\n",
       "      <td>Alabama</td>\n",
       "      <td>31</td>\n",
       "      <td>2019-02-17</td>\n",
       "      <td>3</td>\n",
       "      <td>married</td>\n",
       "      <td>40423</td>\n",
       "      <td>both</td>\n",
       "    </tr>\n",
       "    <tr>\n",
       "      <th>4</th>\n",
       "      <td>2539329</td>\n",
       "      <td>1</td>\n",
       "      <td>1</td>\n",
       "      <td>2</td>\n",
       "      <td>8</td>\n",
       "      <td>NaN</td>\n",
       "      <td>True</td>\n",
       "      <td>26405</td>\n",
       "      <td>5</td>\n",
       "      <td>0</td>\n",
       "      <td>...</td>\n",
       "      <td>20.0</td>\n",
       "      <td>Regular customer</td>\n",
       "      <td>Female</td>\n",
       "      <td>Alabama</td>\n",
       "      <td>31</td>\n",
       "      <td>2019-02-17</td>\n",
       "      <td>3</td>\n",
       "      <td>married</td>\n",
       "      <td>40423</td>\n",
       "      <td>both</td>\n",
       "    </tr>\n",
       "  </tbody>\n",
       "</table>\n",
       "<p>5 rows × 34 columns</p>\n",
       "</div>"
      ],
      "text/plain": [
       "   order_id  user_id  order_number  order_day_of_week  order_hour_of_day  \\\n",
       "0   2539329        1             1                  2                  8   \n",
       "1   2539329        1             1                  2                  8   \n",
       "2   2539329        1             1                  2                  8   \n",
       "3   2539329        1             1                  2                  8   \n",
       "4   2539329        1             1                  2                  8   \n",
       "\n",
       "   days_since_prior_order  first_order_of_new_customer  product_id  \\\n",
       "0                     NaN                         True         196   \n",
       "1                     NaN                         True       14084   \n",
       "2                     NaN                         True       12427   \n",
       "3                     NaN                         True       26088   \n",
       "4                     NaN                         True       26405   \n",
       "\n",
       "   add_to_cart_order  reordered  ... median_days_since_ordering  \\\n",
       "0                  1          0  ...                       20.0   \n",
       "1                  2          0  ...                       20.0   \n",
       "2                  3          0  ...                       20.0   \n",
       "3                  4          0  ...                       20.0   \n",
       "4                  5          0  ...                       20.0   \n",
       "\n",
       "   frequent_shopper  gender    state  age  date_joined n_dependants  \\\n",
       "0  Regular customer  Female  Alabama   31   2019-02-17            3   \n",
       "1  Regular customer  Female  Alabama   31   2019-02-17            3   \n",
       "2  Regular customer  Female  Alabama   31   2019-02-17            3   \n",
       "3  Regular customer  Female  Alabama   31   2019-02-17            3   \n",
       "4  Regular customer  Female  Alabama   31   2019-02-17            3   \n",
       "\n",
       "  fam_status income _merge  \n",
       "0    married  40423   both  \n",
       "1    married  40423   both  \n",
       "2    married  40423   both  \n",
       "3    married  40423   both  \n",
       "4    married  40423   both  \n",
       "\n",
       "[5 rows x 34 columns]"
      ]
     },
     "execution_count": 19,
     "metadata": {},
     "output_type": "execute_result"
    }
   ],
   "source": [
    "order_products_all.head()"
   ]
  },
  {
   "cell_type": "code",
   "execution_count": 20,
   "id": "5f4b6faa",
   "metadata": {},
   "outputs": [
    {
     "data": {
      "text/plain": [
       "order_id                             0\n",
       "user_id                              0\n",
       "order_number                         0\n",
       "order_day_of_week                    0\n",
       "order_hour_of_day                    0\n",
       "days_since_prior_order         2078068\n",
       "first_order_of_new_customer          0\n",
       "product_id                           0\n",
       "add_to_cart_order                    0\n",
       "reordered                            0\n",
       "product_name                     30770\n",
       "aisle_id                         30770\n",
       "department_id                    30770\n",
       "price                            35897\n",
       "product_info_available               0\n",
       "price_available                      0\n",
       "price_range                      35897\n",
       "busiest_day                          0\n",
       "busiest_days                         0\n",
       "busiest_period_of_day                0\n",
       "max_order                            0\n",
       "loyalty_flag                         0\n",
       "mean_spending                        0\n",
       "spender_type                         0\n",
       "median_days_since_ordering           0\n",
       "frequent_shopper                     0\n",
       "gender                               0\n",
       "state                                0\n",
       "age                                  0\n",
       "date_joined                          0\n",
       "n_dependants                         0\n",
       "fam_status                           0\n",
       "income                               0\n",
       "_merge                               0\n",
       "dtype: int64"
      ]
     },
     "execution_count": 20,
     "metadata": {},
     "output_type": "execute_result"
    }
   ],
   "source": [
    "# Checking for nulls across df\n",
    "order_products_all.isnull().sum()"
   ]
  },
  {
   "cell_type": "markdown",
   "id": "7d14b543",
   "metadata": {},
   "source": [
    "The null/NaN values are the same as before the merge."
   ]
  },
  {
   "cell_type": "markdown",
   "id": "cd1db0fc",
   "metadata": {},
   "source": [
    "### 0.6 Removing the merge flag so it does not intefere with future merges"
   ]
  },
  {
   "cell_type": "code",
   "execution_count": 21,
   "id": "1367a866",
   "metadata": {},
   "outputs": [],
   "source": [
    "order_products_all = order_products_all.drop(columns = ['_merge'])"
   ]
  },
  {
   "cell_type": "code",
   "execution_count": 22,
   "id": "5393102e",
   "metadata": {},
   "outputs": [
    {
     "data": {
      "text/plain": [
       "(32434489, 33)"
      ]
     },
     "execution_count": 22,
     "metadata": {},
     "output_type": "execute_result"
    }
   ],
   "source": [
    "# Confirming that only the merge column was dropped.\n",
    "order_products_all.shape"
   ]
  },
  {
   "cell_type": "code",
   "execution_count": 23,
   "id": "f5c819c3",
   "metadata": {
    "scrolled": true
   },
   "outputs": [
    {
     "name": "stdout",
     "output_type": "stream",
     "text": [
      "<class 'pandas.core.frame.DataFrame'>\n",
      "Int64Index: 32434489 entries, 0 to 32434488\n",
      "Data columns (total 33 columns):\n",
      " #   Column                       Dtype         \n",
      "---  ------                       -----         \n",
      " 0   order_id                     int64         \n",
      " 1   user_id                      int64         \n",
      " 2   order_number                 int16         \n",
      " 3   order_day_of_week            int8          \n",
      " 4   order_hour_of_day            int8          \n",
      " 5   days_since_prior_order       float16       \n",
      " 6   first_order_of_new_customer  bool          \n",
      " 7   product_id                   int32         \n",
      " 8   add_to_cart_order            int16         \n",
      " 9   reordered                    int8          \n",
      " 10  product_name                 object        \n",
      " 11  aisle_id                     float16       \n",
      " 12  department_id                float16       \n",
      " 13  price                        float32       \n",
      " 14  product_info_available       bool          \n",
      " 15  price_available              bool          \n",
      " 16  price_range                  category      \n",
      " 17  busiest_day                  category      \n",
      " 18  busiest_days                 category      \n",
      " 19  busiest_period_of_day        category      \n",
      " 20  max_order                    int16         \n",
      " 21  loyalty_flag                 category      \n",
      " 22  mean_spending                float32       \n",
      " 23  spender_type                 category      \n",
      " 24  median_days_since_ordering   float16       \n",
      " 25  frequent_shopper             category      \n",
      " 26  gender                       category      \n",
      " 27  state                        category      \n",
      " 28  age                          int16         \n",
      " 29  date_joined                  datetime64[ns]\n",
      " 30  n_dependants                 int8          \n",
      " 31  fam_status                   category      \n",
      " 32  income                       int64         \n",
      "dtypes: bool(3), category(10), datetime64[ns](1), float16(4), float32(2), int16(4), int32(1), int64(3), int8(4), object(1)\n",
      "memory usage: 2.8+ GB\n"
     ]
    }
   ],
   "source": [
    "order_products_all.info()"
   ]
  },
  {
   "cell_type": "markdown",
   "id": "ee598118",
   "metadata": {},
   "source": [
    "### 0.7 Exporting the final df"
   ]
  },
  {
   "cell_type": "code",
   "execution_count": 24,
   "id": "8cda91ca",
   "metadata": {},
   "outputs": [],
   "source": [
    "order_products_all.to_pickle(os.path.join(path, '02 Data','Prepared Data', 'orders_products_all.pkl'))"
   ]
  },
  {
   "cell_type": "code",
   "execution_count": null,
   "id": "455d7926",
   "metadata": {},
   "outputs": [],
   "source": []
  }
 ],
 "metadata": {
  "kernelspec": {
   "display_name": "Python 3 (ipykernel)",
   "language": "python",
   "name": "python3"
  },
  "language_info": {
   "codemirror_mode": {
    "name": "ipython",
    "version": 3
   },
   "file_extension": ".py",
   "mimetype": "text/x-python",
   "name": "python",
   "nbconvert_exporter": "python",
   "pygments_lexer": "ipython3",
   "version": "3.9.13"
  }
 },
 "nbformat": 4,
 "nbformat_minor": 5
}
