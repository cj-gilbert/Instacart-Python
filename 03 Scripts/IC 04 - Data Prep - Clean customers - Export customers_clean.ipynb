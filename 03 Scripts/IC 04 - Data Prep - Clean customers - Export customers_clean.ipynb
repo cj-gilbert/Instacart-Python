{
 "cells": [
  {
   "cell_type": "markdown",
   "id": "6761ce0e",
   "metadata": {},
   "source": [
    "# Table of contents\n",
    "\n",
    "0.1 Importing Libraries\n",
    "\n",
    "0.2 Importing Data\n",
    "\n",
    "0.3 Exploring Original Df\n",
    "\n",
    "0.4 Renaming Columns\n",
    "\n",
    "0.5 Adjusting Datatypes\n",
    "\n",
    "0.6 Cleaning / Wrangling / Checking Data\n",
    "\n",
    "    0.6.1  Overall df checks\n",
    "    \n",
    "    0.6.2  user_id\n",
    "        \n",
    "    0.6.3  gender\n",
    "    \n",
    "    0.6.4  state\n",
    "   \n",
    "    0.6.5  age\n",
    "    \n",
    "    0.6.6  date_joined\n",
    "    \n",
    "    0.6.7  n_dependants \n",
    "    \n",
    "    0.6.8 fam_status\n",
    "    \n",
    "    0.6.9 income\n",
    "\n",
    "0.7 Exporting the Clean Df\n"
   ]
  },
  {
   "cell_type": "markdown",
   "id": "cc8dcbd1",
   "metadata": {},
   "source": [
    "### 0.1 Importing Libraries"
   ]
  },
  {
   "cell_type": "code",
   "execution_count": 1,
   "id": "9709810d",
   "metadata": {},
   "outputs": [],
   "source": [
    "# Import libraries\n",
    "import pandas as pd\n",
    "import numpy as np\n",
    "import os\n",
    "import matplotlib.pyplot as plt\n",
    "import seaborn as sns\n",
    "import scipy"
   ]
  },
  {
   "cell_type": "markdown",
   "id": "b5b185b2",
   "metadata": {},
   "source": [
    "### 0.2 Importing Data"
   ]
  },
  {
   "cell_type": "code",
   "execution_count": 2,
   "id": "6e7f5881",
   "metadata": {},
   "outputs": [],
   "source": [
    "# Identify the file pathway to data files\n",
    "path = r'C:\\Users\\CJ\\Documents\\_CJ-Stuff\\Career Foundry\\Data Immersion\\Ach 4 - Python\\2023-03 Instacart Basket Analysis'"
   ]
  },
  {
   "cell_type": "code",
   "execution_count": 3,
   "id": "76049074",
   "metadata": {},
   "outputs": [],
   "source": [
    "# Create 'vars_list' so we only import the variables we need from customer.csv\n",
    "# so we do NOT accidentally import any PPI (Personal Identifiable Information)\n",
    "vars_list = ['user_id', 'Gender', 'STATE', 'Age', 'date_joined', 'n_dependants', 'fam_status', 'income']"
   ]
  },
  {
   "cell_type": "code",
   "execution_count": 4,
   "id": "f8ca6a0b",
   "metadata": {
    "scrolled": true
   },
   "outputs": [],
   "source": [
    "# Import data from 'orders_products_merged2.pkl'\n",
    "cust_original = pd.read_csv(os.path.join(path, '02 Data', 'Original Data', 'customers.csv'), usecols = vars_list)"
   ]
  },
  {
   "cell_type": "markdown",
   "id": "a5bc9d6c",
   "metadata": {},
   "source": [
    "### 0.3 Exploring original df"
   ]
  },
  {
   "cell_type": "code",
   "execution_count": 5,
   "id": "41f99131",
   "metadata": {
    "scrolled": true
   },
   "outputs": [
    {
     "data": {
      "text/plain": [
       "(206209, 8)"
      ]
     },
     "execution_count": 5,
     "metadata": {},
     "output_type": "execute_result"
    }
   ],
   "source": [
    "cust_original.shape"
   ]
  },
  {
   "cell_type": "code",
   "execution_count": 6,
   "id": "f0f5df72",
   "metadata": {},
   "outputs": [
    {
     "data": {
      "text/html": [
       "<div>\n",
       "<style scoped>\n",
       "    .dataframe tbody tr th:only-of-type {\n",
       "        vertical-align: middle;\n",
       "    }\n",
       "\n",
       "    .dataframe tbody tr th {\n",
       "        vertical-align: top;\n",
       "    }\n",
       "\n",
       "    .dataframe thead th {\n",
       "        text-align: right;\n",
       "    }\n",
       "</style>\n",
       "<table border=\"1\" class=\"dataframe\">\n",
       "  <thead>\n",
       "    <tr style=\"text-align: right;\">\n",
       "      <th></th>\n",
       "      <th>user_id</th>\n",
       "      <th>Gender</th>\n",
       "      <th>STATE</th>\n",
       "      <th>Age</th>\n",
       "      <th>date_joined</th>\n",
       "      <th>n_dependants</th>\n",
       "      <th>fam_status</th>\n",
       "      <th>income</th>\n",
       "    </tr>\n",
       "  </thead>\n",
       "  <tbody>\n",
       "    <tr>\n",
       "      <th>0</th>\n",
       "      <td>26711</td>\n",
       "      <td>Female</td>\n",
       "      <td>Missouri</td>\n",
       "      <td>48</td>\n",
       "      <td>1/1/2017</td>\n",
       "      <td>3</td>\n",
       "      <td>married</td>\n",
       "      <td>165665</td>\n",
       "    </tr>\n",
       "    <tr>\n",
       "      <th>1</th>\n",
       "      <td>33890</td>\n",
       "      <td>Female</td>\n",
       "      <td>New Mexico</td>\n",
       "      <td>36</td>\n",
       "      <td>1/1/2017</td>\n",
       "      <td>0</td>\n",
       "      <td>single</td>\n",
       "      <td>59285</td>\n",
       "    </tr>\n",
       "    <tr>\n",
       "      <th>2</th>\n",
       "      <td>65803</td>\n",
       "      <td>Male</td>\n",
       "      <td>Idaho</td>\n",
       "      <td>35</td>\n",
       "      <td>1/1/2017</td>\n",
       "      <td>2</td>\n",
       "      <td>married</td>\n",
       "      <td>99568</td>\n",
       "    </tr>\n",
       "    <tr>\n",
       "      <th>3</th>\n",
       "      <td>125935</td>\n",
       "      <td>Female</td>\n",
       "      <td>Iowa</td>\n",
       "      <td>40</td>\n",
       "      <td>1/1/2017</td>\n",
       "      <td>0</td>\n",
       "      <td>single</td>\n",
       "      <td>42049</td>\n",
       "    </tr>\n",
       "    <tr>\n",
       "      <th>4</th>\n",
       "      <td>130797</td>\n",
       "      <td>Female</td>\n",
       "      <td>Maryland</td>\n",
       "      <td>26</td>\n",
       "      <td>1/1/2017</td>\n",
       "      <td>1</td>\n",
       "      <td>married</td>\n",
       "      <td>40374</td>\n",
       "    </tr>\n",
       "  </tbody>\n",
       "</table>\n",
       "</div>"
      ],
      "text/plain": [
       "   user_id  Gender       STATE  Age date_joined  n_dependants fam_status  \\\n",
       "0    26711  Female    Missouri   48    1/1/2017             3    married   \n",
       "1    33890  Female  New Mexico   36    1/1/2017             0     single   \n",
       "2    65803    Male       Idaho   35    1/1/2017             2    married   \n",
       "3   125935  Female        Iowa   40    1/1/2017             0     single   \n",
       "4   130797  Female    Maryland   26    1/1/2017             1    married   \n",
       "\n",
       "   income  \n",
       "0  165665  \n",
       "1   59285  \n",
       "2   99568  \n",
       "3   42049  \n",
       "4   40374  "
      ]
     },
     "execution_count": 6,
     "metadata": {},
     "output_type": "execute_result"
    }
   ],
   "source": [
    "cust_original.head()"
   ]
  },
  {
   "cell_type": "code",
   "execution_count": 7,
   "id": "5be7b516",
   "metadata": {},
   "outputs": [
    {
     "data": {
      "text/html": [
       "<div>\n",
       "<style scoped>\n",
       "    .dataframe tbody tr th:only-of-type {\n",
       "        vertical-align: middle;\n",
       "    }\n",
       "\n",
       "    .dataframe tbody tr th {\n",
       "        vertical-align: top;\n",
       "    }\n",
       "\n",
       "    .dataframe thead th {\n",
       "        text-align: right;\n",
       "    }\n",
       "</style>\n",
       "<table border=\"1\" class=\"dataframe\">\n",
       "  <thead>\n",
       "    <tr style=\"text-align: right;\">\n",
       "      <th></th>\n",
       "      <th>user_id</th>\n",
       "      <th>Gender</th>\n",
       "      <th>STATE</th>\n",
       "      <th>Age</th>\n",
       "      <th>date_joined</th>\n",
       "      <th>n_dependants</th>\n",
       "      <th>fam_status</th>\n",
       "      <th>income</th>\n",
       "    </tr>\n",
       "  </thead>\n",
       "  <tbody>\n",
       "    <tr>\n",
       "      <th>206204</th>\n",
       "      <td>168073</td>\n",
       "      <td>Female</td>\n",
       "      <td>North Carolina</td>\n",
       "      <td>44</td>\n",
       "      <td>4/1/2020</td>\n",
       "      <td>1</td>\n",
       "      <td>married</td>\n",
       "      <td>148828</td>\n",
       "    </tr>\n",
       "    <tr>\n",
       "      <th>206205</th>\n",
       "      <td>49635</td>\n",
       "      <td>Male</td>\n",
       "      <td>Hawaii</td>\n",
       "      <td>62</td>\n",
       "      <td>4/1/2020</td>\n",
       "      <td>3</td>\n",
       "      <td>married</td>\n",
       "      <td>168639</td>\n",
       "    </tr>\n",
       "    <tr>\n",
       "      <th>206206</th>\n",
       "      <td>135902</td>\n",
       "      <td>Female</td>\n",
       "      <td>Missouri</td>\n",
       "      <td>66</td>\n",
       "      <td>4/1/2020</td>\n",
       "      <td>2</td>\n",
       "      <td>married</td>\n",
       "      <td>53374</td>\n",
       "    </tr>\n",
       "    <tr>\n",
       "      <th>206207</th>\n",
       "      <td>81095</td>\n",
       "      <td>Female</td>\n",
       "      <td>California</td>\n",
       "      <td>27</td>\n",
       "      <td>4/1/2020</td>\n",
       "      <td>1</td>\n",
       "      <td>married</td>\n",
       "      <td>99799</td>\n",
       "    </tr>\n",
       "    <tr>\n",
       "      <th>206208</th>\n",
       "      <td>80148</td>\n",
       "      <td>Female</td>\n",
       "      <td>New York</td>\n",
       "      <td>55</td>\n",
       "      <td>4/1/2020</td>\n",
       "      <td>1</td>\n",
       "      <td>married</td>\n",
       "      <td>57095</td>\n",
       "    </tr>\n",
       "  </tbody>\n",
       "</table>\n",
       "</div>"
      ],
      "text/plain": [
       "        user_id  Gender           STATE  Age date_joined  n_dependants  \\\n",
       "206204   168073  Female  North Carolina   44    4/1/2020             1   \n",
       "206205    49635    Male          Hawaii   62    4/1/2020             3   \n",
       "206206   135902  Female        Missouri   66    4/1/2020             2   \n",
       "206207    81095  Female      California   27    4/1/2020             1   \n",
       "206208    80148  Female        New York   55    4/1/2020             1   \n",
       "\n",
       "       fam_status  income  \n",
       "206204    married  148828  \n",
       "206205    married  168639  \n",
       "206206    married   53374  \n",
       "206207    married   99799  \n",
       "206208    married   57095  "
      ]
     },
     "execution_count": 7,
     "metadata": {},
     "output_type": "execute_result"
    }
   ],
   "source": [
    "cust_original.tail()"
   ]
  },
  {
   "cell_type": "code",
   "execution_count": 8,
   "id": "ca700be9",
   "metadata": {},
   "outputs": [
    {
     "name": "stdout",
     "output_type": "stream",
     "text": [
      "<class 'pandas.core.frame.DataFrame'>\n",
      "RangeIndex: 206209 entries, 0 to 206208\n",
      "Data columns (total 8 columns):\n",
      " #   Column        Non-Null Count   Dtype \n",
      "---  ------        --------------   ----- \n",
      " 0   user_id       206209 non-null  int64 \n",
      " 1   Gender        206209 non-null  object\n",
      " 2   STATE         206209 non-null  object\n",
      " 3   Age           206209 non-null  int64 \n",
      " 4   date_joined   206209 non-null  object\n",
      " 5   n_dependants  206209 non-null  int64 \n",
      " 6   fam_status    206209 non-null  object\n",
      " 7   income        206209 non-null  int64 \n",
      "dtypes: int64(4), object(4)\n",
      "memory usage: 12.6+ MB\n"
     ]
    }
   ],
   "source": [
    "cust_original.info()"
   ]
  },
  {
   "cell_type": "markdown",
   "id": "6b64a118",
   "metadata": {},
   "source": [
    "All of the columns seem potentially relevant to future analysis, but their names do not follow naming conventions and a few are poorly typed."
   ]
  },
  {
   "cell_type": "code",
   "execution_count": 9,
   "id": "dc195b32",
   "metadata": {
    "scrolled": true
   },
   "outputs": [
    {
     "data": {
      "text/html": [
       "<div>\n",
       "<style scoped>\n",
       "    .dataframe tbody tr th:only-of-type {\n",
       "        vertical-align: middle;\n",
       "    }\n",
       "\n",
       "    .dataframe tbody tr th {\n",
       "        vertical-align: top;\n",
       "    }\n",
       "\n",
       "    .dataframe thead th {\n",
       "        text-align: right;\n",
       "    }\n",
       "</style>\n",
       "<table border=\"1\" class=\"dataframe\">\n",
       "  <thead>\n",
       "    <tr style=\"text-align: right;\">\n",
       "      <th></th>\n",
       "      <th>user_id</th>\n",
       "      <th>Age</th>\n",
       "      <th>n_dependants</th>\n",
       "      <th>income</th>\n",
       "    </tr>\n",
       "  </thead>\n",
       "  <tbody>\n",
       "    <tr>\n",
       "      <th>count</th>\n",
       "      <td>206209.000000</td>\n",
       "      <td>206209.000000</td>\n",
       "      <td>206209.000000</td>\n",
       "      <td>206209.000000</td>\n",
       "    </tr>\n",
       "    <tr>\n",
       "      <th>mean</th>\n",
       "      <td>103105.000000</td>\n",
       "      <td>49.501646</td>\n",
       "      <td>1.499823</td>\n",
       "      <td>94632.852548</td>\n",
       "    </tr>\n",
       "    <tr>\n",
       "      <th>std</th>\n",
       "      <td>59527.555167</td>\n",
       "      <td>18.480962</td>\n",
       "      <td>1.118433</td>\n",
       "      <td>42473.786988</td>\n",
       "    </tr>\n",
       "    <tr>\n",
       "      <th>min</th>\n",
       "      <td>1.000000</td>\n",
       "      <td>18.000000</td>\n",
       "      <td>0.000000</td>\n",
       "      <td>25903.000000</td>\n",
       "    </tr>\n",
       "    <tr>\n",
       "      <th>25%</th>\n",
       "      <td>51553.000000</td>\n",
       "      <td>33.000000</td>\n",
       "      <td>0.000000</td>\n",
       "      <td>59874.000000</td>\n",
       "    </tr>\n",
       "    <tr>\n",
       "      <th>50%</th>\n",
       "      <td>103105.000000</td>\n",
       "      <td>49.000000</td>\n",
       "      <td>1.000000</td>\n",
       "      <td>93547.000000</td>\n",
       "    </tr>\n",
       "    <tr>\n",
       "      <th>75%</th>\n",
       "      <td>154657.000000</td>\n",
       "      <td>66.000000</td>\n",
       "      <td>3.000000</td>\n",
       "      <td>124244.000000</td>\n",
       "    </tr>\n",
       "    <tr>\n",
       "      <th>max</th>\n",
       "      <td>206209.000000</td>\n",
       "      <td>81.000000</td>\n",
       "      <td>3.000000</td>\n",
       "      <td>593901.000000</td>\n",
       "    </tr>\n",
       "  </tbody>\n",
       "</table>\n",
       "</div>"
      ],
      "text/plain": [
       "             user_id            Age   n_dependants         income\n",
       "count  206209.000000  206209.000000  206209.000000  206209.000000\n",
       "mean   103105.000000      49.501646       1.499823   94632.852548\n",
       "std     59527.555167      18.480962       1.118433   42473.786988\n",
       "min         1.000000      18.000000       0.000000   25903.000000\n",
       "25%     51553.000000      33.000000       0.000000   59874.000000\n",
       "50%    103105.000000      49.000000       1.000000   93547.000000\n",
       "75%    154657.000000      66.000000       3.000000  124244.000000\n",
       "max    206209.000000      81.000000       3.000000  593901.000000"
      ]
     },
     "execution_count": 9,
     "metadata": {},
     "output_type": "execute_result"
    }
   ],
   "source": [
    "cust_original.describe()"
   ]
  },
  {
   "cell_type": "markdown",
   "id": "19d5a5d5",
   "metadata": {},
   "source": [
    "All the counts match the shape of the df.\n",
    "Max user_id = count (indicating user_ids are likely unique)\n",
    "For the columns that are quantitative (age, n_dependants, income), the basic statistics all seem plausible, although the shape of the income distribution should be investigated to see if the max is an outlier or not."
   ]
  },
  {
   "cell_type": "markdown",
   "id": "28674241",
   "metadata": {},
   "source": [
    "### 0.4 Renaming columns to follow naming conventions"
   ]
  },
  {
   "cell_type": "code",
   "execution_count": 10,
   "id": "c95fbeed",
   "metadata": {
    "scrolled": true
   },
   "outputs": [],
   "source": [
    "cust_original.rename(columns = {'Gender' : 'gender', \n",
    "                                'STATE' : 'state', \n",
    "                                'Age' : 'age'\n",
    "                               }, inplace = True)"
   ]
  },
  {
   "cell_type": "code",
   "execution_count": 11,
   "id": "26ad0044",
   "metadata": {},
   "outputs": [
    {
     "data": {
      "text/html": [
       "<div>\n",
       "<style scoped>\n",
       "    .dataframe tbody tr th:only-of-type {\n",
       "        vertical-align: middle;\n",
       "    }\n",
       "\n",
       "    .dataframe tbody tr th {\n",
       "        vertical-align: top;\n",
       "    }\n",
       "\n",
       "    .dataframe thead th {\n",
       "        text-align: right;\n",
       "    }\n",
       "</style>\n",
       "<table border=\"1\" class=\"dataframe\">\n",
       "  <thead>\n",
       "    <tr style=\"text-align: right;\">\n",
       "      <th></th>\n",
       "      <th>user_id</th>\n",
       "      <th>gender</th>\n",
       "      <th>state</th>\n",
       "      <th>age</th>\n",
       "      <th>date_joined</th>\n",
       "      <th>n_dependants</th>\n",
       "      <th>fam_status</th>\n",
       "      <th>income</th>\n",
       "    </tr>\n",
       "  </thead>\n",
       "  <tbody>\n",
       "    <tr>\n",
       "      <th>0</th>\n",
       "      <td>26711</td>\n",
       "      <td>Female</td>\n",
       "      <td>Missouri</td>\n",
       "      <td>48</td>\n",
       "      <td>1/1/2017</td>\n",
       "      <td>3</td>\n",
       "      <td>married</td>\n",
       "      <td>165665</td>\n",
       "    </tr>\n",
       "    <tr>\n",
       "      <th>1</th>\n",
       "      <td>33890</td>\n",
       "      <td>Female</td>\n",
       "      <td>New Mexico</td>\n",
       "      <td>36</td>\n",
       "      <td>1/1/2017</td>\n",
       "      <td>0</td>\n",
       "      <td>single</td>\n",
       "      <td>59285</td>\n",
       "    </tr>\n",
       "    <tr>\n",
       "      <th>2</th>\n",
       "      <td>65803</td>\n",
       "      <td>Male</td>\n",
       "      <td>Idaho</td>\n",
       "      <td>35</td>\n",
       "      <td>1/1/2017</td>\n",
       "      <td>2</td>\n",
       "      <td>married</td>\n",
       "      <td>99568</td>\n",
       "    </tr>\n",
       "    <tr>\n",
       "      <th>3</th>\n",
       "      <td>125935</td>\n",
       "      <td>Female</td>\n",
       "      <td>Iowa</td>\n",
       "      <td>40</td>\n",
       "      <td>1/1/2017</td>\n",
       "      <td>0</td>\n",
       "      <td>single</td>\n",
       "      <td>42049</td>\n",
       "    </tr>\n",
       "    <tr>\n",
       "      <th>4</th>\n",
       "      <td>130797</td>\n",
       "      <td>Female</td>\n",
       "      <td>Maryland</td>\n",
       "      <td>26</td>\n",
       "      <td>1/1/2017</td>\n",
       "      <td>1</td>\n",
       "      <td>married</td>\n",
       "      <td>40374</td>\n",
       "    </tr>\n",
       "  </tbody>\n",
       "</table>\n",
       "</div>"
      ],
      "text/plain": [
       "   user_id  gender       state  age date_joined  n_dependants fam_status  \\\n",
       "0    26711  Female    Missouri   48    1/1/2017             3    married   \n",
       "1    33890  Female  New Mexico   36    1/1/2017             0     single   \n",
       "2    65803    Male       Idaho   35    1/1/2017             2    married   \n",
       "3   125935  Female        Iowa   40    1/1/2017             0     single   \n",
       "4   130797  Female    Maryland   26    1/1/2017             1    married   \n",
       "\n",
       "   income  \n",
       "0  165665  \n",
       "1   59285  \n",
       "2   99568  \n",
       "3   42049  \n",
       "4   40374  "
      ]
     },
     "execution_count": 11,
     "metadata": {},
     "output_type": "execute_result"
    }
   ],
   "source": [
    "cust_original.head()"
   ]
  },
  {
   "cell_type": "markdown",
   "id": "59017f82",
   "metadata": {},
   "source": [
    "### 0.5 Adjusting datatypes to be more appropriate for variables"
   ]
  },
  {
   "cell_type": "code",
   "execution_count": 12,
   "id": "ade5738c",
   "metadata": {},
   "outputs": [],
   "source": [
    "# The number of dependants currently ranges between 0 and 3,\n",
    "# and int8 will allow it to grow up to 127\n",
    "cust_original['n_dependants'] = cust_original['n_dependants'].astype('int8')"
   ]
  },
  {
   "cell_type": "code",
   "execution_count": 13,
   "id": "16d47b58",
   "metadata": {},
   "outputs": [],
   "source": [
    "# The current range of ages is 18 to 81, but int16 allows for dramatic\n",
    "# improvements in human logevity. \n",
    "cust_original['age'] = cust_original['age'].astype('int16')"
   ]
  },
  {
   "cell_type": "code",
   "execution_count": 14,
   "id": "a8119bf4",
   "metadata": {},
   "outputs": [],
   "source": [
    "# date_joined should be a datetime object\n",
    "cust_original['date_joined'] = pd.to_datetime(cust_original['date_joined'],errors='raise')"
   ]
  },
  {
   "cell_type": "code",
   "execution_count": 15,
   "id": "45ef7604",
   "metadata": {},
   "outputs": [],
   "source": [
    "# Gender, state, and fam_status involve a finite number of descriptive flags\n",
    "# and would be be represented by a categorical datatype\n",
    "cust_original['gender'] = cust_original['gender'].astype('category')\n",
    "cust_original['state'] = cust_original['state'].astype('category')\n",
    "cust_original['fam_status'] = cust_original['fam_status'].astype('category')"
   ]
  },
  {
   "cell_type": "code",
   "execution_count": 16,
   "id": "376df65a",
   "metadata": {
    "scrolled": false
   },
   "outputs": [
    {
     "name": "stdout",
     "output_type": "stream",
     "text": [
      "<class 'pandas.core.frame.DataFrame'>\n",
      "RangeIndex: 206209 entries, 0 to 206208\n",
      "Data columns (total 8 columns):\n",
      " #   Column        Non-Null Count   Dtype         \n",
      "---  ------        --------------   -----         \n",
      " 0   user_id       206209 non-null  int64         \n",
      " 1   gender        206209 non-null  category      \n",
      " 2   state         206209 non-null  category      \n",
      " 3   age           206209 non-null  int16         \n",
      " 4   date_joined   206209 non-null  datetime64[ns]\n",
      " 5   n_dependants  206209 non-null  int8          \n",
      " 6   fam_status    206209 non-null  category      \n",
      " 7   income        206209 non-null  int64         \n",
      "dtypes: category(3), datetime64[ns](1), int16(1), int64(2), int8(1)\n",
      "memory usage: 5.9 MB\n"
     ]
    }
   ],
   "source": [
    "# Confirming the changes took.\n",
    "cust_original.info()"
   ]
  },
  {
   "cell_type": "markdown",
   "id": "b5135a37",
   "metadata": {},
   "source": [
    "### 0.6 Cleaning data"
   ]
  },
  {
   "cell_type": "markdown",
   "id": "4f674fb9",
   "metadata": {},
   "source": [
    "#### 0.6.1 Overall df checks"
   ]
  },
  {
   "cell_type": "code",
   "execution_count": 17,
   "id": "72b41f4f",
   "metadata": {
    "scrolled": false
   },
   "outputs": [
    {
     "data": {
      "text/plain": [
       "user_id         0\n",
       "gender          0\n",
       "state           0\n",
       "age             0\n",
       "date_joined     0\n",
       "n_dependants    0\n",
       "fam_status      0\n",
       "income          0\n",
       "dtype: int64"
      ]
     },
     "execution_count": 17,
     "metadata": {},
     "output_type": "execute_result"
    }
   ],
   "source": [
    "# Checking for nulls across df\n",
    "cust_original.isnull().sum()"
   ]
  },
  {
   "cell_type": "code",
   "execution_count": 18,
   "id": "6ca068ac",
   "metadata": {},
   "outputs": [],
   "source": [
    "# Check for mixed data types\n",
    "for col in cust_original.columns.tolist():\n",
    "  weird = (cust_original[[col]].applymap(type) != cust_original[[col]].iloc[0].apply(type)).any(axis = 1)\n",
    "  if len (cust_original[weird]) > 0:\n",
    "    print (col)"
   ]
  },
  {
   "cell_type": "code",
   "execution_count": 19,
   "id": "cea3d14a",
   "metadata": {
    "scrolled": true
   },
   "outputs": [],
   "source": [
    "# Checking for duplicates\n",
    "dups = cust_original[cust_original.duplicated()]"
   ]
  },
  {
   "cell_type": "code",
   "execution_count": 20,
   "id": "22129b99",
   "metadata": {
    "scrolled": true
   },
   "outputs": [
    {
     "data": {
      "text/plain": [
       "(0, 8)"
      ]
     },
     "execution_count": 20,
     "metadata": {},
     "output_type": "execute_result"
    }
   ],
   "source": [
    "dups.shape"
   ]
  },
  {
   "cell_type": "code",
   "execution_count": 21,
   "id": "5f1a903b",
   "metadata": {},
   "outputs": [],
   "source": [
    "# The dataframe of dups has zero rows which means that \n",
    "# there were no duplicated rows."
   ]
  },
  {
   "cell_type": "markdown",
   "id": "396f2bf7",
   "metadata": {},
   "source": [
    "#### 0.6.2 - user_id cleaning/wrangling"
   ]
  },
  {
   "cell_type": "code",
   "execution_count": 22,
   "id": "a2d74b6c",
   "metadata": {},
   "outputs": [
    {
     "data": {
      "text/plain": [
       "count    206209.000000\n",
       "mean     103105.000000\n",
       "std       59527.555167\n",
       "min           1.000000\n",
       "25%       51553.000000\n",
       "50%      103105.000000\n",
       "75%      154657.000000\n",
       "max      206209.000000\n",
       "Name: user_id, dtype: float64"
      ]
     },
     "execution_count": 22,
     "metadata": {},
     "output_type": "execute_result"
    }
   ],
   "source": [
    "# Confirming that each user_id only appears once\n",
    "cust_original['user_id'].describe()"
   ]
  },
  {
   "cell_type": "markdown",
   "id": "46745b6b",
   "metadata": {},
   "source": [
    "#### 0.6.3 - gender cleaning/wrangling"
   ]
  },
  {
   "cell_type": "code",
   "execution_count": 23,
   "id": "4f5ad1b8",
   "metadata": {
    "scrolled": true
   },
   "outputs": [
    {
     "data": {
      "text/plain": [
       "Male      104067\n",
       "Female    102142\n",
       "Name: gender, dtype: int64"
      ]
     },
     "execution_count": 23,
     "metadata": {},
     "output_type": "execute_result"
    }
   ],
   "source": [
    "#First some exploration of the data\n",
    "cust_original['gender'].value_counts()"
   ]
  },
  {
   "cell_type": "markdown",
   "id": "ebacb0a0",
   "metadata": {},
   "source": [
    "The split within the data is roughly 50-50 which appropriately mirrors the population."
   ]
  },
  {
   "cell_type": "markdown",
   "id": "f5fccecb",
   "metadata": {},
   "source": [
    "#### 0.6.4 - state cleaning/wrangling"
   ]
  },
  {
   "cell_type": "code",
   "execution_count": 24,
   "id": "38844a73",
   "metadata": {},
   "outputs": [
    {
     "data": {
      "text/plain": [
       "count      206209\n",
       "unique         51\n",
       "top       Alabama\n",
       "freq         4044\n",
       "Name: state, dtype: object"
      ]
     },
     "execution_count": 24,
     "metadata": {},
     "output_type": "execute_result"
    }
   ],
   "source": [
    "#First some exploration of the data\n",
    "cust_original['state'].describe()"
   ]
  },
  {
   "cell_type": "code",
   "execution_count": 25,
   "id": "e9a80646",
   "metadata": {},
   "outputs": [],
   "source": [
    "# To explore the data in the state column, we're going to create a subset with the \n",
    "# unique values and their counts to explore them.\n",
    "state_list = cust_original['state'].value_counts()"
   ]
  },
  {
   "cell_type": "code",
   "execution_count": 26,
   "id": "81206598",
   "metadata": {},
   "outputs": [
    {
     "data": {
      "text/plain": [
       "Alabama                 4044\n",
       "District of Columbia    4044\n",
       "Iowa                    4044\n",
       "Indiana                 4044\n",
       "Illinois                4044\n",
       "Idaho                   4044\n",
       "Georgia                 4044\n",
       "Florida                 4044\n",
       "Hawaii                  4044\n",
       "Delaware                4044\n",
       "Connecticut             4044\n",
       "Colorado                4044\n",
       "California              4044\n",
       "Arkansas                4044\n",
       "Arizona                 4044\n",
       "Alaska                  4044\n",
       "South Dakota            4043\n",
       "Ohio                    4043\n",
       "Oklahoma                4043\n",
       "Oregon                  4043\n",
       "Pennsylvania            4043\n",
       "Rhode Island            4043\n",
       "South Carolina          4043\n",
       "Wisconsin               4043\n",
       "Tennessee               4043\n",
       "Texas                   4043\n",
       "Utah                    4043\n",
       "Vermont                 4043\n",
       "Virginia                4043\n",
       "Washington              4043\n",
       "West Virginia           4043\n",
       "North Carolina          4043\n",
       "North Dakota            4043\n",
       "Missouri                4043\n",
       "New York                4043\n",
       "Michigan                4043\n",
       "Kansas                  4043\n",
       "Kentucky                4043\n",
       "Louisiana               4043\n",
       "Maine                   4043\n",
       "Maryland                4043\n",
       "Massachusetts           4043\n",
       "Minnesota               4043\n",
       "New Mexico              4043\n",
       "Mississippi             4043\n",
       "Montana                 4043\n",
       "Nebraska                4043\n",
       "Nevada                  4043\n",
       "New Hampshire           4043\n",
       "New Jersey              4043\n",
       "Wyoming                 4043\n",
       "Name: state, dtype: int64"
      ]
     },
     "execution_count": 26,
     "metadata": {},
     "output_type": "execute_result"
    }
   ],
   "source": [
    "state_list"
   ]
  },
  {
   "cell_type": "markdown",
   "id": "ecbb6cc3",
   "metadata": {},
   "source": [
    "All 50 states plus D.C. appear to be listed correctly."
   ]
  },
  {
   "cell_type": "markdown",
   "id": "b022ffcf",
   "metadata": {},
   "source": [
    "#### 0.6.5- age cleaning/wrangling"
   ]
  },
  {
   "cell_type": "code",
   "execution_count": 27,
   "id": "7ed89b06",
   "metadata": {
    "scrolled": true
   },
   "outputs": [
    {
     "data": {
      "text/plain": [
       "count    206209.000000\n",
       "mean         49.501646\n",
       "std          18.480962\n",
       "min          18.000000\n",
       "25%          33.000000\n",
       "50%          49.000000\n",
       "75%          66.000000\n",
       "max          81.000000\n",
       "Name: age, dtype: float64"
      ]
     },
     "execution_count": 27,
     "metadata": {},
     "output_type": "execute_result"
    }
   ],
   "source": [
    "#First some exploration of the data's shape and spread\n",
    "cust_original['age'].describe()"
   ]
  },
  {
   "cell_type": "code",
   "execution_count": 28,
   "id": "d296f9d6",
   "metadata": {},
   "outputs": [
    {
     "data": {
      "text/plain": [
       "19    3329\n",
       "55    3317\n",
       "51    3317\n",
       "56    3306\n",
       "32    3305\n",
       "      ... \n",
       "65    3145\n",
       "25    3127\n",
       "66    3114\n",
       "50    3102\n",
       "36    3101\n",
       "Name: age, Length: 64, dtype: int64"
      ]
     },
     "execution_count": 28,
     "metadata": {},
     "output_type": "execute_result"
    }
   ],
   "source": [
    "cust_original['age'].value_counts()"
   ]
  },
  {
   "cell_type": "code",
   "execution_count": 29,
   "id": "ef873fc2",
   "metadata": {},
   "outputs": [
    {
     "data": {
      "text/plain": [
       "<AxesSubplot:ylabel='Frequency'>"
      ]
     },
     "execution_count": 29,
     "metadata": {},
     "output_type": "execute_result"
    },
    {
     "data": {
      "image/png": "[encoded data removed]",
      "text/plain": [
       "<Figure size 640x480 with 1 Axes>"
      ]
     },
     "metadata": {},
     "output_type": "display_data"
    }
   ],
   "source": [
    "# Making a histogram of ages\n",
    "cust_original['age'].plot.hist(bins = 21)"
   ]
  },
  {
   "cell_type": "markdown",
   "id": "915e36ff",
   "metadata": {},
   "source": [
    "There appears to be a spike in users in the 78-81 age range, whereas the rest of the users are almost uniformly distributed across the age ranges.  This is not what I'd expect to see in a real data set, but it is plausible for a fictious dataset (specially if we're going to 'discover' that we have a large customer base among senior citizens) so I'm not going to address it any further."
   ]
  },
  {
   "cell_type": "markdown",
   "id": "02d10c45",
   "metadata": {},
   "source": [
    "#### 0.6.6 - date_joined cleaning/wrangling"
   ]
  },
  {
   "cell_type": "code",
   "execution_count": 30,
   "id": "7ee6f65c",
   "metadata": {
    "scrolled": false
   },
   "outputs": [
    {
     "name": "stderr",
     "output_type": "stream",
     "text": [
      "C:\\Users\\CJ\\AppData\\Local\\Temp\\ipykernel_3168\\2491443623.py:2: FutureWarning: Treating datetime data as categorical rather than numeric in `.describe` is deprecated and will be removed in a future version of pandas. Specify `datetime_is_numeric=True` to silence this warning and adopt the future behavior now.\n",
      "  cust_original['date_joined'].describe()\n"
     ]
    },
    {
     "data": {
      "text/plain": [
       "count                  206209\n",
       "unique                   1187\n",
       "top       2018-09-17 00:00:00\n",
       "freq                      213\n",
       "first     2017-01-01 00:00:00\n",
       "last      2020-04-01 00:00:00\n",
       "Name: date_joined, dtype: object"
      ]
     },
     "execution_count": 30,
     "metadata": {},
     "output_type": "execute_result"
    }
   ],
   "source": [
    "#First some exploration of the data's shape and spread\n",
    "cust_original['date_joined'].describe()"
   ]
  },
  {
   "cell_type": "code",
   "execution_count": 31,
   "id": "5eb298d2",
   "metadata": {
    "scrolled": true
   },
   "outputs": [
    {
     "data": {
      "text/plain": [
       "Timestamp('2017-01-01 00:00:00')"
      ]
     },
     "execution_count": 31,
     "metadata": {},
     "output_type": "execute_result"
    }
   ],
   "source": [
    "cust_original['date_joined'].min()"
   ]
  },
  {
   "cell_type": "code",
   "execution_count": 32,
   "id": "60a679dc",
   "metadata": {},
   "outputs": [
    {
     "data": {
      "text/plain": [
       "Timestamp('2020-04-01 00:00:00')"
      ]
     },
     "execution_count": 32,
     "metadata": {},
     "output_type": "execute_result"
    }
   ],
   "source": [
    "cust_original['date_joined'].max()"
   ]
  },
  {
   "cell_type": "markdown",
   "id": "8e71df32",
   "metadata": {},
   "source": [
    "There are 1187 unique dates.  Given the data set covers roughly 3.25 years, we would expext to see roughly 1186 dates (365 days/year * 3.25 years) so this data seems reasonable. "
   ]
  },
  {
   "cell_type": "code",
   "execution_count": 33,
   "id": "577823b2",
   "metadata": {
    "scrolled": true
   },
   "outputs": [
    {
     "data": {
      "text/plain": [
       "2018-09-17    213\n",
       "2018-02-10    212\n",
       "2019-04-01    211\n",
       "2019-09-21    211\n",
       "2017-12-19    210\n",
       "             ... \n",
       "2018-09-01    141\n",
       "2018-01-22    140\n",
       "2017-11-24    139\n",
       "2019-07-18    138\n",
       "2018-08-06    128\n",
       "Name: date_joined, Length: 1187, dtype: int64"
      ]
     },
     "execution_count": 33,
     "metadata": {},
     "output_type": "execute_result"
    }
   ],
   "source": [
    "cust_original['date_joined'].value_counts()"
   ]
  },
  {
   "cell_type": "markdown",
   "id": "78a6b99f",
   "metadata": {},
   "source": [
    "The dates appear to have a reasonable distribution (given the fictious nature of the dataset)"
   ]
  },
  {
   "cell_type": "markdown",
   "id": "602fa14f",
   "metadata": {},
   "source": [
    "#### 0.6.7 - n_dependants cleaning/wrangling"
   ]
  },
  {
   "cell_type": "code",
   "execution_count": 34,
   "id": "0a0eca0e",
   "metadata": {},
   "outputs": [
    {
     "data": {
      "text/plain": [
       "count    206209.000000\n",
       "mean          1.499823\n",
       "std           1.118433\n",
       "min           0.000000\n",
       "25%           0.000000\n",
       "50%           1.000000\n",
       "75%           3.000000\n",
       "max           3.000000\n",
       "Name: n_dependants, dtype: float64"
      ]
     },
     "execution_count": 34,
     "metadata": {},
     "output_type": "execute_result"
    }
   ],
   "source": [
    "#First some exploration of the data's shape and spread\n",
    "cust_original['n_dependants'].describe()"
   ]
  },
  {
   "cell_type": "code",
   "execution_count": 35,
   "id": "dc833c99",
   "metadata": {},
   "outputs": [
    {
     "data": {
      "text/plain": [
       "0    51602\n",
       "3    51594\n",
       "1    51531\n",
       "2    51482\n",
       "Name: n_dependants, dtype: int64"
      ]
     },
     "execution_count": 35,
     "metadata": {},
     "output_type": "execute_result"
    }
   ],
   "source": [
    "cust_original['n_dependants'].value_counts()"
   ]
  },
  {
   "cell_type": "markdown",
   "id": "805f168b",
   "metadata": {},
   "source": [
    "All of the values for this variable are reasonable and the spead is to be expected of a fictious data set."
   ]
  },
  {
   "cell_type": "markdown",
   "id": "05d4d0d8",
   "metadata": {},
   "source": [
    "#### 0.6.8 - fam_status cleaning/wrangling"
   ]
  },
  {
   "cell_type": "code",
   "execution_count": 36,
   "id": "2bb04dfb",
   "metadata": {},
   "outputs": [
    {
     "data": {
      "text/plain": [
       "count      206209\n",
       "unique          4\n",
       "top       married\n",
       "freq       144906\n",
       "Name: fam_status, dtype: object"
      ]
     },
     "execution_count": 36,
     "metadata": {},
     "output_type": "execute_result"
    }
   ],
   "source": [
    "#First some exploration of the data's shape and spread\n",
    "cust_original['fam_status'].describe()"
   ]
  },
  {
   "cell_type": "code",
   "execution_count": 37,
   "id": "f97383bf",
   "metadata": {},
   "outputs": [
    {
     "data": {
      "text/plain": [
       "married                             144906\n",
       "single                               33962\n",
       "divorced/widowed                     17640\n",
       "living with parents and siblings      9701\n",
       "Name: fam_status, dtype: int64"
      ]
     },
     "execution_count": 37,
     "metadata": {},
     "output_type": "execute_result"
    }
   ],
   "source": [
    "cust_original['fam_status'].value_counts()"
   ]
  },
  {
   "cell_type": "markdown",
   "id": "02b32c0c",
   "metadata": {},
   "source": [
    "All of the values for this variable are reasonable"
   ]
  },
  {
   "cell_type": "markdown",
   "id": "01c88c27",
   "metadata": {},
   "source": [
    "#### 0.6.9 - income cleaning/wrangling"
   ]
  },
  {
   "cell_type": "code",
   "execution_count": 38,
   "id": "d79b291c",
   "metadata": {},
   "outputs": [
    {
     "data": {
      "text/plain": [
       "count    206209.000000\n",
       "mean      94632.852548\n",
       "std       42473.786988\n",
       "min       25903.000000\n",
       "25%       59874.000000\n",
       "50%       93547.000000\n",
       "75%      124244.000000\n",
       "max      593901.000000\n",
       "Name: income, dtype: float64"
      ]
     },
     "execution_count": 38,
     "metadata": {},
     "output_type": "execute_result"
    }
   ],
   "source": [
    "#First some exploration of the data's shape and spread\n",
    "cust_original['income'].describe()"
   ]
  },
  {
   "cell_type": "code",
   "execution_count": 39,
   "id": "c7835612",
   "metadata": {},
   "outputs": [
    {
     "data": {
      "text/plain": [
       "<AxesSubplot:ylabel='Frequency'>"
      ]
     },
     "execution_count": 39,
     "metadata": {},
     "output_type": "execute_result"
    },
    {
     "data": {
      "image/png": "[encoded data removed]",
      "text/plain": [
       "<Figure size 640x480 with 1 Axes>"
      ]
     },
     "metadata": {},
     "output_type": "display_data"
    }
   ],
   "source": [
    "# Making a histogram of income\n",
    "cust_original['income'].plot.hist(bins = 50)"
   ]
  },
  {
   "cell_type": "code",
   "execution_count": 40,
   "id": "a4dcd84d",
   "metadata": {},
   "outputs": [
    {
     "data": {
      "text/plain": [
       "<AxesSubplot:xlabel='income', ylabel='income'>"
      ]
     },
     "execution_count": 40,
     "metadata": {},
     "output_type": "execute_result"
    },
    {
     "data": {
      "image/png": "[encoded data removed]",
      "text/plain": [
       "<Figure size 640x480 with 1 Axes>"
      ]
     },
     "metadata": {},
     "output_type": "display_data"
    }
   ],
   "source": [
    "# Making a scatterplot of income\n",
    "sns.scatterplot(x = 'income', y = 'income', data = cust_original)"
   ]
  },
  {
   "cell_type": "markdown",
   "id": "458e1b22",
   "metadata": {},
   "source": [
    "While the majority of incomes are less than 125k, there are clearly incomes spread out all the way up through the max (~594k).  Given that these appear to be legitimately upper-income customers, we should leave this data as-is."
   ]
  },
  {
   "cell_type": "markdown",
   "id": "ee598118",
   "metadata": {},
   "source": [
    "### 0.7 Exporting the clean df"
   ]
  },
  {
   "cell_type": "code",
   "execution_count": 41,
   "id": "1c649eb2",
   "metadata": {
    "scrolled": true
   },
   "outputs": [
    {
     "data": {
      "text/plain": [
       "user_id                  int64\n",
       "gender                category\n",
       "state                 category\n",
       "age                      int16\n",
       "date_joined     datetime64[ns]\n",
       "n_dependants              int8\n",
       "fam_status            category\n",
       "income                   int64\n",
       "dtype: object"
      ]
     },
     "execution_count": 41,
     "metadata": {},
     "output_type": "execute_result"
    }
   ],
   "source": [
    "#Confirming df changes are in place before exporting\n",
    "cust_original.dtypes"
   ]
  },
  {
   "cell_type": "code",
   "execution_count": 42,
   "id": "95a73377",
   "metadata": {},
   "outputs": [
    {
     "data": {
      "text/plain": [
       "(206209, 8)"
      ]
     },
     "execution_count": 42,
     "metadata": {},
     "output_type": "execute_result"
    }
   ],
   "source": [
    "cust_original.shape"
   ]
  },
  {
   "cell_type": "code",
   "execution_count": 43,
   "id": "1e339e8e",
   "metadata": {},
   "outputs": [
    {
     "data": {
      "text/html": [
       "<div>\n",
       "<style scoped>\n",
       "    .dataframe tbody tr th:only-of-type {\n",
       "        vertical-align: middle;\n",
       "    }\n",
       "\n",
       "    .dataframe tbody tr th {\n",
       "        vertical-align: top;\n",
       "    }\n",
       "\n",
       "    .dataframe thead th {\n",
       "        text-align: right;\n",
       "    }\n",
       "</style>\n",
       "<table border=\"1\" class=\"dataframe\">\n",
       "  <thead>\n",
       "    <tr style=\"text-align: right;\">\n",
       "      <th></th>\n",
       "      <th>user_id</th>\n",
       "      <th>gender</th>\n",
       "      <th>state</th>\n",
       "      <th>age</th>\n",
       "      <th>date_joined</th>\n",
       "      <th>n_dependants</th>\n",
       "      <th>fam_status</th>\n",
       "      <th>income</th>\n",
       "    </tr>\n",
       "  </thead>\n",
       "  <tbody>\n",
       "    <tr>\n",
       "      <th>0</th>\n",
       "      <td>26711</td>\n",
       "      <td>Female</td>\n",
       "      <td>Missouri</td>\n",
       "      <td>48</td>\n",
       "      <td>2017-01-01</td>\n",
       "      <td>3</td>\n",
       "      <td>married</td>\n",
       "      <td>165665</td>\n",
       "    </tr>\n",
       "    <tr>\n",
       "      <th>1</th>\n",
       "      <td>33890</td>\n",
       "      <td>Female</td>\n",
       "      <td>New Mexico</td>\n",
       "      <td>36</td>\n",
       "      <td>2017-01-01</td>\n",
       "      <td>0</td>\n",
       "      <td>single</td>\n",
       "      <td>59285</td>\n",
       "    </tr>\n",
       "    <tr>\n",
       "      <th>2</th>\n",
       "      <td>65803</td>\n",
       "      <td>Male</td>\n",
       "      <td>Idaho</td>\n",
       "      <td>35</td>\n",
       "      <td>2017-01-01</td>\n",
       "      <td>2</td>\n",
       "      <td>married</td>\n",
       "      <td>99568</td>\n",
       "    </tr>\n",
       "    <tr>\n",
       "      <th>3</th>\n",
       "      <td>125935</td>\n",
       "      <td>Female</td>\n",
       "      <td>Iowa</td>\n",
       "      <td>40</td>\n",
       "      <td>2017-01-01</td>\n",
       "      <td>0</td>\n",
       "      <td>single</td>\n",
       "      <td>42049</td>\n",
       "    </tr>\n",
       "    <tr>\n",
       "      <th>4</th>\n",
       "      <td>130797</td>\n",
       "      <td>Female</td>\n",
       "      <td>Maryland</td>\n",
       "      <td>26</td>\n",
       "      <td>2017-01-01</td>\n",
       "      <td>1</td>\n",
       "      <td>married</td>\n",
       "      <td>40374</td>\n",
       "    </tr>\n",
       "  </tbody>\n",
       "</table>\n",
       "</div>"
      ],
      "text/plain": [
       "   user_id  gender       state  age date_joined  n_dependants fam_status  \\\n",
       "0    26711  Female    Missouri   48  2017-01-01             3    married   \n",
       "1    33890  Female  New Mexico   36  2017-01-01             0     single   \n",
       "2    65803    Male       Idaho   35  2017-01-01             2    married   \n",
       "3   125935  Female        Iowa   40  2017-01-01             0     single   \n",
       "4   130797  Female    Maryland   26  2017-01-01             1    married   \n",
       "\n",
       "   income  \n",
       "0  165665  \n",
       "1   59285  \n",
       "2   99568  \n",
       "3   42049  \n",
       "4   40374  "
      ]
     },
     "execution_count": 43,
     "metadata": {},
     "output_type": "execute_result"
    }
   ],
   "source": [
    "cust_original.head()"
   ]
  },
  {
   "cell_type": "code",
   "execution_count": 44,
   "id": "8cda91ca",
   "metadata": {
    "scrolled": true
   },
   "outputs": [],
   "source": [
    "# Export df as customers_clean\n",
    "cust_original.to_pickle(os.path.join(path, '02 Data','Prepared Data', 'customers_clean.pkl'))"
   ]
  },
  {
   "cell_type": "code",
   "execution_count": null,
   "id": "455d7926",
   "metadata": {},
   "outputs": [],
   "source": []
  }
 ],
 "metadata": {
  "kernelspec": {
   "display_name": "Python 3 (ipykernel)",
   "language": "python",
   "name": "python3"
  },
  "language_info": {
   "codemirror_mode": {
    "name": "ipython",
    "version": 3
   },
   "file_extension": ".py",
   "mimetype": "text/x-python",
   "name": "python",
   "nbconvert_exporter": "python",
   "pygments_lexer": "ipython3",
   "version": "3.9.13"
  }
 },
 "nbformat": 4,
 "nbformat_minor": 5
}
