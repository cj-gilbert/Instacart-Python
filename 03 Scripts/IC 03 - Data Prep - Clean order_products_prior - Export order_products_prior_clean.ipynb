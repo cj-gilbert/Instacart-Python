{
 "cells": [
  {
   "cell_type": "markdown",
   "id": "f6e4d9b2",
   "metadata": {},
   "source": [
    "# Table of Contents"
   ]
  },
  {
   "cell_type": "markdown",
   "id": "27c10efe",
   "metadata": {},
   "source": [
    "0.1 Importing Libraries\n",
    "\n",
    "0.2 Importing Data\n",
    "\n",
    "0.3 Exploring Original Df\n",
    "\n",
    "0.4 Adjusting Datatypes\n",
    "\n",
    "0.5 Cleaning / Wrangling / Checking Data\n",
    "\n",
    "    0.6.1  Overall df checks\n",
    "    \n",
    "    0.6.2  order_id\n",
    "    \n",
    "    0.6.3  product_id\n",
    "    \n",
    "    0.6.4  add_to_cart_order\n",
    "    \n",
    "    0.6.5  reordered\n",
    "\n",
    "0.6 Exporting the Clean Df\n"
   ]
  },
  {
   "cell_type": "markdown",
   "id": "cc8dcbd1",
   "metadata": {},
   "source": [
    "### 0.1 Importing Libraries"
   ]
  },
  {
   "cell_type": "code",
   "execution_count": 1,
   "id": "9709810d",
   "metadata": {},
   "outputs": [],
   "source": [
    "# Import libraries\n",
    "import pandas as pd\n",
    "import numpy as np\n",
    "import os"
   ]
  },
  {
   "cell_type": "markdown",
   "id": "b5b185b2",
   "metadata": {},
   "source": [
    "### 0.2 Importing Data"
   ]
  },
  {
   "cell_type": "code",
   "execution_count": 2,
   "id": "6e7f5881",
   "metadata": {},
   "outputs": [],
   "source": [
    "# Identify the file pathway to data files\n",
    "path = r'C:\\Users\\CJ\\Documents\\_CJ-Stuff\\Career Foundry\\Data Immersion\\Ach 4 - Python\\2023-03 Instacart Basket Analysis'"
   ]
  },
  {
   "cell_type": "code",
   "execution_count": 3,
   "id": "1cb974f7",
   "metadata": {},
   "outputs": [],
   "source": [
    "# Import data from df_ords_prior.csv\n",
    "df = pd.read_csv(os.path.join(path, '02 Data', 'Original Data', 'order_products_prior.csv'), index_col = False)"
   ]
  },
  {
   "cell_type": "markdown",
   "id": "9e7fe560",
   "metadata": {},
   "source": [
    "### 0.3 Exploring Original Df"
   ]
  },
  {
   "cell_type": "code",
   "execution_count": 4,
   "id": "79eae4f1",
   "metadata": {},
   "outputs": [
    {
     "data": {
      "text/plain": [
       "(32434489, 4)"
      ]
     },
     "execution_count": 4,
     "metadata": {},
     "output_type": "execute_result"
    }
   ],
   "source": [
    "df.shape"
   ]
  },
  {
   "cell_type": "code",
   "execution_count": 5,
   "id": "827c4392",
   "metadata": {},
   "outputs": [
    {
     "data": {
      "text/html": [
       "<div>\n",
       "<style scoped>\n",
       "    .dataframe tbody tr th:only-of-type {\n",
       "        vertical-align: middle;\n",
       "    }\n",
       "\n",
       "    .dataframe tbody tr th {\n",
       "        vertical-align: top;\n",
       "    }\n",
       "\n",
       "    .dataframe thead th {\n",
       "        text-align: right;\n",
       "    }\n",
       "</style>\n",
       "<table border=\"1\" class=\"dataframe\">\n",
       "  <thead>\n",
       "    <tr style=\"text-align: right;\">\n",
       "      <th></th>\n",
       "      <th>order_id</th>\n",
       "      <th>product_id</th>\n",
       "      <th>add_to_cart_order</th>\n",
       "      <th>reordered</th>\n",
       "    </tr>\n",
       "  </thead>\n",
       "  <tbody>\n",
       "    <tr>\n",
       "      <th>0</th>\n",
       "      <td>2</td>\n",
       "      <td>33120</td>\n",
       "      <td>1</td>\n",
       "      <td>1</td>\n",
       "    </tr>\n",
       "    <tr>\n",
       "      <th>1</th>\n",
       "      <td>2</td>\n",
       "      <td>28985</td>\n",
       "      <td>2</td>\n",
       "      <td>1</td>\n",
       "    </tr>\n",
       "    <tr>\n",
       "      <th>2</th>\n",
       "      <td>2</td>\n",
       "      <td>9327</td>\n",
       "      <td>3</td>\n",
       "      <td>0</td>\n",
       "    </tr>\n",
       "    <tr>\n",
       "      <th>3</th>\n",
       "      <td>2</td>\n",
       "      <td>45918</td>\n",
       "      <td>4</td>\n",
       "      <td>1</td>\n",
       "    </tr>\n",
       "    <tr>\n",
       "      <th>4</th>\n",
       "      <td>2</td>\n",
       "      <td>30035</td>\n",
       "      <td>5</td>\n",
       "      <td>0</td>\n",
       "    </tr>\n",
       "  </tbody>\n",
       "</table>\n",
       "</div>"
      ],
      "text/plain": [
       "   order_id  product_id  add_to_cart_order  reordered\n",
       "0         2       33120                  1          1\n",
       "1         2       28985                  2          1\n",
       "2         2        9327                  3          0\n",
       "3         2       45918                  4          1\n",
       "4         2       30035                  5          0"
      ]
     },
     "execution_count": 5,
     "metadata": {},
     "output_type": "execute_result"
    }
   ],
   "source": [
    "df.head()"
   ]
  },
  {
   "cell_type": "code",
   "execution_count": 6,
   "id": "164ec5e8",
   "metadata": {},
   "outputs": [
    {
     "data": {
      "text/html": [
       "<div>\n",
       "<style scoped>\n",
       "    .dataframe tbody tr th:only-of-type {\n",
       "        vertical-align: middle;\n",
       "    }\n",
       "\n",
       "    .dataframe tbody tr th {\n",
       "        vertical-align: top;\n",
       "    }\n",
       "\n",
       "    .dataframe thead th {\n",
       "        text-align: right;\n",
       "    }\n",
       "</style>\n",
       "<table border=\"1\" class=\"dataframe\">\n",
       "  <thead>\n",
       "    <tr style=\"text-align: right;\">\n",
       "      <th></th>\n",
       "      <th>order_id</th>\n",
       "      <th>product_id</th>\n",
       "      <th>add_to_cart_order</th>\n",
       "      <th>reordered</th>\n",
       "    </tr>\n",
       "  </thead>\n",
       "  <tbody>\n",
       "    <tr>\n",
       "      <th>32434484</th>\n",
       "      <td>3421083</td>\n",
       "      <td>39678</td>\n",
       "      <td>6</td>\n",
       "      <td>1</td>\n",
       "    </tr>\n",
       "    <tr>\n",
       "      <th>32434485</th>\n",
       "      <td>3421083</td>\n",
       "      <td>11352</td>\n",
       "      <td>7</td>\n",
       "      <td>0</td>\n",
       "    </tr>\n",
       "    <tr>\n",
       "      <th>32434486</th>\n",
       "      <td>3421083</td>\n",
       "      <td>4600</td>\n",
       "      <td>8</td>\n",
       "      <td>0</td>\n",
       "    </tr>\n",
       "    <tr>\n",
       "      <th>32434487</th>\n",
       "      <td>3421083</td>\n",
       "      <td>24852</td>\n",
       "      <td>9</td>\n",
       "      <td>1</td>\n",
       "    </tr>\n",
       "    <tr>\n",
       "      <th>32434488</th>\n",
       "      <td>3421083</td>\n",
       "      <td>5020</td>\n",
       "      <td>10</td>\n",
       "      <td>1</td>\n",
       "    </tr>\n",
       "  </tbody>\n",
       "</table>\n",
       "</div>"
      ],
      "text/plain": [
       "          order_id  product_id  add_to_cart_order  reordered\n",
       "32434484   3421083       39678                  6          1\n",
       "32434485   3421083       11352                  7          0\n",
       "32434486   3421083        4600                  8          0\n",
       "32434487   3421083       24852                  9          1\n",
       "32434488   3421083        5020                 10          1"
      ]
     },
     "execution_count": 6,
     "metadata": {},
     "output_type": "execute_result"
    }
   ],
   "source": [
    "df.tail()"
   ]
  },
  {
   "cell_type": "code",
   "execution_count": 7,
   "id": "d35f9c60",
   "metadata": {},
   "outputs": [
    {
     "name": "stdout",
     "output_type": "stream",
     "text": [
      "<class 'pandas.core.frame.DataFrame'>\n",
      "RangeIndex: 32434489 entries, 0 to 32434488\n",
      "Data columns (total 4 columns):\n",
      " #   Column             Dtype\n",
      "---  ------             -----\n",
      " 0   order_id           int64\n",
      " 1   product_id         int64\n",
      " 2   add_to_cart_order  int64\n",
      " 3   reordered          int64\n",
      "dtypes: int64(4)\n",
      "memory usage: 989.8 MB\n"
     ]
    }
   ],
   "source": [
    "df.info()"
   ]
  },
  {
   "cell_type": "code",
   "execution_count": 8,
   "id": "6f563462",
   "metadata": {},
   "outputs": [
    {
     "data": {
      "text/html": [
       "<div>\n",
       "<style scoped>\n",
       "    .dataframe tbody tr th:only-of-type {\n",
       "        vertical-align: middle;\n",
       "    }\n",
       "\n",
       "    .dataframe tbody tr th {\n",
       "        vertical-align: top;\n",
       "    }\n",
       "\n",
       "    .dataframe thead th {\n",
       "        text-align: right;\n",
       "    }\n",
       "</style>\n",
       "<table border=\"1\" class=\"dataframe\">\n",
       "  <thead>\n",
       "    <tr style=\"text-align: right;\">\n",
       "      <th></th>\n",
       "      <th>order_id</th>\n",
       "      <th>product_id</th>\n",
       "      <th>add_to_cart_order</th>\n",
       "      <th>reordered</th>\n",
       "    </tr>\n",
       "  </thead>\n",
       "  <tbody>\n",
       "    <tr>\n",
       "      <th>count</th>\n",
       "      <td>3.243449e+07</td>\n",
       "      <td>3.243449e+07</td>\n",
       "      <td>3.243449e+07</td>\n",
       "      <td>3.243449e+07</td>\n",
       "    </tr>\n",
       "    <tr>\n",
       "      <th>mean</th>\n",
       "      <td>1.710749e+06</td>\n",
       "      <td>2.557634e+04</td>\n",
       "      <td>8.351076e+00</td>\n",
       "      <td>5.896975e-01</td>\n",
       "    </tr>\n",
       "    <tr>\n",
       "      <th>std</th>\n",
       "      <td>9.873007e+05</td>\n",
       "      <td>1.409669e+04</td>\n",
       "      <td>7.126671e+00</td>\n",
       "      <td>4.918886e-01</td>\n",
       "    </tr>\n",
       "    <tr>\n",
       "      <th>min</th>\n",
       "      <td>2.000000e+00</td>\n",
       "      <td>1.000000e+00</td>\n",
       "      <td>1.000000e+00</td>\n",
       "      <td>0.000000e+00</td>\n",
       "    </tr>\n",
       "    <tr>\n",
       "      <th>25%</th>\n",
       "      <td>8.559430e+05</td>\n",
       "      <td>1.353000e+04</td>\n",
       "      <td>3.000000e+00</td>\n",
       "      <td>0.000000e+00</td>\n",
       "    </tr>\n",
       "    <tr>\n",
       "      <th>50%</th>\n",
       "      <td>1.711048e+06</td>\n",
       "      <td>2.525600e+04</td>\n",
       "      <td>6.000000e+00</td>\n",
       "      <td>1.000000e+00</td>\n",
       "    </tr>\n",
       "    <tr>\n",
       "      <th>75%</th>\n",
       "      <td>2.565514e+06</td>\n",
       "      <td>3.793500e+04</td>\n",
       "      <td>1.100000e+01</td>\n",
       "      <td>1.000000e+00</td>\n",
       "    </tr>\n",
       "    <tr>\n",
       "      <th>max</th>\n",
       "      <td>3.421083e+06</td>\n",
       "      <td>4.968800e+04</td>\n",
       "      <td>1.450000e+02</td>\n",
       "      <td>1.000000e+00</td>\n",
       "    </tr>\n",
       "  </tbody>\n",
       "</table>\n",
       "</div>"
      ],
      "text/plain": [
       "           order_id    product_id  add_to_cart_order     reordered\n",
       "count  3.243449e+07  3.243449e+07       3.243449e+07  3.243449e+07\n",
       "mean   1.710749e+06  2.557634e+04       8.351076e+00  5.896975e-01\n",
       "std    9.873007e+05  1.409669e+04       7.126671e+00  4.918886e-01\n",
       "min    2.000000e+00  1.000000e+00       1.000000e+00  0.000000e+00\n",
       "25%    8.559430e+05  1.353000e+04       3.000000e+00  0.000000e+00\n",
       "50%    1.711048e+06  2.525600e+04       6.000000e+00  1.000000e+00\n",
       "75%    2.565514e+06  3.793500e+04       1.100000e+01  1.000000e+00\n",
       "max    3.421083e+06  4.968800e+04       1.450000e+02  1.000000e+00"
      ]
     },
     "execution_count": 8,
     "metadata": {},
     "output_type": "execute_result"
    }
   ],
   "source": [
    "df.describe()"
   ]
  },
  {
   "cell_type": "markdown",
   "id": "115ac94d",
   "metadata": {},
   "source": [
    "### 0.4 Adjusting Datatypes"
   ]
  },
  {
   "cell_type": "code",
   "execution_count": 9,
   "id": "66db28b3",
   "metadata": {},
   "outputs": [],
   "source": [
    "# order_id is a unique integer identifier \n",
    "# so int64 is more appropriate than float64\n",
    "df['order_id'] = df['order_id'].astype('int64')"
   ]
  },
  {
   "cell_type": "code",
   "execution_count": 10,
   "id": "b0bbf10c",
   "metadata": {},
   "outputs": [],
   "source": [
    "# product_id ranges between 1 and 50k\n",
    "# so int32 is more than sufficient and allows room for growth\n",
    "df['product_id'] = df['product_id'].astype('int32')\n"
   ]
  },
  {
   "cell_type": "code",
   "execution_count": 11,
   "id": "10fbc65a",
   "metadata": {},
   "outputs": [],
   "source": [
    "# add_to_cart_order ranges between 1 and 145\n",
    "# so int16 (which goes up to 32k) is more than sufficient\n",
    "df['add_to_cart_order'] = df['add_to_cart_order'].astype('int16')"
   ]
  },
  {
   "cell_type": "code",
   "execution_count": 12,
   "id": "dcdafa7d",
   "metadata": {},
   "outputs": [],
   "source": [
    "# reordered ranges between 0 and 1\n",
    "# so int8 is more than adequate\n",
    "df['reordered'] = df['reordered'].astype('int8')"
   ]
  },
  {
   "cell_type": "code",
   "execution_count": 13,
   "id": "9cc0d014",
   "metadata": {},
   "outputs": [
    {
     "data": {
      "text/plain": [
       "order_id             int64\n",
       "product_id           int32\n",
       "add_to_cart_order    int16\n",
       "reordered             int8\n",
       "dtype: object"
      ]
     },
     "execution_count": 13,
     "metadata": {},
     "output_type": "execute_result"
    }
   ],
   "source": [
    "df.dtypes"
   ]
  },
  {
   "cell_type": "markdown",
   "id": "47898987",
   "metadata": {},
   "source": [
    "### 0.5 Cleaning data"
   ]
  },
  {
   "cell_type": "markdown",
   "id": "4ffd4f49",
   "metadata": {},
   "source": [
    "#### 0.5.1 Overall df checks"
   ]
  },
  {
   "cell_type": "code",
   "execution_count": 14,
   "id": "5d9c27c2",
   "metadata": {},
   "outputs": [],
   "source": [
    "# Check for mixed data types\n",
    "for col in df.columns.tolist():\n",
    "  weird = (df[[col]].applymap(type) != df[[col]].iloc[0].apply(type)).any(axis = 1)\n",
    "  if len (df[weird]) > 0:\n",
    "    print (col)\n"
   ]
  },
  {
   "cell_type": "code",
   "execution_count": 15,
   "id": "b7013f39",
   "metadata": {},
   "outputs": [
    {
     "data": {
      "text/plain": [
       "order_id             0\n",
       "product_id           0\n",
       "add_to_cart_order    0\n",
       "reordered            0\n",
       "dtype: int64"
      ]
     },
     "execution_count": 15,
     "metadata": {},
     "output_type": "execute_result"
    }
   ],
   "source": [
    "# Check for missing values\n",
    "df.isnull().sum()"
   ]
  },
  {
   "cell_type": "code",
   "execution_count": 16,
   "id": "bec77139",
   "metadata": {},
   "outputs": [
    {
     "data": {
      "text/plain": [
       "0"
      ]
     },
     "execution_count": 16,
     "metadata": {},
     "output_type": "execute_result"
    }
   ],
   "source": [
    "# Check for duplicates \n",
    "df.duplicated().sum()"
   ]
  },
  {
   "cell_type": "markdown",
   "id": "dac163a0",
   "metadata": {},
   "source": [
    "No nulls, no duplicated rows, and no mixed-value columns."
   ]
  },
  {
   "cell_type": "markdown",
   "id": "9f4fff49",
   "metadata": {},
   "source": [
    "#### 0.5.2 order_id cleaning/wrangling"
   ]
  },
  {
   "cell_type": "code",
   "execution_count": 17,
   "id": "23a3f4b4",
   "metadata": {},
   "outputs": [
    {
     "data": {
      "text/plain": [
       "count    3.243449e+07\n",
       "mean     1.710749e+06\n",
       "std      9.873007e+05\n",
       "min      2.000000e+00\n",
       "25%      8.559430e+05\n",
       "50%      1.711048e+06\n",
       "75%      2.565514e+06\n",
       "max      3.421083e+06\n",
       "Name: order_id, dtype: float64"
      ]
     },
     "execution_count": 17,
     "metadata": {},
     "output_type": "execute_result"
    }
   ],
   "source": [
    "# Exploring the data for this column\n",
    "df['order_id'].describe()"
   ]
  },
  {
   "cell_type": "code",
   "execution_count": 18,
   "id": "1953faa4",
   "metadata": {},
   "outputs": [
    {
     "data": {
      "text/plain": [
       "3214874"
      ]
     },
     "execution_count": 18,
     "metadata": {},
     "output_type": "execute_result"
    }
   ],
   "source": [
    "# Checking the uniqueness of order_id numbers\n",
    "df.order_id.nunique()"
   ]
  },
  {
   "cell_type": "code",
   "execution_count": 19,
   "id": "41bb0908",
   "metadata": {
    "scrolled": true
   },
   "outputs": [
    {
     "data": {
      "text/plain": [
       "2           9\n",
       "3           8\n",
       "4          13\n",
       "5          26\n",
       "6           3\n",
       "           ..\n",
       "3421079     1\n",
       "3421080     9\n",
       "3421081     7\n",
       "3421082     7\n",
       "3421083    10\n",
       "Name: order_id, Length: 3214874, dtype: int64"
      ]
     },
     "execution_count": 19,
     "metadata": {},
     "output_type": "execute_result"
    }
   ],
   "source": [
    "df['order_id'].value_counts(dropna=False).sort_index()"
   ]
  },
  {
   "cell_type": "markdown",
   "id": "6cd68e2e",
   "metadata": {},
   "source": [
    "Values all seem reasonable. There are roughly 3.4 million orders.  The number of products ordered varied by order. For example, order 2 had 9 products while order 3,421,079 had only 1 product."
   ]
  },
  {
   "cell_type": "markdown",
   "id": "9fb087d8",
   "metadata": {},
   "source": [
    "#### 0.5.3 product_id cleaning/wrangling"
   ]
  },
  {
   "cell_type": "code",
   "execution_count": 20,
   "id": "3f17fe44",
   "metadata": {},
   "outputs": [
    {
     "data": {
      "text/plain": [
       "count    3.243449e+07\n",
       "mean     2.557634e+04\n",
       "std      1.409669e+04\n",
       "min      1.000000e+00\n",
       "25%      1.353000e+04\n",
       "50%      2.525600e+04\n",
       "75%      3.793500e+04\n",
       "max      4.968800e+04\n",
       "Name: product_id, dtype: float64"
      ]
     },
     "execution_count": 20,
     "metadata": {},
     "output_type": "execute_result"
    }
   ],
   "source": [
    "# Exploring the data for this column\n",
    "df['product_id'].describe()"
   ]
  },
  {
   "cell_type": "code",
   "execution_count": 21,
   "id": "1b2ce790",
   "metadata": {},
   "outputs": [
    {
     "data": {
      "text/plain": [
       "1        1852\n",
       "2          90\n",
       "3         277\n",
       "4         329\n",
       "5          15\n",
       "         ... \n",
       "49684       9\n",
       "49685      49\n",
       "49686     120\n",
       "49687      13\n",
       "49688      89\n",
       "Name: product_id, Length: 49677, dtype: int64"
      ]
     },
     "execution_count": 21,
     "metadata": {},
     "output_type": "execute_result"
    }
   ],
   "source": [
    "df['product_id'].value_counts(dropna=False).sort_index()"
   ]
  },
  {
   "cell_type": "markdown",
   "id": "c7f3e799",
   "metadata": {},
   "source": [
    "Values seem reasonable. There are just under 50k products of varying popularity. For example, product 1 was ordered 1,852 times whereas product 49684 was only ordered 9 times."
   ]
  },
  {
   "cell_type": "markdown",
   "id": "317d04fe",
   "metadata": {},
   "source": [
    "#### 0.5.4 add_to_cart_order cleaning/wrangling"
   ]
  },
  {
   "cell_type": "code",
   "execution_count": 22,
   "id": "2826f209",
   "metadata": {},
   "outputs": [
    {
     "data": {
      "text/plain": [
       "count    3.243449e+07\n",
       "mean     8.351076e+00\n",
       "std      7.126671e+00\n",
       "min      1.000000e+00\n",
       "25%      3.000000e+00\n",
       "50%      6.000000e+00\n",
       "75%      1.100000e+01\n",
       "max      1.450000e+02\n",
       "Name: add_to_cart_order, dtype: float64"
      ]
     },
     "execution_count": 22,
     "metadata": {},
     "output_type": "execute_result"
    }
   ],
   "source": [
    "# Exploring the data for this column\n",
    "df['add_to_cart_order'].describe()"
   ]
  },
  {
   "cell_type": "code",
   "execution_count": 23,
   "id": "db670355",
   "metadata": {},
   "outputs": [
    {
     "data": {
      "text/plain": [
       "1      3214874\n",
       "2      3058126\n",
       "3      2871133\n",
       "4      2664106\n",
       "5      2442025\n",
       "        ...   \n",
       "141          1\n",
       "142          1\n",
       "143          1\n",
       "144          1\n",
       "145          1\n",
       "Name: add_to_cart_order, Length: 145, dtype: int64"
      ]
     },
     "execution_count": 23,
     "metadata": {},
     "output_type": "execute_result"
    }
   ],
   "source": [
    "df['add_to_cart_order'].value_counts(dropna=False).sort_index()"
   ]
  },
  {
   "cell_type": "markdown",
   "id": "8412df7d",
   "metadata": {},
   "source": [
    "Values seem reasonable. There were 3214874 unique orders and every one of those would need a first item added to their cart, so 1 appropriately = 3214874"
   ]
  },
  {
   "cell_type": "markdown",
   "id": "dd9d829d",
   "metadata": {},
   "source": [
    "#### 0.5.5 reordered cleaning/wrangling"
   ]
  },
  {
   "cell_type": "code",
   "execution_count": 24,
   "id": "b64dd8ce",
   "metadata": {},
   "outputs": [
    {
     "data": {
      "text/plain": [
       "count    3.243449e+07\n",
       "mean     5.896975e-01\n",
       "std      4.918886e-01\n",
       "min      0.000000e+00\n",
       "25%      0.000000e+00\n",
       "50%      1.000000e+00\n",
       "75%      1.000000e+00\n",
       "max      1.000000e+00\n",
       "Name: reordered, dtype: float64"
      ]
     },
     "execution_count": 24,
     "metadata": {},
     "output_type": "execute_result"
    }
   ],
   "source": [
    "# Exploring the data for this column\n",
    "df['reordered'].describe()"
   ]
  },
  {
   "cell_type": "code",
   "execution_count": 25,
   "id": "c1e8d187",
   "metadata": {},
   "outputs": [
    {
     "data": {
      "text/plain": [
       "0    13307953\n",
       "1    19126536\n",
       "Name: reordered, dtype: int64"
      ]
     },
     "execution_count": 25,
     "metadata": {},
     "output_type": "execute_result"
    }
   ],
   "source": [
    "df['reordered'].value_counts(dropna=False).sort_index()"
   ]
  },
  {
   "cell_type": "markdown",
   "id": "3510ed7d",
   "metadata": {},
   "source": [
    "It appears this field is acting like a boolean.  It may be valuable to ask the client if we can switch it to a true boolean instead of an int8."
   ]
  },
  {
   "cell_type": "markdown",
   "id": "c5c327ea",
   "metadata": {},
   "source": [
    "### 0.6 Exporting cleaned data"
   ]
  },
  {
   "cell_type": "code",
   "execution_count": 26,
   "id": "b17b7b79",
   "metadata": {},
   "outputs": [
    {
     "data": {
      "text/plain": [
       "(32434489, 4)"
      ]
     },
     "execution_count": 26,
     "metadata": {},
     "output_type": "execute_result"
    }
   ],
   "source": [
    "# Confirming shape\n",
    "df.shape"
   ]
  },
  {
   "cell_type": "code",
   "execution_count": 27,
   "id": "84923a0d",
   "metadata": {},
   "outputs": [],
   "source": [
    "# Exporting final df after completing consistency checks\n",
    "df.to_pickle(os.path.join(path, '02 Data','Prepared Data', 'orders_products_prior_clean.pkl'))"
   ]
  },
  {
   "cell_type": "code",
   "execution_count": null,
   "id": "e3706e09",
   "metadata": {},
   "outputs": [],
   "source": []
  }
 ],
 "metadata": {
  "kernelspec": {
   "display_name": "Python 3 (ipykernel)",
   "language": "python",
   "name": "python3"
  },
  "language_info": {
   "codemirror_mode": {
    "name": "ipython",
    "version": 3
   },
   "file_extension": ".py",
   "mimetype": "text/x-python",
   "name": "python",
   "nbconvert_exporter": "python",
   "pygments_lexer": "ipython3",
   "version": "3.9.13"
  }
 },
 "nbformat": 4,
 "nbformat_minor": 5
}
