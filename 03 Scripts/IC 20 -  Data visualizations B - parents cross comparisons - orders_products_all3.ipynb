{
 "cells": [
  {
   "cell_type": "markdown",
   "id": "2ee5e59a",
   "metadata": {},
   "source": [
    "# Table of Contents"
   ]
  },
  {
   "cell_type": "markdown",
   "id": "f207c862",
   "metadata": {},
   "source": [
    "0.1 Importing Libraries\n",
    "\n",
    "0.2 Importing Data\n",
    "\n",
    "0.3 Exploring Original Df\n",
    "\n",
    "0.4 Defining styles and labels formats\n",
    "\n",
    "0.5 Random sampling of 30% of data\n",
    "\n",
    "0.6 Exploration of parents\n",
    "\n",
    "    0.6.1 importance of this profile\n",
    "            A. count of users\n",
    "            B. gross sales (total_spent_in_lifetime)\n",
    "\n",
    "   \n"
   ]
  },
  {
   "cell_type": "markdown",
   "id": "cc8dcbd1",
   "metadata": {},
   "source": [
    "### 0.1 Importing Libraries"
   ]
  },
  {
   "cell_type": "code",
   "execution_count": 1,
   "id": "9709810d",
   "metadata": {},
   "outputs": [],
   "source": [
    "# Import libraries\n",
    "import pandas as pd\n",
    "import numpy as np\n",
    "import os\n",
    "import matplotlib.pyplot as plt\n",
    "import seaborn as sns\n",
    "import scipy"
   ]
  },
  {
   "cell_type": "markdown",
   "id": "b5b185b2",
   "metadata": {},
   "source": [
    "### 0.2 Importing Data"
   ]
  },
  {
   "cell_type": "code",
   "execution_count": 2,
   "id": "6e7f5881",
   "metadata": {},
   "outputs": [],
   "source": [
    "# Identify the file pathway to data files\n",
    "path = r'C:\\Users\\CJ\\Documents\\_CJ-Stuff\\Career Foundry\\Data Immersion\\Ach 4 - Python\\2023-03 Instacart Basket Analysis'"
   ]
  },
  {
   "cell_type": "code",
   "execution_count": 3,
   "id": "f8ca6a0b",
   "metadata": {
    "scrolled": true
   },
   "outputs": [],
   "source": [
    "# Import data from 'orders_products_all3.pkl'\n",
    "df = pd.read_pickle(os.path.join(path, '02 Data', 'Prepared Data', 'orders_products_all3.pkl'))"
   ]
  },
  {
   "cell_type": "code",
   "execution_count": 4,
   "id": "ba7a76fc",
   "metadata": {},
   "outputs": [],
   "source": [
    "# Import data from 'dept_data.pkl'\n",
    "dept_data = pd.read_pickle(os.path.join(path, '02 Data', 'Prepared Data', 'department_data.pkl'))"
   ]
  },
  {
   "cell_type": "markdown",
   "id": "636854e9",
   "metadata": {},
   "source": [
    "### 0.3 Exploring Original dfs"
   ]
  },
  {
   "cell_type": "code",
   "execution_count": 5,
   "id": "41f99131",
   "metadata": {
    "scrolled": true
   },
   "outputs": [
    {
     "data": {
      "text/plain": [
       "(32434489, 45)"
      ]
     },
     "execution_count": 5,
     "metadata": {},
     "output_type": "execute_result"
    }
   ],
   "source": [
    "df.shape"
   ]
  },
  {
   "cell_type": "code",
   "execution_count": 6,
   "id": "f0f5df72",
   "metadata": {
    "scrolled": true
   },
   "outputs": [
    {
     "name": "stdout",
     "output_type": "stream",
     "text": [
      "<class 'pandas.core.frame.DataFrame'>\n",
      "Int64Index: 32434489 entries, 0 to 32434488\n",
      "Data columns (total 45 columns):\n",
      " #   Column                       Dtype         \n",
      "---  ------                       -----         \n",
      " 0   order_id                     int64         \n",
      " 1   user_id                      int64         \n",
      " 2   order_number                 int16         \n",
      " 3   order_day_of_week            int8          \n",
      " 4   order_hour_of_day            int8          \n",
      " 5   days_since_prior_order       float16       \n",
      " 6   first_order_of_new_customer  bool          \n",
      " 7   product_id                   int32         \n",
      " 8   add_to_cart_order            int16         \n",
      " 9   reordered                    int8          \n",
      " 10  product_name                 object        \n",
      " 11  aisle_id                     float16       \n",
      " 12  department_id                float16       \n",
      " 13  price                        float32       \n",
      " 14  product_info_available       bool          \n",
      " 15  price_available              bool          \n",
      " 16  price_range                  category      \n",
      " 17  busiest_day                  category      \n",
      " 18  busiest_days                 category      \n",
      " 19  busiest_period_of_day        category      \n",
      " 20  max_order                    int16         \n",
      " 21  loyalty_flag                 category      \n",
      " 22  mean_spending                float32       \n",
      " 23  spender_type                 category      \n",
      " 24  median_days_since_ordering   float16       \n",
      " 25  frequent_shopper             category      \n",
      " 26  gender                       category      \n",
      " 27  state                        category      \n",
      " 28  age                          int16         \n",
      " 29  date_joined                  datetime64[ns]\n",
      " 30  n_dependants                 int8          \n",
      " 31  fam_status                   category      \n",
      " 32  income                       int64         \n",
      " 33  region                       category      \n",
      " 34  low_activity_flag            bool          \n",
      " 35  total_spent_in_order         float32       \n",
      " 36  total_spent_in_lifetime      float32       \n",
      " 37  total_items_in_lifetime      int32         \n",
      " 38  avg_items_per_order_by_user  float16       \n",
      " 39  baby_parent                  bool          \n",
      " 40  pet_owner                    bool          \n",
      " 41  income_group                 category      \n",
      " 42  senior_citizen               bool          \n",
      " 43  two_parent_fam               bool          \n",
      " 44  single_parent                bool          \n",
      "dtypes: bool(9), category(12), datetime64[ns](1), float16(5), float32(4), int16(4), int32(2), int64(3), int8(4), object(1)\n",
      "memory usage: 3.5+ GB\n"
     ]
    }
   ],
   "source": [
    "df.info()"
   ]
  },
  {
   "cell_type": "code",
   "execution_count": 7,
   "id": "47ad4aa0",
   "metadata": {
    "scrolled": true
   },
   "outputs": [
    {
     "data": {
      "text/html": [
       "<div>\n",
       "<style scoped>\n",
       "    .dataframe tbody tr th:only-of-type {\n",
       "        vertical-align: middle;\n",
       "    }\n",
       "\n",
       "    .dataframe tbody tr th {\n",
       "        vertical-align: top;\n",
       "    }\n",
       "\n",
       "    .dataframe thead th {\n",
       "        text-align: right;\n",
       "    }\n",
       "</style>\n",
       "<table border=\"1\" class=\"dataframe\">\n",
       "  <thead>\n",
       "    <tr style=\"text-align: right;\">\n",
       "      <th></th>\n",
       "      <th>order_id</th>\n",
       "      <th>user_id</th>\n",
       "      <th>order_number</th>\n",
       "      <th>order_day_of_week</th>\n",
       "      <th>order_hour_of_day</th>\n",
       "      <th>days_since_prior_order</th>\n",
       "      <th>first_order_of_new_customer</th>\n",
       "      <th>product_id</th>\n",
       "      <th>add_to_cart_order</th>\n",
       "      <th>reordered</th>\n",
       "      <th>...</th>\n",
       "      <th>total_spent_in_order</th>\n",
       "      <th>total_spent_in_lifetime</th>\n",
       "      <th>total_items_in_lifetime</th>\n",
       "      <th>avg_items_per_order_by_user</th>\n",
       "      <th>baby_parent</th>\n",
       "      <th>pet_owner</th>\n",
       "      <th>income_group</th>\n",
       "      <th>senior_citizen</th>\n",
       "      <th>two_parent_fam</th>\n",
       "      <th>single_parent</th>\n",
       "    </tr>\n",
       "  </thead>\n",
       "  <tbody>\n",
       "    <tr>\n",
       "      <th>0</th>\n",
       "      <td>2539329</td>\n",
       "      <td>1</td>\n",
       "      <td>1</td>\n",
       "      <td>2</td>\n",
       "      <td>8</td>\n",
       "      <td>NaN</td>\n",
       "      <td>True</td>\n",
       "      <td>196</td>\n",
       "      <td>1</td>\n",
       "      <td>0</td>\n",
       "      <td>...</td>\n",
       "      <td>31.6</td>\n",
       "      <td>375.700012</td>\n",
       "      <td>59</td>\n",
       "      <td>5.898438</td>\n",
       "      <td>False</td>\n",
       "      <td>False</td>\n",
       "      <td>Low income</td>\n",
       "      <td>False</td>\n",
       "      <td>True</td>\n",
       "      <td>False</td>\n",
       "    </tr>\n",
       "    <tr>\n",
       "      <th>1</th>\n",
       "      <td>2539329</td>\n",
       "      <td>1</td>\n",
       "      <td>1</td>\n",
       "      <td>2</td>\n",
       "      <td>8</td>\n",
       "      <td>NaN</td>\n",
       "      <td>True</td>\n",
       "      <td>14084</td>\n",
       "      <td>2</td>\n",
       "      <td>0</td>\n",
       "      <td>...</td>\n",
       "      <td>31.6</td>\n",
       "      <td>375.700012</td>\n",
       "      <td>59</td>\n",
       "      <td>5.898438</td>\n",
       "      <td>False</td>\n",
       "      <td>False</td>\n",
       "      <td>Low income</td>\n",
       "      <td>False</td>\n",
       "      <td>True</td>\n",
       "      <td>False</td>\n",
       "    </tr>\n",
       "    <tr>\n",
       "      <th>2</th>\n",
       "      <td>2539329</td>\n",
       "      <td>1</td>\n",
       "      <td>1</td>\n",
       "      <td>2</td>\n",
       "      <td>8</td>\n",
       "      <td>NaN</td>\n",
       "      <td>True</td>\n",
       "      <td>12427</td>\n",
       "      <td>3</td>\n",
       "      <td>0</td>\n",
       "      <td>...</td>\n",
       "      <td>31.6</td>\n",
       "      <td>375.700012</td>\n",
       "      <td>59</td>\n",
       "      <td>5.898438</td>\n",
       "      <td>False</td>\n",
       "      <td>False</td>\n",
       "      <td>Low income</td>\n",
       "      <td>False</td>\n",
       "      <td>True</td>\n",
       "      <td>False</td>\n",
       "    </tr>\n",
       "    <tr>\n",
       "      <th>3</th>\n",
       "      <td>2539329</td>\n",
       "      <td>1</td>\n",
       "      <td>1</td>\n",
       "      <td>2</td>\n",
       "      <td>8</td>\n",
       "      <td>NaN</td>\n",
       "      <td>True</td>\n",
       "      <td>26088</td>\n",
       "      <td>4</td>\n",
       "      <td>0</td>\n",
       "      <td>...</td>\n",
       "      <td>31.6</td>\n",
       "      <td>375.700012</td>\n",
       "      <td>59</td>\n",
       "      <td>5.898438</td>\n",
       "      <td>False</td>\n",
       "      <td>False</td>\n",
       "      <td>Low income</td>\n",
       "      <td>False</td>\n",
       "      <td>True</td>\n",
       "      <td>False</td>\n",
       "    </tr>\n",
       "    <tr>\n",
       "      <th>4</th>\n",
       "      <td>2539329</td>\n",
       "      <td>1</td>\n",
       "      <td>1</td>\n",
       "      <td>2</td>\n",
       "      <td>8</td>\n",
       "      <td>NaN</td>\n",
       "      <td>True</td>\n",
       "      <td>26405</td>\n",
       "      <td>5</td>\n",
       "      <td>0</td>\n",
       "      <td>...</td>\n",
       "      <td>31.6</td>\n",
       "      <td>375.700012</td>\n",
       "      <td>59</td>\n",
       "      <td>5.898438</td>\n",
       "      <td>False</td>\n",
       "      <td>False</td>\n",
       "      <td>Low income</td>\n",
       "      <td>False</td>\n",
       "      <td>True</td>\n",
       "      <td>False</td>\n",
       "    </tr>\n",
       "  </tbody>\n",
       "</table>\n",
       "<p>5 rows × 45 columns</p>\n",
       "</div>"
      ],
      "text/plain": [
       "   order_id  user_id  order_number  order_day_of_week  order_hour_of_day  \\\n",
       "0   2539329        1             1                  2                  8   \n",
       "1   2539329        1             1                  2                  8   \n",
       "2   2539329        1             1                  2                  8   \n",
       "3   2539329        1             1                  2                  8   \n",
       "4   2539329        1             1                  2                  8   \n",
       "\n",
       "   days_since_prior_order  first_order_of_new_customer  product_id  \\\n",
       "0                     NaN                         True         196   \n",
       "1                     NaN                         True       14084   \n",
       "2                     NaN                         True       12427   \n",
       "3                     NaN                         True       26088   \n",
       "4                     NaN                         True       26405   \n",
       "\n",
       "   add_to_cart_order  reordered  ... total_spent_in_order  \\\n",
       "0                  1          0  ...                 31.6   \n",
       "1                  2          0  ...                 31.6   \n",
       "2                  3          0  ...                 31.6   \n",
       "3                  4          0  ...                 31.6   \n",
       "4                  5          0  ...                 31.6   \n",
       "\n",
       "   total_spent_in_lifetime  total_items_in_lifetime  \\\n",
       "0               375.700012                       59   \n",
       "1               375.700012                       59   \n",
       "2               375.700012                       59   \n",
       "3               375.700012                       59   \n",
       "4               375.700012                       59   \n",
       "\n",
       "   avg_items_per_order_by_user  baby_parent  pet_owner income_group  \\\n",
       "0                     5.898438        False      False   Low income   \n",
       "1                     5.898438        False      False   Low income   \n",
       "2                     5.898438        False      False   Low income   \n",
       "3                     5.898438        False      False   Low income   \n",
       "4                     5.898438        False      False   Low income   \n",
       "\n",
       "  senior_citizen two_parent_fam single_parent  \n",
       "0          False           True         False  \n",
       "1          False           True         False  \n",
       "2          False           True         False  \n",
       "3          False           True         False  \n",
       "4          False           True         False  \n",
       "\n",
       "[5 rows x 45 columns]"
      ]
     },
     "execution_count": 7,
     "metadata": {},
     "output_type": "execute_result"
    }
   ],
   "source": [
    "df.head()"
   ]
  },
  {
   "cell_type": "code",
   "execution_count": 8,
   "id": "7407f1b2",
   "metadata": {
    "scrolled": true
   },
   "outputs": [
    {
     "data": {
      "text/plain": [
       "order_id                             0\n",
       "user_id                              0\n",
       "order_number                         0\n",
       "order_day_of_week                    0\n",
       "order_hour_of_day                    0\n",
       "days_since_prior_order         2078068\n",
       "first_order_of_new_customer          0\n",
       "product_id                           0\n",
       "add_to_cart_order                    0\n",
       "reordered                            0\n",
       "product_name                     30770\n",
       "aisle_id                         30770\n",
       "department_id                    30770\n",
       "price                            35897\n",
       "product_info_available               0\n",
       "price_available                      0\n",
       "price_range                      35897\n",
       "busiest_day                          0\n",
       "busiest_days                         0\n",
       "busiest_period_of_day                0\n",
       "max_order                            0\n",
       "loyalty_flag                         0\n",
       "mean_spending                        0\n",
       "spender_type                         0\n",
       "median_days_since_ordering           0\n",
       "frequent_shopper                     0\n",
       "gender                               0\n",
       "state                                0\n",
       "age                                  0\n",
       "date_joined                          0\n",
       "n_dependants                         0\n",
       "fam_status                           0\n",
       "income                               0\n",
       "region                               0\n",
       "low_activity_flag                    0\n",
       "total_spent_in_order                 0\n",
       "total_spent_in_lifetime              0\n",
       "total_items_in_lifetime              0\n",
       "avg_items_per_order_by_user          0\n",
       "baby_parent                          0\n",
       "pet_owner                            0\n",
       "income_group                         0\n",
       "senior_citizen                       0\n",
       "two_parent_fam                       0\n",
       "single_parent                        0\n",
       "dtype: int64"
      ]
     },
     "execution_count": 8,
     "metadata": {},
     "output_type": "execute_result"
    }
   ],
   "source": [
    "df.isnull().sum()"
   ]
  },
  {
   "cell_type": "markdown",
   "id": "860620e3",
   "metadata": {},
   "source": [
    "All nulls have been previously accounted for and labeled appropriately with flags."
   ]
  },
  {
   "cell_type": "code",
   "execution_count": 9,
   "id": "65046bf7",
   "metadata": {},
   "outputs": [
    {
     "data": {
      "text/plain": [
       "(21, 8)"
      ]
     },
     "execution_count": 9,
     "metadata": {},
     "output_type": "execute_result"
    }
   ],
   "source": [
    "dept_data.shape"
   ]
  },
  {
   "cell_type": "code",
   "execution_count": 10,
   "id": "8d776319",
   "metadata": {},
   "outputs": [
    {
     "name": "stdout",
     "output_type": "stream",
     "text": [
      "<class 'pandas.core.frame.DataFrame'>\n",
      "Int64Index: 21 entries, 0 to 20\n",
      "Data columns (total 8 columns):\n",
      " #   Column                       Non-Null Count  Dtype   \n",
      "---  ------                       --------------  -----   \n",
      " 0   department                   21 non-null     category\n",
      " 1   department_id                21 non-null     int8    \n",
      " 2   total_items_sold_by_dept     21 non-null     int64   \n",
      " 3   total_spent_in_dept          21 non-null     float32 \n",
      " 4   avg_price_per_item_in_dept   21 non-null     float32 \n",
      " 5   total_orders_from_dept       21 non-null     int32   \n",
      " 6   avg_items_per_order_by_dept  21 non-null     float32 \n",
      " 7   n_unique_items_in_dept       21 non-null     int16   \n",
      "dtypes: category(1), float32(3), int16(1), int32(1), int64(1), int8(1)\n",
      "memory usage: 924.0 bytes\n"
     ]
    }
   ],
   "source": [
    "dept_data.info()"
   ]
  },
  {
   "cell_type": "code",
   "execution_count": 11,
   "id": "1d67f1f0",
   "metadata": {},
   "outputs": [
    {
     "data": {
      "text/html": [
       "<div>\n",
       "<style scoped>\n",
       "    .dataframe tbody tr th:only-of-type {\n",
       "        vertical-align: middle;\n",
       "    }\n",
       "\n",
       "    .dataframe tbody tr th {\n",
       "        vertical-align: top;\n",
       "    }\n",
       "\n",
       "    .dataframe thead th {\n",
       "        text-align: right;\n",
       "    }\n",
       "</style>\n",
       "<table border=\"1\" class=\"dataframe\">\n",
       "  <thead>\n",
       "    <tr style=\"text-align: right;\">\n",
       "      <th></th>\n",
       "      <th>department</th>\n",
       "      <th>department_id</th>\n",
       "      <th>total_items_sold_by_dept</th>\n",
       "      <th>total_spent_in_dept</th>\n",
       "      <th>avg_price_per_item_in_dept</th>\n",
       "      <th>total_orders_from_dept</th>\n",
       "      <th>avg_items_per_order_by_dept</th>\n",
       "      <th>n_unique_items_in_dept</th>\n",
       "    </tr>\n",
       "  </thead>\n",
       "  <tbody>\n",
       "    <tr>\n",
       "      <th>0</th>\n",
       "      <td>frozen</td>\n",
       "      <td>1</td>\n",
       "      <td>2234743</td>\n",
       "      <td>17289206.00</td>\n",
       "      <td>7.736552</td>\n",
       "      <td>1180461</td>\n",
       "      <td>1.893110</td>\n",
       "      <td>4006</td>\n",
       "    </tr>\n",
       "    <tr>\n",
       "      <th>1</th>\n",
       "      <td>other</td>\n",
       "      <td>2</td>\n",
       "      <td>36291</td>\n",
       "      <td>253708.00</td>\n",
       "      <td>6.990934</td>\n",
       "      <td>35056</td>\n",
       "      <td>1.035229</td>\n",
       "      <td>548</td>\n",
       "    </tr>\n",
       "    <tr>\n",
       "      <th>2</th>\n",
       "      <td>bakery</td>\n",
       "      <td>3</td>\n",
       "      <td>1172428</td>\n",
       "      <td>9208026.00</td>\n",
       "      <td>7.853809</td>\n",
       "      <td>878658</td>\n",
       "      <td>1.334339</td>\n",
       "      <td>1515</td>\n",
       "    </tr>\n",
       "    <tr>\n",
       "      <th>3</th>\n",
       "      <td>produce</td>\n",
       "      <td>4</td>\n",
       "      <td>9479291</td>\n",
       "      <td>75660936.00</td>\n",
       "      <td>7.981709</td>\n",
       "      <td>2409320</td>\n",
       "      <td>3.934426</td>\n",
       "      <td>1684</td>\n",
       "    </tr>\n",
       "    <tr>\n",
       "      <th>4</th>\n",
       "      <td>alcohol</td>\n",
       "      <td>5</td>\n",
       "      <td>153696</td>\n",
       "      <td>1251654.25</td>\n",
       "      <td>8.143701</td>\n",
       "      <td>84689</td>\n",
       "      <td>1.814828</td>\n",
       "      <td>1054</td>\n",
       "    </tr>\n",
       "  </tbody>\n",
       "</table>\n",
       "</div>"
      ],
      "text/plain": [
       "  department  department_id  total_items_sold_by_dept  total_spent_in_dept  \\\n",
       "0     frozen              1                   2234743          17289206.00   \n",
       "1      other              2                     36291            253708.00   \n",
       "2     bakery              3                   1172428           9208026.00   \n",
       "3    produce              4                   9479291          75660936.00   \n",
       "4    alcohol              5                    153696           1251654.25   \n",
       "\n",
       "   avg_price_per_item_in_dept  total_orders_from_dept  \\\n",
       "0                    7.736552                 1180461   \n",
       "1                    6.990934                   35056   \n",
       "2                    7.853809                  878658   \n",
       "3                    7.981709                 2409320   \n",
       "4                    8.143701                   84689   \n",
       "\n",
       "   avg_items_per_order_by_dept  n_unique_items_in_dept  \n",
       "0                     1.893110                    4006  \n",
       "1                     1.035229                     548  \n",
       "2                     1.334339                    1515  \n",
       "3                     3.934426                    1684  \n",
       "4                     1.814828                    1054  "
      ]
     },
     "execution_count": 11,
     "metadata": {},
     "output_type": "execute_result"
    }
   ],
   "source": [
    "dept_data.head()"
   ]
  },
  {
   "cell_type": "code",
   "execution_count": 12,
   "id": "dab5037e",
   "metadata": {},
   "outputs": [
    {
     "data": {
      "text/plain": [
       "department                     0\n",
       "department_id                  0\n",
       "total_items_sold_by_dept       0\n",
       "total_spent_in_dept            0\n",
       "avg_price_per_item_in_dept     0\n",
       "total_orders_from_dept         0\n",
       "avg_items_per_order_by_dept    0\n",
       "n_unique_items_in_dept         0\n",
       "dtype: int64"
      ]
     },
     "execution_count": 12,
     "metadata": {},
     "output_type": "execute_result"
    }
   ],
   "source": [
    "dept_data.isnull().sum()"
   ]
  },
  {
   "cell_type": "markdown",
   "id": "0745ec2e",
   "metadata": {},
   "source": [
    "### 0.4 Defining styles and label formats"
   ]
  },
  {
   "cell_type": "code",
   "execution_count": 13,
   "id": "5ed5dad9",
   "metadata": {},
   "outputs": [],
   "source": [
    "# Creating a consistent style for titles and axis labels\n",
    "font_title = {'family':'serif','color':'forestgreen','size':20}\n",
    "font_sm_title = {'family':'serif','color':'forestgreen','size':16}\n",
    "font_label = {'family': 'serif', 'color' :'forestgreen', 'size':15}\n",
    "font_sm_label = {'family': 'serif', 'color' :'forestgreen', 'size':13}"
   ]
  },
  {
   "cell_type": "code",
   "execution_count": 14,
   "id": "06056cd6",
   "metadata": {},
   "outputs": [],
   "source": [
    "# Identifying the days of the week that go with the code in the df\n",
    "# 0 = Sat, 1 = Sun, etc.\n",
    "dow = ('Sat', 'Sun', 'Mon', 'Tues', 'Weds', 'Thurs', 'Fri')\n",
    "dow_xticks = np.arange(len(dow))"
   ]
  },
  {
   "cell_type": "code",
   "execution_count": 15,
   "id": "79d19b65",
   "metadata": {},
   "outputs": [],
   "source": [
    "# Identifying the hours of the day that go with the code in the df\n",
    "# 0 = 12 a.m., 1 = 1 a.m.... 13 = 1 p.m., etc.\n",
    "hod = ('Midnight','1 a.m.', '2 a.m.', '3 a.m.', '4 a.m.', '5 a.m.', \n",
    "       '6 a.m.', '7 a.m.', '8 a.m.', '9 a.m.', '10 a.m.', '11 a.m.', \n",
    "       'Noon', '1 p.m.', '2 p.m.', '3 p.m.', '4 p.m.', '5 p.m.', \n",
    "       '6 p.m.', '7 p.m.', '8 p.m.', '9 p.m.', '10 p.m.', '11 p.m.')\n",
    "hod_xticks = np.arange(len(hod))"
   ]
  },
  {
   "cell_type": "code",
   "execution_count": 16,
   "id": "9fb096dc",
   "metadata": {},
   "outputs": [],
   "source": [
    "# Turning off the scientific notation\n",
    "pd.set_option('display.float_format', lambda x: f'{x:,.2f}')"
   ]
  },
  {
   "cell_type": "code",
   "execution_count": 17,
   "id": "0d2e7f49",
   "metadata": {},
   "outputs": [],
   "source": [
    "# Define colors dark grey and forest green for plots\n",
    "# colors = ['A9A9A9', '228B22']"
   ]
  },
  {
   "cell_type": "code",
   "execution_count": 18,
   "id": "03153a59",
   "metadata": {},
   "outputs": [],
   "source": [
    "# Identifying which profile we are investigating\n",
    "profile = 'Parents'\n",
    "profile_label = 'Parents'\n",
    "not_profile_label = 'Other Users'\n",
    "labels = ['Parents of Children or Teens', 'Parents of Babies', 'Other Users']\n",
    "labels_r = ['Other Users', 'Parents of Babies', 'Parents of Children or Teens']\n",
    "colors = ['aquamarine', 'lightseagreen', 'grey']\n",
    "colors_r = ['grey', 'lightseagreen', 'aquamarine']"
   ]
  },
  {
   "cell_type": "code",
   "execution_count": null,
   "id": "1fa74ded",
   "metadata": {},
   "outputs": [],
   "source": []
  },
  {
   "cell_type": "markdown",
   "id": "60150f1c",
   "metadata": {},
   "source": [
    "### 0.5 Creating a subset df with each row = 1 user and profile flag"
   ]
  },
  {
   "cell_type": "code",
   "execution_count": 19,
   "id": "03827c6b",
   "metadata": {},
   "outputs": [],
   "source": [
    "# Create a temporary df to use for visualizations that should be per user\n",
    "# rather than per item ordered\n",
    "df_user_subset = pd.DataFrame()"
   ]
  },
  {
   "cell_type": "code",
   "execution_count": 20,
   "id": "f5edb1f1",
   "metadata": {},
   "outputs": [],
   "source": [
    "df_user_subset = df[['user_id', 'loyalty_flag', 'spender_type', 'frequent_shopper', 'gender', 'age', 'n_dependants', 'fam_status', 'income', 'income_group', 'region', 'low_activity_flag', 'total_spent_in_lifetime', 'total_items_in_lifetime', 'avg_items_per_order_by_user', 'baby_parent', 'pet_owner', 'senior_citizen', 'two_parent_fam', 'single_parent']]"
   ]
  },
  {
   "cell_type": "code",
   "execution_count": 21,
   "id": "0ffd4594",
   "metadata": {},
   "outputs": [
    {
     "data": {
      "text/html": [
       "<div>\n",
       "<style scoped>\n",
       "    .dataframe tbody tr th:only-of-type {\n",
       "        vertical-align: middle;\n",
       "    }\n",
       "\n",
       "    .dataframe tbody tr th {\n",
       "        vertical-align: top;\n",
       "    }\n",
       "\n",
       "    .dataframe thead th {\n",
       "        text-align: right;\n",
       "    }\n",
       "</style>\n",
       "<table border=\"1\" class=\"dataframe\">\n",
       "  <thead>\n",
       "    <tr style=\"text-align: right;\">\n",
       "      <th></th>\n",
       "      <th>user_id</th>\n",
       "      <th>loyalty_flag</th>\n",
       "      <th>spender_type</th>\n",
       "      <th>frequent_shopper</th>\n",
       "      <th>gender</th>\n",
       "      <th>age</th>\n",
       "      <th>n_dependants</th>\n",
       "      <th>fam_status</th>\n",
       "      <th>income</th>\n",
       "      <th>income_group</th>\n",
       "      <th>region</th>\n",
       "      <th>low_activity_flag</th>\n",
       "      <th>total_spent_in_lifetime</th>\n",
       "      <th>total_items_in_lifetime</th>\n",
       "      <th>avg_items_per_order_by_user</th>\n",
       "      <th>baby_parent</th>\n",
       "      <th>pet_owner</th>\n",
       "      <th>senior_citizen</th>\n",
       "      <th>two_parent_fam</th>\n",
       "      <th>single_parent</th>\n",
       "    </tr>\n",
       "  </thead>\n",
       "  <tbody>\n",
       "    <tr>\n",
       "      <th>0</th>\n",
       "      <td>1</td>\n",
       "      <td>New customer</td>\n",
       "      <td>Low spender</td>\n",
       "      <td>Regular customer</td>\n",
       "      <td>Female</td>\n",
       "      <td>31</td>\n",
       "      <td>3</td>\n",
       "      <td>married</td>\n",
       "      <td>40423</td>\n",
       "      <td>Low income</td>\n",
       "      <td>South</td>\n",
       "      <td>False</td>\n",
       "      <td>375.70</td>\n",
       "      <td>59</td>\n",
       "      <td>5.90</td>\n",
       "      <td>False</td>\n",
       "      <td>False</td>\n",
       "      <td>False</td>\n",
       "      <td>True</td>\n",
       "      <td>False</td>\n",
       "    </tr>\n",
       "    <tr>\n",
       "      <th>1</th>\n",
       "      <td>1</td>\n",
       "      <td>New customer</td>\n",
       "      <td>Low spender</td>\n",
       "      <td>Regular customer</td>\n",
       "      <td>Female</td>\n",
       "      <td>31</td>\n",
       "      <td>3</td>\n",
       "      <td>married</td>\n",
       "      <td>40423</td>\n",
       "      <td>Low income</td>\n",
       "      <td>South</td>\n",
       "      <td>False</td>\n",
       "      <td>375.70</td>\n",
       "      <td>59</td>\n",
       "      <td>5.90</td>\n",
       "      <td>False</td>\n",
       "      <td>False</td>\n",
       "      <td>False</td>\n",
       "      <td>True</td>\n",
       "      <td>False</td>\n",
       "    </tr>\n",
       "    <tr>\n",
       "      <th>2</th>\n",
       "      <td>1</td>\n",
       "      <td>New customer</td>\n",
       "      <td>Low spender</td>\n",
       "      <td>Regular customer</td>\n",
       "      <td>Female</td>\n",
       "      <td>31</td>\n",
       "      <td>3</td>\n",
       "      <td>married</td>\n",
       "      <td>40423</td>\n",
       "      <td>Low income</td>\n",
       "      <td>South</td>\n",
       "      <td>False</td>\n",
       "      <td>375.70</td>\n",
       "      <td>59</td>\n",
       "      <td>5.90</td>\n",
       "      <td>False</td>\n",
       "      <td>False</td>\n",
       "      <td>False</td>\n",
       "      <td>True</td>\n",
       "      <td>False</td>\n",
       "    </tr>\n",
       "    <tr>\n",
       "      <th>3</th>\n",
       "      <td>1</td>\n",
       "      <td>New customer</td>\n",
       "      <td>Low spender</td>\n",
       "      <td>Regular customer</td>\n",
       "      <td>Female</td>\n",
       "      <td>31</td>\n",
       "      <td>3</td>\n",
       "      <td>married</td>\n",
       "      <td>40423</td>\n",
       "      <td>Low income</td>\n",
       "      <td>South</td>\n",
       "      <td>False</td>\n",
       "      <td>375.70</td>\n",
       "      <td>59</td>\n",
       "      <td>5.90</td>\n",
       "      <td>False</td>\n",
       "      <td>False</td>\n",
       "      <td>False</td>\n",
       "      <td>True</td>\n",
       "      <td>False</td>\n",
       "    </tr>\n",
       "    <tr>\n",
       "      <th>4</th>\n",
       "      <td>1</td>\n",
       "      <td>New customer</td>\n",
       "      <td>Low spender</td>\n",
       "      <td>Regular customer</td>\n",
       "      <td>Female</td>\n",
       "      <td>31</td>\n",
       "      <td>3</td>\n",
       "      <td>married</td>\n",
       "      <td>40423</td>\n",
       "      <td>Low income</td>\n",
       "      <td>South</td>\n",
       "      <td>False</td>\n",
       "      <td>375.70</td>\n",
       "      <td>59</td>\n",
       "      <td>5.90</td>\n",
       "      <td>False</td>\n",
       "      <td>False</td>\n",
       "      <td>False</td>\n",
       "      <td>True</td>\n",
       "      <td>False</td>\n",
       "    </tr>\n",
       "  </tbody>\n",
       "</table>\n",
       "</div>"
      ],
      "text/plain": [
       "   user_id  loyalty_flag spender_type  frequent_shopper  gender  age  \\\n",
       "0        1  New customer  Low spender  Regular customer  Female   31   \n",
       "1        1  New customer  Low spender  Regular customer  Female   31   \n",
       "2        1  New customer  Low spender  Regular customer  Female   31   \n",
       "3        1  New customer  Low spender  Regular customer  Female   31   \n",
       "4        1  New customer  Low spender  Regular customer  Female   31   \n",
       "\n",
       "   n_dependants fam_status  income income_group region  low_activity_flag  \\\n",
       "0             3    married   40423   Low income  South              False   \n",
       "1             3    married   40423   Low income  South              False   \n",
       "2             3    married   40423   Low income  South              False   \n",
       "3             3    married   40423   Low income  South              False   \n",
       "4             3    married   40423   Low income  South              False   \n",
       "\n",
       "   total_spent_in_lifetime  total_items_in_lifetime  \\\n",
       "0                   375.70                       59   \n",
       "1                   375.70                       59   \n",
       "2                   375.70                       59   \n",
       "3                   375.70                       59   \n",
       "4                   375.70                       59   \n",
       "\n",
       "   avg_items_per_order_by_user  baby_parent  pet_owner  senior_citizen  \\\n",
       "0                         5.90        False      False           False   \n",
       "1                         5.90        False      False           False   \n",
       "2                         5.90        False      False           False   \n",
       "3                         5.90        False      False           False   \n",
       "4                         5.90        False      False           False   \n",
       "\n",
       "   two_parent_fam  single_parent  \n",
       "0            True          False  \n",
       "1            True          False  \n",
       "2            True          False  \n",
       "3            True          False  \n",
       "4            True          False  "
      ]
     },
     "execution_count": 21,
     "metadata": {},
     "output_type": "execute_result"
    }
   ],
   "source": [
    "df_user_subset.head()"
   ]
  },
  {
   "cell_type": "code",
   "execution_count": 22,
   "id": "55f9ecbb",
   "metadata": {},
   "outputs": [
    {
     "data": {
      "text/plain": [
       "(32434489, 20)"
      ]
     },
     "execution_count": 22,
     "metadata": {},
     "output_type": "execute_result"
    }
   ],
   "source": [
    "df_user_subset.shape"
   ]
  },
  {
   "cell_type": "markdown",
   "id": "0638d55d",
   "metadata": {},
   "source": [
    "This has the same number of rows as the original df and only the 20 subsetted columns."
   ]
  },
  {
   "cell_type": "code",
   "execution_count": 23,
   "id": "e64e433e",
   "metadata": {},
   "outputs": [],
   "source": [
    "# Remove duplicate rows\n",
    "df_user_subset = df_user_subset.drop_duplicates()"
   ]
  },
  {
   "cell_type": "code",
   "execution_count": 24,
   "id": "533681df",
   "metadata": {},
   "outputs": [
    {
     "data": {
      "text/plain": [
       "(206209, 20)"
      ]
     },
     "execution_count": 24,
     "metadata": {},
     "output_type": "execute_result"
    }
   ],
   "source": [
    "# Checking new shape\n",
    "df_user_subset.shape"
   ]
  },
  {
   "cell_type": "code",
   "execution_count": 25,
   "id": "5ec003f1",
   "metadata": {
    "scrolled": true
   },
   "outputs": [
    {
     "data": {
      "text/html": [
       "<div>\n",
       "<style scoped>\n",
       "    .dataframe tbody tr th:only-of-type {\n",
       "        vertical-align: middle;\n",
       "    }\n",
       "\n",
       "    .dataframe tbody tr th {\n",
       "        vertical-align: top;\n",
       "    }\n",
       "\n",
       "    .dataframe thead th {\n",
       "        text-align: right;\n",
       "    }\n",
       "</style>\n",
       "<table border=\"1\" class=\"dataframe\">\n",
       "  <thead>\n",
       "    <tr style=\"text-align: right;\">\n",
       "      <th></th>\n",
       "      <th>user_id</th>\n",
       "      <th>loyalty_flag</th>\n",
       "      <th>spender_type</th>\n",
       "      <th>frequent_shopper</th>\n",
       "      <th>gender</th>\n",
       "      <th>age</th>\n",
       "      <th>n_dependants</th>\n",
       "      <th>fam_status</th>\n",
       "      <th>income</th>\n",
       "      <th>income_group</th>\n",
       "      <th>region</th>\n",
       "      <th>low_activity_flag</th>\n",
       "      <th>total_spent_in_lifetime</th>\n",
       "      <th>total_items_in_lifetime</th>\n",
       "      <th>avg_items_per_order_by_user</th>\n",
       "      <th>baby_parent</th>\n",
       "      <th>pet_owner</th>\n",
       "      <th>senior_citizen</th>\n",
       "      <th>two_parent_fam</th>\n",
       "      <th>single_parent</th>\n",
       "    </tr>\n",
       "  </thead>\n",
       "  <tbody>\n",
       "    <tr>\n",
       "      <th>0</th>\n",
       "      <td>1</td>\n",
       "      <td>New customer</td>\n",
       "      <td>Low spender</td>\n",
       "      <td>Regular customer</td>\n",
       "      <td>Female</td>\n",
       "      <td>31</td>\n",
       "      <td>3</td>\n",
       "      <td>married</td>\n",
       "      <td>40423</td>\n",
       "      <td>Low income</td>\n",
       "      <td>South</td>\n",
       "      <td>False</td>\n",
       "      <td>375.70</td>\n",
       "      <td>59</td>\n",
       "      <td>5.90</td>\n",
       "      <td>False</td>\n",
       "      <td>False</td>\n",
       "      <td>False</td>\n",
       "      <td>True</td>\n",
       "      <td>False</td>\n",
       "    </tr>\n",
       "    <tr>\n",
       "      <th>59</th>\n",
       "      <td>2</td>\n",
       "      <td>Regular customer</td>\n",
       "      <td>Low spender</td>\n",
       "      <td>Regular customer</td>\n",
       "      <td>Female</td>\n",
       "      <td>68</td>\n",
       "      <td>3</td>\n",
       "      <td>married</td>\n",
       "      <td>64940</td>\n",
       "      <td>Middle class</td>\n",
       "      <td>West</td>\n",
       "      <td>False</td>\n",
       "      <td>1,465.60</td>\n",
       "      <td>195</td>\n",
       "      <td>13.93</td>\n",
       "      <td>False</td>\n",
       "      <td>False</td>\n",
       "      <td>True</td>\n",
       "      <td>True</td>\n",
       "      <td>False</td>\n",
       "    </tr>\n",
       "    <tr>\n",
       "      <th>254</th>\n",
       "      <td>3</td>\n",
       "      <td>Regular customer</td>\n",
       "      <td>Low spender</td>\n",
       "      <td>Regular customer</td>\n",
       "      <td>Female</td>\n",
       "      <td>33</td>\n",
       "      <td>3</td>\n",
       "      <td>married</td>\n",
       "      <td>93240</td>\n",
       "      <td>Middle class</td>\n",
       "      <td>West</td>\n",
       "      <td>False</td>\n",
       "      <td>721.40</td>\n",
       "      <td>88</td>\n",
       "      <td>7.33</td>\n",
       "      <td>False</td>\n",
       "      <td>False</td>\n",
       "      <td>False</td>\n",
       "      <td>True</td>\n",
       "      <td>False</td>\n",
       "    </tr>\n",
       "    <tr>\n",
       "      <th>342</th>\n",
       "      <td>4</td>\n",
       "      <td>New customer</td>\n",
       "      <td>Low spender</td>\n",
       "      <td>Regular customer</td>\n",
       "      <td>Male</td>\n",
       "      <td>31</td>\n",
       "      <td>3</td>\n",
       "      <td>married</td>\n",
       "      <td>45435</td>\n",
       "      <td>Low income</td>\n",
       "      <td>South</td>\n",
       "      <td>False</td>\n",
       "      <td>147.70</td>\n",
       "      <td>18</td>\n",
       "      <td>3.60</td>\n",
       "      <td>False</td>\n",
       "      <td>False</td>\n",
       "      <td>False</td>\n",
       "      <td>True</td>\n",
       "      <td>False</td>\n",
       "    </tr>\n",
       "    <tr>\n",
       "      <th>360</th>\n",
       "      <td>5</td>\n",
       "      <td>New customer</td>\n",
       "      <td>Low spender</td>\n",
       "      <td>Regular customer</td>\n",
       "      <td>Female</td>\n",
       "      <td>75</td>\n",
       "      <td>0</td>\n",
       "      <td>divorced/widowed</td>\n",
       "      <td>115242</td>\n",
       "      <td>Middle class</td>\n",
       "      <td>West</td>\n",
       "      <td>True</td>\n",
       "      <td>340.00</td>\n",
       "      <td>37</td>\n",
       "      <td>9.25</td>\n",
       "      <td>False</td>\n",
       "      <td>False</td>\n",
       "      <td>True</td>\n",
       "      <td>False</td>\n",
       "      <td>False</td>\n",
       "    </tr>\n",
       "  </tbody>\n",
       "</table>\n",
       "</div>"
      ],
      "text/plain": [
       "     user_id      loyalty_flag spender_type  frequent_shopper  gender  age  \\\n",
       "0          1      New customer  Low spender  Regular customer  Female   31   \n",
       "59         2  Regular customer  Low spender  Regular customer  Female   68   \n",
       "254        3  Regular customer  Low spender  Regular customer  Female   33   \n",
       "342        4      New customer  Low spender  Regular customer    Male   31   \n",
       "360        5      New customer  Low spender  Regular customer  Female   75   \n",
       "\n",
       "     n_dependants        fam_status  income  income_group region  \\\n",
       "0               3           married   40423    Low income  South   \n",
       "59              3           married   64940  Middle class   West   \n",
       "254             3           married   93240  Middle class   West   \n",
       "342             3           married   45435    Low income  South   \n",
       "360             0  divorced/widowed  115242  Middle class   West   \n",
       "\n",
       "     low_activity_flag  total_spent_in_lifetime  total_items_in_lifetime  \\\n",
       "0                False                   375.70                       59   \n",
       "59               False                 1,465.60                      195   \n",
       "254              False                   721.40                       88   \n",
       "342              False                   147.70                       18   \n",
       "360               True                   340.00                       37   \n",
       "\n",
       "     avg_items_per_order_by_user  baby_parent  pet_owner  senior_citizen  \\\n",
       "0                           5.90        False      False           False   \n",
       "59                         13.93        False      False            True   \n",
       "254                         7.33        False      False           False   \n",
       "342                         3.60        False      False           False   \n",
       "360                         9.25        False      False            True   \n",
       "\n",
       "     two_parent_fam  single_parent  \n",
       "0              True          False  \n",
       "59             True          False  \n",
       "254            True          False  \n",
       "342            True          False  \n",
       "360           False          False  "
      ]
     },
     "execution_count": 25,
     "metadata": {},
     "output_type": "execute_result"
    }
   ],
   "source": [
    "df_user_subset.head()"
   ]
  },
  {
   "cell_type": "markdown",
   "id": "07b6504a",
   "metadata": {},
   "source": [
    "Now we have a dataframe that reflects the users specifically."
   ]
  },
  {
   "cell_type": "code",
   "execution_count": 26,
   "id": "d832885d",
   "metadata": {},
   "outputs": [],
   "source": [
    "df_user_subset.loc[df_user_subset['n_dependants'] >0, 'parent'] = profile_label\n",
    "df_user_subset.loc[df_user_subset['n_dependants'] == 0, 'parent'] = not_profile_label\n",
    "    "
   ]
  },
  {
   "cell_type": "code",
   "execution_count": 27,
   "id": "100076d9",
   "metadata": {},
   "outputs": [
    {
     "data": {
      "text/html": [
       "<div>\n",
       "<style scoped>\n",
       "    .dataframe tbody tr th:only-of-type {\n",
       "        vertical-align: middle;\n",
       "    }\n",
       "\n",
       "    .dataframe tbody tr th {\n",
       "        vertical-align: top;\n",
       "    }\n",
       "\n",
       "    .dataframe thead th {\n",
       "        text-align: right;\n",
       "    }\n",
       "</style>\n",
       "<table border=\"1\" class=\"dataframe\">\n",
       "  <thead>\n",
       "    <tr style=\"text-align: right;\">\n",
       "      <th></th>\n",
       "      <th>user_id</th>\n",
       "      <th>loyalty_flag</th>\n",
       "      <th>spender_type</th>\n",
       "      <th>frequent_shopper</th>\n",
       "      <th>gender</th>\n",
       "      <th>age</th>\n",
       "      <th>n_dependants</th>\n",
       "      <th>fam_status</th>\n",
       "      <th>income</th>\n",
       "      <th>income_group</th>\n",
       "      <th>...</th>\n",
       "      <th>low_activity_flag</th>\n",
       "      <th>total_spent_in_lifetime</th>\n",
       "      <th>total_items_in_lifetime</th>\n",
       "      <th>avg_items_per_order_by_user</th>\n",
       "      <th>baby_parent</th>\n",
       "      <th>pet_owner</th>\n",
       "      <th>senior_citizen</th>\n",
       "      <th>two_parent_fam</th>\n",
       "      <th>single_parent</th>\n",
       "      <th>parent</th>\n",
       "    </tr>\n",
       "  </thead>\n",
       "  <tbody>\n",
       "    <tr>\n",
       "      <th>0</th>\n",
       "      <td>1</td>\n",
       "      <td>New customer</td>\n",
       "      <td>Low spender</td>\n",
       "      <td>Regular customer</td>\n",
       "      <td>Female</td>\n",
       "      <td>31</td>\n",
       "      <td>3</td>\n",
       "      <td>married</td>\n",
       "      <td>40423</td>\n",
       "      <td>Low income</td>\n",
       "      <td>...</td>\n",
       "      <td>False</td>\n",
       "      <td>375.70</td>\n",
       "      <td>59</td>\n",
       "      <td>5.90</td>\n",
       "      <td>False</td>\n",
       "      <td>False</td>\n",
       "      <td>False</td>\n",
       "      <td>True</td>\n",
       "      <td>False</td>\n",
       "      <td>Parents</td>\n",
       "    </tr>\n",
       "    <tr>\n",
       "      <th>59</th>\n",
       "      <td>2</td>\n",
       "      <td>Regular customer</td>\n",
       "      <td>Low spender</td>\n",
       "      <td>Regular customer</td>\n",
       "      <td>Female</td>\n",
       "      <td>68</td>\n",
       "      <td>3</td>\n",
       "      <td>married</td>\n",
       "      <td>64940</td>\n",
       "      <td>Middle class</td>\n",
       "      <td>...</td>\n",
       "      <td>False</td>\n",
       "      <td>1,465.60</td>\n",
       "      <td>195</td>\n",
       "      <td>13.93</td>\n",
       "      <td>False</td>\n",
       "      <td>False</td>\n",
       "      <td>True</td>\n",
       "      <td>True</td>\n",
       "      <td>False</td>\n",
       "      <td>Parents</td>\n",
       "    </tr>\n",
       "    <tr>\n",
       "      <th>254</th>\n",
       "      <td>3</td>\n",
       "      <td>Regular customer</td>\n",
       "      <td>Low spender</td>\n",
       "      <td>Regular customer</td>\n",
       "      <td>Female</td>\n",
       "      <td>33</td>\n",
       "      <td>3</td>\n",
       "      <td>married</td>\n",
       "      <td>93240</td>\n",
       "      <td>Middle class</td>\n",
       "      <td>...</td>\n",
       "      <td>False</td>\n",
       "      <td>721.40</td>\n",
       "      <td>88</td>\n",
       "      <td>7.33</td>\n",
       "      <td>False</td>\n",
       "      <td>False</td>\n",
       "      <td>False</td>\n",
       "      <td>True</td>\n",
       "      <td>False</td>\n",
       "      <td>Parents</td>\n",
       "    </tr>\n",
       "    <tr>\n",
       "      <th>342</th>\n",
       "      <td>4</td>\n",
       "      <td>New customer</td>\n",
       "      <td>Low spender</td>\n",
       "      <td>Regular customer</td>\n",
       "      <td>Male</td>\n",
       "      <td>31</td>\n",
       "      <td>3</td>\n",
       "      <td>married</td>\n",
       "      <td>45435</td>\n",
       "      <td>Low income</td>\n",
       "      <td>...</td>\n",
       "      <td>False</td>\n",
       "      <td>147.70</td>\n",
       "      <td>18</td>\n",
       "      <td>3.60</td>\n",
       "      <td>False</td>\n",
       "      <td>False</td>\n",
       "      <td>False</td>\n",
       "      <td>True</td>\n",
       "      <td>False</td>\n",
       "      <td>Parents</td>\n",
       "    </tr>\n",
       "    <tr>\n",
       "      <th>360</th>\n",
       "      <td>5</td>\n",
       "      <td>New customer</td>\n",
       "      <td>Low spender</td>\n",
       "      <td>Regular customer</td>\n",
       "      <td>Female</td>\n",
       "      <td>75</td>\n",
       "      <td>0</td>\n",
       "      <td>divorced/widowed</td>\n",
       "      <td>115242</td>\n",
       "      <td>Middle class</td>\n",
       "      <td>...</td>\n",
       "      <td>True</td>\n",
       "      <td>340.00</td>\n",
       "      <td>37</td>\n",
       "      <td>9.25</td>\n",
       "      <td>False</td>\n",
       "      <td>False</td>\n",
       "      <td>True</td>\n",
       "      <td>False</td>\n",
       "      <td>False</td>\n",
       "      <td>Other Users</td>\n",
       "    </tr>\n",
       "  </tbody>\n",
       "</table>\n",
       "<p>5 rows × 21 columns</p>\n",
       "</div>"
      ],
      "text/plain": [
       "     user_id      loyalty_flag spender_type  frequent_shopper  gender  age  \\\n",
       "0          1      New customer  Low spender  Regular customer  Female   31   \n",
       "59         2  Regular customer  Low spender  Regular customer  Female   68   \n",
       "254        3  Regular customer  Low spender  Regular customer  Female   33   \n",
       "342        4      New customer  Low spender  Regular customer    Male   31   \n",
       "360        5      New customer  Low spender  Regular customer  Female   75   \n",
       "\n",
       "     n_dependants        fam_status  income  income_group  ...  \\\n",
       "0               3           married   40423    Low income  ...   \n",
       "59              3           married   64940  Middle class  ...   \n",
       "254             3           married   93240  Middle class  ...   \n",
       "342             3           married   45435    Low income  ...   \n",
       "360             0  divorced/widowed  115242  Middle class  ...   \n",
       "\n",
       "    low_activity_flag  total_spent_in_lifetime  total_items_in_lifetime  \\\n",
       "0               False                   375.70                       59   \n",
       "59              False                 1,465.60                      195   \n",
       "254             False                   721.40                       88   \n",
       "342             False                   147.70                       18   \n",
       "360              True                   340.00                       37   \n",
       "\n",
       "     avg_items_per_order_by_user  baby_parent  pet_owner  senior_citizen  \\\n",
       "0                           5.90        False      False           False   \n",
       "59                         13.93        False      False            True   \n",
       "254                         7.33        False      False           False   \n",
       "342                         3.60        False      False           False   \n",
       "360                         9.25        False      False            True   \n",
       "\n",
       "     two_parent_fam  single_parent       parent  \n",
       "0              True          False      Parents  \n",
       "59             True          False      Parents  \n",
       "254            True          False      Parents  \n",
       "342            True          False      Parents  \n",
       "360           False          False  Other Users  \n",
       "\n",
       "[5 rows x 21 columns]"
      ]
     },
     "execution_count": 27,
     "metadata": {},
     "output_type": "execute_result"
    }
   ],
   "source": [
    "df_user_subset.head()"
   ]
  },
  {
   "cell_type": "code",
   "execution_count": 28,
   "id": "e22a79aa",
   "metadata": {},
   "outputs": [],
   "source": [
    "df_user_subset.loc[(df_user_subset['n_dependants'] >0) & (df_user_subset['baby_parent'] == True), 'profile_flag'] = 'Parents of Babies'\n",
    "df_user_subset.loc[(df_user_subset['n_dependants'] >0) & (df_user_subset['baby_parent'] == False), 'profile_flag'] = 'Parents of Children or Teens'\n",
    "df_user_subset.loc[df_user_subset['n_dependants'] == 0, 'profile_flag'] = not_profile_label\n",
    "    \n"
   ]
  },
  {
   "cell_type": "code",
   "execution_count": 29,
   "id": "6ad4c9e0",
   "metadata": {},
   "outputs": [
    {
     "data": {
      "text/html": [
       "<div>\n",
       "<style scoped>\n",
       "    .dataframe tbody tr th:only-of-type {\n",
       "        vertical-align: middle;\n",
       "    }\n",
       "\n",
       "    .dataframe tbody tr th {\n",
       "        vertical-align: top;\n",
       "    }\n",
       "\n",
       "    .dataframe thead th {\n",
       "        text-align: right;\n",
       "    }\n",
       "</style>\n",
       "<table border=\"1\" class=\"dataframe\">\n",
       "  <thead>\n",
       "    <tr style=\"text-align: right;\">\n",
       "      <th></th>\n",
       "      <th>user_id</th>\n",
       "      <th>loyalty_flag</th>\n",
       "      <th>spender_type</th>\n",
       "      <th>frequent_shopper</th>\n",
       "      <th>gender</th>\n",
       "      <th>age</th>\n",
       "      <th>n_dependants</th>\n",
       "      <th>fam_status</th>\n",
       "      <th>income</th>\n",
       "      <th>income_group</th>\n",
       "      <th>...</th>\n",
       "      <th>total_spent_in_lifetime</th>\n",
       "      <th>total_items_in_lifetime</th>\n",
       "      <th>avg_items_per_order_by_user</th>\n",
       "      <th>baby_parent</th>\n",
       "      <th>pet_owner</th>\n",
       "      <th>senior_citizen</th>\n",
       "      <th>two_parent_fam</th>\n",
       "      <th>single_parent</th>\n",
       "      <th>parent</th>\n",
       "      <th>profile_flag</th>\n",
       "    </tr>\n",
       "  </thead>\n",
       "  <tbody>\n",
       "    <tr>\n",
       "      <th>0</th>\n",
       "      <td>1</td>\n",
       "      <td>New customer</td>\n",
       "      <td>Low spender</td>\n",
       "      <td>Regular customer</td>\n",
       "      <td>Female</td>\n",
       "      <td>31</td>\n",
       "      <td>3</td>\n",
       "      <td>married</td>\n",
       "      <td>40423</td>\n",
       "      <td>Low income</td>\n",
       "      <td>...</td>\n",
       "      <td>375.70</td>\n",
       "      <td>59</td>\n",
       "      <td>5.90</td>\n",
       "      <td>False</td>\n",
       "      <td>False</td>\n",
       "      <td>False</td>\n",
       "      <td>True</td>\n",
       "      <td>False</td>\n",
       "      <td>Parents</td>\n",
       "      <td>Parents of Children or Teens</td>\n",
       "    </tr>\n",
       "    <tr>\n",
       "      <th>59</th>\n",
       "      <td>2</td>\n",
       "      <td>Regular customer</td>\n",
       "      <td>Low spender</td>\n",
       "      <td>Regular customer</td>\n",
       "      <td>Female</td>\n",
       "      <td>68</td>\n",
       "      <td>3</td>\n",
       "      <td>married</td>\n",
       "      <td>64940</td>\n",
       "      <td>Middle class</td>\n",
       "      <td>...</td>\n",
       "      <td>1,465.60</td>\n",
       "      <td>195</td>\n",
       "      <td>13.93</td>\n",
       "      <td>False</td>\n",
       "      <td>False</td>\n",
       "      <td>True</td>\n",
       "      <td>True</td>\n",
       "      <td>False</td>\n",
       "      <td>Parents</td>\n",
       "      <td>Parents of Children or Teens</td>\n",
       "    </tr>\n",
       "    <tr>\n",
       "      <th>254</th>\n",
       "      <td>3</td>\n",
       "      <td>Regular customer</td>\n",
       "      <td>Low spender</td>\n",
       "      <td>Regular customer</td>\n",
       "      <td>Female</td>\n",
       "      <td>33</td>\n",
       "      <td>3</td>\n",
       "      <td>married</td>\n",
       "      <td>93240</td>\n",
       "      <td>Middle class</td>\n",
       "      <td>...</td>\n",
       "      <td>721.40</td>\n",
       "      <td>88</td>\n",
       "      <td>7.33</td>\n",
       "      <td>False</td>\n",
       "      <td>False</td>\n",
       "      <td>False</td>\n",
       "      <td>True</td>\n",
       "      <td>False</td>\n",
       "      <td>Parents</td>\n",
       "      <td>Parents of Children or Teens</td>\n",
       "    </tr>\n",
       "    <tr>\n",
       "      <th>342</th>\n",
       "      <td>4</td>\n",
       "      <td>New customer</td>\n",
       "      <td>Low spender</td>\n",
       "      <td>Regular customer</td>\n",
       "      <td>Male</td>\n",
       "      <td>31</td>\n",
       "      <td>3</td>\n",
       "      <td>married</td>\n",
       "      <td>45435</td>\n",
       "      <td>Low income</td>\n",
       "      <td>...</td>\n",
       "      <td>147.70</td>\n",
       "      <td>18</td>\n",
       "      <td>3.60</td>\n",
       "      <td>False</td>\n",
       "      <td>False</td>\n",
       "      <td>False</td>\n",
       "      <td>True</td>\n",
       "      <td>False</td>\n",
       "      <td>Parents</td>\n",
       "      <td>Parents of Children or Teens</td>\n",
       "    </tr>\n",
       "    <tr>\n",
       "      <th>360</th>\n",
       "      <td>5</td>\n",
       "      <td>New customer</td>\n",
       "      <td>Low spender</td>\n",
       "      <td>Regular customer</td>\n",
       "      <td>Female</td>\n",
       "      <td>75</td>\n",
       "      <td>0</td>\n",
       "      <td>divorced/widowed</td>\n",
       "      <td>115242</td>\n",
       "      <td>Middle class</td>\n",
       "      <td>...</td>\n",
       "      <td>340.00</td>\n",
       "      <td>37</td>\n",
       "      <td>9.25</td>\n",
       "      <td>False</td>\n",
       "      <td>False</td>\n",
       "      <td>True</td>\n",
       "      <td>False</td>\n",
       "      <td>False</td>\n",
       "      <td>Other Users</td>\n",
       "      <td>Other Users</td>\n",
       "    </tr>\n",
       "    <tr>\n",
       "      <th>...</th>\n",
       "      <td>...</td>\n",
       "      <td>...</td>\n",
       "      <td>...</td>\n",
       "      <td>...</td>\n",
       "      <td>...</td>\n",
       "      <td>...</td>\n",
       "      <td>...</td>\n",
       "      <td>...</td>\n",
       "      <td>...</td>\n",
       "      <td>...</td>\n",
       "      <td>...</td>\n",
       "      <td>...</td>\n",
       "      <td>...</td>\n",
       "      <td>...</td>\n",
       "      <td>...</td>\n",
       "      <td>...</td>\n",
       "      <td>...</td>\n",
       "      <td>...</td>\n",
       "      <td>...</td>\n",
       "      <td>...</td>\n",
       "      <td>...</td>\n",
       "    </tr>\n",
       "    <tr>\n",
       "      <th>32433143</th>\n",
       "      <td>206205</td>\n",
       "      <td>New customer</td>\n",
       "      <td>Low spender</td>\n",
       "      <td>Regular customer</td>\n",
       "      <td>Female</td>\n",
       "      <td>38</td>\n",
       "      <td>2</td>\n",
       "      <td>married</td>\n",
       "      <td>99402</td>\n",
       "      <td>Middle class</td>\n",
       "      <td>...</td>\n",
       "      <td>285.10</td>\n",
       "      <td>32</td>\n",
       "      <td>10.66</td>\n",
       "      <td>True</td>\n",
       "      <td>False</td>\n",
       "      <td>False</td>\n",
       "      <td>True</td>\n",
       "      <td>False</td>\n",
       "      <td>Parents</td>\n",
       "      <td>Parents of Babies</td>\n",
       "    </tr>\n",
       "    <tr>\n",
       "      <th>32433175</th>\n",
       "      <td>206206</td>\n",
       "      <td>Loyal customer</td>\n",
       "      <td>Low spender</td>\n",
       "      <td>Frequent customer</td>\n",
       "      <td>Female</td>\n",
       "      <td>25</td>\n",
       "      <td>2</td>\n",
       "      <td>married</td>\n",
       "      <td>75041</td>\n",
       "      <td>Middle class</td>\n",
       "      <td>...</td>\n",
       "      <td>2,179.30</td>\n",
       "      <td>285</td>\n",
       "      <td>4.25</td>\n",
       "      <td>False</td>\n",
       "      <td>False</td>\n",
       "      <td>False</td>\n",
       "      <td>True</td>\n",
       "      <td>False</td>\n",
       "      <td>Parents</td>\n",
       "      <td>Parents of Children or Teens</td>\n",
       "    </tr>\n",
       "    <tr>\n",
       "      <th>32433460</th>\n",
       "      <td>206207</td>\n",
       "      <td>Regular customer</td>\n",
       "      <td>Low spender</td>\n",
       "      <td>Frequent customer</td>\n",
       "      <td>Male</td>\n",
       "      <td>76</td>\n",
       "      <td>1</td>\n",
       "      <td>married</td>\n",
       "      <td>110135</td>\n",
       "      <td>Middle class</td>\n",
       "      <td>...</td>\n",
       "      <td>1,630.90</td>\n",
       "      <td>223</td>\n",
       "      <td>13.94</td>\n",
       "      <td>True</td>\n",
       "      <td>False</td>\n",
       "      <td>True</td>\n",
       "      <td>True</td>\n",
       "      <td>False</td>\n",
       "      <td>Parents</td>\n",
       "      <td>Parents of Babies</td>\n",
       "    </tr>\n",
       "    <tr>\n",
       "      <th>32433683</th>\n",
       "      <td>206208</td>\n",
       "      <td>Loyal customer</td>\n",
       "      <td>Low spender</td>\n",
       "      <td>Frequent customer</td>\n",
       "      <td>Male</td>\n",
       "      <td>64</td>\n",
       "      <td>1</td>\n",
       "      <td>married</td>\n",
       "      <td>156838</td>\n",
       "      <td>Upper middle class</td>\n",
       "      <td>...</td>\n",
       "      <td>5,664.20</td>\n",
       "      <td>677</td>\n",
       "      <td>13.81</td>\n",
       "      <td>True</td>\n",
       "      <td>False</td>\n",
       "      <td>False</td>\n",
       "      <td>True</td>\n",
       "      <td>False</td>\n",
       "      <td>Parents</td>\n",
       "      <td>Parents of Babies</td>\n",
       "    </tr>\n",
       "    <tr>\n",
       "      <th>32434360</th>\n",
       "      <td>206209</td>\n",
       "      <td>Regular customer</td>\n",
       "      <td>Low spender</td>\n",
       "      <td>Regular customer</td>\n",
       "      <td>Female</td>\n",
       "      <td>74</td>\n",
       "      <td>3</td>\n",
       "      <td>married</td>\n",
       "      <td>137969</td>\n",
       "      <td>Middle class</td>\n",
       "      <td>...</td>\n",
       "      <td>910.60</td>\n",
       "      <td>129</td>\n",
       "      <td>9.92</td>\n",
       "      <td>False</td>\n",
       "      <td>False</td>\n",
       "      <td>True</td>\n",
       "      <td>True</td>\n",
       "      <td>False</td>\n",
       "      <td>Parents</td>\n",
       "      <td>Parents of Children or Teens</td>\n",
       "    </tr>\n",
       "  </tbody>\n",
       "</table>\n",
       "<p>206209 rows × 22 columns</p>\n",
       "</div>"
      ],
      "text/plain": [
       "          user_id      loyalty_flag spender_type   frequent_shopper  gender  \\\n",
       "0               1      New customer  Low spender   Regular customer  Female   \n",
       "59              2  Regular customer  Low spender   Regular customer  Female   \n",
       "254             3  Regular customer  Low spender   Regular customer  Female   \n",
       "342             4      New customer  Low spender   Regular customer    Male   \n",
       "360             5      New customer  Low spender   Regular customer  Female   \n",
       "...           ...               ...          ...                ...     ...   \n",
       "32433143   206205      New customer  Low spender   Regular customer  Female   \n",
       "32433175   206206    Loyal customer  Low spender  Frequent customer  Female   \n",
       "32433460   206207  Regular customer  Low spender  Frequent customer    Male   \n",
       "32433683   206208    Loyal customer  Low spender  Frequent customer    Male   \n",
       "32434360   206209  Regular customer  Low spender   Regular customer  Female   \n",
       "\n",
       "          age  n_dependants        fam_status  income        income_group  \\\n",
       "0          31             3           married   40423          Low income   \n",
       "59         68             3           married   64940        Middle class   \n",
       "254        33             3           married   93240        Middle class   \n",
       "342        31             3           married   45435          Low income   \n",
       "360        75             0  divorced/widowed  115242        Middle class   \n",
       "...       ...           ...               ...     ...                 ...   \n",
       "32433143   38             2           married   99402        Middle class   \n",
       "32433175   25             2           married   75041        Middle class   \n",
       "32433460   76             1           married  110135        Middle class   \n",
       "32433683   64             1           married  156838  Upper middle class   \n",
       "32434360   74             3           married  137969        Middle class   \n",
       "\n",
       "          ... total_spent_in_lifetime  total_items_in_lifetime  \\\n",
       "0         ...                  375.70                       59   \n",
       "59        ...                1,465.60                      195   \n",
       "254       ...                  721.40                       88   \n",
       "342       ...                  147.70                       18   \n",
       "360       ...                  340.00                       37   \n",
       "...       ...                     ...                      ...   \n",
       "32433143  ...                  285.10                       32   \n",
       "32433175  ...                2,179.30                      285   \n",
       "32433460  ...                1,630.90                      223   \n",
       "32433683  ...                5,664.20                      677   \n",
       "32434360  ...                  910.60                      129   \n",
       "\n",
       "          avg_items_per_order_by_user  baby_parent  pet_owner  senior_citizen  \\\n",
       "0                                5.90        False      False           False   \n",
       "59                              13.93        False      False            True   \n",
       "254                              7.33        False      False           False   \n",
       "342                              3.60        False      False           False   \n",
       "360                              9.25        False      False            True   \n",
       "...                               ...          ...        ...             ...   \n",
       "32433143                        10.66         True      False           False   \n",
       "32433175                         4.25        False      False           False   \n",
       "32433460                        13.94         True      False            True   \n",
       "32433683                        13.81         True      False           False   \n",
       "32434360                         9.92        False      False            True   \n",
       "\n",
       "          two_parent_fam  single_parent       parent  \\\n",
       "0                   True          False      Parents   \n",
       "59                  True          False      Parents   \n",
       "254                 True          False      Parents   \n",
       "342                 True          False      Parents   \n",
       "360                False          False  Other Users   \n",
       "...                  ...            ...          ...   \n",
       "32433143            True          False      Parents   \n",
       "32433175            True          False      Parents   \n",
       "32433460            True          False      Parents   \n",
       "32433683            True          False      Parents   \n",
       "32434360            True          False      Parents   \n",
       "\n",
       "                          profile_flag  \n",
       "0         Parents of Children or Teens  \n",
       "59        Parents of Children or Teens  \n",
       "254       Parents of Children or Teens  \n",
       "342       Parents of Children or Teens  \n",
       "360                        Other Users  \n",
       "...                                ...  \n",
       "32433143             Parents of Babies  \n",
       "32433175  Parents of Children or Teens  \n",
       "32433460             Parents of Babies  \n",
       "32433683             Parents of Babies  \n",
       "32434360  Parents of Children or Teens  \n",
       "\n",
       "[206209 rows x 22 columns]"
      ]
     },
     "execution_count": 29,
     "metadata": {},
     "output_type": "execute_result"
    }
   ],
   "source": [
    "df_user_subset"
   ]
  },
  {
   "cell_type": "code",
   "execution_count": null,
   "id": "5aca3cd4",
   "metadata": {},
   "outputs": [],
   "source": []
  },
  {
   "cell_type": "code",
   "execution_count": null,
   "id": "d2cd99ee",
   "metadata": {},
   "outputs": [],
   "source": []
  },
  {
   "cell_type": "markdown",
   "id": "f0f2c672",
   "metadata": {},
   "source": [
    "## 0.6. Exploration of parents"
   ]
  },
  {
   "cell_type": "code",
   "execution_count": 30,
   "id": "234fcb09",
   "metadata": {},
   "outputs": [
    {
     "data": {
      "text/plain": [
       "51602"
      ]
     },
     "execution_count": 30,
     "metadata": {},
     "output_type": "execute_result"
    }
   ],
   "source": [
    "# Finding the number of childless users\n",
    "num_childless = len(df_user_subset[df_user_subset['n_dependants']==0])\n",
    "num_childless"
   ]
  },
  {
   "cell_type": "code",
   "execution_count": 31,
   "id": "dfe0e5e1",
   "metadata": {},
   "outputs": [
    {
     "data": {
      "text/plain": [
       "154607"
      ]
     },
     "execution_count": 31,
     "metadata": {},
     "output_type": "execute_result"
    }
   ],
   "source": [
    "# Finding the number of users with children\n",
    "num_parents = len(df_user_subset[df_user_subset['n_dependants']!=0])\n",
    "num_parents"
   ]
  },
  {
   "cell_type": "markdown",
   "id": "5fcfff6d",
   "metadata": {},
   "source": [
    "51,602 + 154,607 = 206,209 (which is our total number of users) so our numbers are correct."
   ]
  },
  {
   "cell_type": "code",
   "execution_count": 77,
   "id": "12e4c947",
   "metadata": {},
   "outputs": [
    {
     "data": {
      "text/html": [
       "<div>\n",
       "<style scoped>\n",
       "    .dataframe tbody tr th:only-of-type {\n",
       "        vertical-align: middle;\n",
       "    }\n",
       "\n",
       "    .dataframe tbody tr th {\n",
       "        vertical-align: top;\n",
       "    }\n",
       "\n",
       "    .dataframe thead th {\n",
       "        text-align: right;\n",
       "    }\n",
       "</style>\n",
       "<table border=\"1\" class=\"dataframe\">\n",
       "  <thead>\n",
       "    <tr style=\"text-align: right;\">\n",
       "      <th></th>\n",
       "      <th>Count_of_users</th>\n",
       "    </tr>\n",
       "  </thead>\n",
       "  <tbody>\n",
       "    <tr>\n",
       "      <th>Other_users</th>\n",
       "      <td>51602</td>\n",
       "    </tr>\n",
       "    <tr>\n",
       "      <th>Parents</th>\n",
       "      <td>154607</td>\n",
       "    </tr>\n",
       "  </tbody>\n",
       "</table>\n",
       "</div>"
      ],
      "text/plain": [
       "             Count_of_users\n",
       "Other_users           51602\n",
       "Parents              154607"
      ]
     },
     "execution_count": 77,
     "metadata": {},
     "output_type": "execute_result"
    }
   ],
   "source": [
    "# Create a temporary df to visualize this\n",
    "list_parents = {'Other_users': [num_childless], 'Parents': [num_parents]}\n",
    "df_parents = pd.DataFrame(list_parents)\n",
    "df_parents = df_parents.transpose()\n",
    "df_parents = df_parents.rename(columns = {0 :'Count_of_users'})\n",
    "df_parents"
   ]
  },
  {
   "cell_type": "code",
   "execution_count": 139,
   "id": "2f33c419",
   "metadata": {},
   "outputs": [
    {
     "data": {
      "text/plain": [
       "Text(0.5, 1.0, '75% of our users are parents.')"
      ]
     },
     "execution_count": 139,
     "metadata": {},
     "output_type": "execute_result"
    },
    {
     "data": {
      "image/png": "[encoded data removed]",
      "text/plain": [
       "<Figure size 700x500 with 1 Axes>"
      ]
     },
     "metadata": {},
     "output_type": "display_data"
    }
   ],
   "source": [
    "parent_plot = df_parents.plot.pie(y='Count_of_users', \n",
    "                            figsize=(7,5), \n",
    "                            counterclock=False, \n",
    "                            colors = ['grey', 'aquamarine'], \n",
    "                            legend=False, \n",
    "                            labels = ['Other users', 'Parents'], \n",
    "                            autopct='%1.1f%%')\n",
    "\n",
    "plt.ylabel('')\n",
    "\n",
    "plt.title (\"75% of our users are parents.\", \n",
    "           size=16)\n",
    "\n"
   ]
  },
  {
   "cell_type": "code",
   "execution_count": 140,
   "id": "1f76702a",
   "metadata": {},
   "outputs": [],
   "source": [
    "# Exporting bar chart\n",
    "parent_plot.figure.savefig(os.path.join(path, '04 Analysis','Visualizations', 'parent_plot_pie.png'))"
   ]
  },
  {
   "cell_type": "code",
   "execution_count": null,
   "id": "87e3271f",
   "metadata": {},
   "outputs": [],
   "source": []
  },
  {
   "cell_type": "markdown",
   "id": "1733d29b",
   "metadata": {},
   "source": [
    "There are 154,607 parents in our user base.  Of those, 25,307 are parents of babies. "
   ]
  },
  {
   "cell_type": "code",
   "execution_count": null,
   "id": "b6428c3a",
   "metadata": {},
   "outputs": [],
   "source": []
  },
  {
   "cell_type": "markdown",
   "id": "94c82bce",
   "metadata": {},
   "source": [
    "### 0.6.1 importance of this profile"
   ]
  },
  {
   "cell_type": "markdown",
   "id": "a4941d00",
   "metadata": {},
   "source": [
    "#### 0.6.1.A  count of users"
   ]
  },
  {
   "cell_type": "code",
   "execution_count": 168,
   "id": "b5294662",
   "metadata": {},
   "outputs": [],
   "source": [
    "# Create a temporary df to hold the count of the profile\n",
    "num_profile = df_user_subset['profile_flag'].value_counts()"
   ]
  },
  {
   "cell_type": "code",
   "execution_count": 169,
   "id": "146efd8b",
   "metadata": {},
   "outputs": [
    {
     "data": {
      "text/plain": [
       "Parents of Children or Teens    129300\n",
       "Other Users                      51602\n",
       "Parents of Babies                25307\n",
       "Name: profile_flag, dtype: int64"
      ]
     },
     "execution_count": 169,
     "metadata": {},
     "output_type": "execute_result"
    }
   ],
   "source": [
    "num_profile"
   ]
  },
  {
   "cell_type": "markdown",
   "id": "ab2602c1",
   "metadata": {},
   "source": [
    "75% of our users are parents.\n",
    "12.3% of babies and the rest of children/teens"
   ]
  },
  {
   "cell_type": "code",
   "execution_count": 170,
   "id": "345ef5b2",
   "metadata": {},
   "outputs": [],
   "source": [
    "# Reset the index so that the correct column headers will appear\n",
    "num_profile = pd.DataFrame(num_profile).reset_index()"
   ]
  },
  {
   "cell_type": "code",
   "execution_count": 171,
   "id": "11b3ed84",
   "metadata": {},
   "outputs": [
    {
     "data": {
      "text/html": [
       "<div>\n",
       "<style scoped>\n",
       "    .dataframe tbody tr th:only-of-type {\n",
       "        vertical-align: middle;\n",
       "    }\n",
       "\n",
       "    .dataframe tbody tr th {\n",
       "        vertical-align: top;\n",
       "    }\n",
       "\n",
       "    .dataframe thead th {\n",
       "        text-align: right;\n",
       "    }\n",
       "</style>\n",
       "<table border=\"1\" class=\"dataframe\">\n",
       "  <thead>\n",
       "    <tr style=\"text-align: right;\">\n",
       "      <th></th>\n",
       "      <th>index</th>\n",
       "      <th>profile_flag</th>\n",
       "    </tr>\n",
       "  </thead>\n",
       "  <tbody>\n",
       "    <tr>\n",
       "      <th>0</th>\n",
       "      <td>Parents of Children or Teens</td>\n",
       "      <td>129300</td>\n",
       "    </tr>\n",
       "    <tr>\n",
       "      <th>1</th>\n",
       "      <td>Other Users</td>\n",
       "      <td>51602</td>\n",
       "    </tr>\n",
       "    <tr>\n",
       "      <th>2</th>\n",
       "      <td>Parents of Babies</td>\n",
       "      <td>25307</td>\n",
       "    </tr>\n",
       "  </tbody>\n",
       "</table>\n",
       "</div>"
      ],
      "text/plain": [
       "                          index  profile_flag\n",
       "0  Parents of Children or Teens        129300\n",
       "1                   Other Users         51602\n",
       "2             Parents of Babies         25307"
      ]
     },
     "execution_count": 171,
     "metadata": {},
     "output_type": "execute_result"
    }
   ],
   "source": [
    "num_profile"
   ]
  },
  {
   "cell_type": "code",
   "execution_count": 172,
   "id": "442c91f5",
   "metadata": {},
   "outputs": [
    {
     "data": {
      "text/html": [
       "<div>\n",
       "<style scoped>\n",
       "    .dataframe tbody tr th:only-of-type {\n",
       "        vertical-align: middle;\n",
       "    }\n",
       "\n",
       "    .dataframe tbody tr th {\n",
       "        vertical-align: top;\n",
       "    }\n",
       "\n",
       "    .dataframe thead th {\n",
       "        text-align: right;\n",
       "    }\n",
       "</style>\n",
       "<table border=\"1\" class=\"dataframe\">\n",
       "  <thead>\n",
       "    <tr style=\"text-align: right;\">\n",
       "      <th></th>\n",
       "      <th>profile_flag</th>\n",
       "    </tr>\n",
       "    <tr>\n",
       "      <th>index</th>\n",
       "      <th></th>\n",
       "    </tr>\n",
       "  </thead>\n",
       "  <tbody>\n",
       "    <tr>\n",
       "      <th>Parents of Children or Teens</th>\n",
       "      <td>129300</td>\n",
       "    </tr>\n",
       "    <tr>\n",
       "      <th>Other Users</th>\n",
       "      <td>51602</td>\n",
       "    </tr>\n",
       "    <tr>\n",
       "      <th>Parents of Babies</th>\n",
       "      <td>25307</td>\n",
       "    </tr>\n",
       "  </tbody>\n",
       "</table>\n",
       "</div>"
      ],
      "text/plain": [
       "                              profile_flag\n",
       "index                                     \n",
       "Parents of Children or Teens        129300\n",
       "Other Users                          51602\n",
       "Parents of Babies                    25307"
      ]
     },
     "execution_count": 172,
     "metadata": {},
     "output_type": "execute_result"
    }
   ],
   "source": [
    "# Set the index to be the boolean column with a header of 'index'\n",
    "num_profile.set_index('index')"
   ]
  },
  {
   "cell_type": "code",
   "execution_count": null,
   "id": "f59065bf",
   "metadata": {},
   "outputs": [],
   "source": []
  },
  {
   "cell_type": "code",
   "execution_count": 174,
   "id": "75922270",
   "metadata": {},
   "outputs": [
    {
     "data": {
      "text/plain": [
       "Text(0.5, 1.0, '75% of our users have children.')"
      ]
     },
     "execution_count": 174,
     "metadata": {},
     "output_type": "execute_result"
    },
    {
     "data": {
      "image/png": "[encoded data removed]",
      "text/plain": [
       "<Figure size 700x500 with 1 Axes>"
      ]
     },
     "metadata": {},
     "output_type": "display_data"
    }
   ],
   "source": [
    "plot = num_profile.plot.pie(y='profile_flag', \n",
    "                            figsize=(7,5), \n",
    "                            counterclock=True, \n",
    "                            colors = ['aquamarine', 'lightseagreen', 'grey'], \n",
    "                            legend=False, \n",
    "                            labels = ['Parents of Children or Teens', 'Other Users', 'Parents of Babies'], \n",
    "                            autopct='%1.1f%%')\n",
    "\n",
    "plt.ylabel('')\n",
    "\n",
    "plt.title (\"75% of our users have children.\", \n",
    "           size=16)\n"
   ]
  },
  {
   "cell_type": "code",
   "execution_count": 105,
   "id": "61eff59f",
   "metadata": {},
   "outputs": [],
   "source": [
    "# Reclaiming space\n",
    "del num_profile"
   ]
  },
  {
   "cell_type": "markdown",
   "id": "5820fb9c",
   "metadata": {},
   "source": [
    "#### 0.6.1.B  gross sales (total_spent_in_lifetime)"
   ]
  },
  {
   "cell_type": "code",
   "execution_count": 175,
   "id": "5ed6aaea",
   "metadata": {},
   "outputs": [],
   "source": [
    "# Calculate the gross sales for those in the profile and out of it\n",
    "gross_sales_profile = df_user_subset.groupby('profile_flag').total_spent_in_lifetime.sum()"
   ]
  },
  {
   "cell_type": "code",
   "execution_count": 176,
   "id": "a2a7671f",
   "metadata": {
    "scrolled": false
   },
   "outputs": [
    {
     "data": {
      "text/plain": [
       "profile_flag\n",
       "Other Users                     63,068,384.00\n",
       "Parents of Babies               58,564,036.00\n",
       "Parents of Children or Teens   130,785,944.00\n",
       "Name: total_spent_in_lifetime, dtype: float32"
      ]
     },
     "execution_count": 176,
     "metadata": {},
     "output_type": "execute_result"
    }
   ],
   "source": [
    "gross_sales_profile"
   ]
  },
  {
   "cell_type": "markdown",
   "id": "cbe2f8ad",
   "metadata": {},
   "source": [
    "Parents account for 75% of gross sales, which is what we would expect."
   ]
  },
  {
   "cell_type": "code",
   "execution_count": 177,
   "id": "e93c8a6a",
   "metadata": {},
   "outputs": [],
   "source": [
    "# Reset the index so that the correct column headers will appear\n",
    "gross_sales_profile = pd.DataFrame(gross_sales_profile).reset_index()"
   ]
  },
  {
   "cell_type": "code",
   "execution_count": 178,
   "id": "725fe8f1",
   "metadata": {
    "scrolled": true
   },
   "outputs": [
    {
     "data": {
      "text/html": [
       "<div>\n",
       "<style scoped>\n",
       "    .dataframe tbody tr th:only-of-type {\n",
       "        vertical-align: middle;\n",
       "    }\n",
       "\n",
       "    .dataframe tbody tr th {\n",
       "        vertical-align: top;\n",
       "    }\n",
       "\n",
       "    .dataframe thead th {\n",
       "        text-align: right;\n",
       "    }\n",
       "</style>\n",
       "<table border=\"1\" class=\"dataframe\">\n",
       "  <thead>\n",
       "    <tr style=\"text-align: right;\">\n",
       "      <th></th>\n",
       "      <th>profile_flag</th>\n",
       "      <th>total_spent_in_lifetime</th>\n",
       "    </tr>\n",
       "  </thead>\n",
       "  <tbody>\n",
       "    <tr>\n",
       "      <th>0</th>\n",
       "      <td>Other Users</td>\n",
       "      <td>63,068,384.00</td>\n",
       "    </tr>\n",
       "    <tr>\n",
       "      <th>1</th>\n",
       "      <td>Parents of Babies</td>\n",
       "      <td>58,564,036.00</td>\n",
       "    </tr>\n",
       "    <tr>\n",
       "      <th>2</th>\n",
       "      <td>Parents of Children or Teens</td>\n",
       "      <td>130,785,944.00</td>\n",
       "    </tr>\n",
       "  </tbody>\n",
       "</table>\n",
       "</div>"
      ],
      "text/plain": [
       "                   profile_flag  total_spent_in_lifetime\n",
       "0                   Other Users            63,068,384.00\n",
       "1             Parents of Babies            58,564,036.00\n",
       "2  Parents of Children or Teens           130,785,944.00"
      ]
     },
     "execution_count": 178,
     "metadata": {},
     "output_type": "execute_result"
    }
   ],
   "source": [
    "gross_sales_profile"
   ]
  },
  {
   "cell_type": "code",
   "execution_count": 204,
   "id": "8e742704",
   "metadata": {},
   "outputs": [
    {
     "data": {
      "text/plain": [
       "Text(0.5, 1.0, 'Gross sales by types of parents.')"
      ]
     },
     "execution_count": 204,
     "metadata": {},
     "output_type": "execute_result"
    },
    {
     "data": {
      "image/png": "[encoded data removed]",
      "text/plain": [
       "<Figure size 700x500 with 1 Axes>"
      ]
     },
     "metadata": {},
     "output_type": "display_data"
    }
   ],
   "source": [
    "plot = gross_sales_profile.plot.pie(y='total_spent_in_lifetime', \n",
    "                                    figsize=(7,5), \n",
    "                                    counterclock=True, \n",
    "                                    colors=colors_r, \n",
    "                                    legend=False, \n",
    "                                    labels = labels_r, \n",
    "                                    autopct='%1.1f%%')\n",
    "plt.ylabel('')\n",
    "\n",
    "plt.title (\"Gross sales by types of parents.\", \n",
    "           size=16)\n"
   ]
  },
  {
   "cell_type": "code",
   "execution_count": null,
   "id": "7943b9ed",
   "metadata": {},
   "outputs": [],
   "source": [
    "# Perform another chart for just parents in general"
   ]
  },
  {
   "cell_type": "code",
   "execution_count": 186,
   "id": "012208cf",
   "metadata": {},
   "outputs": [],
   "source": [
    "# Calculate the gross sales for those in the profile and out of it\n",
    "gross_sales_parent = df_user_subset.groupby('parent').total_spent_in_lifetime.sum()"
   ]
  },
  {
   "cell_type": "code",
   "execution_count": 187,
   "id": "9f5db583",
   "metadata": {},
   "outputs": [
    {
     "data": {
      "text/plain": [
       "parent\n",
       "Other Users    63,068,384.00\n",
       "Parents       189,349,984.00\n",
       "Name: total_spent_in_lifetime, dtype: float32"
      ]
     },
     "execution_count": 187,
     "metadata": {},
     "output_type": "execute_result"
    }
   ],
   "source": [
    "gross_sales_parent"
   ]
  },
  {
   "cell_type": "code",
   "execution_count": 188,
   "id": "1a67e7a9",
   "metadata": {},
   "outputs": [],
   "source": [
    "# Reset the index so that the correct column headers will appear\n",
    "gross_sales_parent = pd.DataFrame(gross_sales_parent).reset_index()"
   ]
  },
  {
   "cell_type": "code",
   "execution_count": 191,
   "id": "d0597beb",
   "metadata": {},
   "outputs": [],
   "source": [
    "# Swap the order of the rows so that the pie chart renders correctly\n",
    "temp = pd.DataFrame()\n",
    "temp = gross_sales_parent.copy()"
   ]
  },
  {
   "cell_type": "code",
   "execution_count": 192,
   "id": "28f44996",
   "metadata": {},
   "outputs": [],
   "source": [
    "gross_sales_parent.iloc[0] = temp.iloc[1].copy()\n",
    "gross_sales_parent.iloc[1] = temp.iloc[0].copy()"
   ]
  },
  {
   "cell_type": "code",
   "execution_count": 193,
   "id": "772ed0c4",
   "metadata": {},
   "outputs": [
    {
     "data": {
      "text/html": [
       "<div>\n",
       "<style scoped>\n",
       "    .dataframe tbody tr th:only-of-type {\n",
       "        vertical-align: middle;\n",
       "    }\n",
       "\n",
       "    .dataframe tbody tr th {\n",
       "        vertical-align: top;\n",
       "    }\n",
       "\n",
       "    .dataframe thead th {\n",
       "        text-align: right;\n",
       "    }\n",
       "</style>\n",
       "<table border=\"1\" class=\"dataframe\">\n",
       "  <thead>\n",
       "    <tr style=\"text-align: right;\">\n",
       "      <th></th>\n",
       "      <th>parent</th>\n",
       "      <th>total_spent_in_lifetime</th>\n",
       "    </tr>\n",
       "  </thead>\n",
       "  <tbody>\n",
       "    <tr>\n",
       "      <th>0</th>\n",
       "      <td>Parents</td>\n",
       "      <td>189,349,984.00</td>\n",
       "    </tr>\n",
       "    <tr>\n",
       "      <th>1</th>\n",
       "      <td>Other Users</td>\n",
       "      <td>63,068,384.00</td>\n",
       "    </tr>\n",
       "  </tbody>\n",
       "</table>\n",
       "</div>"
      ],
      "text/plain": [
       "        parent  total_spent_in_lifetime\n",
       "0      Parents           189,349,984.00\n",
       "1  Other Users            63,068,384.00"
      ]
     },
     "execution_count": 193,
     "metadata": {},
     "output_type": "execute_result"
    }
   ],
   "source": [
    "# Confirming the swap happened correctly\n",
    "gross_sales_parent"
   ]
  },
  {
   "cell_type": "code",
   "execution_count": 197,
   "id": "57f74f5c",
   "metadata": {},
   "outputs": [
    {
     "data": {
      "text/plain": [
       "Text(0.5, 1.0, 'Gross sales by parents.')"
      ]
     },
     "execution_count": 197,
     "metadata": {},
     "output_type": "execute_result"
    },
    {
     "data": {
      "image/png": "[encoded data removed]",
      "text/plain": [
       "<Figure size 700x500 with 1 Axes>"
      ]
     },
     "metadata": {},
     "output_type": "display_data"
    }
   ],
   "source": [
    "parent_gross_plot = gross_sales_parent.plot.pie(y='total_spent_in_lifetime', \n",
    "                                    figsize=(7,5), \n",
    "                                    counterclock=True, \n",
    "                                    colors=['aquamarine', 'grey'], \n",
    "                                    legend=False, \n",
    "                                    labels = ['Parents', 'Other users'], \n",
    "                                    autopct='%1.1f%%')\n",
    "plt.ylabel('')\n",
    "\n",
    "plt.title (\"Gross sales by parents.\", \n",
    "           size=16)"
   ]
  },
  {
   "cell_type": "code",
   "execution_count": 198,
   "id": "938c7b70",
   "metadata": {},
   "outputs": [],
   "source": [
    "# Create filename for export\n",
    "filename = profile+'_gross_sales_overlay2_pie.png'"
   ]
  },
  {
   "cell_type": "code",
   "execution_count": 199,
   "id": "e877b060",
   "metadata": {},
   "outputs": [
    {
     "data": {
      "text/plain": [
       "'Parents_gross_sales_overlay2_pie.png'"
      ]
     },
     "execution_count": 199,
     "metadata": {},
     "output_type": "execute_result"
    }
   ],
   "source": [
    "filename"
   ]
  },
  {
   "cell_type": "code",
   "execution_count": 200,
   "id": "91038f43",
   "metadata": {},
   "outputs": [],
   "source": [
    "# Exporting bar chart\n",
    "parent_gross_plot.figure.savefig(os.path.join(path, '04 Analysis','Visualizations', filename))"
   ]
  },
  {
   "cell_type": "code",
   "execution_count": null,
   "id": "ae2d20fd",
   "metadata": {},
   "outputs": [],
   "source": []
  },
  {
   "cell_type": "code",
   "execution_count": null,
   "id": "4886b4e2",
   "metadata": {},
   "outputs": [],
   "source": []
  },
  {
   "cell_type": "code",
   "execution_count": 80,
   "id": "08c5d262",
   "metadata": {},
   "outputs": [],
   "source": [
    "# Create filename for export\n",
    "filename = profile+'_gross_sales_pie.png'"
   ]
  },
  {
   "cell_type": "code",
   "execution_count": 81,
   "id": "ab346890",
   "metadata": {},
   "outputs": [
    {
     "data": {
      "text/plain": [
       "'baby_parent_gross_sales_pie.png'"
      ]
     },
     "execution_count": 81,
     "metadata": {},
     "output_type": "execute_result"
    }
   ],
   "source": [
    "filename"
   ]
  },
  {
   "cell_type": "code",
   "execution_count": 82,
   "id": "00b80a38",
   "metadata": {},
   "outputs": [],
   "source": [
    "# Exporting bar chart\n",
    "plot.figure.savefig(os.path.join(path, '04 Analysis','Visualizations', filename))"
   ]
  },
  {
   "cell_type": "code",
   "execution_count": 83,
   "id": "0ee4d4a9",
   "metadata": {},
   "outputs": [],
   "source": [
    "# Reclaiming space\n",
    "del gross_sales_profile\n",
    "del temp"
   ]
  },
  {
   "cell_type": "code",
   "execution_count": null,
   "id": "1b3c7aca",
   "metadata": {},
   "outputs": [],
   "source": []
  },
  {
   "cell_type": "code",
   "execution_count": null,
   "id": "4f406e70",
   "metadata": {},
   "outputs": [],
   "source": []
  }
 ],
 "metadata": {
  "kernelspec": {
   "display_name": "Python 3 (ipykernel)",
   "language": "python",
   "name": "python3"
  },
  "language_info": {
   "codemirror_mode": {
    "name": "ipython",
    "version": 3
   },
   "file_extension": ".py",
   "mimetype": "text/x-python",
   "name": "python",
   "nbconvert_exporter": "python",
   "pygments_lexer": "ipython3",
   "version": "3.9.13"
  }
 },
 "nbformat": 4,
 "nbformat_minor": 5
}
