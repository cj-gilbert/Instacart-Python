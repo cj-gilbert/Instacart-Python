{
 "cells": [
  {
   "cell_type": "markdown",
   "id": "8533088e",
   "metadata": {},
   "source": [
    "# Table of Contents"
   ]
  },
  {
   "cell_type": "raw",
   "id": "b463a255",
   "metadata": {},
   "source": [
    "0.1 Importing Libraries\n",
    "\n",
    "0.2 Importing Data\n",
    "\n",
    "0.3 Exploring Original Df\n",
    "\n",
    "0.4 Renaming Columns\n",
    "\n",
    "0.5 Adjusting Datatypes\n",
    "\n",
    "0.6 Cleaning / Wrangling / Checking Data\n",
    "\n",
    "    0.6.1  Overall df checks\n",
    "            -> Removed 5 duplicated rows\n",
    "    \n",
    "    0.6.2  product_id\n",
    "            -> Removed 4 rows with duplicated product_ids\n",
    "    \n",
    "    0.6.3  product_name\n",
    "            -> Removed 16 rows with NaNs product_name\n",
    "    \n",
    "    0.6.4  aisle_id\n",
    "    \n",
    "    0.6.5  department_id\n",
    "    \n",
    "    0.6.6  price\n",
    "            -> Revised 2 incorrect outlier prices to be NaNs\n",
    "    \n",
    "0.7 Exporting the Clean Df\n"
   ]
  },
  {
   "cell_type": "markdown",
   "id": "cc8dcbd1",
   "metadata": {},
   "source": [
    "### 0.1 Importing Libraries"
   ]
  },
  {
   "cell_type": "code",
   "execution_count": 1,
   "id": "9709810d",
   "metadata": {},
   "outputs": [],
   "source": [
    "# Import libraries\n",
    "import pandas as pd\n",
    "import numpy as np\n",
    "import os\n",
    "import matplotlib.pyplot as plt\n",
    "import seaborn as sns\n",
    "import scipy"
   ]
  },
  {
   "cell_type": "markdown",
   "id": "b5b185b2",
   "metadata": {},
   "source": [
    "### 0.2 Importing Data"
   ]
  },
  {
   "cell_type": "code",
   "execution_count": 2,
   "id": "6e7f5881",
   "metadata": {},
   "outputs": [],
   "source": [
    "# Identify the file pathway to data files\n",
    "path = r'C:\\Users\\CJ\\Documents\\_CJ-Stuff\\Career Foundry\\Data Immersion\\Ach 4 - Python\\2023-03 Instacart Basket Analysis'"
   ]
  },
  {
   "cell_type": "code",
   "execution_count": 3,
   "id": "f8ca6a0b",
   "metadata": {
    "scrolled": true
   },
   "outputs": [],
   "source": [
    "# Import data\n",
    "df = pd.read_csv(os.path.join(path, '02 Data', 'Original Data', 'products.csv'))"
   ]
  },
  {
   "cell_type": "markdown",
   "id": "a5bc9d6c",
   "metadata": {},
   "source": [
    "### 0.3 Exploring Original df"
   ]
  },
  {
   "cell_type": "code",
   "execution_count": 4,
   "id": "41f99131",
   "metadata": {
    "scrolled": true
   },
   "outputs": [
    {
     "data": {
      "text/plain": [
       "(49693, 5)"
      ]
     },
     "execution_count": 4,
     "metadata": {},
     "output_type": "execute_result"
    }
   ],
   "source": [
    "df.shape"
   ]
  },
  {
   "cell_type": "code",
   "execution_count": 5,
   "id": "f0f5df72",
   "metadata": {},
   "outputs": [
    {
     "data": {
      "text/html": [
       "<div>\n",
       "<style scoped>\n",
       "    .dataframe tbody tr th:only-of-type {\n",
       "        vertical-align: middle;\n",
       "    }\n",
       "\n",
       "    .dataframe tbody tr th {\n",
       "        vertical-align: top;\n",
       "    }\n",
       "\n",
       "    .dataframe thead th {\n",
       "        text-align: right;\n",
       "    }\n",
       "</style>\n",
       "<table border=\"1\" class=\"dataframe\">\n",
       "  <thead>\n",
       "    <tr style=\"text-align: right;\">\n",
       "      <th></th>\n",
       "      <th>product_id</th>\n",
       "      <th>product_name</th>\n",
       "      <th>aisle_id</th>\n",
       "      <th>department_id</th>\n",
       "      <th>prices</th>\n",
       "    </tr>\n",
       "  </thead>\n",
       "  <tbody>\n",
       "    <tr>\n",
       "      <th>0</th>\n",
       "      <td>1</td>\n",
       "      <td>Chocolate Sandwich Cookies</td>\n",
       "      <td>61</td>\n",
       "      <td>19</td>\n",
       "      <td>5.8</td>\n",
       "    </tr>\n",
       "    <tr>\n",
       "      <th>1</th>\n",
       "      <td>2</td>\n",
       "      <td>All-Seasons Salt</td>\n",
       "      <td>104</td>\n",
       "      <td>13</td>\n",
       "      <td>9.3</td>\n",
       "    </tr>\n",
       "    <tr>\n",
       "      <th>2</th>\n",
       "      <td>3</td>\n",
       "      <td>Robust Golden Unsweetened Oolong Tea</td>\n",
       "      <td>94</td>\n",
       "      <td>7</td>\n",
       "      <td>4.5</td>\n",
       "    </tr>\n",
       "    <tr>\n",
       "      <th>3</th>\n",
       "      <td>4</td>\n",
       "      <td>Smart Ones Classic Favorites Mini Rigatoni Wit...</td>\n",
       "      <td>38</td>\n",
       "      <td>1</td>\n",
       "      <td>10.5</td>\n",
       "    </tr>\n",
       "    <tr>\n",
       "      <th>4</th>\n",
       "      <td>5</td>\n",
       "      <td>Green Chile Anytime Sauce</td>\n",
       "      <td>5</td>\n",
       "      <td>13</td>\n",
       "      <td>4.3</td>\n",
       "    </tr>\n",
       "  </tbody>\n",
       "</table>\n",
       "</div>"
      ],
      "text/plain": [
       "   product_id                                       product_name  aisle_id  \\\n",
       "0           1                         Chocolate Sandwich Cookies        61   \n",
       "1           2                                   All-Seasons Salt       104   \n",
       "2           3               Robust Golden Unsweetened Oolong Tea        94   \n",
       "3           4  Smart Ones Classic Favorites Mini Rigatoni Wit...        38   \n",
       "4           5                          Green Chile Anytime Sauce         5   \n",
       "\n",
       "   department_id  prices  \n",
       "0             19     5.8  \n",
       "1             13     9.3  \n",
       "2              7     4.5  \n",
       "3              1    10.5  \n",
       "4             13     4.3  "
      ]
     },
     "execution_count": 5,
     "metadata": {},
     "output_type": "execute_result"
    }
   ],
   "source": [
    "df.head()"
   ]
  },
  {
   "cell_type": "code",
   "execution_count": 6,
   "id": "5be7b516",
   "metadata": {},
   "outputs": [
    {
     "data": {
      "text/html": [
       "<div>\n",
       "<style scoped>\n",
       "    .dataframe tbody tr th:only-of-type {\n",
       "        vertical-align: middle;\n",
       "    }\n",
       "\n",
       "    .dataframe tbody tr th {\n",
       "        vertical-align: top;\n",
       "    }\n",
       "\n",
       "    .dataframe thead th {\n",
       "        text-align: right;\n",
       "    }\n",
       "</style>\n",
       "<table border=\"1\" class=\"dataframe\">\n",
       "  <thead>\n",
       "    <tr style=\"text-align: right;\">\n",
       "      <th></th>\n",
       "      <th>product_id</th>\n",
       "      <th>product_name</th>\n",
       "      <th>aisle_id</th>\n",
       "      <th>department_id</th>\n",
       "      <th>prices</th>\n",
       "    </tr>\n",
       "  </thead>\n",
       "  <tbody>\n",
       "    <tr>\n",
       "      <th>49688</th>\n",
       "      <td>49684</td>\n",
       "      <td>Vodka, Triple Distilled, Twist of Vanilla</td>\n",
       "      <td>124</td>\n",
       "      <td>5</td>\n",
       "      <td>5.3</td>\n",
       "    </tr>\n",
       "    <tr>\n",
       "      <th>49689</th>\n",
       "      <td>49685</td>\n",
       "      <td>En Croute Roast Hazelnut Cranberry</td>\n",
       "      <td>42</td>\n",
       "      <td>1</td>\n",
       "      <td>3.1</td>\n",
       "    </tr>\n",
       "    <tr>\n",
       "      <th>49690</th>\n",
       "      <td>49686</td>\n",
       "      <td>Artisan Baguette</td>\n",
       "      <td>112</td>\n",
       "      <td>3</td>\n",
       "      <td>7.8</td>\n",
       "    </tr>\n",
       "    <tr>\n",
       "      <th>49691</th>\n",
       "      <td>49687</td>\n",
       "      <td>Smartblend Healthy Metabolism Dry Cat Food</td>\n",
       "      <td>41</td>\n",
       "      <td>8</td>\n",
       "      <td>4.7</td>\n",
       "    </tr>\n",
       "    <tr>\n",
       "      <th>49692</th>\n",
       "      <td>49688</td>\n",
       "      <td>Fresh Foaming Cleanser</td>\n",
       "      <td>73</td>\n",
       "      <td>11</td>\n",
       "      <td>13.5</td>\n",
       "    </tr>\n",
       "  </tbody>\n",
       "</table>\n",
       "</div>"
      ],
      "text/plain": [
       "       product_id                                product_name  aisle_id  \\\n",
       "49688       49684   Vodka, Triple Distilled, Twist of Vanilla       124   \n",
       "49689       49685          En Croute Roast Hazelnut Cranberry        42   \n",
       "49690       49686                            Artisan Baguette       112   \n",
       "49691       49687  Smartblend Healthy Metabolism Dry Cat Food        41   \n",
       "49692       49688                      Fresh Foaming Cleanser        73   \n",
       "\n",
       "       department_id  prices  \n",
       "49688              5     5.3  \n",
       "49689              1     3.1  \n",
       "49690              3     7.8  \n",
       "49691              8     4.7  \n",
       "49692             11    13.5  "
      ]
     },
     "execution_count": 6,
     "metadata": {},
     "output_type": "execute_result"
    }
   ],
   "source": [
    "df.tail()"
   ]
  },
  {
   "cell_type": "code",
   "execution_count": 7,
   "id": "ca700be9",
   "metadata": {
    "scrolled": true
   },
   "outputs": [
    {
     "name": "stdout",
     "output_type": "stream",
     "text": [
      "<class 'pandas.core.frame.DataFrame'>\n",
      "RangeIndex: 49693 entries, 0 to 49692\n",
      "Data columns (total 5 columns):\n",
      " #   Column         Non-Null Count  Dtype  \n",
      "---  ------         --------------  -----  \n",
      " 0   product_id     49693 non-null  int64  \n",
      " 1   product_name   49677 non-null  object \n",
      " 2   aisle_id       49693 non-null  int64  \n",
      " 3   department_id  49693 non-null  int64  \n",
      " 4   prices         49693 non-null  float64\n",
      "dtypes: float64(1), int64(3), object(1)\n",
      "memory usage: 1.9+ MB\n"
     ]
    }
   ],
   "source": [
    "df.info()"
   ]
  },
  {
   "cell_type": "markdown",
   "id": "facd534d",
   "metadata": {},
   "source": [
    "All of the columns are useful, but prices should really be renamed 'price' and some of the datatypes could be made more efficient."
   ]
  },
  {
   "cell_type": "code",
   "execution_count": 8,
   "id": "dc195b32",
   "metadata": {
    "scrolled": true
   },
   "outputs": [
    {
     "data": {
      "text/html": [
       "<div>\n",
       "<style scoped>\n",
       "    .dataframe tbody tr th:only-of-type {\n",
       "        vertical-align: middle;\n",
       "    }\n",
       "\n",
       "    .dataframe tbody tr th {\n",
       "        vertical-align: top;\n",
       "    }\n",
       "\n",
       "    .dataframe thead th {\n",
       "        text-align: right;\n",
       "    }\n",
       "</style>\n",
       "<table border=\"1\" class=\"dataframe\">\n",
       "  <thead>\n",
       "    <tr style=\"text-align: right;\">\n",
       "      <th></th>\n",
       "      <th>product_id</th>\n",
       "      <th>aisle_id</th>\n",
       "      <th>department_id</th>\n",
       "      <th>prices</th>\n",
       "    </tr>\n",
       "  </thead>\n",
       "  <tbody>\n",
       "    <tr>\n",
       "      <th>count</th>\n",
       "      <td>49693.000000</td>\n",
       "      <td>49693.000000</td>\n",
       "      <td>49693.000000</td>\n",
       "      <td>49693.000000</td>\n",
       "    </tr>\n",
       "    <tr>\n",
       "      <th>mean</th>\n",
       "      <td>24844.345139</td>\n",
       "      <td>67.770249</td>\n",
       "      <td>11.728433</td>\n",
       "      <td>9.994136</td>\n",
       "    </tr>\n",
       "    <tr>\n",
       "      <th>std</th>\n",
       "      <td>14343.717401</td>\n",
       "      <td>38.316774</td>\n",
       "      <td>5.850282</td>\n",
       "      <td>453.519686</td>\n",
       "    </tr>\n",
       "    <tr>\n",
       "      <th>min</th>\n",
       "      <td>1.000000</td>\n",
       "      <td>1.000000</td>\n",
       "      <td>1.000000</td>\n",
       "      <td>1.000000</td>\n",
       "    </tr>\n",
       "    <tr>\n",
       "      <th>25%</th>\n",
       "      <td>12423.000000</td>\n",
       "      <td>35.000000</td>\n",
       "      <td>7.000000</td>\n",
       "      <td>4.100000</td>\n",
       "    </tr>\n",
       "    <tr>\n",
       "      <th>50%</th>\n",
       "      <td>24845.000000</td>\n",
       "      <td>69.000000</td>\n",
       "      <td>13.000000</td>\n",
       "      <td>7.100000</td>\n",
       "    </tr>\n",
       "    <tr>\n",
       "      <th>75%</th>\n",
       "      <td>37265.000000</td>\n",
       "      <td>100.000000</td>\n",
       "      <td>17.000000</td>\n",
       "      <td>11.200000</td>\n",
       "    </tr>\n",
       "    <tr>\n",
       "      <th>max</th>\n",
       "      <td>49688.000000</td>\n",
       "      <td>134.000000</td>\n",
       "      <td>21.000000</td>\n",
       "      <td>99999.000000</td>\n",
       "    </tr>\n",
       "  </tbody>\n",
       "</table>\n",
       "</div>"
      ],
      "text/plain": [
       "         product_id      aisle_id  department_id        prices\n",
       "count  49693.000000  49693.000000   49693.000000  49693.000000\n",
       "mean   24844.345139     67.770249      11.728433      9.994136\n",
       "std    14343.717401     38.316774       5.850282    453.519686\n",
       "min        1.000000      1.000000       1.000000      1.000000\n",
       "25%    12423.000000     35.000000       7.000000      4.100000\n",
       "50%    24845.000000     69.000000      13.000000      7.100000\n",
       "75%    37265.000000    100.000000      17.000000     11.200000\n",
       "max    49688.000000    134.000000      21.000000  99999.000000"
      ]
     },
     "execution_count": 8,
     "metadata": {},
     "output_type": "execute_result"
    }
   ],
   "source": [
    "df.describe()"
   ]
  },
  {
   "cell_type": "markdown",
   "id": "19d5a5d5",
   "metadata": {},
   "source": [
    "All the rows have the same count, so it is unlikely to have any missing values.\n",
    "\n",
    "However, the max price seems out of line for a df consisting of grocery items.\n"
   ]
  },
  {
   "cell_type": "markdown",
   "id": "28674241",
   "metadata": {},
   "source": [
    "### 0.4 Renaming columns"
   ]
  },
  {
   "cell_type": "code",
   "execution_count": 9,
   "id": "c95fbeed",
   "metadata": {
    "scrolled": true
   },
   "outputs": [],
   "source": [
    "# Because prices because it implies multiples prices when it is only one.\n",
    "df.rename(columns = {'prices' : 'price'}, inplace = True)"
   ]
  },
  {
   "cell_type": "code",
   "execution_count": 10,
   "id": "26ad0044",
   "metadata": {},
   "outputs": [
    {
     "data": {
      "text/html": [
       "<div>\n",
       "<style scoped>\n",
       "    .dataframe tbody tr th:only-of-type {\n",
       "        vertical-align: middle;\n",
       "    }\n",
       "\n",
       "    .dataframe tbody tr th {\n",
       "        vertical-align: top;\n",
       "    }\n",
       "\n",
       "    .dataframe thead th {\n",
       "        text-align: right;\n",
       "    }\n",
       "</style>\n",
       "<table border=\"1\" class=\"dataframe\">\n",
       "  <thead>\n",
       "    <tr style=\"text-align: right;\">\n",
       "      <th></th>\n",
       "      <th>product_id</th>\n",
       "      <th>product_name</th>\n",
       "      <th>aisle_id</th>\n",
       "      <th>department_id</th>\n",
       "      <th>price</th>\n",
       "    </tr>\n",
       "  </thead>\n",
       "  <tbody>\n",
       "    <tr>\n",
       "      <th>0</th>\n",
       "      <td>1</td>\n",
       "      <td>Chocolate Sandwich Cookies</td>\n",
       "      <td>61</td>\n",
       "      <td>19</td>\n",
       "      <td>5.8</td>\n",
       "    </tr>\n",
       "    <tr>\n",
       "      <th>1</th>\n",
       "      <td>2</td>\n",
       "      <td>All-Seasons Salt</td>\n",
       "      <td>104</td>\n",
       "      <td>13</td>\n",
       "      <td>9.3</td>\n",
       "    </tr>\n",
       "    <tr>\n",
       "      <th>2</th>\n",
       "      <td>3</td>\n",
       "      <td>Robust Golden Unsweetened Oolong Tea</td>\n",
       "      <td>94</td>\n",
       "      <td>7</td>\n",
       "      <td>4.5</td>\n",
       "    </tr>\n",
       "    <tr>\n",
       "      <th>3</th>\n",
       "      <td>4</td>\n",
       "      <td>Smart Ones Classic Favorites Mini Rigatoni Wit...</td>\n",
       "      <td>38</td>\n",
       "      <td>1</td>\n",
       "      <td>10.5</td>\n",
       "    </tr>\n",
       "    <tr>\n",
       "      <th>4</th>\n",
       "      <td>5</td>\n",
       "      <td>Green Chile Anytime Sauce</td>\n",
       "      <td>5</td>\n",
       "      <td>13</td>\n",
       "      <td>4.3</td>\n",
       "    </tr>\n",
       "  </tbody>\n",
       "</table>\n",
       "</div>"
      ],
      "text/plain": [
       "   product_id                                       product_name  aisle_id  \\\n",
       "0           1                         Chocolate Sandwich Cookies        61   \n",
       "1           2                                   All-Seasons Salt       104   \n",
       "2           3               Robust Golden Unsweetened Oolong Tea        94   \n",
       "3           4  Smart Ones Classic Favorites Mini Rigatoni Wit...        38   \n",
       "4           5                          Green Chile Anytime Sauce         5   \n",
       "\n",
       "   department_id  price  \n",
       "0             19    5.8  \n",
       "1             13    9.3  \n",
       "2              7    4.5  \n",
       "3              1   10.5  \n",
       "4             13    4.3  "
      ]
     },
     "execution_count": 10,
     "metadata": {},
     "output_type": "execute_result"
    }
   ],
   "source": [
    "# Confirming the change\n",
    "df.head()"
   ]
  },
  {
   "cell_type": "markdown",
   "id": "59017f82",
   "metadata": {},
   "source": [
    "### 0.5 Adjusting datatypes to be more appropriate for variables"
   ]
  },
  {
   "cell_type": "code",
   "execution_count": 11,
   "id": "ade5738c",
   "metadata": {},
   "outputs": [],
   "source": [
    "# product_id ranges between 1 and 50k\n",
    "# so int32 is more than sufficient and allows room for growth\n",
    "df['product_id'] = df['product_id'].astype('int32')"
   ]
  },
  {
   "cell_type": "code",
   "execution_count": 12,
   "id": "7f574288",
   "metadata": {},
   "outputs": [],
   "source": [
    "# aisle_id ranges between 1 and 134\n",
    "# department_id ranges between 1 and 21\n",
    "# and int16 will allow each to grow up to over 32k\n",
    "df['aisle_id'] = df['aisle_id'].astype('int16')\n",
    "df['department_id'] = df['department_id'].astype('int16')"
   ]
  },
  {
   "cell_type": "code",
   "execution_count": 13,
   "id": "b9bd35fb",
   "metadata": {},
   "outputs": [],
   "source": [
    "# price ranges between 1 and 100k\n",
    "# so float32 is more appropriate than float64\n",
    "df['price'] = df['price'].astype('float32')"
   ]
  },
  {
   "cell_type": "code",
   "execution_count": 14,
   "id": "376df65a",
   "metadata": {
    "scrolled": false
   },
   "outputs": [
    {
     "name": "stdout",
     "output_type": "stream",
     "text": [
      "<class 'pandas.core.frame.DataFrame'>\n",
      "RangeIndex: 49693 entries, 0 to 49692\n",
      "Data columns (total 5 columns):\n",
      " #   Column         Non-Null Count  Dtype  \n",
      "---  ------         --------------  -----  \n",
      " 0   product_id     49693 non-null  int32  \n",
      " 1   product_name   49677 non-null  object \n",
      " 2   aisle_id       49693 non-null  int16  \n",
      " 3   department_id  49693 non-null  int16  \n",
      " 4   price          49693 non-null  float32\n",
      "dtypes: float32(1), int16(2), int32(1), object(1)\n",
      "memory usage: 970.7+ KB\n"
     ]
    }
   ],
   "source": [
    "# Confirming the changes.\n",
    "df.info()"
   ]
  },
  {
   "cell_type": "markdown",
   "id": "b5135a37",
   "metadata": {},
   "source": [
    "### 0.6 Cleaning data"
   ]
  },
  {
   "cell_type": "markdown",
   "id": "4f674fb9",
   "metadata": {},
   "source": [
    "#### 0.6.1 Overall df checks"
   ]
  },
  {
   "cell_type": "code",
   "execution_count": 15,
   "id": "72b41f4f",
   "metadata": {
    "scrolled": true
   },
   "outputs": [
    {
     "data": {
      "text/plain": [
       "product_id        0\n",
       "product_name     16\n",
       "aisle_id          0\n",
       "department_id     0\n",
       "price             0\n",
       "dtype: int64"
      ]
     },
     "execution_count": 15,
     "metadata": {},
     "output_type": "execute_result"
    }
   ],
   "source": [
    "# Checking for nulls across df\n",
    "df.isnull().sum()"
   ]
  },
  {
   "cell_type": "markdown",
   "id": "6313605e",
   "metadata": {},
   "source": [
    "When we clean the 'product_name' column, those 16 missing values will be addressed."
   ]
  },
  {
   "cell_type": "code",
   "execution_count": 16,
   "id": "6ca068ac",
   "metadata": {},
   "outputs": [
    {
     "name": "stdout",
     "output_type": "stream",
     "text": [
      "product_name\n"
     ]
    }
   ],
   "source": [
    "# Check for mixed data types\n",
    "for col in df.columns.tolist():\n",
    "  weird = (df[[col]].applymap(type) != df[[col]].iloc[0].apply(type)).any(axis = 1)\n",
    "  if len (df[weird]) > 0:\n",
    "    print (col)"
   ]
  },
  {
   "cell_type": "markdown",
   "id": "7a19b561",
   "metadata": {},
   "source": [
    "Additionally, the mixed data types in the 'product_name' column will be addressed."
   ]
  },
  {
   "cell_type": "code",
   "execution_count": 17,
   "id": "cea3d14a",
   "metadata": {
    "scrolled": true
   },
   "outputs": [],
   "source": [
    "# Checking for whole-row duplicates\n",
    "dups = df[df.duplicated()]"
   ]
  },
  {
   "cell_type": "code",
   "execution_count": 18,
   "id": "22129b99",
   "metadata": {
    "scrolled": true
   },
   "outputs": [
    {
     "data": {
      "text/plain": [
       "(5, 5)"
      ]
     },
     "execution_count": 18,
     "metadata": {},
     "output_type": "execute_result"
    }
   ],
   "source": [
    "dups.shape"
   ]
  },
  {
   "cell_type": "markdown",
   "id": "e2083cc7",
   "metadata": {},
   "source": [
    "The dataframe of dups has five duplicated rows. "
   ]
  },
  {
   "cell_type": "code",
   "execution_count": 19,
   "id": "0b0ecd3b",
   "metadata": {},
   "outputs": [
    {
     "data": {
      "text/html": [
       "<div>\n",
       "<style scoped>\n",
       "    .dataframe tbody tr th:only-of-type {\n",
       "        vertical-align: middle;\n",
       "    }\n",
       "\n",
       "    .dataframe tbody tr th {\n",
       "        vertical-align: top;\n",
       "    }\n",
       "\n",
       "    .dataframe thead th {\n",
       "        text-align: right;\n",
       "    }\n",
       "</style>\n",
       "<table border=\"1\" class=\"dataframe\">\n",
       "  <thead>\n",
       "    <tr style=\"text-align: right;\">\n",
       "      <th></th>\n",
       "      <th>product_id</th>\n",
       "      <th>product_name</th>\n",
       "      <th>aisle_id</th>\n",
       "      <th>department_id</th>\n",
       "      <th>price</th>\n",
       "    </tr>\n",
       "  </thead>\n",
       "  <tbody>\n",
       "    <tr>\n",
       "      <th>462</th>\n",
       "      <td>462</td>\n",
       "      <td>Fiber 4g Gummy Dietary Supplement</td>\n",
       "      <td>70</td>\n",
       "      <td>11</td>\n",
       "      <td>4.8</td>\n",
       "    </tr>\n",
       "    <tr>\n",
       "      <th>18459</th>\n",
       "      <td>18458</td>\n",
       "      <td>Ranger IPA</td>\n",
       "      <td>27</td>\n",
       "      <td>5</td>\n",
       "      <td>9.2</td>\n",
       "    </tr>\n",
       "    <tr>\n",
       "      <th>26810</th>\n",
       "      <td>26808</td>\n",
       "      <td>Black House Coffee Roasty Stout Beer</td>\n",
       "      <td>27</td>\n",
       "      <td>5</td>\n",
       "      <td>13.4</td>\n",
       "    </tr>\n",
       "    <tr>\n",
       "      <th>35309</th>\n",
       "      <td>35306</td>\n",
       "      <td>Gluten Free Organic Peanut Butter &amp; Chocolate ...</td>\n",
       "      <td>121</td>\n",
       "      <td>14</td>\n",
       "      <td>6.8</td>\n",
       "    </tr>\n",
       "    <tr>\n",
       "      <th>35495</th>\n",
       "      <td>35491</td>\n",
       "      <td>Adore Forever Body Wash</td>\n",
       "      <td>127</td>\n",
       "      <td>11</td>\n",
       "      <td>9.9</td>\n",
       "    </tr>\n",
       "  </tbody>\n",
       "</table>\n",
       "</div>"
      ],
      "text/plain": [
       "       product_id                                       product_name  \\\n",
       "462           462                  Fiber 4g Gummy Dietary Supplement   \n",
       "18459       18458                                         Ranger IPA   \n",
       "26810       26808               Black House Coffee Roasty Stout Beer   \n",
       "35309       35306  Gluten Free Organic Peanut Butter & Chocolate ...   \n",
       "35495       35491                            Adore Forever Body Wash   \n",
       "\n",
       "       aisle_id  department_id  price  \n",
       "462          70             11    4.8  \n",
       "18459        27              5    9.2  \n",
       "26810        27              5   13.4  \n",
       "35309       121             14    6.8  \n",
       "35495       127             11    9.9  "
      ]
     },
     "execution_count": 19,
     "metadata": {},
     "output_type": "execute_result"
    }
   ],
   "source": [
    "# Exploring duplicates\n",
    "dups"
   ]
  },
  {
   "cell_type": "code",
   "execution_count": 20,
   "id": "5eb17d17",
   "metadata": {},
   "outputs": [
    {
     "data": {
      "text/plain": [
       "(49693, 5)"
      ]
     },
     "execution_count": 20,
     "metadata": {},
     "output_type": "execute_result"
    }
   ],
   "source": [
    "# Shape of df BEFORE removing duplicates\n",
    "df.shape"
   ]
  },
  {
   "cell_type": "code",
   "execution_count": 21,
   "id": "0c0a4ef7",
   "metadata": {},
   "outputs": [],
   "source": [
    "# Remove duplicates\n",
    "df = df.drop_duplicates()"
   ]
  },
  {
   "cell_type": "code",
   "execution_count": 22,
   "id": "2eb2fd92",
   "metadata": {},
   "outputs": [
    {
     "data": {
      "text/plain": [
       "(49688, 5)"
      ]
     },
     "execution_count": 22,
     "metadata": {},
     "output_type": "execute_result"
    }
   ],
   "source": [
    "# Shape of df AFTER removing duplicates\n",
    "df.shape"
   ]
  },
  {
   "cell_type": "markdown",
   "id": "36c0a79c",
   "metadata": {},
   "source": [
    "The new df correctly shows 5 fewer rows."
   ]
  },
  {
   "cell_type": "markdown",
   "id": "16b61296",
   "metadata": {},
   "source": [
    "#### 0.6.2 - product_id cleaning/wrangling"
   ]
  },
  {
   "cell_type": "code",
   "execution_count": 23,
   "id": "f0d5e4ae",
   "metadata": {
    "scrolled": true
   },
   "outputs": [
    {
     "data": {
      "text/plain": [
       "count    49688.000000\n",
       "mean     24844.500040\n",
       "std      14343.834402\n",
       "min          1.000000\n",
       "25%      12422.750000\n",
       "50%      24844.500000\n",
       "75%      37266.250000\n",
       "max      49688.000000\n",
       "Name: product_id, dtype: float64"
      ]
     },
     "execution_count": 23,
     "metadata": {},
     "output_type": "execute_result"
    }
   ],
   "source": [
    "# Exploring the data for this column\n",
    "df['product_id'].describe()"
   ]
  },
  {
   "cell_type": "code",
   "execution_count": 24,
   "id": "58844493",
   "metadata": {},
   "outputs": [
    {
     "data": {
      "text/plain": [
       "49686"
      ]
     },
     "execution_count": 24,
     "metadata": {},
     "output_type": "execute_result"
    }
   ],
   "source": [
    "# Confirming uniqueness of product_id numbers\n",
    "df.product_id.nunique()"
   ]
  },
  {
   "cell_type": "markdown",
   "id": "1e7dcb92",
   "metadata": {},
   "source": [
    "Since the number of unique product_ids does not match the count of product_id there must be some duplication."
   ]
  },
  {
   "cell_type": "code",
   "execution_count": 25,
   "id": "a0b4fd00",
   "metadata": {},
   "outputs": [
    {
     "data": {
      "text/plain": [
       "2"
      ]
     },
     "execution_count": 25,
     "metadata": {},
     "output_type": "execute_result"
    }
   ],
   "source": [
    "# Checking for number of duplicates\n",
    "df['product_id'].duplicated().sum()"
   ]
  },
  {
   "cell_type": "code",
   "execution_count": 26,
   "id": "c610c6e3",
   "metadata": {},
   "outputs": [],
   "source": [
    "# Identifying which product numbers are duplicated\n",
    "dups_prod_id = df[df.duplicated('product_id')]"
   ]
  },
  {
   "cell_type": "code",
   "execution_count": 27,
   "id": "2e06147c",
   "metadata": {},
   "outputs": [
    {
     "data": {
      "text/html": [
       "<div>\n",
       "<style scoped>\n",
       "    .dataframe tbody tr th:only-of-type {\n",
       "        vertical-align: middle;\n",
       "    }\n",
       "\n",
       "    .dataframe tbody tr th {\n",
       "        vertical-align: top;\n",
       "    }\n",
       "\n",
       "    .dataframe thead th {\n",
       "        text-align: right;\n",
       "    }\n",
       "</style>\n",
       "<table border=\"1\" class=\"dataframe\">\n",
       "  <thead>\n",
       "    <tr style=\"text-align: right;\">\n",
       "      <th></th>\n",
       "      <th>product_id</th>\n",
       "      <th>product_name</th>\n",
       "      <th>aisle_id</th>\n",
       "      <th>department_id</th>\n",
       "      <th>price</th>\n",
       "    </tr>\n",
       "  </thead>\n",
       "  <tbody>\n",
       "    <tr>\n",
       "      <th>6800</th>\n",
       "      <td>6800</td>\n",
       "      <td>Sprouted Quinoa Flakes Baby Cereal</td>\n",
       "      <td>92</td>\n",
       "      <td>18</td>\n",
       "      <td>14.0</td>\n",
       "    </tr>\n",
       "    <tr>\n",
       "      <th>26521</th>\n",
       "      <td>26520</td>\n",
       "      <td>Cheese Shredded Sharp Cheddar Reduced Fat 2%</td>\n",
       "      <td>21</td>\n",
       "      <td>16</td>\n",
       "      <td>2.9</td>\n",
       "    </tr>\n",
       "  </tbody>\n",
       "</table>\n",
       "</div>"
      ],
      "text/plain": [
       "       product_id                                  product_name  aisle_id  \\\n",
       "6800         6800            Sprouted Quinoa Flakes Baby Cereal        92   \n",
       "26521       26520  Cheese Shredded Sharp Cheddar Reduced Fat 2%        21   \n",
       "\n",
       "       department_id  price  \n",
       "6800              18   14.0  \n",
       "26521             16    2.9  "
      ]
     },
     "execution_count": 27,
     "metadata": {},
     "output_type": "execute_result"
    }
   ],
   "source": [
    "dups_prod_id"
   ]
  },
  {
   "cell_type": "code",
   "execution_count": 28,
   "id": "7c007ff5",
   "metadata": {},
   "outputs": [
    {
     "data": {
      "text/html": [
       "<div>\n",
       "<style scoped>\n",
       "    .dataframe tbody tr th:only-of-type {\n",
       "        vertical-align: middle;\n",
       "    }\n",
       "\n",
       "    .dataframe tbody tr th {\n",
       "        vertical-align: top;\n",
       "    }\n",
       "\n",
       "    .dataframe thead th {\n",
       "        text-align: right;\n",
       "    }\n",
       "</style>\n",
       "<table border=\"1\" class=\"dataframe\">\n",
       "  <thead>\n",
       "    <tr style=\"text-align: right;\">\n",
       "      <th></th>\n",
       "      <th>product_id</th>\n",
       "      <th>product_name</th>\n",
       "      <th>aisle_id</th>\n",
       "      <th>department_id</th>\n",
       "      <th>price</th>\n",
       "    </tr>\n",
       "  </thead>\n",
       "  <tbody>\n",
       "    <tr>\n",
       "      <th>6799</th>\n",
       "      <td>6800</td>\n",
       "      <td>Revive Zero Vitamin Water</td>\n",
       "      <td>64</td>\n",
       "      <td>7</td>\n",
       "      <td>6.4</td>\n",
       "    </tr>\n",
       "    <tr>\n",
       "      <th>6800</th>\n",
       "      <td>6800</td>\n",
       "      <td>Sprouted Quinoa Flakes Baby Cereal</td>\n",
       "      <td>92</td>\n",
       "      <td>18</td>\n",
       "      <td>14.0</td>\n",
       "    </tr>\n",
       "  </tbody>\n",
       "</table>\n",
       "</div>"
      ],
      "text/plain": [
       "      product_id                        product_name  aisle_id  department_id  \\\n",
       "6799        6800           Revive Zero Vitamin Water        64              7   \n",
       "6800        6800  Sprouted Quinoa Flakes Baby Cereal        92             18   \n",
       "\n",
       "      price  \n",
       "6799    6.4  \n",
       "6800   14.0  "
      ]
     },
     "execution_count": 28,
     "metadata": {},
     "output_type": "execute_result"
    }
   ],
   "source": [
    "# Looking at the duplicates to see if there is a way to fix this\n",
    "df[df['product_id'] == 6800]"
   ]
  },
  {
   "cell_type": "code",
   "execution_count": 29,
   "id": "fd0f97d1",
   "metadata": {},
   "outputs": [
    {
     "data": {
      "text/html": [
       "<div>\n",
       "<style scoped>\n",
       "    .dataframe tbody tr th:only-of-type {\n",
       "        vertical-align: middle;\n",
       "    }\n",
       "\n",
       "    .dataframe tbody tr th {\n",
       "        vertical-align: top;\n",
       "    }\n",
       "\n",
       "    .dataframe thead th {\n",
       "        text-align: right;\n",
       "    }\n",
       "</style>\n",
       "<table border=\"1\" class=\"dataframe\">\n",
       "  <thead>\n",
       "    <tr style=\"text-align: right;\">\n",
       "      <th></th>\n",
       "      <th>product_id</th>\n",
       "      <th>product_name</th>\n",
       "      <th>aisle_id</th>\n",
       "      <th>department_id</th>\n",
       "      <th>price</th>\n",
       "    </tr>\n",
       "  </thead>\n",
       "  <tbody>\n",
       "    <tr>\n",
       "      <th>26520</th>\n",
       "      <td>26520</td>\n",
       "      <td>Clinical Advanced Solid Ultimate Fresh Anti-Pe...</td>\n",
       "      <td>80</td>\n",
       "      <td>11</td>\n",
       "      <td>10.6</td>\n",
       "    </tr>\n",
       "    <tr>\n",
       "      <th>26521</th>\n",
       "      <td>26520</td>\n",
       "      <td>Cheese Shredded Sharp Cheddar Reduced Fat 2%</td>\n",
       "      <td>21</td>\n",
       "      <td>16</td>\n",
       "      <td>2.9</td>\n",
       "    </tr>\n",
       "  </tbody>\n",
       "</table>\n",
       "</div>"
      ],
      "text/plain": [
       "       product_id                                       product_name  \\\n",
       "26520       26520  Clinical Advanced Solid Ultimate Fresh Anti-Pe...   \n",
       "26521       26520       Cheese Shredded Sharp Cheddar Reduced Fat 2%   \n",
       "\n",
       "       aisle_id  department_id  price  \n",
       "26520        80             11   10.6  \n",
       "26521        21             16    2.9  "
      ]
     },
     "execution_count": 29,
     "metadata": {},
     "output_type": "execute_result"
    }
   ],
   "source": [
    "df[df['product_id'] == 26520]"
   ]
  },
  {
   "cell_type": "markdown",
   "id": "01d0fcbd",
   "metadata": {},
   "source": [
    "The duplicated product_id numbers go to very different products, so it isn't a simple case of standardizing a product_name.  These products will have to be dropped."
   ]
  },
  {
   "cell_type": "code",
   "execution_count": 30,
   "id": "e12630d9",
   "metadata": {},
   "outputs": [],
   "source": [
    "# Create a list of product_ids to be dropped\n",
    "values = [6800, 26520]"
   ]
  },
  {
   "cell_type": "code",
   "execution_count": 31,
   "id": "b5551e13",
   "metadata": {},
   "outputs": [
    {
     "data": {
      "text/plain": [
       "(49688, 5)"
      ]
     },
     "execution_count": 31,
     "metadata": {},
     "output_type": "execute_result"
    }
   ],
   "source": [
    "# Checking the shape before dropping those product_ids\n",
    "df.shape"
   ]
  },
  {
   "cell_type": "code",
   "execution_count": 32,
   "id": "c28b6746",
   "metadata": {},
   "outputs": [],
   "source": [
    "# Overwrite the df without the duplicated products.\n",
    "df = df[df.product_id.isin(values) == False]"
   ]
  },
  {
   "cell_type": "code",
   "execution_count": 33,
   "id": "8aeff8b0",
   "metadata": {},
   "outputs": [
    {
     "data": {
      "text/plain": [
       "(49684, 5)"
      ]
     },
     "execution_count": 33,
     "metadata": {},
     "output_type": "execute_result"
    }
   ],
   "source": [
    "# Checking the shape AFTER dropping those product_ids\n",
    "df.shape"
   ]
  },
  {
   "cell_type": "markdown",
   "id": "d002239f",
   "metadata": {},
   "source": [
    "The new df correctly shows 4 rows dropped. \n",
    "(2 rows for each of the 2 duplicated product_ids)"
   ]
  },
  {
   "cell_type": "code",
   "execution_count": 34,
   "id": "30688500",
   "metadata": {},
   "outputs": [
    {
     "data": {
      "text/plain": [
       "49684"
      ]
     },
     "execution_count": 34,
     "metadata": {},
     "output_type": "execute_result"
    }
   ],
   "source": [
    "# Confirming uniqueness of product_id numbers\n",
    "df.product_id.nunique()"
   ]
  },
  {
   "cell_type": "markdown",
   "id": "47b1e3b3",
   "metadata": {},
   "source": [
    "#### 0.6.3 - product_name cleaning/wrangling"
   ]
  },
  {
   "cell_type": "code",
   "execution_count": 35,
   "id": "7549f846",
   "metadata": {},
   "outputs": [
    {
     "data": {
      "text/plain": [
       "count                          49668\n",
       "unique                         49668\n",
       "top       Chocolate Sandwich Cookies\n",
       "freq                               1\n",
       "Name: product_name, dtype: object"
      ]
     },
     "execution_count": 35,
     "metadata": {},
     "output_type": "execute_result"
    }
   ],
   "source": [
    "# Exploring the data for this column\n",
    "df['product_name'].describe()"
   ]
  },
  {
   "cell_type": "markdown",
   "id": "25f172ce",
   "metadata": {},
   "source": [
    "The good news is that the product names are all unique.\n",
    "The bad news is that 16 products are missing names.\n",
    "\n",
    "The client (a.k.a. the instructions for this task) wants these rows removed rather than a flag being inserted"
   ]
  },
  {
   "cell_type": "code",
   "execution_count": 36,
   "id": "bb0679ad",
   "metadata": {},
   "outputs": [],
   "source": [
    "# Create a subset of products to investigate missing product names\n",
    "df_prod_nan = df[df['product_name'].isnull() == True]"
   ]
  },
  {
   "cell_type": "code",
   "execution_count": 37,
   "id": "ccc8576a",
   "metadata": {},
   "outputs": [
    {
     "data": {
      "text/plain": [
       "16"
      ]
     },
     "execution_count": 37,
     "metadata": {},
     "output_type": "execute_result"
    }
   ],
   "source": [
    "len(df_prod_nan)"
   ]
  },
  {
   "cell_type": "code",
   "execution_count": 38,
   "id": "039e02cc",
   "metadata": {},
   "outputs": [
    {
     "data": {
      "text/html": [
       "<div>\n",
       "<style scoped>\n",
       "    .dataframe tbody tr th:only-of-type {\n",
       "        vertical-align: middle;\n",
       "    }\n",
       "\n",
       "    .dataframe tbody tr th {\n",
       "        vertical-align: top;\n",
       "    }\n",
       "\n",
       "    .dataframe thead th {\n",
       "        text-align: right;\n",
       "    }\n",
       "</style>\n",
       "<table border=\"1\" class=\"dataframe\">\n",
       "  <thead>\n",
       "    <tr style=\"text-align: right;\">\n",
       "      <th></th>\n",
       "      <th>product_id</th>\n",
       "      <th>product_name</th>\n",
       "      <th>aisle_id</th>\n",
       "      <th>department_id</th>\n",
       "      <th>price</th>\n",
       "    </tr>\n",
       "  </thead>\n",
       "  <tbody>\n",
       "    <tr>\n",
       "      <th>33</th>\n",
       "      <td>34</td>\n",
       "      <td>NaN</td>\n",
       "      <td>121</td>\n",
       "      <td>14</td>\n",
       "      <td>12.2</td>\n",
       "    </tr>\n",
       "    <tr>\n",
       "      <th>68</th>\n",
       "      <td>69</td>\n",
       "      <td>NaN</td>\n",
       "      <td>26</td>\n",
       "      <td>7</td>\n",
       "      <td>11.8</td>\n",
       "    </tr>\n",
       "    <tr>\n",
       "      <th>115</th>\n",
       "      <td>116</td>\n",
       "      <td>NaN</td>\n",
       "      <td>93</td>\n",
       "      <td>3</td>\n",
       "      <td>10.8</td>\n",
       "    </tr>\n",
       "    <tr>\n",
       "      <th>261</th>\n",
       "      <td>262</td>\n",
       "      <td>NaN</td>\n",
       "      <td>110</td>\n",
       "      <td>13</td>\n",
       "      <td>12.1</td>\n",
       "    </tr>\n",
       "    <tr>\n",
       "      <th>525</th>\n",
       "      <td>525</td>\n",
       "      <td>NaN</td>\n",
       "      <td>109</td>\n",
       "      <td>11</td>\n",
       "      <td>1.2</td>\n",
       "    </tr>\n",
       "    <tr>\n",
       "      <th>1511</th>\n",
       "      <td>1511</td>\n",
       "      <td>NaN</td>\n",
       "      <td>84</td>\n",
       "      <td>16</td>\n",
       "      <td>14.3</td>\n",
       "    </tr>\n",
       "    <tr>\n",
       "      <th>1780</th>\n",
       "      <td>1780</td>\n",
       "      <td>NaN</td>\n",
       "      <td>126</td>\n",
       "      <td>11</td>\n",
       "      <td>12.3</td>\n",
       "    </tr>\n",
       "    <tr>\n",
       "      <th>2240</th>\n",
       "      <td>2240</td>\n",
       "      <td>NaN</td>\n",
       "      <td>52</td>\n",
       "      <td>1</td>\n",
       "      <td>14.2</td>\n",
       "    </tr>\n",
       "    <tr>\n",
       "      <th>2586</th>\n",
       "      <td>2586</td>\n",
       "      <td>NaN</td>\n",
       "      <td>104</td>\n",
       "      <td>13</td>\n",
       "      <td>12.4</td>\n",
       "    </tr>\n",
       "    <tr>\n",
       "      <th>3159</th>\n",
       "      <td>3159</td>\n",
       "      <td>NaN</td>\n",
       "      <td>126</td>\n",
       "      <td>11</td>\n",
       "      <td>13.1</td>\n",
       "    </tr>\n",
       "    <tr>\n",
       "      <th>3230</th>\n",
       "      <td>3230</td>\n",
       "      <td>NaN</td>\n",
       "      <td>120</td>\n",
       "      <td>16</td>\n",
       "      <td>14.4</td>\n",
       "    </tr>\n",
       "    <tr>\n",
       "      <th>3736</th>\n",
       "      <td>3736</td>\n",
       "      <td>NaN</td>\n",
       "      <td>41</td>\n",
       "      <td>8</td>\n",
       "      <td>14.8</td>\n",
       "    </tr>\n",
       "    <tr>\n",
       "      <th>4283</th>\n",
       "      <td>4283</td>\n",
       "      <td>NaN</td>\n",
       "      <td>77</td>\n",
       "      <td>7</td>\n",
       "      <td>14.4</td>\n",
       "    </tr>\n",
       "    <tr>\n",
       "      <th>4790</th>\n",
       "      <td>4790</td>\n",
       "      <td>NaN</td>\n",
       "      <td>91</td>\n",
       "      <td>16</td>\n",
       "      <td>14.5</td>\n",
       "    </tr>\n",
       "    <tr>\n",
       "      <th>38187</th>\n",
       "      <td>38183</td>\n",
       "      <td>NaN</td>\n",
       "      <td>39</td>\n",
       "      <td>12</td>\n",
       "      <td>20.9</td>\n",
       "    </tr>\n",
       "    <tr>\n",
       "      <th>40444</th>\n",
       "      <td>40440</td>\n",
       "      <td>NaN</td>\n",
       "      <td>120</td>\n",
       "      <td>16</td>\n",
       "      <td>14.8</td>\n",
       "    </tr>\n",
       "  </tbody>\n",
       "</table>\n",
       "</div>"
      ],
      "text/plain": [
       "       product_id product_name  aisle_id  department_id  price\n",
       "33             34          NaN       121             14   12.2\n",
       "68             69          NaN        26              7   11.8\n",
       "115           116          NaN        93              3   10.8\n",
       "261           262          NaN       110             13   12.1\n",
       "525           525          NaN       109             11    1.2\n",
       "1511         1511          NaN        84             16   14.3\n",
       "1780         1780          NaN       126             11   12.3\n",
       "2240         2240          NaN        52              1   14.2\n",
       "2586         2586          NaN       104             13   12.4\n",
       "3159         3159          NaN       126             11   13.1\n",
       "3230         3230          NaN       120             16   14.4\n",
       "3736         3736          NaN        41              8   14.8\n",
       "4283         4283          NaN        77              7   14.4\n",
       "4790         4790          NaN        91             16   14.5\n",
       "38187       38183          NaN        39             12   20.9\n",
       "40444       40440          NaN       120             16   14.8"
      ]
     },
     "execution_count": 38,
     "metadata": {},
     "output_type": "execute_result"
    }
   ],
   "source": [
    "df_prod_nan"
   ]
  },
  {
   "cell_type": "code",
   "execution_count": 39,
   "id": "c248db7a",
   "metadata": {},
   "outputs": [
    {
     "data": {
      "text/plain": [
       "(49684, 5)"
      ]
     },
     "execution_count": 39,
     "metadata": {},
     "output_type": "execute_result"
    }
   ],
   "source": [
    "# Shape of products df BEFORE removing products with missing names\n",
    "df.shape"
   ]
  },
  {
   "cell_type": "code",
   "execution_count": 40,
   "id": "9a77452e",
   "metadata": {},
   "outputs": [],
   "source": [
    "# Create new df with only products that have a name\n",
    "df = df[df['product_name'].isnull() == False]"
   ]
  },
  {
   "cell_type": "code",
   "execution_count": 41,
   "id": "71790e2b",
   "metadata": {},
   "outputs": [
    {
     "data": {
      "text/plain": [
       "(49668, 5)"
      ]
     },
     "execution_count": 41,
     "metadata": {},
     "output_type": "execute_result"
    }
   ],
   "source": [
    "# Shape of products df AFTER removing products with missing names\n",
    "df.shape"
   ]
  },
  {
   "cell_type": "code",
   "execution_count": 42,
   "id": "8abc088b",
   "metadata": {},
   "outputs": [
    {
     "data": {
      "text/plain": [
       "count                          49668\n",
       "unique                         49668\n",
       "top       Chocolate Sandwich Cookies\n",
       "freq                               1\n",
       "Name: product_name, dtype: object"
      ]
     },
     "execution_count": 42,
     "metadata": {},
     "output_type": "execute_result"
    }
   ],
   "source": [
    "df['product_name'].describe()"
   ]
  },
  {
   "cell_type": "markdown",
   "id": "f062f499",
   "metadata": {},
   "source": [
    "Now the number of rows and number of unique product names match up."
   ]
  },
  {
   "cell_type": "code",
   "execution_count": 43,
   "id": "d7699717",
   "metadata": {},
   "outputs": [],
   "source": [
    "# Confirming that the removal of the NaN values \n",
    "# has resolved the mixed-data problem for this column.\n",
    "for col in df.columns.tolist():\n",
    "  weird = (df[[col]].applymap(type) != df[[col]].iloc[0].apply(type)).any(axis = 1)\n",
    "  if len (df[weird]) > 0:\n",
    "    print (col)"
   ]
  },
  {
   "cell_type": "markdown",
   "id": "396f2bf7",
   "metadata": {},
   "source": [
    "#### 0.6.4 - aisle_id cleaning/wrangling"
   ]
  },
  {
   "cell_type": "code",
   "execution_count": 44,
   "id": "aba738af",
   "metadata": {},
   "outputs": [
    {
     "data": {
      "text/plain": [
       "count    49668.000000\n",
       "mean        67.762724\n",
       "std         38.316555\n",
       "min          1.000000\n",
       "25%         35.000000\n",
       "50%         69.000000\n",
       "75%        100.000000\n",
       "max        134.000000\n",
       "Name: aisle_id, dtype: float64"
      ]
     },
     "execution_count": 44,
     "metadata": {},
     "output_type": "execute_result"
    }
   ],
   "source": [
    "#Exploring the data for this column\n",
    "df['aisle_id'].describe()"
   ]
  },
  {
   "cell_type": "code",
   "execution_count": 45,
   "id": "2c02538a",
   "metadata": {},
   "outputs": [
    {
     "data": {
      "text/plain": [
       "134"
      ]
     },
     "execution_count": 45,
     "metadata": {},
     "output_type": "execute_result"
    }
   ],
   "source": [
    "# Checking the uniqueness of order_id numbers\n",
    "df.aisle_id.nunique()"
   ]
  },
  {
   "cell_type": "code",
   "execution_count": 46,
   "id": "8721617c",
   "metadata": {
    "scrolled": false
   },
   "outputs": [
    {
     "data": {
      "text/plain": [
       "1      146\n",
       "2      271\n",
       "3      832\n",
       "4      543\n",
       "5      409\n",
       "      ... \n",
       "130    303\n",
       "131    457\n",
       "132    178\n",
       "133    172\n",
       "134     95\n",
       "Name: aisle_id, Length: 134, dtype: int64"
      ]
     },
     "execution_count": 46,
     "metadata": {},
     "output_type": "execute_result"
    }
   ],
   "source": [
    "df['aisle_id'].value_counts(dropna=False).sort_index()"
   ]
  },
  {
   "cell_type": "markdown",
   "id": "9bb3e0bf",
   "metadata": {},
   "source": [
    "The aisle_id variable ranges from 1 to 134."
   ]
  },
  {
   "cell_type": "markdown",
   "id": "49400e19",
   "metadata": {},
   "source": [
    "#### 0.6.5 - department_id cleaning/wrangling"
   ]
  },
  {
   "cell_type": "code",
   "execution_count": 47,
   "id": "d22aea7e",
   "metadata": {},
   "outputs": [
    {
     "data": {
      "text/plain": [
       "count    49668.000000\n",
       "mean        11.728839\n",
       "std          5.850876\n",
       "min          1.000000\n",
       "25%          7.000000\n",
       "50%         13.000000\n",
       "75%         17.000000\n",
       "max         21.000000\n",
       "Name: department_id, dtype: float64"
      ]
     },
     "execution_count": 47,
     "metadata": {},
     "output_type": "execute_result"
    }
   ],
   "source": [
    "#Exploring the data for this column\n",
    "df['department_id'].describe()"
   ]
  },
  {
   "cell_type": "code",
   "execution_count": 48,
   "id": "d6b9c75a",
   "metadata": {},
   "outputs": [
    {
     "data": {
      "text/plain": [
       "21"
      ]
     },
     "execution_count": 48,
     "metadata": {},
     "output_type": "execute_result"
    }
   ],
   "source": [
    "df.department_id.nunique()"
   ]
  },
  {
   "cell_type": "markdown",
   "id": "3b503371",
   "metadata": {},
   "source": [
    "There are 206,209 unique users in this df."
   ]
  },
  {
   "cell_type": "code",
   "execution_count": 49,
   "id": "3ce419ae",
   "metadata": {},
   "outputs": [
    {
     "data": {
      "text/plain": [
       "1     4006\n",
       "2      548\n",
       "3     1515\n",
       "4     1684\n",
       "5     1054\n",
       "6     1139\n",
       "7     4362\n",
       "8      971\n",
       "9     1858\n",
       "10      38\n",
       "11    6559\n",
       "12     906\n",
       "13    5369\n",
       "14    1114\n",
       "15    2092\n",
       "16    3444\n",
       "17    3085\n",
       "18    1080\n",
       "19    6264\n",
       "20    1322\n",
       "21    1258\n",
       "Name: department_id, dtype: int64"
      ]
     },
     "execution_count": 49,
     "metadata": {},
     "output_type": "execute_result"
    }
   ],
   "source": [
    "df['department_id'].value_counts(dropna=False).sort_index()"
   ]
  },
  {
   "cell_type": "markdown",
   "id": "c75f1643",
   "metadata": {},
   "source": [
    "The department_id variable ranges from 1 to 21."
   ]
  },
  {
   "cell_type": "markdown",
   "id": "2f61dd3a",
   "metadata": {},
   "source": [
    "#### 0.6.6 - price cleaning/wrangling"
   ]
  },
  {
   "cell_type": "code",
   "execution_count": 50,
   "id": "c976277e",
   "metadata": {},
   "outputs": [
    {
     "data": {
      "text/plain": [
       "count    49668.000000\n",
       "mean         9.993435\n",
       "std        453.625549\n",
       "min          1.000000\n",
       "25%          4.100000\n",
       "50%          7.100000\n",
       "75%         11.100000\n",
       "max      99999.000000\n",
       "Name: price, dtype: float64"
      ]
     },
     "execution_count": 50,
     "metadata": {},
     "output_type": "execute_result"
    }
   ],
   "source": [
    "#Exploring the data for this column\n",
    "df['price'].describe()"
   ]
  },
  {
   "cell_type": "code",
   "execution_count": 51,
   "id": "c1984f6e",
   "metadata": {},
   "outputs": [
    {
     "data": {
      "text/plain": [
       "1.000000        116\n",
       "1.100000        296\n",
       "1.200000        296\n",
       "1.300000        286\n",
       "1.400000        321\n",
       "               ... \n",
       "24.799999         5\n",
       "24.900000         6\n",
       "25.000000         5\n",
       "14900.000000      1\n",
       "99999.000000      1\n",
       "Name: price, Length: 242, dtype: int64"
      ]
     },
     "execution_count": 51,
     "metadata": {},
     "output_type": "execute_result"
    }
   ],
   "source": [
    "# Checking for and exploring outliers\n",
    "df['price'].value_counts(dropna=False).sort_index()"
   ]
  },
  {
   "cell_type": "code",
   "execution_count": 51,
   "id": "30bffeb5",
   "metadata": {},
   "outputs": [
    {
     "data": {
      "text/plain": [
       "<AxesSubplot:xlabel='price', ylabel='price'>"
      ]
     },
     "execution_count": 51,
     "metadata": {},
     "output_type": "execute_result"
    },
    {
     "data": {
      "image/png": "[encoded data removed]",
      "text/plain": [
       "<Figure size 640x480 with 1 Axes>"
      ]
     },
     "metadata": {},
     "output_type": "display_data"
    }
   ],
   "source": [
    "# Making a scatterplot to confirm there are only the two outliers\n",
    "sns.scatterplot(x = 'price', y = 'price',data = df)"
   ]
  },
  {
   "cell_type": "code",
   "execution_count": 52,
   "id": "0ca62b5b",
   "metadata": {},
   "outputs": [],
   "source": [
    "# Creating a subset of items where the price is > 100\n",
    "# which would be unlikely for a grocery items\n",
    "expensive_items = df[df['price'] > 100]"
   ]
  },
  {
   "cell_type": "code",
   "execution_count": 53,
   "id": "75363ae2",
   "metadata": {},
   "outputs": [
    {
     "data": {
      "text/html": [
       "<div>\n",
       "<style scoped>\n",
       "    .dataframe tbody tr th:only-of-type {\n",
       "        vertical-align: middle;\n",
       "    }\n",
       "\n",
       "    .dataframe tbody tr th {\n",
       "        vertical-align: top;\n",
       "    }\n",
       "\n",
       "    .dataframe thead th {\n",
       "        text-align: right;\n",
       "    }\n",
       "</style>\n",
       "<table border=\"1\" class=\"dataframe\">\n",
       "  <thead>\n",
       "    <tr style=\"text-align: right;\">\n",
       "      <th></th>\n",
       "      <th>product_id</th>\n",
       "      <th>product_name</th>\n",
       "      <th>aisle_id</th>\n",
       "      <th>department_id</th>\n",
       "      <th>price</th>\n",
       "    </tr>\n",
       "  </thead>\n",
       "  <tbody>\n",
       "    <tr>\n",
       "      <th>21554</th>\n",
       "      <td>21553</td>\n",
       "      <td>Lowfat 2% Milkfat Cottage Cheese</td>\n",
       "      <td>108</td>\n",
       "      <td>16</td>\n",
       "      <td>14900.0</td>\n",
       "    </tr>\n",
       "    <tr>\n",
       "      <th>33666</th>\n",
       "      <td>33664</td>\n",
       "      <td>2 % Reduced Fat  Milk</td>\n",
       "      <td>84</td>\n",
       "      <td>16</td>\n",
       "      <td>99999.0</td>\n",
       "    </tr>\n",
       "  </tbody>\n",
       "</table>\n",
       "</div>"
      ],
      "text/plain": [
       "       product_id                      product_name  aisle_id  department_id  \\\n",
       "21554       21553  Lowfat 2% Milkfat Cottage Cheese       108             16   \n",
       "33666       33664             2 % Reduced Fat  Milk        84             16   \n",
       "\n",
       "         price  \n",
       "21554  14900.0  \n",
       "33666  99999.0  "
      ]
     },
     "execution_count": 53,
     "metadata": {},
     "output_type": "execute_result"
    }
   ],
   "source": [
    "expensive_items"
   ]
  },
  {
   "cell_type": "markdown",
   "id": "50a94742",
   "metadata": {},
   "source": [
    "Let's see if we can find out the correct price for the cottage cheese.  Perhaps 1.49 or 14.90?"
   ]
  },
  {
   "cell_type": "code",
   "execution_count": 54,
   "id": "2eb272d1",
   "metadata": {},
   "outputs": [],
   "source": [
    "cottage_cheese = df[df['product_name'].str.contains('Cottage Cheese')]"
   ]
  },
  {
   "cell_type": "code",
   "execution_count": 55,
   "id": "f76e4e1a",
   "metadata": {},
   "outputs": [
    {
     "data": {
      "text/html": [
       "<div>\n",
       "<style scoped>\n",
       "    .dataframe tbody tr th:only-of-type {\n",
       "        vertical-align: middle;\n",
       "    }\n",
       "\n",
       "    .dataframe tbody tr th {\n",
       "        vertical-align: top;\n",
       "    }\n",
       "\n",
       "    .dataframe thead th {\n",
       "        text-align: right;\n",
       "    }\n",
       "</style>\n",
       "<table border=\"1\" class=\"dataframe\">\n",
       "  <thead>\n",
       "    <tr style=\"text-align: right;\">\n",
       "      <th></th>\n",
       "      <th>product_id</th>\n",
       "      <th>product_name</th>\n",
       "      <th>aisle_id</th>\n",
       "      <th>department_id</th>\n",
       "      <th>price</th>\n",
       "    </tr>\n",
       "  </thead>\n",
       "  <tbody>\n",
       "    <tr>\n",
       "      <th>194</th>\n",
       "      <td>195</td>\n",
       "      <td>Grade A Pasteurized 2% Milkfat Lowfat Cottage ...</td>\n",
       "      <td>108</td>\n",
       "      <td>16</td>\n",
       "      <td>3.3</td>\n",
       "    </tr>\n",
       "    <tr>\n",
       "      <th>1503</th>\n",
       "      <td>1503</td>\n",
       "      <td>Low Fat Cottage Cheese</td>\n",
       "      <td>108</td>\n",
       "      <td>16</td>\n",
       "      <td>6.7</td>\n",
       "    </tr>\n",
       "    <tr>\n",
       "      <th>2577</th>\n",
       "      <td>2577</td>\n",
       "      <td>2% Milk Fat Creamy Small Curd Cottage Cheese</td>\n",
       "      <td>100</td>\n",
       "      <td>21</td>\n",
       "      <td>6.5</td>\n",
       "    </tr>\n",
       "    <tr>\n",
       "      <th>2943</th>\n",
       "      <td>2943</td>\n",
       "      <td>Low Fat, Small Curd 1% Milkfat No Salt Added C...</td>\n",
       "      <td>108</td>\n",
       "      <td>16</td>\n",
       "      <td>2.2</td>\n",
       "    </tr>\n",
       "    <tr>\n",
       "      <th>3940</th>\n",
       "      <td>3940</td>\n",
       "      <td>Nonfat Cottage Cheese</td>\n",
       "      <td>108</td>\n",
       "      <td>16</td>\n",
       "      <td>3.3</td>\n",
       "    </tr>\n",
       "    <tr>\n",
       "      <th>...</th>\n",
       "      <td>...</td>\n",
       "      <td>...</td>\n",
       "      <td>...</td>\n",
       "      <td>...</td>\n",
       "      <td>...</td>\n",
       "    </tr>\n",
       "    <tr>\n",
       "      <th>46330</th>\n",
       "      <td>46326</td>\n",
       "      <td>Grade A Pasturized Lowfat Cottage Cheese</td>\n",
       "      <td>108</td>\n",
       "      <td>16</td>\n",
       "      <td>9.7</td>\n",
       "    </tr>\n",
       "    <tr>\n",
       "      <th>46791</th>\n",
       "      <td>46787</td>\n",
       "      <td>Fat Free Cottage Cheese</td>\n",
       "      <td>108</td>\n",
       "      <td>16</td>\n",
       "      <td>3.4</td>\n",
       "    </tr>\n",
       "    <tr>\n",
       "      <th>47109</th>\n",
       "      <td>47105</td>\n",
       "      <td>Organic Pineapple Cottage Cheese</td>\n",
       "      <td>100</td>\n",
       "      <td>21</td>\n",
       "      <td>12.6</td>\n",
       "    </tr>\n",
       "    <tr>\n",
       "      <th>47111</th>\n",
       "      <td>47107</td>\n",
       "      <td>4% Milkfat Small Curd Grade A Pasteurized Cott...</td>\n",
       "      <td>108</td>\n",
       "      <td>16</td>\n",
       "      <td>6.4</td>\n",
       "    </tr>\n",
       "    <tr>\n",
       "      <th>48263</th>\n",
       "      <td>48259</td>\n",
       "      <td>Non Fat Grade A Pasteurized Cottage Cheese</td>\n",
       "      <td>108</td>\n",
       "      <td>16</td>\n",
       "      <td>3.7</td>\n",
       "    </tr>\n",
       "  </tbody>\n",
       "</table>\n",
       "<p>71 rows × 5 columns</p>\n",
       "</div>"
      ],
      "text/plain": [
       "       product_id                                       product_name  \\\n",
       "194           195  Grade A Pasteurized 2% Milkfat Lowfat Cottage ...   \n",
       "1503         1503                             Low Fat Cottage Cheese   \n",
       "2577         2577       2% Milk Fat Creamy Small Curd Cottage Cheese   \n",
       "2943         2943  Low Fat, Small Curd 1% Milkfat No Salt Added C...   \n",
       "3940         3940                              Nonfat Cottage Cheese   \n",
       "...           ...                                                ...   \n",
       "46330       46326           Grade A Pasturized Lowfat Cottage Cheese   \n",
       "46791       46787                            Fat Free Cottage Cheese   \n",
       "47109       47105                   Organic Pineapple Cottage Cheese   \n",
       "47111       47107  4% Milkfat Small Curd Grade A Pasteurized Cott...   \n",
       "48263       48259         Non Fat Grade A Pasteurized Cottage Cheese   \n",
       "\n",
       "       aisle_id  department_id  price  \n",
       "194         108             16    3.3  \n",
       "1503        108             16    6.7  \n",
       "2577        100             21    6.5  \n",
       "2943        108             16    2.2  \n",
       "3940        108             16    3.3  \n",
       "...         ...            ...    ...  \n",
       "46330       108             16    9.7  \n",
       "46791       108             16    3.4  \n",
       "47109       100             21   12.6  \n",
       "47111       108             16    6.4  \n",
       "48263       108             16    3.7  \n",
       "\n",
       "[71 rows x 5 columns]"
      ]
     },
     "execution_count": 55,
     "metadata": {},
     "output_type": "execute_result"
    }
   ],
   "source": [
    "cottage_cheese"
   ]
  },
  {
   "cell_type": "markdown",
   "id": "c5c3bf9c",
   "metadata": {},
   "source": [
    "It's unclear what the correct price would be for either product, so, per customer's wishes (a.k.a. CareerFoundry instructions), outlying prices will be rewritten as null values (NaN)"
   ]
  },
  {
   "cell_type": "code",
   "execution_count": 56,
   "id": "f23b023d",
   "metadata": {},
   "outputs": [],
   "source": [
    "# Rewriting outlying prices (>100) as null values (NaN)\n",
    "df.loc[df['price'] >100, 'price'] = np.nan"
   ]
  },
  {
   "cell_type": "code",
   "execution_count": 57,
   "id": "194e2113",
   "metadata": {},
   "outputs": [
    {
     "data": {
      "text/plain": [
       "2"
      ]
     },
     "execution_count": 57,
     "metadata": {},
     "output_type": "execute_result"
    }
   ],
   "source": [
    "# Checking that there are now only two null prices.\n",
    "df['price'].isnull().sum()"
   ]
  },
  {
   "cell_type": "code",
   "execution_count": 58,
   "id": "66ec6cba",
   "metadata": {},
   "outputs": [
    {
     "data": {
      "text/plain": [
       "count    49666.000000\n",
       "mean         7.680408\n",
       "std          4.199336\n",
       "min          1.000000\n",
       "25%          4.100000\n",
       "50%          7.100000\n",
       "75%         11.100000\n",
       "max         25.000000\n",
       "Name: price, dtype: float64"
      ]
     },
     "execution_count": 58,
     "metadata": {},
     "output_type": "execute_result"
    }
   ],
   "source": [
    "df['price'].describe()"
   ]
  },
  {
   "cell_type": "markdown",
   "id": "896fd1a2",
   "metadata": {},
   "source": [
    "The price column now ranges between 1 and 25 (which is much more reasonable for a maximum for a grocery item).  "
   ]
  },
  {
   "cell_type": "markdown",
   "id": "b435ea98",
   "metadata": {},
   "source": [
    "### 0.7 Export clean df"
   ]
  },
  {
   "cell_type": "code",
   "execution_count": 59,
   "id": "e04ed335",
   "metadata": {
    "scrolled": true
   },
   "outputs": [
    {
     "data": {
      "text/plain": [
       "(49668, 5)"
      ]
     },
     "execution_count": 59,
     "metadata": {},
     "output_type": "execute_result"
    }
   ],
   "source": [
    "# Confirming final shape and datetypes\n",
    "df.shape"
   ]
  },
  {
   "cell_type": "code",
   "execution_count": 60,
   "id": "e729fef7",
   "metadata": {},
   "outputs": [
    {
     "name": "stdout",
     "output_type": "stream",
     "text": [
      "<class 'pandas.core.frame.DataFrame'>\n",
      "Int64Index: 49668 entries, 0 to 49692\n",
      "Data columns (total 5 columns):\n",
      " #   Column         Non-Null Count  Dtype  \n",
      "---  ------         --------------  -----  \n",
      " 0   product_id     49668 non-null  int32  \n",
      " 1   product_name   49668 non-null  object \n",
      " 2   aisle_id       49668 non-null  int16  \n",
      " 3   department_id  49668 non-null  int16  \n",
      " 4   price          49666 non-null  float32\n",
      "dtypes: float32(1), int16(2), int32(1), object(1)\n",
      "memory usage: 1.3+ MB\n"
     ]
    }
   ],
   "source": [
    "df.info()"
   ]
  },
  {
   "cell_type": "code",
   "execution_count": 61,
   "id": "8cda91ca",
   "metadata": {
    "scrolled": true
   },
   "outputs": [],
   "source": [
    "# Export df as customers_clean\n",
    "df.to_pickle(os.path.join(path, '02 Data','Prepared Data', 'products_clean.pkl'))"
   ]
  },
  {
   "cell_type": "code",
   "execution_count": null,
   "id": "455d7926",
   "metadata": {},
   "outputs": [],
   "source": []
  }
 ],
 "metadata": {
  "kernelspec": {
   "display_name": "Python 3 (ipykernel)",
   "language": "python",
   "name": "python3"
  },
  "language_info": {
   "codemirror_mode": {
    "name": "ipython",
    "version": 3
   },
   "file_extension": ".py",
   "mimetype": "text/x-python",
   "name": "python",
   "nbconvert_exporter": "python",
   "pygments_lexer": "ipython3",
   "version": "3.9.13"
  }
 },
 "nbformat": 4,
 "nbformat_minor": 5
}
