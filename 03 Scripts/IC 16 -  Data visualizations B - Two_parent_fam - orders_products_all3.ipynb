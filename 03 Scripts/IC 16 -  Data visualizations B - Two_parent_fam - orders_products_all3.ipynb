{
 "cells": [
  {
   "cell_type": "markdown",
   "id": "2ee5e59a",
   "metadata": {},
   "source": [
    "# Table of Contents"
   ]
  },
  {
   "cell_type": "markdown",
   "id": "f207c862",
   "metadata": {},
   "source": [
    "0.1 Importing Libraries\n",
    "\n",
    "0.2 Importing Data\n",
    "\n",
    "0.3 Exploring Original Df\n",
    "\n",
    "0.4 Defining styles and labels formats\n",
    "\n",
    "0.5 Random sampling of 30% of data\n",
    "\n",
    "0.6 Exploration of senior_citizen profile\n",
    "\n",
    "    0.6.1 importance of this profile\n",
    "            A. count of users\n",
    "            B. gross sales (total_spent_in_lifetime)\n",
    "            C. total items (total_items_in_lifetime)\n",
    "            D. per order stats\n",
    "    \n",
    "    0.6.2. demographics of this profile\n",
    "            A. income\n",
    "            B. income_group\n",
    "            C. gender\n",
    "            D. region\n",
    "            E. fam_status\n",
    "            F. n_dependants\n",
    "            G. pet_owner\n",
    "    \n",
    "    0.6.2  what we know about their shopping habits\n",
    "            A. loyalty_flag (based on max_order)\n",
    "            B. low_activity_flag\n",
    "            C. spender_type (based on mean_spending)\n",
    "            D. frequent_shopper (based on median_days_since_ordering)\n",
    "            E. day_of_the_week\n",
    "            F. time_of_day\n",
    "            G. most popular departments by number of items\n",
    "            H. most popular departments by amount spent\n",
    "   \n"
   ]
  },
  {
   "cell_type": "markdown",
   "id": "cc8dcbd1",
   "metadata": {},
   "source": [
    "### 0.1 Importing Libraries"
   ]
  },
  {
   "cell_type": "code",
   "execution_count": 1,
   "id": "9709810d",
   "metadata": {},
   "outputs": [],
   "source": [
    "# Import libraries\n",
    "import pandas as pd\n",
    "import numpy as np\n",
    "import os\n",
    "import matplotlib.pyplot as plt\n",
    "import seaborn as sns\n",
    "import scipy"
   ]
  },
  {
   "cell_type": "markdown",
   "id": "b5b185b2",
   "metadata": {},
   "source": [
    "### 0.2 Importing Data"
   ]
  },
  {
   "cell_type": "code",
   "execution_count": 2,
   "id": "6e7f5881",
   "metadata": {},
   "outputs": [],
   "source": [
    "# Identify the file pathway to data files\n",
    "path = r'C:\\Users\\CJ\\Documents\\_CJ-Stuff\\Career Foundry\\Data Immersion\\Ach 4 - Python\\2023-03 Instacart Basket Analysis'"
   ]
  },
  {
   "cell_type": "code",
   "execution_count": 3,
   "id": "f8ca6a0b",
   "metadata": {
    "scrolled": true
   },
   "outputs": [],
   "source": [
    "# Import data from 'orders_products_all3.pkl'\n",
    "df = pd.read_pickle(os.path.join(path, '02 Data', 'Prepared Data', 'orders_products_all3.pkl'))"
   ]
  },
  {
   "cell_type": "code",
   "execution_count": 4,
   "id": "ba7a76fc",
   "metadata": {},
   "outputs": [],
   "source": [
    "# Import data from 'dept_data.pkl'\n",
    "dept_data = pd.read_pickle(os.path.join(path, '02 Data', 'Prepared Data', 'department_data.pkl'))"
   ]
  },
  {
   "cell_type": "markdown",
   "id": "636854e9",
   "metadata": {},
   "source": [
    "### 0.3 Exploring Original dfs"
   ]
  },
  {
   "cell_type": "code",
   "execution_count": 5,
   "id": "41f99131",
   "metadata": {
    "scrolled": true
   },
   "outputs": [
    {
     "data": {
      "text/plain": [
       "(32434489, 45)"
      ]
     },
     "execution_count": 5,
     "metadata": {},
     "output_type": "execute_result"
    }
   ],
   "source": [
    "df.shape"
   ]
  },
  {
   "cell_type": "code",
   "execution_count": 6,
   "id": "f0f5df72",
   "metadata": {
    "scrolled": true
   },
   "outputs": [
    {
     "name": "stdout",
     "output_type": "stream",
     "text": [
      "<class 'pandas.core.frame.DataFrame'>\n",
      "Int64Index: 32434489 entries, 0 to 32434488\n",
      "Data columns (total 45 columns):\n",
      " #   Column                       Dtype         \n",
      "---  ------                       -----         \n",
      " 0   order_id                     int64         \n",
      " 1   user_id                      int64         \n",
      " 2   order_number                 int16         \n",
      " 3   order_day_of_week            int8          \n",
      " 4   order_hour_of_day            int8          \n",
      " 5   days_since_prior_order       float16       \n",
      " 6   first_order_of_new_customer  bool          \n",
      " 7   product_id                   int32         \n",
      " 8   add_to_cart_order            int16         \n",
      " 9   reordered                    int8          \n",
      " 10  product_name                 object        \n",
      " 11  aisle_id                     float16       \n",
      " 12  department_id                float16       \n",
      " 13  price                        float32       \n",
      " 14  product_info_available       bool          \n",
      " 15  price_available              bool          \n",
      " 16  price_range                  category      \n",
      " 17  busiest_day                  category      \n",
      " 18  busiest_days                 category      \n",
      " 19  busiest_period_of_day        category      \n",
      " 20  max_order                    int16         \n",
      " 21  loyalty_flag                 category      \n",
      " 22  mean_spending                float32       \n",
      " 23  spender_type                 category      \n",
      " 24  median_days_since_ordering   float16       \n",
      " 25  frequent_shopper             category      \n",
      " 26  gender                       category      \n",
      " 27  state                        category      \n",
      " 28  age                          int16         \n",
      " 29  date_joined                  datetime64[ns]\n",
      " 30  n_dependants                 int8          \n",
      " 31  fam_status                   category      \n",
      " 32  income                       int64         \n",
      " 33  region                       category      \n",
      " 34  low_activity_flag            bool          \n",
      " 35  total_spent_in_order         float32       \n",
      " 36  total_spent_in_lifetime      float32       \n",
      " 37  total_items_in_lifetime      int32         \n",
      " 38  avg_items_per_order_by_user  float16       \n",
      " 39  baby_parent                  bool          \n",
      " 40  pet_owner                    bool          \n",
      " 41  income_group                 category      \n",
      " 42  senior_citizen               bool          \n",
      " 43  two_parent_fam               bool          \n",
      " 44  single_parent                bool          \n",
      "dtypes: bool(9), category(12), datetime64[ns](1), float16(5), float32(4), int16(4), int32(2), int64(3), int8(4), object(1)\n",
      "memory usage: 3.5+ GB\n"
     ]
    }
   ],
   "source": [
    "df.info()"
   ]
  },
  {
   "cell_type": "code",
   "execution_count": 7,
   "id": "47ad4aa0",
   "metadata": {
    "scrolled": true
   },
   "outputs": [
    {
     "data": {
      "text/html": [
       "<div>\n",
       "<style scoped>\n",
       "    .dataframe tbody tr th:only-of-type {\n",
       "        vertical-align: middle;\n",
       "    }\n",
       "\n",
       "    .dataframe tbody tr th {\n",
       "        vertical-align: top;\n",
       "    }\n",
       "\n",
       "    .dataframe thead th {\n",
       "        text-align: right;\n",
       "    }\n",
       "</style>\n",
       "<table border=\"1\" class=\"dataframe\">\n",
       "  <thead>\n",
       "    <tr style=\"text-align: right;\">\n",
       "      <th></th>\n",
       "      <th>order_id</th>\n",
       "      <th>user_id</th>\n",
       "      <th>order_number</th>\n",
       "      <th>order_day_of_week</th>\n",
       "      <th>order_hour_of_day</th>\n",
       "      <th>days_since_prior_order</th>\n",
       "      <th>first_order_of_new_customer</th>\n",
       "      <th>product_id</th>\n",
       "      <th>add_to_cart_order</th>\n",
       "      <th>reordered</th>\n",
       "      <th>...</th>\n",
       "      <th>total_spent_in_order</th>\n",
       "      <th>total_spent_in_lifetime</th>\n",
       "      <th>total_items_in_lifetime</th>\n",
       "      <th>avg_items_per_order_by_user</th>\n",
       "      <th>baby_parent</th>\n",
       "      <th>pet_owner</th>\n",
       "      <th>income_group</th>\n",
       "      <th>senior_citizen</th>\n",
       "      <th>two_parent_fam</th>\n",
       "      <th>single_parent</th>\n",
       "    </tr>\n",
       "  </thead>\n",
       "  <tbody>\n",
       "    <tr>\n",
       "      <th>0</th>\n",
       "      <td>2539329</td>\n",
       "      <td>1</td>\n",
       "      <td>1</td>\n",
       "      <td>2</td>\n",
       "      <td>8</td>\n",
       "      <td>NaN</td>\n",
       "      <td>True</td>\n",
       "      <td>196</td>\n",
       "      <td>1</td>\n",
       "      <td>0</td>\n",
       "      <td>...</td>\n",
       "      <td>31.6</td>\n",
       "      <td>375.700012</td>\n",
       "      <td>59</td>\n",
       "      <td>5.898438</td>\n",
       "      <td>False</td>\n",
       "      <td>False</td>\n",
       "      <td>Low income</td>\n",
       "      <td>False</td>\n",
       "      <td>True</td>\n",
       "      <td>False</td>\n",
       "    </tr>\n",
       "    <tr>\n",
       "      <th>1</th>\n",
       "      <td>2539329</td>\n",
       "      <td>1</td>\n",
       "      <td>1</td>\n",
       "      <td>2</td>\n",
       "      <td>8</td>\n",
       "      <td>NaN</td>\n",
       "      <td>True</td>\n",
       "      <td>14084</td>\n",
       "      <td>2</td>\n",
       "      <td>0</td>\n",
       "      <td>...</td>\n",
       "      <td>31.6</td>\n",
       "      <td>375.700012</td>\n",
       "      <td>59</td>\n",
       "      <td>5.898438</td>\n",
       "      <td>False</td>\n",
       "      <td>False</td>\n",
       "      <td>Low income</td>\n",
       "      <td>False</td>\n",
       "      <td>True</td>\n",
       "      <td>False</td>\n",
       "    </tr>\n",
       "    <tr>\n",
       "      <th>2</th>\n",
       "      <td>2539329</td>\n",
       "      <td>1</td>\n",
       "      <td>1</td>\n",
       "      <td>2</td>\n",
       "      <td>8</td>\n",
       "      <td>NaN</td>\n",
       "      <td>True</td>\n",
       "      <td>12427</td>\n",
       "      <td>3</td>\n",
       "      <td>0</td>\n",
       "      <td>...</td>\n",
       "      <td>31.6</td>\n",
       "      <td>375.700012</td>\n",
       "      <td>59</td>\n",
       "      <td>5.898438</td>\n",
       "      <td>False</td>\n",
       "      <td>False</td>\n",
       "      <td>Low income</td>\n",
       "      <td>False</td>\n",
       "      <td>True</td>\n",
       "      <td>False</td>\n",
       "    </tr>\n",
       "    <tr>\n",
       "      <th>3</th>\n",
       "      <td>2539329</td>\n",
       "      <td>1</td>\n",
       "      <td>1</td>\n",
       "      <td>2</td>\n",
       "      <td>8</td>\n",
       "      <td>NaN</td>\n",
       "      <td>True</td>\n",
       "      <td>26088</td>\n",
       "      <td>4</td>\n",
       "      <td>0</td>\n",
       "      <td>...</td>\n",
       "      <td>31.6</td>\n",
       "      <td>375.700012</td>\n",
       "      <td>59</td>\n",
       "      <td>5.898438</td>\n",
       "      <td>False</td>\n",
       "      <td>False</td>\n",
       "      <td>Low income</td>\n",
       "      <td>False</td>\n",
       "      <td>True</td>\n",
       "      <td>False</td>\n",
       "    </tr>\n",
       "    <tr>\n",
       "      <th>4</th>\n",
       "      <td>2539329</td>\n",
       "      <td>1</td>\n",
       "      <td>1</td>\n",
       "      <td>2</td>\n",
       "      <td>8</td>\n",
       "      <td>NaN</td>\n",
       "      <td>True</td>\n",
       "      <td>26405</td>\n",
       "      <td>5</td>\n",
       "      <td>0</td>\n",
       "      <td>...</td>\n",
       "      <td>31.6</td>\n",
       "      <td>375.700012</td>\n",
       "      <td>59</td>\n",
       "      <td>5.898438</td>\n",
       "      <td>False</td>\n",
       "      <td>False</td>\n",
       "      <td>Low income</td>\n",
       "      <td>False</td>\n",
       "      <td>True</td>\n",
       "      <td>False</td>\n",
       "    </tr>\n",
       "  </tbody>\n",
       "</table>\n",
       "<p>5 rows × 45 columns</p>\n",
       "</div>"
      ],
      "text/plain": [
       "   order_id  user_id  order_number  order_day_of_week  order_hour_of_day  \\\n",
       "0   2539329        1             1                  2                  8   \n",
       "1   2539329        1             1                  2                  8   \n",
       "2   2539329        1             1                  2                  8   \n",
       "3   2539329        1             1                  2                  8   \n",
       "4   2539329        1             1                  2                  8   \n",
       "\n",
       "   days_since_prior_order  first_order_of_new_customer  product_id  \\\n",
       "0                     NaN                         True         196   \n",
       "1                     NaN                         True       14084   \n",
       "2                     NaN                         True       12427   \n",
       "3                     NaN                         True       26088   \n",
       "4                     NaN                         True       26405   \n",
       "\n",
       "   add_to_cart_order  reordered  ... total_spent_in_order  \\\n",
       "0                  1          0  ...                 31.6   \n",
       "1                  2          0  ...                 31.6   \n",
       "2                  3          0  ...                 31.6   \n",
       "3                  4          0  ...                 31.6   \n",
       "4                  5          0  ...                 31.6   \n",
       "\n",
       "   total_spent_in_lifetime  total_items_in_lifetime  \\\n",
       "0               375.700012                       59   \n",
       "1               375.700012                       59   \n",
       "2               375.700012                       59   \n",
       "3               375.700012                       59   \n",
       "4               375.700012                       59   \n",
       "\n",
       "   avg_items_per_order_by_user  baby_parent  pet_owner income_group  \\\n",
       "0                     5.898438        False      False   Low income   \n",
       "1                     5.898438        False      False   Low income   \n",
       "2                     5.898438        False      False   Low income   \n",
       "3                     5.898438        False      False   Low income   \n",
       "4                     5.898438        False      False   Low income   \n",
       "\n",
       "  senior_citizen two_parent_fam single_parent  \n",
       "0          False           True         False  \n",
       "1          False           True         False  \n",
       "2          False           True         False  \n",
       "3          False           True         False  \n",
       "4          False           True         False  \n",
       "\n",
       "[5 rows x 45 columns]"
      ]
     },
     "execution_count": 7,
     "metadata": {},
     "output_type": "execute_result"
    }
   ],
   "source": [
    "df.head()"
   ]
  },
  {
   "cell_type": "code",
   "execution_count": null,
   "id": "7407f1b2",
   "metadata": {
    "scrolled": true
   },
   "outputs": [],
   "source": [
    "df.isnull().sum()"
   ]
  },
  {
   "cell_type": "markdown",
   "id": "860620e3",
   "metadata": {},
   "source": [
    "All nulls have been previously accounted for and labeled appropriately with flags."
   ]
  },
  {
   "cell_type": "code",
   "execution_count": null,
   "id": "65046bf7",
   "metadata": {},
   "outputs": [],
   "source": [
    "dept_data.shape"
   ]
  },
  {
   "cell_type": "code",
   "execution_count": null,
   "id": "8d776319",
   "metadata": {},
   "outputs": [],
   "source": [
    "dept_data.info()"
   ]
  },
  {
   "cell_type": "code",
   "execution_count": null,
   "id": "1d67f1f0",
   "metadata": {},
   "outputs": [],
   "source": [
    "dept_data.head()"
   ]
  },
  {
   "cell_type": "code",
   "execution_count": null,
   "id": "dab5037e",
   "metadata": {},
   "outputs": [],
   "source": [
    "dept_data.isnull().sum()"
   ]
  },
  {
   "cell_type": "markdown",
   "id": "0745ec2e",
   "metadata": {},
   "source": [
    "### 0.4 Defining styles and label formats"
   ]
  },
  {
   "cell_type": "code",
   "execution_count": null,
   "id": "5ed5dad9",
   "metadata": {},
   "outputs": [],
   "source": [
    "# Creating a consistent style for titles and axis labels\n",
    "font_title = {'family':'serif','color':'forestgreen','size':20}\n",
    "font_sm_title = {'family':'serif','color':'forestgreen','size':16}\n",
    "font_label = {'family': 'serif', 'color' :'forestgreen', 'size':15}\n",
    "font_sm_label = {'family': 'serif', 'color' :'forestgreen', 'size':13}"
   ]
  },
  {
   "cell_type": "code",
   "execution_count": null,
   "id": "06056cd6",
   "metadata": {},
   "outputs": [],
   "source": [
    "# Identifying the days of the week that go with the code in the df\n",
    "# 0 = Sat, 1 = Sun, etc.\n",
    "dow = ('Sat', 'Sun', 'Mon', 'Tues', 'Weds', 'Thurs', 'Fri')\n",
    "dow_xticks = np.arange(len(dow))"
   ]
  },
  {
   "cell_type": "code",
   "execution_count": null,
   "id": "79d19b65",
   "metadata": {},
   "outputs": [],
   "source": [
    "# Identifying the hours of the day that go with the code in the df\n",
    "# 0 = 12 a.m., 1 = 1 a.m.... 13 = 1 p.m., etc.\n",
    "hod = ('Midnight','1 a.m.', '2 a.m.', '3 a.m.', '4 a.m.', '5 a.m.', \n",
    "       '6 a.m.', '7 a.m.', '8 a.m.', '9 a.m.', '10 a.m.', '11 a.m.', \n",
    "       'Noon', '1 p.m.', '2 p.m.', '3 p.m.', '4 p.m.', '5 p.m.', \n",
    "       '6 p.m.', '7 p.m.', '8 p.m.', '9 p.m.', '10 p.m.', '11 p.m.')\n",
    "hod_xticks = np.arange(len(hod))"
   ]
  },
  {
   "cell_type": "code",
   "execution_count": null,
   "id": "9fb096dc",
   "metadata": {},
   "outputs": [],
   "source": [
    "# Turning off the scientific notation\n",
    "pd.set_option('display.float_format', lambda x: f'{x:,.2f}')"
   ]
  },
  {
   "cell_type": "code",
   "execution_count": null,
   "id": "0d2e7f49",
   "metadata": {},
   "outputs": [],
   "source": [
    "# Define colors dark grey and forest green for plots\n",
    "# colors = ['A9A9A9', '228B22']"
   ]
  },
  {
   "cell_type": "code",
   "execution_count": null,
   "id": "03153a59",
   "metadata": {},
   "outputs": [],
   "source": [
    "# Identifying which profile we are investigating\n",
    "profile = 'two_parent_fam'\n",
    "profile_label = 'Two Parent Families'\n",
    "not_profile_label = 'Other Users'\n",
    "labels = ['Two Parent Families', 'Other Users']\n",
    "labels_r = ['Other Users', 'Two Parent Families']"
   ]
  },
  {
   "cell_type": "code",
   "execution_count": null,
   "id": "1fa74ded",
   "metadata": {},
   "outputs": [],
   "source": []
  },
  {
   "cell_type": "markdown",
   "id": "60150f1c",
   "metadata": {},
   "source": [
    "### 0.5 Creating a subset df with each row = 1 user and profile flag"
   ]
  },
  {
   "cell_type": "code",
   "execution_count": null,
   "id": "03827c6b",
   "metadata": {},
   "outputs": [],
   "source": [
    "# Create a temporary df to use for visualizations that should be per user\n",
    "# rather than per item ordered\n",
    "df_user_subset = pd.DataFrame()"
   ]
  },
  {
   "cell_type": "code",
   "execution_count": null,
   "id": "f5edb1f1",
   "metadata": {},
   "outputs": [],
   "source": [
    "df_user_subset = df[['user_id', 'loyalty_flag', 'spender_type', 'frequent_shopper', 'gender', 'age', 'n_dependants', 'fam_status', 'income', 'income_group', 'region', 'low_activity_flag', 'total_spent_in_lifetime', 'total_items_in_lifetime', 'avg_items_per_order_by_user', 'baby_parent', 'pet_owner', 'senior_citizen', 'two_parent_fam', 'single_parent']]"
   ]
  },
  {
   "cell_type": "code",
   "execution_count": null,
   "id": "0ffd4594",
   "metadata": {},
   "outputs": [],
   "source": [
    "df_user_subset.head()"
   ]
  },
  {
   "cell_type": "code",
   "execution_count": null,
   "id": "55f9ecbb",
   "metadata": {},
   "outputs": [],
   "source": [
    "df_user_subset.shape"
   ]
  },
  {
   "cell_type": "markdown",
   "id": "0638d55d",
   "metadata": {},
   "source": [
    "This has the same number of rows as the original df and only the 20 subsetted columns."
   ]
  },
  {
   "cell_type": "code",
   "execution_count": null,
   "id": "e64e433e",
   "metadata": {},
   "outputs": [],
   "source": [
    "# Remove duplicate rows\n",
    "df_user_subset = df_user_subset.drop_duplicates()"
   ]
  },
  {
   "cell_type": "code",
   "execution_count": null,
   "id": "533681df",
   "metadata": {},
   "outputs": [],
   "source": [
    "# Checking new shape\n",
    "df_user_subset.shape"
   ]
  },
  {
   "cell_type": "code",
   "execution_count": null,
   "id": "5ec003f1",
   "metadata": {
    "scrolled": true
   },
   "outputs": [],
   "source": [
    "df_user_subset.head()"
   ]
  },
  {
   "cell_type": "markdown",
   "id": "07b6504a",
   "metadata": {},
   "source": [
    "Now we have a dataframe that reflects the users specifically."
   ]
  },
  {
   "cell_type": "code",
   "execution_count": null,
   "id": "d832885d",
   "metadata": {},
   "outputs": [],
   "source": [
    "df_user_subset.loc[df_user_subset[profile] == True, 'profile_flag'] = profile_label\n",
    "df_user_subset.loc[df_user_subset[profile] == False, 'profile_flag'] = not_profile_label\n",
    "    "
   ]
  },
  {
   "cell_type": "code",
   "execution_count": null,
   "id": "100076d9",
   "metadata": {},
   "outputs": [],
   "source": [
    "df_user_subset.head()"
   ]
  },
  {
   "cell_type": "code",
   "execution_count": null,
   "id": "e22a79aa",
   "metadata": {},
   "outputs": [],
   "source": []
  },
  {
   "cell_type": "markdown",
   "id": "f0f2c672",
   "metadata": {},
   "source": [
    "## 0.6. Exploration of two_parent_fam profile"
   ]
  },
  {
   "cell_type": "markdown",
   "id": "94c82bce",
   "metadata": {},
   "source": [
    "### 0.6.1 importance of this profile"
   ]
  },
  {
   "cell_type": "markdown",
   "id": "a4941d00",
   "metadata": {},
   "source": [
    "#### 0.6.1.A  count of users"
   ]
  },
  {
   "cell_type": "code",
   "execution_count": 28,
   "id": "b5294662",
   "metadata": {},
   "outputs": [],
   "source": [
    "# Create a temporary df to hold the count of the profile\n",
    "num_profile = df_user_subset['profile_flag'].value_counts()"
   ]
  },
  {
   "cell_type": "code",
   "execution_count": 29,
   "id": "146efd8b",
   "metadata": {},
   "outputs": [
    {
     "data": {
      "text/plain": [
       "Two Parent Families    144906\n",
       "Other Users             61303\n",
       "Name: profile_flag, dtype: int64"
      ]
     },
     "execution_count": 29,
     "metadata": {},
     "output_type": "execute_result"
    }
   ],
   "source": [
    "num_profile"
   ]
  },
  {
   "cell_type": "markdown",
   "id": "ab2602c1",
   "metadata": {},
   "source": [
    "Roughly 70.3% of our customer base are senior citizens.  This is almost three quarters.  (144,906/206,209=0.2654) "
   ]
  },
  {
   "cell_type": "code",
   "execution_count": 30,
   "id": "345ef5b2",
   "metadata": {},
   "outputs": [],
   "source": [
    "# Reset the index so that the correct column headers will appear\n",
    "num_profile = pd.DataFrame(num_profile).reset_index()"
   ]
  },
  {
   "cell_type": "code",
   "execution_count": 31,
   "id": "11b3ed84",
   "metadata": {},
   "outputs": [
    {
     "data": {
      "text/html": [
       "<div>\n",
       "<style scoped>\n",
       "    .dataframe tbody tr th:only-of-type {\n",
       "        vertical-align: middle;\n",
       "    }\n",
       "\n",
       "    .dataframe tbody tr th {\n",
       "        vertical-align: top;\n",
       "    }\n",
       "\n",
       "    .dataframe thead th {\n",
       "        text-align: right;\n",
       "    }\n",
       "</style>\n",
       "<table border=\"1\" class=\"dataframe\">\n",
       "  <thead>\n",
       "    <tr style=\"text-align: right;\">\n",
       "      <th></th>\n",
       "      <th>index</th>\n",
       "      <th>profile_flag</th>\n",
       "    </tr>\n",
       "  </thead>\n",
       "  <tbody>\n",
       "    <tr>\n",
       "      <th>0</th>\n",
       "      <td>Two Parent Families</td>\n",
       "      <td>144906</td>\n",
       "    </tr>\n",
       "    <tr>\n",
       "      <th>1</th>\n",
       "      <td>Other Users</td>\n",
       "      <td>61303</td>\n",
       "    </tr>\n",
       "  </tbody>\n",
       "</table>\n",
       "</div>"
      ],
      "text/plain": [
       "                 index  profile_flag\n",
       "0  Two Parent Families        144906\n",
       "1          Other Users         61303"
      ]
     },
     "execution_count": 31,
     "metadata": {},
     "output_type": "execute_result"
    }
   ],
   "source": [
    "num_profile"
   ]
  },
  {
   "cell_type": "code",
   "execution_count": 32,
   "id": "442c91f5",
   "metadata": {},
   "outputs": [
    {
     "data": {
      "text/html": [
       "<div>\n",
       "<style scoped>\n",
       "    .dataframe tbody tr th:only-of-type {\n",
       "        vertical-align: middle;\n",
       "    }\n",
       "\n",
       "    .dataframe tbody tr th {\n",
       "        vertical-align: top;\n",
       "    }\n",
       "\n",
       "    .dataframe thead th {\n",
       "        text-align: right;\n",
       "    }\n",
       "</style>\n",
       "<table border=\"1\" class=\"dataframe\">\n",
       "  <thead>\n",
       "    <tr style=\"text-align: right;\">\n",
       "      <th></th>\n",
       "      <th>profile_flag</th>\n",
       "    </tr>\n",
       "    <tr>\n",
       "      <th>index</th>\n",
       "      <th></th>\n",
       "    </tr>\n",
       "  </thead>\n",
       "  <tbody>\n",
       "    <tr>\n",
       "      <th>Two Parent Families</th>\n",
       "      <td>144906</td>\n",
       "    </tr>\n",
       "    <tr>\n",
       "      <th>Other Users</th>\n",
       "      <td>61303</td>\n",
       "    </tr>\n",
       "  </tbody>\n",
       "</table>\n",
       "</div>"
      ],
      "text/plain": [
       "                     profile_flag\n",
       "index                            \n",
       "Two Parent Families        144906\n",
       "Other Users                 61303"
      ]
     },
     "execution_count": 32,
     "metadata": {},
     "output_type": "execute_result"
    }
   ],
   "source": [
    "# Set the index to be the boolean column with a header of 'index'\n",
    "num_profile.set_index('index')"
   ]
  },
  {
   "cell_type": "code",
   "execution_count": 33,
   "id": "75922270",
   "metadata": {},
   "outputs": [
    {
     "data": {
      "text/plain": [
       "Text(0.5, 1.0, '70% of our households are two-parent families.')"
      ]
     },
     "execution_count": 33,
     "metadata": {},
     "output_type": "execute_result"
    },
    {
     "data": {
      "image/png": "[encoded data removed]",
      "text/plain": [
       "<Figure size 700x500 with 1 Axes>"
      ]
     },
     "metadata": {},
     "output_type": "display_data"
    }
   ],
   "source": [
    "plot = num_profile.plot.pie(y='profile_flag', \n",
    "                            figsize=(7,5), \n",
    "                            counterclock=True, \n",
    "                            colormap='Accent', \n",
    "                            legend=False, \n",
    "                            labels = labels, \n",
    "                            autopct='%1.1f%%')\n",
    "plt.ylabel('')\n",
    "\n",
    "plt.title (\"70% of our households are two-parent families.\", \n",
    "           fontdict = font_title)\n"
   ]
  },
  {
   "cell_type": "code",
   "execution_count": 34,
   "id": "f264f251",
   "metadata": {},
   "outputs": [],
   "source": [
    "# Create filename for export\n",
    "filename = profile+'_pie.png'"
   ]
  },
  {
   "cell_type": "code",
   "execution_count": 35,
   "id": "1670b3b1",
   "metadata": {},
   "outputs": [
    {
     "data": {
      "text/plain": [
       "'two_parent_fam_pie.png'"
      ]
     },
     "execution_count": 35,
     "metadata": {},
     "output_type": "execute_result"
    }
   ],
   "source": [
    "filename"
   ]
  },
  {
   "cell_type": "code",
   "execution_count": 36,
   "id": "22af3518",
   "metadata": {},
   "outputs": [],
   "source": [
    "# Exporting bar chart\n",
    "plot.figure.savefig(os.path.join(path, '04 Analysis','Visualizations', filename))"
   ]
  },
  {
   "cell_type": "code",
   "execution_count": 37,
   "id": "61eff59f",
   "metadata": {},
   "outputs": [],
   "source": [
    "# Reclaiming space\n",
    "del num_profile"
   ]
  },
  {
   "cell_type": "markdown",
   "id": "5820fb9c",
   "metadata": {},
   "source": [
    "#### 0.6.1.B  gross sales (total_spent_in_lifetime)"
   ]
  },
  {
   "cell_type": "code",
   "execution_count": 38,
   "id": "5ed6aaea",
   "metadata": {},
   "outputs": [],
   "source": [
    "# Calculate the gross sales for those in the profile and out of it\n",
    "gross_sales_profile = df_user_subset.groupby('profile_flag').total_spent_in_lifetime.sum()"
   ]
  },
  {
   "cell_type": "code",
   "execution_count": 39,
   "id": "a2a7671f",
   "metadata": {
    "scrolled": true
   },
   "outputs": [
    {
     "data": {
      "text/plain": [
       "profile_flag\n",
       "Other Users            75,162,232.00\n",
       "Two Parent Families   177,256,144.00\n",
       "Name: total_spent_in_lifetime, dtype: float32"
      ]
     },
     "execution_count": 39,
     "metadata": {},
     "output_type": "execute_result"
    }
   ],
   "source": [
    "gross_sales_profile"
   ]
  },
  {
   "cell_type": "markdown",
   "id": "cbe2f8ad",
   "metadata": {},
   "source": [
    "Seniors account for roughly 26.5% of gross sales."
   ]
  },
  {
   "cell_type": "code",
   "execution_count": 40,
   "id": "e93c8a6a",
   "metadata": {},
   "outputs": [],
   "source": [
    "# Reset the index so that the correct column headers will appear\n",
    "gross_sales_profile = pd.DataFrame(gross_sales_profile).reset_index()"
   ]
  },
  {
   "cell_type": "code",
   "execution_count": 41,
   "id": "725fe8f1",
   "metadata": {
    "scrolled": true
   },
   "outputs": [
    {
     "data": {
      "text/html": [
       "<div>\n",
       "<style scoped>\n",
       "    .dataframe tbody tr th:only-of-type {\n",
       "        vertical-align: middle;\n",
       "    }\n",
       "\n",
       "    .dataframe tbody tr th {\n",
       "        vertical-align: top;\n",
       "    }\n",
       "\n",
       "    .dataframe thead th {\n",
       "        text-align: right;\n",
       "    }\n",
       "</style>\n",
       "<table border=\"1\" class=\"dataframe\">\n",
       "  <thead>\n",
       "    <tr style=\"text-align: right;\">\n",
       "      <th></th>\n",
       "      <th>profile_flag</th>\n",
       "      <th>total_spent_in_lifetime</th>\n",
       "    </tr>\n",
       "  </thead>\n",
       "  <tbody>\n",
       "    <tr>\n",
       "      <th>0</th>\n",
       "      <td>Other Users</td>\n",
       "      <td>75,162,232.00</td>\n",
       "    </tr>\n",
       "    <tr>\n",
       "      <th>1</th>\n",
       "      <td>Two Parent Families</td>\n",
       "      <td>177,256,144.00</td>\n",
       "    </tr>\n",
       "  </tbody>\n",
       "</table>\n",
       "</div>"
      ],
      "text/plain": [
       "          profile_flag  total_spent_in_lifetime\n",
       "0          Other Users            75,162,232.00\n",
       "1  Two Parent Families           177,256,144.00"
      ]
     },
     "execution_count": 41,
     "metadata": {},
     "output_type": "execute_result"
    }
   ],
   "source": [
    "gross_sales_profile"
   ]
  },
  {
   "cell_type": "code",
   "execution_count": 42,
   "id": "094ff328",
   "metadata": {},
   "outputs": [],
   "source": [
    "# Swap the order of the rows so that the pie chart renders correctly\n",
    "temp = pd.DataFrame()\n",
    "temp = gross_sales_profile.copy()"
   ]
  },
  {
   "cell_type": "code",
   "execution_count": 43,
   "id": "9b4c1413",
   "metadata": {},
   "outputs": [
    {
     "data": {
      "text/html": [
       "<div>\n",
       "<style scoped>\n",
       "    .dataframe tbody tr th:only-of-type {\n",
       "        vertical-align: middle;\n",
       "    }\n",
       "\n",
       "    .dataframe tbody tr th {\n",
       "        vertical-align: top;\n",
       "    }\n",
       "\n",
       "    .dataframe thead th {\n",
       "        text-align: right;\n",
       "    }\n",
       "</style>\n",
       "<table border=\"1\" class=\"dataframe\">\n",
       "  <thead>\n",
       "    <tr style=\"text-align: right;\">\n",
       "      <th></th>\n",
       "      <th>profile_flag</th>\n",
       "      <th>total_spent_in_lifetime</th>\n",
       "    </tr>\n",
       "  </thead>\n",
       "  <tbody>\n",
       "    <tr>\n",
       "      <th>0</th>\n",
       "      <td>Other Users</td>\n",
       "      <td>75,162,232.00</td>\n",
       "    </tr>\n",
       "    <tr>\n",
       "      <th>1</th>\n",
       "      <td>Two Parent Families</td>\n",
       "      <td>177,256,144.00</td>\n",
       "    </tr>\n",
       "  </tbody>\n",
       "</table>\n",
       "</div>"
      ],
      "text/plain": [
       "          profile_flag  total_spent_in_lifetime\n",
       "0          Other Users            75,162,232.00\n",
       "1  Two Parent Families           177,256,144.00"
      ]
     },
     "execution_count": 43,
     "metadata": {},
     "output_type": "execute_result"
    }
   ],
   "source": [
    "temp"
   ]
  },
  {
   "cell_type": "code",
   "execution_count": 44,
   "id": "4755c227",
   "metadata": {},
   "outputs": [],
   "source": [
    "gross_sales_profile.iloc[0] = temp.iloc[1].copy()\n",
    "gross_sales_profile.iloc[1] = temp.iloc[0].copy()"
   ]
  },
  {
   "cell_type": "code",
   "execution_count": 45,
   "id": "db162547",
   "metadata": {
    "scrolled": true
   },
   "outputs": [
    {
     "data": {
      "text/html": [
       "<div>\n",
       "<style scoped>\n",
       "    .dataframe tbody tr th:only-of-type {\n",
       "        vertical-align: middle;\n",
       "    }\n",
       "\n",
       "    .dataframe tbody tr th {\n",
       "        vertical-align: top;\n",
       "    }\n",
       "\n",
       "    .dataframe thead th {\n",
       "        text-align: right;\n",
       "    }\n",
       "</style>\n",
       "<table border=\"1\" class=\"dataframe\">\n",
       "  <thead>\n",
       "    <tr style=\"text-align: right;\">\n",
       "      <th></th>\n",
       "      <th>profile_flag</th>\n",
       "      <th>total_spent_in_lifetime</th>\n",
       "    </tr>\n",
       "  </thead>\n",
       "  <tbody>\n",
       "    <tr>\n",
       "      <th>0</th>\n",
       "      <td>Two Parent Families</td>\n",
       "      <td>177,256,144.00</td>\n",
       "    </tr>\n",
       "    <tr>\n",
       "      <th>1</th>\n",
       "      <td>Other Users</td>\n",
       "      <td>75,162,232.00</td>\n",
       "    </tr>\n",
       "  </tbody>\n",
       "</table>\n",
       "</div>"
      ],
      "text/plain": [
       "          profile_flag  total_spent_in_lifetime\n",
       "0  Two Parent Families           177,256,144.00\n",
       "1          Other Users            75,162,232.00"
      ]
     },
     "execution_count": 45,
     "metadata": {},
     "output_type": "execute_result"
    }
   ],
   "source": [
    "# Confirming the swap happened correctly\n",
    "gross_sales_profile"
   ]
  },
  {
   "cell_type": "code",
   "execution_count": 47,
   "id": "8e742704",
   "metadata": {
    "scrolled": true
   },
   "outputs": [
    {
     "data": {
      "text/plain": [
       "Text(0.5, 1.0, 'Two-parent families also account for 70% of sales.')"
      ]
     },
     "execution_count": 47,
     "metadata": {},
     "output_type": "execute_result"
    },
    {
     "data": {
      "image/png": "[encoded data removed]",
      "text/plain": [
       "<Figure size 700x500 with 1 Axes>"
      ]
     },
     "metadata": {},
     "output_type": "display_data"
    }
   ],
   "source": [
    "plot = gross_sales_profile.plot.pie(y='total_spent_in_lifetime', \n",
    "                                    figsize=(7,5), \n",
    "                                    counterclock=True, \n",
    "                                    colormap='Accent', \n",
    "                                    legend=False, \n",
    "                                    labels = labels, \n",
    "                                    autopct='%1.1f%%')\n",
    "plt.ylabel('')\n",
    "\n",
    "plt.title (\"Two-parent families also account for 70% of sales.\", \n",
    "           fontdict = font_title)\n"
   ]
  },
  {
   "cell_type": "markdown",
   "id": "470348d1",
   "metadata": {},
   "source": [
    "Since this isn't significantly different from what is expected, I'm not going to export it at this time. "
   ]
  },
  {
   "cell_type": "code",
   "execution_count": 48,
   "id": "0ee4d4a9",
   "metadata": {},
   "outputs": [],
   "source": [
    "# Reclaiming space\n",
    "del gross_sales_profile\n",
    "del temp"
   ]
  },
  {
   "cell_type": "markdown",
   "id": "2cd297f1",
   "metadata": {},
   "source": [
    "#### 0.6.1.C  total items (total_items_in_lifetime)"
   ]
  },
  {
   "cell_type": "code",
   "execution_count": 49,
   "id": "afa82cb7",
   "metadata": {},
   "outputs": [],
   "source": [
    "# Calculate the total items for those in the profile and out of it\n",
    "total_items = df_user_subset.groupby(profile).total_items_in_lifetime.sum()"
   ]
  },
  {
   "cell_type": "code",
   "execution_count": 50,
   "id": "9f5ab4a5",
   "metadata": {
    "scrolled": true
   },
   "outputs": [
    {
     "data": {
      "text/plain": [
       "two_parent_fam\n",
       "False     9657428\n",
       "True     22777061\n",
       "Name: total_items_in_lifetime, dtype: int32"
      ]
     },
     "execution_count": 50,
     "metadata": {},
     "output_type": "execute_result"
    }
   ],
   "source": [
    "total_items"
   ]
  },
  {
   "cell_type": "markdown",
   "id": "5c483352",
   "metadata": {},
   "source": [
    "Two parent families also purchase 70% of all items.  Since this is not significantly different from the gross sales, we won't make a visual of it."
   ]
  },
  {
   "cell_type": "code",
   "execution_count": 51,
   "id": "23ef883d",
   "metadata": {},
   "outputs": [],
   "source": [
    "#Reclaiming space\n",
    "del total_items"
   ]
  },
  {
   "cell_type": "markdown",
   "id": "3162df31",
   "metadata": {},
   "source": [
    "#### 0.6.1.D per order stats"
   ]
  },
  {
   "cell_type": "code",
   "execution_count": 52,
   "id": "4916a33f",
   "metadata": {},
   "outputs": [],
   "source": [
    "# Calculate the avg_items_per_order for those in the profile and out of it\n",
    "size_of_orders = df_user_subset.groupby(profile).avg_items_per_order_by_user.mean()"
   ]
  },
  {
   "cell_type": "code",
   "execution_count": 53,
   "id": "0d33d4f6",
   "metadata": {},
   "outputs": [
    {
     "data": {
      "text/plain": [
       "two_parent_fam\n",
       "False   9.93\n",
       "True    9.96\n",
       "Name: avg_items_per_order_by_user, dtype: float16"
      ]
     },
     "execution_count": 53,
     "metadata": {},
     "output_type": "execute_result"
    }
   ],
   "source": [
    "size_of_orders"
   ]
  },
  {
   "cell_type": "markdown",
   "id": "00a14b6d",
   "metadata": {},
   "source": [
    "There is not a significant difference in the average size of orders between the profile group and not-profile group, so we will not create a visualization for this."
   ]
  },
  {
   "cell_type": "code",
   "execution_count": 54,
   "id": "6992a0c2",
   "metadata": {},
   "outputs": [],
   "source": [
    "#Reclaiming space\n",
    "del size_of_orders"
   ]
  },
  {
   "cell_type": "markdown",
   "id": "806cc2df",
   "metadata": {},
   "source": [
    "### 0.6.2 demographics of this profile"
   ]
  },
  {
   "cell_type": "markdown",
   "id": "51d85f2e",
   "metadata": {},
   "source": [
    "#### 0.6.2.A income"
   ]
  },
  {
   "cell_type": "code",
   "execution_count": 55,
   "id": "3584a994",
   "metadata": {},
   "outputs": [],
   "source": [
    "# Create a temporary df to hold income statistics by profile group and not\n",
    "income_stats = df_user_subset.groupby('profile_flag').income.describe()"
   ]
  },
  {
   "cell_type": "code",
   "execution_count": 56,
   "id": "f31e263c",
   "metadata": {},
   "outputs": [
    {
     "data": {
      "text/html": [
       "<div>\n",
       "<style scoped>\n",
       "    .dataframe tbody tr th:only-of-type {\n",
       "        vertical-align: middle;\n",
       "    }\n",
       "\n",
       "    .dataframe tbody tr th {\n",
       "        vertical-align: top;\n",
       "    }\n",
       "\n",
       "    .dataframe thead th {\n",
       "        text-align: right;\n",
       "    }\n",
       "</style>\n",
       "<table border=\"1\" class=\"dataframe\">\n",
       "  <thead>\n",
       "    <tr style=\"text-align: right;\">\n",
       "      <th></th>\n",
       "      <th>count</th>\n",
       "      <th>mean</th>\n",
       "      <th>std</th>\n",
       "      <th>min</th>\n",
       "      <th>25%</th>\n",
       "      <th>50%</th>\n",
       "      <th>75%</th>\n",
       "      <th>max</th>\n",
       "    </tr>\n",
       "    <tr>\n",
       "      <th>profile_flag</th>\n",
       "      <th></th>\n",
       "      <th></th>\n",
       "      <th></th>\n",
       "      <th></th>\n",
       "      <th></th>\n",
       "      <th></th>\n",
       "      <th></th>\n",
       "      <th></th>\n",
       "    </tr>\n",
       "  </thead>\n",
       "  <tbody>\n",
       "    <tr>\n",
       "      <th>Other Users</th>\n",
       "      <td>61,303.00</td>\n",
       "      <td>90,285.82</td>\n",
       "      <td>41,212.73</td>\n",
       "      <td>25,903.00</td>\n",
       "      <td>57,982.00</td>\n",
       "      <td>86,191.00</td>\n",
       "      <td>116,772.00</td>\n",
       "      <td>584,097.00</td>\n",
       "    </tr>\n",
       "    <tr>\n",
       "      <th>Two Parent Families</th>\n",
       "      <td>144,906.00</td>\n",
       "      <td>96,471.88</td>\n",
       "      <td>42,863.79</td>\n",
       "      <td>25,911.00</td>\n",
       "      <td>61,334.00</td>\n",
       "      <td>95,769.00</td>\n",
       "      <td>127,156.50</td>\n",
       "      <td>593,901.00</td>\n",
       "    </tr>\n",
       "  </tbody>\n",
       "</table>\n",
       "</div>"
      ],
      "text/plain": [
       "                         count      mean       std       min       25%  \\\n",
       "profile_flag                                                             \n",
       "Other Users          61,303.00 90,285.82 41,212.73 25,903.00 57,982.00   \n",
       "Two Parent Families 144,906.00 96,471.88 42,863.79 25,911.00 61,334.00   \n",
       "\n",
       "                          50%        75%        max  \n",
       "profile_flag                                         \n",
       "Other Users         86,191.00 116,772.00 584,097.00  \n",
       "Two Parent Families 95,769.00 127,156.50 593,901.00  "
      ]
     },
     "execution_count": 56,
     "metadata": {},
     "output_type": "execute_result"
    }
   ],
   "source": [
    "income_stats"
   ]
  },
  {
   "cell_type": "markdown",
   "id": "59f5cbca",
   "metadata": {},
   "source": [
    "Two parent families have a mean income that is only 6k higher than those in other households, and their maximum is roughly 9k higher. The min is effectively the same."
   ]
  },
  {
   "cell_type": "code",
   "execution_count": 57,
   "id": "1dfbef1a",
   "metadata": {},
   "outputs": [],
   "source": [
    "# Create temporary dfs to hold income by profile group for box-and-whiskers plot\n",
    "income_profile = df_user_subset['income'][df_user_subset['profile_flag']==profile_label]\n",
    "income_not_profile = df_user_subset['income'][df_user_subset['profile_flag']==not_profile_label]\n",
    "\n",
    "# Identify dfs to use for box-and-whisker-plots\n",
    "dataset = [income_not_profile, income_profile]"
   ]
  },
  {
   "cell_type": "code",
   "execution_count": 58,
   "id": "1f0734eb",
   "metadata": {},
   "outputs": [
    {
     "data": {
      "image/png": "[encoded data removed]",
      "text/plain": [
       "<Figure size 500x500 with 1 Axes>"
      ]
     },
     "metadata": {},
     "output_type": "display_data"
    }
   ],
   "source": [
    "# Create a box-and-whiskers plot of incomes, grouped by profile\n",
    "fig, ax = plt.subplots(figsize=(5, 5))\n",
    "\n",
    "# Remove top and side borders\n",
    "ax.spines['top'].set_visible(False)\n",
    "ax.spines['right'].set_visible(False)\n",
    "ax.spines['left'].set_visible(False)\n",
    "\n",
    "# Add major gridlines in the y-axis\n",
    "ax.grid(color='grey', \n",
    "        axis='y', \n",
    "        linestyle='-', \n",
    "        linewidth=0.25, \n",
    "        alpha=0.5)\n",
    "\n",
    "#Adjust the look of the boxplot\n",
    "flierprops = dict(marker='.', \n",
    "                  markerfacecolor='grey', \n",
    "                  markersize=10, \n",
    "                  linestyle='none')\n",
    "medianprops = dict(linestyle='-', \n",
    "                   linewidth=2, \n",
    "                   color='forestgreen')\n",
    "\n",
    "# Set plot title\n",
    "ax.set_title('Average income for two-parent families is \\nslightly higher than other households.', \n",
    "             color='forestgreen')\n",
    "ax.set_ylabel('Income')\n",
    "\n",
    "# Note: labels is defined at the beginning of 0.6\n",
    "\n",
    "# Create boxplot\n",
    "income_box = ax.boxplot(dataset, \n",
    "                        labels=labels_r,\n",
    "                        flierprops=flierprops, \n",
    "                        medianprops=medianprops)\n",
    "\n",
    "plt.show()"
   ]
  },
  {
   "cell_type": "code",
   "execution_count": 59,
   "id": "e44a9ef7",
   "metadata": {},
   "outputs": [],
   "source": [
    "# Reclaiming space\n",
    "del income_stats\n",
    "del income_profile\n",
    "del income_not_profile\n",
    "del dataset"
   ]
  },
  {
   "cell_type": "markdown",
   "id": "92f206df",
   "metadata": {},
   "source": [
    "#### 0.6.2.B income_groups"
   ]
  },
  {
   "cell_type": "code",
   "execution_count": null,
   "id": "8be7fba7",
   "metadata": {},
   "outputs": [],
   "source": [
    "# Create a cross tabulation to show the proportions of the profile\n",
    "# members in each income_group\n",
    "cross_tab_prop_groups = pd.crosstab(index=df_user_subset['income_group'],\n",
    "                            columns=df_user_subset['profile_flag'],\n",
    "                            normalize='index')\n",
    "cross_tab_prop_groups"
   ]
  },
  {
   "cell_type": "code",
   "execution_count": null,
   "id": "bcea56d5",
   "metadata": {},
   "outputs": [],
   "source": [
    "# Create a cross tabulation with just the counts\n",
    "cross_tab = pd.crosstab(index=df_user_subset['income_group'],\n",
    "                       columns=df_user_subset['profile_flag'])\n",
    "\n",
    "cross_tab"
   ]
  },
  {
   "cell_type": "code",
   "execution_count": null,
   "id": "3c4661a6",
   "metadata": {
    "scrolled": false
   },
   "outputs": [],
   "source": [
    "#Confirming counts of cross tab look correct\n",
    "df_user_subset['income_group'].value_counts()"
   ]
  },
  {
   "cell_type": "markdown",
   "id": "24965ede",
   "metadata": {},
   "source": [
    "The sum of each income_group row in the crosstab matches the counts of that income_group in the subset"
   ]
  },
  {
   "cell_type": "code",
   "execution_count": 63,
   "id": "a8cc6a2e",
   "metadata": {},
   "outputs": [
    {
     "data": {
      "image/png": "[encoded data removed]",
      "text/plain": [
       "<Figure size 1000x800 with 1 Axes>"
      ]
     },
     "metadata": {},
     "output_type": "display_data"
    }
   ],
   "source": [
    "# Create a stacked column plot showing the proportion \n",
    "# of senior_citizens in each income_group.\n",
    "\n",
    "inc_groups_plot = cross_tab_prop_groups.plot(kind='bar',\n",
    "                   stacked=True,\n",
    "                   figsize=(10,8),\n",
    "                   colormap='Accent_r', \n",
    "                   order=['Affluent', 'Upper middle class', 'Middle class', 'Low income'])\n",
    "\n",
    "# Format margins so it isn't too crowded\n",
    "plt.subplots_adjust(top=0.8)\n",
    "plt.subplots_adjust(bottom=0.2)\n",
    "\n",
    "# Format labels and titles for clarity\n",
    "plt.legend(loc='upper center', ncol=2)\n",
    "plt.xticks(rotation = 45)\n",
    "plt.xlabel('Income Group', fontdict=font_sm_label)\n",
    "plt.ylabel('Proportion', fontdict=font_sm_label)\n",
    "plt.title('Two-parent families are affluent or upper-middle class\\n at a higher than expected rate.',\n",
    "         fontdict=font_title)\n",
    "\n",
    "#Create a loop to add the percentages to the plot\n",
    "for n, x in enumerate([*cross_tab.index.values]):\n",
    "    for (proportion, y_loc) in zip(cross_tab_prop_groups.loc[x],\n",
    "                                   cross_tab_prop_groups.loc[x].cumsum()):\n",
    "                \n",
    "        plt.text(x=n - 0.17,\n",
    "                 y=(y_loc - proportion) + (proportion / 2),\n",
    "                 s=f'{np.round(proportion * 100, 1)}%', \n",
    "                 color=\"black\",\n",
    "                 fontsize=12,\n",
    "                 fontweight=\"bold\")\n",
    "        \n",
    "plt.show()"
   ]
  },
  {
   "cell_type": "code",
   "execution_count": 64,
   "id": "225aa6e8",
   "metadata": {},
   "outputs": [],
   "source": [
    "# Create filename for export\n",
    "filename = profile+'_income_groups_bar.png'"
   ]
  },
  {
   "cell_type": "code",
   "execution_count": 65,
   "id": "fc9c8cea",
   "metadata": {},
   "outputs": [
    {
     "data": {
      "text/plain": [
       "'two_parent_fam_income_groups_bar.png'"
      ]
     },
     "execution_count": 65,
     "metadata": {},
     "output_type": "execute_result"
    }
   ],
   "source": [
    "filename"
   ]
  },
  {
   "cell_type": "code",
   "execution_count": 66,
   "id": "dcdbbb45",
   "metadata": {},
   "outputs": [],
   "source": [
    "# Exporting bar chart\n",
    "inc_groups_plot.figure.savefig(os.path.join(path, '04 Analysis','Visualizations', filename))"
   ]
  },
  {
   "cell_type": "code",
   "execution_count": 67,
   "id": "95d92feb",
   "metadata": {},
   "outputs": [],
   "source": [
    "# Reclaiming space\n",
    "del cross_tab\n",
    "del cross_tab_prop_groups"
   ]
  },
  {
   "cell_type": "markdown",
   "id": "01c16e1f",
   "metadata": {},
   "source": [
    "#### 0.6.2.C gender"
   ]
  },
  {
   "cell_type": "code",
   "execution_count": 68,
   "id": "ec8394ee",
   "metadata": {},
   "outputs": [
    {
     "data": {
      "text/html": [
       "<div>\n",
       "<style scoped>\n",
       "    .dataframe tbody tr th:only-of-type {\n",
       "        vertical-align: middle;\n",
       "    }\n",
       "\n",
       "    .dataframe tbody tr th {\n",
       "        vertical-align: top;\n",
       "    }\n",
       "\n",
       "    .dataframe thead th {\n",
       "        text-align: right;\n",
       "    }\n",
       "</style>\n",
       "<table border=\"1\" class=\"dataframe\">\n",
       "  <thead>\n",
       "    <tr style=\"text-align: right;\">\n",
       "      <th>gender</th>\n",
       "      <th>Female</th>\n",
       "      <th>Male</th>\n",
       "    </tr>\n",
       "    <tr>\n",
       "      <th>profile_flag</th>\n",
       "      <th></th>\n",
       "      <th></th>\n",
       "    </tr>\n",
       "  </thead>\n",
       "  <tbody>\n",
       "    <tr>\n",
       "      <th>Other Users</th>\n",
       "      <td>0.50</td>\n",
       "      <td>0.50</td>\n",
       "    </tr>\n",
       "    <tr>\n",
       "      <th>Two Parent Families</th>\n",
       "      <td>0.50</td>\n",
       "      <td>0.50</td>\n",
       "    </tr>\n",
       "  </tbody>\n",
       "</table>\n",
       "</div>"
      ],
      "text/plain": [
       "gender               Female  Male\n",
       "profile_flag                     \n",
       "Other Users            0.50  0.50\n",
       "Two Parent Families    0.50  0.50"
      ]
     },
     "execution_count": 68,
     "metadata": {},
     "output_type": "execute_result"
    }
   ],
   "source": [
    "# Create a cross tabulation to show the proportions of the profile\n",
    "# members in each gender\n",
    "cross_tab_prop_groups = pd.crosstab(index=df_user_subset['profile_flag'],\n",
    "                            columns=df_user_subset['gender'],\n",
    "                            normalize='index')\n",
    "cross_tab_prop_groups"
   ]
  },
  {
   "cell_type": "markdown",
   "id": "b117e98a",
   "metadata": {},
   "source": [
    "Since it appears that both the profile group and not-profile group are split 50-50 across genders, this does not warrant a visualization. "
   ]
  },
  {
   "cell_type": "code",
   "execution_count": 69,
   "id": "940a6b72",
   "metadata": {},
   "outputs": [],
   "source": [
    "# Reclaiming space\n",
    "del cross_tab_prop_groups"
   ]
  },
  {
   "cell_type": "markdown",
   "id": "44f66030",
   "metadata": {},
   "source": [
    "#### 0.6.2.D region"
   ]
  },
  {
   "cell_type": "code",
   "execution_count": 70,
   "id": "e6fa8332",
   "metadata": {},
   "outputs": [
    {
     "data": {
      "text/html": [
       "<div>\n",
       "<style scoped>\n",
       "    .dataframe tbody tr th:only-of-type {\n",
       "        vertical-align: middle;\n",
       "    }\n",
       "\n",
       "    .dataframe tbody tr th {\n",
       "        vertical-align: top;\n",
       "    }\n",
       "\n",
       "    .dataframe thead th {\n",
       "        text-align: right;\n",
       "    }\n",
       "</style>\n",
       "<table border=\"1\" class=\"dataframe\">\n",
       "  <thead>\n",
       "    <tr style=\"text-align: right;\">\n",
       "      <th>profile_flag</th>\n",
       "      <th>Other Users</th>\n",
       "      <th>Two Parent Families</th>\n",
       "    </tr>\n",
       "    <tr>\n",
       "      <th>region</th>\n",
       "      <th></th>\n",
       "      <th></th>\n",
       "    </tr>\n",
       "  </thead>\n",
       "  <tbody>\n",
       "    <tr>\n",
       "      <th>Midwest</th>\n",
       "      <td>0.30</td>\n",
       "      <td>0.70</td>\n",
       "    </tr>\n",
       "    <tr>\n",
       "      <th>Northeast</th>\n",
       "      <td>0.30</td>\n",
       "      <td>0.70</td>\n",
       "    </tr>\n",
       "    <tr>\n",
       "      <th>South</th>\n",
       "      <td>0.30</td>\n",
       "      <td>0.70</td>\n",
       "    </tr>\n",
       "    <tr>\n",
       "      <th>West</th>\n",
       "      <td>0.30</td>\n",
       "      <td>0.70</td>\n",
       "    </tr>\n",
       "  </tbody>\n",
       "</table>\n",
       "</div>"
      ],
      "text/plain": [
       "profile_flag  Other Users  Two Parent Families\n",
       "region                                        \n",
       "Midwest              0.30                 0.70\n",
       "Northeast            0.30                 0.70\n",
       "South                0.30                 0.70\n",
       "West                 0.30                 0.70"
      ]
     },
     "execution_count": 70,
     "metadata": {},
     "output_type": "execute_result"
    }
   ],
   "source": [
    "# Create a cross tabulation to show the proportions of the profile\n",
    "# members in each region\n",
    "cross_tab_prop_groups = pd.crosstab(index=df_user_subset['region'],\n",
    "                            columns=df_user_subset['profile_flag'],\n",
    "                            normalize='index')\n",
    "cross_tab_prop_groups"
   ]
  },
  {
   "cell_type": "code",
   "execution_count": 71,
   "id": "5d23ac8d",
   "metadata": {},
   "outputs": [
    {
     "data": {
      "text/html": [
       "<div>\n",
       "<style scoped>\n",
       "    .dataframe tbody tr th:only-of-type {\n",
       "        vertical-align: middle;\n",
       "    }\n",
       "\n",
       "    .dataframe tbody tr th {\n",
       "        vertical-align: top;\n",
       "    }\n",
       "\n",
       "    .dataframe thead th {\n",
       "        text-align: right;\n",
       "    }\n",
       "</style>\n",
       "<table border=\"1\" class=\"dataframe\">\n",
       "  <thead>\n",
       "    <tr style=\"text-align: right;\">\n",
       "      <th>region</th>\n",
       "      <th>Midwest</th>\n",
       "      <th>Northeast</th>\n",
       "      <th>South</th>\n",
       "      <th>West</th>\n",
       "    </tr>\n",
       "    <tr>\n",
       "      <th>profile_flag</th>\n",
       "      <th></th>\n",
       "      <th></th>\n",
       "      <th></th>\n",
       "      <th></th>\n",
       "    </tr>\n",
       "  </thead>\n",
       "  <tbody>\n",
       "    <tr>\n",
       "      <th>Other Users</th>\n",
       "      <td>0.23</td>\n",
       "      <td>0.18</td>\n",
       "      <td>0.33</td>\n",
       "      <td>0.26</td>\n",
       "    </tr>\n",
       "    <tr>\n",
       "      <th>Two Parent Families</th>\n",
       "      <td>0.24</td>\n",
       "      <td>0.18</td>\n",
       "      <td>0.33</td>\n",
       "      <td>0.25</td>\n",
       "    </tr>\n",
       "  </tbody>\n",
       "</table>\n",
       "</div>"
      ],
      "text/plain": [
       "region               Midwest  Northeast  South  West\n",
       "profile_flag                                        \n",
       "Other Users             0.23       0.18   0.33  0.26\n",
       "Two Parent Families     0.24       0.18   0.33  0.25"
      ]
     },
     "execution_count": 71,
     "metadata": {},
     "output_type": "execute_result"
    }
   ],
   "source": [
    "# Create a cross tabulation to show the proportions of the profile\n",
    "# members in each region\n",
    "cross_tab_prop_groups2 = pd.crosstab(index=df_user_subset['profile_flag'],\n",
    "                            columns=df_user_subset['region'],\n",
    "                            normalize='index')\n",
    "cross_tab_prop_groups2"
   ]
  },
  {
   "cell_type": "markdown",
   "id": "72176d6f",
   "metadata": {},
   "source": [
    "There is not a significant difference by region for where the profile group is located"
   ]
  },
  {
   "cell_type": "code",
   "execution_count": 72,
   "id": "ca3bdb28",
   "metadata": {},
   "outputs": [],
   "source": [
    "#Reclaiming space\n",
    "del cross_tab_prop_groups\n",
    "del cross_tab_prop_groups2"
   ]
  },
  {
   "cell_type": "markdown",
   "id": "695ac877",
   "metadata": {},
   "source": [
    "#### 0.6.2.E fam_status"
   ]
  },
  {
   "cell_type": "code",
   "execution_count": 73,
   "id": "207c16a2",
   "metadata": {},
   "outputs": [
    {
     "data": {
      "text/html": [
       "<div>\n",
       "<style scoped>\n",
       "    .dataframe tbody tr th:only-of-type {\n",
       "        vertical-align: middle;\n",
       "    }\n",
       "\n",
       "    .dataframe tbody tr th {\n",
       "        vertical-align: top;\n",
       "    }\n",
       "\n",
       "    .dataframe thead th {\n",
       "        text-align: right;\n",
       "    }\n",
       "</style>\n",
       "<table border=\"1\" class=\"dataframe\">\n",
       "  <thead>\n",
       "    <tr style=\"text-align: right;\">\n",
       "      <th>profile_flag</th>\n",
       "      <th>Other Users</th>\n",
       "      <th>Two Parent Families</th>\n",
       "    </tr>\n",
       "    <tr>\n",
       "      <th>fam_status</th>\n",
       "      <th></th>\n",
       "      <th></th>\n",
       "    </tr>\n",
       "  </thead>\n",
       "  <tbody>\n",
       "    <tr>\n",
       "      <th>divorced/widowed</th>\n",
       "      <td>1.00</td>\n",
       "      <td>0.00</td>\n",
       "    </tr>\n",
       "    <tr>\n",
       "      <th>living with parents and siblings</th>\n",
       "      <td>1.00</td>\n",
       "      <td>0.00</td>\n",
       "    </tr>\n",
       "    <tr>\n",
       "      <th>married</th>\n",
       "      <td>0.00</td>\n",
       "      <td>1.00</td>\n",
       "    </tr>\n",
       "    <tr>\n",
       "      <th>single</th>\n",
       "      <td>1.00</td>\n",
       "      <td>0.00</td>\n",
       "    </tr>\n",
       "  </tbody>\n",
       "</table>\n",
       "</div>"
      ],
      "text/plain": [
       "profile_flag                      Other Users  Two Parent Families\n",
       "fam_status                                                        \n",
       "divorced/widowed                         1.00                 0.00\n",
       "living with parents and siblings         1.00                 0.00\n",
       "married                                  0.00                 1.00\n",
       "single                                   1.00                 0.00"
      ]
     },
     "execution_count": 73,
     "metadata": {},
     "output_type": "execute_result"
    }
   ],
   "source": [
    "# Create a cross tabulation to show the proportions of the profile\n",
    "# members by fam_status\n",
    "cross_tab_prop_groups = pd.crosstab(index=df_user_subset['fam_status'],\n",
    "                            columns=df_user_subset['profile_flag'],\n",
    "                            normalize='index')\n",
    "cross_tab_prop_groups"
   ]
  },
  {
   "cell_type": "markdown",
   "id": "19bee8dd",
   "metadata": {},
   "source": [
    "#### 0.6.2.F n_dependants"
   ]
  },
  {
   "cell_type": "code",
   "execution_count": 74,
   "id": "2225d6c7",
   "metadata": {},
   "outputs": [
    {
     "data": {
      "text/html": [
       "<div>\n",
       "<style scoped>\n",
       "    .dataframe tbody tr th:only-of-type {\n",
       "        vertical-align: middle;\n",
       "    }\n",
       "\n",
       "    .dataframe tbody tr th {\n",
       "        vertical-align: top;\n",
       "    }\n",
       "\n",
       "    .dataframe thead th {\n",
       "        text-align: right;\n",
       "    }\n",
       "</style>\n",
       "<table border=\"1\" class=\"dataframe\">\n",
       "  <thead>\n",
       "    <tr style=\"text-align: right;\">\n",
       "      <th>n_dependants</th>\n",
       "      <th>0</th>\n",
       "      <th>1</th>\n",
       "      <th>2</th>\n",
       "      <th>3</th>\n",
       "    </tr>\n",
       "    <tr>\n",
       "      <th>profile_flag</th>\n",
       "      <th></th>\n",
       "      <th></th>\n",
       "      <th></th>\n",
       "      <th></th>\n",
       "    </tr>\n",
       "  </thead>\n",
       "  <tbody>\n",
       "    <tr>\n",
       "      <th>Other Users</th>\n",
       "      <td>0.84</td>\n",
       "      <td>0.05</td>\n",
       "      <td>0.05</td>\n",
       "      <td>0.05</td>\n",
       "    </tr>\n",
       "    <tr>\n",
       "      <th>Two Parent Families</th>\n",
       "      <td>0.00</td>\n",
       "      <td>0.33</td>\n",
       "      <td>0.33</td>\n",
       "      <td>0.33</td>\n",
       "    </tr>\n",
       "  </tbody>\n",
       "</table>\n",
       "</div>"
      ],
      "text/plain": [
       "n_dependants           0    1    2    3\n",
       "profile_flag                           \n",
       "Other Users         0.84 0.05 0.05 0.05\n",
       "Two Parent Families 0.00 0.33 0.33 0.33"
      ]
     },
     "execution_count": 74,
     "metadata": {},
     "output_type": "execute_result"
    }
   ],
   "source": [
    "# Create a cross tabulation to show the proportions of the profile\n",
    "# members with n_dependants\n",
    "cross_tab_prop_groups = pd.crosstab(index=df_user_subset['profile_flag'],\n",
    "                            columns=df_user_subset['n_dependants'],\n",
    "                            normalize='index')\n",
    "cross_tab_prop_groups"
   ]
  },
  {
   "cell_type": "markdown",
   "id": "bfcde93e",
   "metadata": {},
   "source": [
    "Two parent families are evenly split between having 1, 2, or 3 children.\n",
    "Of all other households, only 15% have children, and they are also evenly split between having 1, 2, or 3 children.  This does not seem to warrent a visualization."
   ]
  },
  {
   "cell_type": "code",
   "execution_count": 75,
   "id": "cc985da3",
   "metadata": {},
   "outputs": [],
   "source": [
    "# Reclaim space\n",
    "del cross_tab_prop_groups"
   ]
  },
  {
   "cell_type": "markdown",
   "id": "eec8c8fb",
   "metadata": {},
   "source": [
    "#### 0.6.2.G pet_owner"
   ]
  },
  {
   "cell_type": "code",
   "execution_count": 76,
   "id": "44a19e52",
   "metadata": {},
   "outputs": [
    {
     "data": {
      "text/html": [
       "<div>\n",
       "<style scoped>\n",
       "    .dataframe tbody tr th:only-of-type {\n",
       "        vertical-align: middle;\n",
       "    }\n",
       "\n",
       "    .dataframe tbody tr th {\n",
       "        vertical-align: top;\n",
       "    }\n",
       "\n",
       "    .dataframe thead th {\n",
       "        text-align: right;\n",
       "    }\n",
       "</style>\n",
       "<table border=\"1\" class=\"dataframe\">\n",
       "  <thead>\n",
       "    <tr style=\"text-align: right;\">\n",
       "      <th>pet_owner</th>\n",
       "      <th>False</th>\n",
       "      <th>True</th>\n",
       "    </tr>\n",
       "    <tr>\n",
       "      <th>profile_flag</th>\n",
       "      <th></th>\n",
       "      <th></th>\n",
       "    </tr>\n",
       "  </thead>\n",
       "  <tbody>\n",
       "    <tr>\n",
       "      <th>Other Users</th>\n",
       "      <td>0.93</td>\n",
       "      <td>0.07</td>\n",
       "    </tr>\n",
       "    <tr>\n",
       "      <th>Two Parent Families</th>\n",
       "      <td>0.93</td>\n",
       "      <td>0.07</td>\n",
       "    </tr>\n",
       "  </tbody>\n",
       "</table>\n",
       "</div>"
      ],
      "text/plain": [
       "pet_owner            False  True\n",
       "profile_flag                    \n",
       "Other Users           0.93  0.07\n",
       "Two Parent Families   0.93  0.07"
      ]
     },
     "execution_count": 76,
     "metadata": {},
     "output_type": "execute_result"
    }
   ],
   "source": [
    "# Create a cross tabulation to show the proportions of the profile\n",
    "# members who also own pets\n",
    "cross_tab_prop_groups = pd.crosstab(index=df_user_subset['profile_flag'],\n",
    "                            columns=df_user_subset['pet_owner'],\n",
    "                            normalize='index')\n",
    "cross_tab_prop_groups"
   ]
  },
  {
   "cell_type": "markdown",
   "id": "476ff45b",
   "metadata": {},
   "source": [
    "Since there is no difference in the percentage of pet_owners based on whether someone is a senior or not, there is no reason to do a visualization."
   ]
  },
  {
   "cell_type": "code",
   "execution_count": 77,
   "id": "3d6830a9",
   "metadata": {},
   "outputs": [],
   "source": [
    "# Reclaim space\n",
    "del cross_tab_prop_groups"
   ]
  },
  {
   "cell_type": "markdown",
   "id": "75822677",
   "metadata": {},
   "source": [
    "### 0.6.3 what we know about their shopping habits"
   ]
  },
  {
   "cell_type": "markdown",
   "id": "23799778",
   "metadata": {},
   "source": [
    "#### 0.6.2.A loyalty_flag (based on max_order)"
   ]
  },
  {
   "cell_type": "code",
   "execution_count": 78,
   "id": "5f6327c9",
   "metadata": {},
   "outputs": [
    {
     "data": {
      "text/html": [
       "<div>\n",
       "<style scoped>\n",
       "    .dataframe tbody tr th:only-of-type {\n",
       "        vertical-align: middle;\n",
       "    }\n",
       "\n",
       "    .dataframe tbody tr th {\n",
       "        vertical-align: top;\n",
       "    }\n",
       "\n",
       "    .dataframe thead th {\n",
       "        text-align: right;\n",
       "    }\n",
       "</style>\n",
       "<table border=\"1\" class=\"dataframe\">\n",
       "  <thead>\n",
       "    <tr style=\"text-align: right;\">\n",
       "      <th>loyalty_flag</th>\n",
       "      <th>Loyal customer</th>\n",
       "      <th>New customer</th>\n",
       "      <th>Regular customer</th>\n",
       "    </tr>\n",
       "    <tr>\n",
       "      <th>profile_flag</th>\n",
       "      <th></th>\n",
       "      <th></th>\n",
       "      <th></th>\n",
       "    </tr>\n",
       "  </thead>\n",
       "  <tbody>\n",
       "    <tr>\n",
       "      <th>Other Users</th>\n",
       "      <td>0.08</td>\n",
       "      <td>0.54</td>\n",
       "      <td>0.37</td>\n",
       "    </tr>\n",
       "    <tr>\n",
       "      <th>Two Parent Families</th>\n",
       "      <td>0.08</td>\n",
       "      <td>0.54</td>\n",
       "      <td>0.37</td>\n",
       "    </tr>\n",
       "  </tbody>\n",
       "</table>\n",
       "</div>"
      ],
      "text/plain": [
       "loyalty_flag         Loyal customer  New customer  Regular customer\n",
       "profile_flag                                                       \n",
       "Other Users                    0.08          0.54              0.37\n",
       "Two Parent Families            0.08          0.54              0.37"
      ]
     },
     "execution_count": 78,
     "metadata": {},
     "output_type": "execute_result"
    }
   ],
   "source": [
    "# Create a cross tabulation to show the proportions of the profile\n",
    "# members with loyalty_flag\n",
    "cross_tab_prop_groups = pd.crosstab(index=df_user_subset['profile_flag'],\n",
    "                            columns=df_user_subset['loyalty_flag'],\n",
    "                            normalize='index')\n",
    "cross_tab_prop_groups"
   ]
  },
  {
   "cell_type": "markdown",
   "id": "b1dd53ef",
   "metadata": {},
   "source": [
    "Since there is no difference in the loyalty_flag based on whether someone is in this profile or note, there is no reason to do a visualization. "
   ]
  },
  {
   "cell_type": "code",
   "execution_count": 79,
   "id": "2c571abe",
   "metadata": {},
   "outputs": [],
   "source": [
    "# Reclaim space\n",
    "del cross_tab_prop_groups"
   ]
  },
  {
   "cell_type": "markdown",
   "id": "6e431e29",
   "metadata": {},
   "source": [
    "#### 0.6.2.B low_activity_flag"
   ]
  },
  {
   "cell_type": "code",
   "execution_count": 80,
   "id": "89a4b0df",
   "metadata": {},
   "outputs": [
    {
     "data": {
      "text/html": [
       "<div>\n",
       "<style scoped>\n",
       "    .dataframe tbody tr th:only-of-type {\n",
       "        vertical-align: middle;\n",
       "    }\n",
       "\n",
       "    .dataframe tbody tr th {\n",
       "        vertical-align: top;\n",
       "    }\n",
       "\n",
       "    .dataframe thead th {\n",
       "        text-align: right;\n",
       "    }\n",
       "</style>\n",
       "<table border=\"1\" class=\"dataframe\">\n",
       "  <thead>\n",
       "    <tr style=\"text-align: right;\">\n",
       "      <th>low_activity_flag</th>\n",
       "      <th>False</th>\n",
       "      <th>True</th>\n",
       "    </tr>\n",
       "    <tr>\n",
       "      <th>profile_flag</th>\n",
       "      <th></th>\n",
       "      <th></th>\n",
       "    </tr>\n",
       "  </thead>\n",
       "  <tbody>\n",
       "    <tr>\n",
       "      <th>Other Users</th>\n",
       "      <td>0.79</td>\n",
       "      <td>0.21</td>\n",
       "    </tr>\n",
       "    <tr>\n",
       "      <th>Two Parent Families</th>\n",
       "      <td>0.79</td>\n",
       "      <td>0.21</td>\n",
       "    </tr>\n",
       "  </tbody>\n",
       "</table>\n",
       "</div>"
      ],
      "text/plain": [
       "low_activity_flag    False  True\n",
       "profile_flag                    \n",
       "Other Users           0.79  0.21\n",
       "Two Parent Families   0.79  0.21"
      ]
     },
     "execution_count": 80,
     "metadata": {},
     "output_type": "execute_result"
    }
   ],
   "source": [
    "# Create a cross tabulation to show the proportions of the profile\n",
    "# members with loyalty_flag\n",
    "cross_tab_prop_groups = pd.crosstab(index=df_user_subset['profile_flag'],\n",
    "                            columns=df_user_subset['low_activity_flag'],\n",
    "                            normalize='index')\n",
    "cross_tab_prop_groups"
   ]
  },
  {
   "cell_type": "markdown",
   "id": "e454e776",
   "metadata": {},
   "source": [
    "Since there is no difference in the percentage of low_activity_flags based on whether someone is in this profile or not, there is no reason to do a visualization. "
   ]
  },
  {
   "cell_type": "code",
   "execution_count": 81,
   "id": "cf1d18c0",
   "metadata": {},
   "outputs": [],
   "source": [
    "# Reclaim space\n",
    "del cross_tab_prop_groups"
   ]
  },
  {
   "cell_type": "markdown",
   "id": "17314a96",
   "metadata": {},
   "source": [
    "#### 0.6.2.C spender_type (based on mean_spending)"
   ]
  },
  {
   "cell_type": "code",
   "execution_count": 82,
   "id": "2cecf16e",
   "metadata": {},
   "outputs": [
    {
     "data": {
      "text/html": [
       "<div>\n",
       "<style scoped>\n",
       "    .dataframe tbody tr th:only-of-type {\n",
       "        vertical-align: middle;\n",
       "    }\n",
       "\n",
       "    .dataframe tbody tr th {\n",
       "        vertical-align: top;\n",
       "    }\n",
       "\n",
       "    .dataframe thead th {\n",
       "        text-align: right;\n",
       "    }\n",
       "</style>\n",
       "<table border=\"1\" class=\"dataframe\">\n",
       "  <thead>\n",
       "    <tr style=\"text-align: right;\">\n",
       "      <th>spender_type</th>\n",
       "      <th>High spender</th>\n",
       "      <th>Low spender</th>\n",
       "    </tr>\n",
       "    <tr>\n",
       "      <th>profile_flag</th>\n",
       "      <th></th>\n",
       "      <th></th>\n",
       "    </tr>\n",
       "  </thead>\n",
       "  <tbody>\n",
       "    <tr>\n",
       "      <th>Other Users</th>\n",
       "      <td>0.02</td>\n",
       "      <td>0.98</td>\n",
       "    </tr>\n",
       "    <tr>\n",
       "      <th>Two Parent Families</th>\n",
       "      <td>0.02</td>\n",
       "      <td>0.98</td>\n",
       "    </tr>\n",
       "  </tbody>\n",
       "</table>\n",
       "</div>"
      ],
      "text/plain": [
       "spender_type         High spender  Low spender\n",
       "profile_flag                                  \n",
       "Other Users                  0.02         0.98\n",
       "Two Parent Families          0.02         0.98"
      ]
     },
     "execution_count": 82,
     "metadata": {},
     "output_type": "execute_result"
    }
   ],
   "source": [
    "# Create a cross tabulation to show the proportions of the profile\n",
    "# members with spender_type\n",
    "cross_tab_prop_groups = pd.crosstab(index=df_user_subset['profile_flag'],\n",
    "                            columns=df_user_subset['spender_type'],\n",
    "                            normalize='index')\n",
    "cross_tab_prop_groups"
   ]
  },
  {
   "cell_type": "markdown",
   "id": "ab34d423",
   "metadata": {},
   "source": [
    "Since there is no difference in the percentage of spender_type based on whether someone is a in this profile or not, there is no reason to do a visualization. "
   ]
  },
  {
   "cell_type": "code",
   "execution_count": 83,
   "id": "fc010760",
   "metadata": {},
   "outputs": [],
   "source": [
    "# Reclaim space\n",
    "del cross_tab_prop_groups"
   ]
  },
  {
   "cell_type": "markdown",
   "id": "e261529c",
   "metadata": {},
   "source": [
    "#### 0.6.2.D frequent_shopper (based on median_days_since_ordering)"
   ]
  },
  {
   "cell_type": "code",
   "execution_count": 84,
   "id": "9a761de7",
   "metadata": {},
   "outputs": [
    {
     "data": {
      "text/html": [
       "<div>\n",
       "<style scoped>\n",
       "    .dataframe tbody tr th:only-of-type {\n",
       "        vertical-align: middle;\n",
       "    }\n",
       "\n",
       "    .dataframe tbody tr th {\n",
       "        vertical-align: top;\n",
       "    }\n",
       "\n",
       "    .dataframe thead th {\n",
       "        text-align: right;\n",
       "    }\n",
       "</style>\n",
       "<table border=\"1\" class=\"dataframe\">\n",
       "  <thead>\n",
       "    <tr style=\"text-align: right;\">\n",
       "      <th>frequent_shopper</th>\n",
       "      <th>Frequent customer</th>\n",
       "      <th>Non-frequent customer</th>\n",
       "      <th>Regular customer</th>\n",
       "    </tr>\n",
       "    <tr>\n",
       "      <th>profile_flag</th>\n",
       "      <th></th>\n",
       "      <th></th>\n",
       "      <th></th>\n",
       "    </tr>\n",
       "  </thead>\n",
       "  <tbody>\n",
       "    <tr>\n",
       "      <th>Other Users</th>\n",
       "      <td>0.41</td>\n",
       "      <td>0.27</td>\n",
       "      <td>0.31</td>\n",
       "    </tr>\n",
       "    <tr>\n",
       "      <th>Two Parent Families</th>\n",
       "      <td>0.41</td>\n",
       "      <td>0.28</td>\n",
       "      <td>0.31</td>\n",
       "    </tr>\n",
       "  </tbody>\n",
       "</table>\n",
       "</div>"
      ],
      "text/plain": [
       "frequent_shopper     Frequent customer  Non-frequent customer  \\\n",
       "profile_flag                                                    \n",
       "Other Users                       0.41                   0.27   \n",
       "Two Parent Families               0.41                   0.28   \n",
       "\n",
       "frequent_shopper     Regular customer  \n",
       "profile_flag                           \n",
       "Other Users                      0.31  \n",
       "Two Parent Families              0.31  "
      ]
     },
     "execution_count": 84,
     "metadata": {},
     "output_type": "execute_result"
    }
   ],
   "source": [
    "# Create a cross tabulation to show the proportions of the profile\n",
    "# members with frequent_shopper\n",
    "cross_tab_prop_groups = pd.crosstab(index=df_user_subset['profile_flag'],\n",
    "                            columns=df_user_subset['frequent_shopper'],\n",
    "                            normalize='index')\n",
    "cross_tab_prop_groups"
   ]
  },
  {
   "cell_type": "markdown",
   "id": "4764e995",
   "metadata": {},
   "source": [
    "Since there is minimal difference in the percentage of different frequent_shopper flags based on whether someone is in this profile or not, there is no reason to do a visualization. "
   ]
  },
  {
   "cell_type": "code",
   "execution_count": 85,
   "id": "c4f33bf1",
   "metadata": {},
   "outputs": [],
   "source": [
    "# Reclaim space\n",
    "del cross_tab_prop_groups"
   ]
  },
  {
   "cell_type": "markdown",
   "id": "d2b1ece7",
   "metadata": {},
   "source": [
    "#### 0.6.2.E order_day_of_week"
   ]
  },
  {
   "cell_type": "code",
   "execution_count": 86,
   "id": "25f977d8",
   "metadata": {},
   "outputs": [
    {
     "data": {
      "text/html": [
       "<div>\n",
       "<style scoped>\n",
       "    .dataframe tbody tr th:only-of-type {\n",
       "        vertical-align: middle;\n",
       "    }\n",
       "\n",
       "    .dataframe tbody tr th {\n",
       "        vertical-align: top;\n",
       "    }\n",
       "\n",
       "    .dataframe thead th {\n",
       "        text-align: right;\n",
       "    }\n",
       "</style>\n",
       "<table border=\"1\" class=\"dataframe\">\n",
       "  <thead>\n",
       "    <tr style=\"text-align: right;\">\n",
       "      <th>order_day_of_week</th>\n",
       "      <th>0</th>\n",
       "      <th>1</th>\n",
       "      <th>2</th>\n",
       "      <th>3</th>\n",
       "      <th>4</th>\n",
       "      <th>5</th>\n",
       "      <th>6</th>\n",
       "    </tr>\n",
       "    <tr>\n",
       "      <th>two_parent_fam</th>\n",
       "      <th></th>\n",
       "      <th></th>\n",
       "      <th></th>\n",
       "      <th></th>\n",
       "      <th></th>\n",
       "      <th></th>\n",
       "      <th></th>\n",
       "    </tr>\n",
       "  </thead>\n",
       "  <tbody>\n",
       "    <tr>\n",
       "      <th>False</th>\n",
       "      <td>0.19</td>\n",
       "      <td>0.18</td>\n",
       "      <td>0.13</td>\n",
       "      <td>0.12</td>\n",
       "      <td>0.12</td>\n",
       "      <td>0.13</td>\n",
       "      <td>0.14</td>\n",
       "    </tr>\n",
       "    <tr>\n",
       "      <th>True</th>\n",
       "      <td>0.19</td>\n",
       "      <td>0.17</td>\n",
       "      <td>0.13</td>\n",
       "      <td>0.12</td>\n",
       "      <td>0.12</td>\n",
       "      <td>0.13</td>\n",
       "      <td>0.14</td>\n",
       "    </tr>\n",
       "  </tbody>\n",
       "</table>\n",
       "</div>"
      ],
      "text/plain": [
       "order_day_of_week    0    1    2    3    4    5    6\n",
       "two_parent_fam                                      \n",
       "False             0.19 0.18 0.13 0.12 0.12 0.13 0.14\n",
       "True              0.19 0.17 0.13 0.12 0.12 0.13 0.14"
      ]
     },
     "execution_count": 86,
     "metadata": {},
     "output_type": "execute_result"
    }
   ],
   "source": [
    "# Create a cross tabulation to show the proportions of the profile\n",
    "# members with order_day_of_week\n",
    "cross_tab_prop_groups = pd.crosstab(index=df[profile],\n",
    "                            columns=df['order_day_of_week'],\n",
    "                            normalize='index')\n",
    "cross_tab_prop_groups"
   ]
  },
  {
   "cell_type": "markdown",
   "id": "e321f280",
   "metadata": {},
   "source": [
    "Since there is minimal difference in the day of the week when a user orders based on whether someone is in this profile or not, there is no reason to do a visualization. "
   ]
  },
  {
   "cell_type": "code",
   "execution_count": 87,
   "id": "e3bd6893",
   "metadata": {},
   "outputs": [],
   "source": [
    "# Reclaim space\n",
    "del cross_tab_prop_groups"
   ]
  },
  {
   "cell_type": "markdown",
   "id": "ba26f3bc",
   "metadata": {},
   "source": [
    "#### 0.6.2.F order_hour_of_day"
   ]
  },
  {
   "cell_type": "code",
   "execution_count": 88,
   "id": "38422c0b",
   "metadata": {},
   "outputs": [
    {
     "data": {
      "text/html": [
       "<div>\n",
       "<style scoped>\n",
       "    .dataframe tbody tr th:only-of-type {\n",
       "        vertical-align: middle;\n",
       "    }\n",
       "\n",
       "    .dataframe tbody tr th {\n",
       "        vertical-align: top;\n",
       "    }\n",
       "\n",
       "    .dataframe thead th {\n",
       "        text-align: right;\n",
       "    }\n",
       "</style>\n",
       "<table border=\"1\" class=\"dataframe\">\n",
       "  <thead>\n",
       "    <tr style=\"text-align: right;\">\n",
       "      <th>order_hour_of_day</th>\n",
       "      <th>0</th>\n",
       "      <th>1</th>\n",
       "      <th>2</th>\n",
       "      <th>3</th>\n",
       "      <th>4</th>\n",
       "      <th>5</th>\n",
       "      <th>6</th>\n",
       "      <th>7</th>\n",
       "      <th>8</th>\n",
       "      <th>9</th>\n",
       "      <th>...</th>\n",
       "      <th>14</th>\n",
       "      <th>15</th>\n",
       "      <th>16</th>\n",
       "      <th>17</th>\n",
       "      <th>18</th>\n",
       "      <th>19</th>\n",
       "      <th>20</th>\n",
       "      <th>21</th>\n",
       "      <th>22</th>\n",
       "      <th>23</th>\n",
       "    </tr>\n",
       "    <tr>\n",
       "      <th>two_parent_fam</th>\n",
       "      <th></th>\n",
       "      <th></th>\n",
       "      <th></th>\n",
       "      <th></th>\n",
       "      <th></th>\n",
       "      <th></th>\n",
       "      <th></th>\n",
       "      <th></th>\n",
       "      <th></th>\n",
       "      <th></th>\n",
       "      <th></th>\n",
       "      <th></th>\n",
       "      <th></th>\n",
       "      <th></th>\n",
       "      <th></th>\n",
       "      <th></th>\n",
       "      <th></th>\n",
       "      <th></th>\n",
       "      <th></th>\n",
       "      <th></th>\n",
       "      <th></th>\n",
       "    </tr>\n",
       "  </thead>\n",
       "  <tbody>\n",
       "    <tr>\n",
       "      <th>False</th>\n",
       "      <td>0.01</td>\n",
       "      <td>0.00</td>\n",
       "      <td>0.00</td>\n",
       "      <td>0.00</td>\n",
       "      <td>0.00</td>\n",
       "      <td>0.00</td>\n",
       "      <td>0.01</td>\n",
       "      <td>0.03</td>\n",
       "      <td>0.05</td>\n",
       "      <td>0.08</td>\n",
       "      <td>...</td>\n",
       "      <td>0.08</td>\n",
       "      <td>0.08</td>\n",
       "      <td>0.08</td>\n",
       "      <td>0.06</td>\n",
       "      <td>0.05</td>\n",
       "      <td>0.04</td>\n",
       "      <td>0.03</td>\n",
       "      <td>0.02</td>\n",
       "      <td>0.02</td>\n",
       "      <td>0.01</td>\n",
       "    </tr>\n",
       "    <tr>\n",
       "      <th>True</th>\n",
       "      <td>0.01</td>\n",
       "      <td>0.00</td>\n",
       "      <td>0.00</td>\n",
       "      <td>0.00</td>\n",
       "      <td>0.00</td>\n",
       "      <td>0.00</td>\n",
       "      <td>0.01</td>\n",
       "      <td>0.03</td>\n",
       "      <td>0.05</td>\n",
       "      <td>0.08</td>\n",
       "      <td>...</td>\n",
       "      <td>0.08</td>\n",
       "      <td>0.08</td>\n",
       "      <td>0.08</td>\n",
       "      <td>0.06</td>\n",
       "      <td>0.05</td>\n",
       "      <td>0.04</td>\n",
       "      <td>0.03</td>\n",
       "      <td>0.02</td>\n",
       "      <td>0.02</td>\n",
       "      <td>0.01</td>\n",
       "    </tr>\n",
       "  </tbody>\n",
       "</table>\n",
       "<p>2 rows × 24 columns</p>\n",
       "</div>"
      ],
      "text/plain": [
       "order_hour_of_day   0    1    2    3    4    5    6    7    8    9   ...   14  \\\n",
       "two_parent_fam                                                       ...        \n",
       "False             0.01 0.00 0.00 0.00 0.00 0.00 0.01 0.03 0.05 0.08  ... 0.08   \n",
       "True              0.01 0.00 0.00 0.00 0.00 0.00 0.01 0.03 0.05 0.08  ... 0.08   \n",
       "\n",
       "order_hour_of_day   15   16   17   18   19   20   21   22   23  \n",
       "two_parent_fam                                                  \n",
       "False             0.08 0.08 0.06 0.05 0.04 0.03 0.02 0.02 0.01  \n",
       "True              0.08 0.08 0.06 0.05 0.04 0.03 0.02 0.02 0.01  \n",
       "\n",
       "[2 rows x 24 columns]"
      ]
     },
     "execution_count": 88,
     "metadata": {},
     "output_type": "execute_result"
    }
   ],
   "source": [
    "# Create a cross tabulation to show the proportions of the profile\n",
    "# members with order_hour_of_day\n",
    "cross_tab_prop_groups = pd.crosstab(index=df[profile],\n",
    "                            columns=df['order_hour_of_day'],\n",
    "                            normalize='index')\n",
    "cross_tab_prop_groups"
   ]
  },
  {
   "cell_type": "code",
   "execution_count": 89,
   "id": "17cca20c",
   "metadata": {},
   "outputs": [
    {
     "data": {
      "text/html": [
       "<div>\n",
       "<style scoped>\n",
       "    .dataframe tbody tr th:only-of-type {\n",
       "        vertical-align: middle;\n",
       "    }\n",
       "\n",
       "    .dataframe tbody tr th {\n",
       "        vertical-align: top;\n",
       "    }\n",
       "\n",
       "    .dataframe thead th {\n",
       "        text-align: right;\n",
       "    }\n",
       "</style>\n",
       "<table border=\"1\" class=\"dataframe\">\n",
       "  <thead>\n",
       "    <tr style=\"text-align: right;\">\n",
       "      <th>two_parent_fam</th>\n",
       "      <th>False</th>\n",
       "      <th>True</th>\n",
       "    </tr>\n",
       "    <tr>\n",
       "      <th>order_hour_of_day</th>\n",
       "      <th></th>\n",
       "      <th></th>\n",
       "    </tr>\n",
       "  </thead>\n",
       "  <tbody>\n",
       "    <tr>\n",
       "      <th>0</th>\n",
       "      <td>0.01</td>\n",
       "      <td>0.01</td>\n",
       "    </tr>\n",
       "    <tr>\n",
       "      <th>1</th>\n",
       "      <td>0.00</td>\n",
       "      <td>0.00</td>\n",
       "    </tr>\n",
       "    <tr>\n",
       "      <th>2</th>\n",
       "      <td>0.00</td>\n",
       "      <td>0.00</td>\n",
       "    </tr>\n",
       "    <tr>\n",
       "      <th>3</th>\n",
       "      <td>0.00</td>\n",
       "      <td>0.00</td>\n",
       "    </tr>\n",
       "    <tr>\n",
       "      <th>4</th>\n",
       "      <td>0.00</td>\n",
       "      <td>0.00</td>\n",
       "    </tr>\n",
       "    <tr>\n",
       "      <th>5</th>\n",
       "      <td>0.00</td>\n",
       "      <td>0.00</td>\n",
       "    </tr>\n",
       "    <tr>\n",
       "      <th>6</th>\n",
       "      <td>0.01</td>\n",
       "      <td>0.01</td>\n",
       "    </tr>\n",
       "    <tr>\n",
       "      <th>7</th>\n",
       "      <td>0.03</td>\n",
       "      <td>0.03</td>\n",
       "    </tr>\n",
       "    <tr>\n",
       "      <th>8</th>\n",
       "      <td>0.05</td>\n",
       "      <td>0.05</td>\n",
       "    </tr>\n",
       "    <tr>\n",
       "      <th>9</th>\n",
       "      <td>0.08</td>\n",
       "      <td>0.08</td>\n",
       "    </tr>\n",
       "    <tr>\n",
       "      <th>10</th>\n",
       "      <td>0.08</td>\n",
       "      <td>0.09</td>\n",
       "    </tr>\n",
       "    <tr>\n",
       "      <th>11</th>\n",
       "      <td>0.08</td>\n",
       "      <td>0.08</td>\n",
       "    </tr>\n",
       "    <tr>\n",
       "      <th>12</th>\n",
       "      <td>0.08</td>\n",
       "      <td>0.08</td>\n",
       "    </tr>\n",
       "    <tr>\n",
       "      <th>13</th>\n",
       "      <td>0.08</td>\n",
       "      <td>0.08</td>\n",
       "    </tr>\n",
       "    <tr>\n",
       "      <th>14</th>\n",
       "      <td>0.08</td>\n",
       "      <td>0.08</td>\n",
       "    </tr>\n",
       "    <tr>\n",
       "      <th>15</th>\n",
       "      <td>0.08</td>\n",
       "      <td>0.08</td>\n",
       "    </tr>\n",
       "    <tr>\n",
       "      <th>16</th>\n",
       "      <td>0.08</td>\n",
       "      <td>0.08</td>\n",
       "    </tr>\n",
       "    <tr>\n",
       "      <th>17</th>\n",
       "      <td>0.06</td>\n",
       "      <td>0.06</td>\n",
       "    </tr>\n",
       "    <tr>\n",
       "      <th>18</th>\n",
       "      <td>0.05</td>\n",
       "      <td>0.05</td>\n",
       "    </tr>\n",
       "    <tr>\n",
       "      <th>19</th>\n",
       "      <td>0.04</td>\n",
       "      <td>0.04</td>\n",
       "    </tr>\n",
       "    <tr>\n",
       "      <th>20</th>\n",
       "      <td>0.03</td>\n",
       "      <td>0.03</td>\n",
       "    </tr>\n",
       "    <tr>\n",
       "      <th>21</th>\n",
       "      <td>0.02</td>\n",
       "      <td>0.02</td>\n",
       "    </tr>\n",
       "    <tr>\n",
       "      <th>22</th>\n",
       "      <td>0.02</td>\n",
       "      <td>0.02</td>\n",
       "    </tr>\n",
       "    <tr>\n",
       "      <th>23</th>\n",
       "      <td>0.01</td>\n",
       "      <td>0.01</td>\n",
       "    </tr>\n",
       "  </tbody>\n",
       "</table>\n",
       "</div>"
      ],
      "text/plain": [
       "two_parent_fam     False  True\n",
       "order_hour_of_day             \n",
       "0                   0.01  0.01\n",
       "1                   0.00  0.00\n",
       "2                   0.00  0.00\n",
       "3                   0.00  0.00\n",
       "4                   0.00  0.00\n",
       "5                   0.00  0.00\n",
       "6                   0.01  0.01\n",
       "7                   0.03  0.03\n",
       "8                   0.05  0.05\n",
       "9                   0.08  0.08\n",
       "10                  0.08  0.09\n",
       "11                  0.08  0.08\n",
       "12                  0.08  0.08\n",
       "13                  0.08  0.08\n",
       "14                  0.08  0.08\n",
       "15                  0.08  0.08\n",
       "16                  0.08  0.08\n",
       "17                  0.06  0.06\n",
       "18                  0.05  0.05\n",
       "19                  0.04  0.04\n",
       "20                  0.03  0.03\n",
       "21                  0.02  0.02\n",
       "22                  0.02  0.02\n",
       "23                  0.01  0.01"
      ]
     },
     "execution_count": 89,
     "metadata": {},
     "output_type": "execute_result"
    }
   ],
   "source": [
    "# Transpose the data to allow for easier examination\n",
    "cross_tab_prop_groups.transpose()"
   ]
  },
  {
   "cell_type": "markdown",
   "id": "fbc3d8b4",
   "metadata": {},
   "source": [
    "Since there is no difference in the hour of day when a user orders based on whether someone is in this profile or not, there is no reason to do a visualization. "
   ]
  },
  {
   "cell_type": "code",
   "execution_count": 90,
   "id": "0dce6588",
   "metadata": {},
   "outputs": [],
   "source": [
    "# Reclaim space\n",
    "del cross_tab_prop_groups"
   ]
  },
  {
   "cell_type": "markdown",
   "id": "ad4581a2",
   "metadata": {},
   "source": [
    "#### 0.6.2.G most popular departments by number of items"
   ]
  },
  {
   "cell_type": "code",
   "execution_count": 91,
   "id": "320f0397",
   "metadata": {},
   "outputs": [
    {
     "data": {
      "text/html": [
       "<div>\n",
       "<style scoped>\n",
       "    .dataframe tbody tr th:only-of-type {\n",
       "        vertical-align: middle;\n",
       "    }\n",
       "\n",
       "    .dataframe tbody tr th {\n",
       "        vertical-align: top;\n",
       "    }\n",
       "\n",
       "    .dataframe thead th {\n",
       "        text-align: right;\n",
       "    }\n",
       "</style>\n",
       "<table border=\"1\" class=\"dataframe\">\n",
       "  <thead>\n",
       "    <tr style=\"text-align: right;\">\n",
       "      <th>department_id</th>\n",
       "      <th>1.00</th>\n",
       "      <th>2.00</th>\n",
       "      <th>3.00</th>\n",
       "      <th>4.00</th>\n",
       "      <th>5.00</th>\n",
       "      <th>6.00</th>\n",
       "      <th>7.00</th>\n",
       "      <th>8.00</th>\n",
       "      <th>9.00</th>\n",
       "      <th>10.00</th>\n",
       "      <th>...</th>\n",
       "      <th>12.00</th>\n",
       "      <th>13.00</th>\n",
       "      <th>14.00</th>\n",
       "      <th>15.00</th>\n",
       "      <th>16.00</th>\n",
       "      <th>17.00</th>\n",
       "      <th>18.00</th>\n",
       "      <th>19.00</th>\n",
       "      <th>20.00</th>\n",
       "      <th>21.00</th>\n",
       "    </tr>\n",
       "    <tr>\n",
       "      <th>two_parent_fam</th>\n",
       "      <th></th>\n",
       "      <th></th>\n",
       "      <th></th>\n",
       "      <th></th>\n",
       "      <th></th>\n",
       "      <th></th>\n",
       "      <th></th>\n",
       "      <th></th>\n",
       "      <th></th>\n",
       "      <th></th>\n",
       "      <th></th>\n",
       "      <th></th>\n",
       "      <th></th>\n",
       "      <th></th>\n",
       "      <th></th>\n",
       "      <th></th>\n",
       "      <th></th>\n",
       "      <th></th>\n",
       "      <th></th>\n",
       "      <th></th>\n",
       "      <th></th>\n",
       "    </tr>\n",
       "  </thead>\n",
       "  <tbody>\n",
       "    <tr>\n",
       "      <th>False</th>\n",
       "      <td>0.07</td>\n",
       "      <td>0.00</td>\n",
       "      <td>0.04</td>\n",
       "      <td>0.29</td>\n",
       "      <td>0.00</td>\n",
       "      <td>0.01</td>\n",
       "      <td>0.08</td>\n",
       "      <td>0.00</td>\n",
       "      <td>0.03</td>\n",
       "      <td>0.00</td>\n",
       "      <td>...</td>\n",
       "      <td>0.02</td>\n",
       "      <td>0.06</td>\n",
       "      <td>0.02</td>\n",
       "      <td>0.03</td>\n",
       "      <td>0.17</td>\n",
       "      <td>0.02</td>\n",
       "      <td>0.01</td>\n",
       "      <td>0.09</td>\n",
       "      <td>0.03</td>\n",
       "      <td>0.00</td>\n",
       "    </tr>\n",
       "    <tr>\n",
       "      <th>True</th>\n",
       "      <td>0.07</td>\n",
       "      <td>0.00</td>\n",
       "      <td>0.04</td>\n",
       "      <td>0.29</td>\n",
       "      <td>0.00</td>\n",
       "      <td>0.01</td>\n",
       "      <td>0.08</td>\n",
       "      <td>0.00</td>\n",
       "      <td>0.03</td>\n",
       "      <td>0.00</td>\n",
       "      <td>...</td>\n",
       "      <td>0.02</td>\n",
       "      <td>0.06</td>\n",
       "      <td>0.02</td>\n",
       "      <td>0.03</td>\n",
       "      <td>0.17</td>\n",
       "      <td>0.02</td>\n",
       "      <td>0.01</td>\n",
       "      <td>0.09</td>\n",
       "      <td>0.03</td>\n",
       "      <td>0.00</td>\n",
       "    </tr>\n",
       "  </tbody>\n",
       "</table>\n",
       "<p>2 rows × 21 columns</p>\n",
       "</div>"
      ],
      "text/plain": [
       "department_id   1.00   2.00   3.00   4.00   5.00   6.00   7.00   8.00   9.00   \\\n",
       "two_parent_fam                                                                  \n",
       "False            0.07   0.00   0.04   0.29   0.00   0.01   0.08   0.00   0.03   \n",
       "True             0.07   0.00   0.04   0.29   0.00   0.01   0.08   0.00   0.03   \n",
       "\n",
       "department_id   10.00  ...  12.00  13.00  14.00  15.00  16.00  17.00  18.00  \\\n",
       "two_parent_fam         ...                                                    \n",
       "False            0.00  ...   0.02   0.06   0.02   0.03   0.17   0.02   0.01   \n",
       "True             0.00  ...   0.02   0.06   0.02   0.03   0.17   0.02   0.01   \n",
       "\n",
       "department_id   19.00  20.00  21.00  \n",
       "two_parent_fam                       \n",
       "False            0.09   0.03   0.00  \n",
       "True             0.09   0.03   0.00  \n",
       "\n",
       "[2 rows x 21 columns]"
      ]
     },
     "execution_count": 91,
     "metadata": {},
     "output_type": "execute_result"
    }
   ],
   "source": [
    "# Create a cross tabulation to show the proportions of the profile\n",
    "# members with department_id to see which departments sold the most items\n",
    "# for the profile and not-profile groups.\n",
    "cross_tab_prop_groups = pd.crosstab(index=df[profile],\n",
    "                            columns=df['department_id'],\n",
    "                            normalize='index')\n",
    "cross_tab_prop_groups"
   ]
  },
  {
   "cell_type": "code",
   "execution_count": 92,
   "id": "2fb8dc1a",
   "metadata": {},
   "outputs": [
    {
     "data": {
      "text/html": [
       "<div>\n",
       "<style scoped>\n",
       "    .dataframe tbody tr th:only-of-type {\n",
       "        vertical-align: middle;\n",
       "    }\n",
       "\n",
       "    .dataframe tbody tr th {\n",
       "        vertical-align: top;\n",
       "    }\n",
       "\n",
       "    .dataframe thead th {\n",
       "        text-align: right;\n",
       "    }\n",
       "</style>\n",
       "<table border=\"1\" class=\"dataframe\">\n",
       "  <thead>\n",
       "    <tr style=\"text-align: right;\">\n",
       "      <th>two_parent_fam</th>\n",
       "      <th>False</th>\n",
       "      <th>True</th>\n",
       "    </tr>\n",
       "    <tr>\n",
       "      <th>department_id</th>\n",
       "      <th></th>\n",
       "      <th></th>\n",
       "    </tr>\n",
       "  </thead>\n",
       "  <tbody>\n",
       "    <tr>\n",
       "      <th>1.00</th>\n",
       "      <td>0.07</td>\n",
       "      <td>0.07</td>\n",
       "    </tr>\n",
       "    <tr>\n",
       "      <th>2.00</th>\n",
       "      <td>0.00</td>\n",
       "      <td>0.00</td>\n",
       "    </tr>\n",
       "    <tr>\n",
       "      <th>3.00</th>\n",
       "      <td>0.04</td>\n",
       "      <td>0.04</td>\n",
       "    </tr>\n",
       "    <tr>\n",
       "      <th>4.00</th>\n",
       "      <td>0.29</td>\n",
       "      <td>0.29</td>\n",
       "    </tr>\n",
       "    <tr>\n",
       "      <th>5.00</th>\n",
       "      <td>0.00</td>\n",
       "      <td>0.00</td>\n",
       "    </tr>\n",
       "    <tr>\n",
       "      <th>6.00</th>\n",
       "      <td>0.01</td>\n",
       "      <td>0.01</td>\n",
       "    </tr>\n",
       "    <tr>\n",
       "      <th>7.00</th>\n",
       "      <td>0.08</td>\n",
       "      <td>0.08</td>\n",
       "    </tr>\n",
       "    <tr>\n",
       "      <th>8.00</th>\n",
       "      <td>0.00</td>\n",
       "      <td>0.00</td>\n",
       "    </tr>\n",
       "    <tr>\n",
       "      <th>9.00</th>\n",
       "      <td>0.03</td>\n",
       "      <td>0.03</td>\n",
       "    </tr>\n",
       "    <tr>\n",
       "      <th>10.00</th>\n",
       "      <td>0.00</td>\n",
       "      <td>0.00</td>\n",
       "    </tr>\n",
       "    <tr>\n",
       "      <th>11.00</th>\n",
       "      <td>0.01</td>\n",
       "      <td>0.01</td>\n",
       "    </tr>\n",
       "    <tr>\n",
       "      <th>12.00</th>\n",
       "      <td>0.02</td>\n",
       "      <td>0.02</td>\n",
       "    </tr>\n",
       "    <tr>\n",
       "      <th>13.00</th>\n",
       "      <td>0.06</td>\n",
       "      <td>0.06</td>\n",
       "    </tr>\n",
       "    <tr>\n",
       "      <th>14.00</th>\n",
       "      <td>0.02</td>\n",
       "      <td>0.02</td>\n",
       "    </tr>\n",
       "    <tr>\n",
       "      <th>15.00</th>\n",
       "      <td>0.03</td>\n",
       "      <td>0.03</td>\n",
       "    </tr>\n",
       "    <tr>\n",
       "      <th>16.00</th>\n",
       "      <td>0.17</td>\n",
       "      <td>0.17</td>\n",
       "    </tr>\n",
       "    <tr>\n",
       "      <th>17.00</th>\n",
       "      <td>0.02</td>\n",
       "      <td>0.02</td>\n",
       "    </tr>\n",
       "    <tr>\n",
       "      <th>18.00</th>\n",
       "      <td>0.01</td>\n",
       "      <td>0.01</td>\n",
       "    </tr>\n",
       "    <tr>\n",
       "      <th>19.00</th>\n",
       "      <td>0.09</td>\n",
       "      <td>0.09</td>\n",
       "    </tr>\n",
       "    <tr>\n",
       "      <th>20.00</th>\n",
       "      <td>0.03</td>\n",
       "      <td>0.03</td>\n",
       "    </tr>\n",
       "    <tr>\n",
       "      <th>21.00</th>\n",
       "      <td>0.00</td>\n",
       "      <td>0.00</td>\n",
       "    </tr>\n",
       "  </tbody>\n",
       "</table>\n",
       "</div>"
      ],
      "text/plain": [
       "two_parent_fam  False  True\n",
       "department_id              \n",
       "1.00             0.07  0.07\n",
       "2.00             0.00  0.00\n",
       "3.00             0.04  0.04\n",
       "4.00             0.29  0.29\n",
       "5.00             0.00  0.00\n",
       "6.00             0.01  0.01\n",
       "7.00             0.08  0.08\n",
       "8.00             0.00  0.00\n",
       "9.00             0.03  0.03\n",
       "10.00            0.00  0.00\n",
       "11.00            0.01  0.01\n",
       "12.00            0.02  0.02\n",
       "13.00            0.06  0.06\n",
       "14.00            0.02  0.02\n",
       "15.00            0.03  0.03\n",
       "16.00            0.17  0.17\n",
       "17.00            0.02  0.02\n",
       "18.00            0.01  0.01\n",
       "19.00            0.09  0.09\n",
       "20.00            0.03  0.03\n",
       "21.00            0.00  0.00"
      ]
     },
     "execution_count": 92,
     "metadata": {},
     "output_type": "execute_result"
    }
   ],
   "source": [
    "cross_tab_prop_groups.transpose()"
   ]
  },
  {
   "cell_type": "markdown",
   "id": "7648eb91",
   "metadata": {},
   "source": [
    "Since there is no difference in which departments a user orders from based on whether someone is in this profile or not, there is no reason to do a visualization."
   ]
  },
  {
   "cell_type": "code",
   "execution_count": 93,
   "id": "9769e556",
   "metadata": {},
   "outputs": [],
   "source": [
    "# Reclaim space\n",
    "del cross_tab_prop_groups"
   ]
  },
  {
   "cell_type": "markdown",
   "id": "ccee440e",
   "metadata": {},
   "source": [
    "#### 0.6.2.H most popular departments by amount spent"
   ]
  },
  {
   "cell_type": "code",
   "execution_count": 95,
   "id": "1d4f0d05",
   "metadata": {},
   "outputs": [],
   "source": [
    "# Create a temporary dataframe to hold the spending by profile for each dept\n",
    "temp = df.groupby(['department_id', profile]).price.sum()"
   ]
  },
  {
   "cell_type": "code",
   "execution_count": 96,
   "id": "2165492a",
   "metadata": {},
   "outputs": [],
   "source": [
    "profile_spend_by_dept = pd.DataFrame(temp)"
   ]
  },
  {
   "cell_type": "code",
   "execution_count": 97,
   "id": "105e3788",
   "metadata": {},
   "outputs": [
    {
     "data": {
      "text/plain": [
       "(42, 1)"
      ]
     },
     "execution_count": 97,
     "metadata": {},
     "output_type": "execute_result"
    }
   ],
   "source": [
    "profile_spend_by_dept.shape"
   ]
  },
  {
   "cell_type": "code",
   "execution_count": 98,
   "id": "1e625973",
   "metadata": {},
   "outputs": [
    {
     "data": {
      "text/html": [
       "<div>\n",
       "<style scoped>\n",
       "    .dataframe tbody tr th:only-of-type {\n",
       "        vertical-align: middle;\n",
       "    }\n",
       "\n",
       "    .dataframe tbody tr th {\n",
       "        vertical-align: top;\n",
       "    }\n",
       "\n",
       "    .dataframe thead th {\n",
       "        text-align: right;\n",
       "    }\n",
       "</style>\n",
       "<table border=\"1\" class=\"dataframe\">\n",
       "  <thead>\n",
       "    <tr style=\"text-align: right;\">\n",
       "      <th></th>\n",
       "      <th></th>\n",
       "      <th>price</th>\n",
       "    </tr>\n",
       "    <tr>\n",
       "      <th>department_id</th>\n",
       "      <th>two_parent_fam</th>\n",
       "      <th></th>\n",
       "    </tr>\n",
       "  </thead>\n",
       "  <tbody>\n",
       "    <tr>\n",
       "      <th rowspan=\"2\" valign=\"top\">1.00</th>\n",
       "      <th>False</th>\n",
       "      <td>5,149,296.50</td>\n",
       "    </tr>\n",
       "    <tr>\n",
       "      <th>True</th>\n",
       "      <td>12,139,910.00</td>\n",
       "    </tr>\n",
       "    <tr>\n",
       "      <th rowspan=\"2\" valign=\"top\">2.00</th>\n",
       "      <th>False</th>\n",
       "      <td>77,137.10</td>\n",
       "    </tr>\n",
       "    <tr>\n",
       "      <th>True</th>\n",
       "      <td>176,570.91</td>\n",
       "    </tr>\n",
       "    <tr>\n",
       "      <th>3.00</th>\n",
       "      <th>False</th>\n",
       "      <td>2,748,921.00</td>\n",
       "    </tr>\n",
       "  </tbody>\n",
       "</table>\n",
       "</div>"
      ],
      "text/plain": [
       "                                     price\n",
       "department_id two_parent_fam              \n",
       "1.00          False           5,149,296.50\n",
       "              True           12,139,910.00\n",
       "2.00          False              77,137.10\n",
       "              True              176,570.91\n",
       "3.00          False           2,748,921.00"
      ]
     },
     "execution_count": 98,
     "metadata": {},
     "output_type": "execute_result"
    }
   ],
   "source": [
    "profile_spend_by_dept.head()"
   ]
  },
  {
   "cell_type": "code",
   "execution_count": 99,
   "id": "08a0d6ae",
   "metadata": {},
   "outputs": [],
   "source": [
    "# Rename column for clarity\n",
    "profile_spend_by_dept.rename(columns={'price':'total_spent'}, inplace=True)"
   ]
  },
  {
   "cell_type": "code",
   "execution_count": 100,
   "id": "2c7d3e03",
   "metadata": {},
   "outputs": [],
   "source": [
    "# Reset the index so that the correct column headers will appear\n",
    "profile_spend_by_dept = pd.DataFrame(profile_spend_by_dept).reset_index()"
   ]
  },
  {
   "cell_type": "code",
   "execution_count": 101,
   "id": "b2bfc45d",
   "metadata": {},
   "outputs": [
    {
     "data": {
      "text/html": [
       "<div>\n",
       "<style scoped>\n",
       "    .dataframe tbody tr th:only-of-type {\n",
       "        vertical-align: middle;\n",
       "    }\n",
       "\n",
       "    .dataframe tbody tr th {\n",
       "        vertical-align: top;\n",
       "    }\n",
       "\n",
       "    .dataframe thead th {\n",
       "        text-align: right;\n",
       "    }\n",
       "</style>\n",
       "<table border=\"1\" class=\"dataframe\">\n",
       "  <thead>\n",
       "    <tr style=\"text-align: right;\">\n",
       "      <th></th>\n",
       "      <th>department_id</th>\n",
       "      <th>two_parent_fam</th>\n",
       "      <th>total_spent</th>\n",
       "    </tr>\n",
       "  </thead>\n",
       "  <tbody>\n",
       "    <tr>\n",
       "      <th>0</th>\n",
       "      <td>1.00</td>\n",
       "      <td>False</td>\n",
       "      <td>5,149,296.50</td>\n",
       "    </tr>\n",
       "    <tr>\n",
       "      <th>1</th>\n",
       "      <td>1.00</td>\n",
       "      <td>True</td>\n",
       "      <td>12,139,910.00</td>\n",
       "    </tr>\n",
       "    <tr>\n",
       "      <th>2</th>\n",
       "      <td>2.00</td>\n",
       "      <td>False</td>\n",
       "      <td>77,137.10</td>\n",
       "    </tr>\n",
       "    <tr>\n",
       "      <th>3</th>\n",
       "      <td>2.00</td>\n",
       "      <td>True</td>\n",
       "      <td>176,570.91</td>\n",
       "    </tr>\n",
       "    <tr>\n",
       "      <th>4</th>\n",
       "      <td>3.00</td>\n",
       "      <td>False</td>\n",
       "      <td>2,748,921.00</td>\n",
       "    </tr>\n",
       "  </tbody>\n",
       "</table>\n",
       "</div>"
      ],
      "text/plain": [
       "   department_id  two_parent_fam   total_spent\n",
       "0           1.00           False  5,149,296.50\n",
       "1           1.00            True 12,139,910.00\n",
       "2           2.00           False     77,137.10\n",
       "3           2.00            True    176,570.91\n",
       "4           3.00           False  2,748,921.00"
      ]
     },
     "execution_count": 101,
     "metadata": {},
     "output_type": "execute_result"
    }
   ],
   "source": [
    "profile_spend_by_dept.head()"
   ]
  },
  {
   "cell_type": "code",
   "execution_count": 102,
   "id": "728e212d",
   "metadata": {},
   "outputs": [],
   "source": [
    "# Adding a column with profile-specific labels for clarity in the viz\n",
    "profile_spend_by_dept.loc[profile_spend_by_dept[profile] == True, 'profile_flag'] = profile_label\n",
    "profile_spend_by_dept.loc[profile_spend_by_dept[profile] == False, 'profile_flag'] = not_profile_label"
   ]
  },
  {
   "cell_type": "code",
   "execution_count": 103,
   "id": "303f6ac3",
   "metadata": {},
   "outputs": [
    {
     "data": {
      "text/html": [
       "<div>\n",
       "<style scoped>\n",
       "    .dataframe tbody tr th:only-of-type {\n",
       "        vertical-align: middle;\n",
       "    }\n",
       "\n",
       "    .dataframe tbody tr th {\n",
       "        vertical-align: top;\n",
       "    }\n",
       "\n",
       "    .dataframe thead th {\n",
       "        text-align: right;\n",
       "    }\n",
       "</style>\n",
       "<table border=\"1\" class=\"dataframe\">\n",
       "  <thead>\n",
       "    <tr style=\"text-align: right;\">\n",
       "      <th></th>\n",
       "      <th>department_id</th>\n",
       "      <th>two_parent_fam</th>\n",
       "      <th>total_spent</th>\n",
       "      <th>profile_flag</th>\n",
       "    </tr>\n",
       "  </thead>\n",
       "  <tbody>\n",
       "    <tr>\n",
       "      <th>0</th>\n",
       "      <td>1.00</td>\n",
       "      <td>False</td>\n",
       "      <td>5,149,296.50</td>\n",
       "      <td>Other Users</td>\n",
       "    </tr>\n",
       "    <tr>\n",
       "      <th>1</th>\n",
       "      <td>1.00</td>\n",
       "      <td>True</td>\n",
       "      <td>12,139,910.00</td>\n",
       "      <td>Two Parent Families</td>\n",
       "    </tr>\n",
       "    <tr>\n",
       "      <th>2</th>\n",
       "      <td>2.00</td>\n",
       "      <td>False</td>\n",
       "      <td>77,137.10</td>\n",
       "      <td>Other Users</td>\n",
       "    </tr>\n",
       "    <tr>\n",
       "      <th>3</th>\n",
       "      <td>2.00</td>\n",
       "      <td>True</td>\n",
       "      <td>176,570.91</td>\n",
       "      <td>Two Parent Families</td>\n",
       "    </tr>\n",
       "    <tr>\n",
       "      <th>4</th>\n",
       "      <td>3.00</td>\n",
       "      <td>False</td>\n",
       "      <td>2,748,921.00</td>\n",
       "      <td>Other Users</td>\n",
       "    </tr>\n",
       "  </tbody>\n",
       "</table>\n",
       "</div>"
      ],
      "text/plain": [
       "   department_id  two_parent_fam   total_spent         profile_flag\n",
       "0           1.00           False  5,149,296.50          Other Users\n",
       "1           1.00            True 12,139,910.00  Two Parent Families\n",
       "2           2.00           False     77,137.10          Other Users\n",
       "3           2.00            True    176,570.91  Two Parent Families\n",
       "4           3.00           False  2,748,921.00          Other Users"
      ]
     },
     "execution_count": 103,
     "metadata": {},
     "output_type": "execute_result"
    }
   ],
   "source": [
    "profile_spend_by_dept.head()"
   ]
  },
  {
   "cell_type": "code",
   "execution_count": 104,
   "id": "3a9552c7",
   "metadata": {},
   "outputs": [],
   "source": [
    "# Drop the unnecessary column\n",
    "profile_spend_by_dept = profile_spend_by_dept.drop(columns=profile)"
   ]
  },
  {
   "cell_type": "code",
   "execution_count": 105,
   "id": "0f354cfb",
   "metadata": {
    "scrolled": true
   },
   "outputs": [
    {
     "data": {
      "text/html": [
       "<div>\n",
       "<style scoped>\n",
       "    .dataframe tbody tr th:only-of-type {\n",
       "        vertical-align: middle;\n",
       "    }\n",
       "\n",
       "    .dataframe tbody tr th {\n",
       "        vertical-align: top;\n",
       "    }\n",
       "\n",
       "    .dataframe thead th {\n",
       "        text-align: right;\n",
       "    }\n",
       "</style>\n",
       "<table border=\"1\" class=\"dataframe\">\n",
       "  <thead>\n",
       "    <tr style=\"text-align: right;\">\n",
       "      <th></th>\n",
       "      <th>department_id</th>\n",
       "      <th>total_spent</th>\n",
       "      <th>profile_flag</th>\n",
       "    </tr>\n",
       "  </thead>\n",
       "  <tbody>\n",
       "    <tr>\n",
       "      <th>0</th>\n",
       "      <td>1.00</td>\n",
       "      <td>5,149,296.50</td>\n",
       "      <td>Other Users</td>\n",
       "    </tr>\n",
       "    <tr>\n",
       "      <th>1</th>\n",
       "      <td>1.00</td>\n",
       "      <td>12,139,910.00</td>\n",
       "      <td>Two Parent Families</td>\n",
       "    </tr>\n",
       "    <tr>\n",
       "      <th>2</th>\n",
       "      <td>2.00</td>\n",
       "      <td>77,137.10</td>\n",
       "      <td>Other Users</td>\n",
       "    </tr>\n",
       "    <tr>\n",
       "      <th>3</th>\n",
       "      <td>2.00</td>\n",
       "      <td>176,570.91</td>\n",
       "      <td>Two Parent Families</td>\n",
       "    </tr>\n",
       "    <tr>\n",
       "      <th>4</th>\n",
       "      <td>3.00</td>\n",
       "      <td>2,748,921.00</td>\n",
       "      <td>Other Users</td>\n",
       "    </tr>\n",
       "  </tbody>\n",
       "</table>\n",
       "</div>"
      ],
      "text/plain": [
       "   department_id   total_spent         profile_flag\n",
       "0           1.00  5,149,296.50          Other Users\n",
       "1           1.00 12,139,910.00  Two Parent Families\n",
       "2           2.00     77,137.10          Other Users\n",
       "3           2.00    176,570.91  Two Parent Families\n",
       "4           3.00  2,748,921.00          Other Users"
      ]
     },
     "execution_count": 105,
     "metadata": {},
     "output_type": "execute_result"
    }
   ],
   "source": [
    "profile_spend_by_dept.head()"
   ]
  },
  {
   "cell_type": "code",
   "execution_count": 106,
   "id": "ebaa11aa",
   "metadata": {},
   "outputs": [],
   "source": [
    "# Adjusting department_id datatype to match that of dept_data\n",
    "profile_spend_by_dept['department_id'] = profile_spend_by_dept['department_id'].astype('int8')"
   ]
  },
  {
   "cell_type": "code",
   "execution_count": 107,
   "id": "463032f9",
   "metadata": {},
   "outputs": [
    {
     "data": {
      "text/html": [
       "<div>\n",
       "<style scoped>\n",
       "    .dataframe tbody tr th:only-of-type {\n",
       "        vertical-align: middle;\n",
       "    }\n",
       "\n",
       "    .dataframe tbody tr th {\n",
       "        vertical-align: top;\n",
       "    }\n",
       "\n",
       "    .dataframe thead th {\n",
       "        text-align: right;\n",
       "    }\n",
       "</style>\n",
       "<table border=\"1\" class=\"dataframe\">\n",
       "  <thead>\n",
       "    <tr style=\"text-align: right;\">\n",
       "      <th></th>\n",
       "      <th>department_id</th>\n",
       "      <th>total_spent</th>\n",
       "      <th>profile_flag</th>\n",
       "    </tr>\n",
       "  </thead>\n",
       "  <tbody>\n",
       "    <tr>\n",
       "      <th>0</th>\n",
       "      <td>1</td>\n",
       "      <td>5,149,296.50</td>\n",
       "      <td>Other Users</td>\n",
       "    </tr>\n",
       "    <tr>\n",
       "      <th>1</th>\n",
       "      <td>1</td>\n",
       "      <td>12,139,910.00</td>\n",
       "      <td>Two Parent Families</td>\n",
       "    </tr>\n",
       "    <tr>\n",
       "      <th>2</th>\n",
       "      <td>2</td>\n",
       "      <td>77,137.10</td>\n",
       "      <td>Other Users</td>\n",
       "    </tr>\n",
       "    <tr>\n",
       "      <th>3</th>\n",
       "      <td>2</td>\n",
       "      <td>176,570.91</td>\n",
       "      <td>Two Parent Families</td>\n",
       "    </tr>\n",
       "    <tr>\n",
       "      <th>4</th>\n",
       "      <td>3</td>\n",
       "      <td>2,748,921.00</td>\n",
       "      <td>Other Users</td>\n",
       "    </tr>\n",
       "  </tbody>\n",
       "</table>\n",
       "</div>"
      ],
      "text/plain": [
       "   department_id   total_spent         profile_flag\n",
       "0              1  5,149,296.50          Other Users\n",
       "1              1 12,139,910.00  Two Parent Families\n",
       "2              2     77,137.10          Other Users\n",
       "3              2    176,570.91  Two Parent Families\n",
       "4              3  2,748,921.00          Other Users"
      ]
     },
     "execution_count": 107,
     "metadata": {},
     "output_type": "execute_result"
    }
   ],
   "source": [
    "profile_spend_by_dept.head()"
   ]
  },
  {
   "cell_type": "code",
   "execution_count": 108,
   "id": "3e265ac0",
   "metadata": {
    "scrolled": true
   },
   "outputs": [
    {
     "data": {
      "text/html": [
       "<div>\n",
       "<style scoped>\n",
       "    .dataframe tbody tr th:only-of-type {\n",
       "        vertical-align: middle;\n",
       "    }\n",
       "\n",
       "    .dataframe tbody tr th {\n",
       "        vertical-align: top;\n",
       "    }\n",
       "\n",
       "    .dataframe thead th {\n",
       "        text-align: right;\n",
       "    }\n",
       "</style>\n",
       "<table border=\"1\" class=\"dataframe\">\n",
       "  <thead>\n",
       "    <tr style=\"text-align: right;\">\n",
       "      <th></th>\n",
       "      <th>department</th>\n",
       "      <th>department_id</th>\n",
       "      <th>total_items_sold_by_dept</th>\n",
       "      <th>total_spent_in_dept</th>\n",
       "      <th>avg_price_per_item_in_dept</th>\n",
       "      <th>total_orders_from_dept</th>\n",
       "      <th>avg_items_per_order_by_dept</th>\n",
       "      <th>n_unique_items_in_dept</th>\n",
       "    </tr>\n",
       "  </thead>\n",
       "  <tbody>\n",
       "    <tr>\n",
       "      <th>0</th>\n",
       "      <td>frozen</td>\n",
       "      <td>1</td>\n",
       "      <td>2234743</td>\n",
       "      <td>17,289,206.00</td>\n",
       "      <td>7.74</td>\n",
       "      <td>1180461</td>\n",
       "      <td>1.89</td>\n",
       "      <td>4006</td>\n",
       "    </tr>\n",
       "    <tr>\n",
       "      <th>1</th>\n",
       "      <td>other</td>\n",
       "      <td>2</td>\n",
       "      <td>36291</td>\n",
       "      <td>253,708.00</td>\n",
       "      <td>6.99</td>\n",
       "      <td>35056</td>\n",
       "      <td>1.04</td>\n",
       "      <td>548</td>\n",
       "    </tr>\n",
       "    <tr>\n",
       "      <th>2</th>\n",
       "      <td>bakery</td>\n",
       "      <td>3</td>\n",
       "      <td>1172428</td>\n",
       "      <td>9,208,026.00</td>\n",
       "      <td>7.85</td>\n",
       "      <td>878658</td>\n",
       "      <td>1.33</td>\n",
       "      <td>1515</td>\n",
       "    </tr>\n",
       "    <tr>\n",
       "      <th>3</th>\n",
       "      <td>produce</td>\n",
       "      <td>4</td>\n",
       "      <td>9479291</td>\n",
       "      <td>75,660,936.00</td>\n",
       "      <td>7.98</td>\n",
       "      <td>2409320</td>\n",
       "      <td>3.93</td>\n",
       "      <td>1684</td>\n",
       "    </tr>\n",
       "    <tr>\n",
       "      <th>4</th>\n",
       "      <td>alcohol</td>\n",
       "      <td>5</td>\n",
       "      <td>153696</td>\n",
       "      <td>1,251,654.25</td>\n",
       "      <td>8.14</td>\n",
       "      <td>84689</td>\n",
       "      <td>1.81</td>\n",
       "      <td>1054</td>\n",
       "    </tr>\n",
       "  </tbody>\n",
       "</table>\n",
       "</div>"
      ],
      "text/plain": [
       "  department  department_id  total_items_sold_by_dept  total_spent_in_dept  \\\n",
       "0     frozen              1                   2234743        17,289,206.00   \n",
       "1      other              2                     36291           253,708.00   \n",
       "2     bakery              3                   1172428         9,208,026.00   \n",
       "3    produce              4                   9479291        75,660,936.00   \n",
       "4    alcohol              5                    153696         1,251,654.25   \n",
       "\n",
       "   avg_price_per_item_in_dept  total_orders_from_dept  \\\n",
       "0                        7.74                 1180461   \n",
       "1                        6.99                   35056   \n",
       "2                        7.85                  878658   \n",
       "3                        7.98                 2409320   \n",
       "4                        8.14                   84689   \n",
       "\n",
       "   avg_items_per_order_by_dept  n_unique_items_in_dept  \n",
       "0                         1.89                    4006  \n",
       "1                         1.04                     548  \n",
       "2                         1.33                    1515  \n",
       "3                         3.93                    1684  \n",
       "4                         1.81                    1054  "
      ]
     },
     "execution_count": 108,
     "metadata": {},
     "output_type": "execute_result"
    }
   ],
   "source": [
    "dept_data.head()"
   ]
  },
  {
   "cell_type": "code",
   "execution_count": 109,
   "id": "2c94a7c3",
   "metadata": {},
   "outputs": [],
   "source": [
    "# Merge total_spent_in_dept from dept_data with this df\n",
    "profile_spend_by_dept = profile_spend_by_dept.merge(dept_data[['department_id','total_spent_in_dept']], on=['department_id'], how='left')"
   ]
  },
  {
   "cell_type": "code",
   "execution_count": 110,
   "id": "0abf711b",
   "metadata": {},
   "outputs": [
    {
     "data": {
      "text/html": [
       "<div>\n",
       "<style scoped>\n",
       "    .dataframe tbody tr th:only-of-type {\n",
       "        vertical-align: middle;\n",
       "    }\n",
       "\n",
       "    .dataframe tbody tr th {\n",
       "        vertical-align: top;\n",
       "    }\n",
       "\n",
       "    .dataframe thead th {\n",
       "        text-align: right;\n",
       "    }\n",
       "</style>\n",
       "<table border=\"1\" class=\"dataframe\">\n",
       "  <thead>\n",
       "    <tr style=\"text-align: right;\">\n",
       "      <th></th>\n",
       "      <th>department_id</th>\n",
       "      <th>total_spent</th>\n",
       "      <th>profile_flag</th>\n",
       "      <th>total_spent_in_dept</th>\n",
       "    </tr>\n",
       "  </thead>\n",
       "  <tbody>\n",
       "    <tr>\n",
       "      <th>0</th>\n",
       "      <td>1</td>\n",
       "      <td>5,149,296.50</td>\n",
       "      <td>Other Users</td>\n",
       "      <td>17,289,206.00</td>\n",
       "    </tr>\n",
       "    <tr>\n",
       "      <th>1</th>\n",
       "      <td>1</td>\n",
       "      <td>12,139,910.00</td>\n",
       "      <td>Two Parent Families</td>\n",
       "      <td>17,289,206.00</td>\n",
       "    </tr>\n",
       "    <tr>\n",
       "      <th>2</th>\n",
       "      <td>2</td>\n",
       "      <td>77,137.10</td>\n",
       "      <td>Other Users</td>\n",
       "      <td>253,708.00</td>\n",
       "    </tr>\n",
       "    <tr>\n",
       "      <th>3</th>\n",
       "      <td>2</td>\n",
       "      <td>176,570.91</td>\n",
       "      <td>Two Parent Families</td>\n",
       "      <td>253,708.00</td>\n",
       "    </tr>\n",
       "    <tr>\n",
       "      <th>4</th>\n",
       "      <td>3</td>\n",
       "      <td>2,748,921.00</td>\n",
       "      <td>Other Users</td>\n",
       "      <td>9,208,026.00</td>\n",
       "    </tr>\n",
       "  </tbody>\n",
       "</table>\n",
       "</div>"
      ],
      "text/plain": [
       "   department_id   total_spent         profile_flag  total_spent_in_dept\n",
       "0              1  5,149,296.50          Other Users        17,289,206.00\n",
       "1              1 12,139,910.00  Two Parent Families        17,289,206.00\n",
       "2              2     77,137.10          Other Users           253,708.00\n",
       "3              2    176,570.91  Two Parent Families           253,708.00\n",
       "4              3  2,748,921.00          Other Users         9,208,026.00"
      ]
     },
     "execution_count": 110,
     "metadata": {},
     "output_type": "execute_result"
    }
   ],
   "source": [
    "profile_spend_by_dept.head()"
   ]
  },
  {
   "cell_type": "code",
   "execution_count": 111,
   "id": "8c0a39c1",
   "metadata": {},
   "outputs": [],
   "source": [
    "# Add a column for percent_of_total_dept_sales\n",
    "profile_spend_by_dept['percent_of_total_dept_sales'] = profile_spend_by_dept['total_spent']/profile_spend_by_dept['total_spent_in_dept']"
   ]
  },
  {
   "cell_type": "code",
   "execution_count": 113,
   "id": "0c757481",
   "metadata": {},
   "outputs": [
    {
     "data": {
      "text/html": [
       "<div>\n",
       "<style scoped>\n",
       "    .dataframe tbody tr th:only-of-type {\n",
       "        vertical-align: middle;\n",
       "    }\n",
       "\n",
       "    .dataframe tbody tr th {\n",
       "        vertical-align: top;\n",
       "    }\n",
       "\n",
       "    .dataframe thead th {\n",
       "        text-align: right;\n",
       "    }\n",
       "</style>\n",
       "<table border=\"1\" class=\"dataframe\">\n",
       "  <thead>\n",
       "    <tr style=\"text-align: right;\">\n",
       "      <th></th>\n",
       "      <th>department_id</th>\n",
       "      <th>total_spent</th>\n",
       "      <th>profile_flag</th>\n",
       "      <th>total_spent_in_dept</th>\n",
       "      <th>percent_of_total_dept_sales</th>\n",
       "    </tr>\n",
       "  </thead>\n",
       "  <tbody>\n",
       "    <tr>\n",
       "      <th>0</th>\n",
       "      <td>1</td>\n",
       "      <td>5,149,296.50</td>\n",
       "      <td>Other Users</td>\n",
       "      <td>17,289,206.00</td>\n",
       "      <td>0.30</td>\n",
       "    </tr>\n",
       "    <tr>\n",
       "      <th>1</th>\n",
       "      <td>1</td>\n",
       "      <td>12,139,910.00</td>\n",
       "      <td>Two Parent Families</td>\n",
       "      <td>17,289,206.00</td>\n",
       "      <td>0.70</td>\n",
       "    </tr>\n",
       "    <tr>\n",
       "      <th>2</th>\n",
       "      <td>2</td>\n",
       "      <td>77,137.10</td>\n",
       "      <td>Other Users</td>\n",
       "      <td>253,708.00</td>\n",
       "      <td>0.30</td>\n",
       "    </tr>\n",
       "    <tr>\n",
       "      <th>3</th>\n",
       "      <td>2</td>\n",
       "      <td>176,570.91</td>\n",
       "      <td>Two Parent Families</td>\n",
       "      <td>253,708.00</td>\n",
       "      <td>0.70</td>\n",
       "    </tr>\n",
       "    <tr>\n",
       "      <th>4</th>\n",
       "      <td>3</td>\n",
       "      <td>2,748,921.00</td>\n",
       "      <td>Other Users</td>\n",
       "      <td>9,208,026.00</td>\n",
       "      <td>0.30</td>\n",
       "    </tr>\n",
       "    <tr>\n",
       "      <th>5</th>\n",
       "      <td>3</td>\n",
       "      <td>6,459,105.00</td>\n",
       "      <td>Two Parent Families</td>\n",
       "      <td>9,208,026.00</td>\n",
       "      <td>0.70</td>\n",
       "    </tr>\n",
       "    <tr>\n",
       "      <th>6</th>\n",
       "      <td>4</td>\n",
       "      <td>22,579,622.00</td>\n",
       "      <td>Other Users</td>\n",
       "      <td>75,660,936.00</td>\n",
       "      <td>0.30</td>\n",
       "    </tr>\n",
       "    <tr>\n",
       "      <th>7</th>\n",
       "      <td>4</td>\n",
       "      <td>53,081,312.00</td>\n",
       "      <td>Two Parent Families</td>\n",
       "      <td>75,660,936.00</td>\n",
       "      <td>0.70</td>\n",
       "    </tr>\n",
       "    <tr>\n",
       "      <th>8</th>\n",
       "      <td>5</td>\n",
       "      <td>386,153.69</td>\n",
       "      <td>Other Users</td>\n",
       "      <td>1,251,654.25</td>\n",
       "      <td>0.31</td>\n",
       "    </tr>\n",
       "    <tr>\n",
       "      <th>9</th>\n",
       "      <td>5</td>\n",
       "      <td>865,500.62</td>\n",
       "      <td>Two Parent Families</td>\n",
       "      <td>1,251,654.25</td>\n",
       "      <td>0.69</td>\n",
       "    </tr>\n",
       "    <tr>\n",
       "      <th>10</th>\n",
       "      <td>6</td>\n",
       "      <td>617,965.81</td>\n",
       "      <td>Other Users</td>\n",
       "      <td>2,068,472.75</td>\n",
       "      <td>0.30</td>\n",
       "    </tr>\n",
       "    <tr>\n",
       "      <th>11</th>\n",
       "      <td>6</td>\n",
       "      <td>1,450,506.88</td>\n",
       "      <td>Two Parent Families</td>\n",
       "      <td>2,068,472.75</td>\n",
       "      <td>0.70</td>\n",
       "    </tr>\n",
       "    <tr>\n",
       "      <th>12</th>\n",
       "      <td>7</td>\n",
       "      <td>6,132,238.00</td>\n",
       "      <td>Other Users</td>\n",
       "      <td>20,646,084.00</td>\n",
       "      <td>0.30</td>\n",
       "    </tr>\n",
       "    <tr>\n",
       "      <th>13</th>\n",
       "      <td>7</td>\n",
       "      <td>14,513,846.00</td>\n",
       "      <td>Two Parent Families</td>\n",
       "      <td>20,646,084.00</td>\n",
       "      <td>0.70</td>\n",
       "    </tr>\n",
       "    <tr>\n",
       "      <th>14</th>\n",
       "      <td>8</td>\n",
       "      <td>240,231.70</td>\n",
       "      <td>Other Users</td>\n",
       "      <td>770,888.38</td>\n",
       "      <td>0.31</td>\n",
       "    </tr>\n",
       "    <tr>\n",
       "      <th>15</th>\n",
       "      <td>8</td>\n",
       "      <td>530,656.69</td>\n",
       "      <td>Two Parent Families</td>\n",
       "      <td>770,888.38</td>\n",
       "      <td>0.69</td>\n",
       "    </tr>\n",
       "    <tr>\n",
       "      <th>16</th>\n",
       "      <td>9</td>\n",
       "      <td>1,889,056.75</td>\n",
       "      <td>Other Users</td>\n",
       "      <td>6,369,953.50</td>\n",
       "      <td>0.30</td>\n",
       "    </tr>\n",
       "    <tr>\n",
       "      <th>17</th>\n",
       "      <td>9</td>\n",
       "      <td>4,480,897.00</td>\n",
       "      <td>Two Parent Families</td>\n",
       "      <td>6,369,953.50</td>\n",
       "      <td>0.70</td>\n",
       "    </tr>\n",
       "    <tr>\n",
       "      <th>18</th>\n",
       "      <td>10</td>\n",
       "      <td>83,404.80</td>\n",
       "      <td>Other Users</td>\n",
       "      <td>288,648.59</td>\n",
       "      <td>0.29</td>\n",
       "    </tr>\n",
       "    <tr>\n",
       "      <th>19</th>\n",
       "      <td>10</td>\n",
       "      <td>205,243.80</td>\n",
       "      <td>Two Parent Families</td>\n",
       "      <td>288,648.59</td>\n",
       "      <td>0.71</td>\n",
       "    </tr>\n",
       "    <tr>\n",
       "      <th>20</th>\n",
       "      <td>11</td>\n",
       "      <td>1,066,426.50</td>\n",
       "      <td>Other Users</td>\n",
       "      <td>3,573,172.75</td>\n",
       "      <td>0.30</td>\n",
       "    </tr>\n",
       "    <tr>\n",
       "      <th>21</th>\n",
       "      <td>11</td>\n",
       "      <td>2,506,746.25</td>\n",
       "      <td>Two Parent Families</td>\n",
       "      <td>3,573,172.75</td>\n",
       "      <td>0.70</td>\n",
       "    </tr>\n",
       "    <tr>\n",
       "      <th>22</th>\n",
       "      <td>12</td>\n",
       "      <td>3,383,217.50</td>\n",
       "      <td>Other Users</td>\n",
       "      <td>11,551,570.00</td>\n",
       "      <td>0.29</td>\n",
       "    </tr>\n",
       "    <tr>\n",
       "      <th>23</th>\n",
       "      <td>12</td>\n",
       "      <td>8,168,353.00</td>\n",
       "      <td>Two Parent Families</td>\n",
       "      <td>11,551,570.00</td>\n",
       "      <td>0.71</td>\n",
       "    </tr>\n",
       "    <tr>\n",
       "      <th>24</th>\n",
       "      <td>13</td>\n",
       "      <td>4,462,033.50</td>\n",
       "      <td>Other Users</td>\n",
       "      <td>15,020,661.00</td>\n",
       "      <td>0.30</td>\n",
       "    </tr>\n",
       "    <tr>\n",
       "      <th>25</th>\n",
       "      <td>13</td>\n",
       "      <td>10,558,627.00</td>\n",
       "      <td>Two Parent Families</td>\n",
       "      <td>15,020,661.00</td>\n",
       "      <td>0.70</td>\n",
       "    </tr>\n",
       "    <tr>\n",
       "      <th>26</th>\n",
       "      <td>14</td>\n",
       "      <td>1,682,265.75</td>\n",
       "      <td>Other Users</td>\n",
       "      <td>5,644,626.00</td>\n",
       "      <td>0.30</td>\n",
       "    </tr>\n",
       "    <tr>\n",
       "      <th>27</th>\n",
       "      <td>14</td>\n",
       "      <td>3,962,360.25</td>\n",
       "      <td>Two Parent Families</td>\n",
       "      <td>5,644,626.00</td>\n",
       "      <td>0.70</td>\n",
       "    </tr>\n",
       "    <tr>\n",
       "      <th>28</th>\n",
       "      <td>15</td>\n",
       "      <td>2,377,170.00</td>\n",
       "      <td>Other Users</td>\n",
       "      <td>8,053,132.00</td>\n",
       "      <td>0.30</td>\n",
       "    </tr>\n",
       "    <tr>\n",
       "      <th>29</th>\n",
       "      <td>15</td>\n",
       "      <td>5,675,962.00</td>\n",
       "      <td>Two Parent Families</td>\n",
       "      <td>8,053,132.00</td>\n",
       "      <td>0.70</td>\n",
       "    </tr>\n",
       "    <tr>\n",
       "      <th>30</th>\n",
       "      <td>16</td>\n",
       "      <td>13,424,057.00</td>\n",
       "      <td>Other Users</td>\n",
       "      <td>44,954,496.00</td>\n",
       "      <td>0.30</td>\n",
       "    </tr>\n",
       "    <tr>\n",
       "      <th>31</th>\n",
       "      <td>16</td>\n",
       "      <td>31,530,438.00</td>\n",
       "      <td>Two Parent Families</td>\n",
       "      <td>44,954,496.00</td>\n",
       "      <td>0.70</td>\n",
       "    </tr>\n",
       "    <tr>\n",
       "      <th>32</th>\n",
       "      <td>17</td>\n",
       "      <td>1,591,681.75</td>\n",
       "      <td>Other Users</td>\n",
       "      <td>5,454,352.50</td>\n",
       "      <td>0.29</td>\n",
       "    </tr>\n",
       "    <tr>\n",
       "      <th>33</th>\n",
       "      <td>17</td>\n",
       "      <td>3,862,671.00</td>\n",
       "      <td>Two Parent Families</td>\n",
       "      <td>5,454,352.50</td>\n",
       "      <td>0.71</td>\n",
       "    </tr>\n",
       "    <tr>\n",
       "      <th>34</th>\n",
       "      <td>18</td>\n",
       "      <td>965,075.38</td>\n",
       "      <td>Other Users</td>\n",
       "      <td>3,237,048.50</td>\n",
       "      <td>0.30</td>\n",
       "    </tr>\n",
       "    <tr>\n",
       "      <th>35</th>\n",
       "      <td>18</td>\n",
       "      <td>2,271,973.25</td>\n",
       "      <td>Two Parent Families</td>\n",
       "      <td>3,237,048.50</td>\n",
       "      <td>0.70</td>\n",
       "    </tr>\n",
       "    <tr>\n",
       "      <th>36</th>\n",
       "      <td>19</td>\n",
       "      <td>3,666,158.50</td>\n",
       "      <td>Other Users</td>\n",
       "      <td>12,345,538.00</td>\n",
       "      <td>0.30</td>\n",
       "    </tr>\n",
       "    <tr>\n",
       "      <th>37</th>\n",
       "      <td>19</td>\n",
       "      <td>8,679,379.00</td>\n",
       "      <td>Two Parent Families</td>\n",
       "      <td>12,345,538.00</td>\n",
       "      <td>0.70</td>\n",
       "    </tr>\n",
       "    <tr>\n",
       "      <th>38</th>\n",
       "      <td>20</td>\n",
       "      <td>2,460,122.00</td>\n",
       "      <td>Other Users</td>\n",
       "      <td>8,177,352.00</td>\n",
       "      <td>0.30</td>\n",
       "    </tr>\n",
       "    <tr>\n",
       "      <th>39</th>\n",
       "      <td>20</td>\n",
       "      <td>5,717,230.00</td>\n",
       "      <td>Two Parent Families</td>\n",
       "      <td>8,177,352.00</td>\n",
       "      <td>0.70</td>\n",
       "    </tr>\n",
       "    <tr>\n",
       "      <th>40</th>\n",
       "      <td>21</td>\n",
       "      <td>179,999.41</td>\n",
       "      <td>Other Users</td>\n",
       "      <td>598,845.19</td>\n",
       "      <td>0.30</td>\n",
       "    </tr>\n",
       "    <tr>\n",
       "      <th>41</th>\n",
       "      <td>21</td>\n",
       "      <td>418,845.81</td>\n",
       "      <td>Two Parent Families</td>\n",
       "      <td>598,845.19</td>\n",
       "      <td>0.70</td>\n",
       "    </tr>\n",
       "  </tbody>\n",
       "</table>\n",
       "</div>"
      ],
      "text/plain": [
       "    department_id   total_spent         profile_flag  total_spent_in_dept  \\\n",
       "0               1  5,149,296.50          Other Users        17,289,206.00   \n",
       "1               1 12,139,910.00  Two Parent Families        17,289,206.00   \n",
       "2               2     77,137.10          Other Users           253,708.00   \n",
       "3               2    176,570.91  Two Parent Families           253,708.00   \n",
       "4               3  2,748,921.00          Other Users         9,208,026.00   \n",
       "5               3  6,459,105.00  Two Parent Families         9,208,026.00   \n",
       "6               4 22,579,622.00          Other Users        75,660,936.00   \n",
       "7               4 53,081,312.00  Two Parent Families        75,660,936.00   \n",
       "8               5    386,153.69          Other Users         1,251,654.25   \n",
       "9               5    865,500.62  Two Parent Families         1,251,654.25   \n",
       "10              6    617,965.81          Other Users         2,068,472.75   \n",
       "11              6  1,450,506.88  Two Parent Families         2,068,472.75   \n",
       "12              7  6,132,238.00          Other Users        20,646,084.00   \n",
       "13              7 14,513,846.00  Two Parent Families        20,646,084.00   \n",
       "14              8    240,231.70          Other Users           770,888.38   \n",
       "15              8    530,656.69  Two Parent Families           770,888.38   \n",
       "16              9  1,889,056.75          Other Users         6,369,953.50   \n",
       "17              9  4,480,897.00  Two Parent Families         6,369,953.50   \n",
       "18             10     83,404.80          Other Users           288,648.59   \n",
       "19             10    205,243.80  Two Parent Families           288,648.59   \n",
       "20             11  1,066,426.50          Other Users         3,573,172.75   \n",
       "21             11  2,506,746.25  Two Parent Families         3,573,172.75   \n",
       "22             12  3,383,217.50          Other Users        11,551,570.00   \n",
       "23             12  8,168,353.00  Two Parent Families        11,551,570.00   \n",
       "24             13  4,462,033.50          Other Users        15,020,661.00   \n",
       "25             13 10,558,627.00  Two Parent Families        15,020,661.00   \n",
       "26             14  1,682,265.75          Other Users         5,644,626.00   \n",
       "27             14  3,962,360.25  Two Parent Families         5,644,626.00   \n",
       "28             15  2,377,170.00          Other Users         8,053,132.00   \n",
       "29             15  5,675,962.00  Two Parent Families         8,053,132.00   \n",
       "30             16 13,424,057.00          Other Users        44,954,496.00   \n",
       "31             16 31,530,438.00  Two Parent Families        44,954,496.00   \n",
       "32             17  1,591,681.75          Other Users         5,454,352.50   \n",
       "33             17  3,862,671.00  Two Parent Families         5,454,352.50   \n",
       "34             18    965,075.38          Other Users         3,237,048.50   \n",
       "35             18  2,271,973.25  Two Parent Families         3,237,048.50   \n",
       "36             19  3,666,158.50          Other Users        12,345,538.00   \n",
       "37             19  8,679,379.00  Two Parent Families        12,345,538.00   \n",
       "38             20  2,460,122.00          Other Users         8,177,352.00   \n",
       "39             20  5,717,230.00  Two Parent Families         8,177,352.00   \n",
       "40             21    179,999.41          Other Users           598,845.19   \n",
       "41             21    418,845.81  Two Parent Families           598,845.19   \n",
       "\n",
       "    percent_of_total_dept_sales  \n",
       "0                          0.30  \n",
       "1                          0.70  \n",
       "2                          0.30  \n",
       "3                          0.70  \n",
       "4                          0.30  \n",
       "5                          0.70  \n",
       "6                          0.30  \n",
       "7                          0.70  \n",
       "8                          0.31  \n",
       "9                          0.69  \n",
       "10                         0.30  \n",
       "11                         0.70  \n",
       "12                         0.30  \n",
       "13                         0.70  \n",
       "14                         0.31  \n",
       "15                         0.69  \n",
       "16                         0.30  \n",
       "17                         0.70  \n",
       "18                         0.29  \n",
       "19                         0.71  \n",
       "20                         0.30  \n",
       "21                         0.70  \n",
       "22                         0.29  \n",
       "23                         0.71  \n",
       "24                         0.30  \n",
       "25                         0.70  \n",
       "26                         0.30  \n",
       "27                         0.70  \n",
       "28                         0.30  \n",
       "29                         0.70  \n",
       "30                         0.30  \n",
       "31                         0.70  \n",
       "32                         0.29  \n",
       "33                         0.71  \n",
       "34                         0.30  \n",
       "35                         0.70  \n",
       "36                         0.30  \n",
       "37                         0.70  \n",
       "38                         0.30  \n",
       "39                         0.70  \n",
       "40                         0.30  \n",
       "41                         0.70  "
      ]
     },
     "execution_count": 113,
     "metadata": {},
     "output_type": "execute_result"
    }
   ],
   "source": [
    "profile_spend_by_dept"
   ]
  },
  {
   "cell_type": "markdown",
   "id": "8f31db6a",
   "metadata": {},
   "source": [
    "There is no significant difference in sales by departments based on whether a user is part of a two-parent household or not -- it consistently ranges between 0.69-71 which is inline with the percentage of two-parent families among our user base.  Thus, there is no reason to do a visualization."
   ]
  },
  {
   "cell_type": "code",
   "execution_count": null,
   "id": "4f406e70",
   "metadata": {},
   "outputs": [],
   "source": []
  }
 ],
 "metadata": {
  "kernelspec": {
   "display_name": "Python 3 (ipykernel)",
   "language": "python",
   "name": "python3"
  },
  "language_info": {
   "codemirror_mode": {
    "name": "ipython",
    "version": 3
   },
   "file_extension": ".py",
   "mimetype": "text/x-python",
   "name": "python",
   "nbconvert_exporter": "python",
   "pygments_lexer": "ipython3",
   "version": "3.9.13"
  }
 },
 "nbformat": 4,
 "nbformat_minor": 5
}
