{
 "cells": [
  {
   "cell_type": "markdown",
   "id": "8533088e",
   "metadata": {},
   "source": [
    "# Table of Contents"
   ]
  },
  {
   "cell_type": "raw",
   "id": "b463a255",
   "metadata": {},
   "source": [
    "0.1 Importing Libraries\n",
    "\n",
    "0.2 Importing Data\n",
    "\n",
    "0.3 Exploring Original Df\n",
    "\n",
    "0.4 Renaming Columns\n",
    "\n",
    "0.5 Adjusting Datatypes\n",
    "\n",
    "0.6 Cleaning / Wrangling / Checking Data\n",
    "\n",
    "    0.6.1  Overall df checks\n",
    "    \n",
    "    0.6.2  order_id\n",
    "    \n",
    "    0.6.3  user_id\n",
    "    \n",
    "    0.6.4  order_number\n",
    "    \n",
    "    0.6.5  order_day_of_week\n",
    "    \n",
    "    0.6.6  order_hour_of_day\n",
    "    \n",
    "    0.6.7  days_since_prior_order \n",
    "    \n",
    "           -> Created first_order_of_new_customer flag for 206,209 NaNs\n",
    "    \n",
    "0.7 Exporting the Clean Df\n"
   ]
  },
  {
   "cell_type": "markdown",
   "id": "cc8dcbd1",
   "metadata": {},
   "source": [
    "### 0.1 Importing Libraries"
   ]
  },
  {
   "cell_type": "code",
   "execution_count": 3,
   "id": "9709810d",
   "metadata": {},
   "outputs": [],
   "source": [
    "# Import libraries\n",
    "import pandas as pd\n",
    "import numpy as np\n",
    "import os\n",
    "import matplotlib.pyplot as plt\n",
    "import seaborn as sns\n",
    "import scipy"
   ]
  },
  {
   "cell_type": "markdown",
   "id": "b5b185b2",
   "metadata": {},
   "source": [
    "### 0.2 Importing Data"
   ]
  },
  {
   "cell_type": "code",
   "execution_count": 4,
   "id": "6e7f5881",
   "metadata": {},
   "outputs": [],
   "source": [
    "# Identify the file pathway to data files\n",
    "path = r'C:\\Users\\CJ\\Documents\\_CJ-Stuff\\Career Foundry\\Data Immersion\\Ach 4 - Python\\2023-03 Instacart Basket Analysis'"
   ]
  },
  {
   "cell_type": "code",
   "execution_count": 5,
   "id": "34f347e2",
   "metadata": {},
   "outputs": [],
   "source": [
    "# Create 'vars_list' so we only import the variables we need from orders.csv\n",
    "vars_list = ['order_id', 'user_id', 'order_number', 'order_dow', 'order_hour_of_day', 'days_since_prior_order']"
   ]
  },
  {
   "cell_type": "code",
   "execution_count": 6,
   "id": "f8ca6a0b",
   "metadata": {
    "scrolled": true
   },
   "outputs": [],
   "source": [
    "# Import data\n",
    "df = pd.read_csv(os.path.join(path, '02 Data', 'Original Data', 'orders.csv'), usecols = vars_list)"
   ]
  },
  {
   "cell_type": "markdown",
   "id": "a5bc9d6c",
   "metadata": {},
   "source": [
    "### 0.3 Exploring Original df"
   ]
  },
  {
   "cell_type": "code",
   "execution_count": 7,
   "id": "41f99131",
   "metadata": {
    "scrolled": true
   },
   "outputs": [
    {
     "data": {
      "text/plain": [
       "(3421083, 6)"
      ]
     },
     "execution_count": 7,
     "metadata": {},
     "output_type": "execute_result"
    }
   ],
   "source": [
    "df.shape"
   ]
  },
  {
   "cell_type": "code",
   "execution_count": 8,
   "id": "f0f5df72",
   "metadata": {},
   "outputs": [
    {
     "data": {
      "text/html": [
       "<div>\n",
       "<style scoped>\n",
       "    .dataframe tbody tr th:only-of-type {\n",
       "        vertical-align: middle;\n",
       "    }\n",
       "\n",
       "    .dataframe tbody tr th {\n",
       "        vertical-align: top;\n",
       "    }\n",
       "\n",
       "    .dataframe thead th {\n",
       "        text-align: right;\n",
       "    }\n",
       "</style>\n",
       "<table border=\"1\" class=\"dataframe\">\n",
       "  <thead>\n",
       "    <tr style=\"text-align: right;\">\n",
       "      <th></th>\n",
       "      <th>order_id</th>\n",
       "      <th>user_id</th>\n",
       "      <th>order_number</th>\n",
       "      <th>order_dow</th>\n",
       "      <th>order_hour_of_day</th>\n",
       "      <th>days_since_prior_order</th>\n",
       "    </tr>\n",
       "  </thead>\n",
       "  <tbody>\n",
       "    <tr>\n",
       "      <th>0</th>\n",
       "      <td>2539329</td>\n",
       "      <td>1</td>\n",
       "      <td>1</td>\n",
       "      <td>2</td>\n",
       "      <td>8</td>\n",
       "      <td>NaN</td>\n",
       "    </tr>\n",
       "    <tr>\n",
       "      <th>1</th>\n",
       "      <td>2398795</td>\n",
       "      <td>1</td>\n",
       "      <td>2</td>\n",
       "      <td>3</td>\n",
       "      <td>7</td>\n",
       "      <td>15.0</td>\n",
       "    </tr>\n",
       "    <tr>\n",
       "      <th>2</th>\n",
       "      <td>473747</td>\n",
       "      <td>1</td>\n",
       "      <td>3</td>\n",
       "      <td>3</td>\n",
       "      <td>12</td>\n",
       "      <td>21.0</td>\n",
       "    </tr>\n",
       "    <tr>\n",
       "      <th>3</th>\n",
       "      <td>2254736</td>\n",
       "      <td>1</td>\n",
       "      <td>4</td>\n",
       "      <td>4</td>\n",
       "      <td>7</td>\n",
       "      <td>29.0</td>\n",
       "    </tr>\n",
       "    <tr>\n",
       "      <th>4</th>\n",
       "      <td>431534</td>\n",
       "      <td>1</td>\n",
       "      <td>5</td>\n",
       "      <td>4</td>\n",
       "      <td>15</td>\n",
       "      <td>28.0</td>\n",
       "    </tr>\n",
       "  </tbody>\n",
       "</table>\n",
       "</div>"
      ],
      "text/plain": [
       "   order_id  user_id  order_number  order_dow  order_hour_of_day  \\\n",
       "0   2539329        1             1          2                  8   \n",
       "1   2398795        1             2          3                  7   \n",
       "2    473747        1             3          3                 12   \n",
       "3   2254736        1             4          4                  7   \n",
       "4    431534        1             5          4                 15   \n",
       "\n",
       "   days_since_prior_order  \n",
       "0                     NaN  \n",
       "1                    15.0  \n",
       "2                    21.0  \n",
       "3                    29.0  \n",
       "4                    28.0  "
      ]
     },
     "execution_count": 8,
     "metadata": {},
     "output_type": "execute_result"
    }
   ],
   "source": [
    "df.head()"
   ]
  },
  {
   "cell_type": "code",
   "execution_count": 9,
   "id": "5be7b516",
   "metadata": {},
   "outputs": [
    {
     "data": {
      "text/html": [
       "<div>\n",
       "<style scoped>\n",
       "    .dataframe tbody tr th:only-of-type {\n",
       "        vertical-align: middle;\n",
       "    }\n",
       "\n",
       "    .dataframe tbody tr th {\n",
       "        vertical-align: top;\n",
       "    }\n",
       "\n",
       "    .dataframe thead th {\n",
       "        text-align: right;\n",
       "    }\n",
       "</style>\n",
       "<table border=\"1\" class=\"dataframe\">\n",
       "  <thead>\n",
       "    <tr style=\"text-align: right;\">\n",
       "      <th></th>\n",
       "      <th>order_id</th>\n",
       "      <th>user_id</th>\n",
       "      <th>order_number</th>\n",
       "      <th>order_dow</th>\n",
       "      <th>order_hour_of_day</th>\n",
       "      <th>days_since_prior_order</th>\n",
       "    </tr>\n",
       "  </thead>\n",
       "  <tbody>\n",
       "    <tr>\n",
       "      <th>3421078</th>\n",
       "      <td>2266710</td>\n",
       "      <td>206209</td>\n",
       "      <td>10</td>\n",
       "      <td>5</td>\n",
       "      <td>18</td>\n",
       "      <td>29.0</td>\n",
       "    </tr>\n",
       "    <tr>\n",
       "      <th>3421079</th>\n",
       "      <td>1854736</td>\n",
       "      <td>206209</td>\n",
       "      <td>11</td>\n",
       "      <td>4</td>\n",
       "      <td>10</td>\n",
       "      <td>30.0</td>\n",
       "    </tr>\n",
       "    <tr>\n",
       "      <th>3421080</th>\n",
       "      <td>626363</td>\n",
       "      <td>206209</td>\n",
       "      <td>12</td>\n",
       "      <td>1</td>\n",
       "      <td>12</td>\n",
       "      <td>18.0</td>\n",
       "    </tr>\n",
       "    <tr>\n",
       "      <th>3421081</th>\n",
       "      <td>2977660</td>\n",
       "      <td>206209</td>\n",
       "      <td>13</td>\n",
       "      <td>1</td>\n",
       "      <td>12</td>\n",
       "      <td>7.0</td>\n",
       "    </tr>\n",
       "    <tr>\n",
       "      <th>3421082</th>\n",
       "      <td>272231</td>\n",
       "      <td>206209</td>\n",
       "      <td>14</td>\n",
       "      <td>6</td>\n",
       "      <td>14</td>\n",
       "      <td>30.0</td>\n",
       "    </tr>\n",
       "  </tbody>\n",
       "</table>\n",
       "</div>"
      ],
      "text/plain": [
       "         order_id  user_id  order_number  order_dow  order_hour_of_day  \\\n",
       "3421078   2266710   206209            10          5                 18   \n",
       "3421079   1854736   206209            11          4                 10   \n",
       "3421080    626363   206209            12          1                 12   \n",
       "3421081   2977660   206209            13          1                 12   \n",
       "3421082    272231   206209            14          6                 14   \n",
       "\n",
       "         days_since_prior_order  \n",
       "3421078                    29.0  \n",
       "3421079                    30.0  \n",
       "3421080                    18.0  \n",
       "3421081                     7.0  \n",
       "3421082                    30.0  "
      ]
     },
     "execution_count": 9,
     "metadata": {},
     "output_type": "execute_result"
    }
   ],
   "source": [
    "df.tail()"
   ]
  },
  {
   "cell_type": "code",
   "execution_count": 10,
   "id": "ca700be9",
   "metadata": {
    "scrolled": true
   },
   "outputs": [
    {
     "name": "stdout",
     "output_type": "stream",
     "text": [
      "<class 'pandas.core.frame.DataFrame'>\n",
      "RangeIndex: 3421083 entries, 0 to 3421082\n",
      "Data columns (total 6 columns):\n",
      " #   Column                  Dtype  \n",
      "---  ------                  -----  \n",
      " 0   order_id                int64  \n",
      " 1   user_id                 int64  \n",
      " 2   order_number            int64  \n",
      " 3   order_dow               int64  \n",
      " 4   order_hour_of_day       int64  \n",
      " 5   days_since_prior_order  float64\n",
      "dtypes: float64(1), int64(5)\n",
      "memory usage: 156.6 MB\n"
     ]
    }
   ],
   "source": [
    "df.info()"
   ]
  },
  {
   "cell_type": "markdown",
   "id": "facd534d",
   "metadata": {},
   "source": [
    "All of the columns are useful, but some have inefficient datatypes and order_dow could be named more clearly."
   ]
  },
  {
   "cell_type": "code",
   "execution_count": 11,
   "id": "dc195b32",
   "metadata": {
    "scrolled": true
   },
   "outputs": [
    {
     "data": {
      "text/html": [
       "<div>\n",
       "<style scoped>\n",
       "    .dataframe tbody tr th:only-of-type {\n",
       "        vertical-align: middle;\n",
       "    }\n",
       "\n",
       "    .dataframe tbody tr th {\n",
       "        vertical-align: top;\n",
       "    }\n",
       "\n",
       "    .dataframe thead th {\n",
       "        text-align: right;\n",
       "    }\n",
       "</style>\n",
       "<table border=\"1\" class=\"dataframe\">\n",
       "  <thead>\n",
       "    <tr style=\"text-align: right;\">\n",
       "      <th></th>\n",
       "      <th>order_id</th>\n",
       "      <th>user_id</th>\n",
       "      <th>order_number</th>\n",
       "      <th>order_dow</th>\n",
       "      <th>order_hour_of_day</th>\n",
       "      <th>days_since_prior_order</th>\n",
       "    </tr>\n",
       "  </thead>\n",
       "  <tbody>\n",
       "    <tr>\n",
       "      <th>count</th>\n",
       "      <td>3.421083e+06</td>\n",
       "      <td>3.421083e+06</td>\n",
       "      <td>3.421083e+06</td>\n",
       "      <td>3.421083e+06</td>\n",
       "      <td>3.421083e+06</td>\n",
       "      <td>3.214874e+06</td>\n",
       "    </tr>\n",
       "    <tr>\n",
       "      <th>mean</th>\n",
       "      <td>1.710542e+06</td>\n",
       "      <td>1.029782e+05</td>\n",
       "      <td>1.715486e+01</td>\n",
       "      <td>2.776219e+00</td>\n",
       "      <td>1.345202e+01</td>\n",
       "      <td>1.111484e+01</td>\n",
       "    </tr>\n",
       "    <tr>\n",
       "      <th>std</th>\n",
       "      <td>9.875817e+05</td>\n",
       "      <td>5.953372e+04</td>\n",
       "      <td>1.773316e+01</td>\n",
       "      <td>2.046829e+00</td>\n",
       "      <td>4.226088e+00</td>\n",
       "      <td>9.206737e+00</td>\n",
       "    </tr>\n",
       "    <tr>\n",
       "      <th>min</th>\n",
       "      <td>1.000000e+00</td>\n",
       "      <td>1.000000e+00</td>\n",
       "      <td>1.000000e+00</td>\n",
       "      <td>0.000000e+00</td>\n",
       "      <td>0.000000e+00</td>\n",
       "      <td>0.000000e+00</td>\n",
       "    </tr>\n",
       "    <tr>\n",
       "      <th>25%</th>\n",
       "      <td>8.552715e+05</td>\n",
       "      <td>5.139400e+04</td>\n",
       "      <td>5.000000e+00</td>\n",
       "      <td>1.000000e+00</td>\n",
       "      <td>1.000000e+01</td>\n",
       "      <td>4.000000e+00</td>\n",
       "    </tr>\n",
       "    <tr>\n",
       "      <th>50%</th>\n",
       "      <td>1.710542e+06</td>\n",
       "      <td>1.026890e+05</td>\n",
       "      <td>1.100000e+01</td>\n",
       "      <td>3.000000e+00</td>\n",
       "      <td>1.300000e+01</td>\n",
       "      <td>7.000000e+00</td>\n",
       "    </tr>\n",
       "    <tr>\n",
       "      <th>75%</th>\n",
       "      <td>2.565812e+06</td>\n",
       "      <td>1.543850e+05</td>\n",
       "      <td>2.300000e+01</td>\n",
       "      <td>5.000000e+00</td>\n",
       "      <td>1.600000e+01</td>\n",
       "      <td>1.500000e+01</td>\n",
       "    </tr>\n",
       "    <tr>\n",
       "      <th>max</th>\n",
       "      <td>3.421083e+06</td>\n",
       "      <td>2.062090e+05</td>\n",
       "      <td>1.000000e+02</td>\n",
       "      <td>6.000000e+00</td>\n",
       "      <td>2.300000e+01</td>\n",
       "      <td>3.000000e+01</td>\n",
       "    </tr>\n",
       "  </tbody>\n",
       "</table>\n",
       "</div>"
      ],
      "text/plain": [
       "           order_id       user_id  order_number     order_dow  \\\n",
       "count  3.421083e+06  3.421083e+06  3.421083e+06  3.421083e+06   \n",
       "mean   1.710542e+06  1.029782e+05  1.715486e+01  2.776219e+00   \n",
       "std    9.875817e+05  5.953372e+04  1.773316e+01  2.046829e+00   \n",
       "min    1.000000e+00  1.000000e+00  1.000000e+00  0.000000e+00   \n",
       "25%    8.552715e+05  5.139400e+04  5.000000e+00  1.000000e+00   \n",
       "50%    1.710542e+06  1.026890e+05  1.100000e+01  3.000000e+00   \n",
       "75%    2.565812e+06  1.543850e+05  2.300000e+01  5.000000e+00   \n",
       "max    3.421083e+06  2.062090e+05  1.000000e+02  6.000000e+00   \n",
       "\n",
       "       order_hour_of_day  days_since_prior_order  \n",
       "count       3.421083e+06            3.214874e+06  \n",
       "mean        1.345202e+01            1.111484e+01  \n",
       "std         4.226088e+00            9.206737e+00  \n",
       "min         0.000000e+00            0.000000e+00  \n",
       "25%         1.000000e+01            4.000000e+00  \n",
       "50%         1.300000e+01            7.000000e+00  \n",
       "75%         1.600000e+01            1.500000e+01  \n",
       "max         2.300000e+01            3.000000e+01  "
      ]
     },
     "execution_count": 11,
     "metadata": {},
     "output_type": "execute_result"
    }
   ],
   "source": [
    "df.describe()"
   ]
  },
  {
   "cell_type": "markdown",
   "id": "19d5a5d5",
   "metadata": {},
   "source": [
    "The count of 'days_since_prior_order' is different from the count for the other variables (and the df as a whole) which indicates missing values to be explored.\n",
    "\n",
    "The count of order_id and the max value for order_id is the same -- meaning that the order_id is likely a unique identifier.\n",
    "\n",
    "For the columns that are quantitative (order_dow, order_hour_of_day, days_since_prior_order), the basic statistics (max, min, mean, median) all seem plausible."
   ]
  },
  {
   "cell_type": "markdown",
   "id": "28674241",
   "metadata": {},
   "source": [
    "### 0.4 Renaming columns"
   ]
  },
  {
   "cell_type": "code",
   "execution_count": 12,
   "id": "c95fbeed",
   "metadata": {
    "scrolled": true
   },
   "outputs": [],
   "source": [
    "# Because order_dow could be potentially unclear, \n",
    "# we're renaming it to order_day_of_week\n",
    "# where 0 = Sat, 1 = Sun, 2 = Mon, etc.\n",
    "df.rename(columns = {'order_dow' : 'order_day_of_week'}, inplace = True)"
   ]
  },
  {
   "cell_type": "code",
   "execution_count": 13,
   "id": "26ad0044",
   "metadata": {},
   "outputs": [
    {
     "data": {
      "text/html": [
       "<div>\n",
       "<style scoped>\n",
       "    .dataframe tbody tr th:only-of-type {\n",
       "        vertical-align: middle;\n",
       "    }\n",
       "\n",
       "    .dataframe tbody tr th {\n",
       "        vertical-align: top;\n",
       "    }\n",
       "\n",
       "    .dataframe thead th {\n",
       "        text-align: right;\n",
       "    }\n",
       "</style>\n",
       "<table border=\"1\" class=\"dataframe\">\n",
       "  <thead>\n",
       "    <tr style=\"text-align: right;\">\n",
       "      <th></th>\n",
       "      <th>order_id</th>\n",
       "      <th>user_id</th>\n",
       "      <th>order_number</th>\n",
       "      <th>order_day_of_week</th>\n",
       "      <th>order_hour_of_day</th>\n",
       "      <th>days_since_prior_order</th>\n",
       "    </tr>\n",
       "  </thead>\n",
       "  <tbody>\n",
       "    <tr>\n",
       "      <th>0</th>\n",
       "      <td>2539329</td>\n",
       "      <td>1</td>\n",
       "      <td>1</td>\n",
       "      <td>2</td>\n",
       "      <td>8</td>\n",
       "      <td>NaN</td>\n",
       "    </tr>\n",
       "    <tr>\n",
       "      <th>1</th>\n",
       "      <td>2398795</td>\n",
       "      <td>1</td>\n",
       "      <td>2</td>\n",
       "      <td>3</td>\n",
       "      <td>7</td>\n",
       "      <td>15.0</td>\n",
       "    </tr>\n",
       "    <tr>\n",
       "      <th>2</th>\n",
       "      <td>473747</td>\n",
       "      <td>1</td>\n",
       "      <td>3</td>\n",
       "      <td>3</td>\n",
       "      <td>12</td>\n",
       "      <td>21.0</td>\n",
       "    </tr>\n",
       "    <tr>\n",
       "      <th>3</th>\n",
       "      <td>2254736</td>\n",
       "      <td>1</td>\n",
       "      <td>4</td>\n",
       "      <td>4</td>\n",
       "      <td>7</td>\n",
       "      <td>29.0</td>\n",
       "    </tr>\n",
       "    <tr>\n",
       "      <th>4</th>\n",
       "      <td>431534</td>\n",
       "      <td>1</td>\n",
       "      <td>5</td>\n",
       "      <td>4</td>\n",
       "      <td>15</td>\n",
       "      <td>28.0</td>\n",
       "    </tr>\n",
       "  </tbody>\n",
       "</table>\n",
       "</div>"
      ],
      "text/plain": [
       "   order_id  user_id  order_number  order_day_of_week  order_hour_of_day  \\\n",
       "0   2539329        1             1                  2                  8   \n",
       "1   2398795        1             2                  3                  7   \n",
       "2    473747        1             3                  3                 12   \n",
       "3   2254736        1             4                  4                  7   \n",
       "4    431534        1             5                  4                 15   \n",
       "\n",
       "   days_since_prior_order  \n",
       "0                     NaN  \n",
       "1                    15.0  \n",
       "2                    21.0  \n",
       "3                    29.0  \n",
       "4                    28.0  "
      ]
     },
     "execution_count": 13,
     "metadata": {},
     "output_type": "execute_result"
    }
   ],
   "source": [
    "# Confirming the change\n",
    "df.head()"
   ]
  },
  {
   "cell_type": "markdown",
   "id": "59017f82",
   "metadata": {},
   "source": [
    "### 0.5 Adjusting datatypes to be more appropriate for variables"
   ]
  },
  {
   "cell_type": "code",
   "execution_count": 14,
   "id": "ade5738c",
   "metadata": {},
   "outputs": [],
   "source": [
    "# order_day_of_week ranges between 0 to 6\n",
    "# order_hour_of_day ranges between 0 to 23\n",
    "# so int8 (which goes up to 127) is more than sufficient\n",
    "df['order_day_of_week'] = df['order_day_of_week'].astype('int8')\n",
    "df['order_hour_of_day'] = df['order_hour_of_day'].astype('int8')"
   ]
  },
  {
   "cell_type": "code",
   "execution_count": 15,
   "id": "7f574288",
   "metadata": {},
   "outputs": [],
   "source": [
    "# order_number ranges between 1 to 100\n",
    "# and int16 will allow it to grow up to over 32k\n",
    "df['order_number'] = df['order_number'].astype('int16')"
   ]
  },
  {
   "cell_type": "code",
   "execution_count": 16,
   "id": "b9bd35fb",
   "metadata": {},
   "outputs": [],
   "source": [
    "# order_id and user_id are each unique integer identifiers\n",
    "# so int64 is more appropriate than float64\n",
    "df['user_id'] = df['user_id'].astype('int64')\n",
    "df['order_id'] = df['order_id'].astype('int64')"
   ]
  },
  {
   "cell_type": "code",
   "execution_count": 17,
   "id": "2eff2d23",
   "metadata": {},
   "outputs": [],
   "source": [
    "# days_since_prior_order ranges between 0 to 300\n",
    "# so float16 is more than sufficient. \n",
    "df['days_since_prior_order'] = df['days_since_prior_order'].astype('float16')"
   ]
  },
  {
   "cell_type": "code",
   "execution_count": 18,
   "id": "376df65a",
   "metadata": {
    "scrolled": false
   },
   "outputs": [
    {
     "name": "stdout",
     "output_type": "stream",
     "text": [
      "<class 'pandas.core.frame.DataFrame'>\n",
      "RangeIndex: 3421083 entries, 0 to 3421082\n",
      "Data columns (total 6 columns):\n",
      " #   Column                  Dtype  \n",
      "---  ------                  -----  \n",
      " 0   order_id                int64  \n",
      " 1   user_id                 int64  \n",
      " 2   order_number            int16  \n",
      " 3   order_day_of_week       int8   \n",
      " 4   order_hour_of_day       int8   \n",
      " 5   days_since_prior_order  float16\n",
      "dtypes: float16(1), int16(1), int64(2), int8(2)\n",
      "memory usage: 71.8 MB\n"
     ]
    }
   ],
   "source": [
    "# Confirming the changes.\n",
    "df.info()"
   ]
  },
  {
   "cell_type": "markdown",
   "id": "b5135a37",
   "metadata": {},
   "source": [
    "### 0.6 Cleaning data"
   ]
  },
  {
   "cell_type": "markdown",
   "id": "4f674fb9",
   "metadata": {},
   "source": [
    "#### 0.6.1 Overall df checks"
   ]
  },
  {
   "cell_type": "code",
   "execution_count": 19,
   "id": "72b41f4f",
   "metadata": {
    "scrolled": true
   },
   "outputs": [
    {
     "data": {
      "text/plain": [
       "order_id                       0\n",
       "user_id                        0\n",
       "order_number                   0\n",
       "order_day_of_week              0\n",
       "order_hour_of_day              0\n",
       "days_since_prior_order    206209\n",
       "dtype: int64"
      ]
     },
     "execution_count": 19,
     "metadata": {},
     "output_type": "execute_result"
    }
   ],
   "source": [
    "# Checking for nulls across df\n",
    "df.isnull().sum()"
   ]
  },
  {
   "cell_type": "markdown",
   "id": "6313605e",
   "metadata": {},
   "source": [
    "When we clean the 'days_since_prior_order' column, those 206,209 missing values will need to be addressed."
   ]
  },
  {
   "cell_type": "code",
   "execution_count": 20,
   "id": "6ca068ac",
   "metadata": {},
   "outputs": [],
   "source": [
    "# Check for mixed data types\n",
    "for col in df.columns.tolist():\n",
    "  weird = (df[[col]].applymap(type) != df[[col]].iloc[0].apply(type)).any(axis = 1)\n",
    "  if len (df[weird]) > 0:\n",
    "    print (col)"
   ]
  },
  {
   "cell_type": "markdown",
   "id": "7a19b561",
   "metadata": {},
   "source": [
    "No mixed data types found."
   ]
  },
  {
   "cell_type": "code",
   "execution_count": 21,
   "id": "cea3d14a",
   "metadata": {
    "scrolled": true
   },
   "outputs": [],
   "source": [
    "# Checking for whole-row duplicates\n",
    "dups = df[df.duplicated()]"
   ]
  },
  {
   "cell_type": "code",
   "execution_count": 22,
   "id": "22129b99",
   "metadata": {
    "scrolled": true
   },
   "outputs": [
    {
     "data": {
      "text/plain": [
       "(0, 6)"
      ]
     },
     "execution_count": 22,
     "metadata": {},
     "output_type": "execute_result"
    }
   ],
   "source": [
    "dups.shape"
   ]
  },
  {
   "cell_type": "markdown",
   "id": "e2083cc7",
   "metadata": {},
   "source": [
    "The dataframe of dups has zero rows which means that there were no duplicated rows."
   ]
  },
  {
   "cell_type": "markdown",
   "id": "396f2bf7",
   "metadata": {},
   "source": [
    "#### 0.6.2 - order_id cleaning/wrangling"
   ]
  },
  {
   "cell_type": "code",
   "execution_count": 23,
   "id": "aba738af",
   "metadata": {},
   "outputs": [
    {
     "data": {
      "text/plain": [
       "count    3.421083e+06\n",
       "mean     1.710542e+06\n",
       "std      9.875817e+05\n",
       "min      1.000000e+00\n",
       "25%      8.552715e+05\n",
       "50%      1.710542e+06\n",
       "75%      2.565812e+06\n",
       "max      3.421083e+06\n",
       "Name: order_id, dtype: float64"
      ]
     },
     "execution_count": 23,
     "metadata": {},
     "output_type": "execute_result"
    }
   ],
   "source": [
    "#Exploring the data for this column\n",
    "df['order_id'].describe()"
   ]
  },
  {
   "cell_type": "code",
   "execution_count": 24,
   "id": "2c02538a",
   "metadata": {},
   "outputs": [
    {
     "data": {
      "text/plain": [
       "3421083"
      ]
     },
     "execution_count": 24,
     "metadata": {},
     "output_type": "execute_result"
    }
   ],
   "source": [
    "# Confirming uniqueness of order_id numbers\n",
    "df.order_id.nunique()"
   ]
  },
  {
   "cell_type": "markdown",
   "id": "e45d6ea6",
   "metadata": {},
   "source": [
    "The number of unique order_id numbers matches the number of rows in the df"
   ]
  },
  {
   "cell_type": "markdown",
   "id": "49400e19",
   "metadata": {},
   "source": [
    "#### 0.6.3 - user_id cleaning/wrangling"
   ]
  },
  {
   "cell_type": "code",
   "execution_count": 25,
   "id": "d22aea7e",
   "metadata": {},
   "outputs": [
    {
     "data": {
      "text/plain": [
       "count    3.421083e+06\n",
       "mean     1.029782e+05\n",
       "std      5.953372e+04\n",
       "min      1.000000e+00\n",
       "25%      5.139400e+04\n",
       "50%      1.026890e+05\n",
       "75%      1.543850e+05\n",
       "max      2.062090e+05\n",
       "Name: user_id, dtype: float64"
      ]
     },
     "execution_count": 25,
     "metadata": {},
     "output_type": "execute_result"
    }
   ],
   "source": [
    "#Exploring the data for this column\n",
    "df['user_id'].describe()"
   ]
  },
  {
   "cell_type": "code",
   "execution_count": 26,
   "id": "d6b9c75a",
   "metadata": {},
   "outputs": [
    {
     "data": {
      "text/plain": [
       "206209"
      ]
     },
     "execution_count": 26,
     "metadata": {},
     "output_type": "execute_result"
    }
   ],
   "source": [
    "df.user_id.nunique()"
   ]
  },
  {
   "cell_type": "markdown",
   "id": "3b503371",
   "metadata": {},
   "source": [
    "There are 206,209 unique users in this df."
   ]
  },
  {
   "cell_type": "code",
   "execution_count": 27,
   "id": "5b340923",
   "metadata": {},
   "outputs": [
    {
     "data": {
      "text/plain": [
       "(3214874, 6)"
      ]
     },
     "execution_count": 27,
     "metadata": {},
     "output_type": "execute_result"
    }
   ],
   "source": [
    "# Checking the number of duplicated user_ids\n",
    "df[df.duplicated('user_id')].shape\n"
   ]
  },
  {
   "cell_type": "markdown",
   "id": "c75f1643",
   "metadata": {},
   "source": [
    "This fits the data since \n",
    "\n",
    "3,421,083 total rows \n",
    "\n",
    "-- 206,209 first orders of unique users \n",
    "\n",
    "= 3,214,874 repeat orders (which would result in duplicated user_ids)"
   ]
  },
  {
   "cell_type": "markdown",
   "id": "2f61dd3a",
   "metadata": {},
   "source": [
    "#### 0.6.4 - order_number cleaning/wrangling"
   ]
  },
  {
   "cell_type": "code",
   "execution_count": 28,
   "id": "c976277e",
   "metadata": {},
   "outputs": [
    {
     "data": {
      "text/plain": [
       "count    3.421083e+06\n",
       "mean     1.715486e+01\n",
       "std      1.773316e+01\n",
       "min      1.000000e+00\n",
       "25%      5.000000e+00\n",
       "50%      1.100000e+01\n",
       "75%      2.300000e+01\n",
       "max      1.000000e+02\n",
       "Name: order_number, dtype: float64"
      ]
     },
     "execution_count": 28,
     "metadata": {},
     "output_type": "execute_result"
    }
   ],
   "source": [
    "#Exploring the data for this column\n",
    "df['order_number'].describe()"
   ]
  },
  {
   "cell_type": "code",
   "execution_count": 29,
   "id": "b80d7d8b",
   "metadata": {},
   "outputs": [
    {
     "data": {
      "text/plain": [
       "100"
      ]
     },
     "execution_count": 29,
     "metadata": {},
     "output_type": "execute_result"
    }
   ],
   "source": [
    "df.order_number.nunique()"
   ]
  },
  {
   "cell_type": "code",
   "execution_count": 30,
   "id": "165723f9",
   "metadata": {},
   "outputs": [
    {
     "data": {
      "text/plain": [
       "1      206209\n",
       "2      206209\n",
       "3      206209\n",
       "4      206209\n",
       "5      182223\n",
       "        ...  \n",
       "96       1592\n",
       "97       1525\n",
       "98       1471\n",
       "99       1421\n",
       "100      1374\n",
       "Name: order_number, Length: 100, dtype: int64"
      ]
     },
     "execution_count": 30,
     "metadata": {},
     "output_type": "execute_result"
    }
   ],
   "source": [
    "df['order_number'].value_counts()"
   ]
  },
  {
   "cell_type": "markdown",
   "id": "33f634fd",
   "metadata": {},
   "source": [
    "The order_number variable ranges from 1 to 100.  \n",
    "All users in this df have ordered at least 4 times, and 1374 users have ordered 100 times. "
   ]
  },
  {
   "cell_type": "markdown",
   "id": "b7e0a901",
   "metadata": {},
   "source": [
    "#### 0.6.5 - order_day_of_week cleaning/wrangling"
   ]
  },
  {
   "cell_type": "code",
   "execution_count": 31,
   "id": "21c0d98d",
   "metadata": {
    "scrolled": true
   },
   "outputs": [
    {
     "data": {
      "text/plain": [
       "count    3.421083e+06\n",
       "mean     2.776219e+00\n",
       "std      2.046829e+00\n",
       "min      0.000000e+00\n",
       "25%      1.000000e+00\n",
       "50%      3.000000e+00\n",
       "75%      5.000000e+00\n",
       "max      6.000000e+00\n",
       "Name: order_day_of_week, dtype: float64"
      ]
     },
     "execution_count": 31,
     "metadata": {},
     "output_type": "execute_result"
    }
   ],
   "source": [
    "#Exploring the data for this column\n",
    "df['order_day_of_week'].describe()"
   ]
  },
  {
   "cell_type": "code",
   "execution_count": 32,
   "id": "2b3f8519",
   "metadata": {},
   "outputs": [
    {
     "data": {
      "text/plain": [
       "7"
      ]
     },
     "execution_count": 32,
     "metadata": {},
     "output_type": "execute_result"
    }
   ],
   "source": [
    "df.order_day_of_week.nunique()"
   ]
  },
  {
   "cell_type": "code",
   "execution_count": 33,
   "id": "1bc26058",
   "metadata": {},
   "outputs": [
    {
     "data": {
      "text/plain": [
       "0    600905\n",
       "1    587478\n",
       "2    467260\n",
       "3    436972\n",
       "4    426339\n",
       "5    453368\n",
       "6    448761\n",
       "Name: order_day_of_week, dtype: int64"
      ]
     },
     "execution_count": 33,
     "metadata": {},
     "output_type": "execute_result"
    }
   ],
   "source": [
    "df['order_day_of_week'].value_counts().sort_index()"
   ]
  },
  {
   "cell_type": "markdown",
   "id": "692be664",
   "metadata": {},
   "source": [
    "The order_day_of_week variable ranges from 0 to 6 (where 0 = Saturday, 1 = Sunday, 2 = Monday, etc.)"
   ]
  },
  {
   "cell_type": "markdown",
   "id": "ce7d96b0",
   "metadata": {},
   "source": [
    "#### 0.6.6 - order_hour_of_day cleaning/wrangling"
   ]
  },
  {
   "cell_type": "code",
   "execution_count": 34,
   "id": "a881ebb2",
   "metadata": {},
   "outputs": [
    {
     "data": {
      "text/plain": [
       "count    3.421083e+06\n",
       "mean     1.345202e+01\n",
       "std      4.226088e+00\n",
       "min      0.000000e+00\n",
       "25%      1.000000e+01\n",
       "50%      1.300000e+01\n",
       "75%      1.600000e+01\n",
       "max      2.300000e+01\n",
       "Name: order_hour_of_day, dtype: float64"
      ]
     },
     "execution_count": 34,
     "metadata": {},
     "output_type": "execute_result"
    }
   ],
   "source": [
    "#Exploring the data for this column\n",
    "df['order_hour_of_day'].describe()"
   ]
  },
  {
   "cell_type": "code",
   "execution_count": 35,
   "id": "06625a86",
   "metadata": {},
   "outputs": [
    {
     "data": {
      "text/plain": [
       "24"
      ]
     },
     "execution_count": 35,
     "metadata": {},
     "output_type": "execute_result"
    }
   ],
   "source": [
    "df.order_hour_of_day.nunique()"
   ]
  },
  {
   "cell_type": "code",
   "execution_count": 36,
   "id": "49a8dc1e",
   "metadata": {},
   "outputs": [
    {
     "data": {
      "text/plain": [
       "0      22758\n",
       "1      12398\n",
       "2       7539\n",
       "3       5474\n",
       "4       5527\n",
       "5       9569\n",
       "6      30529\n",
       "7      91868\n",
       "8     178201\n",
       "9     257812\n",
       "10    288418\n",
       "11    284728\n",
       "12    272841\n",
       "13    277999\n",
       "14    283042\n",
       "15    283639\n",
       "16    272553\n",
       "17    228795\n",
       "18    182912\n",
       "19    140569\n",
       "20    104292\n",
       "21     78109\n",
       "22     61468\n",
       "23     40043\n",
       "Name: order_hour_of_day, dtype: int64"
      ]
     },
     "execution_count": 36,
     "metadata": {},
     "output_type": "execute_result"
    }
   ],
   "source": [
    "df['order_hour_of_day'].value_counts().sort_index()"
   ]
  },
  {
   "cell_type": "markdown",
   "id": "1be3e474",
   "metadata": {},
   "source": [
    "The order_hour_of_day variable ranges from 0 to 23 (where 0 = Midnight, 1 = 1 a.m., 2 = 2 a.m. ... 12 = Noon, 13 = 1 p.m., etc.)"
   ]
  },
  {
   "cell_type": "markdown",
   "id": "7c89b7e5",
   "metadata": {},
   "source": [
    "#### 0.6.7 - days_since_prior_order cleaning/wrangling"
   ]
  },
  {
   "cell_type": "code",
   "execution_count": 37,
   "id": "a68d9ba7",
   "metadata": {
    "scrolled": false
   },
   "outputs": [
    {
     "data": {
      "text/plain": [
       "count    3214874.0\n",
       "mean           NaN\n",
       "std            0.0\n",
       "min            0.0\n",
       "25%            4.0\n",
       "50%            7.0\n",
       "75%           15.0\n",
       "max           30.0\n",
       "Name: days_since_prior_order, dtype: float64"
      ]
     },
     "execution_count": 37,
     "metadata": {},
     "output_type": "execute_result"
    }
   ],
   "source": [
    "#Exploring the data for this column\n",
    "df['days_since_prior_order'].describe()"
   ]
  },
  {
   "cell_type": "code",
   "execution_count": 38,
   "id": "22c78bfd",
   "metadata": {},
   "outputs": [
    {
     "data": {
      "text/plain": [
       "31"
      ]
     },
     "execution_count": 38,
     "metadata": {},
     "output_type": "execute_result"
    }
   ],
   "source": [
    "df.days_since_prior_order.nunique()"
   ]
  },
  {
   "cell_type": "code",
   "execution_count": 39,
   "id": "79144f4f",
   "metadata": {},
   "outputs": [
    {
     "data": {
      "text/plain": [
       "0.0      67755\n",
       "1.0     145247\n",
       "2.0     193206\n",
       "3.0     217005\n",
       "4.0     221696\n",
       "5.0     214503\n",
       "6.0     240013\n",
       "7.0     320608\n",
       "8.0     181717\n",
       "9.0     118188\n",
       "10.0     95186\n",
       "11.0     80970\n",
       "12.0     76146\n",
       "13.0     83214\n",
       "14.0    100230\n",
       "15.0     66579\n",
       "16.0     46941\n",
       "17.0     39245\n",
       "18.0     35881\n",
       "19.0     34384\n",
       "20.0     38527\n",
       "21.0     45470\n",
       "22.0     32012\n",
       "23.0     23885\n",
       "24.0     20712\n",
       "25.0     19234\n",
       "26.0     19016\n",
       "27.0     22013\n",
       "28.0     26777\n",
       "29.0     19191\n",
       "30.0    369323\n",
       "NaN     206209\n",
       "Name: days_since_prior_order, dtype: int64"
      ]
     },
     "execution_count": 39,
     "metadata": {},
     "output_type": "execute_result"
    }
   ],
   "source": [
    "df['days_since_prior_order'].value_counts(dropna=False).sort_index()"
   ]
  },
  {
   "cell_type": "markdown",
   "id": "45f5dace",
   "metadata": {},
   "source": [
    "Zero days since prior order would indicate that there had been an earlier order that same day.  \n",
    "\n",
    "The orders with NaN for days_since_prior_order would then refer to a customer who has *never* had a prior order due to them being a *new* customer.  Thus these NaN orders would be the customer's first order ever."
   ]
  },
  {
   "cell_type": "code",
   "execution_count": 40,
   "id": "b4adb6f8",
   "metadata": {},
   "outputs": [],
   "source": [
    "# Confirming that the orders with NaN for days_since_prior_order\n",
    "# all also have an order_number = 1\n",
    "df_days_null = df[df['days_since_prior_order'].isnull() == True]"
   ]
  },
  {
   "cell_type": "code",
   "execution_count": 41,
   "id": "613deae3",
   "metadata": {},
   "outputs": [
    {
     "data": {
      "text/plain": [
       "count    206209.0\n",
       "mean          1.0\n",
       "std           0.0\n",
       "min           1.0\n",
       "25%           1.0\n",
       "50%           1.0\n",
       "75%           1.0\n",
       "max           1.0\n",
       "Name: order_number, dtype: float64"
      ]
     },
     "execution_count": 41,
     "metadata": {},
     "output_type": "execute_result"
    }
   ],
   "source": [
    "df_days_null['order_number'].describe()"
   ]
  },
  {
   "cell_type": "markdown",
   "id": "2705ab9f",
   "metadata": {},
   "source": [
    "This shows that all 206,209 rows with null values for days_since_prior_order\n",
    "are also labeled as having an order_number = 1.  So we can appropriately flag these rows as first_order_of_new_customer\n",
    "\n",
    "This could also be confirmed using a crosstab.\n",
    "This code is included here as a requirement of my CareerFoundry exercise."
   ]
  },
  {
   "cell_type": "code",
   "execution_count": 42,
   "id": "af0958d3",
   "metadata": {},
   "outputs": [],
   "source": [
    "# Confirming that the orders with an order_number = 1 never show up\n",
    "# as having been ordered later than another order\n",
    "# (i.e. have a non-null value for days_since_prior order)\n",
    "\n",
    "crosstab = pd.crosstab(df['days_since_prior_order'], df['order_number'], dropna = False)"
   ]
  },
  {
   "cell_type": "code",
   "execution_count": 43,
   "id": "852df429",
   "metadata": {},
   "outputs": [
    {
     "data": {
      "text/plain": [
       "(31, 100)"
      ]
     },
     "execution_count": 43,
     "metadata": {},
     "output_type": "execute_result"
    }
   ],
   "source": [
    "crosstab.shape"
   ]
  },
  {
   "cell_type": "code",
   "execution_count": 44,
   "id": "2d783017",
   "metadata": {},
   "outputs": [
    {
     "data": {
      "text/html": [
       "<div>\n",
       "<style scoped>\n",
       "    .dataframe tbody tr th:only-of-type {\n",
       "        vertical-align: middle;\n",
       "    }\n",
       "\n",
       "    .dataframe tbody tr th {\n",
       "        vertical-align: top;\n",
       "    }\n",
       "\n",
       "    .dataframe thead th {\n",
       "        text-align: right;\n",
       "    }\n",
       "</style>\n",
       "<table border=\"1\" class=\"dataframe\">\n",
       "  <thead>\n",
       "    <tr style=\"text-align: right;\">\n",
       "      <th>order_number</th>\n",
       "      <th>1</th>\n",
       "      <th>2</th>\n",
       "      <th>3</th>\n",
       "      <th>4</th>\n",
       "      <th>5</th>\n",
       "      <th>6</th>\n",
       "      <th>7</th>\n",
       "      <th>8</th>\n",
       "      <th>9</th>\n",
       "      <th>10</th>\n",
       "      <th>...</th>\n",
       "      <th>91</th>\n",
       "      <th>92</th>\n",
       "      <th>93</th>\n",
       "      <th>94</th>\n",
       "      <th>95</th>\n",
       "      <th>96</th>\n",
       "      <th>97</th>\n",
       "      <th>98</th>\n",
       "      <th>99</th>\n",
       "      <th>100</th>\n",
       "    </tr>\n",
       "    <tr>\n",
       "      <th>days_since_prior_order</th>\n",
       "      <th></th>\n",
       "      <th></th>\n",
       "      <th></th>\n",
       "      <th></th>\n",
       "      <th></th>\n",
       "      <th></th>\n",
       "      <th></th>\n",
       "      <th></th>\n",
       "      <th></th>\n",
       "      <th></th>\n",
       "      <th></th>\n",
       "      <th></th>\n",
       "      <th></th>\n",
       "      <th></th>\n",
       "      <th></th>\n",
       "      <th></th>\n",
       "      <th></th>\n",
       "      <th></th>\n",
       "      <th></th>\n",
       "      <th></th>\n",
       "      <th></th>\n",
       "    </tr>\n",
       "  </thead>\n",
       "  <tbody>\n",
       "    <tr>\n",
       "      <th>0.0</th>\n",
       "      <td>0</td>\n",
       "      <td>2899</td>\n",
       "      <td>2915</td>\n",
       "      <td>2964</td>\n",
       "      <td>2634</td>\n",
       "      <td>2443</td>\n",
       "      <td>2236</td>\n",
       "      <td>2101</td>\n",
       "      <td>1972</td>\n",
       "      <td>1782</td>\n",
       "      <td>...</td>\n",
       "      <td>156</td>\n",
       "      <td>154</td>\n",
       "      <td>125</td>\n",
       "      <td>151</td>\n",
       "      <td>151</td>\n",
       "      <td>153</td>\n",
       "      <td>120</td>\n",
       "      <td>144</td>\n",
       "      <td>134</td>\n",
       "      <td>137</td>\n",
       "    </tr>\n",
       "    <tr>\n",
       "      <th>1.0</th>\n",
       "      <td>0</td>\n",
       "      <td>4822</td>\n",
       "      <td>4613</td>\n",
       "      <td>4690</td>\n",
       "      <td>4423</td>\n",
       "      <td>4047</td>\n",
       "      <td>4000</td>\n",
       "      <td>3744</td>\n",
       "      <td>3503</td>\n",
       "      <td>3358</td>\n",
       "      <td>...</td>\n",
       "      <td>397</td>\n",
       "      <td>396</td>\n",
       "      <td>373</td>\n",
       "      <td>359</td>\n",
       "      <td>366</td>\n",
       "      <td>330</td>\n",
       "      <td>356</td>\n",
       "      <td>360</td>\n",
       "      <td>339</td>\n",
       "      <td>321</td>\n",
       "    </tr>\n",
       "    <tr>\n",
       "      <th>2.0</th>\n",
       "      <td>0</td>\n",
       "      <td>6203</td>\n",
       "      <td>6209</td>\n",
       "      <td>6231</td>\n",
       "      <td>5789</td>\n",
       "      <td>5679</td>\n",
       "      <td>5274</td>\n",
       "      <td>5090</td>\n",
       "      <td>4914</td>\n",
       "      <td>4705</td>\n",
       "      <td>...</td>\n",
       "      <td>416</td>\n",
       "      <td>405</td>\n",
       "      <td>407</td>\n",
       "      <td>389</td>\n",
       "      <td>359</td>\n",
       "      <td>351</td>\n",
       "      <td>359</td>\n",
       "      <td>346</td>\n",
       "      <td>318</td>\n",
       "      <td>329</td>\n",
       "    </tr>\n",
       "    <tr>\n",
       "      <th>3.0</th>\n",
       "      <td>0</td>\n",
       "      <td>7411</td>\n",
       "      <td>7577</td>\n",
       "      <td>7414</td>\n",
       "      <td>7097</td>\n",
       "      <td>6770</td>\n",
       "      <td>6424</td>\n",
       "      <td>6078</td>\n",
       "      <td>5750</td>\n",
       "      <td>5663</td>\n",
       "      <td>...</td>\n",
       "      <td>345</td>\n",
       "      <td>287</td>\n",
       "      <td>330</td>\n",
       "      <td>294</td>\n",
       "      <td>291</td>\n",
       "      <td>292</td>\n",
       "      <td>254</td>\n",
       "      <td>221</td>\n",
       "      <td>240</td>\n",
       "      <td>223</td>\n",
       "    </tr>\n",
       "    <tr>\n",
       "      <th>4.0</th>\n",
       "      <td>0</td>\n",
       "      <td>8415</td>\n",
       "      <td>8476</td>\n",
       "      <td>8469</td>\n",
       "      <td>8029</td>\n",
       "      <td>7608</td>\n",
       "      <td>7092</td>\n",
       "      <td>6735</td>\n",
       "      <td>6534</td>\n",
       "      <td>6395</td>\n",
       "      <td>...</td>\n",
       "      <td>221</td>\n",
       "      <td>238</td>\n",
       "      <td>225</td>\n",
       "      <td>191</td>\n",
       "      <td>193</td>\n",
       "      <td>185</td>\n",
       "      <td>183</td>\n",
       "      <td>170</td>\n",
       "      <td>170</td>\n",
       "      <td>153</td>\n",
       "    </tr>\n",
       "    <tr>\n",
       "      <th>5.0</th>\n",
       "      <td>0</td>\n",
       "      <td>9216</td>\n",
       "      <td>9329</td>\n",
       "      <td>9220</td>\n",
       "      <td>8600</td>\n",
       "      <td>8228</td>\n",
       "      <td>7703</td>\n",
       "      <td>7270</td>\n",
       "      <td>6828</td>\n",
       "      <td>6563</td>\n",
       "      <td>...</td>\n",
       "      <td>142</td>\n",
       "      <td>128</td>\n",
       "      <td>105</td>\n",
       "      <td>119</td>\n",
       "      <td>119</td>\n",
       "      <td>120</td>\n",
       "      <td>100</td>\n",
       "      <td>95</td>\n",
       "      <td>82</td>\n",
       "      <td>81</td>\n",
       "    </tr>\n",
       "    <tr>\n",
       "      <th>6.0</th>\n",
       "      <td>0</td>\n",
       "      <td>11419</td>\n",
       "      <td>11701</td>\n",
       "      <td>11601</td>\n",
       "      <td>10771</td>\n",
       "      <td>10054</td>\n",
       "      <td>9521</td>\n",
       "      <td>8842</td>\n",
       "      <td>8527</td>\n",
       "      <td>7727</td>\n",
       "      <td>...</td>\n",
       "      <td>77</td>\n",
       "      <td>91</td>\n",
       "      <td>86</td>\n",
       "      <td>82</td>\n",
       "      <td>67</td>\n",
       "      <td>59</td>\n",
       "      <td>58</td>\n",
       "      <td>50</td>\n",
       "      <td>58</td>\n",
       "      <td>44</td>\n",
       "    </tr>\n",
       "    <tr>\n",
       "      <th>7.0</th>\n",
       "      <td>0</td>\n",
       "      <td>16788</td>\n",
       "      <td>16609</td>\n",
       "      <td>16341</td>\n",
       "      <td>15135</td>\n",
       "      <td>13834</td>\n",
       "      <td>13268</td>\n",
       "      <td>12452</td>\n",
       "      <td>11612</td>\n",
       "      <td>10980</td>\n",
       "      <td>...</td>\n",
       "      <td>60</td>\n",
       "      <td>56</td>\n",
       "      <td>48</td>\n",
       "      <td>56</td>\n",
       "      <td>36</td>\n",
       "      <td>37</td>\n",
       "      <td>37</td>\n",
       "      <td>41</td>\n",
       "      <td>32</td>\n",
       "      <td>35</td>\n",
       "    </tr>\n",
       "    <tr>\n",
       "      <th>8.0</th>\n",
       "      <td>0</td>\n",
       "      <td>10422</td>\n",
       "      <td>10304</td>\n",
       "      <td>10148</td>\n",
       "      <td>9378</td>\n",
       "      <td>8738</td>\n",
       "      <td>8068</td>\n",
       "      <td>7594</td>\n",
       "      <td>6894</td>\n",
       "      <td>6511</td>\n",
       "      <td>...</td>\n",
       "      <td>29</td>\n",
       "      <td>22</td>\n",
       "      <td>24</td>\n",
       "      <td>26</td>\n",
       "      <td>23</td>\n",
       "      <td>30</td>\n",
       "      <td>18</td>\n",
       "      <td>16</td>\n",
       "      <td>12</td>\n",
       "      <td>13</td>\n",
       "    </tr>\n",
       "    <tr>\n",
       "      <th>9.0</th>\n",
       "      <td>0</td>\n",
       "      <td>7053</td>\n",
       "      <td>7160</td>\n",
       "      <td>7013</td>\n",
       "      <td>6610</td>\n",
       "      <td>5993</td>\n",
       "      <td>5497</td>\n",
       "      <td>5082</td>\n",
       "      <td>4760</td>\n",
       "      <td>4404</td>\n",
       "      <td>...</td>\n",
       "      <td>12</td>\n",
       "      <td>8</td>\n",
       "      <td>14</td>\n",
       "      <td>12</td>\n",
       "      <td>8</td>\n",
       "      <td>6</td>\n",
       "      <td>7</td>\n",
       "      <td>8</td>\n",
       "      <td>7</td>\n",
       "      <td>11</td>\n",
       "    </tr>\n",
       "    <tr>\n",
       "      <th>10.0</th>\n",
       "      <td>0</td>\n",
       "      <td>5969</td>\n",
       "      <td>6037</td>\n",
       "      <td>5938</td>\n",
       "      <td>5376</td>\n",
       "      <td>5018</td>\n",
       "      <td>4479</td>\n",
       "      <td>4245</td>\n",
       "      <td>3844</td>\n",
       "      <td>3531</td>\n",
       "      <td>...</td>\n",
       "      <td>9</td>\n",
       "      <td>20</td>\n",
       "      <td>10</td>\n",
       "      <td>6</td>\n",
       "      <td>11</td>\n",
       "      <td>1</td>\n",
       "      <td>7</td>\n",
       "      <td>4</td>\n",
       "      <td>4</td>\n",
       "      <td>7</td>\n",
       "    </tr>\n",
       "    <tr>\n",
       "      <th>11.0</th>\n",
       "      <td>0</td>\n",
       "      <td>5352</td>\n",
       "      <td>5388</td>\n",
       "      <td>5325</td>\n",
       "      <td>4718</td>\n",
       "      <td>4363</td>\n",
       "      <td>4087</td>\n",
       "      <td>3767</td>\n",
       "      <td>3429</td>\n",
       "      <td>3180</td>\n",
       "      <td>...</td>\n",
       "      <td>13</td>\n",
       "      <td>13</td>\n",
       "      <td>5</td>\n",
       "      <td>7</td>\n",
       "      <td>8</td>\n",
       "      <td>6</td>\n",
       "      <td>6</td>\n",
       "      <td>1</td>\n",
       "      <td>3</td>\n",
       "      <td>7</td>\n",
       "    </tr>\n",
       "    <tr>\n",
       "      <th>12.0</th>\n",
       "      <td>0</td>\n",
       "      <td>5206</td>\n",
       "      <td>5357</td>\n",
       "      <td>5348</td>\n",
       "      <td>4657</td>\n",
       "      <td>4333</td>\n",
       "      <td>3954</td>\n",
       "      <td>3568</td>\n",
       "      <td>3404</td>\n",
       "      <td>2941</td>\n",
       "      <td>...</td>\n",
       "      <td>4</td>\n",
       "      <td>5</td>\n",
       "      <td>4</td>\n",
       "      <td>5</td>\n",
       "      <td>6</td>\n",
       "      <td>5</td>\n",
       "      <td>5</td>\n",
       "      <td>1</td>\n",
       "      <td>5</td>\n",
       "      <td>3</td>\n",
       "    </tr>\n",
       "    <tr>\n",
       "      <th>13.0</th>\n",
       "      <td>0</td>\n",
       "      <td>6098</td>\n",
       "      <td>6265</td>\n",
       "      <td>6003</td>\n",
       "      <td>5520</td>\n",
       "      <td>4855</td>\n",
       "      <td>4480</td>\n",
       "      <td>4083</td>\n",
       "      <td>3708</td>\n",
       "      <td>3408</td>\n",
       "      <td>...</td>\n",
       "      <td>8</td>\n",
       "      <td>9</td>\n",
       "      <td>5</td>\n",
       "      <td>6</td>\n",
       "      <td>5</td>\n",
       "      <td>2</td>\n",
       "      <td>3</td>\n",
       "      <td>6</td>\n",
       "      <td>6</td>\n",
       "      <td>1</td>\n",
       "    </tr>\n",
       "    <tr>\n",
       "      <th>14.0</th>\n",
       "      <td>0</td>\n",
       "      <td>7680</td>\n",
       "      <td>7529</td>\n",
       "      <td>7577</td>\n",
       "      <td>6951</td>\n",
       "      <td>6004</td>\n",
       "      <td>5549</td>\n",
       "      <td>4976</td>\n",
       "      <td>4563</td>\n",
       "      <td>4187</td>\n",
       "      <td>...</td>\n",
       "      <td>1</td>\n",
       "      <td>3</td>\n",
       "      <td>12</td>\n",
       "      <td>3</td>\n",
       "      <td>3</td>\n",
       "      <td>3</td>\n",
       "      <td>4</td>\n",
       "      <td>2</td>\n",
       "      <td>1</td>\n",
       "      <td>2</td>\n",
       "    </tr>\n",
       "    <tr>\n",
       "      <th>15.0</th>\n",
       "      <td>0</td>\n",
       "      <td>5219</td>\n",
       "      <td>5121</td>\n",
       "      <td>5225</td>\n",
       "      <td>4588</td>\n",
       "      <td>4068</td>\n",
       "      <td>3670</td>\n",
       "      <td>3384</td>\n",
       "      <td>3046</td>\n",
       "      <td>2793</td>\n",
       "      <td>...</td>\n",
       "      <td>3</td>\n",
       "      <td>3</td>\n",
       "      <td>2</td>\n",
       "      <td>1</td>\n",
       "      <td>3</td>\n",
       "      <td>2</td>\n",
       "      <td>2</td>\n",
       "      <td>1</td>\n",
       "      <td>1</td>\n",
       "      <td>1</td>\n",
       "    </tr>\n",
       "    <tr>\n",
       "      <th>16.0</th>\n",
       "      <td>0</td>\n",
       "      <td>3791</td>\n",
       "      <td>3794</td>\n",
       "      <td>3690</td>\n",
       "      <td>3316</td>\n",
       "      <td>2994</td>\n",
       "      <td>2665</td>\n",
       "      <td>2370</td>\n",
       "      <td>2269</td>\n",
       "      <td>2085</td>\n",
       "      <td>...</td>\n",
       "      <td>1</td>\n",
       "      <td>1</td>\n",
       "      <td>0</td>\n",
       "      <td>2</td>\n",
       "      <td>0</td>\n",
       "      <td>3</td>\n",
       "      <td>2</td>\n",
       "      <td>3</td>\n",
       "      <td>1</td>\n",
       "      <td>1</td>\n",
       "    </tr>\n",
       "    <tr>\n",
       "      <th>17.0</th>\n",
       "      <td>0</td>\n",
       "      <td>3131</td>\n",
       "      <td>3241</td>\n",
       "      <td>3226</td>\n",
       "      <td>2823</td>\n",
       "      <td>2546</td>\n",
       "      <td>2152</td>\n",
       "      <td>2039</td>\n",
       "      <td>1791</td>\n",
       "      <td>1662</td>\n",
       "      <td>...</td>\n",
       "      <td>0</td>\n",
       "      <td>4</td>\n",
       "      <td>1</td>\n",
       "      <td>1</td>\n",
       "      <td>1</td>\n",
       "      <td>2</td>\n",
       "      <td>2</td>\n",
       "      <td>0</td>\n",
       "      <td>2</td>\n",
       "      <td>0</td>\n",
       "    </tr>\n",
       "    <tr>\n",
       "      <th>18.0</th>\n",
       "      <td>0</td>\n",
       "      <td>3041</td>\n",
       "      <td>2971</td>\n",
       "      <td>2904</td>\n",
       "      <td>2660</td>\n",
       "      <td>2337</td>\n",
       "      <td>2078</td>\n",
       "      <td>1850</td>\n",
       "      <td>1730</td>\n",
       "      <td>1531</td>\n",
       "      <td>...</td>\n",
       "      <td>1</td>\n",
       "      <td>1</td>\n",
       "      <td>0</td>\n",
       "      <td>2</td>\n",
       "      <td>0</td>\n",
       "      <td>1</td>\n",
       "      <td>0</td>\n",
       "      <td>0</td>\n",
       "      <td>2</td>\n",
       "      <td>0</td>\n",
       "    </tr>\n",
       "    <tr>\n",
       "      <th>19.0</th>\n",
       "      <td>0</td>\n",
       "      <td>2861</td>\n",
       "      <td>2999</td>\n",
       "      <td>2877</td>\n",
       "      <td>2579</td>\n",
       "      <td>2359</td>\n",
       "      <td>2081</td>\n",
       "      <td>1872</td>\n",
       "      <td>1621</td>\n",
       "      <td>1469</td>\n",
       "      <td>...</td>\n",
       "      <td>2</td>\n",
       "      <td>0</td>\n",
       "      <td>0</td>\n",
       "      <td>0</td>\n",
       "      <td>1</td>\n",
       "      <td>2</td>\n",
       "      <td>2</td>\n",
       "      <td>0</td>\n",
       "      <td>0</td>\n",
       "      <td>1</td>\n",
       "    </tr>\n",
       "    <tr>\n",
       "      <th>20.0</th>\n",
       "      <td>0</td>\n",
       "      <td>3411</td>\n",
       "      <td>3380</td>\n",
       "      <td>3427</td>\n",
       "      <td>2953</td>\n",
       "      <td>2593</td>\n",
       "      <td>2355</td>\n",
       "      <td>2113</td>\n",
       "      <td>1810</td>\n",
       "      <td>1677</td>\n",
       "      <td>...</td>\n",
       "      <td>4</td>\n",
       "      <td>1</td>\n",
       "      <td>0</td>\n",
       "      <td>1</td>\n",
       "      <td>0</td>\n",
       "      <td>0</td>\n",
       "      <td>0</td>\n",
       "      <td>0</td>\n",
       "      <td>0</td>\n",
       "      <td>1</td>\n",
       "    </tr>\n",
       "    <tr>\n",
       "      <th>21.0</th>\n",
       "      <td>0</td>\n",
       "      <td>4258</td>\n",
       "      <td>4205</td>\n",
       "      <td>4067</td>\n",
       "      <td>3459</td>\n",
       "      <td>3263</td>\n",
       "      <td>2801</td>\n",
       "      <td>2429</td>\n",
       "      <td>2205</td>\n",
       "      <td>2021</td>\n",
       "      <td>...</td>\n",
       "      <td>0</td>\n",
       "      <td>1</td>\n",
       "      <td>1</td>\n",
       "      <td>0</td>\n",
       "      <td>1</td>\n",
       "      <td>0</td>\n",
       "      <td>0</td>\n",
       "      <td>1</td>\n",
       "      <td>0</td>\n",
       "      <td>1</td>\n",
       "    </tr>\n",
       "    <tr>\n",
       "      <th>22.0</th>\n",
       "      <td>0</td>\n",
       "      <td>2956</td>\n",
       "      <td>2866</td>\n",
       "      <td>2887</td>\n",
       "      <td>2504</td>\n",
       "      <td>2168</td>\n",
       "      <td>2015</td>\n",
       "      <td>1756</td>\n",
       "      <td>1619</td>\n",
       "      <td>1451</td>\n",
       "      <td>...</td>\n",
       "      <td>1</td>\n",
       "      <td>0</td>\n",
       "      <td>0</td>\n",
       "      <td>0</td>\n",
       "      <td>1</td>\n",
       "      <td>0</td>\n",
       "      <td>0</td>\n",
       "      <td>0</td>\n",
       "      <td>1</td>\n",
       "      <td>1</td>\n",
       "    </tr>\n",
       "    <tr>\n",
       "      <th>23.0</th>\n",
       "      <td>0</td>\n",
       "      <td>2268</td>\n",
       "      <td>2296</td>\n",
       "      <td>2204</td>\n",
       "      <td>1889</td>\n",
       "      <td>1666</td>\n",
       "      <td>1516</td>\n",
       "      <td>1282</td>\n",
       "      <td>1208</td>\n",
       "      <td>995</td>\n",
       "      <td>...</td>\n",
       "      <td>0</td>\n",
       "      <td>1</td>\n",
       "      <td>0</td>\n",
       "      <td>0</td>\n",
       "      <td>1</td>\n",
       "      <td>0</td>\n",
       "      <td>0</td>\n",
       "      <td>0</td>\n",
       "      <td>2</td>\n",
       "      <td>0</td>\n",
       "    </tr>\n",
       "    <tr>\n",
       "      <th>24.0</th>\n",
       "      <td>0</td>\n",
       "      <td>1875</td>\n",
       "      <td>1960</td>\n",
       "      <td>1900</td>\n",
       "      <td>1754</td>\n",
       "      <td>1496</td>\n",
       "      <td>1334</td>\n",
       "      <td>1176</td>\n",
       "      <td>996</td>\n",
       "      <td>955</td>\n",
       "      <td>...</td>\n",
       "      <td>0</td>\n",
       "      <td>0</td>\n",
       "      <td>0</td>\n",
       "      <td>0</td>\n",
       "      <td>0</td>\n",
       "      <td>0</td>\n",
       "      <td>0</td>\n",
       "      <td>0</td>\n",
       "      <td>0</td>\n",
       "      <td>0</td>\n",
       "    </tr>\n",
       "    <tr>\n",
       "      <th>25.0</th>\n",
       "      <td>0</td>\n",
       "      <td>1843</td>\n",
       "      <td>1879</td>\n",
       "      <td>1847</td>\n",
       "      <td>1619</td>\n",
       "      <td>1400</td>\n",
       "      <td>1198</td>\n",
       "      <td>1016</td>\n",
       "      <td>964</td>\n",
       "      <td>807</td>\n",
       "      <td>...</td>\n",
       "      <td>0</td>\n",
       "      <td>0</td>\n",
       "      <td>0</td>\n",
       "      <td>0</td>\n",
       "      <td>0</td>\n",
       "      <td>0</td>\n",
       "      <td>0</td>\n",
       "      <td>0</td>\n",
       "      <td>0</td>\n",
       "      <td>0</td>\n",
       "    </tr>\n",
       "    <tr>\n",
       "      <th>26.0</th>\n",
       "      <td>0</td>\n",
       "      <td>1872</td>\n",
       "      <td>1890</td>\n",
       "      <td>1760</td>\n",
       "      <td>1619</td>\n",
       "      <td>1442</td>\n",
       "      <td>1238</td>\n",
       "      <td>1084</td>\n",
       "      <td>984</td>\n",
       "      <td>843</td>\n",
       "      <td>...</td>\n",
       "      <td>0</td>\n",
       "      <td>0</td>\n",
       "      <td>0</td>\n",
       "      <td>0</td>\n",
       "      <td>1</td>\n",
       "      <td>0</td>\n",
       "      <td>0</td>\n",
       "      <td>0</td>\n",
       "      <td>0</td>\n",
       "      <td>0</td>\n",
       "    </tr>\n",
       "    <tr>\n",
       "      <th>27.0</th>\n",
       "      <td>0</td>\n",
       "      <td>2177</td>\n",
       "      <td>2236</td>\n",
       "      <td>2258</td>\n",
       "      <td>1994</td>\n",
       "      <td>1598</td>\n",
       "      <td>1439</td>\n",
       "      <td>1340</td>\n",
       "      <td>1138</td>\n",
       "      <td>925</td>\n",
       "      <td>...</td>\n",
       "      <td>0</td>\n",
       "      <td>0</td>\n",
       "      <td>0</td>\n",
       "      <td>0</td>\n",
       "      <td>0</td>\n",
       "      <td>0</td>\n",
       "      <td>0</td>\n",
       "      <td>0</td>\n",
       "      <td>0</td>\n",
       "      <td>0</td>\n",
       "    </tr>\n",
       "    <tr>\n",
       "      <th>28.0</th>\n",
       "      <td>0</td>\n",
       "      <td>2728</td>\n",
       "      <td>2760</td>\n",
       "      <td>2797</td>\n",
       "      <td>2287</td>\n",
       "      <td>2035</td>\n",
       "      <td>1745</td>\n",
       "      <td>1592</td>\n",
       "      <td>1385</td>\n",
       "      <td>1187</td>\n",
       "      <td>...</td>\n",
       "      <td>0</td>\n",
       "      <td>0</td>\n",
       "      <td>1</td>\n",
       "      <td>0</td>\n",
       "      <td>0</td>\n",
       "      <td>1</td>\n",
       "      <td>0</td>\n",
       "      <td>0</td>\n",
       "      <td>0</td>\n",
       "      <td>1</td>\n",
       "    </tr>\n",
       "    <tr>\n",
       "      <th>29.0</th>\n",
       "      <td>0</td>\n",
       "      <td>1986</td>\n",
       "      <td>2012</td>\n",
       "      <td>1971</td>\n",
       "      <td>1711</td>\n",
       "      <td>1489</td>\n",
       "      <td>1259</td>\n",
       "      <td>1113</td>\n",
       "      <td>984</td>\n",
       "      <td>837</td>\n",
       "      <td>...</td>\n",
       "      <td>1</td>\n",
       "      <td>0</td>\n",
       "      <td>0</td>\n",
       "      <td>0</td>\n",
       "      <td>0</td>\n",
       "      <td>0</td>\n",
       "      <td>0</td>\n",
       "      <td>0</td>\n",
       "      <td>0</td>\n",
       "      <td>0</td>\n",
       "    </tr>\n",
       "    <tr>\n",
       "      <th>30.0</th>\n",
       "      <td>0</td>\n",
       "      <td>47839</td>\n",
       "      <td>47130</td>\n",
       "      <td>48887</td>\n",
       "      <td>38780</td>\n",
       "      <td>31212</td>\n",
       "      <td>25290</td>\n",
       "      <td>20575</td>\n",
       "      <td>16926</td>\n",
       "      <td>14155</td>\n",
       "      <td>...</td>\n",
       "      <td>2</td>\n",
       "      <td>2</td>\n",
       "      <td>2</td>\n",
       "      <td>0</td>\n",
       "      <td>1</td>\n",
       "      <td>1</td>\n",
       "      <td>0</td>\n",
       "      <td>1</td>\n",
       "      <td>1</td>\n",
       "      <td>0</td>\n",
       "    </tr>\n",
       "  </tbody>\n",
       "</table>\n",
       "<p>31 rows × 100 columns</p>\n",
       "</div>"
      ],
      "text/plain": [
       "order_number            1      2      3      4      5      6      7      8    \\\n",
       "days_since_prior_order                                                         \n",
       "0.0                       0   2899   2915   2964   2634   2443   2236   2101   \n",
       "1.0                       0   4822   4613   4690   4423   4047   4000   3744   \n",
       "2.0                       0   6203   6209   6231   5789   5679   5274   5090   \n",
       "3.0                       0   7411   7577   7414   7097   6770   6424   6078   \n",
       "4.0                       0   8415   8476   8469   8029   7608   7092   6735   \n",
       "5.0                       0   9216   9329   9220   8600   8228   7703   7270   \n",
       "6.0                       0  11419  11701  11601  10771  10054   9521   8842   \n",
       "7.0                       0  16788  16609  16341  15135  13834  13268  12452   \n",
       "8.0                       0  10422  10304  10148   9378   8738   8068   7594   \n",
       "9.0                       0   7053   7160   7013   6610   5993   5497   5082   \n",
       "10.0                      0   5969   6037   5938   5376   5018   4479   4245   \n",
       "11.0                      0   5352   5388   5325   4718   4363   4087   3767   \n",
       "12.0                      0   5206   5357   5348   4657   4333   3954   3568   \n",
       "13.0                      0   6098   6265   6003   5520   4855   4480   4083   \n",
       "14.0                      0   7680   7529   7577   6951   6004   5549   4976   \n",
       "15.0                      0   5219   5121   5225   4588   4068   3670   3384   \n",
       "16.0                      0   3791   3794   3690   3316   2994   2665   2370   \n",
       "17.0                      0   3131   3241   3226   2823   2546   2152   2039   \n",
       "18.0                      0   3041   2971   2904   2660   2337   2078   1850   \n",
       "19.0                      0   2861   2999   2877   2579   2359   2081   1872   \n",
       "20.0                      0   3411   3380   3427   2953   2593   2355   2113   \n",
       "21.0                      0   4258   4205   4067   3459   3263   2801   2429   \n",
       "22.0                      0   2956   2866   2887   2504   2168   2015   1756   \n",
       "23.0                      0   2268   2296   2204   1889   1666   1516   1282   \n",
       "24.0                      0   1875   1960   1900   1754   1496   1334   1176   \n",
       "25.0                      0   1843   1879   1847   1619   1400   1198   1016   \n",
       "26.0                      0   1872   1890   1760   1619   1442   1238   1084   \n",
       "27.0                      0   2177   2236   2258   1994   1598   1439   1340   \n",
       "28.0                      0   2728   2760   2797   2287   2035   1745   1592   \n",
       "29.0                      0   1986   2012   1971   1711   1489   1259   1113   \n",
       "30.0                      0  47839  47130  48887  38780  31212  25290  20575   \n",
       "\n",
       "order_number              9      10   ...  91   92   93   94   95   96   97   \\\n",
       "days_since_prior_order                ...                                      \n",
       "0.0                      1972   1782  ...  156  154  125  151  151  153  120   \n",
       "1.0                      3503   3358  ...  397  396  373  359  366  330  356   \n",
       "2.0                      4914   4705  ...  416  405  407  389  359  351  359   \n",
       "3.0                      5750   5663  ...  345  287  330  294  291  292  254   \n",
       "4.0                      6534   6395  ...  221  238  225  191  193  185  183   \n",
       "5.0                      6828   6563  ...  142  128  105  119  119  120  100   \n",
       "6.0                      8527   7727  ...   77   91   86   82   67   59   58   \n",
       "7.0                     11612  10980  ...   60   56   48   56   36   37   37   \n",
       "8.0                      6894   6511  ...   29   22   24   26   23   30   18   \n",
       "9.0                      4760   4404  ...   12    8   14   12    8    6    7   \n",
       "10.0                     3844   3531  ...    9   20   10    6   11    1    7   \n",
       "11.0                     3429   3180  ...   13   13    5    7    8    6    6   \n",
       "12.0                     3404   2941  ...    4    5    4    5    6    5    5   \n",
       "13.0                     3708   3408  ...    8    9    5    6    5    2    3   \n",
       "14.0                     4563   4187  ...    1    3   12    3    3    3    4   \n",
       "15.0                     3046   2793  ...    3    3    2    1    3    2    2   \n",
       "16.0                     2269   2085  ...    1    1    0    2    0    3    2   \n",
       "17.0                     1791   1662  ...    0    4    1    1    1    2    2   \n",
       "18.0                     1730   1531  ...    1    1    0    2    0    1    0   \n",
       "19.0                     1621   1469  ...    2    0    0    0    1    2    2   \n",
       "20.0                     1810   1677  ...    4    1    0    1    0    0    0   \n",
       "21.0                     2205   2021  ...    0    1    1    0    1    0    0   \n",
       "22.0                     1619   1451  ...    1    0    0    0    1    0    0   \n",
       "23.0                     1208    995  ...    0    1    0    0    1    0    0   \n",
       "24.0                      996    955  ...    0    0    0    0    0    0    0   \n",
       "25.0                      964    807  ...    0    0    0    0    0    0    0   \n",
       "26.0                      984    843  ...    0    0    0    0    1    0    0   \n",
       "27.0                     1138    925  ...    0    0    0    0    0    0    0   \n",
       "28.0                     1385   1187  ...    0    0    1    0    0    1    0   \n",
       "29.0                      984    837  ...    1    0    0    0    0    0    0   \n",
       "30.0                    16926  14155  ...    2    2    2    0    1    1    0   \n",
       "\n",
       "order_number            98   99   100  \n",
       "days_since_prior_order                 \n",
       "0.0                     144  134  137  \n",
       "1.0                     360  339  321  \n",
       "2.0                     346  318  329  \n",
       "3.0                     221  240  223  \n",
       "4.0                     170  170  153  \n",
       "5.0                      95   82   81  \n",
       "6.0                      50   58   44  \n",
       "7.0                      41   32   35  \n",
       "8.0                      16   12   13  \n",
       "9.0                       8    7   11  \n",
       "10.0                      4    4    7  \n",
       "11.0                      1    3    7  \n",
       "12.0                      1    5    3  \n",
       "13.0                      6    6    1  \n",
       "14.0                      2    1    2  \n",
       "15.0                      1    1    1  \n",
       "16.0                      3    1    1  \n",
       "17.0                      0    2    0  \n",
       "18.0                      0    2    0  \n",
       "19.0                      0    0    1  \n",
       "20.0                      0    0    1  \n",
       "21.0                      1    0    1  \n",
       "22.0                      0    1    1  \n",
       "23.0                      0    2    0  \n",
       "24.0                      0    0    0  \n",
       "25.0                      0    0    0  \n",
       "26.0                      0    0    0  \n",
       "27.0                      0    0    0  \n",
       "28.0                      0    0    1  \n",
       "29.0                      0    0    0  \n",
       "30.0                      1    1    0  \n",
       "\n",
       "[31 rows x 100 columns]"
      ]
     },
     "execution_count": 44,
     "metadata": {},
     "output_type": "execute_result"
    }
   ],
   "source": [
    "crosstab"
   ]
  },
  {
   "cell_type": "markdown",
   "id": "a74b7387",
   "metadata": {},
   "source": [
    "Note that order_number = 1 never appears when days_since_prior_order is a non-null value. "
   ]
  },
  {
   "cell_type": "markdown",
   "id": "ec7c5da3",
   "metadata": {},
   "source": [
    "##### Create first_order_of_new_customer flag"
   ]
  },
  {
   "cell_type": "code",
   "execution_count": 45,
   "id": "bc7cf648",
   "metadata": {},
   "outputs": [],
   "source": [
    "# Creating a copy of the orders dataframe in which to insert the new column.\n",
    "df_clean = df"
   ]
  },
  {
   "cell_type": "code",
   "execution_count": 46,
   "id": "3f1a45eb",
   "metadata": {},
   "outputs": [],
   "source": [
    "# Assigning boolean values to new column\n",
    "df_clean['first_order_of_new_customer'] = df_clean['days_since_prior_order'].isnull()"
   ]
  },
  {
   "cell_type": "code",
   "execution_count": 47,
   "id": "48d0f8a5",
   "metadata": {},
   "outputs": [
    {
     "data": {
      "text/html": [
       "<div>\n",
       "<style scoped>\n",
       "    .dataframe tbody tr th:only-of-type {\n",
       "        vertical-align: middle;\n",
       "    }\n",
       "\n",
       "    .dataframe tbody tr th {\n",
       "        vertical-align: top;\n",
       "    }\n",
       "\n",
       "    .dataframe thead th {\n",
       "        text-align: right;\n",
       "    }\n",
       "</style>\n",
       "<table border=\"1\" class=\"dataframe\">\n",
       "  <thead>\n",
       "    <tr style=\"text-align: right;\">\n",
       "      <th></th>\n",
       "      <th>order_id</th>\n",
       "      <th>user_id</th>\n",
       "      <th>order_number</th>\n",
       "      <th>order_day_of_week</th>\n",
       "      <th>order_hour_of_day</th>\n",
       "      <th>days_since_prior_order</th>\n",
       "      <th>first_order_of_new_customer</th>\n",
       "    </tr>\n",
       "  </thead>\n",
       "  <tbody>\n",
       "    <tr>\n",
       "      <th>0</th>\n",
       "      <td>2539329</td>\n",
       "      <td>1</td>\n",
       "      <td>1</td>\n",
       "      <td>2</td>\n",
       "      <td>8</td>\n",
       "      <td>NaN</td>\n",
       "      <td>True</td>\n",
       "    </tr>\n",
       "    <tr>\n",
       "      <th>1</th>\n",
       "      <td>2398795</td>\n",
       "      <td>1</td>\n",
       "      <td>2</td>\n",
       "      <td>3</td>\n",
       "      <td>7</td>\n",
       "      <td>15.0</td>\n",
       "      <td>False</td>\n",
       "    </tr>\n",
       "    <tr>\n",
       "      <th>2</th>\n",
       "      <td>473747</td>\n",
       "      <td>1</td>\n",
       "      <td>3</td>\n",
       "      <td>3</td>\n",
       "      <td>12</td>\n",
       "      <td>21.0</td>\n",
       "      <td>False</td>\n",
       "    </tr>\n",
       "    <tr>\n",
       "      <th>3</th>\n",
       "      <td>2254736</td>\n",
       "      <td>1</td>\n",
       "      <td>4</td>\n",
       "      <td>4</td>\n",
       "      <td>7</td>\n",
       "      <td>29.0</td>\n",
       "      <td>False</td>\n",
       "    </tr>\n",
       "    <tr>\n",
       "      <th>4</th>\n",
       "      <td>431534</td>\n",
       "      <td>1</td>\n",
       "      <td>5</td>\n",
       "      <td>4</td>\n",
       "      <td>15</td>\n",
       "      <td>28.0</td>\n",
       "      <td>False</td>\n",
       "    </tr>\n",
       "  </tbody>\n",
       "</table>\n",
       "</div>"
      ],
      "text/plain": [
       "   order_id  user_id  order_number  order_day_of_week  order_hour_of_day  \\\n",
       "0   2539329        1             1                  2                  8   \n",
       "1   2398795        1             2                  3                  7   \n",
       "2    473747        1             3                  3                 12   \n",
       "3   2254736        1             4                  4                  7   \n",
       "4    431534        1             5                  4                 15   \n",
       "\n",
       "   days_since_prior_order  first_order_of_new_customer  \n",
       "0                     NaN                         True  \n",
       "1                    15.0                        False  \n",
       "2                    21.0                        False  \n",
       "3                    29.0                        False  \n",
       "4                    28.0                        False  "
      ]
     },
     "execution_count": 47,
     "metadata": {},
     "output_type": "execute_result"
    }
   ],
   "source": [
    "#Checking to see if first set of values were correctly labeled as True/False in the new column.\n",
    "df_clean.head()"
   ]
  },
  {
   "cell_type": "code",
   "execution_count": 48,
   "id": "c15db01c",
   "metadata": {},
   "outputs": [
    {
     "data": {
      "text/plain": [
       "dtype('bool')"
      ]
     },
     "execution_count": 48,
     "metadata": {},
     "output_type": "execute_result"
    }
   ],
   "source": [
    "# Confirming that the new column is showing up as the correct datatype\n",
    "df_clean['first_order_of_new_customer'].dtype"
   ]
  },
  {
   "cell_type": "code",
   "execution_count": 49,
   "id": "ada311c4",
   "metadata": {},
   "outputs": [
    {
     "data": {
      "text/plain": [
       "(3421083, 7)"
      ]
     },
     "execution_count": 49,
     "metadata": {},
     "output_type": "execute_result"
    }
   ],
   "source": [
    "# Checking the shape of the orders_clean df to make sure it is the same number of rows (3421083)\n",
    "# with one additional column (7 instead of 6).\n",
    "df_clean.shape"
   ]
  },
  {
   "cell_type": "code",
   "execution_count": 50,
   "id": "f72504ef",
   "metadata": {},
   "outputs": [
    {
     "data": {
      "text/plain": [
       "206209"
      ]
     },
     "execution_count": 50,
     "metadata": {},
     "output_type": "execute_result"
    }
   ],
   "source": [
    "# Confirming that the number of 'True' values in the first_order_of_new_customer \n",
    "# matches the number of null values in days_since_prior_order (206,209)\n",
    "df_clean['first_order_of_new_customer'].sum()"
   ]
  },
  {
   "cell_type": "markdown",
   "id": "b435ea98",
   "metadata": {},
   "source": [
    "### 0.7 Export clean df"
   ]
  },
  {
   "cell_type": "code",
   "execution_count": 51,
   "id": "e04ed335",
   "metadata": {},
   "outputs": [
    {
     "data": {
      "text/plain": [
       "(3421083, 7)"
      ]
     },
     "execution_count": 51,
     "metadata": {},
     "output_type": "execute_result"
    }
   ],
   "source": [
    "# Confirming final shape and datetypes\n",
    "df_clean.shape"
   ]
  },
  {
   "cell_type": "code",
   "execution_count": 52,
   "id": "e729fef7",
   "metadata": {},
   "outputs": [
    {
     "name": "stdout",
     "output_type": "stream",
     "text": [
      "<class 'pandas.core.frame.DataFrame'>\n",
      "RangeIndex: 3421083 entries, 0 to 3421082\n",
      "Data columns (total 7 columns):\n",
      " #   Column                       Dtype  \n",
      "---  ------                       -----  \n",
      " 0   order_id                     int64  \n",
      " 1   user_id                      int64  \n",
      " 2   order_number                 int16  \n",
      " 3   order_day_of_week            int8   \n",
      " 4   order_hour_of_day            int8   \n",
      " 5   days_since_prior_order       float16\n",
      " 6   first_order_of_new_customer  bool   \n",
      "dtypes: bool(1), float16(1), int16(1), int64(2), int8(2)\n",
      "memory usage: 75.0 MB\n"
     ]
    }
   ],
   "source": [
    "df_clean.info()"
   ]
  },
  {
   "cell_type": "code",
   "execution_count": 53,
   "id": "8cda91ca",
   "metadata": {
    "scrolled": true
   },
   "outputs": [],
   "source": [
    "# Export df as customers_clean\n",
    "df_clean.to_pickle(os.path.join(path, '02 Data','Prepared Data', 'orders_clean.pkl'))"
   ]
  },
  {
   "cell_type": "code",
   "execution_count": null,
   "id": "455d7926",
   "metadata": {},
   "outputs": [],
   "source": []
  }
 ],
 "metadata": {
  "kernelspec": {
   "display_name": "Python 3 (ipykernel)",
   "language": "python",
   "name": "python3"
  },
  "language_info": {
   "codemirror_mode": {
    "name": "ipython",
    "version": 3
   },
   "file_extension": ".py",
   "mimetype": "text/x-python",
   "name": "python",
   "nbconvert_exporter": "python",
   "pygments_lexer": "ipython3",
   "version": "3.9.13"
  }
 },
 "nbformat": 4,
 "nbformat_minor": 5
}
