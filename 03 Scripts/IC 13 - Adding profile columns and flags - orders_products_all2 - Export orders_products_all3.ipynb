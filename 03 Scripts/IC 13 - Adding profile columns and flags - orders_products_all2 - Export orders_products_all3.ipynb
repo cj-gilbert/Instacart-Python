{
 "cells": [
  {
   "cell_type": "markdown",
   "id": "a838a4fd",
   "metadata": {},
   "source": [
    "# Table of Contents"
   ]
  },
  {
   "cell_type": "markdown",
   "id": "cda6b7f5",
   "metadata": {},
   "source": [
    "0.1 Importing Libraries\n",
    "\n",
    "0.2 Importing Data\n",
    "\n",
    "0.3 Exploring Original Df\n",
    "\n",
    "0.4 Create new columns with profile flags\n",
    "\n",
    "    0.4.1  income_group\n",
    "    \n",
    "    0.4.2  senior_citizen\n",
    "    \n",
    "    0.4.3  two_parent_fam\n",
    "    \n",
    "    0.4.4  single_parent\n",
    "      \n",
    "    0.4.5  baby_parent\n",
    "    \n",
    "    0.4.6  pet_owner\n",
    "    \n",
    "0.5 Merging temp subset with full df\n",
    "\n",
    "0.6 Confirming Final Df \n",
    "\n",
    "0.7 Exporting Final Df"
   ]
  },
  {
   "cell_type": "markdown",
   "id": "cc8dcbd1",
   "metadata": {},
   "source": [
    "### 0.1 Importing Libraries"
   ]
  },
  {
   "cell_type": "code",
   "execution_count": 1,
   "id": "9709810d",
   "metadata": {},
   "outputs": [],
   "source": [
    "# Import libraries\n",
    "import pandas as pd\n",
    "import numpy as np\n",
    "import os"
   ]
  },
  {
   "cell_type": "markdown",
   "id": "b5b185b2",
   "metadata": {},
   "source": [
    "### 0.2 Importing Data"
   ]
  },
  {
   "cell_type": "code",
   "execution_count": 2,
   "id": "6e7f5881",
   "metadata": {},
   "outputs": [],
   "source": [
    "# Identify the file pathway to data files\n",
    "path = r'C:\\Users\\CJ\\Documents\\_CJ-Stuff\\Career Foundry\\Data Immersion\\Ach 4 - Python\\2023-03 Instacart Basket Analysis'"
   ]
  },
  {
   "cell_type": "code",
   "execution_count": 3,
   "id": "1cb974f7",
   "metadata": {},
   "outputs": [],
   "source": [
    "# Import data\n",
    "df = pd.read_pickle(os.path.join(path, '02 Data', 'Prepared Data', 'orders_products_all2.pkl'))"
   ]
  },
  {
   "cell_type": "markdown",
   "id": "9e7fe560",
   "metadata": {},
   "source": [
    "### 0.3 Exploring Original Df"
   ]
  },
  {
   "cell_type": "code",
   "execution_count": 4,
   "id": "79eae4f1",
   "metadata": {
    "scrolled": true
   },
   "outputs": [
    {
     "data": {
      "text/plain": [
       "(32434489, 39)"
      ]
     },
     "execution_count": 4,
     "metadata": {},
     "output_type": "execute_result"
    }
   ],
   "source": [
    "df.shape"
   ]
  },
  {
   "cell_type": "code",
   "execution_count": 5,
   "id": "cff66bd3",
   "metadata": {},
   "outputs": [
    {
     "data": {
      "text/html": [
       "<div>\n",
       "<style scoped>\n",
       "    .dataframe tbody tr th:only-of-type {\n",
       "        vertical-align: middle;\n",
       "    }\n",
       "\n",
       "    .dataframe tbody tr th {\n",
       "        vertical-align: top;\n",
       "    }\n",
       "\n",
       "    .dataframe thead th {\n",
       "        text-align: right;\n",
       "    }\n",
       "</style>\n",
       "<table border=\"1\" class=\"dataframe\">\n",
       "  <thead>\n",
       "    <tr style=\"text-align: right;\">\n",
       "      <th></th>\n",
       "      <th>order_id</th>\n",
       "      <th>user_id</th>\n",
       "      <th>order_number</th>\n",
       "      <th>order_day_of_week</th>\n",
       "      <th>order_hour_of_day</th>\n",
       "      <th>days_since_prior_order</th>\n",
       "      <th>first_order_of_new_customer</th>\n",
       "      <th>product_id</th>\n",
       "      <th>add_to_cart_order</th>\n",
       "      <th>reordered</th>\n",
       "      <th>...</th>\n",
       "      <th>date_joined</th>\n",
       "      <th>n_dependants</th>\n",
       "      <th>fam_status</th>\n",
       "      <th>income</th>\n",
       "      <th>region</th>\n",
       "      <th>low_activity_flag</th>\n",
       "      <th>total_spent_in_order</th>\n",
       "      <th>total_spent_in_lifetime</th>\n",
       "      <th>total_items_in_lifetime</th>\n",
       "      <th>avg_items_per_order_by_user</th>\n",
       "    </tr>\n",
       "  </thead>\n",
       "  <tbody>\n",
       "    <tr>\n",
       "      <th>0</th>\n",
       "      <td>2539329</td>\n",
       "      <td>1</td>\n",
       "      <td>1</td>\n",
       "      <td>2</td>\n",
       "      <td>8</td>\n",
       "      <td>NaN</td>\n",
       "      <td>True</td>\n",
       "      <td>196</td>\n",
       "      <td>1</td>\n",
       "      <td>0</td>\n",
       "      <td>...</td>\n",
       "      <td>2019-02-17</td>\n",
       "      <td>3</td>\n",
       "      <td>married</td>\n",
       "      <td>40423</td>\n",
       "      <td>South</td>\n",
       "      <td>False</td>\n",
       "      <td>31.6</td>\n",
       "      <td>375.700012</td>\n",
       "      <td>59</td>\n",
       "      <td>5.898438</td>\n",
       "    </tr>\n",
       "    <tr>\n",
       "      <th>1</th>\n",
       "      <td>2539329</td>\n",
       "      <td>1</td>\n",
       "      <td>1</td>\n",
       "      <td>2</td>\n",
       "      <td>8</td>\n",
       "      <td>NaN</td>\n",
       "      <td>True</td>\n",
       "      <td>14084</td>\n",
       "      <td>2</td>\n",
       "      <td>0</td>\n",
       "      <td>...</td>\n",
       "      <td>2019-02-17</td>\n",
       "      <td>3</td>\n",
       "      <td>married</td>\n",
       "      <td>40423</td>\n",
       "      <td>South</td>\n",
       "      <td>False</td>\n",
       "      <td>31.6</td>\n",
       "      <td>375.700012</td>\n",
       "      <td>59</td>\n",
       "      <td>5.898438</td>\n",
       "    </tr>\n",
       "    <tr>\n",
       "      <th>2</th>\n",
       "      <td>2539329</td>\n",
       "      <td>1</td>\n",
       "      <td>1</td>\n",
       "      <td>2</td>\n",
       "      <td>8</td>\n",
       "      <td>NaN</td>\n",
       "      <td>True</td>\n",
       "      <td>12427</td>\n",
       "      <td>3</td>\n",
       "      <td>0</td>\n",
       "      <td>...</td>\n",
       "      <td>2019-02-17</td>\n",
       "      <td>3</td>\n",
       "      <td>married</td>\n",
       "      <td>40423</td>\n",
       "      <td>South</td>\n",
       "      <td>False</td>\n",
       "      <td>31.6</td>\n",
       "      <td>375.700012</td>\n",
       "      <td>59</td>\n",
       "      <td>5.898438</td>\n",
       "    </tr>\n",
       "    <tr>\n",
       "      <th>3</th>\n",
       "      <td>2539329</td>\n",
       "      <td>1</td>\n",
       "      <td>1</td>\n",
       "      <td>2</td>\n",
       "      <td>8</td>\n",
       "      <td>NaN</td>\n",
       "      <td>True</td>\n",
       "      <td>26088</td>\n",
       "      <td>4</td>\n",
       "      <td>0</td>\n",
       "      <td>...</td>\n",
       "      <td>2019-02-17</td>\n",
       "      <td>3</td>\n",
       "      <td>married</td>\n",
       "      <td>40423</td>\n",
       "      <td>South</td>\n",
       "      <td>False</td>\n",
       "      <td>31.6</td>\n",
       "      <td>375.700012</td>\n",
       "      <td>59</td>\n",
       "      <td>5.898438</td>\n",
       "    </tr>\n",
       "    <tr>\n",
       "      <th>4</th>\n",
       "      <td>2539329</td>\n",
       "      <td>1</td>\n",
       "      <td>1</td>\n",
       "      <td>2</td>\n",
       "      <td>8</td>\n",
       "      <td>NaN</td>\n",
       "      <td>True</td>\n",
       "      <td>26405</td>\n",
       "      <td>5</td>\n",
       "      <td>0</td>\n",
       "      <td>...</td>\n",
       "      <td>2019-02-17</td>\n",
       "      <td>3</td>\n",
       "      <td>married</td>\n",
       "      <td>40423</td>\n",
       "      <td>South</td>\n",
       "      <td>False</td>\n",
       "      <td>31.6</td>\n",
       "      <td>375.700012</td>\n",
       "      <td>59</td>\n",
       "      <td>5.898438</td>\n",
       "    </tr>\n",
       "  </tbody>\n",
       "</table>\n",
       "<p>5 rows × 39 columns</p>\n",
       "</div>"
      ],
      "text/plain": [
       "   order_id  user_id  order_number  order_day_of_week  order_hour_of_day  \\\n",
       "0   2539329        1             1                  2                  8   \n",
       "1   2539329        1             1                  2                  8   \n",
       "2   2539329        1             1                  2                  8   \n",
       "3   2539329        1             1                  2                  8   \n",
       "4   2539329        1             1                  2                  8   \n",
       "\n",
       "   days_since_prior_order  first_order_of_new_customer  product_id  \\\n",
       "0                     NaN                         True         196   \n",
       "1                     NaN                         True       14084   \n",
       "2                     NaN                         True       12427   \n",
       "3                     NaN                         True       26088   \n",
       "4                     NaN                         True       26405   \n",
       "\n",
       "   add_to_cart_order  reordered  ... date_joined  n_dependants  fam_status  \\\n",
       "0                  1          0  ...  2019-02-17             3     married   \n",
       "1                  2          0  ...  2019-02-17             3     married   \n",
       "2                  3          0  ...  2019-02-17             3     married   \n",
       "3                  4          0  ...  2019-02-17             3     married   \n",
       "4                  5          0  ...  2019-02-17             3     married   \n",
       "\n",
       "   income  region  low_activity_flag total_spent_in_order  \\\n",
       "0   40423   South              False                 31.6   \n",
       "1   40423   South              False                 31.6   \n",
       "2   40423   South              False                 31.6   \n",
       "3   40423   South              False                 31.6   \n",
       "4   40423   South              False                 31.6   \n",
       "\n",
       "  total_spent_in_lifetime total_items_in_lifetime avg_items_per_order_by_user  \n",
       "0              375.700012                      59                    5.898438  \n",
       "1              375.700012                      59                    5.898438  \n",
       "2              375.700012                      59                    5.898438  \n",
       "3              375.700012                      59                    5.898438  \n",
       "4              375.700012                      59                    5.898438  \n",
       "\n",
       "[5 rows x 39 columns]"
      ]
     },
     "execution_count": 5,
     "metadata": {},
     "output_type": "execute_result"
    }
   ],
   "source": [
    "df.head()"
   ]
  },
  {
   "cell_type": "code",
   "execution_count": 6,
   "id": "c805da6c",
   "metadata": {},
   "outputs": [
    {
     "name": "stdout",
     "output_type": "stream",
     "text": [
      "<class 'pandas.core.frame.DataFrame'>\n",
      "Int64Index: 32434489 entries, 0 to 32434488\n",
      "Data columns (total 39 columns):\n",
      " #   Column                       Dtype         \n",
      "---  ------                       -----         \n",
      " 0   order_id                     int64         \n",
      " 1   user_id                      int64         \n",
      " 2   order_number                 int16         \n",
      " 3   order_day_of_week            int8          \n",
      " 4   order_hour_of_day            int8          \n",
      " 5   days_since_prior_order       float16       \n",
      " 6   first_order_of_new_customer  bool          \n",
      " 7   product_id                   int32         \n",
      " 8   add_to_cart_order            int16         \n",
      " 9   reordered                    int8          \n",
      " 10  product_name                 object        \n",
      " 11  aisle_id                     float16       \n",
      " 12  department_id                float16       \n",
      " 13  price                        float32       \n",
      " 14  product_info_available       bool          \n",
      " 15  price_available              bool          \n",
      " 16  price_range                  category      \n",
      " 17  busiest_day                  category      \n",
      " 18  busiest_days                 category      \n",
      " 19  busiest_period_of_day        category      \n",
      " 20  max_order                    int16         \n",
      " 21  loyalty_flag                 category      \n",
      " 22  mean_spending                float32       \n",
      " 23  spender_type                 category      \n",
      " 24  median_days_since_ordering   float16       \n",
      " 25  frequent_shopper             category      \n",
      " 26  gender                       category      \n",
      " 27  state                        category      \n",
      " 28  age                          int16         \n",
      " 29  date_joined                  datetime64[ns]\n",
      " 30  n_dependants                 int8          \n",
      " 31  fam_status                   category      \n",
      " 32  income                       int64         \n",
      " 33  region                       category      \n",
      " 34  low_activity_flag            bool          \n",
      " 35  total_spent_in_order         float32       \n",
      " 36  total_spent_in_lifetime      float32       \n",
      " 37  total_items_in_lifetime      int32         \n",
      " 38  avg_items_per_order_by_user  float16       \n",
      "dtypes: bool(4), category(11), datetime64[ns](1), float16(5), float32(4), int16(4), int32(2), int64(3), int8(4), object(1)\n",
      "memory usage: 3.3+ GB\n"
     ]
    }
   ],
   "source": [
    "df.info()"
   ]
  },
  {
   "cell_type": "code",
   "execution_count": 7,
   "id": "4b4c6ca1",
   "metadata": {},
   "outputs": [
    {
     "data": {
      "text/plain": [
       "order_id                             0\n",
       "user_id                              0\n",
       "order_number                         0\n",
       "order_day_of_week                    0\n",
       "order_hour_of_day                    0\n",
       "days_since_prior_order         2078068\n",
       "first_order_of_new_customer          0\n",
       "product_id                           0\n",
       "add_to_cart_order                    0\n",
       "reordered                            0\n",
       "product_name                     30770\n",
       "aisle_id                         30770\n",
       "department_id                    30770\n",
       "price                            35897\n",
       "product_info_available               0\n",
       "price_available                      0\n",
       "price_range                      35897\n",
       "busiest_day                          0\n",
       "busiest_days                         0\n",
       "busiest_period_of_day                0\n",
       "max_order                            0\n",
       "loyalty_flag                         0\n",
       "mean_spending                        0\n",
       "spender_type                         0\n",
       "median_days_since_ordering           0\n",
       "frequent_shopper                     0\n",
       "gender                               0\n",
       "state                                0\n",
       "age                                  0\n",
       "date_joined                          0\n",
       "n_dependants                         0\n",
       "fam_status                           0\n",
       "income                               0\n",
       "region                               0\n",
       "low_activity_flag                    0\n",
       "total_spent_in_order                 0\n",
       "total_spent_in_lifetime              0\n",
       "total_items_in_lifetime              0\n",
       "avg_items_per_order_by_user          0\n",
       "dtype: int64"
      ]
     },
     "execution_count": 7,
     "metadata": {},
     "output_type": "execute_result"
    }
   ],
   "source": [
    "# Checking for nulls\n",
    "df.isnull().sum()"
   ]
  },
  {
   "cell_type": "code",
   "execution_count": 8,
   "id": "76ef4dc8",
   "metadata": {},
   "outputs": [
    {
     "data": {
      "text/plain": [
       "False    30356421\n",
       "True      2078068\n",
       "Name: first_order_of_new_customer, dtype: int64"
      ]
     },
     "execution_count": 8,
     "metadata": {},
     "output_type": "execute_result"
    }
   ],
   "source": [
    "# The null values for days_since_prior_order \n",
    "# are flagged by first_order of new customer\n",
    "df['first_order_of_new_customer'].value_counts()"
   ]
  },
  {
   "cell_type": "code",
   "execution_count": 9,
   "id": "7e169a47",
   "metadata": {},
   "outputs": [
    {
     "data": {
      "text/plain": [
       "True     32398592\n",
       "False       35897\n",
       "Name: price_available, dtype: int64"
      ]
     },
     "execution_count": 9,
     "metadata": {},
     "output_type": "execute_result"
    }
   ],
   "source": [
    "# The null values for price\n",
    "# are flagged by price_available\n",
    "df['price_available'].value_counts()"
   ]
  },
  {
   "cell_type": "code",
   "execution_count": 10,
   "id": "4ebcff15",
   "metadata": {
    "scrolled": true
   },
   "outputs": [
    {
     "data": {
      "text/plain": [
       "True     32403719\n",
       "False       30770\n",
       "Name: product_info_available, dtype: int64"
      ]
     },
     "execution_count": 10,
     "metadata": {},
     "output_type": "execute_result"
    }
   ],
   "source": [
    "# The null values for product_name, aisle_id, and department_id \n",
    "# are flagged by product_info_available\n",
    "df['product_info_available'].value_counts()"
   ]
  },
  {
   "cell_type": "markdown",
   "id": "cf7ad986",
   "metadata": {},
   "source": [
    "All null/NaN values are appropriately flagged."
   ]
  },
  {
   "cell_type": "code",
   "execution_count": 11,
   "id": "c005b0fb",
   "metadata": {},
   "outputs": [
    {
     "data": {
      "text/html": [
       "<div>\n",
       "<style scoped>\n",
       "    .dataframe tbody tr th:only-of-type {\n",
       "        vertical-align: middle;\n",
       "    }\n",
       "\n",
       "    .dataframe tbody tr th {\n",
       "        vertical-align: top;\n",
       "    }\n",
       "\n",
       "    .dataframe thead th {\n",
       "        text-align: right;\n",
       "    }\n",
       "</style>\n",
       "<table border=\"1\" class=\"dataframe\">\n",
       "  <thead>\n",
       "    <tr style=\"text-align: right;\">\n",
       "      <th></th>\n",
       "      <th>order_id</th>\n",
       "      <th>user_id</th>\n",
       "      <th>order_number</th>\n",
       "      <th>order_day_of_week</th>\n",
       "      <th>order_hour_of_day</th>\n",
       "      <th>days_since_prior_order</th>\n",
       "      <th>product_id</th>\n",
       "      <th>add_to_cart_order</th>\n",
       "      <th>reordered</th>\n",
       "      <th>aisle_id</th>\n",
       "      <th>...</th>\n",
       "      <th>max_order</th>\n",
       "      <th>mean_spending</th>\n",
       "      <th>median_days_since_ordering</th>\n",
       "      <th>age</th>\n",
       "      <th>n_dependants</th>\n",
       "      <th>income</th>\n",
       "      <th>total_spent_in_order</th>\n",
       "      <th>total_spent_in_lifetime</th>\n",
       "      <th>total_items_in_lifetime</th>\n",
       "      <th>avg_items_per_order_by_user</th>\n",
       "    </tr>\n",
       "  </thead>\n",
       "  <tbody>\n",
       "    <tr>\n",
       "      <th>count</th>\n",
       "      <td>3.243449e+07</td>\n",
       "      <td>3.243449e+07</td>\n",
       "      <td>3.243449e+07</td>\n",
       "      <td>3.243449e+07</td>\n",
       "      <td>3.243449e+07</td>\n",
       "      <td>30356421.0</td>\n",
       "      <td>3.243449e+07</td>\n",
       "      <td>3.243449e+07</td>\n",
       "      <td>3.243449e+07</td>\n",
       "      <td>32403719.0</td>\n",
       "      <td>...</td>\n",
       "      <td>3.243449e+07</td>\n",
       "      <td>3.243449e+07</td>\n",
       "      <td>32434489.0</td>\n",
       "      <td>3.243449e+07</td>\n",
       "      <td>3.243449e+07</td>\n",
       "      <td>3.243449e+07</td>\n",
       "      <td>3.243449e+07</td>\n",
       "      <td>3.243449e+07</td>\n",
       "      <td>3.243449e+07</td>\n",
       "      <td>3.243449e+07</td>\n",
       "    </tr>\n",
       "    <tr>\n",
       "      <th>mean</th>\n",
       "      <td>1.710749e+06</td>\n",
       "      <td>1.029372e+05</td>\n",
       "      <td>1.714205e+01</td>\n",
       "      <td>2.738818e+00</td>\n",
       "      <td>1.342498e+01</td>\n",
       "      <td>NaN</td>\n",
       "      <td>2.557634e+04</td>\n",
       "      <td>8.351076e+00</td>\n",
       "      <td>5.896975e-01</td>\n",
       "      <td>NaN</td>\n",
       "      <td>...</td>\n",
       "      <td>3.305254e+01</td>\n",
       "      <td>7.029131e+00</td>\n",
       "      <td>NaN</td>\n",
       "      <td>4.946513e+01</td>\n",
       "      <td>1.501874e+00</td>\n",
       "      <td>9.943542e+04</td>\n",
       "      <td>1.127550e+02</td>\n",
       "      <td>2.952755e+03</td>\n",
       "      <td>4.224109e+02</td>\n",
       "      <td>NaN</td>\n",
       "    </tr>\n",
       "    <tr>\n",
       "      <th>std</th>\n",
       "      <td>9.873007e+05</td>\n",
       "      <td>5.946648e+04</td>\n",
       "      <td>1.753504e+01</td>\n",
       "      <td>2.090049e+00</td>\n",
       "      <td>4.246365e+00</td>\n",
       "      <td>0.0</td>\n",
       "      <td>1.409669e+04</td>\n",
       "      <td>7.126671e+00</td>\n",
       "      <td>4.918886e-01</td>\n",
       "      <td>0.0</td>\n",
       "      <td>...</td>\n",
       "      <td>2.515471e+01</td>\n",
       "      <td>1.020756e+00</td>\n",
       "      <td>0.0</td>\n",
       "      <td>1.848554e+01</td>\n",
       "      <td>1.118868e+00</td>\n",
       "      <td>4.305519e+04</td>\n",
       "      <td>7.210378e+01</td>\n",
       "      <td>2.752658e+03</td>\n",
       "      <td>3.788504e+02</td>\n",
       "      <td>0.000000e+00</td>\n",
       "    </tr>\n",
       "    <tr>\n",
       "      <th>min</th>\n",
       "      <td>2.000000e+00</td>\n",
       "      <td>1.000000e+00</td>\n",
       "      <td>1.000000e+00</td>\n",
       "      <td>0.000000e+00</td>\n",
       "      <td>0.000000e+00</td>\n",
       "      <td>0.0</td>\n",
       "      <td>1.000000e+00</td>\n",
       "      <td>1.000000e+00</td>\n",
       "      <td>0.000000e+00</td>\n",
       "      <td>1.0</td>\n",
       "      <td>...</td>\n",
       "      <td>3.000000e+00</td>\n",
       "      <td>1.000000e+00</td>\n",
       "      <td>0.0</td>\n",
       "      <td>1.800000e+01</td>\n",
       "      <td>0.000000e+00</td>\n",
       "      <td>2.590300e+04</td>\n",
       "      <td>0.000000e+00</td>\n",
       "      <td>3.000000e+00</td>\n",
       "      <td>3.000000e+00</td>\n",
       "      <td>1.000000e+00</td>\n",
       "    </tr>\n",
       "    <tr>\n",
       "      <th>25%</th>\n",
       "      <td>8.559430e+05</td>\n",
       "      <td>5.142100e+04</td>\n",
       "      <td>5.000000e+00</td>\n",
       "      <td>1.000000e+00</td>\n",
       "      <td>1.000000e+01</td>\n",
       "      <td>5.0</td>\n",
       "      <td>1.353000e+04</td>\n",
       "      <td>3.000000e+00</td>\n",
       "      <td>0.000000e+00</td>\n",
       "      <td>31.0</td>\n",
       "      <td>...</td>\n",
       "      <td>1.300000e+01</td>\n",
       "      <td>7.378475e+00</td>\n",
       "      <td>5.5</td>\n",
       "      <td>3.300000e+01</td>\n",
       "      <td>1.000000e+00</td>\n",
       "      <td>6.699800e+04</td>\n",
       "      <td>6.680000e+01</td>\n",
       "      <td>1.102200e+03</td>\n",
       "      <td>1.420000e+02</td>\n",
       "      <td>8.539062e+00</td>\n",
       "    </tr>\n",
       "    <tr>\n",
       "      <th>50%</th>\n",
       "      <td>1.711048e+06</td>\n",
       "      <td>1.026110e+05</td>\n",
       "      <td>1.100000e+01</td>\n",
       "      <td>3.000000e+00</td>\n",
       "      <td>1.300000e+01</td>\n",
       "      <td>8.0</td>\n",
       "      <td>2.525600e+04</td>\n",
       "      <td>6.000000e+00</td>\n",
       "      <td>1.000000e+00</td>\n",
       "      <td>83.0</td>\n",
       "      <td>...</td>\n",
       "      <td>2.600000e+01</td>\n",
       "      <td>7.811946e+00</td>\n",
       "      <td>7.0</td>\n",
       "      <td>4.900000e+01</td>\n",
       "      <td>2.000000e+00</td>\n",
       "      <td>9.661200e+04</td>\n",
       "      <td>1.076000e+02</td>\n",
       "      <td>2.388400e+03</td>\n",
       "      <td>3.070000e+02</td>\n",
       "      <td>1.200000e+01</td>\n",
       "    </tr>\n",
       "    <tr>\n",
       "      <th>75%</th>\n",
       "      <td>2.565514e+06</td>\n",
       "      <td>1.543910e+05</td>\n",
       "      <td>2.400000e+01</td>\n",
       "      <td>5.000000e+00</td>\n",
       "      <td>1.600000e+01</td>\n",
       "      <td>15.0</td>\n",
       "      <td>3.793500e+04</td>\n",
       "      <td>1.100000e+01</td>\n",
       "      <td>1.000000e+00</td>\n",
       "      <td>107.0</td>\n",
       "      <td>...</td>\n",
       "      <td>4.700000e+01</td>\n",
       "      <td>8.229365e+00</td>\n",
       "      <td>13.0</td>\n",
       "      <td>6.500000e+01</td>\n",
       "      <td>3.000000e+00</td>\n",
       "      <td>1.279080e+05</td>\n",
       "      <td>1.617000e+02</td>\n",
       "      <td>4.637100e+03</td>\n",
       "      <td>5.940000e+02</td>\n",
       "      <td>1.657812e+01</td>\n",
       "    </tr>\n",
       "    <tr>\n",
       "      <th>max</th>\n",
       "      <td>3.421083e+06</td>\n",
       "      <td>2.062090e+05</td>\n",
       "      <td>9.900000e+01</td>\n",
       "      <td>6.000000e+00</td>\n",
       "      <td>2.300000e+01</td>\n",
       "      <td>30.0</td>\n",
       "      <td>4.968800e+04</td>\n",
       "      <td>1.450000e+02</td>\n",
       "      <td>1.000000e+00</td>\n",
       "      <td>134.0</td>\n",
       "      <td>...</td>\n",
       "      <td>9.900000e+01</td>\n",
       "      <td>2.320000e+01</td>\n",
       "      <td>30.0</td>\n",
       "      <td>8.100000e+01</td>\n",
       "      <td>3.000000e+00</td>\n",
       "      <td>5.939010e+05</td>\n",
       "      <td>1.092200e+03</td>\n",
       "      <td>2.639490e+04</td>\n",
       "      <td>3.725000e+03</td>\n",
       "      <td>7.025000e+01</td>\n",
       "    </tr>\n",
       "  </tbody>\n",
       "</table>\n",
       "<p>8 rows × 22 columns</p>\n",
       "</div>"
      ],
      "text/plain": [
       "           order_id       user_id  order_number  order_day_of_week  \\\n",
       "count  3.243449e+07  3.243449e+07  3.243449e+07       3.243449e+07   \n",
       "mean   1.710749e+06  1.029372e+05  1.714205e+01       2.738818e+00   \n",
       "std    9.873007e+05  5.946648e+04  1.753504e+01       2.090049e+00   \n",
       "min    2.000000e+00  1.000000e+00  1.000000e+00       0.000000e+00   \n",
       "25%    8.559430e+05  5.142100e+04  5.000000e+00       1.000000e+00   \n",
       "50%    1.711048e+06  1.026110e+05  1.100000e+01       3.000000e+00   \n",
       "75%    2.565514e+06  1.543910e+05  2.400000e+01       5.000000e+00   \n",
       "max    3.421083e+06  2.062090e+05  9.900000e+01       6.000000e+00   \n",
       "\n",
       "       order_hour_of_day  days_since_prior_order    product_id  \\\n",
       "count       3.243449e+07              30356421.0  3.243449e+07   \n",
       "mean        1.342498e+01                     NaN  2.557634e+04   \n",
       "std         4.246365e+00                     0.0  1.409669e+04   \n",
       "min         0.000000e+00                     0.0  1.000000e+00   \n",
       "25%         1.000000e+01                     5.0  1.353000e+04   \n",
       "50%         1.300000e+01                     8.0  2.525600e+04   \n",
       "75%         1.600000e+01                    15.0  3.793500e+04   \n",
       "max         2.300000e+01                    30.0  4.968800e+04   \n",
       "\n",
       "       add_to_cart_order     reordered    aisle_id  ...     max_order  \\\n",
       "count       3.243449e+07  3.243449e+07  32403719.0  ...  3.243449e+07   \n",
       "mean        8.351076e+00  5.896975e-01         NaN  ...  3.305254e+01   \n",
       "std         7.126671e+00  4.918886e-01         0.0  ...  2.515471e+01   \n",
       "min         1.000000e+00  0.000000e+00         1.0  ...  3.000000e+00   \n",
       "25%         3.000000e+00  0.000000e+00        31.0  ...  1.300000e+01   \n",
       "50%         6.000000e+00  1.000000e+00        83.0  ...  2.600000e+01   \n",
       "75%         1.100000e+01  1.000000e+00       107.0  ...  4.700000e+01   \n",
       "max         1.450000e+02  1.000000e+00       134.0  ...  9.900000e+01   \n",
       "\n",
       "       mean_spending  median_days_since_ordering           age  n_dependants  \\\n",
       "count   3.243449e+07                  32434489.0  3.243449e+07  3.243449e+07   \n",
       "mean    7.029131e+00                         NaN  4.946513e+01  1.501874e+00   \n",
       "std     1.020756e+00                         0.0  1.848554e+01  1.118868e+00   \n",
       "min     1.000000e+00                         0.0  1.800000e+01  0.000000e+00   \n",
       "25%     7.378475e+00                         5.5  3.300000e+01  1.000000e+00   \n",
       "50%     7.811946e+00                         7.0  4.900000e+01  2.000000e+00   \n",
       "75%     8.229365e+00                        13.0  6.500000e+01  3.000000e+00   \n",
       "max     2.320000e+01                        30.0  8.100000e+01  3.000000e+00   \n",
       "\n",
       "             income  total_spent_in_order  total_spent_in_lifetime  \\\n",
       "count  3.243449e+07          3.243449e+07             3.243449e+07   \n",
       "mean   9.943542e+04          1.127550e+02             2.952755e+03   \n",
       "std    4.305519e+04          7.210378e+01             2.752658e+03   \n",
       "min    2.590300e+04          0.000000e+00             3.000000e+00   \n",
       "25%    6.699800e+04          6.680000e+01             1.102200e+03   \n",
       "50%    9.661200e+04          1.076000e+02             2.388400e+03   \n",
       "75%    1.279080e+05          1.617000e+02             4.637100e+03   \n",
       "max    5.939010e+05          1.092200e+03             2.639490e+04   \n",
       "\n",
       "       total_items_in_lifetime  avg_items_per_order_by_user  \n",
       "count             3.243449e+07                 3.243449e+07  \n",
       "mean              4.224109e+02                          NaN  \n",
       "std               3.788504e+02                 0.000000e+00  \n",
       "min               3.000000e+00                 1.000000e+00  \n",
       "25%               1.420000e+02                 8.539062e+00  \n",
       "50%               3.070000e+02                 1.200000e+01  \n",
       "75%               5.940000e+02                 1.657812e+01  \n",
       "max               3.725000e+03                 7.025000e+01  \n",
       "\n",
       "[8 rows x 22 columns]"
      ]
     },
     "execution_count": 11,
     "metadata": {},
     "output_type": "execute_result"
    }
   ],
   "source": [
    "df.describe()"
   ]
  },
  {
   "cell_type": "markdown",
   "id": "019a265d",
   "metadata": {},
   "source": [
    "## 0.4  Create new columns with profile flags"
   ]
  },
  {
   "cell_type": "code",
   "execution_count": 12,
   "id": "a9de8a91",
   "metadata": {},
   "outputs": [
    {
     "data": {
      "text/plain": [
       "206209"
      ]
     },
     "execution_count": 12,
     "metadata": {},
     "output_type": "execute_result"
    }
   ],
   "source": [
    "# Identifying the number of unique user_id numbers\n",
    "df.user_id.nunique()"
   ]
  },
  {
   "cell_type": "code",
   "execution_count": 13,
   "id": "42894c0f",
   "metadata": {},
   "outputs": [],
   "source": [
    "# Create a subset of the df where each row = 1 user\n",
    "# insted of each row being 1 item in an order\n",
    "# so that the flags not involving price can be calculated by user \n",
    "# rather than by item\n",
    "\n",
    "# Empty df\n",
    "df_subset = pd.DataFrame()"
   ]
  },
  {
   "cell_type": "code",
   "execution_count": 14,
   "id": "3958b0e3",
   "metadata": {},
   "outputs": [],
   "source": [
    "# Subset only necessary columns: user_id, order_id, and days_since_prior\n",
    "df_subset = df[['user_id', 'age', 'fam_status', 'n_dependants', 'income']]"
   ]
  },
  {
   "cell_type": "code",
   "execution_count": 15,
   "id": "0917b655",
   "metadata": {},
   "outputs": [
    {
     "data": {
      "text/html": [
       "<div>\n",
       "<style scoped>\n",
       "    .dataframe tbody tr th:only-of-type {\n",
       "        vertical-align: middle;\n",
       "    }\n",
       "\n",
       "    .dataframe tbody tr th {\n",
       "        vertical-align: top;\n",
       "    }\n",
       "\n",
       "    .dataframe thead th {\n",
       "        text-align: right;\n",
       "    }\n",
       "</style>\n",
       "<table border=\"1\" class=\"dataframe\">\n",
       "  <thead>\n",
       "    <tr style=\"text-align: right;\">\n",
       "      <th></th>\n",
       "      <th>user_id</th>\n",
       "      <th>age</th>\n",
       "      <th>fam_status</th>\n",
       "      <th>n_dependants</th>\n",
       "      <th>income</th>\n",
       "    </tr>\n",
       "  </thead>\n",
       "  <tbody>\n",
       "    <tr>\n",
       "      <th>0</th>\n",
       "      <td>1</td>\n",
       "      <td>31</td>\n",
       "      <td>married</td>\n",
       "      <td>3</td>\n",
       "      <td>40423</td>\n",
       "    </tr>\n",
       "    <tr>\n",
       "      <th>1</th>\n",
       "      <td>1</td>\n",
       "      <td>31</td>\n",
       "      <td>married</td>\n",
       "      <td>3</td>\n",
       "      <td>40423</td>\n",
       "    </tr>\n",
       "    <tr>\n",
       "      <th>2</th>\n",
       "      <td>1</td>\n",
       "      <td>31</td>\n",
       "      <td>married</td>\n",
       "      <td>3</td>\n",
       "      <td>40423</td>\n",
       "    </tr>\n",
       "    <tr>\n",
       "      <th>3</th>\n",
       "      <td>1</td>\n",
       "      <td>31</td>\n",
       "      <td>married</td>\n",
       "      <td>3</td>\n",
       "      <td>40423</td>\n",
       "    </tr>\n",
       "    <tr>\n",
       "      <th>4</th>\n",
       "      <td>1</td>\n",
       "      <td>31</td>\n",
       "      <td>married</td>\n",
       "      <td>3</td>\n",
       "      <td>40423</td>\n",
       "    </tr>\n",
       "  </tbody>\n",
       "</table>\n",
       "</div>"
      ],
      "text/plain": [
       "   user_id  age fam_status  n_dependants  income\n",
       "0        1   31    married             3   40423\n",
       "1        1   31    married             3   40423\n",
       "2        1   31    married             3   40423\n",
       "3        1   31    married             3   40423\n",
       "4        1   31    married             3   40423"
      ]
     },
     "execution_count": 15,
     "metadata": {},
     "output_type": "execute_result"
    }
   ],
   "source": [
    "# Confirming that we have the correct subset\n",
    "df_subset.head()"
   ]
  },
  {
   "cell_type": "code",
   "execution_count": 16,
   "id": "67d4436a",
   "metadata": {},
   "outputs": [
    {
     "data": {
      "text/plain": [
       "206209"
      ]
     },
     "execution_count": 16,
     "metadata": {},
     "output_type": "execute_result"
    }
   ],
   "source": [
    "df_subset.user_id.nunique()"
   ]
  },
  {
   "cell_type": "code",
   "execution_count": 17,
   "id": "67b90a20",
   "metadata": {},
   "outputs": [
    {
     "data": {
      "text/plain": [
       "(32434489, 5)"
      ]
     },
     "execution_count": 17,
     "metadata": {},
     "output_type": "execute_result"
    }
   ],
   "source": [
    "df_subset.shape"
   ]
  },
  {
   "cell_type": "code",
   "execution_count": 18,
   "id": "f344d6a8",
   "metadata": {},
   "outputs": [],
   "source": [
    "# Remove duplicate rows\n",
    "df_subset = df_subset.drop_duplicates()"
   ]
  },
  {
   "cell_type": "code",
   "execution_count": 19,
   "id": "d26a0ccd",
   "metadata": {},
   "outputs": [
    {
     "data": {
      "text/plain": [
       "(206209, 5)"
      ]
     },
     "execution_count": 19,
     "metadata": {},
     "output_type": "execute_result"
    }
   ],
   "source": [
    "# Confirmting that the subset now has one row per user_id\n",
    "df_subset.shape"
   ]
  },
  {
   "cell_type": "code",
   "execution_count": 20,
   "id": "4752e54f",
   "metadata": {},
   "outputs": [
    {
     "data": {
      "text/html": [
       "<div>\n",
       "<style scoped>\n",
       "    .dataframe tbody tr th:only-of-type {\n",
       "        vertical-align: middle;\n",
       "    }\n",
       "\n",
       "    .dataframe tbody tr th {\n",
       "        vertical-align: top;\n",
       "    }\n",
       "\n",
       "    .dataframe thead th {\n",
       "        text-align: right;\n",
       "    }\n",
       "</style>\n",
       "<table border=\"1\" class=\"dataframe\">\n",
       "  <thead>\n",
       "    <tr style=\"text-align: right;\">\n",
       "      <th></th>\n",
       "      <th>user_id</th>\n",
       "      <th>age</th>\n",
       "      <th>fam_status</th>\n",
       "      <th>n_dependants</th>\n",
       "      <th>income</th>\n",
       "    </tr>\n",
       "  </thead>\n",
       "  <tbody>\n",
       "    <tr>\n",
       "      <th>0</th>\n",
       "      <td>1</td>\n",
       "      <td>31</td>\n",
       "      <td>married</td>\n",
       "      <td>3</td>\n",
       "      <td>40423</td>\n",
       "    </tr>\n",
       "    <tr>\n",
       "      <th>59</th>\n",
       "      <td>2</td>\n",
       "      <td>68</td>\n",
       "      <td>married</td>\n",
       "      <td>3</td>\n",
       "      <td>64940</td>\n",
       "    </tr>\n",
       "    <tr>\n",
       "      <th>254</th>\n",
       "      <td>3</td>\n",
       "      <td>33</td>\n",
       "      <td>married</td>\n",
       "      <td>3</td>\n",
       "      <td>93240</td>\n",
       "    </tr>\n",
       "    <tr>\n",
       "      <th>342</th>\n",
       "      <td>4</td>\n",
       "      <td>31</td>\n",
       "      <td>married</td>\n",
       "      <td>3</td>\n",
       "      <td>45435</td>\n",
       "    </tr>\n",
       "    <tr>\n",
       "      <th>360</th>\n",
       "      <td>5</td>\n",
       "      <td>75</td>\n",
       "      <td>divorced/widowed</td>\n",
       "      <td>0</td>\n",
       "      <td>115242</td>\n",
       "    </tr>\n",
       "  </tbody>\n",
       "</table>\n",
       "</div>"
      ],
      "text/plain": [
       "     user_id  age        fam_status  n_dependants  income\n",
       "0          1   31           married             3   40423\n",
       "59         2   68           married             3   64940\n",
       "254        3   33           married             3   93240\n",
       "342        4   31           married             3   45435\n",
       "360        5   75  divorced/widowed             0  115242"
      ]
     },
     "execution_count": 20,
     "metadata": {},
     "output_type": "execute_result"
    }
   ],
   "source": [
    "df_subset.head()"
   ]
  },
  {
   "cell_type": "markdown",
   "id": "05a4e934",
   "metadata": {},
   "source": [
    "### 0.4.1  income_group"
   ]
  },
  {
   "cell_type": "code",
   "execution_count": 21,
   "id": "3199165c",
   "metadata": {},
   "outputs": [
    {
     "data": {
      "text/plain": [
       "count    206209.000000\n",
       "mean      94632.852548\n",
       "std       42473.786988\n",
       "min       25903.000000\n",
       "25%       59874.000000\n",
       "50%       93547.000000\n",
       "75%      124244.000000\n",
       "max      593901.000000\n",
       "Name: income, dtype: float64"
      ]
     },
     "execution_count": 21,
     "metadata": {},
     "output_type": "execute_result"
    }
   ],
   "source": [
    "# Exploring the income distribution in thid df\n",
    "df_subset['income'].describe()"
   ]
  },
  {
   "cell_type": "markdown",
   "id": "810f4e3b",
   "metadata": {},
   "source": [
    "In the U.S., middle class is often defined as earning between 2/3 and twice the median American household income.  Based on 2021 information as well as a visual distribution of income in this data set done in the Data Visualizations A script, we will use the following income_group categories:\n",
    "\n",
    "'low income' means income <50k\n",
    "\n",
    "'middle class' means income between 50k and 150k\n",
    "\n",
    "'upper middle class' means income between 150k and 250k\n",
    "\n",
    "'upper class' means income >250k"
   ]
  },
  {
   "cell_type": "code",
   "execution_count": 22,
   "id": "5466a64f",
   "metadata": {},
   "outputs": [],
   "source": [
    "# Creating a column 'income_group' with values based on the 'income' column:\n",
    "#    If income is <50000 , then 'Low income'\n",
    "#    If income is <= 150000 and >=50000, then 'Middle class'\n",
    "#    If income is <= 250000 and >150000, then 'Upper middle class'\n",
    "#    If income is >250000, then 'Affluent'"
   ]
  },
  {
   "cell_type": "code",
   "execution_count": 23,
   "id": "5a30f3b1",
   "metadata": {},
   "outputs": [],
   "source": [
    "df_subset.loc[df_subset['income'] <= 50000, 'income_group'] = 'Low income'"
   ]
  },
  {
   "cell_type": "code",
   "execution_count": 24,
   "id": "3d71cf91",
   "metadata": {},
   "outputs": [],
   "source": [
    "df_subset.loc[df_subset['income'] > 250000, 'income_group'] = 'Affluent'"
   ]
  },
  {
   "cell_type": "code",
   "execution_count": 25,
   "id": "227c2c86",
   "metadata": {},
   "outputs": [],
   "source": [
    "df_subset.loc[(df_subset['income'] <= 150000) & (df_subset['income'] > 50000), 'income_group'] = 'Middle class'"
   ]
  },
  {
   "cell_type": "code",
   "execution_count": 26,
   "id": "b3f4ab34",
   "metadata": {},
   "outputs": [],
   "source": [
    "df_subset.loc[(df_subset['income'] <= 250000) & (df_subset['income'] > 150000), 'income_group'] = 'Upper middle class'"
   ]
  },
  {
   "cell_type": "code",
   "execution_count": 27,
   "id": "b66977b5",
   "metadata": {},
   "outputs": [
    {
     "data": {
      "text/plain": [
       "Middle class          148853\n",
       "Low income             34105\n",
       "Upper middle class     22554\n",
       "Affluent                 697\n",
       "Name: income_group, dtype: int64"
      ]
     },
     "execution_count": 27,
     "metadata": {},
     "output_type": "execute_result"
    }
   ],
   "source": [
    "# Checking the results\n",
    "\n",
    "df_subset['income_group'].value_counts()"
   ]
  },
  {
   "cell_type": "markdown",
   "id": "34cd215d",
   "metadata": {},
   "source": [
    "The sum of the counts matches the total number of expected values."
   ]
  },
  {
   "cell_type": "code",
   "execution_count": 28,
   "id": "199c13ff",
   "metadata": {
    "scrolled": true
   },
   "outputs": [
    {
     "data": {
      "text/html": [
       "<div>\n",
       "<style scoped>\n",
       "    .dataframe tbody tr th:only-of-type {\n",
       "        vertical-align: middle;\n",
       "    }\n",
       "\n",
       "    .dataframe tbody tr th {\n",
       "        vertical-align: top;\n",
       "    }\n",
       "\n",
       "    .dataframe thead th {\n",
       "        text-align: right;\n",
       "    }\n",
       "</style>\n",
       "<table border=\"1\" class=\"dataframe\">\n",
       "  <thead>\n",
       "    <tr style=\"text-align: right;\">\n",
       "      <th></th>\n",
       "      <th>user_id</th>\n",
       "      <th>age</th>\n",
       "      <th>fam_status</th>\n",
       "      <th>n_dependants</th>\n",
       "      <th>income</th>\n",
       "      <th>income_group</th>\n",
       "    </tr>\n",
       "  </thead>\n",
       "  <tbody>\n",
       "    <tr>\n",
       "      <th>0</th>\n",
       "      <td>1</td>\n",
       "      <td>31</td>\n",
       "      <td>married</td>\n",
       "      <td>3</td>\n",
       "      <td>40423</td>\n",
       "      <td>Low income</td>\n",
       "    </tr>\n",
       "    <tr>\n",
       "      <th>59</th>\n",
       "      <td>2</td>\n",
       "      <td>68</td>\n",
       "      <td>married</td>\n",
       "      <td>3</td>\n",
       "      <td>64940</td>\n",
       "      <td>Middle class</td>\n",
       "    </tr>\n",
       "    <tr>\n",
       "      <th>254</th>\n",
       "      <td>3</td>\n",
       "      <td>33</td>\n",
       "      <td>married</td>\n",
       "      <td>3</td>\n",
       "      <td>93240</td>\n",
       "      <td>Middle class</td>\n",
       "    </tr>\n",
       "    <tr>\n",
       "      <th>342</th>\n",
       "      <td>4</td>\n",
       "      <td>31</td>\n",
       "      <td>married</td>\n",
       "      <td>3</td>\n",
       "      <td>45435</td>\n",
       "      <td>Low income</td>\n",
       "    </tr>\n",
       "    <tr>\n",
       "      <th>360</th>\n",
       "      <td>5</td>\n",
       "      <td>75</td>\n",
       "      <td>divorced/widowed</td>\n",
       "      <td>0</td>\n",
       "      <td>115242</td>\n",
       "      <td>Middle class</td>\n",
       "    </tr>\n",
       "  </tbody>\n",
       "</table>\n",
       "</div>"
      ],
      "text/plain": [
       "     user_id  age        fam_status  n_dependants  income  income_group\n",
       "0          1   31           married             3   40423    Low income\n",
       "59         2   68           married             3   64940  Middle class\n",
       "254        3   33           married             3   93240  Middle class\n",
       "342        4   31           married             3   45435    Low income\n",
       "360        5   75  divorced/widowed             0  115242  Middle class"
      ]
     },
     "execution_count": 28,
     "metadata": {},
     "output_type": "execute_result"
    }
   ],
   "source": [
    "df_subset.head()"
   ]
  },
  {
   "cell_type": "code",
   "execution_count": 29,
   "id": "58517f78",
   "metadata": {},
   "outputs": [
    {
     "data": {
      "text/plain": [
       "(206209, 6)"
      ]
     },
     "execution_count": 29,
     "metadata": {},
     "output_type": "execute_result"
    }
   ],
   "source": [
    "df_subset.shape"
   ]
  },
  {
   "cell_type": "markdown",
   "id": "5d99f2fa",
   "metadata": {},
   "source": [
    "### 0.4.2 senior_citizen"
   ]
  },
  {
   "cell_type": "code",
   "execution_count": 30,
   "id": "7d544d7e",
   "metadata": {},
   "outputs": [
    {
     "data": {
      "text/plain": [
       "54729"
      ]
     },
     "execution_count": 30,
     "metadata": {},
     "output_type": "execute_result"
    }
   ],
   "source": [
    "# Identifying the number of senior_citizens in the df\n",
    "len(df_subset[df_subset['age'] >= 65])"
   ]
  },
  {
   "cell_type": "code",
   "execution_count": 31,
   "id": "a34df4d8",
   "metadata": {},
   "outputs": [],
   "source": [
    "# Create a new column 'senior_citizen'\n",
    "# If age >=65, then senior_citizen = TRUE, else FALSE\n",
    "\n",
    "df_subset['senior_citizen'] = df_subset['age'] >= 65"
   ]
  },
  {
   "cell_type": "code",
   "execution_count": 32,
   "id": "8148b40f",
   "metadata": {},
   "outputs": [
    {
     "data": {
      "text/html": [
       "<div>\n",
       "<style scoped>\n",
       "    .dataframe tbody tr th:only-of-type {\n",
       "        vertical-align: middle;\n",
       "    }\n",
       "\n",
       "    .dataframe tbody tr th {\n",
       "        vertical-align: top;\n",
       "    }\n",
       "\n",
       "    .dataframe thead th {\n",
       "        text-align: right;\n",
       "    }\n",
       "</style>\n",
       "<table border=\"1\" class=\"dataframe\">\n",
       "  <thead>\n",
       "    <tr style=\"text-align: right;\">\n",
       "      <th></th>\n",
       "      <th>user_id</th>\n",
       "      <th>age</th>\n",
       "      <th>fam_status</th>\n",
       "      <th>n_dependants</th>\n",
       "      <th>income</th>\n",
       "      <th>income_group</th>\n",
       "      <th>senior_citizen</th>\n",
       "    </tr>\n",
       "  </thead>\n",
       "  <tbody>\n",
       "    <tr>\n",
       "      <th>0</th>\n",
       "      <td>1</td>\n",
       "      <td>31</td>\n",
       "      <td>married</td>\n",
       "      <td>3</td>\n",
       "      <td>40423</td>\n",
       "      <td>Low income</td>\n",
       "      <td>False</td>\n",
       "    </tr>\n",
       "    <tr>\n",
       "      <th>59</th>\n",
       "      <td>2</td>\n",
       "      <td>68</td>\n",
       "      <td>married</td>\n",
       "      <td>3</td>\n",
       "      <td>64940</td>\n",
       "      <td>Middle class</td>\n",
       "      <td>True</td>\n",
       "    </tr>\n",
       "    <tr>\n",
       "      <th>254</th>\n",
       "      <td>3</td>\n",
       "      <td>33</td>\n",
       "      <td>married</td>\n",
       "      <td>3</td>\n",
       "      <td>93240</td>\n",
       "      <td>Middle class</td>\n",
       "      <td>False</td>\n",
       "    </tr>\n",
       "    <tr>\n",
       "      <th>342</th>\n",
       "      <td>4</td>\n",
       "      <td>31</td>\n",
       "      <td>married</td>\n",
       "      <td>3</td>\n",
       "      <td>45435</td>\n",
       "      <td>Low income</td>\n",
       "      <td>False</td>\n",
       "    </tr>\n",
       "    <tr>\n",
       "      <th>360</th>\n",
       "      <td>5</td>\n",
       "      <td>75</td>\n",
       "      <td>divorced/widowed</td>\n",
       "      <td>0</td>\n",
       "      <td>115242</td>\n",
       "      <td>Middle class</td>\n",
       "      <td>True</td>\n",
       "    </tr>\n",
       "  </tbody>\n",
       "</table>\n",
       "</div>"
      ],
      "text/plain": [
       "     user_id  age        fam_status  n_dependants  income  income_group  \\\n",
       "0          1   31           married             3   40423    Low income   \n",
       "59         2   68           married             3   64940  Middle class   \n",
       "254        3   33           married             3   93240  Middle class   \n",
       "342        4   31           married             3   45435    Low income   \n",
       "360        5   75  divorced/widowed             0  115242  Middle class   \n",
       "\n",
       "     senior_citizen  \n",
       "0             False  \n",
       "59             True  \n",
       "254           False  \n",
       "342           False  \n",
       "360            True  "
      ]
     },
     "execution_count": 32,
     "metadata": {},
     "output_type": "execute_result"
    }
   ],
   "source": [
    "# Confirming that the column was added correctly.\n",
    "df_subset.head()"
   ]
  },
  {
   "cell_type": "code",
   "execution_count": 33,
   "id": "3e3577c1",
   "metadata": {
    "scrolled": true
   },
   "outputs": [
    {
     "data": {
      "text/plain": [
       "False    151480\n",
       "True      54729\n",
       "Name: senior_citizen, dtype: int64"
      ]
     },
     "execution_count": 33,
     "metadata": {},
     "output_type": "execute_result"
    }
   ],
   "source": [
    "df_subset['senior_citizen'].value_counts()"
   ]
  },
  {
   "cell_type": "code",
   "execution_count": 34,
   "id": "ffa70665",
   "metadata": {},
   "outputs": [
    {
     "data": {
      "text/plain": [
       "(206209, 7)"
      ]
     },
     "execution_count": 34,
     "metadata": {},
     "output_type": "execute_result"
    }
   ],
   "source": [
    "df_subset.shape"
   ]
  },
  {
   "cell_type": "markdown",
   "id": "8b8fb950",
   "metadata": {},
   "source": [
    "### 0.4.3  two_parent_fam"
   ]
  },
  {
   "cell_type": "code",
   "execution_count": 35,
   "id": "d5154cf4",
   "metadata": {},
   "outputs": [],
   "source": [
    "# Create a new column 'two_parent_fam'\n",
    "# If fam_status = 'married' AND n_dependants >0, \n",
    "# then two_parent_fam = TRUE, else FALSE\n",
    "\n",
    "df_subset['two_parent_fam'] = ((df_subset['fam_status'] == 'married') & (df_subset['n_dependants'] > 0))"
   ]
  },
  {
   "cell_type": "code",
   "execution_count": 36,
   "id": "00bf7394",
   "metadata": {},
   "outputs": [
    {
     "data": {
      "text/html": [
       "<div>\n",
       "<style scoped>\n",
       "    .dataframe tbody tr th:only-of-type {\n",
       "        vertical-align: middle;\n",
       "    }\n",
       "\n",
       "    .dataframe tbody tr th {\n",
       "        vertical-align: top;\n",
       "    }\n",
       "\n",
       "    .dataframe thead th {\n",
       "        text-align: right;\n",
       "    }\n",
       "</style>\n",
       "<table border=\"1\" class=\"dataframe\">\n",
       "  <thead>\n",
       "    <tr style=\"text-align: right;\">\n",
       "      <th></th>\n",
       "      <th>user_id</th>\n",
       "      <th>age</th>\n",
       "      <th>fam_status</th>\n",
       "      <th>n_dependants</th>\n",
       "      <th>income</th>\n",
       "      <th>income_group</th>\n",
       "      <th>senior_citizen</th>\n",
       "      <th>two_parent_fam</th>\n",
       "    </tr>\n",
       "  </thead>\n",
       "  <tbody>\n",
       "    <tr>\n",
       "      <th>0</th>\n",
       "      <td>1</td>\n",
       "      <td>31</td>\n",
       "      <td>married</td>\n",
       "      <td>3</td>\n",
       "      <td>40423</td>\n",
       "      <td>Low income</td>\n",
       "      <td>False</td>\n",
       "      <td>True</td>\n",
       "    </tr>\n",
       "    <tr>\n",
       "      <th>59</th>\n",
       "      <td>2</td>\n",
       "      <td>68</td>\n",
       "      <td>married</td>\n",
       "      <td>3</td>\n",
       "      <td>64940</td>\n",
       "      <td>Middle class</td>\n",
       "      <td>True</td>\n",
       "      <td>True</td>\n",
       "    </tr>\n",
       "    <tr>\n",
       "      <th>254</th>\n",
       "      <td>3</td>\n",
       "      <td>33</td>\n",
       "      <td>married</td>\n",
       "      <td>3</td>\n",
       "      <td>93240</td>\n",
       "      <td>Middle class</td>\n",
       "      <td>False</td>\n",
       "      <td>True</td>\n",
       "    </tr>\n",
       "    <tr>\n",
       "      <th>342</th>\n",
       "      <td>4</td>\n",
       "      <td>31</td>\n",
       "      <td>married</td>\n",
       "      <td>3</td>\n",
       "      <td>45435</td>\n",
       "      <td>Low income</td>\n",
       "      <td>False</td>\n",
       "      <td>True</td>\n",
       "    </tr>\n",
       "    <tr>\n",
       "      <th>360</th>\n",
       "      <td>5</td>\n",
       "      <td>75</td>\n",
       "      <td>divorced/widowed</td>\n",
       "      <td>0</td>\n",
       "      <td>115242</td>\n",
       "      <td>Middle class</td>\n",
       "      <td>True</td>\n",
       "      <td>False</td>\n",
       "    </tr>\n",
       "    <tr>\n",
       "      <th>397</th>\n",
       "      <td>6</td>\n",
       "      <td>48</td>\n",
       "      <td>married</td>\n",
       "      <td>1</td>\n",
       "      <td>116041</td>\n",
       "      <td>Middle class</td>\n",
       "      <td>False</td>\n",
       "      <td>True</td>\n",
       "    </tr>\n",
       "    <tr>\n",
       "      <th>411</th>\n",
       "      <td>7</td>\n",
       "      <td>39</td>\n",
       "      <td>married</td>\n",
       "      <td>2</td>\n",
       "      <td>89095</td>\n",
       "      <td>Middle class</td>\n",
       "      <td>False</td>\n",
       "      <td>True</td>\n",
       "    </tr>\n",
       "    <tr>\n",
       "      <th>617</th>\n",
       "      <td>8</td>\n",
       "      <td>32</td>\n",
       "      <td>married</td>\n",
       "      <td>1</td>\n",
       "      <td>88603</td>\n",
       "      <td>Middle class</td>\n",
       "      <td>False</td>\n",
       "      <td>True</td>\n",
       "    </tr>\n",
       "    <tr>\n",
       "      <th>666</th>\n",
       "      <td>9</td>\n",
       "      <td>79</td>\n",
       "      <td>married</td>\n",
       "      <td>3</td>\n",
       "      <td>154743</td>\n",
       "      <td>Upper middle class</td>\n",
       "      <td>True</td>\n",
       "      <td>True</td>\n",
       "    </tr>\n",
       "    <tr>\n",
       "      <th>742</th>\n",
       "      <td>10</td>\n",
       "      <td>34</td>\n",
       "      <td>married</td>\n",
       "      <td>2</td>\n",
       "      <td>52716</td>\n",
       "      <td>Middle class</td>\n",
       "      <td>False</td>\n",
       "      <td>True</td>\n",
       "    </tr>\n",
       "  </tbody>\n",
       "</table>\n",
       "</div>"
      ],
      "text/plain": [
       "     user_id  age        fam_status  n_dependants  income        income_group  \\\n",
       "0          1   31           married             3   40423          Low income   \n",
       "59         2   68           married             3   64940        Middle class   \n",
       "254        3   33           married             3   93240        Middle class   \n",
       "342        4   31           married             3   45435          Low income   \n",
       "360        5   75  divorced/widowed             0  115242        Middle class   \n",
       "397        6   48           married             1  116041        Middle class   \n",
       "411        7   39           married             2   89095        Middle class   \n",
       "617        8   32           married             1   88603        Middle class   \n",
       "666        9   79           married             3  154743  Upper middle class   \n",
       "742       10   34           married             2   52716        Middle class   \n",
       "\n",
       "     senior_citizen  two_parent_fam  \n",
       "0             False            True  \n",
       "59             True            True  \n",
       "254           False            True  \n",
       "342           False            True  \n",
       "360            True           False  \n",
       "397           False            True  \n",
       "411           False            True  \n",
       "617           False            True  \n",
       "666            True            True  \n",
       "742           False            True  "
      ]
     },
     "execution_count": 36,
     "metadata": {},
     "output_type": "execute_result"
    }
   ],
   "source": [
    "# Confirming that the column was added correctly.\n",
    "df_subset.head(10)"
   ]
  },
  {
   "cell_type": "code",
   "execution_count": 37,
   "id": "6ebe9ca5",
   "metadata": {},
   "outputs": [
    {
     "data": {
      "text/plain": [
       "True     144906\n",
       "False     61303\n",
       "Name: two_parent_fam, dtype: int64"
      ]
     },
     "execution_count": 37,
     "metadata": {},
     "output_type": "execute_result"
    }
   ],
   "source": [
    "df_subset['two_parent_fam'].value_counts()"
   ]
  },
  {
   "cell_type": "code",
   "execution_count": 38,
   "id": "b86dd797",
   "metadata": {},
   "outputs": [
    {
     "data": {
      "text/plain": [
       "(206209, 8)"
      ]
     },
     "execution_count": 38,
     "metadata": {},
     "output_type": "execute_result"
    }
   ],
   "source": [
    "df_subset.shape"
   ]
  },
  {
   "cell_type": "markdown",
   "id": "8bfbc05c",
   "metadata": {},
   "source": [
    "### 0.4.4  single_parent"
   ]
  },
  {
   "cell_type": "code",
   "execution_count": 39,
   "id": "90a4abfb",
   "metadata": {},
   "outputs": [],
   "source": [
    "# Create a new column 'single_parent'\n",
    "# If n_dependants >0 AND fam_status does NOT equal 'married' \n",
    "# then single_parent = TRUE, else FALSE\n",
    "\n",
    "df_subset['single_parent'] = ((df_subset['fam_status'] != 'married') & (df_subset['n_dependants'] > 0))"
   ]
  },
  {
   "cell_type": "code",
   "execution_count": 40,
   "id": "de607cc3",
   "metadata": {},
   "outputs": [
    {
     "data": {
      "text/html": [
       "<div>\n",
       "<style scoped>\n",
       "    .dataframe tbody tr th:only-of-type {\n",
       "        vertical-align: middle;\n",
       "    }\n",
       "\n",
       "    .dataframe tbody tr th {\n",
       "        vertical-align: top;\n",
       "    }\n",
       "\n",
       "    .dataframe thead th {\n",
       "        text-align: right;\n",
       "    }\n",
       "</style>\n",
       "<table border=\"1\" class=\"dataframe\">\n",
       "  <thead>\n",
       "    <tr style=\"text-align: right;\">\n",
       "      <th></th>\n",
       "      <th>user_id</th>\n",
       "      <th>age</th>\n",
       "      <th>fam_status</th>\n",
       "      <th>n_dependants</th>\n",
       "      <th>income</th>\n",
       "      <th>income_group</th>\n",
       "      <th>senior_citizen</th>\n",
       "      <th>two_parent_fam</th>\n",
       "      <th>single_parent</th>\n",
       "    </tr>\n",
       "  </thead>\n",
       "  <tbody>\n",
       "    <tr>\n",
       "      <th>0</th>\n",
       "      <td>1</td>\n",
       "      <td>31</td>\n",
       "      <td>married</td>\n",
       "      <td>3</td>\n",
       "      <td>40423</td>\n",
       "      <td>Low income</td>\n",
       "      <td>False</td>\n",
       "      <td>True</td>\n",
       "      <td>False</td>\n",
       "    </tr>\n",
       "    <tr>\n",
       "      <th>59</th>\n",
       "      <td>2</td>\n",
       "      <td>68</td>\n",
       "      <td>married</td>\n",
       "      <td>3</td>\n",
       "      <td>64940</td>\n",
       "      <td>Middle class</td>\n",
       "      <td>True</td>\n",
       "      <td>True</td>\n",
       "      <td>False</td>\n",
       "    </tr>\n",
       "    <tr>\n",
       "      <th>254</th>\n",
       "      <td>3</td>\n",
       "      <td>33</td>\n",
       "      <td>married</td>\n",
       "      <td>3</td>\n",
       "      <td>93240</td>\n",
       "      <td>Middle class</td>\n",
       "      <td>False</td>\n",
       "      <td>True</td>\n",
       "      <td>False</td>\n",
       "    </tr>\n",
       "    <tr>\n",
       "      <th>342</th>\n",
       "      <td>4</td>\n",
       "      <td>31</td>\n",
       "      <td>married</td>\n",
       "      <td>3</td>\n",
       "      <td>45435</td>\n",
       "      <td>Low income</td>\n",
       "      <td>False</td>\n",
       "      <td>True</td>\n",
       "      <td>False</td>\n",
       "    </tr>\n",
       "    <tr>\n",
       "      <th>360</th>\n",
       "      <td>5</td>\n",
       "      <td>75</td>\n",
       "      <td>divorced/widowed</td>\n",
       "      <td>0</td>\n",
       "      <td>115242</td>\n",
       "      <td>Middle class</td>\n",
       "      <td>True</td>\n",
       "      <td>False</td>\n",
       "      <td>False</td>\n",
       "    </tr>\n",
       "  </tbody>\n",
       "</table>\n",
       "</div>"
      ],
      "text/plain": [
       "     user_id  age        fam_status  n_dependants  income  income_group  \\\n",
       "0          1   31           married             3   40423    Low income   \n",
       "59         2   68           married             3   64940  Middle class   \n",
       "254        3   33           married             3   93240  Middle class   \n",
       "342        4   31           married             3   45435    Low income   \n",
       "360        5   75  divorced/widowed             0  115242  Middle class   \n",
       "\n",
       "     senior_citizen  two_parent_fam  single_parent  \n",
       "0             False            True          False  \n",
       "59             True            True          False  \n",
       "254           False            True          False  \n",
       "342           False            True          False  \n",
       "360            True           False          False  "
      ]
     },
     "execution_count": 40,
     "metadata": {},
     "output_type": "execute_result"
    }
   ],
   "source": [
    "df_subset.head()"
   ]
  },
  {
   "cell_type": "code",
   "execution_count": 41,
   "id": "a5ed13c3",
   "metadata": {},
   "outputs": [
    {
     "data": {
      "text/plain": [
       "False    196508\n",
       "True       9701\n",
       "Name: single_parent, dtype: int64"
      ]
     },
     "execution_count": 41,
     "metadata": {},
     "output_type": "execute_result"
    }
   ],
   "source": [
    "df_subset['single_parent'].value_counts()"
   ]
  },
  {
   "cell_type": "code",
   "execution_count": 42,
   "id": "f184c443",
   "metadata": {},
   "outputs": [
    {
     "data": {
      "text/plain": [
       "(206209, 9)"
      ]
     },
     "execution_count": 42,
     "metadata": {},
     "output_type": "execute_result"
    }
   ],
   "source": [
    "df_subset.shape"
   ]
  },
  {
   "cell_type": "markdown",
   "id": "7601835a",
   "metadata": {},
   "source": [
    "### 0.4.5  baby_parent"
   ]
  },
  {
   "cell_type": "code",
   "execution_count": 43,
   "id": "ad25b79f",
   "metadata": {},
   "outputs": [
    {
     "data": {
      "text/plain": [
       "423794"
      ]
     },
     "execution_count": 43,
     "metadata": {},
     "output_type": "execute_result"
    }
   ],
   "source": [
    "# Identifying the number of transaction in the babies department (18)\n",
    "len(df[df['department_id'] == 18])"
   ]
  },
  {
   "cell_type": "code",
   "execution_count": 44,
   "id": "c5dbb61f",
   "metadata": {},
   "outputs": [
    {
     "data": {
      "text/plain": [
       "24329247"
      ]
     },
     "execution_count": 44,
     "metadata": {},
     "output_type": "execute_result"
    }
   ],
   "source": [
    "# Identifying the number of transactions where the user has dependants\n",
    "len(df[df['n_dependants'] >0])"
   ]
  },
  {
   "cell_type": "code",
   "execution_count": 45,
   "id": "3b70264a",
   "metadata": {},
   "outputs": [],
   "source": [
    "# Add a column to identify potential baby_parents\n",
    "# where department_id=18 AND n_dependants > 0, \n",
    "# then TRUE, else FALSE\n",
    "\n",
    "df['baby_parent'] = ((df['n_dependants'] > 0) & (df['department_id'] == 18))\n"
   ]
  },
  {
   "cell_type": "code",
   "execution_count": 46,
   "id": "6ff748a6",
   "metadata": {},
   "outputs": [
    {
     "data": {
      "text/plain": [
       "False    32117189\n",
       "True       317300\n",
       "Name: baby_parent, dtype: int64"
      ]
     },
     "execution_count": 46,
     "metadata": {},
     "output_type": "execute_result"
    }
   ],
   "source": [
    "# Checking the counts of baby_parent\n",
    "df['baby_parent'].value_counts()"
   ]
  },
  {
   "cell_type": "markdown",
   "id": "24303aab",
   "metadata": {},
   "source": [
    "The number of true transactions for baby_parent (317,300) is less than the total number of baby transactions (423,794) probably because some baby transaction might be gifts or for other purposes."
   ]
  },
  {
   "cell_type": "code",
   "execution_count": 47,
   "id": "7fe7fe6d",
   "metadata": {},
   "outputs": [],
   "source": [
    "# Making it so if a user has any transaction flagged as 'baby_parent' then\n",
    "# the user is consistently flagged as a baby_parent across all transactions\n",
    "df['baby_parent'] = (df.groupby(['user_id'])['baby_parent'].transform(np.sum))>0"
   ]
  },
  {
   "cell_type": "code",
   "execution_count": 48,
   "id": "e67d3985",
   "metadata": {
    "scrolled": true
   },
   "outputs": [
    {
     "data": {
      "text/plain": [
       "False    24948816\n",
       "True      7485673\n",
       "Name: baby_parent, dtype: int64"
      ]
     },
     "execution_count": 48,
     "metadata": {},
     "output_type": "execute_result"
    }
   ],
   "source": [
    "# Checking the counts of baby_parent\n",
    "df['baby_parent'].value_counts()"
   ]
  },
  {
   "cell_type": "markdown",
   "id": "1f20bf8f",
   "metadata": {},
   "source": [
    "The number of true transactions have drastically increased, but that makes sense since parents of babies would make some transactions where they might not buy any baby items.  It may also be the case that their child has grown and is no longer a baby -- we would need data about the dates of transaction if we wanted to make the flags expire after a certain amount of time with no baby transactions."
   ]
  },
  {
   "cell_type": "code",
   "execution_count": 49,
   "id": "c597a4f7",
   "metadata": {},
   "outputs": [
    {
     "data": {
      "text/plain": [
       "(32434489, 40)"
      ]
     },
     "execution_count": 49,
     "metadata": {},
     "output_type": "execute_result"
    }
   ],
   "source": [
    "df.shape"
   ]
  },
  {
   "cell_type": "code",
   "execution_count": 50,
   "id": "b833e6bd",
   "metadata": {},
   "outputs": [
    {
     "data": {
      "text/html": [
       "<div>\n",
       "<style scoped>\n",
       "    .dataframe tbody tr th:only-of-type {\n",
       "        vertical-align: middle;\n",
       "    }\n",
       "\n",
       "    .dataframe tbody tr th {\n",
       "        vertical-align: top;\n",
       "    }\n",
       "\n",
       "    .dataframe thead th {\n",
       "        text-align: right;\n",
       "    }\n",
       "</style>\n",
       "<table border=\"1\" class=\"dataframe\">\n",
       "  <thead>\n",
       "    <tr style=\"text-align: right;\">\n",
       "      <th></th>\n",
       "      <th>order_id</th>\n",
       "      <th>user_id</th>\n",
       "      <th>order_number</th>\n",
       "      <th>order_day_of_week</th>\n",
       "      <th>order_hour_of_day</th>\n",
       "      <th>days_since_prior_order</th>\n",
       "      <th>first_order_of_new_customer</th>\n",
       "      <th>product_id</th>\n",
       "      <th>add_to_cart_order</th>\n",
       "      <th>reordered</th>\n",
       "      <th>...</th>\n",
       "      <th>n_dependants</th>\n",
       "      <th>fam_status</th>\n",
       "      <th>income</th>\n",
       "      <th>region</th>\n",
       "      <th>low_activity_flag</th>\n",
       "      <th>total_spent_in_order</th>\n",
       "      <th>total_spent_in_lifetime</th>\n",
       "      <th>total_items_in_lifetime</th>\n",
       "      <th>avg_items_per_order_by_user</th>\n",
       "      <th>baby_parent</th>\n",
       "    </tr>\n",
       "  </thead>\n",
       "  <tbody>\n",
       "    <tr>\n",
       "      <th>0</th>\n",
       "      <td>2539329</td>\n",
       "      <td>1</td>\n",
       "      <td>1</td>\n",
       "      <td>2</td>\n",
       "      <td>8</td>\n",
       "      <td>NaN</td>\n",
       "      <td>True</td>\n",
       "      <td>196</td>\n",
       "      <td>1</td>\n",
       "      <td>0</td>\n",
       "      <td>...</td>\n",
       "      <td>3</td>\n",
       "      <td>married</td>\n",
       "      <td>40423</td>\n",
       "      <td>South</td>\n",
       "      <td>False</td>\n",
       "      <td>31.6</td>\n",
       "      <td>375.700012</td>\n",
       "      <td>59</td>\n",
       "      <td>5.898438</td>\n",
       "      <td>False</td>\n",
       "    </tr>\n",
       "    <tr>\n",
       "      <th>1</th>\n",
       "      <td>2539329</td>\n",
       "      <td>1</td>\n",
       "      <td>1</td>\n",
       "      <td>2</td>\n",
       "      <td>8</td>\n",
       "      <td>NaN</td>\n",
       "      <td>True</td>\n",
       "      <td>14084</td>\n",
       "      <td>2</td>\n",
       "      <td>0</td>\n",
       "      <td>...</td>\n",
       "      <td>3</td>\n",
       "      <td>married</td>\n",
       "      <td>40423</td>\n",
       "      <td>South</td>\n",
       "      <td>False</td>\n",
       "      <td>31.6</td>\n",
       "      <td>375.700012</td>\n",
       "      <td>59</td>\n",
       "      <td>5.898438</td>\n",
       "      <td>False</td>\n",
       "    </tr>\n",
       "    <tr>\n",
       "      <th>2</th>\n",
       "      <td>2539329</td>\n",
       "      <td>1</td>\n",
       "      <td>1</td>\n",
       "      <td>2</td>\n",
       "      <td>8</td>\n",
       "      <td>NaN</td>\n",
       "      <td>True</td>\n",
       "      <td>12427</td>\n",
       "      <td>3</td>\n",
       "      <td>0</td>\n",
       "      <td>...</td>\n",
       "      <td>3</td>\n",
       "      <td>married</td>\n",
       "      <td>40423</td>\n",
       "      <td>South</td>\n",
       "      <td>False</td>\n",
       "      <td>31.6</td>\n",
       "      <td>375.700012</td>\n",
       "      <td>59</td>\n",
       "      <td>5.898438</td>\n",
       "      <td>False</td>\n",
       "    </tr>\n",
       "    <tr>\n",
       "      <th>3</th>\n",
       "      <td>2539329</td>\n",
       "      <td>1</td>\n",
       "      <td>1</td>\n",
       "      <td>2</td>\n",
       "      <td>8</td>\n",
       "      <td>NaN</td>\n",
       "      <td>True</td>\n",
       "      <td>26088</td>\n",
       "      <td>4</td>\n",
       "      <td>0</td>\n",
       "      <td>...</td>\n",
       "      <td>3</td>\n",
       "      <td>married</td>\n",
       "      <td>40423</td>\n",
       "      <td>South</td>\n",
       "      <td>False</td>\n",
       "      <td>31.6</td>\n",
       "      <td>375.700012</td>\n",
       "      <td>59</td>\n",
       "      <td>5.898438</td>\n",
       "      <td>False</td>\n",
       "    </tr>\n",
       "    <tr>\n",
       "      <th>4</th>\n",
       "      <td>2539329</td>\n",
       "      <td>1</td>\n",
       "      <td>1</td>\n",
       "      <td>2</td>\n",
       "      <td>8</td>\n",
       "      <td>NaN</td>\n",
       "      <td>True</td>\n",
       "      <td>26405</td>\n",
       "      <td>5</td>\n",
       "      <td>0</td>\n",
       "      <td>...</td>\n",
       "      <td>3</td>\n",
       "      <td>married</td>\n",
       "      <td>40423</td>\n",
       "      <td>South</td>\n",
       "      <td>False</td>\n",
       "      <td>31.6</td>\n",
       "      <td>375.700012</td>\n",
       "      <td>59</td>\n",
       "      <td>5.898438</td>\n",
       "      <td>False</td>\n",
       "    </tr>\n",
       "  </tbody>\n",
       "</table>\n",
       "<p>5 rows × 40 columns</p>\n",
       "</div>"
      ],
      "text/plain": [
       "   order_id  user_id  order_number  order_day_of_week  order_hour_of_day  \\\n",
       "0   2539329        1             1                  2                  8   \n",
       "1   2539329        1             1                  2                  8   \n",
       "2   2539329        1             1                  2                  8   \n",
       "3   2539329        1             1                  2                  8   \n",
       "4   2539329        1             1                  2                  8   \n",
       "\n",
       "   days_since_prior_order  first_order_of_new_customer  product_id  \\\n",
       "0                     NaN                         True         196   \n",
       "1                     NaN                         True       14084   \n",
       "2                     NaN                         True       12427   \n",
       "3                     NaN                         True       26088   \n",
       "4                     NaN                         True       26405   \n",
       "\n",
       "   add_to_cart_order  reordered  ... n_dependants  fam_status  income  region  \\\n",
       "0                  1          0  ...            3     married   40423   South   \n",
       "1                  2          0  ...            3     married   40423   South   \n",
       "2                  3          0  ...            3     married   40423   South   \n",
       "3                  4          0  ...            3     married   40423   South   \n",
       "4                  5          0  ...            3     married   40423   South   \n",
       "\n",
       "   low_activity_flag  total_spent_in_order total_spent_in_lifetime  \\\n",
       "0              False                  31.6              375.700012   \n",
       "1              False                  31.6              375.700012   \n",
       "2              False                  31.6              375.700012   \n",
       "3              False                  31.6              375.700012   \n",
       "4              False                  31.6              375.700012   \n",
       "\n",
       "  total_items_in_lifetime avg_items_per_order_by_user baby_parent  \n",
       "0                      59                    5.898438       False  \n",
       "1                      59                    5.898438       False  \n",
       "2                      59                    5.898438       False  \n",
       "3                      59                    5.898438       False  \n",
       "4                      59                    5.898438       False  \n",
       "\n",
       "[5 rows x 40 columns]"
      ]
     },
     "execution_count": 50,
     "metadata": {},
     "output_type": "execute_result"
    }
   ],
   "source": [
    "df.head()"
   ]
  },
  {
   "cell_type": "markdown",
   "id": "9b705d1a",
   "metadata": {},
   "source": [
    "### 0.4.6  pet_owner"
   ]
  },
  {
   "cell_type": "code",
   "execution_count": 51,
   "id": "fa0f7e2e",
   "metadata": {},
   "outputs": [
    {
     "data": {
      "text/plain": [
       "97716"
      ]
     },
     "execution_count": 51,
     "metadata": {},
     "output_type": "execute_result"
    }
   ],
   "source": [
    "# Identifying the number of transaction in the pet department (8)\n",
    "len(df[df['department_id'] == 8])"
   ]
  },
  {
   "cell_type": "code",
   "execution_count": 52,
   "id": "d8e475cf",
   "metadata": {},
   "outputs": [],
   "source": [
    "# Create a temporary column 'pet_transaction' to identify these transactions\n",
    "# If department_id=8, then pet_transaction = TRUE, else FALSE\n",
    "\n",
    "df['pet_transaction'] = df['department_id'] == 8"
   ]
  },
  {
   "cell_type": "code",
   "execution_count": 53,
   "id": "fa7ca963",
   "metadata": {},
   "outputs": [
    {
     "data": {
      "text/plain": [
       "False    32336773\n",
       "True        97716\n",
       "Name: pet_transaction, dtype: int64"
      ]
     },
     "execution_count": 53,
     "metadata": {},
     "output_type": "execute_result"
    }
   ],
   "source": [
    "# Confirming the correct number of rows have been labeled as pet transactions.\n",
    "df['pet_transaction'].value_counts()"
   ]
  },
  {
   "cell_type": "code",
   "execution_count": 54,
   "id": "8922f86a",
   "metadata": {},
   "outputs": [],
   "source": [
    "# If the number of pet transactions for a user is greater than zero, then\n",
    "# pet_owner = TRUE, else FALSE\n",
    "df['pet_owner'] = (df.groupby(['user_id'])['pet_transaction'].transform(np.sum))>0"
   ]
  },
  {
   "cell_type": "code",
   "execution_count": 55,
   "id": "12205acd",
   "metadata": {},
   "outputs": [
    {
     "data": {
      "text/plain": [
       "False    28903972\n",
       "True      3530517\n",
       "Name: pet_owner, dtype: int64"
      ]
     },
     "execution_count": 55,
     "metadata": {},
     "output_type": "execute_result"
    }
   ],
   "source": [
    "# Checking the counts of pet_owners\n",
    "df['pet_owner'].value_counts()"
   ]
  },
  {
   "cell_type": "code",
   "execution_count": 56,
   "id": "cc6ab7f9",
   "metadata": {},
   "outputs": [
    {
     "data": {
      "text/plain": [
       "(32434489, 42)"
      ]
     },
     "execution_count": 56,
     "metadata": {},
     "output_type": "execute_result"
    }
   ],
   "source": [
    "df.shape"
   ]
  },
  {
   "cell_type": "code",
   "execution_count": 57,
   "id": "36e122ed",
   "metadata": {},
   "outputs": [],
   "source": [
    "# Removing the pet_transaction column as unnecessary now that we have the pet_owner flag\n",
    "df = df.drop(columns = ['pet_transaction'])"
   ]
  },
  {
   "cell_type": "code",
   "execution_count": 58,
   "id": "935d0ca0",
   "metadata": {},
   "outputs": [
    {
     "data": {
      "text/plain": [
       "(32434489, 41)"
      ]
     },
     "execution_count": 58,
     "metadata": {},
     "output_type": "execute_result"
    }
   ],
   "source": [
    "df.shape"
   ]
  },
  {
   "cell_type": "code",
   "execution_count": 59,
   "id": "ba10917a",
   "metadata": {},
   "outputs": [
    {
     "data": {
      "text/html": [
       "<div>\n",
       "<style scoped>\n",
       "    .dataframe tbody tr th:only-of-type {\n",
       "        vertical-align: middle;\n",
       "    }\n",
       "\n",
       "    .dataframe tbody tr th {\n",
       "        vertical-align: top;\n",
       "    }\n",
       "\n",
       "    .dataframe thead th {\n",
       "        text-align: right;\n",
       "    }\n",
       "</style>\n",
       "<table border=\"1\" class=\"dataframe\">\n",
       "  <thead>\n",
       "    <tr style=\"text-align: right;\">\n",
       "      <th></th>\n",
       "      <th>order_id</th>\n",
       "      <th>user_id</th>\n",
       "      <th>order_number</th>\n",
       "      <th>order_day_of_week</th>\n",
       "      <th>order_hour_of_day</th>\n",
       "      <th>days_since_prior_order</th>\n",
       "      <th>first_order_of_new_customer</th>\n",
       "      <th>product_id</th>\n",
       "      <th>add_to_cart_order</th>\n",
       "      <th>reordered</th>\n",
       "      <th>...</th>\n",
       "      <th>fam_status</th>\n",
       "      <th>income</th>\n",
       "      <th>region</th>\n",
       "      <th>low_activity_flag</th>\n",
       "      <th>total_spent_in_order</th>\n",
       "      <th>total_spent_in_lifetime</th>\n",
       "      <th>total_items_in_lifetime</th>\n",
       "      <th>avg_items_per_order_by_user</th>\n",
       "      <th>baby_parent</th>\n",
       "      <th>pet_owner</th>\n",
       "    </tr>\n",
       "  </thead>\n",
       "  <tbody>\n",
       "    <tr>\n",
       "      <th>0</th>\n",
       "      <td>2539329</td>\n",
       "      <td>1</td>\n",
       "      <td>1</td>\n",
       "      <td>2</td>\n",
       "      <td>8</td>\n",
       "      <td>NaN</td>\n",
       "      <td>True</td>\n",
       "      <td>196</td>\n",
       "      <td>1</td>\n",
       "      <td>0</td>\n",
       "      <td>...</td>\n",
       "      <td>married</td>\n",
       "      <td>40423</td>\n",
       "      <td>South</td>\n",
       "      <td>False</td>\n",
       "      <td>31.6</td>\n",
       "      <td>375.700012</td>\n",
       "      <td>59</td>\n",
       "      <td>5.898438</td>\n",
       "      <td>False</td>\n",
       "      <td>False</td>\n",
       "    </tr>\n",
       "    <tr>\n",
       "      <th>1</th>\n",
       "      <td>2539329</td>\n",
       "      <td>1</td>\n",
       "      <td>1</td>\n",
       "      <td>2</td>\n",
       "      <td>8</td>\n",
       "      <td>NaN</td>\n",
       "      <td>True</td>\n",
       "      <td>14084</td>\n",
       "      <td>2</td>\n",
       "      <td>0</td>\n",
       "      <td>...</td>\n",
       "      <td>married</td>\n",
       "      <td>40423</td>\n",
       "      <td>South</td>\n",
       "      <td>False</td>\n",
       "      <td>31.6</td>\n",
       "      <td>375.700012</td>\n",
       "      <td>59</td>\n",
       "      <td>5.898438</td>\n",
       "      <td>False</td>\n",
       "      <td>False</td>\n",
       "    </tr>\n",
       "    <tr>\n",
       "      <th>2</th>\n",
       "      <td>2539329</td>\n",
       "      <td>1</td>\n",
       "      <td>1</td>\n",
       "      <td>2</td>\n",
       "      <td>8</td>\n",
       "      <td>NaN</td>\n",
       "      <td>True</td>\n",
       "      <td>12427</td>\n",
       "      <td>3</td>\n",
       "      <td>0</td>\n",
       "      <td>...</td>\n",
       "      <td>married</td>\n",
       "      <td>40423</td>\n",
       "      <td>South</td>\n",
       "      <td>False</td>\n",
       "      <td>31.6</td>\n",
       "      <td>375.700012</td>\n",
       "      <td>59</td>\n",
       "      <td>5.898438</td>\n",
       "      <td>False</td>\n",
       "      <td>False</td>\n",
       "    </tr>\n",
       "    <tr>\n",
       "      <th>3</th>\n",
       "      <td>2539329</td>\n",
       "      <td>1</td>\n",
       "      <td>1</td>\n",
       "      <td>2</td>\n",
       "      <td>8</td>\n",
       "      <td>NaN</td>\n",
       "      <td>True</td>\n",
       "      <td>26088</td>\n",
       "      <td>4</td>\n",
       "      <td>0</td>\n",
       "      <td>...</td>\n",
       "      <td>married</td>\n",
       "      <td>40423</td>\n",
       "      <td>South</td>\n",
       "      <td>False</td>\n",
       "      <td>31.6</td>\n",
       "      <td>375.700012</td>\n",
       "      <td>59</td>\n",
       "      <td>5.898438</td>\n",
       "      <td>False</td>\n",
       "      <td>False</td>\n",
       "    </tr>\n",
       "    <tr>\n",
       "      <th>4</th>\n",
       "      <td>2539329</td>\n",
       "      <td>1</td>\n",
       "      <td>1</td>\n",
       "      <td>2</td>\n",
       "      <td>8</td>\n",
       "      <td>NaN</td>\n",
       "      <td>True</td>\n",
       "      <td>26405</td>\n",
       "      <td>5</td>\n",
       "      <td>0</td>\n",
       "      <td>...</td>\n",
       "      <td>married</td>\n",
       "      <td>40423</td>\n",
       "      <td>South</td>\n",
       "      <td>False</td>\n",
       "      <td>31.6</td>\n",
       "      <td>375.700012</td>\n",
       "      <td>59</td>\n",
       "      <td>5.898438</td>\n",
       "      <td>False</td>\n",
       "      <td>False</td>\n",
       "    </tr>\n",
       "  </tbody>\n",
       "</table>\n",
       "<p>5 rows × 41 columns</p>\n",
       "</div>"
      ],
      "text/plain": [
       "   order_id  user_id  order_number  order_day_of_week  order_hour_of_day  \\\n",
       "0   2539329        1             1                  2                  8   \n",
       "1   2539329        1             1                  2                  8   \n",
       "2   2539329        1             1                  2                  8   \n",
       "3   2539329        1             1                  2                  8   \n",
       "4   2539329        1             1                  2                  8   \n",
       "\n",
       "   days_since_prior_order  first_order_of_new_customer  product_id  \\\n",
       "0                     NaN                         True         196   \n",
       "1                     NaN                         True       14084   \n",
       "2                     NaN                         True       12427   \n",
       "3                     NaN                         True       26088   \n",
       "4                     NaN                         True       26405   \n",
       "\n",
       "   add_to_cart_order  reordered  ... fam_status  income  region  \\\n",
       "0                  1          0  ...    married   40423   South   \n",
       "1                  2          0  ...    married   40423   South   \n",
       "2                  3          0  ...    married   40423   South   \n",
       "3                  4          0  ...    married   40423   South   \n",
       "4                  5          0  ...    married   40423   South   \n",
       "\n",
       "   low_activity_flag  total_spent_in_order  total_spent_in_lifetime  \\\n",
       "0              False                  31.6               375.700012   \n",
       "1              False                  31.6               375.700012   \n",
       "2              False                  31.6               375.700012   \n",
       "3              False                  31.6               375.700012   \n",
       "4              False                  31.6               375.700012   \n",
       "\n",
       "  total_items_in_lifetime avg_items_per_order_by_user baby_parent pet_owner  \n",
       "0                      59                    5.898438       False     False  \n",
       "1                      59                    5.898438       False     False  \n",
       "2                      59                    5.898438       False     False  \n",
       "3                      59                    5.898438       False     False  \n",
       "4                      59                    5.898438       False     False  \n",
       "\n",
       "[5 rows x 41 columns]"
      ]
     },
     "execution_count": 59,
     "metadata": {},
     "output_type": "execute_result"
    }
   ],
   "source": [
    "df.head()"
   ]
  },
  {
   "cell_type": "markdown",
   "id": "66fc91da",
   "metadata": {},
   "source": [
    "### 0.5 Merging temp subset with full df"
   ]
  },
  {
   "cell_type": "code",
   "execution_count": 60,
   "id": "e94a7dcf",
   "metadata": {},
   "outputs": [],
   "source": [
    "# Drop columns from subset that we don't want merged\n",
    "# because it would result in duplicated columns\n",
    "df_subset = df_subset.drop(columns = ['age', 'fam_status', 'n_dependants', 'income'])"
   ]
  },
  {
   "cell_type": "code",
   "execution_count": 61,
   "id": "5b1bcc03",
   "metadata": {},
   "outputs": [
    {
     "data": {
      "text/html": [
       "<div>\n",
       "<style scoped>\n",
       "    .dataframe tbody tr th:only-of-type {\n",
       "        vertical-align: middle;\n",
       "    }\n",
       "\n",
       "    .dataframe tbody tr th {\n",
       "        vertical-align: top;\n",
       "    }\n",
       "\n",
       "    .dataframe thead th {\n",
       "        text-align: right;\n",
       "    }\n",
       "</style>\n",
       "<table border=\"1\" class=\"dataframe\">\n",
       "  <thead>\n",
       "    <tr style=\"text-align: right;\">\n",
       "      <th></th>\n",
       "      <th>user_id</th>\n",
       "      <th>income_group</th>\n",
       "      <th>senior_citizen</th>\n",
       "      <th>two_parent_fam</th>\n",
       "      <th>single_parent</th>\n",
       "    </tr>\n",
       "  </thead>\n",
       "  <tbody>\n",
       "    <tr>\n",
       "      <th>0</th>\n",
       "      <td>1</td>\n",
       "      <td>Low income</td>\n",
       "      <td>False</td>\n",
       "      <td>True</td>\n",
       "      <td>False</td>\n",
       "    </tr>\n",
       "    <tr>\n",
       "      <th>59</th>\n",
       "      <td>2</td>\n",
       "      <td>Middle class</td>\n",
       "      <td>True</td>\n",
       "      <td>True</td>\n",
       "      <td>False</td>\n",
       "    </tr>\n",
       "    <tr>\n",
       "      <th>254</th>\n",
       "      <td>3</td>\n",
       "      <td>Middle class</td>\n",
       "      <td>False</td>\n",
       "      <td>True</td>\n",
       "      <td>False</td>\n",
       "    </tr>\n",
       "    <tr>\n",
       "      <th>342</th>\n",
       "      <td>4</td>\n",
       "      <td>Low income</td>\n",
       "      <td>False</td>\n",
       "      <td>True</td>\n",
       "      <td>False</td>\n",
       "    </tr>\n",
       "    <tr>\n",
       "      <th>360</th>\n",
       "      <td>5</td>\n",
       "      <td>Middle class</td>\n",
       "      <td>True</td>\n",
       "      <td>False</td>\n",
       "      <td>False</td>\n",
       "    </tr>\n",
       "  </tbody>\n",
       "</table>\n",
       "</div>"
      ],
      "text/plain": [
       "     user_id  income_group  senior_citizen  two_parent_fam  single_parent\n",
       "0          1    Low income           False            True          False\n",
       "59         2  Middle class            True            True          False\n",
       "254        3  Middle class           False            True          False\n",
       "342        4    Low income           False            True          False\n",
       "360        5  Middle class            True           False          False"
      ]
     },
     "execution_count": 61,
     "metadata": {},
     "output_type": "execute_result"
    }
   ],
   "source": [
    "df_subset.head()"
   ]
  },
  {
   "cell_type": "code",
   "execution_count": 62,
   "id": "1c301fa1",
   "metadata": {},
   "outputs": [],
   "source": [
    "df = df.merge(df_subset, on = ['user_id'], how = 'left', indicator = True)"
   ]
  },
  {
   "cell_type": "code",
   "execution_count": 63,
   "id": "94e0effd",
   "metadata": {},
   "outputs": [
    {
     "data": {
      "text/html": [
       "<div>\n",
       "<style scoped>\n",
       "    .dataframe tbody tr th:only-of-type {\n",
       "        vertical-align: middle;\n",
       "    }\n",
       "\n",
       "    .dataframe tbody tr th {\n",
       "        vertical-align: top;\n",
       "    }\n",
       "\n",
       "    .dataframe thead th {\n",
       "        text-align: right;\n",
       "    }\n",
       "</style>\n",
       "<table border=\"1\" class=\"dataframe\">\n",
       "  <thead>\n",
       "    <tr style=\"text-align: right;\">\n",
       "      <th></th>\n",
       "      <th>order_id</th>\n",
       "      <th>user_id</th>\n",
       "      <th>order_number</th>\n",
       "      <th>order_day_of_week</th>\n",
       "      <th>order_hour_of_day</th>\n",
       "      <th>days_since_prior_order</th>\n",
       "      <th>first_order_of_new_customer</th>\n",
       "      <th>product_id</th>\n",
       "      <th>add_to_cart_order</th>\n",
       "      <th>reordered</th>\n",
       "      <th>...</th>\n",
       "      <th>total_spent_in_lifetime</th>\n",
       "      <th>total_items_in_lifetime</th>\n",
       "      <th>avg_items_per_order_by_user</th>\n",
       "      <th>baby_parent</th>\n",
       "      <th>pet_owner</th>\n",
       "      <th>income_group</th>\n",
       "      <th>senior_citizen</th>\n",
       "      <th>two_parent_fam</th>\n",
       "      <th>single_parent</th>\n",
       "      <th>_merge</th>\n",
       "    </tr>\n",
       "  </thead>\n",
       "  <tbody>\n",
       "    <tr>\n",
       "      <th>0</th>\n",
       "      <td>2539329</td>\n",
       "      <td>1</td>\n",
       "      <td>1</td>\n",
       "      <td>2</td>\n",
       "      <td>8</td>\n",
       "      <td>NaN</td>\n",
       "      <td>True</td>\n",
       "      <td>196</td>\n",
       "      <td>1</td>\n",
       "      <td>0</td>\n",
       "      <td>...</td>\n",
       "      <td>375.700012</td>\n",
       "      <td>59</td>\n",
       "      <td>5.898438</td>\n",
       "      <td>False</td>\n",
       "      <td>False</td>\n",
       "      <td>Low income</td>\n",
       "      <td>False</td>\n",
       "      <td>True</td>\n",
       "      <td>False</td>\n",
       "      <td>both</td>\n",
       "    </tr>\n",
       "    <tr>\n",
       "      <th>1</th>\n",
       "      <td>2539329</td>\n",
       "      <td>1</td>\n",
       "      <td>1</td>\n",
       "      <td>2</td>\n",
       "      <td>8</td>\n",
       "      <td>NaN</td>\n",
       "      <td>True</td>\n",
       "      <td>14084</td>\n",
       "      <td>2</td>\n",
       "      <td>0</td>\n",
       "      <td>...</td>\n",
       "      <td>375.700012</td>\n",
       "      <td>59</td>\n",
       "      <td>5.898438</td>\n",
       "      <td>False</td>\n",
       "      <td>False</td>\n",
       "      <td>Low income</td>\n",
       "      <td>False</td>\n",
       "      <td>True</td>\n",
       "      <td>False</td>\n",
       "      <td>both</td>\n",
       "    </tr>\n",
       "    <tr>\n",
       "      <th>2</th>\n",
       "      <td>2539329</td>\n",
       "      <td>1</td>\n",
       "      <td>1</td>\n",
       "      <td>2</td>\n",
       "      <td>8</td>\n",
       "      <td>NaN</td>\n",
       "      <td>True</td>\n",
       "      <td>12427</td>\n",
       "      <td>3</td>\n",
       "      <td>0</td>\n",
       "      <td>...</td>\n",
       "      <td>375.700012</td>\n",
       "      <td>59</td>\n",
       "      <td>5.898438</td>\n",
       "      <td>False</td>\n",
       "      <td>False</td>\n",
       "      <td>Low income</td>\n",
       "      <td>False</td>\n",
       "      <td>True</td>\n",
       "      <td>False</td>\n",
       "      <td>both</td>\n",
       "    </tr>\n",
       "    <tr>\n",
       "      <th>3</th>\n",
       "      <td>2539329</td>\n",
       "      <td>1</td>\n",
       "      <td>1</td>\n",
       "      <td>2</td>\n",
       "      <td>8</td>\n",
       "      <td>NaN</td>\n",
       "      <td>True</td>\n",
       "      <td>26088</td>\n",
       "      <td>4</td>\n",
       "      <td>0</td>\n",
       "      <td>...</td>\n",
       "      <td>375.700012</td>\n",
       "      <td>59</td>\n",
       "      <td>5.898438</td>\n",
       "      <td>False</td>\n",
       "      <td>False</td>\n",
       "      <td>Low income</td>\n",
       "      <td>False</td>\n",
       "      <td>True</td>\n",
       "      <td>False</td>\n",
       "      <td>both</td>\n",
       "    </tr>\n",
       "    <tr>\n",
       "      <th>4</th>\n",
       "      <td>2539329</td>\n",
       "      <td>1</td>\n",
       "      <td>1</td>\n",
       "      <td>2</td>\n",
       "      <td>8</td>\n",
       "      <td>NaN</td>\n",
       "      <td>True</td>\n",
       "      <td>26405</td>\n",
       "      <td>5</td>\n",
       "      <td>0</td>\n",
       "      <td>...</td>\n",
       "      <td>375.700012</td>\n",
       "      <td>59</td>\n",
       "      <td>5.898438</td>\n",
       "      <td>False</td>\n",
       "      <td>False</td>\n",
       "      <td>Low income</td>\n",
       "      <td>False</td>\n",
       "      <td>True</td>\n",
       "      <td>False</td>\n",
       "      <td>both</td>\n",
       "    </tr>\n",
       "  </tbody>\n",
       "</table>\n",
       "<p>5 rows × 46 columns</p>\n",
       "</div>"
      ],
      "text/plain": [
       "   order_id  user_id  order_number  order_day_of_week  order_hour_of_day  \\\n",
       "0   2539329        1             1                  2                  8   \n",
       "1   2539329        1             1                  2                  8   \n",
       "2   2539329        1             1                  2                  8   \n",
       "3   2539329        1             1                  2                  8   \n",
       "4   2539329        1             1                  2                  8   \n",
       "\n",
       "   days_since_prior_order  first_order_of_new_customer  product_id  \\\n",
       "0                     NaN                         True         196   \n",
       "1                     NaN                         True       14084   \n",
       "2                     NaN                         True       12427   \n",
       "3                     NaN                         True       26088   \n",
       "4                     NaN                         True       26405   \n",
       "\n",
       "   add_to_cart_order  reordered  ... total_spent_in_lifetime  \\\n",
       "0                  1          0  ...              375.700012   \n",
       "1                  2          0  ...              375.700012   \n",
       "2                  3          0  ...              375.700012   \n",
       "3                  4          0  ...              375.700012   \n",
       "4                  5          0  ...              375.700012   \n",
       "\n",
       "   total_items_in_lifetime  avg_items_per_order_by_user  baby_parent  \\\n",
       "0                       59                     5.898438        False   \n",
       "1                       59                     5.898438        False   \n",
       "2                       59                     5.898438        False   \n",
       "3                       59                     5.898438        False   \n",
       "4                       59                     5.898438        False   \n",
       "\n",
       "   pet_owner  income_group senior_citizen two_parent_fam single_parent _merge  \n",
       "0      False    Low income          False           True         False   both  \n",
       "1      False    Low income          False           True         False   both  \n",
       "2      False    Low income          False           True         False   both  \n",
       "3      False    Low income          False           True         False   both  \n",
       "4      False    Low income          False           True         False   both  \n",
       "\n",
       "[5 rows x 46 columns]"
      ]
     },
     "execution_count": 63,
     "metadata": {},
     "output_type": "execute_result"
    }
   ],
   "source": [
    "# Exploring the merge\n",
    "df.head()"
   ]
  },
  {
   "cell_type": "code",
   "execution_count": 64,
   "id": "9c29b79d",
   "metadata": {},
   "outputs": [
    {
     "data": {
      "text/plain": [
       "(32434489, 46)"
      ]
     },
     "execution_count": 64,
     "metadata": {},
     "output_type": "execute_result"
    }
   ],
   "source": [
    "df.shape"
   ]
  },
  {
   "cell_type": "markdown",
   "id": "1478a25a",
   "metadata": {},
   "source": [
    "The shape is what we would expect: same number of rows, columns increased by 5 (four flags plus the merge field)"
   ]
  },
  {
   "cell_type": "code",
   "execution_count": 65,
   "id": "d5258c47",
   "metadata": {},
   "outputs": [
    {
     "data": {
      "text/plain": [
       "both          32434489\n",
       "left_only            0\n",
       "right_only           0\n",
       "Name: _merge, dtype: int64"
      ]
     },
     "execution_count": 65,
     "metadata": {},
     "output_type": "execute_result"
    }
   ],
   "source": [
    "df['_merge'].value_counts()"
   ]
  },
  {
   "cell_type": "code",
   "execution_count": 66,
   "id": "50b3700e",
   "metadata": {},
   "outputs": [],
   "source": [
    "# Removing the merge flag so it doesn't interfere with future merges\n",
    "df = df.drop(columns = ['_merge'])"
   ]
  },
  {
   "cell_type": "code",
   "execution_count": 67,
   "id": "11d24490",
   "metadata": {
    "scrolled": true
   },
   "outputs": [
    {
     "data": {
      "text/html": [
       "<div>\n",
       "<style scoped>\n",
       "    .dataframe tbody tr th:only-of-type {\n",
       "        vertical-align: middle;\n",
       "    }\n",
       "\n",
       "    .dataframe tbody tr th {\n",
       "        vertical-align: top;\n",
       "    }\n",
       "\n",
       "    .dataframe thead th {\n",
       "        text-align: right;\n",
       "    }\n",
       "</style>\n",
       "<table border=\"1\" class=\"dataframe\">\n",
       "  <thead>\n",
       "    <tr style=\"text-align: right;\">\n",
       "      <th></th>\n",
       "      <th>order_id</th>\n",
       "      <th>user_id</th>\n",
       "      <th>order_number</th>\n",
       "      <th>order_day_of_week</th>\n",
       "      <th>order_hour_of_day</th>\n",
       "      <th>days_since_prior_order</th>\n",
       "      <th>first_order_of_new_customer</th>\n",
       "      <th>product_id</th>\n",
       "      <th>add_to_cart_order</th>\n",
       "      <th>reordered</th>\n",
       "      <th>...</th>\n",
       "      <th>total_spent_in_order</th>\n",
       "      <th>total_spent_in_lifetime</th>\n",
       "      <th>total_items_in_lifetime</th>\n",
       "      <th>avg_items_per_order_by_user</th>\n",
       "      <th>baby_parent</th>\n",
       "      <th>pet_owner</th>\n",
       "      <th>income_group</th>\n",
       "      <th>senior_citizen</th>\n",
       "      <th>two_parent_fam</th>\n",
       "      <th>single_parent</th>\n",
       "    </tr>\n",
       "  </thead>\n",
       "  <tbody>\n",
       "    <tr>\n",
       "      <th>0</th>\n",
       "      <td>2539329</td>\n",
       "      <td>1</td>\n",
       "      <td>1</td>\n",
       "      <td>2</td>\n",
       "      <td>8</td>\n",
       "      <td>NaN</td>\n",
       "      <td>True</td>\n",
       "      <td>196</td>\n",
       "      <td>1</td>\n",
       "      <td>0</td>\n",
       "      <td>...</td>\n",
       "      <td>31.6</td>\n",
       "      <td>375.700012</td>\n",
       "      <td>59</td>\n",
       "      <td>5.898438</td>\n",
       "      <td>False</td>\n",
       "      <td>False</td>\n",
       "      <td>Low income</td>\n",
       "      <td>False</td>\n",
       "      <td>True</td>\n",
       "      <td>False</td>\n",
       "    </tr>\n",
       "    <tr>\n",
       "      <th>1</th>\n",
       "      <td>2539329</td>\n",
       "      <td>1</td>\n",
       "      <td>1</td>\n",
       "      <td>2</td>\n",
       "      <td>8</td>\n",
       "      <td>NaN</td>\n",
       "      <td>True</td>\n",
       "      <td>14084</td>\n",
       "      <td>2</td>\n",
       "      <td>0</td>\n",
       "      <td>...</td>\n",
       "      <td>31.6</td>\n",
       "      <td>375.700012</td>\n",
       "      <td>59</td>\n",
       "      <td>5.898438</td>\n",
       "      <td>False</td>\n",
       "      <td>False</td>\n",
       "      <td>Low income</td>\n",
       "      <td>False</td>\n",
       "      <td>True</td>\n",
       "      <td>False</td>\n",
       "    </tr>\n",
       "    <tr>\n",
       "      <th>2</th>\n",
       "      <td>2539329</td>\n",
       "      <td>1</td>\n",
       "      <td>1</td>\n",
       "      <td>2</td>\n",
       "      <td>8</td>\n",
       "      <td>NaN</td>\n",
       "      <td>True</td>\n",
       "      <td>12427</td>\n",
       "      <td>3</td>\n",
       "      <td>0</td>\n",
       "      <td>...</td>\n",
       "      <td>31.6</td>\n",
       "      <td>375.700012</td>\n",
       "      <td>59</td>\n",
       "      <td>5.898438</td>\n",
       "      <td>False</td>\n",
       "      <td>False</td>\n",
       "      <td>Low income</td>\n",
       "      <td>False</td>\n",
       "      <td>True</td>\n",
       "      <td>False</td>\n",
       "    </tr>\n",
       "    <tr>\n",
       "      <th>3</th>\n",
       "      <td>2539329</td>\n",
       "      <td>1</td>\n",
       "      <td>1</td>\n",
       "      <td>2</td>\n",
       "      <td>8</td>\n",
       "      <td>NaN</td>\n",
       "      <td>True</td>\n",
       "      <td>26088</td>\n",
       "      <td>4</td>\n",
       "      <td>0</td>\n",
       "      <td>...</td>\n",
       "      <td>31.6</td>\n",
       "      <td>375.700012</td>\n",
       "      <td>59</td>\n",
       "      <td>5.898438</td>\n",
       "      <td>False</td>\n",
       "      <td>False</td>\n",
       "      <td>Low income</td>\n",
       "      <td>False</td>\n",
       "      <td>True</td>\n",
       "      <td>False</td>\n",
       "    </tr>\n",
       "    <tr>\n",
       "      <th>4</th>\n",
       "      <td>2539329</td>\n",
       "      <td>1</td>\n",
       "      <td>1</td>\n",
       "      <td>2</td>\n",
       "      <td>8</td>\n",
       "      <td>NaN</td>\n",
       "      <td>True</td>\n",
       "      <td>26405</td>\n",
       "      <td>5</td>\n",
       "      <td>0</td>\n",
       "      <td>...</td>\n",
       "      <td>31.6</td>\n",
       "      <td>375.700012</td>\n",
       "      <td>59</td>\n",
       "      <td>5.898438</td>\n",
       "      <td>False</td>\n",
       "      <td>False</td>\n",
       "      <td>Low income</td>\n",
       "      <td>False</td>\n",
       "      <td>True</td>\n",
       "      <td>False</td>\n",
       "    </tr>\n",
       "  </tbody>\n",
       "</table>\n",
       "<p>5 rows × 45 columns</p>\n",
       "</div>"
      ],
      "text/plain": [
       "   order_id  user_id  order_number  order_day_of_week  order_hour_of_day  \\\n",
       "0   2539329        1             1                  2                  8   \n",
       "1   2539329        1             1                  2                  8   \n",
       "2   2539329        1             1                  2                  8   \n",
       "3   2539329        1             1                  2                  8   \n",
       "4   2539329        1             1                  2                  8   \n",
       "\n",
       "   days_since_prior_order  first_order_of_new_customer  product_id  \\\n",
       "0                     NaN                         True         196   \n",
       "1                     NaN                         True       14084   \n",
       "2                     NaN                         True       12427   \n",
       "3                     NaN                         True       26088   \n",
       "4                     NaN                         True       26405   \n",
       "\n",
       "   add_to_cart_order  reordered  ... total_spent_in_order  \\\n",
       "0                  1          0  ...                 31.6   \n",
       "1                  2          0  ...                 31.6   \n",
       "2                  3          0  ...                 31.6   \n",
       "3                  4          0  ...                 31.6   \n",
       "4                  5          0  ...                 31.6   \n",
       "\n",
       "   total_spent_in_lifetime  total_items_in_lifetime  \\\n",
       "0               375.700012                       59   \n",
       "1               375.700012                       59   \n",
       "2               375.700012                       59   \n",
       "3               375.700012                       59   \n",
       "4               375.700012                       59   \n",
       "\n",
       "   avg_items_per_order_by_user  baby_parent  pet_owner income_group  \\\n",
       "0                     5.898438        False      False   Low income   \n",
       "1                     5.898438        False      False   Low income   \n",
       "2                     5.898438        False      False   Low income   \n",
       "3                     5.898438        False      False   Low income   \n",
       "4                     5.898438        False      False   Low income   \n",
       "\n",
       "  senior_citizen two_parent_fam single_parent  \n",
       "0          False           True         False  \n",
       "1          False           True         False  \n",
       "2          False           True         False  \n",
       "3          False           True         False  \n",
       "4          False           True         False  \n",
       "\n",
       "[5 rows x 45 columns]"
      ]
     },
     "execution_count": 67,
     "metadata": {},
     "output_type": "execute_result"
    }
   ],
   "source": [
    "df.head()"
   ]
  },
  {
   "cell_type": "code",
   "execution_count": 68,
   "id": "1e09f3c6",
   "metadata": {},
   "outputs": [
    {
     "data": {
      "text/plain": [
       "(32434489, 45)"
      ]
     },
     "execution_count": 68,
     "metadata": {},
     "output_type": "execute_result"
    }
   ],
   "source": [
    "df.shape"
   ]
  },
  {
   "cell_type": "markdown",
   "id": "278336cc",
   "metadata": {},
   "source": [
    "### 0.6 Confirming Final Df"
   ]
  },
  {
   "cell_type": "code",
   "execution_count": 69,
   "id": "bbccb1c6",
   "metadata": {
    "scrolled": true
   },
   "outputs": [
    {
     "data": {
      "text/plain": [
       "(32434489, 45)"
      ]
     },
     "execution_count": 69,
     "metadata": {},
     "output_type": "execute_result"
    }
   ],
   "source": [
    "df.shape"
   ]
  },
  {
   "cell_type": "markdown",
   "id": "671442fc",
   "metadata": {},
   "source": [
    "Final df has expected number of rows (32434489) and columns (37+6)."
   ]
  },
  {
   "cell_type": "code",
   "execution_count": 71,
   "id": "3a2436fb",
   "metadata": {},
   "outputs": [
    {
     "name": "stdout",
     "output_type": "stream",
     "text": [
      "<class 'pandas.core.frame.DataFrame'>\n",
      "Int64Index: 32434489 entries, 0 to 32434488\n",
      "Data columns (total 45 columns):\n",
      " #   Column                       Dtype         \n",
      "---  ------                       -----         \n",
      " 0   order_id                     int64         \n",
      " 1   user_id                      int64         \n",
      " 2   order_number                 int16         \n",
      " 3   order_day_of_week            int8          \n",
      " 4   order_hour_of_day            int8          \n",
      " 5   days_since_prior_order       float16       \n",
      " 6   first_order_of_new_customer  bool          \n",
      " 7   product_id                   int32         \n",
      " 8   add_to_cart_order            int16         \n",
      " 9   reordered                    int8          \n",
      " 10  product_name                 object        \n",
      " 11  aisle_id                     float16       \n",
      " 12  department_id                float16       \n",
      " 13  price                        float32       \n",
      " 14  product_info_available       bool          \n",
      " 15  price_available              bool          \n",
      " 16  price_range                  category      \n",
      " 17  busiest_day                  category      \n",
      " 18  busiest_days                 category      \n",
      " 19  busiest_period_of_day        category      \n",
      " 20  max_order                    int16         \n",
      " 21  loyalty_flag                 category      \n",
      " 22  mean_spending                float32       \n",
      " 23  spender_type                 category      \n",
      " 24  median_days_since_ordering   float16       \n",
      " 25  frequent_shopper             category      \n",
      " 26  gender                       category      \n",
      " 27  state                        category      \n",
      " 28  age                          int16         \n",
      " 29  date_joined                  datetime64[ns]\n",
      " 30  n_dependants                 int8          \n",
      " 31  fam_status                   category      \n",
      " 32  income                       int64         \n",
      " 33  region                       category      \n",
      " 34  low_activity_flag            bool          \n",
      " 35  total_spent_in_order         float32       \n",
      " 36  total_spent_in_lifetime      float32       \n",
      " 37  total_items_in_lifetime      int32         \n",
      " 38  avg_items_per_order_by_user  float16       \n",
      " 39  baby_parent                  bool          \n",
      " 40  pet_owner                    bool          \n",
      " 41  income_group                 object        \n",
      " 42  senior_citizen               bool          \n",
      " 43  two_parent_fam               bool          \n",
      " 44  single_parent                bool          \n",
      "dtypes: bool(9), category(11), datetime64[ns](1), float16(5), float32(4), int16(4), int32(2), int64(3), int8(4), object(2)\n",
      "memory usage: 3.7+ GB\n"
     ]
    }
   ],
   "source": [
    "# Checking datatypes\n",
    "df.info()"
   ]
  },
  {
   "cell_type": "code",
   "execution_count": 72,
   "id": "3c3eaaf5",
   "metadata": {},
   "outputs": [],
   "source": [
    "# Adjust datatypes for new columns to be more appropriately sized\n",
    "df['income_group'] = df['income_group'].astype('category')"
   ]
  },
  {
   "cell_type": "code",
   "execution_count": 73,
   "id": "3f0c5ba7",
   "metadata": {},
   "outputs": [
    {
     "name": "stdout",
     "output_type": "stream",
     "text": [
      "<class 'pandas.core.frame.DataFrame'>\n",
      "Int64Index: 32434489 entries, 0 to 32434488\n",
      "Data columns (total 45 columns):\n",
      " #   Column                       Dtype         \n",
      "---  ------                       -----         \n",
      " 0   order_id                     int64         \n",
      " 1   user_id                      int64         \n",
      " 2   order_number                 int16         \n",
      " 3   order_day_of_week            int8          \n",
      " 4   order_hour_of_day            int8          \n",
      " 5   days_since_prior_order       float16       \n",
      " 6   first_order_of_new_customer  bool          \n",
      " 7   product_id                   int32         \n",
      " 8   add_to_cart_order            int16         \n",
      " 9   reordered                    int8          \n",
      " 10  product_name                 object        \n",
      " 11  aisle_id                     float16       \n",
      " 12  department_id                float16       \n",
      " 13  price                        float32       \n",
      " 14  product_info_available       bool          \n",
      " 15  price_available              bool          \n",
      " 16  price_range                  category      \n",
      " 17  busiest_day                  category      \n",
      " 18  busiest_days                 category      \n",
      " 19  busiest_period_of_day        category      \n",
      " 20  max_order                    int16         \n",
      " 21  loyalty_flag                 category      \n",
      " 22  mean_spending                float32       \n",
      " 23  spender_type                 category      \n",
      " 24  median_days_since_ordering   float16       \n",
      " 25  frequent_shopper             category      \n",
      " 26  gender                       category      \n",
      " 27  state                        category      \n",
      " 28  age                          int16         \n",
      " 29  date_joined                  datetime64[ns]\n",
      " 30  n_dependants                 int8          \n",
      " 31  fam_status                   category      \n",
      " 32  income                       int64         \n",
      " 33  region                       category      \n",
      " 34  low_activity_flag            bool          \n",
      " 35  total_spent_in_order         float32       \n",
      " 36  total_spent_in_lifetime      float32       \n",
      " 37  total_items_in_lifetime      int32         \n",
      " 38  avg_items_per_order_by_user  float16       \n",
      " 39  baby_parent                  bool          \n",
      " 40  pet_owner                    bool          \n",
      " 41  income_group                 category      \n",
      " 42  senior_citizen               bool          \n",
      " 43  two_parent_fam               bool          \n",
      " 44  single_parent                bool          \n",
      "dtypes: bool(9), category(12), datetime64[ns](1), float16(5), float32(4), int16(4), int32(2), int64(3), int8(4), object(1)\n",
      "memory usage: 3.5+ GB\n"
     ]
    }
   ],
   "source": [
    "# Confirmting datatypes\n",
    "df.info()"
   ]
  },
  {
   "cell_type": "markdown",
   "id": "4e5a86a7",
   "metadata": {},
   "source": [
    "### 0.7 Exporting the new df"
   ]
  },
  {
   "cell_type": "code",
   "execution_count": 74,
   "id": "adcb66f3",
   "metadata": {},
   "outputs": [],
   "source": [
    "#Exporting final df\n",
    "df.to_pickle(os.path.join(path, '02 Data','Prepared Data', 'orders_products_all3.pkl'))"
   ]
  },
  {
   "cell_type": "code",
   "execution_count": null,
   "id": "56589afd",
   "metadata": {},
   "outputs": [],
   "source": []
  }
 ],
 "metadata": {
  "kernelspec": {
   "display_name": "Python 3 (ipykernel)",
   "language": "python",
   "name": "python3"
  },
  "language_info": {
   "codemirror_mode": {
    "name": "ipython",
    "version": 3
   },
   "file_extension": ".py",
   "mimetype": "text/x-python",
   "name": "python",
   "nbconvert_exporter": "python",
   "pygments_lexer": "ipython3",
   "version": "3.9.13"
  }
 },
 "nbformat": 4,
 "nbformat_minor": 5
}
