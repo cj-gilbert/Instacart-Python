{
 "cells": [
  {
   "cell_type": "markdown",
   "id": "2ee5e59a",
   "metadata": {},
   "source": [
    "# Table of Contents"
   ]
  },
  {
   "cell_type": "markdown",
   "id": "f207c862",
   "metadata": {},
   "source": [
    "0.1 Importing Libraries\n",
    "\n",
    "0.2 Importing Data\n",
    "\n",
    "0.3 Exploring Original Df\n",
    "\n",
    "0.4 Defining styles and labels formats\n",
    "\n",
    "0.5 Random sampling of 30% of data\n",
    "\n",
    "0.6 Exploration of senior_citizen profile\n",
    "\n",
    "    0.6.1 importance of this profile\n",
    "            A. count of users\n",
    "            B. gross sales (total_spent_in_lifetime)\n",
    "            C. total items (total_items_in_lifetime)\n",
    "            D. per order stats\n",
    "    \n",
    "    0.6.2. demographics of this profile\n",
    "            A. income\n",
    "            B. income_group\n",
    "            C. gender\n",
    "            D. region\n",
    "            E. fam_status\n",
    "            F. n_dependants\n",
    "    \n",
    "    0.6.2  what we know about their shopping habits\n",
    "            A. loyalty_flag (based on max_order)\n",
    "            B. low_activity_flag\n",
    "            C. spender_type (based on mean_spending)\n",
    "            D. frequent_shopper (based on median_days_since_ordering)\n",
    "            E. day_of_the_week\n",
    "            F. time_of_day\n",
    "            G. most popular departments by number of items\n",
    "            H. most popular departments by amount spent\n",
    "   \n"
   ]
  },
  {
   "cell_type": "markdown",
   "id": "cc8dcbd1",
   "metadata": {},
   "source": [
    "### 0.1 Importing Libraries"
   ]
  },
  {
   "cell_type": "code",
   "execution_count": 1,
   "id": "9709810d",
   "metadata": {},
   "outputs": [],
   "source": [
    "# Import libraries\n",
    "import pandas as pd\n",
    "import numpy as np\n",
    "import os\n",
    "import matplotlib.pyplot as plt\n",
    "import seaborn as sns\n",
    "import scipy"
   ]
  },
  {
   "cell_type": "markdown",
   "id": "b5b185b2",
   "metadata": {},
   "source": [
    "### 0.2 Importing Data"
   ]
  },
  {
   "cell_type": "code",
   "execution_count": 2,
   "id": "6e7f5881",
   "metadata": {},
   "outputs": [],
   "source": [
    "# Identify the file pathway to data files\n",
    "path = r'C:\\Users\\CJ\\Documents\\_CJ-Stuff\\Career Foundry\\Data Immersion\\Ach 4 - Python\\2023-03 Instacart Basket Analysis'"
   ]
  },
  {
   "cell_type": "code",
   "execution_count": 3,
   "id": "f8ca6a0b",
   "metadata": {
    "scrolled": true
   },
   "outputs": [],
   "source": [
    "# Import data from 'orders_products_all3.pkl'\n",
    "df = pd.read_pickle(os.path.join(path, '02 Data', 'Prepared Data', 'orders_products_all3.pkl'))"
   ]
  },
  {
   "cell_type": "code",
   "execution_count": 4,
   "id": "ba7a76fc",
   "metadata": {},
   "outputs": [],
   "source": [
    "# Import data from 'dept_data.pkl'\n",
    "dept_data = pd.read_pickle(os.path.join(path, '02 Data', 'Prepared Data', 'department_data.pkl'))"
   ]
  },
  {
   "cell_type": "markdown",
   "id": "636854e9",
   "metadata": {},
   "source": [
    "### 0.3 Exploring Original dfs"
   ]
  },
  {
   "cell_type": "code",
   "execution_count": 5,
   "id": "41f99131",
   "metadata": {
    "scrolled": true
   },
   "outputs": [
    {
     "data": {
      "text/plain": [
       "(32434489, 45)"
      ]
     },
     "execution_count": 5,
     "metadata": {},
     "output_type": "execute_result"
    }
   ],
   "source": [
    "df.shape"
   ]
  },
  {
   "cell_type": "code",
   "execution_count": 6,
   "id": "f0f5df72",
   "metadata": {
    "scrolled": true
   },
   "outputs": [
    {
     "name": "stdout",
     "output_type": "stream",
     "text": [
      "<class 'pandas.core.frame.DataFrame'>\n",
      "Int64Index: 32434489 entries, 0 to 32434488\n",
      "Data columns (total 45 columns):\n",
      " #   Column                       Dtype         \n",
      "---  ------                       -----         \n",
      " 0   order_id                     int64         \n",
      " 1   user_id                      int64         \n",
      " 2   order_number                 int16         \n",
      " 3   order_day_of_week            int8          \n",
      " 4   order_hour_of_day            int8          \n",
      " 5   days_since_prior_order       float16       \n",
      " 6   first_order_of_new_customer  bool          \n",
      " 7   product_id                   int32         \n",
      " 8   add_to_cart_order            int16         \n",
      " 9   reordered                    int8          \n",
      " 10  product_name                 object        \n",
      " 11  aisle_id                     float16       \n",
      " 12  department_id                float16       \n",
      " 13  price                        float32       \n",
      " 14  product_info_available       bool          \n",
      " 15  price_available              bool          \n",
      " 16  price_range                  category      \n",
      " 17  busiest_day                  category      \n",
      " 18  busiest_days                 category      \n",
      " 19  busiest_period_of_day        category      \n",
      " 20  max_order                    int16         \n",
      " 21  loyalty_flag                 category      \n",
      " 22  mean_spending                float32       \n",
      " 23  spender_type                 category      \n",
      " 24  median_days_since_ordering   float16       \n",
      " 25  frequent_shopper             category      \n",
      " 26  gender                       category      \n",
      " 27  state                        category      \n",
      " 28  age                          int16         \n",
      " 29  date_joined                  datetime64[ns]\n",
      " 30  n_dependants                 int8          \n",
      " 31  fam_status                   category      \n",
      " 32  income                       int64         \n",
      " 33  region                       category      \n",
      " 34  low_activity_flag            bool          \n",
      " 35  total_spent_in_order         float32       \n",
      " 36  total_spent_in_lifetime      float32       \n",
      " 37  total_items_in_lifetime      int32         \n",
      " 38  avg_items_per_order_by_user  float16       \n",
      " 39  baby_parent                  bool          \n",
      " 40  pet_owner                    bool          \n",
      " 41  income_group                 category      \n",
      " 42  senior_citizen               bool          \n",
      " 43  two_parent_fam               bool          \n",
      " 44  single_parent                bool          \n",
      "dtypes: bool(9), category(12), datetime64[ns](1), float16(5), float32(4), int16(4), int32(2), int64(3), int8(4), object(1)\n",
      "memory usage: 3.5+ GB\n"
     ]
    }
   ],
   "source": [
    "df.info()"
   ]
  },
  {
   "cell_type": "code",
   "execution_count": 7,
   "id": "47ad4aa0",
   "metadata": {
    "scrolled": true
   },
   "outputs": [
    {
     "data": {
      "text/html": [
       "<div>\n",
       "<style scoped>\n",
       "    .dataframe tbody tr th:only-of-type {\n",
       "        vertical-align: middle;\n",
       "    }\n",
       "\n",
       "    .dataframe tbody tr th {\n",
       "        vertical-align: top;\n",
       "    }\n",
       "\n",
       "    .dataframe thead th {\n",
       "        text-align: right;\n",
       "    }\n",
       "</style>\n",
       "<table border=\"1\" class=\"dataframe\">\n",
       "  <thead>\n",
       "    <tr style=\"text-align: right;\">\n",
       "      <th></th>\n",
       "      <th>order_id</th>\n",
       "      <th>user_id</th>\n",
       "      <th>order_number</th>\n",
       "      <th>order_day_of_week</th>\n",
       "      <th>order_hour_of_day</th>\n",
       "      <th>days_since_prior_order</th>\n",
       "      <th>first_order_of_new_customer</th>\n",
       "      <th>product_id</th>\n",
       "      <th>add_to_cart_order</th>\n",
       "      <th>reordered</th>\n",
       "      <th>...</th>\n",
       "      <th>total_spent_in_order</th>\n",
       "      <th>total_spent_in_lifetime</th>\n",
       "      <th>total_items_in_lifetime</th>\n",
       "      <th>avg_items_per_order_by_user</th>\n",
       "      <th>baby_parent</th>\n",
       "      <th>pet_owner</th>\n",
       "      <th>income_group</th>\n",
       "      <th>senior_citizen</th>\n",
       "      <th>two_parent_fam</th>\n",
       "      <th>single_parent</th>\n",
       "    </tr>\n",
       "  </thead>\n",
       "  <tbody>\n",
       "    <tr>\n",
       "      <th>0</th>\n",
       "      <td>2539329</td>\n",
       "      <td>1</td>\n",
       "      <td>1</td>\n",
       "      <td>2</td>\n",
       "      <td>8</td>\n",
       "      <td>NaN</td>\n",
       "      <td>True</td>\n",
       "      <td>196</td>\n",
       "      <td>1</td>\n",
       "      <td>0</td>\n",
       "      <td>...</td>\n",
       "      <td>31.6</td>\n",
       "      <td>375.700012</td>\n",
       "      <td>59</td>\n",
       "      <td>5.898438</td>\n",
       "      <td>False</td>\n",
       "      <td>False</td>\n",
       "      <td>Low income</td>\n",
       "      <td>False</td>\n",
       "      <td>True</td>\n",
       "      <td>False</td>\n",
       "    </tr>\n",
       "    <tr>\n",
       "      <th>1</th>\n",
       "      <td>2539329</td>\n",
       "      <td>1</td>\n",
       "      <td>1</td>\n",
       "      <td>2</td>\n",
       "      <td>8</td>\n",
       "      <td>NaN</td>\n",
       "      <td>True</td>\n",
       "      <td>14084</td>\n",
       "      <td>2</td>\n",
       "      <td>0</td>\n",
       "      <td>...</td>\n",
       "      <td>31.6</td>\n",
       "      <td>375.700012</td>\n",
       "      <td>59</td>\n",
       "      <td>5.898438</td>\n",
       "      <td>False</td>\n",
       "      <td>False</td>\n",
       "      <td>Low income</td>\n",
       "      <td>False</td>\n",
       "      <td>True</td>\n",
       "      <td>False</td>\n",
       "    </tr>\n",
       "    <tr>\n",
       "      <th>2</th>\n",
       "      <td>2539329</td>\n",
       "      <td>1</td>\n",
       "      <td>1</td>\n",
       "      <td>2</td>\n",
       "      <td>8</td>\n",
       "      <td>NaN</td>\n",
       "      <td>True</td>\n",
       "      <td>12427</td>\n",
       "      <td>3</td>\n",
       "      <td>0</td>\n",
       "      <td>...</td>\n",
       "      <td>31.6</td>\n",
       "      <td>375.700012</td>\n",
       "      <td>59</td>\n",
       "      <td>5.898438</td>\n",
       "      <td>False</td>\n",
       "      <td>False</td>\n",
       "      <td>Low income</td>\n",
       "      <td>False</td>\n",
       "      <td>True</td>\n",
       "      <td>False</td>\n",
       "    </tr>\n",
       "    <tr>\n",
       "      <th>3</th>\n",
       "      <td>2539329</td>\n",
       "      <td>1</td>\n",
       "      <td>1</td>\n",
       "      <td>2</td>\n",
       "      <td>8</td>\n",
       "      <td>NaN</td>\n",
       "      <td>True</td>\n",
       "      <td>26088</td>\n",
       "      <td>4</td>\n",
       "      <td>0</td>\n",
       "      <td>...</td>\n",
       "      <td>31.6</td>\n",
       "      <td>375.700012</td>\n",
       "      <td>59</td>\n",
       "      <td>5.898438</td>\n",
       "      <td>False</td>\n",
       "      <td>False</td>\n",
       "      <td>Low income</td>\n",
       "      <td>False</td>\n",
       "      <td>True</td>\n",
       "      <td>False</td>\n",
       "    </tr>\n",
       "    <tr>\n",
       "      <th>4</th>\n",
       "      <td>2539329</td>\n",
       "      <td>1</td>\n",
       "      <td>1</td>\n",
       "      <td>2</td>\n",
       "      <td>8</td>\n",
       "      <td>NaN</td>\n",
       "      <td>True</td>\n",
       "      <td>26405</td>\n",
       "      <td>5</td>\n",
       "      <td>0</td>\n",
       "      <td>...</td>\n",
       "      <td>31.6</td>\n",
       "      <td>375.700012</td>\n",
       "      <td>59</td>\n",
       "      <td>5.898438</td>\n",
       "      <td>False</td>\n",
       "      <td>False</td>\n",
       "      <td>Low income</td>\n",
       "      <td>False</td>\n",
       "      <td>True</td>\n",
       "      <td>False</td>\n",
       "    </tr>\n",
       "  </tbody>\n",
       "</table>\n",
       "<p>5 rows × 45 columns</p>\n",
       "</div>"
      ],
      "text/plain": [
       "   order_id  user_id  order_number  order_day_of_week  order_hour_of_day  \\\n",
       "0   2539329        1             1                  2                  8   \n",
       "1   2539329        1             1                  2                  8   \n",
       "2   2539329        1             1                  2                  8   \n",
       "3   2539329        1             1                  2                  8   \n",
       "4   2539329        1             1                  2                  8   \n",
       "\n",
       "   days_since_prior_order  first_order_of_new_customer  product_id  \\\n",
       "0                     NaN                         True         196   \n",
       "1                     NaN                         True       14084   \n",
       "2                     NaN                         True       12427   \n",
       "3                     NaN                         True       26088   \n",
       "4                     NaN                         True       26405   \n",
       "\n",
       "   add_to_cart_order  reordered  ... total_spent_in_order  \\\n",
       "0                  1          0  ...                 31.6   \n",
       "1                  2          0  ...                 31.6   \n",
       "2                  3          0  ...                 31.6   \n",
       "3                  4          0  ...                 31.6   \n",
       "4                  5          0  ...                 31.6   \n",
       "\n",
       "   total_spent_in_lifetime  total_items_in_lifetime  \\\n",
       "0               375.700012                       59   \n",
       "1               375.700012                       59   \n",
       "2               375.700012                       59   \n",
       "3               375.700012                       59   \n",
       "4               375.700012                       59   \n",
       "\n",
       "   avg_items_per_order_by_user  baby_parent  pet_owner income_group  \\\n",
       "0                     5.898438        False      False   Low income   \n",
       "1                     5.898438        False      False   Low income   \n",
       "2                     5.898438        False      False   Low income   \n",
       "3                     5.898438        False      False   Low income   \n",
       "4                     5.898438        False      False   Low income   \n",
       "\n",
       "  senior_citizen two_parent_fam single_parent  \n",
       "0          False           True         False  \n",
       "1          False           True         False  \n",
       "2          False           True         False  \n",
       "3          False           True         False  \n",
       "4          False           True         False  \n",
       "\n",
       "[5 rows x 45 columns]"
      ]
     },
     "execution_count": 7,
     "metadata": {},
     "output_type": "execute_result"
    }
   ],
   "source": [
    "df.head()"
   ]
  },
  {
   "cell_type": "code",
   "execution_count": 8,
   "id": "7407f1b2",
   "metadata": {
    "scrolled": true
   },
   "outputs": [
    {
     "data": {
      "text/plain": [
       "order_id                             0\n",
       "user_id                              0\n",
       "order_number                         0\n",
       "order_day_of_week                    0\n",
       "order_hour_of_day                    0\n",
       "days_since_prior_order         2078068\n",
       "first_order_of_new_customer          0\n",
       "product_id                           0\n",
       "add_to_cart_order                    0\n",
       "reordered                            0\n",
       "product_name                     30770\n",
       "aisle_id                         30770\n",
       "department_id                    30770\n",
       "price                            35897\n",
       "product_info_available               0\n",
       "price_available                      0\n",
       "price_range                      35897\n",
       "busiest_day                          0\n",
       "busiest_days                         0\n",
       "busiest_period_of_day                0\n",
       "max_order                            0\n",
       "loyalty_flag                         0\n",
       "mean_spending                        0\n",
       "spender_type                         0\n",
       "median_days_since_ordering           0\n",
       "frequent_shopper                     0\n",
       "gender                               0\n",
       "state                                0\n",
       "age                                  0\n",
       "date_joined                          0\n",
       "n_dependants                         0\n",
       "fam_status                           0\n",
       "income                               0\n",
       "region                               0\n",
       "low_activity_flag                    0\n",
       "total_spent_in_order                 0\n",
       "total_spent_in_lifetime              0\n",
       "total_items_in_lifetime              0\n",
       "avg_items_per_order_by_user          0\n",
       "baby_parent                          0\n",
       "pet_owner                            0\n",
       "income_group                         0\n",
       "senior_citizen                       0\n",
       "two_parent_fam                       0\n",
       "single_parent                        0\n",
       "dtype: int64"
      ]
     },
     "execution_count": 8,
     "metadata": {},
     "output_type": "execute_result"
    }
   ],
   "source": [
    "df.isnull().sum()"
   ]
  },
  {
   "cell_type": "markdown",
   "id": "860620e3",
   "metadata": {},
   "source": [
    "All nulls have been previously accounted for and labeled appropriately with flags."
   ]
  },
  {
   "cell_type": "code",
   "execution_count": 9,
   "id": "65046bf7",
   "metadata": {},
   "outputs": [
    {
     "data": {
      "text/plain": [
       "(21, 8)"
      ]
     },
     "execution_count": 9,
     "metadata": {},
     "output_type": "execute_result"
    }
   ],
   "source": [
    "dept_data.shape"
   ]
  },
  {
   "cell_type": "code",
   "execution_count": 10,
   "id": "8d776319",
   "metadata": {},
   "outputs": [
    {
     "name": "stdout",
     "output_type": "stream",
     "text": [
      "<class 'pandas.core.frame.DataFrame'>\n",
      "Int64Index: 21 entries, 0 to 20\n",
      "Data columns (total 8 columns):\n",
      " #   Column                       Non-Null Count  Dtype   \n",
      "---  ------                       --------------  -----   \n",
      " 0   department                   21 non-null     category\n",
      " 1   department_id                21 non-null     int8    \n",
      " 2   total_items_sold_by_dept     21 non-null     int64   \n",
      " 3   total_spent_in_dept          21 non-null     float32 \n",
      " 4   avg_price_per_item_in_dept   21 non-null     float32 \n",
      " 5   total_orders_from_dept       21 non-null     int32   \n",
      " 6   avg_items_per_order_by_dept  21 non-null     float32 \n",
      " 7   n_unique_items_in_dept       21 non-null     int16   \n",
      "dtypes: category(1), float32(3), int16(1), int32(1), int64(1), int8(1)\n",
      "memory usage: 924.0 bytes\n"
     ]
    }
   ],
   "source": [
    "dept_data.info()"
   ]
  },
  {
   "cell_type": "code",
   "execution_count": 11,
   "id": "1d67f1f0",
   "metadata": {},
   "outputs": [
    {
     "data": {
      "text/html": [
       "<div>\n",
       "<style scoped>\n",
       "    .dataframe tbody tr th:only-of-type {\n",
       "        vertical-align: middle;\n",
       "    }\n",
       "\n",
       "    .dataframe tbody tr th {\n",
       "        vertical-align: top;\n",
       "    }\n",
       "\n",
       "    .dataframe thead th {\n",
       "        text-align: right;\n",
       "    }\n",
       "</style>\n",
       "<table border=\"1\" class=\"dataframe\">\n",
       "  <thead>\n",
       "    <tr style=\"text-align: right;\">\n",
       "      <th></th>\n",
       "      <th>department</th>\n",
       "      <th>department_id</th>\n",
       "      <th>total_items_sold_by_dept</th>\n",
       "      <th>total_spent_in_dept</th>\n",
       "      <th>avg_price_per_item_in_dept</th>\n",
       "      <th>total_orders_from_dept</th>\n",
       "      <th>avg_items_per_order_by_dept</th>\n",
       "      <th>n_unique_items_in_dept</th>\n",
       "    </tr>\n",
       "  </thead>\n",
       "  <tbody>\n",
       "    <tr>\n",
       "      <th>0</th>\n",
       "      <td>frozen</td>\n",
       "      <td>1</td>\n",
       "      <td>2234743</td>\n",
       "      <td>17289206.00</td>\n",
       "      <td>7.736552</td>\n",
       "      <td>1180461</td>\n",
       "      <td>1.893110</td>\n",
       "      <td>4006</td>\n",
       "    </tr>\n",
       "    <tr>\n",
       "      <th>1</th>\n",
       "      <td>other</td>\n",
       "      <td>2</td>\n",
       "      <td>36291</td>\n",
       "      <td>253708.00</td>\n",
       "      <td>6.990934</td>\n",
       "      <td>35056</td>\n",
       "      <td>1.035229</td>\n",
       "      <td>548</td>\n",
       "    </tr>\n",
       "    <tr>\n",
       "      <th>2</th>\n",
       "      <td>bakery</td>\n",
       "      <td>3</td>\n",
       "      <td>1172428</td>\n",
       "      <td>9208026.00</td>\n",
       "      <td>7.853809</td>\n",
       "      <td>878658</td>\n",
       "      <td>1.334339</td>\n",
       "      <td>1515</td>\n",
       "    </tr>\n",
       "    <tr>\n",
       "      <th>3</th>\n",
       "      <td>produce</td>\n",
       "      <td>4</td>\n",
       "      <td>9479291</td>\n",
       "      <td>75660936.00</td>\n",
       "      <td>7.981709</td>\n",
       "      <td>2409320</td>\n",
       "      <td>3.934426</td>\n",
       "      <td>1684</td>\n",
       "    </tr>\n",
       "    <tr>\n",
       "      <th>4</th>\n",
       "      <td>alcohol</td>\n",
       "      <td>5</td>\n",
       "      <td>153696</td>\n",
       "      <td>1251654.25</td>\n",
       "      <td>8.143701</td>\n",
       "      <td>84689</td>\n",
       "      <td>1.814828</td>\n",
       "      <td>1054</td>\n",
       "    </tr>\n",
       "  </tbody>\n",
       "</table>\n",
       "</div>"
      ],
      "text/plain": [
       "  department  department_id  total_items_sold_by_dept  total_spent_in_dept  \\\n",
       "0     frozen              1                   2234743          17289206.00   \n",
       "1      other              2                     36291            253708.00   \n",
       "2     bakery              3                   1172428           9208026.00   \n",
       "3    produce              4                   9479291          75660936.00   \n",
       "4    alcohol              5                    153696           1251654.25   \n",
       "\n",
       "   avg_price_per_item_in_dept  total_orders_from_dept  \\\n",
       "0                    7.736552                 1180461   \n",
       "1                    6.990934                   35056   \n",
       "2                    7.853809                  878658   \n",
       "3                    7.981709                 2409320   \n",
       "4                    8.143701                   84689   \n",
       "\n",
       "   avg_items_per_order_by_dept  n_unique_items_in_dept  \n",
       "0                     1.893110                    4006  \n",
       "1                     1.035229                     548  \n",
       "2                     1.334339                    1515  \n",
       "3                     3.934426                    1684  \n",
       "4                     1.814828                    1054  "
      ]
     },
     "execution_count": 11,
     "metadata": {},
     "output_type": "execute_result"
    }
   ],
   "source": [
    "dept_data.head()"
   ]
  },
  {
   "cell_type": "code",
   "execution_count": 12,
   "id": "dab5037e",
   "metadata": {},
   "outputs": [
    {
     "data": {
      "text/plain": [
       "department                     0\n",
       "department_id                  0\n",
       "total_items_sold_by_dept       0\n",
       "total_spent_in_dept            0\n",
       "avg_price_per_item_in_dept     0\n",
       "total_orders_from_dept         0\n",
       "avg_items_per_order_by_dept    0\n",
       "n_unique_items_in_dept         0\n",
       "dtype: int64"
      ]
     },
     "execution_count": 12,
     "metadata": {},
     "output_type": "execute_result"
    }
   ],
   "source": [
    "dept_data.isnull().sum()"
   ]
  },
  {
   "cell_type": "markdown",
   "id": "0745ec2e",
   "metadata": {},
   "source": [
    "### 0.4 Defining styles and label formats"
   ]
  },
  {
   "cell_type": "code",
   "execution_count": 13,
   "id": "5ed5dad9",
   "metadata": {},
   "outputs": [],
   "source": [
    "# Creating a consistent style for titles and axis labels\n",
    "font_title = {'family':'serif','color':'forestgreen','size':20}\n",
    "font_sm_title = {'family':'serif','color':'forestgreen','size':16}\n",
    "font_label = {'family': 'serif', 'color' :'forestgreen', 'size':15}\n",
    "font_sm_label = {'family': 'serif', 'color' :'forestgreen', 'size':13}"
   ]
  },
  {
   "cell_type": "code",
   "execution_count": 14,
   "id": "06056cd6",
   "metadata": {},
   "outputs": [],
   "source": [
    "# Identifying the days of the week that go with the code in the df\n",
    "# 0 = Sat, 1 = Sun, etc.\n",
    "dow = ('Sat', 'Sun', 'Mon', 'Tues', 'Weds', 'Thurs', 'Fri')\n",
    "dow_xticks = np.arange(len(dow))"
   ]
  },
  {
   "cell_type": "code",
   "execution_count": 15,
   "id": "79d19b65",
   "metadata": {},
   "outputs": [],
   "source": [
    "# Identifying the hours of the day that go with the code in the df\n",
    "# 0 = 12 a.m., 1 = 1 a.m.... 13 = 1 p.m., etc.\n",
    "hod = ('Midnight','1 a.m.', '2 a.m.', '3 a.m.', '4 a.m.', '5 a.m.', \n",
    "       '6 a.m.', '7 a.m.', '8 a.m.', '9 a.m.', '10 a.m.', '11 a.m.', \n",
    "       'Noon', '1 p.m.', '2 p.m.', '3 p.m.', '4 p.m.', '5 p.m.', \n",
    "       '6 p.m.', '7 p.m.', '8 p.m.', '9 p.m.', '10 p.m.', '11 p.m.')\n",
    "hod_xticks = np.arange(len(hod))"
   ]
  },
  {
   "cell_type": "code",
   "execution_count": 16,
   "id": "9fb096dc",
   "metadata": {},
   "outputs": [],
   "source": [
    "# Turning off the scientific notation\n",
    "pd.set_option('display.float_format', lambda x: f'{x:,.2f}')"
   ]
  },
  {
   "cell_type": "code",
   "execution_count": 59,
   "id": "03153a59",
   "metadata": {},
   "outputs": [],
   "source": [
    "# Identifying which profile we are investigating\n",
    "profile = 'pet_owner'\n",
    "profile_label = 'Pet Owners'\n",
    "not_profile_label = 'Other Users'\n",
    "labels = ['Pet Owners', 'Other Users']\n",
    "labels_r = ['Other Users', 'Pet Owners']\n",
    "colors = ['grey', 'deepskyblue']\n",
    "colors_r = ['deepskyblue', 'grey']"
   ]
  },
  {
   "cell_type": "markdown",
   "id": "60150f1c",
   "metadata": {},
   "source": [
    "### 0.5 Creating a subset df with each row = 1 user and profile flag"
   ]
  },
  {
   "cell_type": "code",
   "execution_count": 18,
   "id": "03827c6b",
   "metadata": {},
   "outputs": [],
   "source": [
    "# Create a temporary df to use for visualizations that should be per user\n",
    "# rather than per item ordered\n",
    "df_user_subset = pd.DataFrame()"
   ]
  },
  {
   "cell_type": "code",
   "execution_count": 19,
   "id": "f5edb1f1",
   "metadata": {},
   "outputs": [],
   "source": [
    "df_user_subset = df[['user_id', 'loyalty_flag', 'spender_type', 'frequent_shopper', 'gender', 'age', 'n_dependants', 'fam_status', 'income', 'income_group', 'region', 'low_activity_flag', 'total_spent_in_lifetime', 'total_items_in_lifetime', 'avg_items_per_order_by_user', 'baby_parent', 'pet_owner', 'senior_citizen', 'two_parent_fam', 'single_parent']]"
   ]
  },
  {
   "cell_type": "code",
   "execution_count": 20,
   "id": "0ffd4594",
   "metadata": {},
   "outputs": [
    {
     "data": {
      "text/html": [
       "<div>\n",
       "<style scoped>\n",
       "    .dataframe tbody tr th:only-of-type {\n",
       "        vertical-align: middle;\n",
       "    }\n",
       "\n",
       "    .dataframe tbody tr th {\n",
       "        vertical-align: top;\n",
       "    }\n",
       "\n",
       "    .dataframe thead th {\n",
       "        text-align: right;\n",
       "    }\n",
       "</style>\n",
       "<table border=\"1\" class=\"dataframe\">\n",
       "  <thead>\n",
       "    <tr style=\"text-align: right;\">\n",
       "      <th></th>\n",
       "      <th>user_id</th>\n",
       "      <th>loyalty_flag</th>\n",
       "      <th>spender_type</th>\n",
       "      <th>frequent_shopper</th>\n",
       "      <th>gender</th>\n",
       "      <th>age</th>\n",
       "      <th>n_dependants</th>\n",
       "      <th>fam_status</th>\n",
       "      <th>income</th>\n",
       "      <th>income_group</th>\n",
       "      <th>region</th>\n",
       "      <th>low_activity_flag</th>\n",
       "      <th>total_spent_in_lifetime</th>\n",
       "      <th>total_items_in_lifetime</th>\n",
       "      <th>avg_items_per_order_by_user</th>\n",
       "      <th>baby_parent</th>\n",
       "      <th>pet_owner</th>\n",
       "      <th>senior_citizen</th>\n",
       "      <th>two_parent_fam</th>\n",
       "      <th>single_parent</th>\n",
       "    </tr>\n",
       "  </thead>\n",
       "  <tbody>\n",
       "    <tr>\n",
       "      <th>0</th>\n",
       "      <td>1</td>\n",
       "      <td>New customer</td>\n",
       "      <td>Low spender</td>\n",
       "      <td>Regular customer</td>\n",
       "      <td>Female</td>\n",
       "      <td>31</td>\n",
       "      <td>3</td>\n",
       "      <td>married</td>\n",
       "      <td>40423</td>\n",
       "      <td>Low income</td>\n",
       "      <td>South</td>\n",
       "      <td>False</td>\n",
       "      <td>375.70</td>\n",
       "      <td>59</td>\n",
       "      <td>5.90</td>\n",
       "      <td>False</td>\n",
       "      <td>False</td>\n",
       "      <td>False</td>\n",
       "      <td>True</td>\n",
       "      <td>False</td>\n",
       "    </tr>\n",
       "    <tr>\n",
       "      <th>1</th>\n",
       "      <td>1</td>\n",
       "      <td>New customer</td>\n",
       "      <td>Low spender</td>\n",
       "      <td>Regular customer</td>\n",
       "      <td>Female</td>\n",
       "      <td>31</td>\n",
       "      <td>3</td>\n",
       "      <td>married</td>\n",
       "      <td>40423</td>\n",
       "      <td>Low income</td>\n",
       "      <td>South</td>\n",
       "      <td>False</td>\n",
       "      <td>375.70</td>\n",
       "      <td>59</td>\n",
       "      <td>5.90</td>\n",
       "      <td>False</td>\n",
       "      <td>False</td>\n",
       "      <td>False</td>\n",
       "      <td>True</td>\n",
       "      <td>False</td>\n",
       "    </tr>\n",
       "    <tr>\n",
       "      <th>2</th>\n",
       "      <td>1</td>\n",
       "      <td>New customer</td>\n",
       "      <td>Low spender</td>\n",
       "      <td>Regular customer</td>\n",
       "      <td>Female</td>\n",
       "      <td>31</td>\n",
       "      <td>3</td>\n",
       "      <td>married</td>\n",
       "      <td>40423</td>\n",
       "      <td>Low income</td>\n",
       "      <td>South</td>\n",
       "      <td>False</td>\n",
       "      <td>375.70</td>\n",
       "      <td>59</td>\n",
       "      <td>5.90</td>\n",
       "      <td>False</td>\n",
       "      <td>False</td>\n",
       "      <td>False</td>\n",
       "      <td>True</td>\n",
       "      <td>False</td>\n",
       "    </tr>\n",
       "    <tr>\n",
       "      <th>3</th>\n",
       "      <td>1</td>\n",
       "      <td>New customer</td>\n",
       "      <td>Low spender</td>\n",
       "      <td>Regular customer</td>\n",
       "      <td>Female</td>\n",
       "      <td>31</td>\n",
       "      <td>3</td>\n",
       "      <td>married</td>\n",
       "      <td>40423</td>\n",
       "      <td>Low income</td>\n",
       "      <td>South</td>\n",
       "      <td>False</td>\n",
       "      <td>375.70</td>\n",
       "      <td>59</td>\n",
       "      <td>5.90</td>\n",
       "      <td>False</td>\n",
       "      <td>False</td>\n",
       "      <td>False</td>\n",
       "      <td>True</td>\n",
       "      <td>False</td>\n",
       "    </tr>\n",
       "    <tr>\n",
       "      <th>4</th>\n",
       "      <td>1</td>\n",
       "      <td>New customer</td>\n",
       "      <td>Low spender</td>\n",
       "      <td>Regular customer</td>\n",
       "      <td>Female</td>\n",
       "      <td>31</td>\n",
       "      <td>3</td>\n",
       "      <td>married</td>\n",
       "      <td>40423</td>\n",
       "      <td>Low income</td>\n",
       "      <td>South</td>\n",
       "      <td>False</td>\n",
       "      <td>375.70</td>\n",
       "      <td>59</td>\n",
       "      <td>5.90</td>\n",
       "      <td>False</td>\n",
       "      <td>False</td>\n",
       "      <td>False</td>\n",
       "      <td>True</td>\n",
       "      <td>False</td>\n",
       "    </tr>\n",
       "  </tbody>\n",
       "</table>\n",
       "</div>"
      ],
      "text/plain": [
       "   user_id  loyalty_flag spender_type  frequent_shopper  gender  age  \\\n",
       "0        1  New customer  Low spender  Regular customer  Female   31   \n",
       "1        1  New customer  Low spender  Regular customer  Female   31   \n",
       "2        1  New customer  Low spender  Regular customer  Female   31   \n",
       "3        1  New customer  Low spender  Regular customer  Female   31   \n",
       "4        1  New customer  Low spender  Regular customer  Female   31   \n",
       "\n",
       "   n_dependants fam_status  income income_group region  low_activity_flag  \\\n",
       "0             3    married   40423   Low income  South              False   \n",
       "1             3    married   40423   Low income  South              False   \n",
       "2             3    married   40423   Low income  South              False   \n",
       "3             3    married   40423   Low income  South              False   \n",
       "4             3    married   40423   Low income  South              False   \n",
       "\n",
       "   total_spent_in_lifetime  total_items_in_lifetime  \\\n",
       "0                   375.70                       59   \n",
       "1                   375.70                       59   \n",
       "2                   375.70                       59   \n",
       "3                   375.70                       59   \n",
       "4                   375.70                       59   \n",
       "\n",
       "   avg_items_per_order_by_user  baby_parent  pet_owner  senior_citizen  \\\n",
       "0                         5.90        False      False           False   \n",
       "1                         5.90        False      False           False   \n",
       "2                         5.90        False      False           False   \n",
       "3                         5.90        False      False           False   \n",
       "4                         5.90        False      False           False   \n",
       "\n",
       "   two_parent_fam  single_parent  \n",
       "0            True          False  \n",
       "1            True          False  \n",
       "2            True          False  \n",
       "3            True          False  \n",
       "4            True          False  "
      ]
     },
     "execution_count": 20,
     "metadata": {},
     "output_type": "execute_result"
    }
   ],
   "source": [
    "df_user_subset.head()"
   ]
  },
  {
   "cell_type": "code",
   "execution_count": 21,
   "id": "55f9ecbb",
   "metadata": {},
   "outputs": [
    {
     "data": {
      "text/plain": [
       "(32434489, 20)"
      ]
     },
     "execution_count": 21,
     "metadata": {},
     "output_type": "execute_result"
    }
   ],
   "source": [
    "df_user_subset.shape"
   ]
  },
  {
   "cell_type": "markdown",
   "id": "0638d55d",
   "metadata": {},
   "source": [
    "This has the same number of rows as the original df and only the 20 subsetted columns."
   ]
  },
  {
   "cell_type": "code",
   "execution_count": 22,
   "id": "e64e433e",
   "metadata": {},
   "outputs": [],
   "source": [
    "# Remove duplicate rows\n",
    "df_user_subset = df_user_subset.drop_duplicates()"
   ]
  },
  {
   "cell_type": "code",
   "execution_count": 23,
   "id": "533681df",
   "metadata": {},
   "outputs": [
    {
     "data": {
      "text/plain": [
       "(206209, 20)"
      ]
     },
     "execution_count": 23,
     "metadata": {},
     "output_type": "execute_result"
    }
   ],
   "source": [
    "# Checking new shape\n",
    "df_user_subset.shape"
   ]
  },
  {
   "cell_type": "code",
   "execution_count": 24,
   "id": "5ec003f1",
   "metadata": {
    "scrolled": true
   },
   "outputs": [
    {
     "data": {
      "text/html": [
       "<div>\n",
       "<style scoped>\n",
       "    .dataframe tbody tr th:only-of-type {\n",
       "        vertical-align: middle;\n",
       "    }\n",
       "\n",
       "    .dataframe tbody tr th {\n",
       "        vertical-align: top;\n",
       "    }\n",
       "\n",
       "    .dataframe thead th {\n",
       "        text-align: right;\n",
       "    }\n",
       "</style>\n",
       "<table border=\"1\" class=\"dataframe\">\n",
       "  <thead>\n",
       "    <tr style=\"text-align: right;\">\n",
       "      <th></th>\n",
       "      <th>user_id</th>\n",
       "      <th>loyalty_flag</th>\n",
       "      <th>spender_type</th>\n",
       "      <th>frequent_shopper</th>\n",
       "      <th>gender</th>\n",
       "      <th>age</th>\n",
       "      <th>n_dependants</th>\n",
       "      <th>fam_status</th>\n",
       "      <th>income</th>\n",
       "      <th>income_group</th>\n",
       "      <th>region</th>\n",
       "      <th>low_activity_flag</th>\n",
       "      <th>total_spent_in_lifetime</th>\n",
       "      <th>total_items_in_lifetime</th>\n",
       "      <th>avg_items_per_order_by_user</th>\n",
       "      <th>baby_parent</th>\n",
       "      <th>pet_owner</th>\n",
       "      <th>senior_citizen</th>\n",
       "      <th>two_parent_fam</th>\n",
       "      <th>single_parent</th>\n",
       "    </tr>\n",
       "  </thead>\n",
       "  <tbody>\n",
       "    <tr>\n",
       "      <th>0</th>\n",
       "      <td>1</td>\n",
       "      <td>New customer</td>\n",
       "      <td>Low spender</td>\n",
       "      <td>Regular customer</td>\n",
       "      <td>Female</td>\n",
       "      <td>31</td>\n",
       "      <td>3</td>\n",
       "      <td>married</td>\n",
       "      <td>40423</td>\n",
       "      <td>Low income</td>\n",
       "      <td>South</td>\n",
       "      <td>False</td>\n",
       "      <td>375.70</td>\n",
       "      <td>59</td>\n",
       "      <td>5.90</td>\n",
       "      <td>False</td>\n",
       "      <td>False</td>\n",
       "      <td>False</td>\n",
       "      <td>True</td>\n",
       "      <td>False</td>\n",
       "    </tr>\n",
       "    <tr>\n",
       "      <th>59</th>\n",
       "      <td>2</td>\n",
       "      <td>Regular customer</td>\n",
       "      <td>Low spender</td>\n",
       "      <td>Regular customer</td>\n",
       "      <td>Female</td>\n",
       "      <td>68</td>\n",
       "      <td>3</td>\n",
       "      <td>married</td>\n",
       "      <td>64940</td>\n",
       "      <td>Middle class</td>\n",
       "      <td>West</td>\n",
       "      <td>False</td>\n",
       "      <td>1,465.60</td>\n",
       "      <td>195</td>\n",
       "      <td>13.93</td>\n",
       "      <td>False</td>\n",
       "      <td>False</td>\n",
       "      <td>True</td>\n",
       "      <td>True</td>\n",
       "      <td>False</td>\n",
       "    </tr>\n",
       "    <tr>\n",
       "      <th>254</th>\n",
       "      <td>3</td>\n",
       "      <td>Regular customer</td>\n",
       "      <td>Low spender</td>\n",
       "      <td>Regular customer</td>\n",
       "      <td>Female</td>\n",
       "      <td>33</td>\n",
       "      <td>3</td>\n",
       "      <td>married</td>\n",
       "      <td>93240</td>\n",
       "      <td>Middle class</td>\n",
       "      <td>West</td>\n",
       "      <td>False</td>\n",
       "      <td>721.40</td>\n",
       "      <td>88</td>\n",
       "      <td>7.33</td>\n",
       "      <td>False</td>\n",
       "      <td>False</td>\n",
       "      <td>False</td>\n",
       "      <td>True</td>\n",
       "      <td>False</td>\n",
       "    </tr>\n",
       "    <tr>\n",
       "      <th>342</th>\n",
       "      <td>4</td>\n",
       "      <td>New customer</td>\n",
       "      <td>Low spender</td>\n",
       "      <td>Regular customer</td>\n",
       "      <td>Male</td>\n",
       "      <td>31</td>\n",
       "      <td>3</td>\n",
       "      <td>married</td>\n",
       "      <td>45435</td>\n",
       "      <td>Low income</td>\n",
       "      <td>South</td>\n",
       "      <td>False</td>\n",
       "      <td>147.70</td>\n",
       "      <td>18</td>\n",
       "      <td>3.60</td>\n",
       "      <td>False</td>\n",
       "      <td>False</td>\n",
       "      <td>False</td>\n",
       "      <td>True</td>\n",
       "      <td>False</td>\n",
       "    </tr>\n",
       "    <tr>\n",
       "      <th>360</th>\n",
       "      <td>5</td>\n",
       "      <td>New customer</td>\n",
       "      <td>Low spender</td>\n",
       "      <td>Regular customer</td>\n",
       "      <td>Female</td>\n",
       "      <td>75</td>\n",
       "      <td>0</td>\n",
       "      <td>divorced/widowed</td>\n",
       "      <td>115242</td>\n",
       "      <td>Middle class</td>\n",
       "      <td>West</td>\n",
       "      <td>True</td>\n",
       "      <td>340.00</td>\n",
       "      <td>37</td>\n",
       "      <td>9.25</td>\n",
       "      <td>False</td>\n",
       "      <td>False</td>\n",
       "      <td>True</td>\n",
       "      <td>False</td>\n",
       "      <td>False</td>\n",
       "    </tr>\n",
       "  </tbody>\n",
       "</table>\n",
       "</div>"
      ],
      "text/plain": [
       "     user_id      loyalty_flag spender_type  frequent_shopper  gender  age  \\\n",
       "0          1      New customer  Low spender  Regular customer  Female   31   \n",
       "59         2  Regular customer  Low spender  Regular customer  Female   68   \n",
       "254        3  Regular customer  Low spender  Regular customer  Female   33   \n",
       "342        4      New customer  Low spender  Regular customer    Male   31   \n",
       "360        5      New customer  Low spender  Regular customer  Female   75   \n",
       "\n",
       "     n_dependants        fam_status  income  income_group region  \\\n",
       "0               3           married   40423    Low income  South   \n",
       "59              3           married   64940  Middle class   West   \n",
       "254             3           married   93240  Middle class   West   \n",
       "342             3           married   45435    Low income  South   \n",
       "360             0  divorced/widowed  115242  Middle class   West   \n",
       "\n",
       "     low_activity_flag  total_spent_in_lifetime  total_items_in_lifetime  \\\n",
       "0                False                   375.70                       59   \n",
       "59               False                 1,465.60                      195   \n",
       "254              False                   721.40                       88   \n",
       "342              False                   147.70                       18   \n",
       "360               True                   340.00                       37   \n",
       "\n",
       "     avg_items_per_order_by_user  baby_parent  pet_owner  senior_citizen  \\\n",
       "0                           5.90        False      False           False   \n",
       "59                         13.93        False      False            True   \n",
       "254                         7.33        False      False           False   \n",
       "342                         3.60        False      False           False   \n",
       "360                         9.25        False      False            True   \n",
       "\n",
       "     two_parent_fam  single_parent  \n",
       "0              True          False  \n",
       "59             True          False  \n",
       "254            True          False  \n",
       "342            True          False  \n",
       "360           False          False  "
      ]
     },
     "execution_count": 24,
     "metadata": {},
     "output_type": "execute_result"
    }
   ],
   "source": [
    "df_user_subset.head()"
   ]
  },
  {
   "cell_type": "markdown",
   "id": "07b6504a",
   "metadata": {},
   "source": [
    "Now we have a dataframe that reflects the users specifically."
   ]
  },
  {
   "cell_type": "code",
   "execution_count": 25,
   "id": "d832885d",
   "metadata": {},
   "outputs": [],
   "source": [
    "# Create a profile_flag with a more descriptive name for visualizations\n",
    "df_user_subset.loc[df_user_subset[profile] == True, 'profile_flag'] = profile_label\n",
    "df_user_subset.loc[df_user_subset[profile] == False, 'profile_flag'] = not_profile_label\n",
    "    "
   ]
  },
  {
   "cell_type": "code",
   "execution_count": 26,
   "id": "100076d9",
   "metadata": {},
   "outputs": [
    {
     "data": {
      "text/html": [
       "<div>\n",
       "<style scoped>\n",
       "    .dataframe tbody tr th:only-of-type {\n",
       "        vertical-align: middle;\n",
       "    }\n",
       "\n",
       "    .dataframe tbody tr th {\n",
       "        vertical-align: top;\n",
       "    }\n",
       "\n",
       "    .dataframe thead th {\n",
       "        text-align: right;\n",
       "    }\n",
       "</style>\n",
       "<table border=\"1\" class=\"dataframe\">\n",
       "  <thead>\n",
       "    <tr style=\"text-align: right;\">\n",
       "      <th></th>\n",
       "      <th>user_id</th>\n",
       "      <th>loyalty_flag</th>\n",
       "      <th>spender_type</th>\n",
       "      <th>frequent_shopper</th>\n",
       "      <th>gender</th>\n",
       "      <th>age</th>\n",
       "      <th>n_dependants</th>\n",
       "      <th>fam_status</th>\n",
       "      <th>income</th>\n",
       "      <th>income_group</th>\n",
       "      <th>...</th>\n",
       "      <th>low_activity_flag</th>\n",
       "      <th>total_spent_in_lifetime</th>\n",
       "      <th>total_items_in_lifetime</th>\n",
       "      <th>avg_items_per_order_by_user</th>\n",
       "      <th>baby_parent</th>\n",
       "      <th>pet_owner</th>\n",
       "      <th>senior_citizen</th>\n",
       "      <th>two_parent_fam</th>\n",
       "      <th>single_parent</th>\n",
       "      <th>profile_flag</th>\n",
       "    </tr>\n",
       "  </thead>\n",
       "  <tbody>\n",
       "    <tr>\n",
       "      <th>0</th>\n",
       "      <td>1</td>\n",
       "      <td>New customer</td>\n",
       "      <td>Low spender</td>\n",
       "      <td>Regular customer</td>\n",
       "      <td>Female</td>\n",
       "      <td>31</td>\n",
       "      <td>3</td>\n",
       "      <td>married</td>\n",
       "      <td>40423</td>\n",
       "      <td>Low income</td>\n",
       "      <td>...</td>\n",
       "      <td>False</td>\n",
       "      <td>375.70</td>\n",
       "      <td>59</td>\n",
       "      <td>5.90</td>\n",
       "      <td>False</td>\n",
       "      <td>False</td>\n",
       "      <td>False</td>\n",
       "      <td>True</td>\n",
       "      <td>False</td>\n",
       "      <td>Other Users</td>\n",
       "    </tr>\n",
       "    <tr>\n",
       "      <th>59</th>\n",
       "      <td>2</td>\n",
       "      <td>Regular customer</td>\n",
       "      <td>Low spender</td>\n",
       "      <td>Regular customer</td>\n",
       "      <td>Female</td>\n",
       "      <td>68</td>\n",
       "      <td>3</td>\n",
       "      <td>married</td>\n",
       "      <td>64940</td>\n",
       "      <td>Middle class</td>\n",
       "      <td>...</td>\n",
       "      <td>False</td>\n",
       "      <td>1,465.60</td>\n",
       "      <td>195</td>\n",
       "      <td>13.93</td>\n",
       "      <td>False</td>\n",
       "      <td>False</td>\n",
       "      <td>True</td>\n",
       "      <td>True</td>\n",
       "      <td>False</td>\n",
       "      <td>Other Users</td>\n",
       "    </tr>\n",
       "    <tr>\n",
       "      <th>254</th>\n",
       "      <td>3</td>\n",
       "      <td>Regular customer</td>\n",
       "      <td>Low spender</td>\n",
       "      <td>Regular customer</td>\n",
       "      <td>Female</td>\n",
       "      <td>33</td>\n",
       "      <td>3</td>\n",
       "      <td>married</td>\n",
       "      <td>93240</td>\n",
       "      <td>Middle class</td>\n",
       "      <td>...</td>\n",
       "      <td>False</td>\n",
       "      <td>721.40</td>\n",
       "      <td>88</td>\n",
       "      <td>7.33</td>\n",
       "      <td>False</td>\n",
       "      <td>False</td>\n",
       "      <td>False</td>\n",
       "      <td>True</td>\n",
       "      <td>False</td>\n",
       "      <td>Other Users</td>\n",
       "    </tr>\n",
       "    <tr>\n",
       "      <th>342</th>\n",
       "      <td>4</td>\n",
       "      <td>New customer</td>\n",
       "      <td>Low spender</td>\n",
       "      <td>Regular customer</td>\n",
       "      <td>Male</td>\n",
       "      <td>31</td>\n",
       "      <td>3</td>\n",
       "      <td>married</td>\n",
       "      <td>45435</td>\n",
       "      <td>Low income</td>\n",
       "      <td>...</td>\n",
       "      <td>False</td>\n",
       "      <td>147.70</td>\n",
       "      <td>18</td>\n",
       "      <td>3.60</td>\n",
       "      <td>False</td>\n",
       "      <td>False</td>\n",
       "      <td>False</td>\n",
       "      <td>True</td>\n",
       "      <td>False</td>\n",
       "      <td>Other Users</td>\n",
       "    </tr>\n",
       "    <tr>\n",
       "      <th>360</th>\n",
       "      <td>5</td>\n",
       "      <td>New customer</td>\n",
       "      <td>Low spender</td>\n",
       "      <td>Regular customer</td>\n",
       "      <td>Female</td>\n",
       "      <td>75</td>\n",
       "      <td>0</td>\n",
       "      <td>divorced/widowed</td>\n",
       "      <td>115242</td>\n",
       "      <td>Middle class</td>\n",
       "      <td>...</td>\n",
       "      <td>True</td>\n",
       "      <td>340.00</td>\n",
       "      <td>37</td>\n",
       "      <td>9.25</td>\n",
       "      <td>False</td>\n",
       "      <td>False</td>\n",
       "      <td>True</td>\n",
       "      <td>False</td>\n",
       "      <td>False</td>\n",
       "      <td>Other Users</td>\n",
       "    </tr>\n",
       "  </tbody>\n",
       "</table>\n",
       "<p>5 rows × 21 columns</p>\n",
       "</div>"
      ],
      "text/plain": [
       "     user_id      loyalty_flag spender_type  frequent_shopper  gender  age  \\\n",
       "0          1      New customer  Low spender  Regular customer  Female   31   \n",
       "59         2  Regular customer  Low spender  Regular customer  Female   68   \n",
       "254        3  Regular customer  Low spender  Regular customer  Female   33   \n",
       "342        4      New customer  Low spender  Regular customer    Male   31   \n",
       "360        5      New customer  Low spender  Regular customer  Female   75   \n",
       "\n",
       "     n_dependants        fam_status  income  income_group  ...  \\\n",
       "0               3           married   40423    Low income  ...   \n",
       "59              3           married   64940  Middle class  ...   \n",
       "254             3           married   93240  Middle class  ...   \n",
       "342             3           married   45435    Low income  ...   \n",
       "360             0  divorced/widowed  115242  Middle class  ...   \n",
       "\n",
       "    low_activity_flag  total_spent_in_lifetime  total_items_in_lifetime  \\\n",
       "0               False                   375.70                       59   \n",
       "59              False                 1,465.60                      195   \n",
       "254             False                   721.40                       88   \n",
       "342             False                   147.70                       18   \n",
       "360              True                   340.00                       37   \n",
       "\n",
       "     avg_items_per_order_by_user  baby_parent  pet_owner  senior_citizen  \\\n",
       "0                           5.90        False      False           False   \n",
       "59                         13.93        False      False            True   \n",
       "254                         7.33        False      False           False   \n",
       "342                         3.60        False      False           False   \n",
       "360                         9.25        False      False            True   \n",
       "\n",
       "     two_parent_fam  single_parent  profile_flag  \n",
       "0              True          False   Other Users  \n",
       "59             True          False   Other Users  \n",
       "254            True          False   Other Users  \n",
       "342            True          False   Other Users  \n",
       "360           False          False   Other Users  \n",
       "\n",
       "[5 rows x 21 columns]"
      ]
     },
     "execution_count": 26,
     "metadata": {},
     "output_type": "execute_result"
    }
   ],
   "source": [
    "df_user_subset.head()"
   ]
  },
  {
   "cell_type": "code",
   "execution_count": null,
   "id": "e22a79aa",
   "metadata": {},
   "outputs": [],
   "source": []
  },
  {
   "cell_type": "markdown",
   "id": "f0f2c672",
   "metadata": {},
   "source": [
    "## 0.6. Exploration of pet_owner profile"
   ]
  },
  {
   "cell_type": "markdown",
   "id": "94c82bce",
   "metadata": {},
   "source": [
    "### 0.6.1 importance of this profile"
   ]
  },
  {
   "cell_type": "markdown",
   "id": "a4941d00",
   "metadata": {},
   "source": [
    "#### 0.6.1.A  count of users"
   ]
  },
  {
   "cell_type": "code",
   "execution_count": 27,
   "id": "b5294662",
   "metadata": {},
   "outputs": [],
   "source": [
    "# Create a temporary df to hold the count of the profile\n",
    "num_profile = df_user_subset['profile_flag'].value_counts()"
   ]
  },
  {
   "cell_type": "code",
   "execution_count": 28,
   "id": "146efd8b",
   "metadata": {},
   "outputs": [
    {
     "data": {
      "text/plain": [
       "Other Users    191223\n",
       "Pet Owners      14986\n",
       "Name: profile_flag, dtype: int64"
      ]
     },
     "execution_count": 28,
     "metadata": {},
     "output_type": "execute_result"
    }
   ],
   "source": [
    "num_profile"
   ]
  },
  {
   "cell_type": "markdown",
   "id": "ab2602c1",
   "metadata": {},
   "source": [
    "Roughly 7.3% of our customer base are pet owners.  (14986/206,209=0.07267) "
   ]
  },
  {
   "cell_type": "code",
   "execution_count": 29,
   "id": "345ef5b2",
   "metadata": {},
   "outputs": [],
   "source": [
    "# Reset the index so that the correct column headers will appear\n",
    "num_profile = pd.DataFrame(num_profile).reset_index()"
   ]
  },
  {
   "cell_type": "code",
   "execution_count": 30,
   "id": "11b3ed84",
   "metadata": {},
   "outputs": [
    {
     "data": {
      "text/html": [
       "<div>\n",
       "<style scoped>\n",
       "    .dataframe tbody tr th:only-of-type {\n",
       "        vertical-align: middle;\n",
       "    }\n",
       "\n",
       "    .dataframe tbody tr th {\n",
       "        vertical-align: top;\n",
       "    }\n",
       "\n",
       "    .dataframe thead th {\n",
       "        text-align: right;\n",
       "    }\n",
       "</style>\n",
       "<table border=\"1\" class=\"dataframe\">\n",
       "  <thead>\n",
       "    <tr style=\"text-align: right;\">\n",
       "      <th></th>\n",
       "      <th>index</th>\n",
       "      <th>profile_flag</th>\n",
       "    </tr>\n",
       "  </thead>\n",
       "  <tbody>\n",
       "    <tr>\n",
       "      <th>0</th>\n",
       "      <td>Other Users</td>\n",
       "      <td>191223</td>\n",
       "    </tr>\n",
       "    <tr>\n",
       "      <th>1</th>\n",
       "      <td>Pet Owners</td>\n",
       "      <td>14986</td>\n",
       "    </tr>\n",
       "  </tbody>\n",
       "</table>\n",
       "</div>"
      ],
      "text/plain": [
       "         index  profile_flag\n",
       "0  Other Users        191223\n",
       "1   Pet Owners         14986"
      ]
     },
     "execution_count": 30,
     "metadata": {},
     "output_type": "execute_result"
    }
   ],
   "source": [
    "num_profile"
   ]
  },
  {
   "cell_type": "code",
   "execution_count": 31,
   "id": "442c91f5",
   "metadata": {},
   "outputs": [
    {
     "data": {
      "text/html": [
       "<div>\n",
       "<style scoped>\n",
       "    .dataframe tbody tr th:only-of-type {\n",
       "        vertical-align: middle;\n",
       "    }\n",
       "\n",
       "    .dataframe tbody tr th {\n",
       "        vertical-align: top;\n",
       "    }\n",
       "\n",
       "    .dataframe thead th {\n",
       "        text-align: right;\n",
       "    }\n",
       "</style>\n",
       "<table border=\"1\" class=\"dataframe\">\n",
       "  <thead>\n",
       "    <tr style=\"text-align: right;\">\n",
       "      <th></th>\n",
       "      <th>profile_flag</th>\n",
       "    </tr>\n",
       "    <tr>\n",
       "      <th>index</th>\n",
       "      <th></th>\n",
       "    </tr>\n",
       "  </thead>\n",
       "  <tbody>\n",
       "    <tr>\n",
       "      <th>Other Users</th>\n",
       "      <td>191223</td>\n",
       "    </tr>\n",
       "    <tr>\n",
       "      <th>Pet Owners</th>\n",
       "      <td>14986</td>\n",
       "    </tr>\n",
       "  </tbody>\n",
       "</table>\n",
       "</div>"
      ],
      "text/plain": [
       "             profile_flag\n",
       "index                    \n",
       "Other Users        191223\n",
       "Pet Owners          14986"
      ]
     },
     "execution_count": 31,
     "metadata": {},
     "output_type": "execute_result"
    }
   ],
   "source": [
    "# Set the index to be the boolean column with a header of 'index'\n",
    "num_profile.set_index('index')"
   ]
  },
  {
   "cell_type": "code",
   "execution_count": 58,
   "id": "75922270",
   "metadata": {},
   "outputs": [
    {
     "data": {
      "text/plain": [
       "Text(0.5, 1.0, '7.3% of our users own pets.')"
      ]
     },
     "execution_count": 58,
     "metadata": {},
     "output_type": "execute_result"
    },
    {
     "data": {
      "image/png": "[encoded data removed]",
      "text/plain": [
       "<Figure size 700x500 with 1 Axes>"
      ]
     },
     "metadata": {},
     "output_type": "display_data"
    }
   ],
   "source": [
    "plot = num_profile.plot.pie(y='profile_flag', \n",
    "                            figsize=(7,5), \n",
    "                            counterclock=False, \n",
    "                            colors = ['grey', 'deepskyblue'], \n",
    "                            legend=False, \n",
    "                            labels = labels_r, \n",
    "                            autopct='%1.1f%%')\n",
    "plt.ylabel(\"\")\n",
    "\n",
    "plt.title (\"7.3% of our users own pets.\", \n",
    "          size=16)\n"
   ]
  },
  {
   "cell_type": "markdown",
   "id": "3ec5533f",
   "metadata": {},
   "source": [
    "This visualization does not seem like it will be significant to use in the report."
   ]
  },
  {
   "cell_type": "markdown",
   "id": "5820fb9c",
   "metadata": {},
   "source": [
    "#### 0.6.1.B  gross sales (total_spent_in_lifetime)"
   ]
  },
  {
   "cell_type": "markdown",
   "id": "a10ab74e",
   "metadata": {},
   "source": [
    "Total gross sales across all profiles = 252418374"
   ]
  },
  {
   "cell_type": "code",
   "execution_count": 33,
   "id": "5ed6aaea",
   "metadata": {},
   "outputs": [],
   "source": [
    "# Calculate the gross sales for those in the profile and out of it\n",
    "gross_sales_profile = df_user_subset.groupby('profile_flag').total_spent_in_lifetime.sum()"
   ]
  },
  {
   "cell_type": "code",
   "execution_count": 34,
   "id": "a2a7671f",
   "metadata": {
    "scrolled": false
   },
   "outputs": [
    {
     "data": {
      "text/plain": [
       "profile_flag\n",
       "Other Users   224,863,568.00\n",
       "Pet Owners     27,554,806.00\n",
       "Name: total_spent_in_lifetime, dtype: float32"
      ]
     },
     "execution_count": 34,
     "metadata": {},
     "output_type": "execute_result"
    }
   ],
   "source": [
    "gross_sales_profile"
   ]
  },
  {
   "cell_type": "markdown",
   "id": "cbe2f8ad",
   "metadata": {},
   "source": [
    "Pet owners account for 10.9% of gross sales.  This is slightly more than we would expect given that they only account for 7.3% of our user base."
   ]
  },
  {
   "cell_type": "code",
   "execution_count": 35,
   "id": "e93c8a6a",
   "metadata": {},
   "outputs": [],
   "source": [
    "# Reset the index so that the correct column headers will appear\n",
    "gross_sales_profile = pd.DataFrame(gross_sales_profile).reset_index()"
   ]
  },
  {
   "cell_type": "code",
   "execution_count": 36,
   "id": "725fe8f1",
   "metadata": {
    "scrolled": true
   },
   "outputs": [
    {
     "data": {
      "text/html": [
       "<div>\n",
       "<style scoped>\n",
       "    .dataframe tbody tr th:only-of-type {\n",
       "        vertical-align: middle;\n",
       "    }\n",
       "\n",
       "    .dataframe tbody tr th {\n",
       "        vertical-align: top;\n",
       "    }\n",
       "\n",
       "    .dataframe thead th {\n",
       "        text-align: right;\n",
       "    }\n",
       "</style>\n",
       "<table border=\"1\" class=\"dataframe\">\n",
       "  <thead>\n",
       "    <tr style=\"text-align: right;\">\n",
       "      <th></th>\n",
       "      <th>profile_flag</th>\n",
       "      <th>total_spent_in_lifetime</th>\n",
       "    </tr>\n",
       "  </thead>\n",
       "  <tbody>\n",
       "    <tr>\n",
       "      <th>0</th>\n",
       "      <td>Other Users</td>\n",
       "      <td>224,863,568.00</td>\n",
       "    </tr>\n",
       "    <tr>\n",
       "      <th>1</th>\n",
       "      <td>Pet Owners</td>\n",
       "      <td>27,554,806.00</td>\n",
       "    </tr>\n",
       "  </tbody>\n",
       "</table>\n",
       "</div>"
      ],
      "text/plain": [
       "  profile_flag  total_spent_in_lifetime\n",
       "0  Other Users           224,863,568.00\n",
       "1   Pet Owners            27,554,806.00"
      ]
     },
     "execution_count": 36,
     "metadata": {},
     "output_type": "execute_result"
    }
   ],
   "source": [
    "gross_sales_profile"
   ]
  },
  {
   "cell_type": "code",
   "execution_count": 37,
   "id": "094ff328",
   "metadata": {},
   "outputs": [],
   "source": [
    "# Swap the order of the rows so that the pie chart renders correctly\n",
    "temp = pd.DataFrame()\n",
    "temp = gross_sales_profile.copy()"
   ]
  },
  {
   "cell_type": "code",
   "execution_count": 38,
   "id": "9b4c1413",
   "metadata": {},
   "outputs": [
    {
     "data": {
      "text/html": [
       "<div>\n",
       "<style scoped>\n",
       "    .dataframe tbody tr th:only-of-type {\n",
       "        vertical-align: middle;\n",
       "    }\n",
       "\n",
       "    .dataframe tbody tr th {\n",
       "        vertical-align: top;\n",
       "    }\n",
       "\n",
       "    .dataframe thead th {\n",
       "        text-align: right;\n",
       "    }\n",
       "</style>\n",
       "<table border=\"1\" class=\"dataframe\">\n",
       "  <thead>\n",
       "    <tr style=\"text-align: right;\">\n",
       "      <th></th>\n",
       "      <th>profile_flag</th>\n",
       "      <th>total_spent_in_lifetime</th>\n",
       "    </tr>\n",
       "  </thead>\n",
       "  <tbody>\n",
       "    <tr>\n",
       "      <th>0</th>\n",
       "      <td>Other Users</td>\n",
       "      <td>224,863,568.00</td>\n",
       "    </tr>\n",
       "    <tr>\n",
       "      <th>1</th>\n",
       "      <td>Pet Owners</td>\n",
       "      <td>27,554,806.00</td>\n",
       "    </tr>\n",
       "  </tbody>\n",
       "</table>\n",
       "</div>"
      ],
      "text/plain": [
       "  profile_flag  total_spent_in_lifetime\n",
       "0  Other Users           224,863,568.00\n",
       "1   Pet Owners            27,554,806.00"
      ]
     },
     "execution_count": 38,
     "metadata": {},
     "output_type": "execute_result"
    }
   ],
   "source": [
    "temp"
   ]
  },
  {
   "cell_type": "code",
   "execution_count": 39,
   "id": "4755c227",
   "metadata": {},
   "outputs": [],
   "source": [
    "gross_sales_profile.iloc[0] = temp.iloc[1].copy()\n",
    "gross_sales_profile.iloc[1] = temp.iloc[0].copy()"
   ]
  },
  {
   "cell_type": "code",
   "execution_count": 40,
   "id": "db162547",
   "metadata": {
    "scrolled": true
   },
   "outputs": [
    {
     "data": {
      "text/html": [
       "<div>\n",
       "<style scoped>\n",
       "    .dataframe tbody tr th:only-of-type {\n",
       "        vertical-align: middle;\n",
       "    }\n",
       "\n",
       "    .dataframe tbody tr th {\n",
       "        vertical-align: top;\n",
       "    }\n",
       "\n",
       "    .dataframe thead th {\n",
       "        text-align: right;\n",
       "    }\n",
       "</style>\n",
       "<table border=\"1\" class=\"dataframe\">\n",
       "  <thead>\n",
       "    <tr style=\"text-align: right;\">\n",
       "      <th></th>\n",
       "      <th>profile_flag</th>\n",
       "      <th>total_spent_in_lifetime</th>\n",
       "    </tr>\n",
       "  </thead>\n",
       "  <tbody>\n",
       "    <tr>\n",
       "      <th>0</th>\n",
       "      <td>Pet Owners</td>\n",
       "      <td>27,554,806.00</td>\n",
       "    </tr>\n",
       "    <tr>\n",
       "      <th>1</th>\n",
       "      <td>Other Users</td>\n",
       "      <td>224,863,568.00</td>\n",
       "    </tr>\n",
       "  </tbody>\n",
       "</table>\n",
       "</div>"
      ],
      "text/plain": [
       "  profile_flag  total_spent_in_lifetime\n",
       "0   Pet Owners            27,554,806.00\n",
       "1  Other Users           224,863,568.00"
      ]
     },
     "execution_count": 40,
     "metadata": {},
     "output_type": "execute_result"
    }
   ],
   "source": [
    "# Confirming the swap happened correctly\n",
    "gross_sales_profile"
   ]
  },
  {
   "cell_type": "code",
   "execution_count": 41,
   "id": "8e742704",
   "metadata": {},
   "outputs": [
    {
     "data": {
      "text/plain": [
       "Text(0.5, 1.0, 'Pet owners account for roughly 10% of sales.')"
      ]
     },
     "execution_count": 41,
     "metadata": {},
     "output_type": "execute_result"
    },
    {
     "data": {
      "image/png": "[encoded data removed]",
      "text/plain": [
       "<Figure size 700x500 with 1 Axes>"
      ]
     },
     "metadata": {},
     "output_type": "display_data"
    }
   ],
   "source": [
    "plot = gross_sales_profile.plot.pie(y='total_spent_in_lifetime', \n",
    "                                    figsize=(7,5), \n",
    "                                    counterclock=False, \n",
    "                                    colormap='Accent', \n",
    "                                    legend=False, \n",
    "                                    labels = labels, \n",
    "                                    autopct='%1.1f%%')\n",
    "plt.ylabel(\"\")\n",
    "\n",
    "plt.title (\"Pet owners account for roughly 10% of sales.\", \n",
    "           fontdict = font_title)\n"
   ]
  },
  {
   "cell_type": "markdown",
   "id": "e86127c3",
   "metadata": {},
   "source": [
    "Rather than using the pie graphs, if a visualization is needed for this topic, we could create a bar chart comparing the percent of pet_owners in our user base to the percent of gross sales from pet_owners"
   ]
  },
  {
   "cell_type": "markdown",
   "id": "2cd297f1",
   "metadata": {},
   "source": [
    "#### 0.6.1.C  total items (total_items_in_lifetime)"
   ]
  },
  {
   "cell_type": "markdown",
   "id": "f2b5ad2f",
   "metadata": {},
   "source": [
    "Total items across the entire df = 32434489"
   ]
  },
  {
   "cell_type": "code",
   "execution_count": 42,
   "id": "afa82cb7",
   "metadata": {},
   "outputs": [],
   "source": [
    "# Calculate the total items for those in the profile and out of it\n",
    "total_items = pd.DataFrame(df_user_subset.groupby(profile).total_items_in_lifetime.sum())"
   ]
  },
  {
   "cell_type": "code",
   "execution_count": 43,
   "id": "9f5ab4a5",
   "metadata": {
    "scrolled": true
   },
   "outputs": [
    {
     "data": {
      "text/html": [
       "<div>\n",
       "<style scoped>\n",
       "    .dataframe tbody tr th:only-of-type {\n",
       "        vertical-align: middle;\n",
       "    }\n",
       "\n",
       "    .dataframe tbody tr th {\n",
       "        vertical-align: top;\n",
       "    }\n",
       "\n",
       "    .dataframe thead th {\n",
       "        text-align: right;\n",
       "    }\n",
       "</style>\n",
       "<table border=\"1\" class=\"dataframe\">\n",
       "  <thead>\n",
       "    <tr style=\"text-align: right;\">\n",
       "      <th></th>\n",
       "      <th>total_items_in_lifetime</th>\n",
       "    </tr>\n",
       "    <tr>\n",
       "      <th>pet_owner</th>\n",
       "      <th></th>\n",
       "    </tr>\n",
       "  </thead>\n",
       "  <tbody>\n",
       "    <tr>\n",
       "      <th>False</th>\n",
       "      <td>28903972</td>\n",
       "    </tr>\n",
       "    <tr>\n",
       "      <th>True</th>\n",
       "      <td>3530517</td>\n",
       "    </tr>\n",
       "  </tbody>\n",
       "</table>\n",
       "</div>"
      ],
      "text/plain": [
       "           total_items_in_lifetime\n",
       "pet_owner                         \n",
       "False                     28903972\n",
       "True                       3530517"
      ]
     },
     "execution_count": 43,
     "metadata": {},
     "output_type": "execute_result"
    }
   ],
   "source": [
    "total_items"
   ]
  },
  {
   "cell_type": "markdown",
   "id": "5c483352",
   "metadata": {},
   "source": [
    "Pet owners purchase 10.9% of all items.  Since this comparable to the gross sales, we won't make an another visualization. "
   ]
  },
  {
   "cell_type": "code",
   "execution_count": 44,
   "id": "23ef883d",
   "metadata": {},
   "outputs": [],
   "source": [
    "#Reclaiming space\n",
    "del total_items"
   ]
  },
  {
   "cell_type": "markdown",
   "id": "3162df31",
   "metadata": {},
   "source": [
    "#### 0.6.1.D per order stats"
   ]
  },
  {
   "cell_type": "code",
   "execution_count": 60,
   "id": "4916a33f",
   "metadata": {},
   "outputs": [],
   "source": [
    "# Calculate the avg_items_per_order for those in the profile and out of it\n",
    "size_of_orders = pd.DataFrame(df_user_subset.groupby(profile).avg_items_per_order_by_user.mean())"
   ]
  },
  {
   "cell_type": "code",
   "execution_count": 61,
   "id": "0d33d4f6",
   "metadata": {
    "scrolled": true
   },
   "outputs": [
    {
     "data": {
      "text/html": [
       "<div>\n",
       "<style scoped>\n",
       "    .dataframe tbody tr th:only-of-type {\n",
       "        vertical-align: middle;\n",
       "    }\n",
       "\n",
       "    .dataframe tbody tr th {\n",
       "        vertical-align: top;\n",
       "    }\n",
       "\n",
       "    .dataframe thead th {\n",
       "        text-align: right;\n",
       "    }\n",
       "</style>\n",
       "<table border=\"1\" class=\"dataframe\">\n",
       "  <thead>\n",
       "    <tr style=\"text-align: right;\">\n",
       "      <th></th>\n",
       "      <th>avg_items_per_order_by_user</th>\n",
       "    </tr>\n",
       "    <tr>\n",
       "      <th>pet_owner</th>\n",
       "      <th></th>\n",
       "    </tr>\n",
       "  </thead>\n",
       "  <tbody>\n",
       "    <tr>\n",
       "      <th>False</th>\n",
       "      <td>9.80</td>\n",
       "    </tr>\n",
       "    <tr>\n",
       "      <th>True</th>\n",
       "      <td>11.91</td>\n",
       "    </tr>\n",
       "  </tbody>\n",
       "</table>\n",
       "</div>"
      ],
      "text/plain": [
       "           avg_items_per_order_by_user\n",
       "pet_owner                             \n",
       "False                             9.80\n",
       "True                             11.91"
      ]
     },
     "execution_count": 61,
     "metadata": {},
     "output_type": "execute_result"
    }
   ],
   "source": [
    "size_of_orders"
   ]
  },
  {
   "cell_type": "markdown",
   "id": "00a14b6d",
   "metadata": {},
   "source": [
    "Pet owners have orders that are (on average) 21.5% larger than other users."
   ]
  },
  {
   "cell_type": "code",
   "execution_count": 62,
   "id": "56f6d0c0",
   "metadata": {},
   "outputs": [],
   "source": [
    "# Reset the index so that the correct column headers will appear\n",
    "size_of_orders = pd.DataFrame(size_of_orders).reset_index()"
   ]
  },
  {
   "cell_type": "code",
   "execution_count": 63,
   "id": "b0ef26aa",
   "metadata": {},
   "outputs": [
    {
     "data": {
      "text/html": [
       "<div>\n",
       "<style scoped>\n",
       "    .dataframe tbody tr th:only-of-type {\n",
       "        vertical-align: middle;\n",
       "    }\n",
       "\n",
       "    .dataframe tbody tr th {\n",
       "        vertical-align: top;\n",
       "    }\n",
       "\n",
       "    .dataframe thead th {\n",
       "        text-align: right;\n",
       "    }\n",
       "</style>\n",
       "<table border=\"1\" class=\"dataframe\">\n",
       "  <thead>\n",
       "    <tr style=\"text-align: right;\">\n",
       "      <th></th>\n",
       "      <th>pet_owner</th>\n",
       "      <th>avg_items_per_order_by_user</th>\n",
       "    </tr>\n",
       "  </thead>\n",
       "  <tbody>\n",
       "    <tr>\n",
       "      <th>0</th>\n",
       "      <td>False</td>\n",
       "      <td>9.80</td>\n",
       "    </tr>\n",
       "    <tr>\n",
       "      <th>1</th>\n",
       "      <td>True</td>\n",
       "      <td>11.91</td>\n",
       "    </tr>\n",
       "  </tbody>\n",
       "</table>\n",
       "</div>"
      ],
      "text/plain": [
       "   pet_owner  avg_items_per_order_by_user\n",
       "0      False                         9.80\n",
       "1       True                        11.91"
      ]
     },
     "execution_count": 63,
     "metadata": {},
     "output_type": "execute_result"
    }
   ],
   "source": [
    "size_of_orders"
   ]
  },
  {
   "cell_type": "code",
   "execution_count": 64,
   "id": "1b71495a",
   "metadata": {},
   "outputs": [],
   "source": [
    "# Create a 'profile_flag' that allows for more descriptive labels in visualizations\n",
    "size_of_orders.loc[size_of_orders[profile] == True, 'profile_flag'] = profile_label\n",
    "size_of_orders.loc[size_of_orders[profile] == False, 'profile_flag'] = not_profile_label\n",
    "    "
   ]
  },
  {
   "cell_type": "code",
   "execution_count": 65,
   "id": "8388145a",
   "metadata": {},
   "outputs": [
    {
     "data": {
      "text/html": [
       "<div>\n",
       "<style scoped>\n",
       "    .dataframe tbody tr th:only-of-type {\n",
       "        vertical-align: middle;\n",
       "    }\n",
       "\n",
       "    .dataframe tbody tr th {\n",
       "        vertical-align: top;\n",
       "    }\n",
       "\n",
       "    .dataframe thead th {\n",
       "        text-align: right;\n",
       "    }\n",
       "</style>\n",
       "<table border=\"1\" class=\"dataframe\">\n",
       "  <thead>\n",
       "    <tr style=\"text-align: right;\">\n",
       "      <th></th>\n",
       "      <th>pet_owner</th>\n",
       "      <th>avg_items_per_order_by_user</th>\n",
       "      <th>profile_flag</th>\n",
       "    </tr>\n",
       "  </thead>\n",
       "  <tbody>\n",
       "    <tr>\n",
       "      <th>0</th>\n",
       "      <td>False</td>\n",
       "      <td>9.80</td>\n",
       "      <td>Other Users</td>\n",
       "    </tr>\n",
       "    <tr>\n",
       "      <th>1</th>\n",
       "      <td>True</td>\n",
       "      <td>11.91</td>\n",
       "      <td>Pet Owners</td>\n",
       "    </tr>\n",
       "  </tbody>\n",
       "</table>\n",
       "</div>"
      ],
      "text/plain": [
       "   pet_owner  avg_items_per_order_by_user profile_flag\n",
       "0      False                         9.80  Other Users\n",
       "1       True                        11.91   Pet Owners"
      ]
     },
     "execution_count": 65,
     "metadata": {},
     "output_type": "execute_result"
    }
   ],
   "source": [
    "size_of_orders"
   ]
  },
  {
   "cell_type": "code",
   "execution_count": 66,
   "id": "b7a3990a",
   "metadata": {},
   "outputs": [],
   "source": [
    "size_of_orders.set_index('profile_flag', drop=True, inplace=True)"
   ]
  },
  {
   "cell_type": "code",
   "execution_count": 67,
   "id": "00096761",
   "metadata": {},
   "outputs": [
    {
     "data": {
      "text/html": [
       "<div>\n",
       "<style scoped>\n",
       "    .dataframe tbody tr th:only-of-type {\n",
       "        vertical-align: middle;\n",
       "    }\n",
       "\n",
       "    .dataframe tbody tr th {\n",
       "        vertical-align: top;\n",
       "    }\n",
       "\n",
       "    .dataframe thead th {\n",
       "        text-align: right;\n",
       "    }\n",
       "</style>\n",
       "<table border=\"1\" class=\"dataframe\">\n",
       "  <thead>\n",
       "    <tr style=\"text-align: right;\">\n",
       "      <th></th>\n",
       "      <th>pet_owner</th>\n",
       "      <th>avg_items_per_order_by_user</th>\n",
       "    </tr>\n",
       "    <tr>\n",
       "      <th>profile_flag</th>\n",
       "      <th></th>\n",
       "      <th></th>\n",
       "    </tr>\n",
       "  </thead>\n",
       "  <tbody>\n",
       "    <tr>\n",
       "      <th>Other Users</th>\n",
       "      <td>False</td>\n",
       "      <td>9.80</td>\n",
       "    </tr>\n",
       "    <tr>\n",
       "      <th>Pet Owners</th>\n",
       "      <td>True</td>\n",
       "      <td>11.91</td>\n",
       "    </tr>\n",
       "  </tbody>\n",
       "</table>\n",
       "</div>"
      ],
      "text/plain": [
       "              pet_owner  avg_items_per_order_by_user\n",
       "profile_flag                                        \n",
       "Other Users       False                         9.80\n",
       "Pet Owners         True                        11.91"
      ]
     },
     "execution_count": 67,
     "metadata": {},
     "output_type": "execute_result"
    }
   ],
   "source": [
    "size_of_orders"
   ]
  },
  {
   "cell_type": "code",
   "execution_count": 73,
   "id": "660e0bf3",
   "metadata": {},
   "outputs": [
    {
     "data": {
      "text/plain": [
       "Text(0.5, 1.0, 'Pet owners place orders \\n21.5% larger than other users.')"
      ]
     },
     "execution_count": 73,
     "metadata": {},
     "output_type": "execute_result"
    },
    {
     "data": {
      "image/png": "[encoded data removed]",
      "text/plain": [
       "<Figure size 800x600 with 1 Axes>"
      ]
     },
     "metadata": {},
     "output_type": "display_data"
    }
   ],
   "source": [
    "# define x and y to be plotted\n",
    "x = labels_r\n",
    "y = size_of_orders['avg_items_per_order_by_user']\n",
    "\n",
    "# function to add value labels\n",
    "def addlabels(x,y):\n",
    "    for i in range(len(x)):\n",
    "        plt.text(i, y[i]//2, y[i], \n",
    "                 ha='center',\n",
    "                 size = 12)\n",
    "\n",
    "\n",
    "# Make a bar chart for size_of_orders\n",
    "bar = size_of_orders['avg_items_per_order_by_user'].plot(kind='bar', \n",
    "                                                         color=colors, \n",
    "                                                         figsize=(8,6))\n",
    "# call the function to add value labels\n",
    "addlabels(x,y)\n",
    "\n",
    "# Format margins so it isn't too crowded\n",
    "plt.subplots_adjust(top=0.8)\n",
    "plt.subplots_adjust(bottom=0.2)\n",
    "plt.subplots_adjust(left=0.2)\n",
    "\n",
    "# Format labels and titles for clarity\n",
    "\n",
    "plt.ylabel('Number of items in the average order', size=12)\n",
    "plt.xlabel('')\n",
    "plt.xticks(rotation=0)\n",
    "\n",
    "plt.title (\"Pet owners place orders \\n21.5% larger than other users.\", size=16)"
   ]
  },
  {
   "cell_type": "code",
   "execution_count": 74,
   "id": "8b3b09ee",
   "metadata": {},
   "outputs": [],
   "source": [
    "# Create filename for export\n",
    "filename = profile+'_avg_order_size_bar.png'"
   ]
  },
  {
   "cell_type": "code",
   "execution_count": 75,
   "id": "ae9042b0",
   "metadata": {},
   "outputs": [
    {
     "data": {
      "text/plain": [
       "'pet_owner_avg_order_size_bar.png'"
      ]
     },
     "execution_count": 75,
     "metadata": {},
     "output_type": "execute_result"
    }
   ],
   "source": [
    "filename"
   ]
  },
  {
   "cell_type": "code",
   "execution_count": 76,
   "id": "eac004f8",
   "metadata": {},
   "outputs": [],
   "source": [
    "# Exporting bar chart\n",
    "bar.figure.savefig(os.path.join(path, '04 Analysis','Visualizations', filename))"
   ]
  },
  {
   "cell_type": "code",
   "execution_count": 63,
   "id": "6992a0c2",
   "metadata": {},
   "outputs": [],
   "source": [
    "#Reclaiming space\n",
    "del size_of_orders"
   ]
  },
  {
   "cell_type": "markdown",
   "id": "806cc2df",
   "metadata": {},
   "source": [
    "### 0.6.2 demographics of this profile"
   ]
  },
  {
   "cell_type": "markdown",
   "id": "51d85f2e",
   "metadata": {},
   "source": [
    "#### 0.6.2.A income"
   ]
  },
  {
   "cell_type": "code",
   "execution_count": 64,
   "id": "3584a994",
   "metadata": {},
   "outputs": [],
   "source": [
    "# Create a temporary df to hold income statistics by profile group and not\n",
    "income_stats = df_user_subset.groupby('profile_flag').income.describe()"
   ]
  },
  {
   "cell_type": "code",
   "execution_count": 65,
   "id": "f31e263c",
   "metadata": {},
   "outputs": [
    {
     "data": {
      "text/html": [
       "<div>\n",
       "<style scoped>\n",
       "    .dataframe tbody tr th:only-of-type {\n",
       "        vertical-align: middle;\n",
       "    }\n",
       "\n",
       "    .dataframe tbody tr th {\n",
       "        vertical-align: top;\n",
       "    }\n",
       "\n",
       "    .dataframe thead th {\n",
       "        text-align: right;\n",
       "    }\n",
       "</style>\n",
       "<table border=\"1\" class=\"dataframe\">\n",
       "  <thead>\n",
       "    <tr style=\"text-align: right;\">\n",
       "      <th></th>\n",
       "      <th>count</th>\n",
       "      <th>mean</th>\n",
       "      <th>std</th>\n",
       "      <th>min</th>\n",
       "      <th>25%</th>\n",
       "      <th>50%</th>\n",
       "      <th>75%</th>\n",
       "      <th>max</th>\n",
       "    </tr>\n",
       "    <tr>\n",
       "      <th>profile_flag</th>\n",
       "      <th></th>\n",
       "      <th></th>\n",
       "      <th></th>\n",
       "      <th></th>\n",
       "      <th></th>\n",
       "      <th></th>\n",
       "      <th></th>\n",
       "      <th></th>\n",
       "    </tr>\n",
       "  </thead>\n",
       "  <tbody>\n",
       "    <tr>\n",
       "      <th>Other Users</th>\n",
       "      <td>191,223.00</td>\n",
       "      <td>94,096.50</td>\n",
       "      <td>42,110.53</td>\n",
       "      <td>25,903.00</td>\n",
       "      <td>59,343.50</td>\n",
       "      <td>93,214.00</td>\n",
       "      <td>123,699.00</td>\n",
       "      <td>593,901.00</td>\n",
       "    </tr>\n",
       "    <tr>\n",
       "      <th>Pet Owners</th>\n",
       "      <td>14,986.00</td>\n",
       "      <td>101,476.81</td>\n",
       "      <td>46,321.94</td>\n",
       "      <td>26,256.00</td>\n",
       "      <td>67,400.50</td>\n",
       "      <td>97,824.00</td>\n",
       "      <td>131,136.00</td>\n",
       "      <td>591,089.00</td>\n",
       "    </tr>\n",
       "  </tbody>\n",
       "</table>\n",
       "</div>"
      ],
      "text/plain": [
       "                  count       mean       std       min       25%       50%  \\\n",
       "profile_flag                                                                 \n",
       "Other Users  191,223.00  94,096.50 42,110.53 25,903.00 59,343.50 93,214.00   \n",
       "Pet Owners    14,986.00 101,476.81 46,321.94 26,256.00 67,400.50 97,824.00   \n",
       "\n",
       "                    75%        max  \n",
       "profile_flag                        \n",
       "Other Users  123,699.00 593,901.00  \n",
       "Pet Owners   131,136.00 591,089.00  "
      ]
     },
     "execution_count": 65,
     "metadata": {},
     "output_type": "execute_result"
    }
   ],
   "source": [
    "income_stats"
   ]
  },
  {
   "cell_type": "markdown",
   "id": "59f5cbca",
   "metadata": {},
   "source": [
    "Pet owners have a mean income that is roughly 7k bigger than other users. Their min/max incomes are within 2k of other users"
   ]
  },
  {
   "cell_type": "code",
   "execution_count": 66,
   "id": "1dfbef1a",
   "metadata": {},
   "outputs": [],
   "source": [
    "# Create temporary dfs to hold income by profile group for box-and-whiskers plot\n",
    "income_profile = df_user_subset['income'][df_user_subset['profile_flag']==profile_label]\n",
    "income_not_profile = df_user_subset['income'][df_user_subset['profile_flag']==not_profile_label]\n",
    "\n",
    "# Identify dfs to use for box-and-whisker-plots\n",
    "dataset = [income_not_profile, income_profile]"
   ]
  },
  {
   "cell_type": "code",
   "execution_count": 67,
   "id": "1f0734eb",
   "metadata": {},
   "outputs": [
    {
     "data": {
      "image/png": "[encoded data removed]",
      "text/plain": [
       "<Figure size 500x500 with 1 Axes>"
      ]
     },
     "metadata": {},
     "output_type": "display_data"
    }
   ],
   "source": [
    "# Create a box-and-whiskers plot of incomes, grouped by profile\n",
    "fig, ax = plt.subplots(figsize=(5, 5))\n",
    "\n",
    "# Remove top and side borders\n",
    "ax.spines['top'].set_visible(False)\n",
    "ax.spines['right'].set_visible(False)\n",
    "ax.spines['left'].set_visible(False)\n",
    "\n",
    "# Add major gridlines in the y-axis\n",
    "ax.grid(color='grey', \n",
    "        axis='y', \n",
    "        linestyle='-', \n",
    "        linewidth=0.25, \n",
    "        alpha=0.5)\n",
    "\n",
    "#Adjust the look of the boxplot\n",
    "flierprops = dict(marker='.', \n",
    "                  markerfacecolor='grey', \n",
    "                  markersize=10, \n",
    "                  linestyle='none')\n",
    "medianprops = dict(linestyle='-', \n",
    "                   linewidth=2, \n",
    "                   color='forestgreen')\n",
    "\n",
    "# Set plot title\n",
    "ax.set_title('Pet owner\\'s incomes appear simiar \\nto other users.', \n",
    "             color='forestgreen')\n",
    "ax.set_ylabel('Income')\n",
    "\n",
    "# Note: labels is defined at the beginning of 0.6\n",
    "\n",
    "# Create boxplot\n",
    "income_box = ax.boxplot(dataset, \n",
    "                        labels=labels_r,\n",
    "                        flierprops=flierprops, \n",
    "                        medianprops=medianprops)\n",
    "\n",
    "plt.show()"
   ]
  },
  {
   "cell_type": "code",
   "execution_count": 68,
   "id": "e44a9ef7",
   "metadata": {},
   "outputs": [],
   "source": [
    "# Reclaiming space\n",
    "del income_stats\n",
    "del income_profile\n",
    "del income_not_profile\n",
    "del dataset"
   ]
  },
  {
   "cell_type": "markdown",
   "id": "92f206df",
   "metadata": {},
   "source": [
    "#### 0.6.2.B income_groups"
   ]
  },
  {
   "cell_type": "code",
   "execution_count": 78,
   "id": "8be7fba7",
   "metadata": {},
   "outputs": [
    {
     "data": {
      "text/html": [
       "<div>\n",
       "<style scoped>\n",
       "    .dataframe tbody tr th:only-of-type {\n",
       "        vertical-align: middle;\n",
       "    }\n",
       "\n",
       "    .dataframe tbody tr th {\n",
       "        vertical-align: top;\n",
       "    }\n",
       "\n",
       "    .dataframe thead th {\n",
       "        text-align: right;\n",
       "    }\n",
       "</style>\n",
       "<table border=\"1\" class=\"dataframe\">\n",
       "  <thead>\n",
       "    <tr style=\"text-align: right;\">\n",
       "      <th>profile_flag</th>\n",
       "      <th>Other Users</th>\n",
       "      <th>Pet Owners</th>\n",
       "    </tr>\n",
       "    <tr>\n",
       "      <th>income_group</th>\n",
       "      <th></th>\n",
       "      <th></th>\n",
       "    </tr>\n",
       "  </thead>\n",
       "  <tbody>\n",
       "    <tr>\n",
       "      <th>Affluent</th>\n",
       "      <td>0.81</td>\n",
       "      <td>0.19</td>\n",
       "    </tr>\n",
       "    <tr>\n",
       "      <th>Low income</th>\n",
       "      <td>0.95</td>\n",
       "      <td>0.05</td>\n",
       "    </tr>\n",
       "    <tr>\n",
       "      <th>Middle class</th>\n",
       "      <td>0.92</td>\n",
       "      <td>0.08</td>\n",
       "    </tr>\n",
       "    <tr>\n",
       "      <th>Upper middle class</th>\n",
       "      <td>0.91</td>\n",
       "      <td>0.09</td>\n",
       "    </tr>\n",
       "  </tbody>\n",
       "</table>\n",
       "</div>"
      ],
      "text/plain": [
       "profile_flag        Other Users  Pet Owners\n",
       "income_group                               \n",
       "Affluent                   0.81        0.19\n",
       "Low income                 0.95        0.05\n",
       "Middle class               0.92        0.08\n",
       "Upper middle class         0.91        0.09"
      ]
     },
     "execution_count": 78,
     "metadata": {},
     "output_type": "execute_result"
    }
   ],
   "source": [
    "# Create a cross tabulation to show the proportions of the profile\n",
    "# members in each income_group\n",
    "cross_tab_prop_groups = pd.crosstab(index=df_user_subset['income_group'],\n",
    "                            columns=df_user_subset['profile_flag'],\n",
    "                            normalize='index')\n",
    "cross_tab_prop_groups"
   ]
  },
  {
   "cell_type": "markdown",
   "id": "6e491d30",
   "metadata": {},
   "source": [
    "Affluent users are more likely to own pets than other income groups.\n",
    "Additionally, pet owners are less likely to be low income."
   ]
  },
  {
   "cell_type": "code",
   "execution_count": 87,
   "id": "6b127ba7",
   "metadata": {},
   "outputs": [
    {
     "data": {
      "text/html": [
       "<div>\n",
       "<style scoped>\n",
       "    .dataframe tbody tr th:only-of-type {\n",
       "        vertical-align: middle;\n",
       "    }\n",
       "\n",
       "    .dataframe tbody tr th {\n",
       "        vertical-align: top;\n",
       "    }\n",
       "\n",
       "    .dataframe thead th {\n",
       "        text-align: right;\n",
       "    }\n",
       "</style>\n",
       "<table border=\"1\" class=\"dataframe\">\n",
       "  <thead>\n",
       "    <tr style=\"text-align: right;\">\n",
       "      <th>profile_flag</th>\n",
       "      <th>income_group</th>\n",
       "      <th>Other Users</th>\n",
       "      <th>Pet Owners</th>\n",
       "    </tr>\n",
       "  </thead>\n",
       "  <tbody>\n",
       "    <tr>\n",
       "      <th>0</th>\n",
       "      <td>Affluent</td>\n",
       "      <td>0.81</td>\n",
       "      <td>0.19</td>\n",
       "    </tr>\n",
       "    <tr>\n",
       "      <th>1</th>\n",
       "      <td>Low income</td>\n",
       "      <td>0.95</td>\n",
       "      <td>0.05</td>\n",
       "    </tr>\n",
       "    <tr>\n",
       "      <th>2</th>\n",
       "      <td>Middle class</td>\n",
       "      <td>0.92</td>\n",
       "      <td>0.08</td>\n",
       "    </tr>\n",
       "    <tr>\n",
       "      <th>3</th>\n",
       "      <td>Upper middle class</td>\n",
       "      <td>0.91</td>\n",
       "      <td>0.09</td>\n",
       "    </tr>\n",
       "  </tbody>\n",
       "</table>\n",
       "</div>"
      ],
      "text/plain": [
       "profile_flag        income_group  Other Users  Pet Owners\n",
       "0                       Affluent         0.81        0.19\n",
       "1                     Low income         0.95        0.05\n",
       "2                   Middle class         0.92        0.08\n",
       "3             Upper middle class         0.91        0.09"
      ]
     },
     "execution_count": 87,
     "metadata": {},
     "output_type": "execute_result"
    }
   ],
   "source": [
    "# Rearranging rows so they show up in the visualization correctly\n",
    "# First reset the index to allow swapping the loyalty_flag as well\n",
    "cross_tab_prop_groups = cross_tab_prop_groups.reset_index()\n",
    "cross_tab_prop_groups"
   ]
  },
  {
   "cell_type": "code",
   "execution_count": 88,
   "id": "43b02ea3",
   "metadata": {},
   "outputs": [
    {
     "data": {
      "text/html": [
       "<div>\n",
       "<style scoped>\n",
       "    .dataframe tbody tr th:only-of-type {\n",
       "        vertical-align: middle;\n",
       "    }\n",
       "\n",
       "    .dataframe tbody tr th {\n",
       "        vertical-align: top;\n",
       "    }\n",
       "\n",
       "    .dataframe thead th {\n",
       "        text-align: right;\n",
       "    }\n",
       "</style>\n",
       "<table border=\"1\" class=\"dataframe\">\n",
       "  <thead>\n",
       "    <tr style=\"text-align: right;\">\n",
       "      <th>profile_flag</th>\n",
       "      <th>income_group</th>\n",
       "      <th>Other Users</th>\n",
       "      <th>Pet Owners</th>\n",
       "    </tr>\n",
       "  </thead>\n",
       "  <tbody>\n",
       "    <tr>\n",
       "      <th>0</th>\n",
       "      <td>Affluent</td>\n",
       "      <td>0.81</td>\n",
       "      <td>0.19</td>\n",
       "    </tr>\n",
       "    <tr>\n",
       "      <th>1</th>\n",
       "      <td>Low income</td>\n",
       "      <td>0.95</td>\n",
       "      <td>0.05</td>\n",
       "    </tr>\n",
       "    <tr>\n",
       "      <th>2</th>\n",
       "      <td>Middle class</td>\n",
       "      <td>0.92</td>\n",
       "      <td>0.08</td>\n",
       "    </tr>\n",
       "    <tr>\n",
       "      <th>3</th>\n",
       "      <td>Upper middle class</td>\n",
       "      <td>0.91</td>\n",
       "      <td>0.09</td>\n",
       "    </tr>\n",
       "  </tbody>\n",
       "</table>\n",
       "</div>"
      ],
      "text/plain": [
       "profile_flag        income_group  Other Users  Pet Owners\n",
       "0                       Affluent         0.81        0.19\n",
       "1                     Low income         0.95        0.05\n",
       "2                   Middle class         0.92        0.08\n",
       "3             Upper middle class         0.91        0.09"
      ]
     },
     "execution_count": 88,
     "metadata": {},
     "output_type": "execute_result"
    }
   ],
   "source": [
    "# Create a temp copy of the df\n",
    "temp = pd.DataFrame()\n",
    "temp = cross_tab_prop_groups.copy()\n",
    "temp"
   ]
  },
  {
   "cell_type": "code",
   "execution_count": 89,
   "id": "8aab597a",
   "metadata": {},
   "outputs": [
    {
     "data": {
      "text/html": [
       "<div>\n",
       "<style scoped>\n",
       "    .dataframe tbody tr th:only-of-type {\n",
       "        vertical-align: middle;\n",
       "    }\n",
       "\n",
       "    .dataframe tbody tr th {\n",
       "        vertical-align: top;\n",
       "    }\n",
       "\n",
       "    .dataframe thead th {\n",
       "        text-align: right;\n",
       "    }\n",
       "</style>\n",
       "<table border=\"1\" class=\"dataframe\">\n",
       "  <thead>\n",
       "    <tr style=\"text-align: right;\">\n",
       "      <th>profile_flag</th>\n",
       "      <th>income_group</th>\n",
       "      <th>Other Users</th>\n",
       "      <th>Pet Owners</th>\n",
       "    </tr>\n",
       "  </thead>\n",
       "  <tbody>\n",
       "    <tr>\n",
       "      <th>0</th>\n",
       "      <td>Affluent</td>\n",
       "      <td>0.81</td>\n",
       "      <td>0.19</td>\n",
       "    </tr>\n",
       "    <tr>\n",
       "      <th>1</th>\n",
       "      <td>Upper middle class</td>\n",
       "      <td>0.91</td>\n",
       "      <td>0.09</td>\n",
       "    </tr>\n",
       "    <tr>\n",
       "      <th>2</th>\n",
       "      <td>Middle class</td>\n",
       "      <td>0.92</td>\n",
       "      <td>0.08</td>\n",
       "    </tr>\n",
       "    <tr>\n",
       "      <th>3</th>\n",
       "      <td>Low income</td>\n",
       "      <td>0.95</td>\n",
       "      <td>0.05</td>\n",
       "    </tr>\n",
       "  </tbody>\n",
       "</table>\n",
       "</div>"
      ],
      "text/plain": [
       "profile_flag        income_group  Other Users  Pet Owners\n",
       "0                       Affluent         0.81        0.19\n",
       "1             Upper middle class         0.91        0.09\n",
       "2                   Middle class         0.92        0.08\n",
       "3                     Low income         0.95        0.05"
      ]
     },
     "execution_count": 89,
     "metadata": {},
     "output_type": "execute_result"
    }
   ],
   "source": [
    "# Rearrange the rows into income order\n",
    "cross_tab_prop_groups.iloc[1] = temp.iloc[3].copy()\n",
    "cross_tab_prop_groups.iloc[3] = temp.iloc[1].copy()\n",
    "cross_tab_prop_groups"
   ]
  },
  {
   "cell_type": "code",
   "execution_count": 91,
   "id": "a73ffe4f",
   "metadata": {},
   "outputs": [
    {
     "data": {
      "text/html": [
       "<div>\n",
       "<style scoped>\n",
       "    .dataframe tbody tr th:only-of-type {\n",
       "        vertical-align: middle;\n",
       "    }\n",
       "\n",
       "    .dataframe tbody tr th {\n",
       "        vertical-align: top;\n",
       "    }\n",
       "\n",
       "    .dataframe thead th {\n",
       "        text-align: right;\n",
       "    }\n",
       "</style>\n",
       "<table border=\"1\" class=\"dataframe\">\n",
       "  <thead>\n",
       "    <tr style=\"text-align: right;\">\n",
       "      <th>profile_flag</th>\n",
       "      <th>Other Users</th>\n",
       "      <th>Pet Owners</th>\n",
       "    </tr>\n",
       "    <tr>\n",
       "      <th>income_group</th>\n",
       "      <th></th>\n",
       "      <th></th>\n",
       "    </tr>\n",
       "  </thead>\n",
       "  <tbody>\n",
       "    <tr>\n",
       "      <th>Affluent</th>\n",
       "      <td>0.81</td>\n",
       "      <td>0.19</td>\n",
       "    </tr>\n",
       "    <tr>\n",
       "      <th>Upper middle class</th>\n",
       "      <td>0.91</td>\n",
       "      <td>0.09</td>\n",
       "    </tr>\n",
       "    <tr>\n",
       "      <th>Middle class</th>\n",
       "      <td>0.92</td>\n",
       "      <td>0.08</td>\n",
       "    </tr>\n",
       "    <tr>\n",
       "      <th>Low income</th>\n",
       "      <td>0.95</td>\n",
       "      <td>0.05</td>\n",
       "    </tr>\n",
       "  </tbody>\n",
       "</table>\n",
       "</div>"
      ],
      "text/plain": [
       "profile_flag        Other Users  Pet Owners\n",
       "income_group                               \n",
       "Affluent                   0.81        0.19\n",
       "Upper middle class         0.91        0.09\n",
       "Middle class               0.92        0.08\n",
       "Low income                 0.95        0.05"
      ]
     },
     "execution_count": 91,
     "metadata": {},
     "output_type": "execute_result"
    }
   ],
   "source": [
    "# Return the index to being the loyalty_flag\n",
    "cross_tab_prop_groups = cross_tab_prop_groups.set_index('income_group')\n",
    "cross_tab_prop_groups"
   ]
  },
  {
   "cell_type": "code",
   "execution_count": 92,
   "id": "45b74a62",
   "metadata": {},
   "outputs": [
    {
     "data": {
      "image/png": "[encoded data removed]",
      "text/plain": [
       "<Figure size 1000x800 with 1 Axes>"
      ]
     },
     "metadata": {},
     "output_type": "display_data"
    }
   ],
   "source": [
    "# Create a stacked column plot showing the proportion \n",
    "# of pet_owners in each income_group.\n",
    "\n",
    "income_plot = cross_tab_prop_groups.plot(kind='barh',\n",
    "                   stacked=True,\n",
    "                   figsize=(10,8),\n",
    "                   color = colors)\n",
    "\n",
    "# Format margins so it isn't too crowded\n",
    "plt.subplots_adjust(top=0.8)\n",
    "plt.subplots_adjust(bottom=0.2)\n",
    "plt.subplots_adjust(left=0.2)\n",
    "\n",
    "# Format labels and titles for clarity\n",
    "plt.legend(loc='upper center', \n",
    "           ncol=2, \n",
    "           bbox_to_anchor=(0.5, 1.1))\n",
    "plt.xticks(rotation = 45)\n",
    "plt.xlabel('Proportion', size=12)\n",
    "plt.ylabel('Income groups', size=12)\n",
    "plt.title('Affluent users are more likely to be pet owners.\\n \\n.',\n",
    "         size=16)\n",
    "\n",
    "plt.show()"
   ]
  },
  {
   "cell_type": "code",
   "execution_count": 93,
   "id": "42a7c21c",
   "metadata": {},
   "outputs": [],
   "source": [
    "# Create filename for export\n",
    "filename = profile+'_income_group_bar.png'"
   ]
  },
  {
   "cell_type": "code",
   "execution_count": 94,
   "id": "fc0053b3",
   "metadata": {},
   "outputs": [
    {
     "data": {
      "text/plain": [
       "'pet_owner_income_group_bar.png'"
      ]
     },
     "execution_count": 94,
     "metadata": {},
     "output_type": "execute_result"
    }
   ],
   "source": [
    "filename"
   ]
  },
  {
   "cell_type": "code",
   "execution_count": 95,
   "id": "7421928c",
   "metadata": {},
   "outputs": [],
   "source": [
    "# Exporting bar chart\n",
    "income_plot.figure.savefig(os.path.join(path, '04 Analysis','Visualizations', filename))"
   ]
  },
  {
   "cell_type": "code",
   "execution_count": 76,
   "id": "639f7afd",
   "metadata": {},
   "outputs": [],
   "source": [
    "#Reclaiming space\n",
    "del cross_tab_prop_groups\n",
    "del cross_tab_prop_groups2"
   ]
  },
  {
   "cell_type": "markdown",
   "id": "01c16e1f",
   "metadata": {},
   "source": [
    "#### 0.6.2.C gender"
   ]
  },
  {
   "cell_type": "code",
   "execution_count": 77,
   "id": "ec8394ee",
   "metadata": {},
   "outputs": [
    {
     "data": {
      "text/html": [
       "<div>\n",
       "<style scoped>\n",
       "    .dataframe tbody tr th:only-of-type {\n",
       "        vertical-align: middle;\n",
       "    }\n",
       "\n",
       "    .dataframe tbody tr th {\n",
       "        vertical-align: top;\n",
       "    }\n",
       "\n",
       "    .dataframe thead th {\n",
       "        text-align: right;\n",
       "    }\n",
       "</style>\n",
       "<table border=\"1\" class=\"dataframe\">\n",
       "  <thead>\n",
       "    <tr style=\"text-align: right;\">\n",
       "      <th>gender</th>\n",
       "      <th>Female</th>\n",
       "      <th>Male</th>\n",
       "    </tr>\n",
       "    <tr>\n",
       "      <th>profile_flag</th>\n",
       "      <th></th>\n",
       "      <th></th>\n",
       "    </tr>\n",
       "  </thead>\n",
       "  <tbody>\n",
       "    <tr>\n",
       "      <th>Other Users</th>\n",
       "      <td>0.50</td>\n",
       "      <td>0.50</td>\n",
       "    </tr>\n",
       "    <tr>\n",
       "      <th>Pet Owners</th>\n",
       "      <td>0.50</td>\n",
       "      <td>0.50</td>\n",
       "    </tr>\n",
       "  </tbody>\n",
       "</table>\n",
       "</div>"
      ],
      "text/plain": [
       "gender        Female  Male\n",
       "profile_flag              \n",
       "Other Users     0.50  0.50\n",
       "Pet Owners      0.50  0.50"
      ]
     },
     "execution_count": 77,
     "metadata": {},
     "output_type": "execute_result"
    }
   ],
   "source": [
    "# Create a cross tabulation to show the proportions of the profile\n",
    "# members in each gender\n",
    "cross_tab_prop_groups = pd.crosstab(index=df_user_subset['profile_flag'],\n",
    "                            columns=df_user_subset['gender'],\n",
    "                            normalize='index')\n",
    "cross_tab_prop_groups"
   ]
  },
  {
   "cell_type": "markdown",
   "id": "b117e98a",
   "metadata": {},
   "source": [
    "Since it appears that both the profile group and not-profile group are split 50-50 across genders, this does not warrant a visualization. "
   ]
  },
  {
   "cell_type": "code",
   "execution_count": 78,
   "id": "940a6b72",
   "metadata": {},
   "outputs": [],
   "source": [
    "# Reclaiming space\n",
    "del cross_tab_prop_groups"
   ]
  },
  {
   "cell_type": "markdown",
   "id": "44f66030",
   "metadata": {},
   "source": [
    "#### 0.6.2.D region"
   ]
  },
  {
   "cell_type": "code",
   "execution_count": 79,
   "id": "e6fa8332",
   "metadata": {},
   "outputs": [
    {
     "data": {
      "text/html": [
       "<div>\n",
       "<style scoped>\n",
       "    .dataframe tbody tr th:only-of-type {\n",
       "        vertical-align: middle;\n",
       "    }\n",
       "\n",
       "    .dataframe tbody tr th {\n",
       "        vertical-align: top;\n",
       "    }\n",
       "\n",
       "    .dataframe thead th {\n",
       "        text-align: right;\n",
       "    }\n",
       "</style>\n",
       "<table border=\"1\" class=\"dataframe\">\n",
       "  <thead>\n",
       "    <tr style=\"text-align: right;\">\n",
       "      <th>profile_flag</th>\n",
       "      <th>Other Users</th>\n",
       "      <th>Pet Owners</th>\n",
       "    </tr>\n",
       "    <tr>\n",
       "      <th>region</th>\n",
       "      <th></th>\n",
       "      <th></th>\n",
       "    </tr>\n",
       "  </thead>\n",
       "  <tbody>\n",
       "    <tr>\n",
       "      <th>Midwest</th>\n",
       "      <td>0.93</td>\n",
       "      <td>0.07</td>\n",
       "    </tr>\n",
       "    <tr>\n",
       "      <th>Northeast</th>\n",
       "      <td>0.93</td>\n",
       "      <td>0.07</td>\n",
       "    </tr>\n",
       "    <tr>\n",
       "      <th>South</th>\n",
       "      <td>0.93</td>\n",
       "      <td>0.07</td>\n",
       "    </tr>\n",
       "    <tr>\n",
       "      <th>West</th>\n",
       "      <td>0.93</td>\n",
       "      <td>0.07</td>\n",
       "    </tr>\n",
       "  </tbody>\n",
       "</table>\n",
       "</div>"
      ],
      "text/plain": [
       "profile_flag  Other Users  Pet Owners\n",
       "region                               \n",
       "Midwest              0.93        0.07\n",
       "Northeast            0.93        0.07\n",
       "South                0.93        0.07\n",
       "West                 0.93        0.07"
      ]
     },
     "execution_count": 79,
     "metadata": {},
     "output_type": "execute_result"
    }
   ],
   "source": [
    "# Create a cross tabulation to show the proportions of the profile\n",
    "# members in each region\n",
    "cross_tab_prop_groups = pd.crosstab(index=df_user_subset['region'],\n",
    "                            columns=df_user_subset['profile_flag'],\n",
    "                            normalize='index')\n",
    "cross_tab_prop_groups"
   ]
  },
  {
   "cell_type": "code",
   "execution_count": 80,
   "id": "5d23ac8d",
   "metadata": {},
   "outputs": [
    {
     "data": {
      "text/html": [
       "<div>\n",
       "<style scoped>\n",
       "    .dataframe tbody tr th:only-of-type {\n",
       "        vertical-align: middle;\n",
       "    }\n",
       "\n",
       "    .dataframe tbody tr th {\n",
       "        vertical-align: top;\n",
       "    }\n",
       "\n",
       "    .dataframe thead th {\n",
       "        text-align: right;\n",
       "    }\n",
       "</style>\n",
       "<table border=\"1\" class=\"dataframe\">\n",
       "  <thead>\n",
       "    <tr style=\"text-align: right;\">\n",
       "      <th>region</th>\n",
       "      <th>Midwest</th>\n",
       "      <th>Northeast</th>\n",
       "      <th>South</th>\n",
       "      <th>West</th>\n",
       "    </tr>\n",
       "    <tr>\n",
       "      <th>profile_flag</th>\n",
       "      <th></th>\n",
       "      <th></th>\n",
       "      <th></th>\n",
       "      <th></th>\n",
       "    </tr>\n",
       "  </thead>\n",
       "  <tbody>\n",
       "    <tr>\n",
       "      <th>Other Users</th>\n",
       "      <td>0.24</td>\n",
       "      <td>0.18</td>\n",
       "      <td>0.33</td>\n",
       "      <td>0.25</td>\n",
       "    </tr>\n",
       "    <tr>\n",
       "      <th>Pet Owners</th>\n",
       "      <td>0.23</td>\n",
       "      <td>0.18</td>\n",
       "      <td>0.33</td>\n",
       "      <td>0.26</td>\n",
       "    </tr>\n",
       "  </tbody>\n",
       "</table>\n",
       "</div>"
      ],
      "text/plain": [
       "region        Midwest  Northeast  South  West\n",
       "profile_flag                                 \n",
       "Other Users      0.24       0.18   0.33  0.25\n",
       "Pet Owners       0.23       0.18   0.33  0.26"
      ]
     },
     "execution_count": 80,
     "metadata": {},
     "output_type": "execute_result"
    }
   ],
   "source": [
    "# Create a cross tabulation to show the proportions of the profile\n",
    "# members in each region\n",
    "cross_tab_prop_groups2 = pd.crosstab(index=df_user_subset['profile_flag'],\n",
    "                            columns=df_user_subset['region'],\n",
    "                            normalize='index')\n",
    "cross_tab_prop_groups2"
   ]
  },
  {
   "cell_type": "markdown",
   "id": "72176d6f",
   "metadata": {},
   "source": [
    "There are minimal difference by region for where the profile group is located"
   ]
  },
  {
   "cell_type": "code",
   "execution_count": 81,
   "id": "ca3bdb28",
   "metadata": {},
   "outputs": [],
   "source": [
    "#Reclaiming space\n",
    "del cross_tab_prop_groups\n",
    "del cross_tab_prop_groups2"
   ]
  },
  {
   "cell_type": "markdown",
   "id": "695ac877",
   "metadata": {},
   "source": [
    "#### 0.6.2.E fam_status"
   ]
  },
  {
   "cell_type": "code",
   "execution_count": 82,
   "id": "207c16a2",
   "metadata": {},
   "outputs": [
    {
     "data": {
      "text/html": [
       "<div>\n",
       "<style scoped>\n",
       "    .dataframe tbody tr th:only-of-type {\n",
       "        vertical-align: middle;\n",
       "    }\n",
       "\n",
       "    .dataframe tbody tr th {\n",
       "        vertical-align: top;\n",
       "    }\n",
       "\n",
       "    .dataframe thead th {\n",
       "        text-align: right;\n",
       "    }\n",
       "</style>\n",
       "<table border=\"1\" class=\"dataframe\">\n",
       "  <thead>\n",
       "    <tr style=\"text-align: right;\">\n",
       "      <th>profile_flag</th>\n",
       "      <th>Other Users</th>\n",
       "      <th>Pet Owners</th>\n",
       "    </tr>\n",
       "    <tr>\n",
       "      <th>fam_status</th>\n",
       "      <th></th>\n",
       "      <th></th>\n",
       "    </tr>\n",
       "  </thead>\n",
       "  <tbody>\n",
       "    <tr>\n",
       "      <th>divorced/widowed</th>\n",
       "      <td>0.93</td>\n",
       "      <td>0.07</td>\n",
       "    </tr>\n",
       "    <tr>\n",
       "      <th>living with parents and siblings</th>\n",
       "      <td>0.93</td>\n",
       "      <td>0.07</td>\n",
       "    </tr>\n",
       "    <tr>\n",
       "      <th>married</th>\n",
       "      <td>0.93</td>\n",
       "      <td>0.07</td>\n",
       "    </tr>\n",
       "    <tr>\n",
       "      <th>single</th>\n",
       "      <td>0.93</td>\n",
       "      <td>0.07</td>\n",
       "    </tr>\n",
       "  </tbody>\n",
       "</table>\n",
       "</div>"
      ],
      "text/plain": [
       "profile_flag                      Other Users  Pet Owners\n",
       "fam_status                                               \n",
       "divorced/widowed                         0.93        0.07\n",
       "living with parents and siblings         0.93        0.07\n",
       "married                                  0.93        0.07\n",
       "single                                   0.93        0.07"
      ]
     },
     "execution_count": 82,
     "metadata": {},
     "output_type": "execute_result"
    }
   ],
   "source": [
    "# Create a cross tabulation to show the proportions of the profile\n",
    "# members by fam_status\n",
    "cross_tab_prop_groups = pd.crosstab(index=df_user_subset['fam_status'],\n",
    "                            columns=df_user_subset['profile_flag'],\n",
    "                            normalize='index')\n",
    "cross_tab_prop_groups"
   ]
  },
  {
   "cell_type": "code",
   "execution_count": 83,
   "id": "3cbfe71c",
   "metadata": {},
   "outputs": [
    {
     "data": {
      "text/html": [
       "<div>\n",
       "<style scoped>\n",
       "    .dataframe tbody tr th:only-of-type {\n",
       "        vertical-align: middle;\n",
       "    }\n",
       "\n",
       "    .dataframe tbody tr th {\n",
       "        vertical-align: top;\n",
       "    }\n",
       "\n",
       "    .dataframe thead th {\n",
       "        text-align: right;\n",
       "    }\n",
       "</style>\n",
       "<table border=\"1\" class=\"dataframe\">\n",
       "  <thead>\n",
       "    <tr style=\"text-align: right;\">\n",
       "      <th>fam_status</th>\n",
       "      <th>divorced/widowed</th>\n",
       "      <th>living with parents and siblings</th>\n",
       "      <th>married</th>\n",
       "      <th>single</th>\n",
       "    </tr>\n",
       "    <tr>\n",
       "      <th>profile_flag</th>\n",
       "      <th></th>\n",
       "      <th></th>\n",
       "      <th></th>\n",
       "      <th></th>\n",
       "    </tr>\n",
       "  </thead>\n",
       "  <tbody>\n",
       "    <tr>\n",
       "      <th>Other Users</th>\n",
       "      <td>0.09</td>\n",
       "      <td>0.05</td>\n",
       "      <td>0.70</td>\n",
       "      <td>0.16</td>\n",
       "    </tr>\n",
       "    <tr>\n",
       "      <th>Pet Owners</th>\n",
       "      <td>0.08</td>\n",
       "      <td>0.05</td>\n",
       "      <td>0.71</td>\n",
       "      <td>0.16</td>\n",
       "    </tr>\n",
       "  </tbody>\n",
       "</table>\n",
       "</div>"
      ],
      "text/plain": [
       "fam_status    divorced/widowed  living with parents and siblings  married  \\\n",
       "profile_flag                                                                \n",
       "Other Users               0.09                              0.05     0.70   \n",
       "Pet Owners                0.08                              0.05     0.71   \n",
       "\n",
       "fam_status    single  \n",
       "profile_flag          \n",
       "Other Users     0.16  \n",
       "Pet Owners      0.16  "
      ]
     },
     "execution_count": 83,
     "metadata": {},
     "output_type": "execute_result"
    }
   ],
   "source": [
    "# Create a cross tabulation to show the proportions of the profile\n",
    "# members by fam_status\n",
    "cross_tab_prop_groups2 = pd.crosstab(index=df_user_subset['profile_flag'],\n",
    "                            columns=df_user_subset['fam_status'],\n",
    "                            normalize='index')\n",
    "cross_tab_prop_groups2"
   ]
  },
  {
   "cell_type": "markdown",
   "id": "b2e3ad0f",
   "metadata": {},
   "source": [
    "There are minimal differences between family status for this profile."
   ]
  },
  {
   "cell_type": "code",
   "execution_count": 84,
   "id": "dec3e302",
   "metadata": {},
   "outputs": [],
   "source": [
    "# Reclaim space\n",
    "del cross_tab_prop_groups\n",
    "del cross_tab_prop_groups2"
   ]
  },
  {
   "cell_type": "markdown",
   "id": "19bee8dd",
   "metadata": {},
   "source": [
    "#### 0.6.2.F n_dependants"
   ]
  },
  {
   "cell_type": "code",
   "execution_count": 85,
   "id": "2225d6c7",
   "metadata": {},
   "outputs": [
    {
     "data": {
      "text/html": [
       "<div>\n",
       "<style scoped>\n",
       "    .dataframe tbody tr th:only-of-type {\n",
       "        vertical-align: middle;\n",
       "    }\n",
       "\n",
       "    .dataframe tbody tr th {\n",
       "        vertical-align: top;\n",
       "    }\n",
       "\n",
       "    .dataframe thead th {\n",
       "        text-align: right;\n",
       "    }\n",
       "</style>\n",
       "<table border=\"1\" class=\"dataframe\">\n",
       "  <thead>\n",
       "    <tr style=\"text-align: right;\">\n",
       "      <th>n_dependants</th>\n",
       "      <th>0</th>\n",
       "      <th>1</th>\n",
       "      <th>2</th>\n",
       "      <th>3</th>\n",
       "    </tr>\n",
       "    <tr>\n",
       "      <th>profile_flag</th>\n",
       "      <th></th>\n",
       "      <th></th>\n",
       "      <th></th>\n",
       "      <th></th>\n",
       "    </tr>\n",
       "  </thead>\n",
       "  <tbody>\n",
       "    <tr>\n",
       "      <th>Other Users</th>\n",
       "      <td>0.25</td>\n",
       "      <td>0.25</td>\n",
       "      <td>0.25</td>\n",
       "      <td>0.25</td>\n",
       "    </tr>\n",
       "    <tr>\n",
       "      <th>Pet Owners</th>\n",
       "      <td>0.25</td>\n",
       "      <td>0.26</td>\n",
       "      <td>0.25</td>\n",
       "      <td>0.25</td>\n",
       "    </tr>\n",
       "  </tbody>\n",
       "</table>\n",
       "</div>"
      ],
      "text/plain": [
       "n_dependants    0    1    2    3\n",
       "profile_flag                    \n",
       "Other Users  0.25 0.25 0.25 0.25\n",
       "Pet Owners   0.25 0.26 0.25 0.25"
      ]
     },
     "execution_count": 85,
     "metadata": {},
     "output_type": "execute_result"
    }
   ],
   "source": [
    "# Create a cross tabulation to show the proportions of the profile\n",
    "# members with n_dependants\n",
    "cross_tab_prop_groups = pd.crosstab(index=df_user_subset['profile_flag'],\n",
    "                            columns=df_user_subset['n_dependants'],\n",
    "                            normalize='index')\n",
    "cross_tab_prop_groups"
   ]
  },
  {
   "cell_type": "markdown",
   "id": "1a19ac98",
   "metadata": {},
   "source": [
    "Pet owners are essentially split between having 0, 1, 2, or 3 children.\n",
    "This does not seem to warrent a visualization."
   ]
  },
  {
   "cell_type": "code",
   "execution_count": 86,
   "id": "cc985da3",
   "metadata": {},
   "outputs": [],
   "source": [
    "# Reclaim space\n",
    "del cross_tab_prop_groups"
   ]
  },
  {
   "cell_type": "markdown",
   "id": "75822677",
   "metadata": {},
   "source": [
    "### 0.6.3 what we know about their shopping habits"
   ]
  },
  {
   "cell_type": "markdown",
   "id": "23799778",
   "metadata": {},
   "source": [
    "#### 0.6.2.A loyalty_flag (based on max_order)"
   ]
  },
  {
   "cell_type": "code",
   "execution_count": 96,
   "id": "5f6327c9",
   "metadata": {},
   "outputs": [
    {
     "data": {
      "text/html": [
       "<div>\n",
       "<style scoped>\n",
       "    .dataframe tbody tr th:only-of-type {\n",
       "        vertical-align: middle;\n",
       "    }\n",
       "\n",
       "    .dataframe tbody tr th {\n",
       "        vertical-align: top;\n",
       "    }\n",
       "\n",
       "    .dataframe thead th {\n",
       "        text-align: right;\n",
       "    }\n",
       "</style>\n",
       "<table border=\"1\" class=\"dataframe\">\n",
       "  <thead>\n",
       "    <tr style=\"text-align: right;\">\n",
       "      <th>loyalty_flag</th>\n",
       "      <th>Loyal customer</th>\n",
       "      <th>New customer</th>\n",
       "      <th>Regular customer</th>\n",
       "    </tr>\n",
       "    <tr>\n",
       "      <th>profile_flag</th>\n",
       "      <th></th>\n",
       "      <th></th>\n",
       "      <th></th>\n",
       "    </tr>\n",
       "  </thead>\n",
       "  <tbody>\n",
       "    <tr>\n",
       "      <th>Other Users</th>\n",
       "      <td>0.08</td>\n",
       "      <td>0.56</td>\n",
       "      <td>0.37</td>\n",
       "    </tr>\n",
       "    <tr>\n",
       "      <th>Pet Owners</th>\n",
       "      <td>0.13</td>\n",
       "      <td>0.40</td>\n",
       "      <td>0.47</td>\n",
       "    </tr>\n",
       "  </tbody>\n",
       "</table>\n",
       "</div>"
      ],
      "text/plain": [
       "loyalty_flag  Loyal customer  New customer  Regular customer\n",
       "profile_flag                                                \n",
       "Other Users             0.08          0.56              0.37\n",
       "Pet Owners              0.13          0.40              0.47"
      ]
     },
     "execution_count": 96,
     "metadata": {},
     "output_type": "execute_result"
    }
   ],
   "source": [
    "# Create a cross tabulation to show the proportions of the profile\n",
    "# members with loyalty_flag\n",
    "cross_tab_prop_groups = pd.crosstab(index=df_user_subset['profile_flag'],\n",
    "                            columns=df_user_subset['loyalty_flag'],\n",
    "                            normalize='index')\n",
    "cross_tab_prop_groups"
   ]
  },
  {
   "cell_type": "markdown",
   "id": "b1dd53ef",
   "metadata": {},
   "source": [
    "13% of pet owners are loyal customers -- almost twice what we'd expect given their proportion in the user base.\n"
   ]
  },
  {
   "cell_type": "code",
   "execution_count": 127,
   "id": "aaf18503",
   "metadata": {},
   "outputs": [
    {
     "data": {
      "text/html": [
       "<div>\n",
       "<style scoped>\n",
       "    .dataframe tbody tr th:only-of-type {\n",
       "        vertical-align: middle;\n",
       "    }\n",
       "\n",
       "    .dataframe tbody tr th {\n",
       "        vertical-align: top;\n",
       "    }\n",
       "\n",
       "    .dataframe thead th {\n",
       "        text-align: right;\n",
       "    }\n",
       "</style>\n",
       "<table border=\"1\" class=\"dataframe\">\n",
       "  <thead>\n",
       "    <tr style=\"text-align: right;\">\n",
       "      <th>profile_flag</th>\n",
       "      <th>Other Users</th>\n",
       "      <th>Pet Owners</th>\n",
       "    </tr>\n",
       "    <tr>\n",
       "      <th>loyalty_flag</th>\n",
       "      <th></th>\n",
       "      <th></th>\n",
       "    </tr>\n",
       "  </thead>\n",
       "  <tbody>\n",
       "    <tr>\n",
       "      <th>Loyal customer</th>\n",
       "      <td>0.89</td>\n",
       "      <td>0.11</td>\n",
       "    </tr>\n",
       "    <tr>\n",
       "      <th>New customer</th>\n",
       "      <td>0.95</td>\n",
       "      <td>0.05</td>\n",
       "    </tr>\n",
       "    <tr>\n",
       "      <th>Regular customer</th>\n",
       "      <td>0.91</td>\n",
       "      <td>0.09</td>\n",
       "    </tr>\n",
       "  </tbody>\n",
       "</table>\n",
       "</div>"
      ],
      "text/plain": [
       "profile_flag      Other Users  Pet Owners\n",
       "loyalty_flag                             \n",
       "Loyal customer           0.89        0.11\n",
       "New customer             0.95        0.05\n",
       "Regular customer         0.91        0.09"
      ]
     },
     "execution_count": 127,
     "metadata": {},
     "output_type": "execute_result"
    }
   ],
   "source": [
    "# Create a cross tabulation to show the proportions of the profile\n",
    "# members with loyalty_flag\n",
    "cross_tab_prop_groups2 = pd.crosstab(index=df_user_subset['loyalty_flag'],\n",
    "                            columns=df_user_subset['profile_flag'],\n",
    "                            normalize='index')\n",
    "cross_tab_prop_groups2"
   ]
  },
  {
   "cell_type": "code",
   "execution_count": 128,
   "id": "50b70f88",
   "metadata": {},
   "outputs": [
    {
     "data": {
      "text/html": [
       "<div>\n",
       "<style scoped>\n",
       "    .dataframe tbody tr th:only-of-type {\n",
       "        vertical-align: middle;\n",
       "    }\n",
       "\n",
       "    .dataframe tbody tr th {\n",
       "        vertical-align: top;\n",
       "    }\n",
       "\n",
       "    .dataframe thead th {\n",
       "        text-align: right;\n",
       "    }\n",
       "</style>\n",
       "<table border=\"1\" class=\"dataframe\">\n",
       "  <thead>\n",
       "    <tr style=\"text-align: right;\">\n",
       "      <th>profile_flag</th>\n",
       "      <th>Other Users</th>\n",
       "      <th>Pet Owners</th>\n",
       "    </tr>\n",
       "    <tr>\n",
       "      <th>loyalty_flag</th>\n",
       "      <th></th>\n",
       "      <th></th>\n",
       "    </tr>\n",
       "  </thead>\n",
       "  <tbody>\n",
       "    <tr>\n",
       "      <th>Loyal customer</th>\n",
       "      <td>15066</td>\n",
       "      <td>1951</td>\n",
       "    </tr>\n",
       "    <tr>\n",
       "      <th>New customer</th>\n",
       "      <td>106334</td>\n",
       "      <td>5994</td>\n",
       "    </tr>\n",
       "    <tr>\n",
       "      <th>Regular customer</th>\n",
       "      <td>69823</td>\n",
       "      <td>7041</td>\n",
       "    </tr>\n",
       "  </tbody>\n",
       "</table>\n",
       "</div>"
      ],
      "text/plain": [
       "profile_flag      Other Users  Pet Owners\n",
       "loyalty_flag                             \n",
       "Loyal customer          15066        1951\n",
       "New customer           106334        5994\n",
       "Regular customer        69823        7041"
      ]
     },
     "execution_count": 128,
     "metadata": {},
     "output_type": "execute_result"
    }
   ],
   "source": [
    "# Create a cross tabulation with just the counts\n",
    "cross_tab = pd.crosstab(index=df_user_subset['loyalty_flag'],\n",
    "                       columns=df_user_subset['profile_flag'])\n",
    "\n",
    "cross_tab"
   ]
  },
  {
   "cell_type": "code",
   "execution_count": 163,
   "id": "902bd4fe",
   "metadata": {},
   "outputs": [
    {
     "data": {
      "image/png": "[encoded data removed]",
      "text/plain": [
       "<Figure size 700x600 with 1 Axes>"
      ]
     },
     "metadata": {},
     "output_type": "display_data"
    }
   ],
   "source": [
    "# Create a stacked column plot showing the proportion \n",
    "# of baby_parents in each loyalty_group.\n",
    "\n",
    "loyalty_plot = cross_tab_prop_groups.plot(kind='barh',\n",
    "                   stacked=True,\n",
    "                   figsize=(7,6),\n",
    "                   color=['darkgreen', 'mediumseagreen', '#C5EFBB'],\n",
    "                    width = 0.3)\n",
    "\n",
    "# Format margins so it isn't too crowded\n",
    "plt.subplots_adjust(top=0.8)\n",
    "plt.subplots_adjust(bottom=0.2)\n",
    "plt.subplots_adjust(left=0.2)\n",
    "\n",
    "# Format labels and titles for clarity\n",
    "plt.legend(loc='center', ncol=2)\n",
    "plt.xticks(rotation = 45)\n",
    "plt.xlabel('Proportion', size=16)\n",
    "plt.ylabel('')\n",
    "plt.title('Pet owners are loyal customers\\n at 1.5 times the expected rate.',\n",
    "         size=16)\n",
    "\n",
    "plt.show()"
   ]
  },
  {
   "cell_type": "code",
   "execution_count": 164,
   "id": "225aa6e8",
   "metadata": {},
   "outputs": [],
   "source": [
    "# Create filename for export\n",
    "filename = profile+'_loyalty_bar.png'"
   ]
  },
  {
   "cell_type": "code",
   "execution_count": 165,
   "id": "fc9c8cea",
   "metadata": {},
   "outputs": [
    {
     "data": {
      "text/plain": [
       "'pet_owner_loyalty_bar.png'"
      ]
     },
     "execution_count": 165,
     "metadata": {},
     "output_type": "execute_result"
    }
   ],
   "source": [
    "filename"
   ]
  },
  {
   "cell_type": "code",
   "execution_count": 166,
   "id": "dcdbbb45",
   "metadata": {},
   "outputs": [],
   "source": [
    "# Exporting bar chart\n",
    "loyalty_plot.figure.savefig(os.path.join(path, '04 Analysis','Visualizations', filename))"
   ]
  },
  {
   "cell_type": "code",
   "execution_count": 94,
   "id": "b5887479",
   "metadata": {},
   "outputs": [],
   "source": [
    "# Reclaiming space\n",
    "del cross_tab\n",
    "del cross_tab_prop_groups\n",
    "del cross_tab_prop_groups2"
   ]
  },
  {
   "cell_type": "markdown",
   "id": "6e431e29",
   "metadata": {},
   "source": [
    "#### 0.6.2.B low_activity_flag"
   ]
  },
  {
   "cell_type": "code",
   "execution_count": 95,
   "id": "89a4b0df",
   "metadata": {},
   "outputs": [
    {
     "data": {
      "text/html": [
       "<div>\n",
       "<style scoped>\n",
       "    .dataframe tbody tr th:only-of-type {\n",
       "        vertical-align: middle;\n",
       "    }\n",
       "\n",
       "    .dataframe tbody tr th {\n",
       "        vertical-align: top;\n",
       "    }\n",
       "\n",
       "    .dataframe thead th {\n",
       "        text-align: right;\n",
       "    }\n",
       "</style>\n",
       "<table border=\"1\" class=\"dataframe\">\n",
       "  <thead>\n",
       "    <tr style=\"text-align: right;\">\n",
       "      <th>low_activity_flag</th>\n",
       "      <th>False</th>\n",
       "      <th>True</th>\n",
       "    </tr>\n",
       "    <tr>\n",
       "      <th>profile_flag</th>\n",
       "      <th></th>\n",
       "      <th></th>\n",
       "    </tr>\n",
       "  </thead>\n",
       "  <tbody>\n",
       "    <tr>\n",
       "      <th>Other Users</th>\n",
       "      <td>0.78</td>\n",
       "      <td>0.22</td>\n",
       "    </tr>\n",
       "    <tr>\n",
       "      <th>Pet Owners</th>\n",
       "      <td>0.88</td>\n",
       "      <td>0.12</td>\n",
       "    </tr>\n",
       "  </tbody>\n",
       "</table>\n",
       "</div>"
      ],
      "text/plain": [
       "low_activity_flag  False  True\n",
       "profile_flag                  \n",
       "Other Users         0.78  0.22\n",
       "Pet Owners          0.88  0.12"
      ]
     },
     "execution_count": 95,
     "metadata": {},
     "output_type": "execute_result"
    }
   ],
   "source": [
    "# Create a cross tabulation to show the proportions of the profile\n",
    "# members with loyalty_flag\n",
    "cross_tab_prop_groups = pd.crosstab(index=df_user_subset['profile_flag'],\n",
    "                            columns=df_user_subset['low_activity_flag'],\n",
    "                            normalize='index')\n",
    "cross_tab_prop_groups"
   ]
  },
  {
   "cell_type": "markdown",
   "id": "e454e776",
   "metadata": {},
   "source": [
    "Pet owners are less likely to have a low_activity_flag.  "
   ]
  },
  {
   "cell_type": "code",
   "execution_count": 96,
   "id": "cf1d18c0",
   "metadata": {},
   "outputs": [],
   "source": [
    "# Reclaim space\n",
    "del cross_tab_prop_groups"
   ]
  },
  {
   "cell_type": "markdown",
   "id": "17314a96",
   "metadata": {},
   "source": [
    "#### 0.6.2.C spender_type (based on mean_spending)"
   ]
  },
  {
   "cell_type": "code",
   "execution_count": 97,
   "id": "2cecf16e",
   "metadata": {},
   "outputs": [
    {
     "data": {
      "text/html": [
       "<div>\n",
       "<style scoped>\n",
       "    .dataframe tbody tr th:only-of-type {\n",
       "        vertical-align: middle;\n",
       "    }\n",
       "\n",
       "    .dataframe tbody tr th {\n",
       "        vertical-align: top;\n",
       "    }\n",
       "\n",
       "    .dataframe thead th {\n",
       "        text-align: right;\n",
       "    }\n",
       "</style>\n",
       "<table border=\"1\" class=\"dataframe\">\n",
       "  <thead>\n",
       "    <tr style=\"text-align: right;\">\n",
       "      <th>spender_type</th>\n",
       "      <th>High spender</th>\n",
       "      <th>Low spender</th>\n",
       "    </tr>\n",
       "    <tr>\n",
       "      <th>profile_flag</th>\n",
       "      <th></th>\n",
       "      <th></th>\n",
       "    </tr>\n",
       "  </thead>\n",
       "  <tbody>\n",
       "    <tr>\n",
       "      <th>Other Users</th>\n",
       "      <td>0.02</td>\n",
       "      <td>0.98</td>\n",
       "    </tr>\n",
       "    <tr>\n",
       "      <th>Pet Owners</th>\n",
       "      <td>0.01</td>\n",
       "      <td>0.99</td>\n",
       "    </tr>\n",
       "  </tbody>\n",
       "</table>\n",
       "</div>"
      ],
      "text/plain": [
       "spender_type  High spender  Low spender\n",
       "profile_flag                           \n",
       "Other Users           0.02         0.98\n",
       "Pet Owners            0.01         0.99"
      ]
     },
     "execution_count": 97,
     "metadata": {},
     "output_type": "execute_result"
    }
   ],
   "source": [
    "# Create a cross tabulation to show the proportions of the profile\n",
    "# members with spender_type\n",
    "cross_tab_prop_groups = pd.crosstab(index=df_user_subset['profile_flag'],\n",
    "                            columns=df_user_subset['spender_type'],\n",
    "                            normalize='index')\n",
    "cross_tab_prop_groups"
   ]
  },
  {
   "cell_type": "code",
   "execution_count": 98,
   "id": "aa2f40b2",
   "metadata": {},
   "outputs": [
    {
     "data": {
      "text/html": [
       "<div>\n",
       "<style scoped>\n",
       "    .dataframe tbody tr th:only-of-type {\n",
       "        vertical-align: middle;\n",
       "    }\n",
       "\n",
       "    .dataframe tbody tr th {\n",
       "        vertical-align: top;\n",
       "    }\n",
       "\n",
       "    .dataframe thead th {\n",
       "        text-align: right;\n",
       "    }\n",
       "</style>\n",
       "<table border=\"1\" class=\"dataframe\">\n",
       "  <thead>\n",
       "    <tr style=\"text-align: right;\">\n",
       "      <th>profile_flag</th>\n",
       "      <th>Other Users</th>\n",
       "      <th>Pet Owners</th>\n",
       "    </tr>\n",
       "    <tr>\n",
       "      <th>spender_type</th>\n",
       "      <th></th>\n",
       "      <th></th>\n",
       "    </tr>\n",
       "  </thead>\n",
       "  <tbody>\n",
       "    <tr>\n",
       "      <th>High spender</th>\n",
       "      <td>0.97</td>\n",
       "      <td>0.03</td>\n",
       "    </tr>\n",
       "    <tr>\n",
       "      <th>Low spender</th>\n",
       "      <td>0.93</td>\n",
       "      <td>0.07</td>\n",
       "    </tr>\n",
       "  </tbody>\n",
       "</table>\n",
       "</div>"
      ],
      "text/plain": [
       "profile_flag  Other Users  Pet Owners\n",
       "spender_type                         \n",
       "High spender         0.97        0.03\n",
       "Low spender          0.93        0.07"
      ]
     },
     "execution_count": 98,
     "metadata": {},
     "output_type": "execute_result"
    }
   ],
   "source": [
    "# Create a cross tabulation to show the proportions of the profile\n",
    "# members with spender_type\n",
    "cross_tab_prop_groups = pd.crosstab(index=df_user_subset['spender_type'],\n",
    "                            columns=df_user_subset['profile_flag'],\n",
    "                            normalize='index')\n",
    "cross_tab_prop_groups"
   ]
  },
  {
   "cell_type": "markdown",
   "id": "ab34d423",
   "metadata": {},
   "source": [
    "The vast majority of pet owners are low spenders (just like the vast majority of other users) "
   ]
  },
  {
   "cell_type": "code",
   "execution_count": 99,
   "id": "fc010760",
   "metadata": {},
   "outputs": [],
   "source": [
    "# Reclaim space\n",
    "del cross_tab_prop_groups"
   ]
  },
  {
   "cell_type": "markdown",
   "id": "e261529c",
   "metadata": {},
   "source": [
    "#### 0.6.2.D frequent_shopper (based on median_days_since_ordering)"
   ]
  },
  {
   "cell_type": "code",
   "execution_count": 100,
   "id": "9a761de7",
   "metadata": {},
   "outputs": [
    {
     "data": {
      "text/html": [
       "<div>\n",
       "<style scoped>\n",
       "    .dataframe tbody tr th:only-of-type {\n",
       "        vertical-align: middle;\n",
       "    }\n",
       "\n",
       "    .dataframe tbody tr th {\n",
       "        vertical-align: top;\n",
       "    }\n",
       "\n",
       "    .dataframe thead th {\n",
       "        text-align: right;\n",
       "    }\n",
       "</style>\n",
       "<table border=\"1\" class=\"dataframe\">\n",
       "  <thead>\n",
       "    <tr style=\"text-align: right;\">\n",
       "      <th>frequent_shopper</th>\n",
       "      <th>Frequent customer</th>\n",
       "      <th>Non-frequent customer</th>\n",
       "      <th>Regular customer</th>\n",
       "    </tr>\n",
       "    <tr>\n",
       "      <th>profile_flag</th>\n",
       "      <th></th>\n",
       "      <th></th>\n",
       "      <th></th>\n",
       "    </tr>\n",
       "  </thead>\n",
       "  <tbody>\n",
       "    <tr>\n",
       "      <th>Other Users</th>\n",
       "      <td>0.41</td>\n",
       "      <td>0.28</td>\n",
       "      <td>0.31</td>\n",
       "    </tr>\n",
       "    <tr>\n",
       "      <th>Pet Owners</th>\n",
       "      <td>0.49</td>\n",
       "      <td>0.20</td>\n",
       "      <td>0.31</td>\n",
       "    </tr>\n",
       "  </tbody>\n",
       "</table>\n",
       "</div>"
      ],
      "text/plain": [
       "frequent_shopper  Frequent customer  Non-frequent customer  Regular customer\n",
       "profile_flag                                                                \n",
       "Other Users                    0.41                   0.28              0.31\n",
       "Pet Owners                     0.49                   0.20              0.31"
      ]
     },
     "execution_count": 100,
     "metadata": {},
     "output_type": "execute_result"
    }
   ],
   "source": [
    "# Create a cross tabulation to show the proportions of the profile\n",
    "# members with frequent_shopper\n",
    "cross_tab_prop_groups = pd.crosstab(index=df_user_subset['profile_flag'],\n",
    "                            columns=df_user_subset['frequent_shopper'],\n",
    "                            normalize='index')\n",
    "cross_tab_prop_groups"
   ]
  },
  {
   "cell_type": "markdown",
   "id": "4764e995",
   "metadata": {},
   "source": [
    "Pet owners are more likely to be frequent customers."
   ]
  },
  {
   "cell_type": "code",
   "execution_count": 101,
   "id": "ba3f0b0d",
   "metadata": {},
   "outputs": [
    {
     "data": {
      "image/png": "[encoded data removed]",
      "text/plain": [
       "<Figure size 1000x800 with 1 Axes>"
      ]
     },
     "metadata": {},
     "output_type": "display_data"
    }
   ],
   "source": [
    "# Create a stacked column plot showing the proportion \n",
    "# of senior_citizens in each income_group.\n",
    "\n",
    "frequency_plot = cross_tab_prop_groups.plot(kind='barh',\n",
    "                   stacked=True,\n",
    "                   figsize=(10,8),\n",
    "                   colormap='Accent')\n",
    "\n",
    "# Format margins so it isn't too crowded\n",
    "plt.subplots_adjust(top=0.8)\n",
    "plt.subplots_adjust(bottom=0.2)\n",
    "\n",
    "# Format labels and titles for clarity\n",
    "plt.legend(loc='upper center', ncol=2)\n",
    "plt.xticks(rotation = 45)\n",
    "plt.xlabel('Proportion', fontdict=font_sm_label)\n",
    "plt.ylabel('', fontdict=font_sm_label)\n",
    "plt.title('Pet owners are more likely to be frequent customers',\n",
    "         fontdict=font_title)\n",
    "\n",
    "plt.show()"
   ]
  },
  {
   "cell_type": "code",
   "execution_count": 102,
   "id": "27806ee4",
   "metadata": {},
   "outputs": [],
   "source": [
    "# Create filename for export\n",
    "filename = profile+'_frequency_bar.png'"
   ]
  },
  {
   "cell_type": "code",
   "execution_count": 103,
   "id": "bd1f0cca",
   "metadata": {},
   "outputs": [
    {
     "data": {
      "text/plain": [
       "'pet_owner_frequency_bar.png'"
      ]
     },
     "execution_count": 103,
     "metadata": {},
     "output_type": "execute_result"
    }
   ],
   "source": [
    "filename"
   ]
  },
  {
   "cell_type": "code",
   "execution_count": 104,
   "id": "e0ae8823",
   "metadata": {},
   "outputs": [],
   "source": [
    "# Exporting bar chart\n",
    "frequency_plot.figure.savefig(os.path.join(path, '04 Analysis','Visualizations', filename))"
   ]
  },
  {
   "cell_type": "code",
   "execution_count": 105,
   "id": "c4f33bf1",
   "metadata": {},
   "outputs": [],
   "source": [
    "# Reclaim space\n",
    "del cross_tab_prop_groups"
   ]
  },
  {
   "cell_type": "markdown",
   "id": "d2b1ece7",
   "metadata": {},
   "source": [
    "#### 0.6.2.E order_day_of_week"
   ]
  },
  {
   "cell_type": "code",
   "execution_count": 106,
   "id": "25f977d8",
   "metadata": {},
   "outputs": [
    {
     "data": {
      "text/html": [
       "<div>\n",
       "<style scoped>\n",
       "    .dataframe tbody tr th:only-of-type {\n",
       "        vertical-align: middle;\n",
       "    }\n",
       "\n",
       "    .dataframe tbody tr th {\n",
       "        vertical-align: top;\n",
       "    }\n",
       "\n",
       "    .dataframe thead th {\n",
       "        text-align: right;\n",
       "    }\n",
       "</style>\n",
       "<table border=\"1\" class=\"dataframe\">\n",
       "  <thead>\n",
       "    <tr style=\"text-align: right;\">\n",
       "      <th>order_day_of_week</th>\n",
       "      <th>0</th>\n",
       "      <th>1</th>\n",
       "      <th>2</th>\n",
       "      <th>3</th>\n",
       "      <th>4</th>\n",
       "      <th>5</th>\n",
       "      <th>6</th>\n",
       "    </tr>\n",
       "    <tr>\n",
       "      <th>pet_owner</th>\n",
       "      <th></th>\n",
       "      <th></th>\n",
       "      <th></th>\n",
       "      <th></th>\n",
       "      <th></th>\n",
       "      <th></th>\n",
       "      <th></th>\n",
       "    </tr>\n",
       "  </thead>\n",
       "  <tbody>\n",
       "    <tr>\n",
       "      <th>False</th>\n",
       "      <td>0.19</td>\n",
       "      <td>0.18</td>\n",
       "      <td>0.13</td>\n",
       "      <td>0.12</td>\n",
       "      <td>0.12</td>\n",
       "      <td>0.13</td>\n",
       "      <td>0.14</td>\n",
       "    </tr>\n",
       "    <tr>\n",
       "      <th>True</th>\n",
       "      <td>0.19</td>\n",
       "      <td>0.16</td>\n",
       "      <td>0.13</td>\n",
       "      <td>0.12</td>\n",
       "      <td>0.12</td>\n",
       "      <td>0.13</td>\n",
       "      <td>0.15</td>\n",
       "    </tr>\n",
       "  </tbody>\n",
       "</table>\n",
       "</div>"
      ],
      "text/plain": [
       "order_day_of_week    0    1    2    3    4    5    6\n",
       "pet_owner                                           \n",
       "False             0.19 0.18 0.13 0.12 0.12 0.13 0.14\n",
       "True              0.19 0.16 0.13 0.12 0.12 0.13 0.15"
      ]
     },
     "execution_count": 106,
     "metadata": {},
     "output_type": "execute_result"
    }
   ],
   "source": [
    "# Create a cross tabulation to show the proportions of the profile\n",
    "# members with order_day_of_week\n",
    "cross_tab_prop_groups = pd.crosstab(index=df[profile],\n",
    "                            columns=df['order_day_of_week'],\n",
    "                            normalize='index')\n",
    "cross_tab_prop_groups"
   ]
  },
  {
   "cell_type": "markdown",
   "id": "e321f280",
   "metadata": {},
   "source": [
    "Since there is minimal difference in the day of the week when a user orders based on whether someone is in this profile or not, there is no reason to do a visualization. "
   ]
  },
  {
   "cell_type": "code",
   "execution_count": 107,
   "id": "e3bd6893",
   "metadata": {},
   "outputs": [],
   "source": [
    "# Reclaim space\n",
    "del cross_tab_prop_groups"
   ]
  },
  {
   "cell_type": "markdown",
   "id": "ba26f3bc",
   "metadata": {},
   "source": [
    "#### 0.6.2.F order_hour_of_day"
   ]
  },
  {
   "cell_type": "code",
   "execution_count": 108,
   "id": "38422c0b",
   "metadata": {},
   "outputs": [
    {
     "data": {
      "text/html": [
       "<div>\n",
       "<style scoped>\n",
       "    .dataframe tbody tr th:only-of-type {\n",
       "        vertical-align: middle;\n",
       "    }\n",
       "\n",
       "    .dataframe tbody tr th {\n",
       "        vertical-align: top;\n",
       "    }\n",
       "\n",
       "    .dataframe thead th {\n",
       "        text-align: right;\n",
       "    }\n",
       "</style>\n",
       "<table border=\"1\" class=\"dataframe\">\n",
       "  <thead>\n",
       "    <tr style=\"text-align: right;\">\n",
       "      <th>order_hour_of_day</th>\n",
       "      <th>0</th>\n",
       "      <th>1</th>\n",
       "      <th>2</th>\n",
       "      <th>3</th>\n",
       "      <th>4</th>\n",
       "      <th>5</th>\n",
       "      <th>6</th>\n",
       "      <th>7</th>\n",
       "      <th>8</th>\n",
       "      <th>9</th>\n",
       "      <th>...</th>\n",
       "      <th>14</th>\n",
       "      <th>15</th>\n",
       "      <th>16</th>\n",
       "      <th>17</th>\n",
       "      <th>18</th>\n",
       "      <th>19</th>\n",
       "      <th>20</th>\n",
       "      <th>21</th>\n",
       "      <th>22</th>\n",
       "      <th>23</th>\n",
       "    </tr>\n",
       "    <tr>\n",
       "      <th>pet_owner</th>\n",
       "      <th></th>\n",
       "      <th></th>\n",
       "      <th></th>\n",
       "      <th></th>\n",
       "      <th></th>\n",
       "      <th></th>\n",
       "      <th></th>\n",
       "      <th></th>\n",
       "      <th></th>\n",
       "      <th></th>\n",
       "      <th></th>\n",
       "      <th></th>\n",
       "      <th></th>\n",
       "      <th></th>\n",
       "      <th></th>\n",
       "      <th></th>\n",
       "      <th></th>\n",
       "      <th></th>\n",
       "      <th></th>\n",
       "      <th></th>\n",
       "      <th></th>\n",
       "    </tr>\n",
       "  </thead>\n",
       "  <tbody>\n",
       "    <tr>\n",
       "      <th>False</th>\n",
       "      <td>0.01</td>\n",
       "      <td>0.00</td>\n",
       "      <td>0.00</td>\n",
       "      <td>0.00</td>\n",
       "      <td>0.00</td>\n",
       "      <td>0.00</td>\n",
       "      <td>0.01</td>\n",
       "      <td>0.03</td>\n",
       "      <td>0.05</td>\n",
       "      <td>0.08</td>\n",
       "      <td>...</td>\n",
       "      <td>0.08</td>\n",
       "      <td>0.08</td>\n",
       "      <td>0.08</td>\n",
       "      <td>0.06</td>\n",
       "      <td>0.05</td>\n",
       "      <td>0.04</td>\n",
       "      <td>0.03</td>\n",
       "      <td>0.03</td>\n",
       "      <td>0.02</td>\n",
       "      <td>0.01</td>\n",
       "    </tr>\n",
       "    <tr>\n",
       "      <th>True</th>\n",
       "      <td>0.01</td>\n",
       "      <td>0.00</td>\n",
       "      <td>0.00</td>\n",
       "      <td>0.00</td>\n",
       "      <td>0.00</td>\n",
       "      <td>0.00</td>\n",
       "      <td>0.01</td>\n",
       "      <td>0.03</td>\n",
       "      <td>0.05</td>\n",
       "      <td>0.07</td>\n",
       "      <td>...</td>\n",
       "      <td>0.08</td>\n",
       "      <td>0.09</td>\n",
       "      <td>0.08</td>\n",
       "      <td>0.07</td>\n",
       "      <td>0.06</td>\n",
       "      <td>0.04</td>\n",
       "      <td>0.03</td>\n",
       "      <td>0.02</td>\n",
       "      <td>0.02</td>\n",
       "      <td>0.01</td>\n",
       "    </tr>\n",
       "  </tbody>\n",
       "</table>\n",
       "<p>2 rows × 24 columns</p>\n",
       "</div>"
      ],
      "text/plain": [
       "order_hour_of_day   0    1    2    3    4    5    6    7    8    9   ...   14  \\\n",
       "pet_owner                                                            ...        \n",
       "False             0.01 0.00 0.00 0.00 0.00 0.00 0.01 0.03 0.05 0.08  ... 0.08   \n",
       "True              0.01 0.00 0.00 0.00 0.00 0.00 0.01 0.03 0.05 0.07  ... 0.08   \n",
       "\n",
       "order_hour_of_day   15   16   17   18   19   20   21   22   23  \n",
       "pet_owner                                                       \n",
       "False             0.08 0.08 0.06 0.05 0.04 0.03 0.03 0.02 0.01  \n",
       "True              0.09 0.08 0.07 0.06 0.04 0.03 0.02 0.02 0.01  \n",
       "\n",
       "[2 rows x 24 columns]"
      ]
     },
     "execution_count": 108,
     "metadata": {},
     "output_type": "execute_result"
    }
   ],
   "source": [
    "# Create a cross tabulation to show the proportions of the profile\n",
    "# members with order_hour_of_day\n",
    "cross_tab_prop_groups = pd.crosstab(index=df[profile],\n",
    "                            columns=df['order_hour_of_day'],\n",
    "                            normalize='index')\n",
    "cross_tab_prop_groups"
   ]
  },
  {
   "cell_type": "code",
   "execution_count": 109,
   "id": "17cca20c",
   "metadata": {},
   "outputs": [
    {
     "data": {
      "text/html": [
       "<div>\n",
       "<style scoped>\n",
       "    .dataframe tbody tr th:only-of-type {\n",
       "        vertical-align: middle;\n",
       "    }\n",
       "\n",
       "    .dataframe tbody tr th {\n",
       "        vertical-align: top;\n",
       "    }\n",
       "\n",
       "    .dataframe thead th {\n",
       "        text-align: right;\n",
       "    }\n",
       "</style>\n",
       "<table border=\"1\" class=\"dataframe\">\n",
       "  <thead>\n",
       "    <tr style=\"text-align: right;\">\n",
       "      <th>pet_owner</th>\n",
       "      <th>False</th>\n",
       "      <th>True</th>\n",
       "    </tr>\n",
       "    <tr>\n",
       "      <th>order_hour_of_day</th>\n",
       "      <th></th>\n",
       "      <th></th>\n",
       "    </tr>\n",
       "  </thead>\n",
       "  <tbody>\n",
       "    <tr>\n",
       "      <th>0</th>\n",
       "      <td>0.01</td>\n",
       "      <td>0.01</td>\n",
       "    </tr>\n",
       "    <tr>\n",
       "      <th>1</th>\n",
       "      <td>0.00</td>\n",
       "      <td>0.00</td>\n",
       "    </tr>\n",
       "    <tr>\n",
       "      <th>2</th>\n",
       "      <td>0.00</td>\n",
       "      <td>0.00</td>\n",
       "    </tr>\n",
       "    <tr>\n",
       "      <th>3</th>\n",
       "      <td>0.00</td>\n",
       "      <td>0.00</td>\n",
       "    </tr>\n",
       "    <tr>\n",
       "      <th>4</th>\n",
       "      <td>0.00</td>\n",
       "      <td>0.00</td>\n",
       "    </tr>\n",
       "    <tr>\n",
       "      <th>5</th>\n",
       "      <td>0.00</td>\n",
       "      <td>0.00</td>\n",
       "    </tr>\n",
       "    <tr>\n",
       "      <th>6</th>\n",
       "      <td>0.01</td>\n",
       "      <td>0.01</td>\n",
       "    </tr>\n",
       "    <tr>\n",
       "      <th>7</th>\n",
       "      <td>0.03</td>\n",
       "      <td>0.03</td>\n",
       "    </tr>\n",
       "    <tr>\n",
       "      <th>8</th>\n",
       "      <td>0.05</td>\n",
       "      <td>0.05</td>\n",
       "    </tr>\n",
       "    <tr>\n",
       "      <th>9</th>\n",
       "      <td>0.08</td>\n",
       "      <td>0.07</td>\n",
       "    </tr>\n",
       "    <tr>\n",
       "      <th>10</th>\n",
       "      <td>0.09</td>\n",
       "      <td>0.08</td>\n",
       "    </tr>\n",
       "    <tr>\n",
       "      <th>11</th>\n",
       "      <td>0.08</td>\n",
       "      <td>0.08</td>\n",
       "    </tr>\n",
       "    <tr>\n",
       "      <th>12</th>\n",
       "      <td>0.08</td>\n",
       "      <td>0.08</td>\n",
       "    </tr>\n",
       "    <tr>\n",
       "      <th>13</th>\n",
       "      <td>0.08</td>\n",
       "      <td>0.08</td>\n",
       "    </tr>\n",
       "    <tr>\n",
       "      <th>14</th>\n",
       "      <td>0.08</td>\n",
       "      <td>0.08</td>\n",
       "    </tr>\n",
       "    <tr>\n",
       "      <th>15</th>\n",
       "      <td>0.08</td>\n",
       "      <td>0.09</td>\n",
       "    </tr>\n",
       "    <tr>\n",
       "      <th>16</th>\n",
       "      <td>0.08</td>\n",
       "      <td>0.08</td>\n",
       "    </tr>\n",
       "    <tr>\n",
       "      <th>17</th>\n",
       "      <td>0.06</td>\n",
       "      <td>0.07</td>\n",
       "    </tr>\n",
       "    <tr>\n",
       "      <th>18</th>\n",
       "      <td>0.05</td>\n",
       "      <td>0.06</td>\n",
       "    </tr>\n",
       "    <tr>\n",
       "      <th>19</th>\n",
       "      <td>0.04</td>\n",
       "      <td>0.04</td>\n",
       "    </tr>\n",
       "    <tr>\n",
       "      <th>20</th>\n",
       "      <td>0.03</td>\n",
       "      <td>0.03</td>\n",
       "    </tr>\n",
       "    <tr>\n",
       "      <th>21</th>\n",
       "      <td>0.03</td>\n",
       "      <td>0.02</td>\n",
       "    </tr>\n",
       "    <tr>\n",
       "      <th>22</th>\n",
       "      <td>0.02</td>\n",
       "      <td>0.02</td>\n",
       "    </tr>\n",
       "    <tr>\n",
       "      <th>23</th>\n",
       "      <td>0.01</td>\n",
       "      <td>0.01</td>\n",
       "    </tr>\n",
       "  </tbody>\n",
       "</table>\n",
       "</div>"
      ],
      "text/plain": [
       "pet_owner          False  True\n",
       "order_hour_of_day             \n",
       "0                   0.01  0.01\n",
       "1                   0.00  0.00\n",
       "2                   0.00  0.00\n",
       "3                   0.00  0.00\n",
       "4                   0.00  0.00\n",
       "5                   0.00  0.00\n",
       "6                   0.01  0.01\n",
       "7                   0.03  0.03\n",
       "8                   0.05  0.05\n",
       "9                   0.08  0.07\n",
       "10                  0.09  0.08\n",
       "11                  0.08  0.08\n",
       "12                  0.08  0.08\n",
       "13                  0.08  0.08\n",
       "14                  0.08  0.08\n",
       "15                  0.08  0.09\n",
       "16                  0.08  0.08\n",
       "17                  0.06  0.07\n",
       "18                  0.05  0.06\n",
       "19                  0.04  0.04\n",
       "20                  0.03  0.03\n",
       "21                  0.03  0.02\n",
       "22                  0.02  0.02\n",
       "23                  0.01  0.01"
      ]
     },
     "execution_count": 109,
     "metadata": {},
     "output_type": "execute_result"
    }
   ],
   "source": [
    "# Transpose the data to allow for easier examination\n",
    "cross_tab_prop_groups.transpose()"
   ]
  },
  {
   "cell_type": "markdown",
   "id": "fbc3d8b4",
   "metadata": {},
   "source": [
    "Since there is minimal difference in the hour of day when a user orders based on whether someone is in this profile or not, there is no reason to do a visualization. "
   ]
  },
  {
   "cell_type": "code",
   "execution_count": 110,
   "id": "0dce6588",
   "metadata": {},
   "outputs": [],
   "source": [
    "# Reclaim space\n",
    "del cross_tab_prop_groups"
   ]
  },
  {
   "cell_type": "markdown",
   "id": "ad4581a2",
   "metadata": {},
   "source": [
    "#### 0.6.2.G most popular departments by number of items"
   ]
  },
  {
   "cell_type": "code",
   "execution_count": 111,
   "id": "320f0397",
   "metadata": {},
   "outputs": [
    {
     "data": {
      "text/html": [
       "<div>\n",
       "<style scoped>\n",
       "    .dataframe tbody tr th:only-of-type {\n",
       "        vertical-align: middle;\n",
       "    }\n",
       "\n",
       "    .dataframe tbody tr th {\n",
       "        vertical-align: top;\n",
       "    }\n",
       "\n",
       "    .dataframe thead th {\n",
       "        text-align: right;\n",
       "    }\n",
       "</style>\n",
       "<table border=\"1\" class=\"dataframe\">\n",
       "  <thead>\n",
       "    <tr style=\"text-align: right;\">\n",
       "      <th>department_id</th>\n",
       "      <th>1.00</th>\n",
       "      <th>2.00</th>\n",
       "      <th>3.00</th>\n",
       "      <th>4.00</th>\n",
       "      <th>5.00</th>\n",
       "      <th>6.00</th>\n",
       "      <th>7.00</th>\n",
       "      <th>8.00</th>\n",
       "      <th>9.00</th>\n",
       "      <th>10.00</th>\n",
       "      <th>...</th>\n",
       "      <th>12.00</th>\n",
       "      <th>13.00</th>\n",
       "      <th>14.00</th>\n",
       "      <th>15.00</th>\n",
       "      <th>16.00</th>\n",
       "      <th>17.00</th>\n",
       "      <th>18.00</th>\n",
       "      <th>19.00</th>\n",
       "      <th>20.00</th>\n",
       "      <th>21.00</th>\n",
       "    </tr>\n",
       "    <tr>\n",
       "      <th>pet_owner</th>\n",
       "      <th></th>\n",
       "      <th></th>\n",
       "      <th></th>\n",
       "      <th></th>\n",
       "      <th></th>\n",
       "      <th></th>\n",
       "      <th></th>\n",
       "      <th></th>\n",
       "      <th></th>\n",
       "      <th></th>\n",
       "      <th></th>\n",
       "      <th></th>\n",
       "      <th></th>\n",
       "      <th></th>\n",
       "      <th></th>\n",
       "      <th></th>\n",
       "      <th></th>\n",
       "      <th></th>\n",
       "      <th></th>\n",
       "      <th></th>\n",
       "      <th></th>\n",
       "    </tr>\n",
       "  </thead>\n",
       "  <tbody>\n",
       "    <tr>\n",
       "      <th>False</th>\n",
       "      <td>0.07</td>\n",
       "      <td>0.00</td>\n",
       "      <td>0.04</td>\n",
       "      <td>0.30</td>\n",
       "      <td>0.00</td>\n",
       "      <td>0.01</td>\n",
       "      <td>0.08</td>\n",
       "      <td>0.00</td>\n",
       "      <td>0.03</td>\n",
       "      <td>0.00</td>\n",
       "      <td>...</td>\n",
       "      <td>0.02</td>\n",
       "      <td>0.06</td>\n",
       "      <td>0.02</td>\n",
       "      <td>0.03</td>\n",
       "      <td>0.17</td>\n",
       "      <td>0.02</td>\n",
       "      <td>0.01</td>\n",
       "      <td>0.09</td>\n",
       "      <td>0.03</td>\n",
       "      <td>0.00</td>\n",
       "    </tr>\n",
       "    <tr>\n",
       "      <th>True</th>\n",
       "      <td>0.08</td>\n",
       "      <td>0.00</td>\n",
       "      <td>0.04</td>\n",
       "      <td>0.22</td>\n",
       "      <td>0.01</td>\n",
       "      <td>0.01</td>\n",
       "      <td>0.09</td>\n",
       "      <td>0.03</td>\n",
       "      <td>0.03</td>\n",
       "      <td>0.00</td>\n",
       "      <td>...</td>\n",
       "      <td>0.02</td>\n",
       "      <td>0.06</td>\n",
       "      <td>0.02</td>\n",
       "      <td>0.04</td>\n",
       "      <td>0.15</td>\n",
       "      <td>0.04</td>\n",
       "      <td>0.01</td>\n",
       "      <td>0.09</td>\n",
       "      <td>0.03</td>\n",
       "      <td>0.00</td>\n",
       "    </tr>\n",
       "  </tbody>\n",
       "</table>\n",
       "<p>2 rows × 21 columns</p>\n",
       "</div>"
      ],
      "text/plain": [
       "department_id  1.00   2.00   3.00   4.00   5.00   6.00   7.00   8.00   9.00   \\\n",
       "pet_owner                                                                      \n",
       "False           0.07   0.00   0.04   0.30   0.00   0.01   0.08   0.00   0.03   \n",
       "True            0.08   0.00   0.04   0.22   0.01   0.01   0.09   0.03   0.03   \n",
       "\n",
       "department_id  10.00  ...  12.00  13.00  14.00  15.00  16.00  17.00  18.00  \\\n",
       "pet_owner             ...                                                    \n",
       "False           0.00  ...   0.02   0.06   0.02   0.03   0.17   0.02   0.01   \n",
       "True            0.00  ...   0.02   0.06   0.02   0.04   0.15   0.04   0.01   \n",
       "\n",
       "department_id  19.00  20.00  21.00  \n",
       "pet_owner                           \n",
       "False           0.09   0.03   0.00  \n",
       "True            0.09   0.03   0.00  \n",
       "\n",
       "[2 rows x 21 columns]"
      ]
     },
     "execution_count": 111,
     "metadata": {},
     "output_type": "execute_result"
    }
   ],
   "source": [
    "# Create a cross tabulation to show the proportions of the profile\n",
    "# members with department_id to see which departments sold the most items\n",
    "# for the profile and not-profile groups.\n",
    "cross_tab_prop_groups = pd.crosstab(index=df[profile],\n",
    "                            columns=df['department_id'],\n",
    "                            normalize='index')\n",
    "cross_tab_prop_groups"
   ]
  },
  {
   "cell_type": "code",
   "execution_count": 112,
   "id": "2fb8dc1a",
   "metadata": {},
   "outputs": [
    {
     "data": {
      "text/html": [
       "<div>\n",
       "<style scoped>\n",
       "    .dataframe tbody tr th:only-of-type {\n",
       "        vertical-align: middle;\n",
       "    }\n",
       "\n",
       "    .dataframe tbody tr th {\n",
       "        vertical-align: top;\n",
       "    }\n",
       "\n",
       "    .dataframe thead th {\n",
       "        text-align: right;\n",
       "    }\n",
       "</style>\n",
       "<table border=\"1\" class=\"dataframe\">\n",
       "  <thead>\n",
       "    <tr style=\"text-align: right;\">\n",
       "      <th>pet_owner</th>\n",
       "      <th>False</th>\n",
       "      <th>True</th>\n",
       "    </tr>\n",
       "    <tr>\n",
       "      <th>department_id</th>\n",
       "      <th></th>\n",
       "      <th></th>\n",
       "    </tr>\n",
       "  </thead>\n",
       "  <tbody>\n",
       "    <tr>\n",
       "      <th>1.00</th>\n",
       "      <td>0.07</td>\n",
       "      <td>0.08</td>\n",
       "    </tr>\n",
       "    <tr>\n",
       "      <th>2.00</th>\n",
       "      <td>0.00</td>\n",
       "      <td>0.00</td>\n",
       "    </tr>\n",
       "    <tr>\n",
       "      <th>3.00</th>\n",
       "      <td>0.04</td>\n",
       "      <td>0.04</td>\n",
       "    </tr>\n",
       "    <tr>\n",
       "      <th>4.00</th>\n",
       "      <td>0.30</td>\n",
       "      <td>0.22</td>\n",
       "    </tr>\n",
       "    <tr>\n",
       "      <th>5.00</th>\n",
       "      <td>0.00</td>\n",
       "      <td>0.01</td>\n",
       "    </tr>\n",
       "    <tr>\n",
       "      <th>6.00</th>\n",
       "      <td>0.01</td>\n",
       "      <td>0.01</td>\n",
       "    </tr>\n",
       "    <tr>\n",
       "      <th>7.00</th>\n",
       "      <td>0.08</td>\n",
       "      <td>0.09</td>\n",
       "    </tr>\n",
       "    <tr>\n",
       "      <th>8.00</th>\n",
       "      <td>0.00</td>\n",
       "      <td>0.03</td>\n",
       "    </tr>\n",
       "    <tr>\n",
       "      <th>9.00</th>\n",
       "      <td>0.03</td>\n",
       "      <td>0.03</td>\n",
       "    </tr>\n",
       "    <tr>\n",
       "      <th>10.00</th>\n",
       "      <td>0.00</td>\n",
       "      <td>0.00</td>\n",
       "    </tr>\n",
       "    <tr>\n",
       "      <th>11.00</th>\n",
       "      <td>0.01</td>\n",
       "      <td>0.02</td>\n",
       "    </tr>\n",
       "    <tr>\n",
       "      <th>12.00</th>\n",
       "      <td>0.02</td>\n",
       "      <td>0.02</td>\n",
       "    </tr>\n",
       "    <tr>\n",
       "      <th>13.00</th>\n",
       "      <td>0.06</td>\n",
       "      <td>0.06</td>\n",
       "    </tr>\n",
       "    <tr>\n",
       "      <th>14.00</th>\n",
       "      <td>0.02</td>\n",
       "      <td>0.02</td>\n",
       "    </tr>\n",
       "    <tr>\n",
       "      <th>15.00</th>\n",
       "      <td>0.03</td>\n",
       "      <td>0.04</td>\n",
       "    </tr>\n",
       "    <tr>\n",
       "      <th>16.00</th>\n",
       "      <td>0.17</td>\n",
       "      <td>0.15</td>\n",
       "    </tr>\n",
       "    <tr>\n",
       "      <th>17.00</th>\n",
       "      <td>0.02</td>\n",
       "      <td>0.04</td>\n",
       "    </tr>\n",
       "    <tr>\n",
       "      <th>18.00</th>\n",
       "      <td>0.01</td>\n",
       "      <td>0.01</td>\n",
       "    </tr>\n",
       "    <tr>\n",
       "      <th>19.00</th>\n",
       "      <td>0.09</td>\n",
       "      <td>0.09</td>\n",
       "    </tr>\n",
       "    <tr>\n",
       "      <th>20.00</th>\n",
       "      <td>0.03</td>\n",
       "      <td>0.03</td>\n",
       "    </tr>\n",
       "    <tr>\n",
       "      <th>21.00</th>\n",
       "      <td>0.00</td>\n",
       "      <td>0.00</td>\n",
       "    </tr>\n",
       "  </tbody>\n",
       "</table>\n",
       "</div>"
      ],
      "text/plain": [
       "pet_owner      False  True\n",
       "department_id             \n",
       "1.00            0.07  0.08\n",
       "2.00            0.00  0.00\n",
       "3.00            0.04  0.04\n",
       "4.00            0.30  0.22\n",
       "5.00            0.00  0.01\n",
       "6.00            0.01  0.01\n",
       "7.00            0.08  0.09\n",
       "8.00            0.00  0.03\n",
       "9.00            0.03  0.03\n",
       "10.00           0.00  0.00\n",
       "11.00           0.01  0.02\n",
       "12.00           0.02  0.02\n",
       "13.00           0.06  0.06\n",
       "14.00           0.02  0.02\n",
       "15.00           0.03  0.04\n",
       "16.00           0.17  0.15\n",
       "17.00           0.02  0.04\n",
       "18.00           0.01  0.01\n",
       "19.00           0.09  0.09\n",
       "20.00           0.03  0.03\n",
       "21.00           0.00  0.00"
      ]
     },
     "execution_count": 112,
     "metadata": {},
     "output_type": "execute_result"
    }
   ],
   "source": [
    "cross_tab_prop_groups.transpose()"
   ]
  },
  {
   "cell_type": "markdown",
   "id": "7648eb91",
   "metadata": {},
   "source": [
    "Most departments have <=2% variation in percent of orders based on whether a user is in this profile or not.  The exceptions are dept 4 (alcohol) where pet owners are order from that dept 8% less frequently than other users, and dept 8 (pets) where obviously pet owners order more frequently. "
   ]
  },
  {
   "cell_type": "code",
   "execution_count": 113,
   "id": "9769e556",
   "metadata": {},
   "outputs": [],
   "source": [
    "# Reclaim space\n",
    "del cross_tab_prop_groups"
   ]
  },
  {
   "cell_type": "markdown",
   "id": "ccee440e",
   "metadata": {},
   "source": [
    "#### 0.6.2.H most popular departments by amount spent"
   ]
  },
  {
   "cell_type": "code",
   "execution_count": 135,
   "id": "1d4f0d05",
   "metadata": {},
   "outputs": [],
   "source": [
    "# Create a temporary dataframe to hold the spending by profile for each dept\n",
    "temp = df.groupby(['department_id', profile]).price.sum()"
   ]
  },
  {
   "cell_type": "code",
   "execution_count": 136,
   "id": "2165492a",
   "metadata": {},
   "outputs": [],
   "source": [
    "profile_spend_by_dept = pd.DataFrame(temp)"
   ]
  },
  {
   "cell_type": "code",
   "execution_count": 137,
   "id": "105e3788",
   "metadata": {},
   "outputs": [
    {
     "data": {
      "text/plain": [
       "(41, 1)"
      ]
     },
     "execution_count": 137,
     "metadata": {},
     "output_type": "execute_result"
    }
   ],
   "source": [
    "profile_spend_by_dept.shape"
   ]
  },
  {
   "cell_type": "code",
   "execution_count": 138,
   "id": "1e625973",
   "metadata": {},
   "outputs": [
    {
     "data": {
      "text/html": [
       "<div>\n",
       "<style scoped>\n",
       "    .dataframe tbody tr th:only-of-type {\n",
       "        vertical-align: middle;\n",
       "    }\n",
       "\n",
       "    .dataframe tbody tr th {\n",
       "        vertical-align: top;\n",
       "    }\n",
       "\n",
       "    .dataframe thead th {\n",
       "        text-align: right;\n",
       "    }\n",
       "</style>\n",
       "<table border=\"1\" class=\"dataframe\">\n",
       "  <thead>\n",
       "    <tr style=\"text-align: right;\">\n",
       "      <th></th>\n",
       "      <th></th>\n",
       "      <th>price</th>\n",
       "    </tr>\n",
       "    <tr>\n",
       "      <th>department_id</th>\n",
       "      <th>pet_owner</th>\n",
       "      <th></th>\n",
       "    </tr>\n",
       "  </thead>\n",
       "  <tbody>\n",
       "    <tr>\n",
       "      <th rowspan=\"2\" valign=\"top\">1.00</th>\n",
       "      <th>False</th>\n",
       "      <td>15,022,251.00</td>\n",
       "    </tr>\n",
       "    <tr>\n",
       "      <th>True</th>\n",
       "      <td>2,266,955.75</td>\n",
       "    </tr>\n",
       "    <tr>\n",
       "      <th rowspan=\"2\" valign=\"top\">2.00</th>\n",
       "      <th>False</th>\n",
       "      <td>212,625.09</td>\n",
       "    </tr>\n",
       "    <tr>\n",
       "      <th>True</th>\n",
       "      <td>41,082.90</td>\n",
       "    </tr>\n",
       "    <tr>\n",
       "      <th>3.00</th>\n",
       "      <th>False</th>\n",
       "      <td>8,106,579.50</td>\n",
       "    </tr>\n",
       "  </tbody>\n",
       "</table>\n",
       "</div>"
      ],
      "text/plain": [
       "                                price\n",
       "department_id pet_owner              \n",
       "1.00          False     15,022,251.00\n",
       "              True       2,266,955.75\n",
       "2.00          False        212,625.09\n",
       "              True          41,082.90\n",
       "3.00          False      8,106,579.50"
      ]
     },
     "execution_count": 138,
     "metadata": {},
     "output_type": "execute_result"
    }
   ],
   "source": [
    "profile_spend_by_dept.head()"
   ]
  },
  {
   "cell_type": "code",
   "execution_count": 139,
   "id": "08a0d6ae",
   "metadata": {},
   "outputs": [],
   "source": [
    "# Rename column for clarity\n",
    "profile_spend_by_dept.rename(columns={'price':'total_spent'}, inplace=True)"
   ]
  },
  {
   "cell_type": "code",
   "execution_count": 140,
   "id": "2c7d3e03",
   "metadata": {},
   "outputs": [],
   "source": [
    "# Reset the index so that the correct column headers will appear\n",
    "profile_spend_by_dept = pd.DataFrame(profile_spend_by_dept).reset_index()"
   ]
  },
  {
   "cell_type": "code",
   "execution_count": 141,
   "id": "b2bfc45d",
   "metadata": {},
   "outputs": [
    {
     "data": {
      "text/html": [
       "<div>\n",
       "<style scoped>\n",
       "    .dataframe tbody tr th:only-of-type {\n",
       "        vertical-align: middle;\n",
       "    }\n",
       "\n",
       "    .dataframe tbody tr th {\n",
       "        vertical-align: top;\n",
       "    }\n",
       "\n",
       "    .dataframe thead th {\n",
       "        text-align: right;\n",
       "    }\n",
       "</style>\n",
       "<table border=\"1\" class=\"dataframe\">\n",
       "  <thead>\n",
       "    <tr style=\"text-align: right;\">\n",
       "      <th></th>\n",
       "      <th>department_id</th>\n",
       "      <th>pet_owner</th>\n",
       "      <th>total_spent</th>\n",
       "    </tr>\n",
       "  </thead>\n",
       "  <tbody>\n",
       "    <tr>\n",
       "      <th>0</th>\n",
       "      <td>1.00</td>\n",
       "      <td>False</td>\n",
       "      <td>15,022,251.00</td>\n",
       "    </tr>\n",
       "    <tr>\n",
       "      <th>1</th>\n",
       "      <td>1.00</td>\n",
       "      <td>True</td>\n",
       "      <td>2,266,955.75</td>\n",
       "    </tr>\n",
       "    <tr>\n",
       "      <th>2</th>\n",
       "      <td>2.00</td>\n",
       "      <td>False</td>\n",
       "      <td>212,625.09</td>\n",
       "    </tr>\n",
       "    <tr>\n",
       "      <th>3</th>\n",
       "      <td>2.00</td>\n",
       "      <td>True</td>\n",
       "      <td>41,082.90</td>\n",
       "    </tr>\n",
       "    <tr>\n",
       "      <th>4</th>\n",
       "      <td>3.00</td>\n",
       "      <td>False</td>\n",
       "      <td>8,106,579.50</td>\n",
       "    </tr>\n",
       "  </tbody>\n",
       "</table>\n",
       "</div>"
      ],
      "text/plain": [
       "   department_id  pet_owner   total_spent\n",
       "0           1.00      False 15,022,251.00\n",
       "1           1.00       True  2,266,955.75\n",
       "2           2.00      False    212,625.09\n",
       "3           2.00       True     41,082.90\n",
       "4           3.00      False  8,106,579.50"
      ]
     },
     "execution_count": 141,
     "metadata": {},
     "output_type": "execute_result"
    }
   ],
   "source": [
    "profile_spend_by_dept.head()"
   ]
  },
  {
   "cell_type": "code",
   "execution_count": 142,
   "id": "4a53664f",
   "metadata": {},
   "outputs": [],
   "source": [
    "# Insert a row to make it clear that the non-pet owners purchased $0\n",
    "# from the pet dept\n",
    "profile_spend_by_dept.loc[13.5] = 8.0, False, 0"
   ]
  },
  {
   "cell_type": "code",
   "execution_count": 143,
   "id": "39a0f6b8",
   "metadata": {},
   "outputs": [],
   "source": [
    "profile_spend_by_dept = profile_spend_by_dept.sort_index().reset_index(drop=True)"
   ]
  },
  {
   "cell_type": "code",
   "execution_count": 144,
   "id": "ae1dadc7",
   "metadata": {},
   "outputs": [
    {
     "data": {
      "text/html": [
       "<div>\n",
       "<style scoped>\n",
       "    .dataframe tbody tr th:only-of-type {\n",
       "        vertical-align: middle;\n",
       "    }\n",
       "\n",
       "    .dataframe tbody tr th {\n",
       "        vertical-align: top;\n",
       "    }\n",
       "\n",
       "    .dataframe thead th {\n",
       "        text-align: right;\n",
       "    }\n",
       "</style>\n",
       "<table border=\"1\" class=\"dataframe\">\n",
       "  <thead>\n",
       "    <tr style=\"text-align: right;\">\n",
       "      <th></th>\n",
       "      <th>department_id</th>\n",
       "      <th>pet_owner</th>\n",
       "      <th>total_spent</th>\n",
       "    </tr>\n",
       "  </thead>\n",
       "  <tbody>\n",
       "    <tr>\n",
       "      <th>0</th>\n",
       "      <td>1.00</td>\n",
       "      <td>False</td>\n",
       "      <td>15,022,251.00</td>\n",
       "    </tr>\n",
       "    <tr>\n",
       "      <th>1</th>\n",
       "      <td>1.00</td>\n",
       "      <td>True</td>\n",
       "      <td>2,266,955.75</td>\n",
       "    </tr>\n",
       "    <tr>\n",
       "      <th>2</th>\n",
       "      <td>2.00</td>\n",
       "      <td>False</td>\n",
       "      <td>212,625.09</td>\n",
       "    </tr>\n",
       "    <tr>\n",
       "      <th>3</th>\n",
       "      <td>2.00</td>\n",
       "      <td>True</td>\n",
       "      <td>41,082.90</td>\n",
       "    </tr>\n",
       "    <tr>\n",
       "      <th>4</th>\n",
       "      <td>3.00</td>\n",
       "      <td>False</td>\n",
       "      <td>8,106,579.50</td>\n",
       "    </tr>\n",
       "  </tbody>\n",
       "</table>\n",
       "</div>"
      ],
      "text/plain": [
       "   department_id  pet_owner   total_spent\n",
       "0           1.00      False 15,022,251.00\n",
       "1           1.00       True  2,266,955.75\n",
       "2           2.00      False    212,625.09\n",
       "3           2.00       True     41,082.90\n",
       "4           3.00      False  8,106,579.50"
      ]
     },
     "execution_count": 144,
     "metadata": {},
     "output_type": "execute_result"
    }
   ],
   "source": [
    "profile_spend_by_dept.head()"
   ]
  },
  {
   "cell_type": "code",
   "execution_count": 145,
   "id": "728e212d",
   "metadata": {},
   "outputs": [],
   "source": [
    "# Adding a column with profile-specific labels for clarity in the viz\n",
    "profile_spend_by_dept.loc[profile_spend_by_dept[profile] == True, 'profile_flag'] = profile_label\n",
    "profile_spend_by_dept.loc[profile_spend_by_dept[profile] == False, 'profile_flag'] = not_profile_label"
   ]
  },
  {
   "cell_type": "code",
   "execution_count": 146,
   "id": "303f6ac3",
   "metadata": {},
   "outputs": [
    {
     "data": {
      "text/html": [
       "<div>\n",
       "<style scoped>\n",
       "    .dataframe tbody tr th:only-of-type {\n",
       "        vertical-align: middle;\n",
       "    }\n",
       "\n",
       "    .dataframe tbody tr th {\n",
       "        vertical-align: top;\n",
       "    }\n",
       "\n",
       "    .dataframe thead th {\n",
       "        text-align: right;\n",
       "    }\n",
       "</style>\n",
       "<table border=\"1\" class=\"dataframe\">\n",
       "  <thead>\n",
       "    <tr style=\"text-align: right;\">\n",
       "      <th></th>\n",
       "      <th>department_id</th>\n",
       "      <th>pet_owner</th>\n",
       "      <th>total_spent</th>\n",
       "      <th>profile_flag</th>\n",
       "    </tr>\n",
       "  </thead>\n",
       "  <tbody>\n",
       "    <tr>\n",
       "      <th>0</th>\n",
       "      <td>1.00</td>\n",
       "      <td>False</td>\n",
       "      <td>15,022,251.00</td>\n",
       "      <td>Other Users</td>\n",
       "    </tr>\n",
       "    <tr>\n",
       "      <th>1</th>\n",
       "      <td>1.00</td>\n",
       "      <td>True</td>\n",
       "      <td>2,266,955.75</td>\n",
       "      <td>Pet Owners</td>\n",
       "    </tr>\n",
       "    <tr>\n",
       "      <th>2</th>\n",
       "      <td>2.00</td>\n",
       "      <td>False</td>\n",
       "      <td>212,625.09</td>\n",
       "      <td>Other Users</td>\n",
       "    </tr>\n",
       "    <tr>\n",
       "      <th>3</th>\n",
       "      <td>2.00</td>\n",
       "      <td>True</td>\n",
       "      <td>41,082.90</td>\n",
       "      <td>Pet Owners</td>\n",
       "    </tr>\n",
       "    <tr>\n",
       "      <th>4</th>\n",
       "      <td>3.00</td>\n",
       "      <td>False</td>\n",
       "      <td>8,106,579.50</td>\n",
       "      <td>Other Users</td>\n",
       "    </tr>\n",
       "  </tbody>\n",
       "</table>\n",
       "</div>"
      ],
      "text/plain": [
       "   department_id  pet_owner   total_spent profile_flag\n",
       "0           1.00      False 15,022,251.00  Other Users\n",
       "1           1.00       True  2,266,955.75   Pet Owners\n",
       "2           2.00      False    212,625.09  Other Users\n",
       "3           2.00       True     41,082.90   Pet Owners\n",
       "4           3.00      False  8,106,579.50  Other Users"
      ]
     },
     "execution_count": 146,
     "metadata": {},
     "output_type": "execute_result"
    }
   ],
   "source": [
    "profile_spend_by_dept.head()"
   ]
  },
  {
   "cell_type": "code",
   "execution_count": 147,
   "id": "3a9552c7",
   "metadata": {},
   "outputs": [],
   "source": [
    "# Drop the unnecessary column\n",
    "profile_spend_by_dept = profile_spend_by_dept.drop(columns=profile)"
   ]
  },
  {
   "cell_type": "code",
   "execution_count": 148,
   "id": "0f354cfb",
   "metadata": {
    "scrolled": true
   },
   "outputs": [
    {
     "data": {
      "text/html": [
       "<div>\n",
       "<style scoped>\n",
       "    .dataframe tbody tr th:only-of-type {\n",
       "        vertical-align: middle;\n",
       "    }\n",
       "\n",
       "    .dataframe tbody tr th {\n",
       "        vertical-align: top;\n",
       "    }\n",
       "\n",
       "    .dataframe thead th {\n",
       "        text-align: right;\n",
       "    }\n",
       "</style>\n",
       "<table border=\"1\" class=\"dataframe\">\n",
       "  <thead>\n",
       "    <tr style=\"text-align: right;\">\n",
       "      <th></th>\n",
       "      <th>department_id</th>\n",
       "      <th>total_spent</th>\n",
       "      <th>profile_flag</th>\n",
       "    </tr>\n",
       "  </thead>\n",
       "  <tbody>\n",
       "    <tr>\n",
       "      <th>0</th>\n",
       "      <td>1.00</td>\n",
       "      <td>15,022,251.00</td>\n",
       "      <td>Other Users</td>\n",
       "    </tr>\n",
       "    <tr>\n",
       "      <th>1</th>\n",
       "      <td>1.00</td>\n",
       "      <td>2,266,955.75</td>\n",
       "      <td>Pet Owners</td>\n",
       "    </tr>\n",
       "    <tr>\n",
       "      <th>2</th>\n",
       "      <td>2.00</td>\n",
       "      <td>212,625.09</td>\n",
       "      <td>Other Users</td>\n",
       "    </tr>\n",
       "    <tr>\n",
       "      <th>3</th>\n",
       "      <td>2.00</td>\n",
       "      <td>41,082.90</td>\n",
       "      <td>Pet Owners</td>\n",
       "    </tr>\n",
       "    <tr>\n",
       "      <th>4</th>\n",
       "      <td>3.00</td>\n",
       "      <td>8,106,579.50</td>\n",
       "      <td>Other Users</td>\n",
       "    </tr>\n",
       "  </tbody>\n",
       "</table>\n",
       "</div>"
      ],
      "text/plain": [
       "   department_id   total_spent profile_flag\n",
       "0           1.00 15,022,251.00  Other Users\n",
       "1           1.00  2,266,955.75   Pet Owners\n",
       "2           2.00    212,625.09  Other Users\n",
       "3           2.00     41,082.90   Pet Owners\n",
       "4           3.00  8,106,579.50  Other Users"
      ]
     },
     "execution_count": 148,
     "metadata": {},
     "output_type": "execute_result"
    }
   ],
   "source": [
    "profile_spend_by_dept.head()"
   ]
  },
  {
   "cell_type": "code",
   "execution_count": 149,
   "id": "ebaa11aa",
   "metadata": {},
   "outputs": [],
   "source": [
    "# Adjusting department_id datatype to match that of dept_data\n",
    "profile_spend_by_dept['department_id'] = profile_spend_by_dept['department_id'].astype('int8')"
   ]
  },
  {
   "cell_type": "code",
   "execution_count": 150,
   "id": "463032f9",
   "metadata": {},
   "outputs": [
    {
     "data": {
      "text/html": [
       "<div>\n",
       "<style scoped>\n",
       "    .dataframe tbody tr th:only-of-type {\n",
       "        vertical-align: middle;\n",
       "    }\n",
       "\n",
       "    .dataframe tbody tr th {\n",
       "        vertical-align: top;\n",
       "    }\n",
       "\n",
       "    .dataframe thead th {\n",
       "        text-align: right;\n",
       "    }\n",
       "</style>\n",
       "<table border=\"1\" class=\"dataframe\">\n",
       "  <thead>\n",
       "    <tr style=\"text-align: right;\">\n",
       "      <th></th>\n",
       "      <th>department_id</th>\n",
       "      <th>total_spent</th>\n",
       "      <th>profile_flag</th>\n",
       "    </tr>\n",
       "  </thead>\n",
       "  <tbody>\n",
       "    <tr>\n",
       "      <th>0</th>\n",
       "      <td>1</td>\n",
       "      <td>15,022,251.00</td>\n",
       "      <td>Other Users</td>\n",
       "    </tr>\n",
       "    <tr>\n",
       "      <th>1</th>\n",
       "      <td>1</td>\n",
       "      <td>2,266,955.75</td>\n",
       "      <td>Pet Owners</td>\n",
       "    </tr>\n",
       "    <tr>\n",
       "      <th>2</th>\n",
       "      <td>2</td>\n",
       "      <td>212,625.09</td>\n",
       "      <td>Other Users</td>\n",
       "    </tr>\n",
       "    <tr>\n",
       "      <th>3</th>\n",
       "      <td>2</td>\n",
       "      <td>41,082.90</td>\n",
       "      <td>Pet Owners</td>\n",
       "    </tr>\n",
       "    <tr>\n",
       "      <th>4</th>\n",
       "      <td>3</td>\n",
       "      <td>8,106,579.50</td>\n",
       "      <td>Other Users</td>\n",
       "    </tr>\n",
       "  </tbody>\n",
       "</table>\n",
       "</div>"
      ],
      "text/plain": [
       "   department_id   total_spent profile_flag\n",
       "0              1 15,022,251.00  Other Users\n",
       "1              1  2,266,955.75   Pet Owners\n",
       "2              2    212,625.09  Other Users\n",
       "3              2     41,082.90   Pet Owners\n",
       "4              3  8,106,579.50  Other Users"
      ]
     },
     "execution_count": 150,
     "metadata": {},
     "output_type": "execute_result"
    }
   ],
   "source": [
    "profile_spend_by_dept.head()"
   ]
  },
  {
   "cell_type": "code",
   "execution_count": 151,
   "id": "3e265ac0",
   "metadata": {
    "scrolled": false
   },
   "outputs": [
    {
     "data": {
      "text/html": [
       "<div>\n",
       "<style scoped>\n",
       "    .dataframe tbody tr th:only-of-type {\n",
       "        vertical-align: middle;\n",
       "    }\n",
       "\n",
       "    .dataframe tbody tr th {\n",
       "        vertical-align: top;\n",
       "    }\n",
       "\n",
       "    .dataframe thead th {\n",
       "        text-align: right;\n",
       "    }\n",
       "</style>\n",
       "<table border=\"1\" class=\"dataframe\">\n",
       "  <thead>\n",
       "    <tr style=\"text-align: right;\">\n",
       "      <th></th>\n",
       "      <th>department</th>\n",
       "      <th>department_id</th>\n",
       "      <th>total_items_sold_by_dept</th>\n",
       "      <th>total_spent_in_dept</th>\n",
       "      <th>avg_price_per_item_in_dept</th>\n",
       "      <th>total_orders_from_dept</th>\n",
       "      <th>avg_items_per_order_by_dept</th>\n",
       "      <th>n_unique_items_in_dept</th>\n",
       "    </tr>\n",
       "  </thead>\n",
       "  <tbody>\n",
       "    <tr>\n",
       "      <th>0</th>\n",
       "      <td>frozen</td>\n",
       "      <td>1</td>\n",
       "      <td>2234743</td>\n",
       "      <td>17,289,206.00</td>\n",
       "      <td>7.74</td>\n",
       "      <td>1180461</td>\n",
       "      <td>1.89</td>\n",
       "      <td>4006</td>\n",
       "    </tr>\n",
       "    <tr>\n",
       "      <th>1</th>\n",
       "      <td>other</td>\n",
       "      <td>2</td>\n",
       "      <td>36291</td>\n",
       "      <td>253,708.00</td>\n",
       "      <td>6.99</td>\n",
       "      <td>35056</td>\n",
       "      <td>1.04</td>\n",
       "      <td>548</td>\n",
       "    </tr>\n",
       "    <tr>\n",
       "      <th>2</th>\n",
       "      <td>bakery</td>\n",
       "      <td>3</td>\n",
       "      <td>1172428</td>\n",
       "      <td>9,208,026.00</td>\n",
       "      <td>7.85</td>\n",
       "      <td>878658</td>\n",
       "      <td>1.33</td>\n",
       "      <td>1515</td>\n",
       "    </tr>\n",
       "    <tr>\n",
       "      <th>3</th>\n",
       "      <td>produce</td>\n",
       "      <td>4</td>\n",
       "      <td>9479291</td>\n",
       "      <td>75,660,936.00</td>\n",
       "      <td>7.98</td>\n",
       "      <td>2409320</td>\n",
       "      <td>3.93</td>\n",
       "      <td>1684</td>\n",
       "    </tr>\n",
       "    <tr>\n",
       "      <th>4</th>\n",
       "      <td>alcohol</td>\n",
       "      <td>5</td>\n",
       "      <td>153696</td>\n",
       "      <td>1,251,654.25</td>\n",
       "      <td>8.14</td>\n",
       "      <td>84689</td>\n",
       "      <td>1.81</td>\n",
       "      <td>1054</td>\n",
       "    </tr>\n",
       "  </tbody>\n",
       "</table>\n",
       "</div>"
      ],
      "text/plain": [
       "  department  department_id  total_items_sold_by_dept  total_spent_in_dept  \\\n",
       "0     frozen              1                   2234743        17,289,206.00   \n",
       "1      other              2                     36291           253,708.00   \n",
       "2     bakery              3                   1172428         9,208,026.00   \n",
       "3    produce              4                   9479291        75,660,936.00   \n",
       "4    alcohol              5                    153696         1,251,654.25   \n",
       "\n",
       "   avg_price_per_item_in_dept  total_orders_from_dept  \\\n",
       "0                        7.74                 1180461   \n",
       "1                        6.99                   35056   \n",
       "2                        7.85                  878658   \n",
       "3                        7.98                 2409320   \n",
       "4                        8.14                   84689   \n",
       "\n",
       "   avg_items_per_order_by_dept  n_unique_items_in_dept  \n",
       "0                         1.89                    4006  \n",
       "1                         1.04                     548  \n",
       "2                         1.33                    1515  \n",
       "3                         3.93                    1684  \n",
       "4                         1.81                    1054  "
      ]
     },
     "execution_count": 151,
     "metadata": {},
     "output_type": "execute_result"
    }
   ],
   "source": [
    "dept_data.head()"
   ]
  },
  {
   "cell_type": "code",
   "execution_count": 152,
   "id": "2c94a7c3",
   "metadata": {},
   "outputs": [],
   "source": [
    "# Merge total_spent_in_dept from dept_data with this df\n",
    "\n",
    "profile_spend_by_dept = profile_spend_by_dept.merge(dept_data[['department_id','total_spent_in_dept', 'department']], on=['department_id'], how='left')"
   ]
  },
  {
   "cell_type": "code",
   "execution_count": 153,
   "id": "0abf711b",
   "metadata": {},
   "outputs": [
    {
     "data": {
      "text/html": [
       "<div>\n",
       "<style scoped>\n",
       "    .dataframe tbody tr th:only-of-type {\n",
       "        vertical-align: middle;\n",
       "    }\n",
       "\n",
       "    .dataframe tbody tr th {\n",
       "        vertical-align: top;\n",
       "    }\n",
       "\n",
       "    .dataframe thead th {\n",
       "        text-align: right;\n",
       "    }\n",
       "</style>\n",
       "<table border=\"1\" class=\"dataframe\">\n",
       "  <thead>\n",
       "    <tr style=\"text-align: right;\">\n",
       "      <th></th>\n",
       "      <th>department_id</th>\n",
       "      <th>total_spent</th>\n",
       "      <th>profile_flag</th>\n",
       "      <th>total_spent_in_dept</th>\n",
       "      <th>department</th>\n",
       "    </tr>\n",
       "  </thead>\n",
       "  <tbody>\n",
       "    <tr>\n",
       "      <th>0</th>\n",
       "      <td>1</td>\n",
       "      <td>15,022,251.00</td>\n",
       "      <td>Other Users</td>\n",
       "      <td>17,289,206.00</td>\n",
       "      <td>frozen</td>\n",
       "    </tr>\n",
       "    <tr>\n",
       "      <th>1</th>\n",
       "      <td>1</td>\n",
       "      <td>2,266,955.75</td>\n",
       "      <td>Pet Owners</td>\n",
       "      <td>17,289,206.00</td>\n",
       "      <td>frozen</td>\n",
       "    </tr>\n",
       "    <tr>\n",
       "      <th>2</th>\n",
       "      <td>2</td>\n",
       "      <td>212,625.09</td>\n",
       "      <td>Other Users</td>\n",
       "      <td>253,708.00</td>\n",
       "      <td>other</td>\n",
       "    </tr>\n",
       "    <tr>\n",
       "      <th>3</th>\n",
       "      <td>2</td>\n",
       "      <td>41,082.90</td>\n",
       "      <td>Pet Owners</td>\n",
       "      <td>253,708.00</td>\n",
       "      <td>other</td>\n",
       "    </tr>\n",
       "    <tr>\n",
       "      <th>4</th>\n",
       "      <td>3</td>\n",
       "      <td>8,106,579.50</td>\n",
       "      <td>Other Users</td>\n",
       "      <td>9,208,026.00</td>\n",
       "      <td>bakery</td>\n",
       "    </tr>\n",
       "  </tbody>\n",
       "</table>\n",
       "</div>"
      ],
      "text/plain": [
       "   department_id   total_spent profile_flag  total_spent_in_dept department\n",
       "0              1 15,022,251.00  Other Users        17,289,206.00     frozen\n",
       "1              1  2,266,955.75   Pet Owners        17,289,206.00     frozen\n",
       "2              2    212,625.09  Other Users           253,708.00      other\n",
       "3              2     41,082.90   Pet Owners           253,708.00      other\n",
       "4              3  8,106,579.50  Other Users         9,208,026.00     bakery"
      ]
     },
     "execution_count": 153,
     "metadata": {},
     "output_type": "execute_result"
    }
   ],
   "source": [
    "profile_spend_by_dept.head()"
   ]
  },
  {
   "cell_type": "code",
   "execution_count": 154,
   "id": "8c0a39c1",
   "metadata": {},
   "outputs": [],
   "source": [
    "# Create column with percent_of_total_dept_sales\n",
    "profile_spend_by_dept['percent_of_total_dept_sales'] = profile_spend_by_dept['total_spent']/profile_spend_by_dept['total_spent_in_dept']"
   ]
  },
  {
   "cell_type": "code",
   "execution_count": 155,
   "id": "0c757481",
   "metadata": {},
   "outputs": [
    {
     "data": {
      "text/html": [
       "<div>\n",
       "<style scoped>\n",
       "    .dataframe tbody tr th:only-of-type {\n",
       "        vertical-align: middle;\n",
       "    }\n",
       "\n",
       "    .dataframe tbody tr th {\n",
       "        vertical-align: top;\n",
       "    }\n",
       "\n",
       "    .dataframe thead th {\n",
       "        text-align: right;\n",
       "    }\n",
       "</style>\n",
       "<table border=\"1\" class=\"dataframe\">\n",
       "  <thead>\n",
       "    <tr style=\"text-align: right;\">\n",
       "      <th></th>\n",
       "      <th>department_id</th>\n",
       "      <th>total_spent</th>\n",
       "      <th>profile_flag</th>\n",
       "      <th>total_spent_in_dept</th>\n",
       "      <th>department</th>\n",
       "      <th>percent_of_total_dept_sales</th>\n",
       "    </tr>\n",
       "  </thead>\n",
       "  <tbody>\n",
       "    <tr>\n",
       "      <th>0</th>\n",
       "      <td>1</td>\n",
       "      <td>15,022,251.00</td>\n",
       "      <td>Other Users</td>\n",
       "      <td>17,289,206.00</td>\n",
       "      <td>frozen</td>\n",
       "      <td>0.87</td>\n",
       "    </tr>\n",
       "    <tr>\n",
       "      <th>1</th>\n",
       "      <td>1</td>\n",
       "      <td>2,266,955.75</td>\n",
       "      <td>Pet Owners</td>\n",
       "      <td>17,289,206.00</td>\n",
       "      <td>frozen</td>\n",
       "      <td>0.13</td>\n",
       "    </tr>\n",
       "    <tr>\n",
       "      <th>2</th>\n",
       "      <td>2</td>\n",
       "      <td>212,625.09</td>\n",
       "      <td>Other Users</td>\n",
       "      <td>253,708.00</td>\n",
       "      <td>other</td>\n",
       "      <td>0.84</td>\n",
       "    </tr>\n",
       "    <tr>\n",
       "      <th>3</th>\n",
       "      <td>2</td>\n",
       "      <td>41,082.90</td>\n",
       "      <td>Pet Owners</td>\n",
       "      <td>253,708.00</td>\n",
       "      <td>other</td>\n",
       "      <td>0.16</td>\n",
       "    </tr>\n",
       "    <tr>\n",
       "      <th>4</th>\n",
       "      <td>3</td>\n",
       "      <td>8,106,579.50</td>\n",
       "      <td>Other Users</td>\n",
       "      <td>9,208,026.00</td>\n",
       "      <td>bakery</td>\n",
       "      <td>0.88</td>\n",
       "    </tr>\n",
       "    <tr>\n",
       "      <th>5</th>\n",
       "      <td>3</td>\n",
       "      <td>1,101,446.50</td>\n",
       "      <td>Pet Owners</td>\n",
       "      <td>9,208,026.00</td>\n",
       "      <td>bakery</td>\n",
       "      <td>0.12</td>\n",
       "    </tr>\n",
       "    <tr>\n",
       "      <th>6</th>\n",
       "      <td>4</td>\n",
       "      <td>69,340,936.00</td>\n",
       "      <td>Other Users</td>\n",
       "      <td>75,660,936.00</td>\n",
       "      <td>produce</td>\n",
       "      <td>0.92</td>\n",
       "    </tr>\n",
       "    <tr>\n",
       "      <th>7</th>\n",
       "      <td>4</td>\n",
       "      <td>6,320,002.50</td>\n",
       "      <td>Pet Owners</td>\n",
       "      <td>75,660,936.00</td>\n",
       "      <td>produce</td>\n",
       "      <td>0.08</td>\n",
       "    </tr>\n",
       "    <tr>\n",
       "      <th>8</th>\n",
       "      <td>5</td>\n",
       "      <td>1,031,468.50</td>\n",
       "      <td>Other Users</td>\n",
       "      <td>1,251,654.25</td>\n",
       "      <td>alcohol</td>\n",
       "      <td>0.82</td>\n",
       "    </tr>\n",
       "    <tr>\n",
       "      <th>9</th>\n",
       "      <td>5</td>\n",
       "      <td>220,185.80</td>\n",
       "      <td>Pet Owners</td>\n",
       "      <td>1,251,654.25</td>\n",
       "      <td>alcohol</td>\n",
       "      <td>0.18</td>\n",
       "    </tr>\n",
       "    <tr>\n",
       "      <th>10</th>\n",
       "      <td>6</td>\n",
       "      <td>1,826,746.75</td>\n",
       "      <td>Other Users</td>\n",
       "      <td>2,068,472.75</td>\n",
       "      <td>international</td>\n",
       "      <td>0.88</td>\n",
       "    </tr>\n",
       "    <tr>\n",
       "      <th>11</th>\n",
       "      <td>6</td>\n",
       "      <td>241,726.00</td>\n",
       "      <td>Pet Owners</td>\n",
       "      <td>2,068,472.75</td>\n",
       "      <td>international</td>\n",
       "      <td>0.12</td>\n",
       "    </tr>\n",
       "    <tr>\n",
       "      <th>12</th>\n",
       "      <td>7</td>\n",
       "      <td>18,109,162.00</td>\n",
       "      <td>Other Users</td>\n",
       "      <td>20,646,084.00</td>\n",
       "      <td>beverages</td>\n",
       "      <td>0.88</td>\n",
       "    </tr>\n",
       "    <tr>\n",
       "      <th>13</th>\n",
       "      <td>7</td>\n",
       "      <td>2,536,921.75</td>\n",
       "      <td>Pet Owners</td>\n",
       "      <td>20,646,084.00</td>\n",
       "      <td>beverages</td>\n",
       "      <td>0.12</td>\n",
       "    </tr>\n",
       "    <tr>\n",
       "      <th>14</th>\n",
       "      <td>8</td>\n",
       "      <td>0.00</td>\n",
       "      <td>Other Users</td>\n",
       "      <td>770,888.38</td>\n",
       "      <td>pets</td>\n",
       "      <td>0.00</td>\n",
       "    </tr>\n",
       "    <tr>\n",
       "      <th>15</th>\n",
       "      <td>8</td>\n",
       "      <td>770,888.38</td>\n",
       "      <td>Pet Owners</td>\n",
       "      <td>770,888.38</td>\n",
       "      <td>pets</td>\n",
       "      <td>1.00</td>\n",
       "    </tr>\n",
       "    <tr>\n",
       "      <th>16</th>\n",
       "      <td>9</td>\n",
       "      <td>5,602,944.00</td>\n",
       "      <td>Other Users</td>\n",
       "      <td>6,369,953.50</td>\n",
       "      <td>dry goods pasta</td>\n",
       "      <td>0.88</td>\n",
       "    </tr>\n",
       "    <tr>\n",
       "      <th>17</th>\n",
       "      <td>9</td>\n",
       "      <td>767,009.50</td>\n",
       "      <td>Pet Owners</td>\n",
       "      <td>6,369,953.50</td>\n",
       "      <td>dry goods pasta</td>\n",
       "      <td>0.12</td>\n",
       "    </tr>\n",
       "    <tr>\n",
       "      <th>18</th>\n",
       "      <td>10</td>\n",
       "      <td>271,750.78</td>\n",
       "      <td>Other Users</td>\n",
       "      <td>288,648.59</td>\n",
       "      <td>bulk</td>\n",
       "      <td>0.94</td>\n",
       "    </tr>\n",
       "    <tr>\n",
       "      <th>19</th>\n",
       "      <td>10</td>\n",
       "      <td>16,897.80</td>\n",
       "      <td>Pet Owners</td>\n",
       "      <td>288,648.59</td>\n",
       "      <td>bulk</td>\n",
       "      <td>0.06</td>\n",
       "    </tr>\n",
       "    <tr>\n",
       "      <th>20</th>\n",
       "      <td>11</td>\n",
       "      <td>2,950,690.75</td>\n",
       "      <td>Other Users</td>\n",
       "      <td>3,573,172.75</td>\n",
       "      <td>personal care</td>\n",
       "      <td>0.83</td>\n",
       "    </tr>\n",
       "    <tr>\n",
       "      <th>21</th>\n",
       "      <td>11</td>\n",
       "      <td>622,482.00</td>\n",
       "      <td>Pet Owners</td>\n",
       "      <td>3,573,172.75</td>\n",
       "      <td>personal care</td>\n",
       "      <td>0.17</td>\n",
       "    </tr>\n",
       "    <tr>\n",
       "      <th>22</th>\n",
       "      <td>12</td>\n",
       "      <td>10,205,445.00</td>\n",
       "      <td>Other Users</td>\n",
       "      <td>11,551,570.00</td>\n",
       "      <td>meat seafood</td>\n",
       "      <td>0.88</td>\n",
       "    </tr>\n",
       "    <tr>\n",
       "      <th>23</th>\n",
       "      <td>12</td>\n",
       "      <td>1,346,125.75</td>\n",
       "      <td>Pet Owners</td>\n",
       "      <td>11,551,570.00</td>\n",
       "      <td>meat seafood</td>\n",
       "      <td>0.12</td>\n",
       "    </tr>\n",
       "    <tr>\n",
       "      <th>24</th>\n",
       "      <td>13</td>\n",
       "      <td>13,286,995.00</td>\n",
       "      <td>Other Users</td>\n",
       "      <td>15,020,661.00</td>\n",
       "      <td>pantry</td>\n",
       "      <td>0.88</td>\n",
       "    </tr>\n",
       "    <tr>\n",
       "      <th>25</th>\n",
       "      <td>13</td>\n",
       "      <td>1,733,665.62</td>\n",
       "      <td>Pet Owners</td>\n",
       "      <td>15,020,661.00</td>\n",
       "      <td>pantry</td>\n",
       "      <td>0.12</td>\n",
       "    </tr>\n",
       "    <tr>\n",
       "      <th>26</th>\n",
       "      <td>14</td>\n",
       "      <td>5,022,695.50</td>\n",
       "      <td>Other Users</td>\n",
       "      <td>5,644,626.00</td>\n",
       "      <td>breakfast</td>\n",
       "      <td>0.89</td>\n",
       "    </tr>\n",
       "    <tr>\n",
       "      <th>27</th>\n",
       "      <td>14</td>\n",
       "      <td>621,930.50</td>\n",
       "      <td>Pet Owners</td>\n",
       "      <td>5,644,626.00</td>\n",
       "      <td>breakfast</td>\n",
       "      <td>0.11</td>\n",
       "    </tr>\n",
       "    <tr>\n",
       "      <th>28</th>\n",
       "      <td>15</td>\n",
       "      <td>7,065,971.50</td>\n",
       "      <td>Other Users</td>\n",
       "      <td>8,053,132.00</td>\n",
       "      <td>canned goods</td>\n",
       "      <td>0.88</td>\n",
       "    </tr>\n",
       "    <tr>\n",
       "      <th>29</th>\n",
       "      <td>15</td>\n",
       "      <td>987,160.69</td>\n",
       "      <td>Pet Owners</td>\n",
       "      <td>8,053,132.00</td>\n",
       "      <td>canned goods</td>\n",
       "      <td>0.12</td>\n",
       "    </tr>\n",
       "    <tr>\n",
       "      <th>30</th>\n",
       "      <td>16</td>\n",
       "      <td>40,561,000.00</td>\n",
       "      <td>Other Users</td>\n",
       "      <td>44,954,496.00</td>\n",
       "      <td>dairy eggs</td>\n",
       "      <td>0.90</td>\n",
       "    </tr>\n",
       "    <tr>\n",
       "      <th>31</th>\n",
       "      <td>16</td>\n",
       "      <td>4,393,495.00</td>\n",
       "      <td>Pet Owners</td>\n",
       "      <td>44,954,496.00</td>\n",
       "      <td>dairy eggs</td>\n",
       "      <td>0.10</td>\n",
       "    </tr>\n",
       "    <tr>\n",
       "      <th>32</th>\n",
       "      <td>17</td>\n",
       "      <td>4,420,851.50</td>\n",
       "      <td>Other Users</td>\n",
       "      <td>5,454,352.50</td>\n",
       "      <td>household</td>\n",
       "      <td>0.81</td>\n",
       "    </tr>\n",
       "    <tr>\n",
       "      <th>33</th>\n",
       "      <td>17</td>\n",
       "      <td>1,033,501.38</td>\n",
       "      <td>Pet Owners</td>\n",
       "      <td>5,454,352.50</td>\n",
       "      <td>household</td>\n",
       "      <td>0.19</td>\n",
       "    </tr>\n",
       "    <tr>\n",
       "      <th>34</th>\n",
       "      <td>18</td>\n",
       "      <td>2,960,261.00</td>\n",
       "      <td>Other Users</td>\n",
       "      <td>3,237,048.50</td>\n",
       "      <td>babies</td>\n",
       "      <td>0.91</td>\n",
       "    </tr>\n",
       "    <tr>\n",
       "      <th>35</th>\n",
       "      <td>18</td>\n",
       "      <td>276,787.69</td>\n",
       "      <td>Pet Owners</td>\n",
       "      <td>3,237,048.50</td>\n",
       "      <td>babies</td>\n",
       "      <td>0.09</td>\n",
       "    </tr>\n",
       "    <tr>\n",
       "      <th>36</th>\n",
       "      <td>19</td>\n",
       "      <td>11,014,509.00</td>\n",
       "      <td>Other Users</td>\n",
       "      <td>12,345,538.00</td>\n",
       "      <td>snacks</td>\n",
       "      <td>0.89</td>\n",
       "    </tr>\n",
       "    <tr>\n",
       "      <th>37</th>\n",
       "      <td>19</td>\n",
       "      <td>1,331,029.25</td>\n",
       "      <td>Pet Owners</td>\n",
       "      <td>12,345,538.00</td>\n",
       "      <td>snacks</td>\n",
       "      <td>0.11</td>\n",
       "    </tr>\n",
       "    <tr>\n",
       "      <th>38</th>\n",
       "      <td>20</td>\n",
       "      <td>7,316,522.00</td>\n",
       "      <td>Other Users</td>\n",
       "      <td>8,177,352.00</td>\n",
       "      <td>deli</td>\n",
       "      <td>0.89</td>\n",
       "    </tr>\n",
       "    <tr>\n",
       "      <th>39</th>\n",
       "      <td>20</td>\n",
       "      <td>860,829.81</td>\n",
       "      <td>Pet Owners</td>\n",
       "      <td>8,177,352.00</td>\n",
       "      <td>deli</td>\n",
       "      <td>0.11</td>\n",
       "    </tr>\n",
       "    <tr>\n",
       "      <th>40</th>\n",
       "      <td>21</td>\n",
       "      <td>534,163.38</td>\n",
       "      <td>Other Users</td>\n",
       "      <td>598,845.19</td>\n",
       "      <td>missing</td>\n",
       "      <td>0.89</td>\n",
       "    </tr>\n",
       "    <tr>\n",
       "      <th>41</th>\n",
       "      <td>21</td>\n",
       "      <td>64,681.80</td>\n",
       "      <td>Pet Owners</td>\n",
       "      <td>598,845.19</td>\n",
       "      <td>missing</td>\n",
       "      <td>0.11</td>\n",
       "    </tr>\n",
       "  </tbody>\n",
       "</table>\n",
       "</div>"
      ],
      "text/plain": [
       "    department_id   total_spent profile_flag  total_spent_in_dept  \\\n",
       "0               1 15,022,251.00  Other Users        17,289,206.00   \n",
       "1               1  2,266,955.75   Pet Owners        17,289,206.00   \n",
       "2               2    212,625.09  Other Users           253,708.00   \n",
       "3               2     41,082.90   Pet Owners           253,708.00   \n",
       "4               3  8,106,579.50  Other Users         9,208,026.00   \n",
       "5               3  1,101,446.50   Pet Owners         9,208,026.00   \n",
       "6               4 69,340,936.00  Other Users        75,660,936.00   \n",
       "7               4  6,320,002.50   Pet Owners        75,660,936.00   \n",
       "8               5  1,031,468.50  Other Users         1,251,654.25   \n",
       "9               5    220,185.80   Pet Owners         1,251,654.25   \n",
       "10              6  1,826,746.75  Other Users         2,068,472.75   \n",
       "11              6    241,726.00   Pet Owners         2,068,472.75   \n",
       "12              7 18,109,162.00  Other Users        20,646,084.00   \n",
       "13              7  2,536,921.75   Pet Owners        20,646,084.00   \n",
       "14              8          0.00  Other Users           770,888.38   \n",
       "15              8    770,888.38   Pet Owners           770,888.38   \n",
       "16              9  5,602,944.00  Other Users         6,369,953.50   \n",
       "17              9    767,009.50   Pet Owners         6,369,953.50   \n",
       "18             10    271,750.78  Other Users           288,648.59   \n",
       "19             10     16,897.80   Pet Owners           288,648.59   \n",
       "20             11  2,950,690.75  Other Users         3,573,172.75   \n",
       "21             11    622,482.00   Pet Owners         3,573,172.75   \n",
       "22             12 10,205,445.00  Other Users        11,551,570.00   \n",
       "23             12  1,346,125.75   Pet Owners        11,551,570.00   \n",
       "24             13 13,286,995.00  Other Users        15,020,661.00   \n",
       "25             13  1,733,665.62   Pet Owners        15,020,661.00   \n",
       "26             14  5,022,695.50  Other Users         5,644,626.00   \n",
       "27             14    621,930.50   Pet Owners         5,644,626.00   \n",
       "28             15  7,065,971.50  Other Users         8,053,132.00   \n",
       "29             15    987,160.69   Pet Owners         8,053,132.00   \n",
       "30             16 40,561,000.00  Other Users        44,954,496.00   \n",
       "31             16  4,393,495.00   Pet Owners        44,954,496.00   \n",
       "32             17  4,420,851.50  Other Users         5,454,352.50   \n",
       "33             17  1,033,501.38   Pet Owners         5,454,352.50   \n",
       "34             18  2,960,261.00  Other Users         3,237,048.50   \n",
       "35             18    276,787.69   Pet Owners         3,237,048.50   \n",
       "36             19 11,014,509.00  Other Users        12,345,538.00   \n",
       "37             19  1,331,029.25   Pet Owners        12,345,538.00   \n",
       "38             20  7,316,522.00  Other Users         8,177,352.00   \n",
       "39             20    860,829.81   Pet Owners         8,177,352.00   \n",
       "40             21    534,163.38  Other Users           598,845.19   \n",
       "41             21     64,681.80   Pet Owners           598,845.19   \n",
       "\n",
       "         department  percent_of_total_dept_sales  \n",
       "0            frozen                         0.87  \n",
       "1            frozen                         0.13  \n",
       "2             other                         0.84  \n",
       "3             other                         0.16  \n",
       "4            bakery                         0.88  \n",
       "5            bakery                         0.12  \n",
       "6           produce                         0.92  \n",
       "7           produce                         0.08  \n",
       "8           alcohol                         0.82  \n",
       "9           alcohol                         0.18  \n",
       "10    international                         0.88  \n",
       "11    international                         0.12  \n",
       "12        beverages                         0.88  \n",
       "13        beverages                         0.12  \n",
       "14             pets                         0.00  \n",
       "15             pets                         1.00  \n",
       "16  dry goods pasta                         0.88  \n",
       "17  dry goods pasta                         0.12  \n",
       "18             bulk                         0.94  \n",
       "19             bulk                         0.06  \n",
       "20    personal care                         0.83  \n",
       "21    personal care                         0.17  \n",
       "22     meat seafood                         0.88  \n",
       "23     meat seafood                         0.12  \n",
       "24           pantry                         0.88  \n",
       "25           pantry                         0.12  \n",
       "26        breakfast                         0.89  \n",
       "27        breakfast                         0.11  \n",
       "28     canned goods                         0.88  \n",
       "29     canned goods                         0.12  \n",
       "30       dairy eggs                         0.90  \n",
       "31       dairy eggs                         0.10  \n",
       "32        household                         0.81  \n",
       "33        household                         0.19  \n",
       "34           babies                         0.91  \n",
       "35           babies                         0.09  \n",
       "36           snacks                         0.89  \n",
       "37           snacks                         0.11  \n",
       "38             deli                         0.89  \n",
       "39             deli                         0.11  \n",
       "40          missing                         0.89  \n",
       "41          missing                         0.11  "
      ]
     },
     "execution_count": 155,
     "metadata": {},
     "output_type": "execute_result"
    }
   ],
   "source": [
    "profile_spend_by_dept"
   ]
  },
  {
   "cell_type": "code",
   "execution_count": 156,
   "id": "573cde54",
   "metadata": {},
   "outputs": [],
   "source": [
    "# Separate out the percentages for each group\n",
    "dept_spend_by_profile = profile_spend_by_dept[profile_spend_by_dept['profile_flag']==profile_label]\n",
    "dept_spend_by_not_profile = profile_spend_by_dept[profile_spend_by_dept['profile_flag']!=profile_label]"
   ]
  },
  {
   "cell_type": "code",
   "execution_count": 157,
   "id": "0b15a777",
   "metadata": {},
   "outputs": [
    {
     "data": {
      "text/html": [
       "<div>\n",
       "<style scoped>\n",
       "    .dataframe tbody tr th:only-of-type {\n",
       "        vertical-align: middle;\n",
       "    }\n",
       "\n",
       "    .dataframe tbody tr th {\n",
       "        vertical-align: top;\n",
       "    }\n",
       "\n",
       "    .dataframe thead th {\n",
       "        text-align: right;\n",
       "    }\n",
       "</style>\n",
       "<table border=\"1\" class=\"dataframe\">\n",
       "  <thead>\n",
       "    <tr style=\"text-align: right;\">\n",
       "      <th></th>\n",
       "      <th>department_id</th>\n",
       "      <th>total_spent</th>\n",
       "      <th>profile_flag</th>\n",
       "      <th>total_spent_in_dept</th>\n",
       "      <th>department</th>\n",
       "      <th>percent_of_total_dept_sales</th>\n",
       "    </tr>\n",
       "  </thead>\n",
       "  <tbody>\n",
       "    <tr>\n",
       "      <th>1</th>\n",
       "      <td>1</td>\n",
       "      <td>2,266,955.75</td>\n",
       "      <td>Pet Owners</td>\n",
       "      <td>17,289,206.00</td>\n",
       "      <td>frozen</td>\n",
       "      <td>0.13</td>\n",
       "    </tr>\n",
       "    <tr>\n",
       "      <th>3</th>\n",
       "      <td>2</td>\n",
       "      <td>41,082.90</td>\n",
       "      <td>Pet Owners</td>\n",
       "      <td>253,708.00</td>\n",
       "      <td>other</td>\n",
       "      <td>0.16</td>\n",
       "    </tr>\n",
       "    <tr>\n",
       "      <th>5</th>\n",
       "      <td>3</td>\n",
       "      <td>1,101,446.50</td>\n",
       "      <td>Pet Owners</td>\n",
       "      <td>9,208,026.00</td>\n",
       "      <td>bakery</td>\n",
       "      <td>0.12</td>\n",
       "    </tr>\n",
       "    <tr>\n",
       "      <th>7</th>\n",
       "      <td>4</td>\n",
       "      <td>6,320,002.50</td>\n",
       "      <td>Pet Owners</td>\n",
       "      <td>75,660,936.00</td>\n",
       "      <td>produce</td>\n",
       "      <td>0.08</td>\n",
       "    </tr>\n",
       "    <tr>\n",
       "      <th>9</th>\n",
       "      <td>5</td>\n",
       "      <td>220,185.80</td>\n",
       "      <td>Pet Owners</td>\n",
       "      <td>1,251,654.25</td>\n",
       "      <td>alcohol</td>\n",
       "      <td>0.18</td>\n",
       "    </tr>\n",
       "  </tbody>\n",
       "</table>\n",
       "</div>"
      ],
      "text/plain": [
       "   department_id  total_spent profile_flag  total_spent_in_dept department  \\\n",
       "1              1 2,266,955.75   Pet Owners        17,289,206.00     frozen   \n",
       "3              2    41,082.90   Pet Owners           253,708.00      other   \n",
       "5              3 1,101,446.50   Pet Owners         9,208,026.00     bakery   \n",
       "7              4 6,320,002.50   Pet Owners        75,660,936.00    produce   \n",
       "9              5   220,185.80   Pet Owners         1,251,654.25    alcohol   \n",
       "\n",
       "   percent_of_total_dept_sales  \n",
       "1                         0.13  \n",
       "3                         0.16  \n",
       "5                         0.12  \n",
       "7                         0.08  \n",
       "9                         0.18  "
      ]
     },
     "execution_count": 157,
     "metadata": {},
     "output_type": "execute_result"
    }
   ],
   "source": [
    "dept_spend_by_profile.head()"
   ]
  },
  {
   "cell_type": "code",
   "execution_count": 158,
   "id": "05d1e279",
   "metadata": {},
   "outputs": [
    {
     "data": {
      "text/html": [
       "<div>\n",
       "<style scoped>\n",
       "    .dataframe tbody tr th:only-of-type {\n",
       "        vertical-align: middle;\n",
       "    }\n",
       "\n",
       "    .dataframe tbody tr th {\n",
       "        vertical-align: top;\n",
       "    }\n",
       "\n",
       "    .dataframe thead th {\n",
       "        text-align: right;\n",
       "    }\n",
       "</style>\n",
       "<table border=\"1\" class=\"dataframe\">\n",
       "  <thead>\n",
       "    <tr style=\"text-align: right;\">\n",
       "      <th></th>\n",
       "      <th>department_id</th>\n",
       "      <th>total_spent</th>\n",
       "      <th>profile_flag</th>\n",
       "      <th>total_spent_in_dept</th>\n",
       "      <th>department</th>\n",
       "      <th>percent_of_total_dept_sales</th>\n",
       "    </tr>\n",
       "  </thead>\n",
       "  <tbody>\n",
       "    <tr>\n",
       "      <th>0</th>\n",
       "      <td>1</td>\n",
       "      <td>15,022,251.00</td>\n",
       "      <td>Other Users</td>\n",
       "      <td>17,289,206.00</td>\n",
       "      <td>frozen</td>\n",
       "      <td>0.87</td>\n",
       "    </tr>\n",
       "    <tr>\n",
       "      <th>2</th>\n",
       "      <td>2</td>\n",
       "      <td>212,625.09</td>\n",
       "      <td>Other Users</td>\n",
       "      <td>253,708.00</td>\n",
       "      <td>other</td>\n",
       "      <td>0.84</td>\n",
       "    </tr>\n",
       "    <tr>\n",
       "      <th>4</th>\n",
       "      <td>3</td>\n",
       "      <td>8,106,579.50</td>\n",
       "      <td>Other Users</td>\n",
       "      <td>9,208,026.00</td>\n",
       "      <td>bakery</td>\n",
       "      <td>0.88</td>\n",
       "    </tr>\n",
       "    <tr>\n",
       "      <th>6</th>\n",
       "      <td>4</td>\n",
       "      <td>69,340,936.00</td>\n",
       "      <td>Other Users</td>\n",
       "      <td>75,660,936.00</td>\n",
       "      <td>produce</td>\n",
       "      <td>0.92</td>\n",
       "    </tr>\n",
       "    <tr>\n",
       "      <th>8</th>\n",
       "      <td>5</td>\n",
       "      <td>1,031,468.50</td>\n",
       "      <td>Other Users</td>\n",
       "      <td>1,251,654.25</td>\n",
       "      <td>alcohol</td>\n",
       "      <td>0.82</td>\n",
       "    </tr>\n",
       "  </tbody>\n",
       "</table>\n",
       "</div>"
      ],
      "text/plain": [
       "   department_id   total_spent profile_flag  total_spent_in_dept department  \\\n",
       "0              1 15,022,251.00  Other Users        17,289,206.00     frozen   \n",
       "2              2    212,625.09  Other Users           253,708.00      other   \n",
       "4              3  8,106,579.50  Other Users         9,208,026.00     bakery   \n",
       "6              4 69,340,936.00  Other Users        75,660,936.00    produce   \n",
       "8              5  1,031,468.50  Other Users         1,251,654.25    alcohol   \n",
       "\n",
       "   percent_of_total_dept_sales  \n",
       "0                         0.87  \n",
       "2                         0.84  \n",
       "4                         0.88  \n",
       "6                         0.92  \n",
       "8                         0.82  "
      ]
     },
     "execution_count": 158,
     "metadata": {},
     "output_type": "execute_result"
    }
   ],
   "source": [
    "dept_spend_by_not_profile.head()"
   ]
  },
  {
   "cell_type": "code",
   "execution_count": 159,
   "id": "30212574",
   "metadata": {},
   "outputs": [],
   "source": [
    "# Create filename for export\n",
    "filename = profile+'_prop_total_sales_bar.png'"
   ]
  },
  {
   "cell_type": "code",
   "execution_count": 160,
   "id": "2882cf12",
   "metadata": {},
   "outputs": [
    {
     "data": {
      "text/plain": [
       "'pet_owner_prop_total_sales_bar.png'"
      ]
     },
     "execution_count": 160,
     "metadata": {},
     "output_type": "execute_result"
    }
   ],
   "source": [
    "filename"
   ]
  },
  {
   "cell_type": "code",
   "execution_count": 161,
   "id": "84fb778d",
   "metadata": {
    "scrolled": true
   },
   "outputs": [
    {
     "data": {
      "image/png": "[encoded data removed]",
      "text/plain": [
       "<Figure size 640x480 with 1 Axes>"
      ]
     },
     "metadata": {},
     "output_type": "display_data"
    }
   ],
   "source": [
    "# List departments\n",
    "y = dept_spend_by_profile['department']\n",
    "\n",
    "# Define the length for the x-axis\n",
    "y_axis=np.arange(len(y))\n",
    "\n",
    "plt.barh(y_axis - 0.2, \n",
    "         dept_spend_by_profile['percent_of_total_dept_sales'], \n",
    "         0.4, \n",
    "         label = profile_label, \n",
    "         color='deepskyblue')\n",
    "plt.barh(y_axis + 0.2, \n",
    "         dept_spend_by_not_profile['percent_of_total_dept_sales'], \n",
    "         0.4, \n",
    "         label = not_profile_label, \n",
    "         color='grey')\n",
    "\n",
    "plt.yticks(y_axis, y)\n",
    "plt.xlabel(\"Proportion of total sales\", size=12)\n",
    "plt.ylabel(\"Departments\", size=12)\n",
    "plt.title(\"Pet owners account for a higher than expected proportion\\nof sales across all departments except bulk.\", size=16)\n",
    "plt.legend()\n",
    "\n",
    "# Exporting bar chart\n",
    "plt.savefig(os.path.join(path, '04 Analysis','Visualizations', filename),bbox_inches='tight', pad_inches=0.2)\n",
    "\n",
    "plt.show()"
   ]
  },
  {
   "cell_type": "code",
   "execution_count": 162,
   "id": "2ceaa372",
   "metadata": {},
   "outputs": [],
   "source": [
    "# Reclaim space\n",
    "del dept_spend_by_profile\n",
    "del dept_spend_by_not_profile\n",
    "del profile_spend_by_dept"
   ]
  },
  {
   "cell_type": "code",
   "execution_count": null,
   "id": "643f9c2b",
   "metadata": {},
   "outputs": [],
   "source": []
  }
 ],
 "metadata": {
  "kernelspec": {
   "display_name": "Python 3 (ipykernel)",
   "language": "python",
   "name": "python3"
  },
  "language_info": {
   "codemirror_mode": {
    "name": "ipython",
    "version": 3
   },
   "file_extension": ".py",
   "mimetype": "text/x-python",
   "name": "python",
   "nbconvert_exporter": "python",
   "pygments_lexer": "ipython3",
   "version": "3.9.13"
  }
 },
 "nbformat": 4,
 "nbformat_minor": 5
}
